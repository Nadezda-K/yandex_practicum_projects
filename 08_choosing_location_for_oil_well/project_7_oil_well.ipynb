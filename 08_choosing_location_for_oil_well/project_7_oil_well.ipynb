{
 "cells": [
  {
   "cell_type": "markdown",
   "id": "45793eeb",
   "metadata": {},
   "source": [
    "# Определение наиболее выгодного региона нефтедобычи"
   ]
  },
  {
   "cell_type": "markdown",
   "id": "0398eb59",
   "metadata": {},
   "source": [
    "## Содержание\n",
    "1. [Описание проекта](#id_description)\n",
    "2. [Загрузка и подготовка данных](#id_preprocessing)\n",
    "3. [Обучение и проверка модели](#id_learning)\n",
    "4. [Подготовка к расчёту прибыли](#id_benifit_calc)\n",
    "5. [Расчёт прибыли и рисков](#id_risk_benifit)\n",
    "6. [Общий вывод](#id_conclusion)"
   ]
  },
  {
   "cell_type": "markdown",
   "id": "250620cb",
   "metadata": {},
   "source": [
    "## Описание проекта\n",
    "<a id=\"id_description\"></a>\n",
    "\n",
    "**Описание проекта**\n",
    "\n",
    "Допустим, вы работаете в добывающей компании «ГлавРосГосНефть». Нужно решить, где бурить новую скважину.\n",
    "\n",
    "Вам предоставлены пробы нефти в трёх регионах: в каждом 10 000 месторождений, где измерили качество нефти и объём её запасов. Постройте модель машинного обучения, которая поможет определить регион, где добыча принесёт наибольшую прибыль. Проанализируйте возможную прибыль и риски техникой *Bootstrap.*\n",
    "\n",
    "Шаги для выбора локации:\n",
    "\n",
    "- В избранном регионе ищут месторождения, для каждого определяют значения признаков;\n",
    "- Строят модель и оценивают объём запасов;\n",
    "- Выбирают месторождения с самым высокими оценками значений. Количество месторождений зависит от бюджета компании и стоимости разработки одной скважины;\n",
    "- Прибыль равна суммарной прибыли отобранных месторождений.\n",
    "\n",
    "**Описание данных**\n",
    "\n",
    "Данные геологоразведки трёх регионов находятся в файлах:\n",
    "\n",
    "   - /datasets/geo_data_0.csv\n",
    "   - /datasets/geo_data_1.csv\n",
    "   - /datasets/geo_data_2.csv\n",
    "   - id — уникальный идентификатор скважины;\n",
    "   - f0, f1, f2 — три признака точек (неважно, что они означают, но сами признаки значимы);\n",
    "   - product — объём запасов в скважине (тыс. баррелей).\n",
    "\n",
    "Условия задачи:\n",
    "\n",
    "   - Для обучения модели подходит только линейная регрессия (остальные — недостаточно предсказуемые).\n",
    "   - При разведке региона исследуют 500 точек, из которых с помощью машинного обучения выбирают 200 лучших для разработки.\n",
    "   - Бюджет на разработку скважин в регионе — 10 млрд рублей.\n",
    "   - При нынешних ценах один баррель сырья приносит 450 рублей дохода. Доход с каждой единицы продукта составляет 450 тыс. рублей, поскольку объём указан в тысячах баррелей.\n",
    "   - После оценки рисков нужно оставить лишь те регионы, в которых вероятность убытков меньше 2.5%. Среди них выбирают регион с наибольшей средней прибылью.\n",
    "\n",
    "Данные синтетические: детали контрактов и характеристики месторождений не разглашаются."
   ]
  },
  {
   "cell_type": "code",
   "execution_count": 1,
   "id": "98087801",
   "metadata": {},
   "outputs": [],
   "source": [
    "# импорт необходимых библиотек\n",
    "import pandas as pd\n",
    "import numpy as np\n",
    "import matplotlib.pyplot as plt\n",
    "\n",
    "from sklearn.model_selection import train_test_split\n",
    "from sklearn.preprocessing import StandardScaler\n",
    "\n",
    "from sklearn.linear_model import LinearRegression\n",
    "\n",
    "from sklearn.metrics import mean_squared_error"
   ]
  },
  {
   "cell_type": "markdown",
   "id": "ce715f70",
   "metadata": {},
   "source": []
  },
  {
   "cell_type": "markdown",
   "id": "155a0f25",
   "metadata": {},
   "source": [
    "## Загрузка и подготовка данных\n",
    "<a id=\"id_preprocessing\"></a>"
   ]
  },
  {
   "cell_type": "code",
   "execution_count": 2,
   "id": "ac186628",
   "metadata": {},
   "outputs": [],
   "source": [
    "# загрузка данных\n",
    "try:\n",
    "    geo_0 = pd.read_csv('data-files/geo_data_0.csv')  # Локальный путь\n",
    "    geo_1 = pd.read_csv('data-files/geo_data_1.csv')  # Локальный путь\n",
    "    geo_2 = pd.read_csv('data-files/geo_data_2.csv')  # Локальный путь\n",
    "#    df_churn = pd.read_csv('data-files/Churn.csv',index_col='RowNumber')  # Локальный путь\n",
    "except:\n",
    "    geo_0 = pd.read_csv('/datasets/geo_data_0.csv') # Серверный путь\n",
    "    geo_1 = pd.read_csv('/datasets/geo_data_1.csv') # Серверный путь\n",
    "    geo_2 = pd.read_csv('/datasets/geo_data_2.csv') # Серверный путь\n",
    "#    df_churn = pd.read_csv('/datasets/Churn.csv',index_col='RowNumber')  # Серверный путь"
   ]
  },
  {
   "cell_type": "markdown",
   "id": "69cc6885",
   "metadata": {},
   "source": [
    "Посмотрим данные"
   ]
  },
  {
   "cell_type": "code",
   "execution_count": 3,
   "id": "b82584fb",
   "metadata": {},
   "outputs": [
    {
     "name": "stdout",
     "output_type": "stream",
     "text": [
      "<class 'pandas.core.frame.DataFrame'>\n",
      "RangeIndex: 100000 entries, 0 to 99999\n",
      "Data columns (total 5 columns):\n",
      " #   Column   Non-Null Count   Dtype  \n",
      "---  ------   --------------   -----  \n",
      " 0   id       100000 non-null  object \n",
      " 1   f0       100000 non-null  float64\n",
      " 2   f1       100000 non-null  float64\n",
      " 3   f2       100000 non-null  float64\n",
      " 4   product  100000 non-null  float64\n",
      "dtypes: float64(4), object(1)\n",
      "memory usage: 3.8+ MB\n",
      "\n",
      "Количество явных дубликатов: 0\n"
     ]
    },
    {
     "data": {
      "text/html": [
       "<div>\n",
       "<style scoped>\n",
       "    .dataframe tbody tr th:only-of-type {\n",
       "        vertical-align: middle;\n",
       "    }\n",
       "\n",
       "    .dataframe tbody tr th {\n",
       "        vertical-align: top;\n",
       "    }\n",
       "\n",
       "    .dataframe thead th {\n",
       "        text-align: right;\n",
       "    }\n",
       "</style>\n",
       "<table border=\"1\" class=\"dataframe\">\n",
       "  <thead>\n",
       "    <tr style=\"text-align: right;\">\n",
       "      <th></th>\n",
       "      <th>f0</th>\n",
       "      <th>f1</th>\n",
       "      <th>f2</th>\n",
       "      <th>product</th>\n",
       "    </tr>\n",
       "  </thead>\n",
       "  <tbody>\n",
       "    <tr>\n",
       "      <th>count</th>\n",
       "      <td>100000.000000</td>\n",
       "      <td>100000.000000</td>\n",
       "      <td>100000.000000</td>\n",
       "      <td>100000.000000</td>\n",
       "    </tr>\n",
       "    <tr>\n",
       "      <th>mean</th>\n",
       "      <td>0.500419</td>\n",
       "      <td>0.250143</td>\n",
       "      <td>2.502647</td>\n",
       "      <td>92.500000</td>\n",
       "    </tr>\n",
       "    <tr>\n",
       "      <th>std</th>\n",
       "      <td>0.871832</td>\n",
       "      <td>0.504433</td>\n",
       "      <td>3.248248</td>\n",
       "      <td>44.288691</td>\n",
       "    </tr>\n",
       "    <tr>\n",
       "      <th>min</th>\n",
       "      <td>-1.408605</td>\n",
       "      <td>-0.848218</td>\n",
       "      <td>-12.088328</td>\n",
       "      <td>0.000000</td>\n",
       "    </tr>\n",
       "    <tr>\n",
       "      <th>25%</th>\n",
       "      <td>-0.072580</td>\n",
       "      <td>-0.200881</td>\n",
       "      <td>0.287748</td>\n",
       "      <td>56.497507</td>\n",
       "    </tr>\n",
       "    <tr>\n",
       "      <th>50%</th>\n",
       "      <td>0.502360</td>\n",
       "      <td>0.250252</td>\n",
       "      <td>2.515969</td>\n",
       "      <td>91.849972</td>\n",
       "    </tr>\n",
       "    <tr>\n",
       "      <th>75%</th>\n",
       "      <td>1.073581</td>\n",
       "      <td>0.700646</td>\n",
       "      <td>4.715088</td>\n",
       "      <td>128.564089</td>\n",
       "    </tr>\n",
       "    <tr>\n",
       "      <th>max</th>\n",
       "      <td>2.362331</td>\n",
       "      <td>1.343769</td>\n",
       "      <td>16.003790</td>\n",
       "      <td>185.364347</td>\n",
       "    </tr>\n",
       "  </tbody>\n",
       "</table>\n",
       "</div>"
      ],
      "text/plain": [
       "                  f0             f1             f2        product\n",
       "count  100000.000000  100000.000000  100000.000000  100000.000000\n",
       "mean        0.500419       0.250143       2.502647      92.500000\n",
       "std         0.871832       0.504433       3.248248      44.288691\n",
       "min        -1.408605      -0.848218     -12.088328       0.000000\n",
       "25%        -0.072580      -0.200881       0.287748      56.497507\n",
       "50%         0.502360       0.250252       2.515969      91.849972\n",
       "75%         1.073581       0.700646       4.715088     128.564089\n",
       "max         2.362331       1.343769      16.003790     185.364347"
      ]
     },
     "execution_count": 3,
     "metadata": {},
     "output_type": "execute_result"
    }
   ],
   "source": [
    "geo_0.info()\n",
    "print()\n",
    "print('Количество явных дубликатов:',geo_0.duplicated().sum())\n",
    "geo_0.describe()"
   ]
  },
  {
   "cell_type": "code",
   "execution_count": 4,
   "id": "2d0242d9",
   "metadata": {},
   "outputs": [
    {
     "name": "stdout",
     "output_type": "stream",
     "text": [
      "<class 'pandas.core.frame.DataFrame'>\n",
      "RangeIndex: 100000 entries, 0 to 99999\n",
      "Data columns (total 5 columns):\n",
      " #   Column   Non-Null Count   Dtype  \n",
      "---  ------   --------------   -----  \n",
      " 0   id       100000 non-null  object \n",
      " 1   f0       100000 non-null  float64\n",
      " 2   f1       100000 non-null  float64\n",
      " 3   f2       100000 non-null  float64\n",
      " 4   product  100000 non-null  float64\n",
      "dtypes: float64(4), object(1)\n",
      "memory usage: 3.8+ MB\n",
      "\n",
      "Количество явных дубликатов: 0\n"
     ]
    },
    {
     "data": {
      "text/html": [
       "<div>\n",
       "<style scoped>\n",
       "    .dataframe tbody tr th:only-of-type {\n",
       "        vertical-align: middle;\n",
       "    }\n",
       "\n",
       "    .dataframe tbody tr th {\n",
       "        vertical-align: top;\n",
       "    }\n",
       "\n",
       "    .dataframe thead th {\n",
       "        text-align: right;\n",
       "    }\n",
       "</style>\n",
       "<table border=\"1\" class=\"dataframe\">\n",
       "  <thead>\n",
       "    <tr style=\"text-align: right;\">\n",
       "      <th></th>\n",
       "      <th>f0</th>\n",
       "      <th>f1</th>\n",
       "      <th>f2</th>\n",
       "      <th>product</th>\n",
       "    </tr>\n",
       "  </thead>\n",
       "  <tbody>\n",
       "    <tr>\n",
       "      <th>count</th>\n",
       "      <td>100000.000000</td>\n",
       "      <td>100000.000000</td>\n",
       "      <td>100000.000000</td>\n",
       "      <td>100000.000000</td>\n",
       "    </tr>\n",
       "    <tr>\n",
       "      <th>mean</th>\n",
       "      <td>1.141296</td>\n",
       "      <td>-4.796579</td>\n",
       "      <td>2.494541</td>\n",
       "      <td>68.825000</td>\n",
       "    </tr>\n",
       "    <tr>\n",
       "      <th>std</th>\n",
       "      <td>8.965932</td>\n",
       "      <td>5.119872</td>\n",
       "      <td>1.703572</td>\n",
       "      <td>45.944423</td>\n",
       "    </tr>\n",
       "    <tr>\n",
       "      <th>min</th>\n",
       "      <td>-31.609576</td>\n",
       "      <td>-26.358598</td>\n",
       "      <td>-0.018144</td>\n",
       "      <td>0.000000</td>\n",
       "    </tr>\n",
       "    <tr>\n",
       "      <th>25%</th>\n",
       "      <td>-6.298551</td>\n",
       "      <td>-8.267985</td>\n",
       "      <td>1.000021</td>\n",
       "      <td>26.953261</td>\n",
       "    </tr>\n",
       "    <tr>\n",
       "      <th>50%</th>\n",
       "      <td>1.153055</td>\n",
       "      <td>-4.813172</td>\n",
       "      <td>2.011479</td>\n",
       "      <td>57.085625</td>\n",
       "    </tr>\n",
       "    <tr>\n",
       "      <th>75%</th>\n",
       "      <td>8.621015</td>\n",
       "      <td>-1.332816</td>\n",
       "      <td>3.999904</td>\n",
       "      <td>107.813044</td>\n",
       "    </tr>\n",
       "    <tr>\n",
       "      <th>max</th>\n",
       "      <td>29.421755</td>\n",
       "      <td>18.734063</td>\n",
       "      <td>5.019721</td>\n",
       "      <td>137.945408</td>\n",
       "    </tr>\n",
       "  </tbody>\n",
       "</table>\n",
       "</div>"
      ],
      "text/plain": [
       "                  f0             f1             f2        product\n",
       "count  100000.000000  100000.000000  100000.000000  100000.000000\n",
       "mean        1.141296      -4.796579       2.494541      68.825000\n",
       "std         8.965932       5.119872       1.703572      45.944423\n",
       "min       -31.609576     -26.358598      -0.018144       0.000000\n",
       "25%        -6.298551      -8.267985       1.000021      26.953261\n",
       "50%         1.153055      -4.813172       2.011479      57.085625\n",
       "75%         8.621015      -1.332816       3.999904     107.813044\n",
       "max        29.421755      18.734063       5.019721     137.945408"
      ]
     },
     "execution_count": 4,
     "metadata": {},
     "output_type": "execute_result"
    }
   ],
   "source": [
    "geo_1.info()\n",
    "print()\n",
    "print('Количество явных дубликатов:',geo_1.duplicated().sum())\n",
    "geo_1.describe()"
   ]
  },
  {
   "cell_type": "code",
   "execution_count": 5,
   "id": "cfa164f7",
   "metadata": {},
   "outputs": [
    {
     "name": "stdout",
     "output_type": "stream",
     "text": [
      "<class 'pandas.core.frame.DataFrame'>\n",
      "RangeIndex: 100000 entries, 0 to 99999\n",
      "Data columns (total 5 columns):\n",
      " #   Column   Non-Null Count   Dtype  \n",
      "---  ------   --------------   -----  \n",
      " 0   id       100000 non-null  object \n",
      " 1   f0       100000 non-null  float64\n",
      " 2   f1       100000 non-null  float64\n",
      " 3   f2       100000 non-null  float64\n",
      " 4   product  100000 non-null  float64\n",
      "dtypes: float64(4), object(1)\n",
      "memory usage: 3.8+ MB\n",
      "\n",
      "Количество явных дубликатов: 0\n"
     ]
    },
    {
     "data": {
      "text/html": [
       "<div>\n",
       "<style scoped>\n",
       "    .dataframe tbody tr th:only-of-type {\n",
       "        vertical-align: middle;\n",
       "    }\n",
       "\n",
       "    .dataframe tbody tr th {\n",
       "        vertical-align: top;\n",
       "    }\n",
       "\n",
       "    .dataframe thead th {\n",
       "        text-align: right;\n",
       "    }\n",
       "</style>\n",
       "<table border=\"1\" class=\"dataframe\">\n",
       "  <thead>\n",
       "    <tr style=\"text-align: right;\">\n",
       "      <th></th>\n",
       "      <th>f0</th>\n",
       "      <th>f1</th>\n",
       "      <th>f2</th>\n",
       "      <th>product</th>\n",
       "    </tr>\n",
       "  </thead>\n",
       "  <tbody>\n",
       "    <tr>\n",
       "      <th>count</th>\n",
       "      <td>100000.000000</td>\n",
       "      <td>100000.000000</td>\n",
       "      <td>100000.000000</td>\n",
       "      <td>100000.000000</td>\n",
       "    </tr>\n",
       "    <tr>\n",
       "      <th>mean</th>\n",
       "      <td>0.002023</td>\n",
       "      <td>-0.002081</td>\n",
       "      <td>2.495128</td>\n",
       "      <td>95.000000</td>\n",
       "    </tr>\n",
       "    <tr>\n",
       "      <th>std</th>\n",
       "      <td>1.732045</td>\n",
       "      <td>1.730417</td>\n",
       "      <td>3.473445</td>\n",
       "      <td>44.749921</td>\n",
       "    </tr>\n",
       "    <tr>\n",
       "      <th>min</th>\n",
       "      <td>-8.760004</td>\n",
       "      <td>-7.084020</td>\n",
       "      <td>-11.970335</td>\n",
       "      <td>0.000000</td>\n",
       "    </tr>\n",
       "    <tr>\n",
       "      <th>25%</th>\n",
       "      <td>-1.162288</td>\n",
       "      <td>-1.174820</td>\n",
       "      <td>0.130359</td>\n",
       "      <td>59.450441</td>\n",
       "    </tr>\n",
       "    <tr>\n",
       "      <th>50%</th>\n",
       "      <td>0.009424</td>\n",
       "      <td>-0.009482</td>\n",
       "      <td>2.484236</td>\n",
       "      <td>94.925613</td>\n",
       "    </tr>\n",
       "    <tr>\n",
       "      <th>75%</th>\n",
       "      <td>1.158535</td>\n",
       "      <td>1.163678</td>\n",
       "      <td>4.858794</td>\n",
       "      <td>130.595027</td>\n",
       "    </tr>\n",
       "    <tr>\n",
       "      <th>max</th>\n",
       "      <td>7.238262</td>\n",
       "      <td>7.844801</td>\n",
       "      <td>16.739402</td>\n",
       "      <td>190.029838</td>\n",
       "    </tr>\n",
       "  </tbody>\n",
       "</table>\n",
       "</div>"
      ],
      "text/plain": [
       "                  f0             f1             f2        product\n",
       "count  100000.000000  100000.000000  100000.000000  100000.000000\n",
       "mean        0.002023      -0.002081       2.495128      95.000000\n",
       "std         1.732045       1.730417       3.473445      44.749921\n",
       "min        -8.760004      -7.084020     -11.970335       0.000000\n",
       "25%        -1.162288      -1.174820       0.130359      59.450441\n",
       "50%         0.009424      -0.009482       2.484236      94.925613\n",
       "75%         1.158535       1.163678       4.858794     130.595027\n",
       "max         7.238262       7.844801      16.739402     190.029838"
      ]
     },
     "execution_count": 5,
     "metadata": {},
     "output_type": "execute_result"
    }
   ],
   "source": [
    "geo_2.info()\n",
    "print()\n",
    "print('Количество явных дубликатов:',geo_2.duplicated().sum())\n",
    "geo_2.describe()"
   ]
  },
  {
   "cell_type": "markdown",
   "id": "dfa7c960",
   "metadata": {},
   "source": [
    "Разделим данные на валидационную и обучающую выборки:"
   ]
  },
  {
   "cell_type": "code",
   "execution_count": 6,
   "id": "1a01deec",
   "metadata": {},
   "outputs": [],
   "source": [
    "valid_size = 0.25\n",
    "features_name = ['f0','f1','f2']\n",
    "target_name = 'product'"
   ]
  },
  {
   "cell_type": "code",
   "execution_count": 7,
   "id": "041a34c7",
   "metadata": {},
   "outputs": [],
   "source": [
    "def split_stand(data,features_name,target_name,valid_size):\n",
    "    features = data[features_name]\n",
    "    target = data[target_name]\n",
    "    \n",
    "    # Разбивка на обучающую и валидационную выборки\n",
    "    features_train, features_valid, target_train, target_valid = train_test_split(features,\n",
    "                                                                                  target,\n",
    "                                                                                  test_size=valid_size,\n",
    "                                                                                  random_state=112345\n",
    "                                                                                 )\n",
    "    # стандартизация\n",
    "    scaler = StandardScaler()\n",
    "    scaler.fit(features_train) \n",
    "    features_train = scaler.transform(features_train)\n",
    "    features_valid = scaler.transform(features_valid)\n",
    "        \n",
    "    # Проверка на соответсвие размеров выборок\n",
    "    print()\n",
    "    print('Размер валидационной выборки:')\n",
    "    print('features:',features_valid.shape)\n",
    "    print('target:',target_valid.shape)\n",
    "\n",
    "    print('Размер обучающей выборки:')\n",
    "    print('features:',features_train.shape)\n",
    "    print('target:',target_train.shape)\n",
    "    \n",
    "    return features_train, features_valid, target_train, target_valid"
   ]
  },
  {
   "cell_type": "code",
   "execution_count": 8,
   "id": "f552e774",
   "metadata": {},
   "outputs": [
    {
     "name": "stdout",
     "output_type": "stream",
     "text": [
      "Разбивка на обучающую и валидационную выборки + стандартизация для данных geo_0\n",
      "\n",
      "Размер валидационной выборки:\n",
      "features: (25000, 3)\n",
      "target: (25000,)\n",
      "Размер обучающей выборки:\n",
      "features: (75000, 3)\n",
      "target: (75000,)\n",
      "\n",
      "Разбивка на обучающую и валидационную выборки + стандартизация для данных geo_1\n",
      "\n",
      "Размер валидационной выборки:\n",
      "features: (25000, 3)\n",
      "target: (25000,)\n",
      "Размер обучающей выборки:\n",
      "features: (75000, 3)\n",
      "target: (75000,)\n",
      "\n",
      "Разбивка на обучающую и валидационную выборки + стандартизация для данных geo_2\n",
      "\n",
      "Размер валидационной выборки:\n",
      "features: (25000, 3)\n",
      "target: (25000,)\n",
      "Размер обучающей выборки:\n",
      "features: (75000, 3)\n",
      "target: (75000,)\n"
     ]
    }
   ],
   "source": [
    "print('Разбивка на обучающую и валидационную выборки + стандартизация для данных geo_0')\n",
    "features_train_0, features_valid_0, target_train_0, target_valid_0 = split_stand(geo_0, \n",
    "                                                                                 features_name, \n",
    "                                                                                 target_name, \n",
    "                                                                                 valid_size)\n",
    "print()\n",
    "print('Разбивка на обучающую и валидационную выборки + стандартизация для данных geo_1')\n",
    "features_train_1, features_valid_1, target_train_1, target_valid_1 = split_stand(geo_1, \n",
    "                                                                                 features_name, \n",
    "                                                                                 target_name, \n",
    "                                                                                 valid_size)\n",
    "print()\n",
    "print('Разбивка на обучающую и валидационную выборки + стандартизация для данных geo_2')\n",
    "features_train_2, features_valid_2, target_train_2, target_valid_2 = split_stand(geo_2, \n",
    "                                                                                 features_name, \n",
    "                                                                                 target_name, \n",
    "                                                                                 valid_size)"
   ]
  },
  {
   "cell_type": "markdown",
   "id": "24288c6d",
   "metadata": {},
   "source": [
    "**Вывод**\n",
    "\n",
    "Имеются три набора данных о месторождениях нефти в трёх регионах: в каждом наборе 10 000 месторождений и для каждого месторождения в данных есть уникальный идентификатор (id), три параметра качества нефти (f0, f1, f2) и объём её запасов (product).\n",
    "\n",
    "Данные чистые, без аномалий и дубликатов и не требуют предобработки.\n",
    "\n",
    "Для дальнейшего исследования данные были стандартизированы и поделены на обучающую и валидационную выборки (в соотношении 3:1).\n",
    "\n"
   ]
  },
  {
   "cell_type": "markdown",
   "id": "0e412880",
   "metadata": {},
   "source": [
    "## Обучение и проверка модели\n",
    "<a id=\"id_learning\"></a>"
   ]
  },
  {
   "cell_type": "code",
   "execution_count": 9,
   "id": "8dc5c760",
   "metadata": {},
   "outputs": [],
   "source": [
    "def prediction(features_train,target_train,features_valid,target_valid):\n",
    "    model = LinearRegression()\n",
    "\n",
    "    model.fit(features_train,target_train)\n",
    "    prediction = model.predict(features_valid)\n",
    "\n",
    "    rmse = mean_squared_error(target_valid,prediction,squared=False)\n",
    "\n",
    "    return prediction,rmse"
   ]
  },
  {
   "cell_type": "code",
   "execution_count": 10,
   "id": "e90fb452",
   "metadata": {},
   "outputs": [
    {
     "name": "stdout",
     "output_type": "stream",
     "text": [
      "Обучение и предсказания линейной регрессии для данных geo_0\n",
      "Средний запас сырья в скважине для валидационной выборки данных geo_0: 92.20\n",
      "RMSE для валидационной выборки данных geo_0: 37.89\n",
      "\n",
      "Обучение и предсказания линейной регрессии для данных geo_1\n",
      "Средний запас сырья в скважине для валидационной выборки данных geo_1: 69.02\n",
      "RMSE для валидационной выборки данных geo_1: 0.88\n",
      "\n",
      "Обучение и предсказания линейной регрессии для данных geo_2\n",
      "Средний запас сырья в скважине для валидационной выборки данных geo_2: 95.00\n",
      "RMSE для валидационной выборки данных geo_2: 39.91\n"
     ]
    }
   ],
   "source": [
    "print('Обучение и предсказания линейной регрессии для данных geo_0')\n",
    "prediction_valid_0,rmse_0 = prediction(features_train_0,\n",
    "                                 target_train_0,\n",
    "                                 features_valid_0,\n",
    "                                 target_valid_0)\n",
    "print(\"Средний запас сырья в скважине для валидационной выборки данных geo_0: {:,.2f}\".format(prediction_valid_0.mean()))\n",
    "print(\"RMSE для валидационной выборки данных geo_0: {:,.2f}\".format(rmse_0))\n",
    "\n",
    "print()\n",
    "print('Обучение и предсказания линейной регрессии для данных geo_1')\n",
    "prediction_valid_1,rmse_1 = prediction(features_train_1,\n",
    "                                       target_train_1,\n",
    "                                       features_valid_1,\n",
    "                                       target_valid_1)\n",
    "print(\"Средний запас сырья в скважине для валидационной выборки данных geo_1: {:,.2f}\".format(prediction_valid_1.mean()))\n",
    "print(\"RMSE для валидационной выборки данных geo_1: {:,.2f}\".format(rmse_1))\n",
    "\n",
    "print()\n",
    "print('Обучение и предсказания линейной регрессии для данных geo_2')\n",
    "prediction_valid_2,rmse_2 = prediction(features_train_2,\n",
    "                                       target_train_2,\n",
    "                                       features_valid_2,\n",
    "                                       target_valid_2)\n",
    "print(\"Средний запас сырья в скважине для валидационной выборки данных geo_2: {:,.2f}\".format(prediction_valid_2.mean()))\n",
    "print(\"RMSE для валидационной выборки данных geo_2: {:,.2f}\".format(rmse_2))"
   ]
  },
  {
   "cell_type": "markdown",
   "metadata": {},
   "source": [
    "**Вывод**\n",
    "\n",
    "Обучена модель линейной регресии на данных для каждого региона, далее с помощью этой модели следаны предсказания для валидационной выборки. На валидационной выборке наименьший уровень ошибки у региона из файла geo_1. Однако, это же регион имеет и наименьшие средние запасы нефти. Наибольшие среднии запасы показывает регион geo_2."
   ]
  },
  {
   "cell_type": "markdown",
   "id": "d2393c79",
   "metadata": {},
   "source": [
    "## Подготовка к расчёту прибыли\n",
    "<a id=\"id_benifit_calc\"></a>"
   ]
  },
  {
   "cell_type": "code",
   "execution_count": 11,
   "id": "bd98008e",
   "metadata": {},
   "outputs": [],
   "source": [
    "# запишем условия в переменных\n",
    "OILWELLS_EXPLORE = 500\n",
    "OILWELLS_EXPLOIT = 200\n",
    "TOTAL_BUDGET = 10_000_000_000\n",
    "PROFIT_PER_KILOBARREL = 450_000\n",
    "RISK_LEVEL = 0.025\n",
    "ONE_OILWELL_BUDGET = TOTAL_BUDGET / OILWELLS_EXPLOIT\n",
    "LOSS_FREE_BARRELS = ONE_OILWELL_BUDGET // PROFIT_PER_KILOBARREL"
   ]
  },
  {
   "cell_type": "code",
   "execution_count": 13,
   "metadata": {},
   "outputs": [
    {
     "name": "stdout",
     "output_type": "stream",
     "text": [
      "Бюджет для разработки одной скважины: 50,000,000.00\n"
     ]
    }
   ],
   "source": [
    "print(\"Бюджет для разработки одной скважины: {:,.2f}\".format(ONE_OILWELL_BUDGET))"
   ]
  },
  {
   "cell_type": "code",
   "execution_count": 14,
   "metadata": {},
   "outputs": [
    {
     "name": "stdout",
     "output_type": "stream",
     "text": [
      "Объём сырья для безубыточной разработки новой скважины (тыс.баррель): 111.00\n"
     ]
    }
   ],
   "source": [
    "print(\"Объём сырья для безубыточной разработки новой скважины (тыс.баррель): {:,.2f}\".format(LOSS_FREE_BARRELS))"
   ]
  },
  {
   "cell_type": "code",
   "execution_count": 15,
   "metadata": {},
   "outputs": [
    {
     "name": "stdout",
     "output_type": "stream",
     "text": [
      "Средний запас сырья в скважине в регионе geo_0 (тыс.баррель): 92.20\n",
      "Средний запас сырья в скважине в регионе geo_1 (тыс.баррель): 69.02\n",
      "Средний запас сырья в скважине в регионе geo_2 (тыс.баррель): 95.00\n"
     ]
    }
   ],
   "source": [
    "print(\"Средний запас сырья в скважине в регионе geo_0 (тыс.баррель): {:,.2f}\".format(prediction_valid_0.mean()))\n",
    "print(\"Средний запас сырья в скважине в регионе geo_1 (тыс.баррель): {:,.2f}\".format(prediction_valid_1.mean()))\n",
    "print(\"Средний запас сырья в скважине в регионе geo_2 (тыс.баррель): {:,.2f}\".format(prediction_valid_2.mean()))"
   ]
  },
  {
   "cell_type": "markdown",
   "metadata": {},
   "source": [
    "**Вывод**\n",
    "\n",
    "Чтобы бурение скважины было безубыточным, запас нефти в месторожении должен быть не менее 111 тыс. баррелей. \n",
    "Однако, средние значения по объемам запасов ниже этого уровня для всех регионов. Осбено низкий средний уровень запасов в регионе geo_1."
   ]
  },
  {
   "cell_type": "markdown",
   "id": "d320eaed",
   "metadata": {},
   "source": [
    "## Расчёт прибыли и рисков \n",
    "<a id=\"id_risk_benifit\"></a>"
   ]
  },
  {
   "cell_type": "code",
   "execution_count": 96,
   "id": "9d08e7a5",
   "metadata": {},
   "outputs": [],
   "source": [
    "# функция для расчёта прибыли по выбранным скважинам и предсказаниям модели:\n",
    "def profit_oilwell(prediction,target):\n",
    "    try:\n",
    "        top_best = pd.concat([pd.Series(prediction),\n",
    "                              target.reset_index(drop=True)],\n",
    "                             axis=1,\n",
    "                             ignore_index=True)\n",
    "    except:\n",
    "        top_best = pd.concat([prediction,target],\n",
    "                             axis=1,\n",
    "                             ignore_index=True)\n",
    "                             \n",
    "    top_best = (top_best.sort_values(by=[0],ascending=False)\n",
    "                [:OILWELLS_EXPLOIT]\n",
    "               )\n",
    "    \n",
    "    total_profit = (top_best[1].sum() *  PROFIT_PER_KILOBARREL) - (ONE_OILWELL_BUDGET * len(top_best[1]))\n",
    "    return total_profit"
   ]
  },
  {
   "cell_type": "code",
   "execution_count": 97,
   "metadata": {},
   "outputs": [
    {
     "name": "stdout",
     "output_type": "stream",
     "text": [
      "Прибыль 200 месторождений в регионе geo_0: 3,098,311,591.85\n",
      "Прибыль 200 месторождений в регионе geo_1: 2,415,086,696.68\n",
      "Прибыль 200 месторождений в регионе geo_2: 2,022,769,164.46\n"
     ]
    }
   ],
   "source": [
    "print(\"Прибыль 200 месторождений в регионе geo_0: {:,.2f}\".format(profit_oilwell(prediction_valid_0,\n",
    "                                                                                 target_valid_0)))\n",
    "\n",
    "print(\"Прибыль 200 месторождений в регионе geo_1: {:,.2f}\".format(profit_oilwell(prediction_valid_1,\n",
    "                                                                                 target_valid_1)))\n",
    "\n",
    "print(\"Прибыль 200 месторождений в регионе geo_2: {:,.2f}\".format(profit_oilwell(prediction_valid_2,\n",
    "                                                                                 target_valid_2)))"
   ]
  },
  {
   "cell_type": "code",
   "execution_count": 108,
   "metadata": {},
   "outputs": [],
   "source": [
    "# функция для расчёта рисков убытков и прибыли с применением bootstrap:\n",
    "def bootstrap_func(prediction,target):\n",
    "    data = pd.concat([pd.Series(prediction),\n",
    "                      target.reset_index(drop=True)],\n",
    "                     axis=1,\n",
    "                     ignore_index=True)\n",
    "    state = np.random.RandomState(12345)\n",
    "    \n",
    "    values = []\n",
    "    for i in range(1000):\n",
    "        subsample = data.sample(n=OILWELLS_EXPLORE, replace=True, random_state=state)\n",
    "        values.append(profit_oilwell(subsample[0],subsample[1]))\n",
    "        \n",
    "    values = pd.Series(values)\n",
    "    lower = values.quantile(0.025)\n",
    "    upper = values.quantile(0.975)\n",
    "    mean = values.mean()\n",
    "   # risk = len(values[values < 0]) / len(values)\n",
    "    risk = (values < 0).mean()\n",
    "    \n",
    "    print(\"Средняя прибыль: {:,.2f} руб.\".format(mean))\n",
    "    print(\"Нижняя граница доверительного интервала: {:,.2f} руб.\".format(lower))\n",
    "    print(\"Верхняя граница доверительного интервала: {:,.2f} руб.\".format(upper))\n",
    "    print(\"Риск убытков: {:,.2%}.\".format(risk))"
   ]
  },
  {
   "cell_type": "code",
   "execution_count": 109,
   "metadata": {},
   "outputs": [
    {
     "name": "stdout",
     "output_type": "stream",
     "text": [
      "Регион geo_0\n",
      "Средняя прибыль: 398,630,223.38 руб.\n",
      "Нижняя граница доверительного интервала: -117,131,758.06 руб.\n",
      "Верхняя граница доверительного интервала: 946,493,958.44 руб.\n",
      "Риск убытков: 6.60%.\n",
      "\n",
      "Регион geo_1\n",
      "Средняя прибыль: 426,613,824.14 руб.\n",
      "Нижняя граница доверительного интервала: 35,168,690.78 руб.\n",
      "Верхняя граница доверительного интервала: 865,813,252.59 руб.\n",
      "Риск убытков: 1.90%.\n",
      "\n",
      "Регион geo_2\n",
      "Средняя прибыль: 277,655,644.26 руб.\n",
      "Нижняя граница доверительного интервала: -215,551,294.74 руб.\n",
      "Верхняя граница доверительного интервала: 822,779,815.26 руб.\n",
      "Риск убытков: 11.90%.\n"
     ]
    }
   ],
   "source": [
    "print('Регион geo_0')\n",
    "bootstrap_func(prediction_valid_0,target_valid_0)\n",
    "\n",
    "print()\n",
    "print('Регион geo_1')\n",
    "bootstrap_func(prediction_valid_1,target_valid_1)\n",
    "\n",
    "print()\n",
    "print('Регион geo_2')\n",
    "bootstrap_func(prediction_valid_2,target_valid_2)"
   ]
  },
  {
   "cell_type": "markdown",
   "id": "d9b16a82",
   "metadata": {},
   "source": [
    "## Общий вывод\n",
    "<a id=\"id_conclusion\"></a>"
   ]
  },
  {
   "cell_type": "markdown",
   "metadata": {},
   "source": [
    "Уровень риска ниже установленого значения только для региона geo_2.\n",
    "\n",
    "Также для этого регион наибольшая средняя выручка, а 95% доверительные интервал не уходит в отрицательную зону.\n",
    "\n",
    "Соответсвенно, для разработки месторождений предпочтительней регион geo_1.\n",
    "\n",
    "Средняя прибыль в регионе geo_1:  426,613,824.14 руб.\n",
    "\n",
    "Риск убытков в регионе geo_1: 1.90%."
   ]
  },
  {
   "cell_type": "code",
   "execution_count": 114,
   "metadata": {},
   "outputs": [
    {
     "data": {
      "text/plain": [
       "57.08562464628662"
      ]
     },
     "execution_count": 114,
     "metadata": {},
     "output_type": "execute_result"
    }
   ],
   "source": [
    "geo_1['product'].median()"
   ]
  }
 ],
 "metadata": {
  "ExecuteTimeLog": [
   {
    "duration": 1393,
    "start_time": "2022-05-19T18:34:23.964Z"
   },
   {
    "duration": 1671,
    "start_time": "2022-05-19T18:34:25.360Z"
   },
   {
    "duration": 111,
    "start_time": "2022-05-19T18:34:27.032Z"
   },
   {
    "duration": 124,
    "start_time": "2022-05-19T18:34:27.145Z"
   },
   {
    "duration": 123,
    "start_time": "2022-05-19T18:34:27.272Z"
   },
   {
    "duration": 4,
    "start_time": "2022-05-19T18:34:27.397Z"
   },
   {
    "duration": 31,
    "start_time": "2022-05-19T18:34:27.403Z"
   },
   {
    "duration": 107,
    "start_time": "2022-05-19T18:34:27.437Z"
   },
   {
    "duration": 4,
    "start_time": "2022-05-19T18:34:27.545Z"
   },
   {
    "duration": 244,
    "start_time": "2022-05-19T18:34:27.552Z"
   },
   {
    "duration": 99,
    "start_time": "2022-05-19T18:34:27.798Z"
   },
   {
    "duration": 23,
    "start_time": "2022-05-19T18:34:27.900Z"
   },
   {
    "duration": 22,
    "start_time": "2022-05-19T18:34:27.925Z"
   },
   {
    "duration": 18,
    "start_time": "2022-05-19T18:34:27.949Z"
   },
   {
    "duration": 12,
    "start_time": "2022-05-19T18:34:27.969Z"
   },
   {
    "duration": 39,
    "start_time": "2022-05-19T18:34:27.983Z"
   },
   {
    "duration": 6,
    "start_time": "2022-05-19T18:34:28.025Z"
   },
   {
    "duration": 1386,
    "start_time": "2022-05-19T18:34:28.033Z"
   }
  ],
  "kernelspec": {
   "display_name": "Python 3 (ipykernel)",
   "language": "python",
   "name": "python3"
  },
  "language_info": {
   "codemirror_mode": {
    "name": "ipython",
    "version": 3
   },
   "file_extension": ".py",
   "mimetype": "text/x-python",
   "name": "python",
   "nbconvert_exporter": "python",
   "pygments_lexer": "ipython3",
   "version": "3.10.7"
  },
  "toc": {
   "base_numbering": 1,
   "nav_menu": {},
   "number_sections": true,
   "sideBar": true,
   "skip_h1_title": true,
   "title_cell": "Table of Contents",
   "title_sidebar": "Contents",
   "toc_cell": false,
   "toc_position": {},
   "toc_section_display": true,
   "toc_window_display": false
  }
 },
 "nbformat": 4,
 "nbformat_minor": 2
}
