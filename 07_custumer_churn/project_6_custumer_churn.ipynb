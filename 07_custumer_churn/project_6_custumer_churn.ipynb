{
 "cells": [
  {
   "cell_type": "markdown",
   "metadata": {
    "toc": true
   },
   "source": [
    "<h1>Содержание<span class=\"tocSkip\"></span></h1>\n",
    "<div class=\"toc\"><ul class=\"toc-item\"><li><span><a href=\"#Подготовка-данных\" data-toc-modified-id=\"Подготовка-данных-1\"><span class=\"toc-item-num\">1&nbsp;&nbsp;</span>Подготовка данных</a></span><ul class=\"toc-item\"><li><span><a href=\"#Вывод\" data-toc-modified-id=\"Вывод-1.1\"><span class=\"toc-item-num\">1.1&nbsp;&nbsp;</span>Вывод</a></span></li></ul></li><li><span><a href=\"#Исследование-задачи\" data-toc-modified-id=\"Исследование-задачи-2\"><span class=\"toc-item-num\">2&nbsp;&nbsp;</span>Исследование задачи</a></span></li><li><span><a href=\"#Борьба-с-дисбалансом\" data-toc-modified-id=\"Борьба-с-дисбалансом-3\"><span class=\"toc-item-num\">3&nbsp;&nbsp;</span>Борьба с дисбалансом</a></span></li><li><span><a href=\"#Тестирование-модели\" data-toc-modified-id=\"Тестирование-модели-4\"><span class=\"toc-item-num\">4&nbsp;&nbsp;</span>Тестирование модели</a></span></li><li><span><a href=\"#Общий-вывод\" data-toc-modified-id=\"Общий-вывод-5\"><span class=\"toc-item-num\">5&nbsp;&nbsp;</span>Общий вывод</a></span></li><li><span><a href=\"#Чек-лист-готовности-проекта\" data-toc-modified-id=\"Чек-лист-готовности-проекта-6\"><span class=\"toc-item-num\">6&nbsp;&nbsp;</span>Чек-лист готовности проекта</a></span></li></ul></div>"
   ]
  },
  {
   "cell_type": "markdown",
   "metadata": {},
   "source": [
    "# Прогнозирование оттока клиента Банка"
   ]
  },
  {
   "cell_type": "markdown",
   "metadata": {},
   "source": [
    "Из «Бета-Банка» стали уходить клиенты. Каждый месяц. Немного, но заметно. Банковские маркетологи посчитали: сохранять текущих клиентов дешевле, чем привлекать новых.\n",
    "\n",
    "Нужно спрогнозировать, уйдёт клиент из банка в ближайшее время или нет. Вам предоставлены исторические данные о поведении клиентов и расторжении договоров с банком. \n",
    "\n",
    "Постройте модель с предельно большим значением *F1*-меры. Чтобы сдать проект успешно, нужно довести метрику до 0.59. Проверьте *F1*-меру на тестовой выборке самостоятельно.\n",
    "\n",
    "Дополнительно измеряйте *AUC-ROC*, сравнивайте её значение с *F1*-мерой.\n",
    "\n",
    "Источник данных: [https://www.kaggle.com/barelydedicated/bank-customer-churn-modeling](https://www.kaggle.com/barelydedicated/bank-customer-churn-modeling)\n",
    "\n",
    "**Описание данных**\n",
    "\n",
    "Признаки\n",
    "\n",
    "    RowNumber — индекс строки в данных\n",
    "    CustomerId — уникальный идентификатор клиента\n",
    "    Surname — фамилия\n",
    "    CreditScore — кредитный рейтинг\n",
    "    Geography — страна проживания\n",
    "    Gender — пол\n",
    "    Age — возраст\n",
    "    Tenure — сколько лет человек является клиентом банка\n",
    "    Balance — баланс на счёте\n",
    "    NumOfProducts — количество продуктов банка, используемых клиентом\n",
    "    HasCrCard — наличие кредитной карты\n",
    "    IsActiveMember — активность клиента\n",
    "    EstimatedSalary — предполагаемая зарплата\n",
    "\n",
    "Целевой признак\n",
    "\n",
    "    Exited — факт ухода клиента\n"
   ]
  },
  {
   "cell_type": "code",
   "execution_count": 40,
   "metadata": {},
   "outputs": [],
   "source": [
    "# импорт необходимых библиотек\n",
    "import pandas as pd\n",
    "import numpy as np\n",
    "import matplotlib.pyplot as plt\n",
    "\n",
    "from sklearn.model_selection import train_test_split\n",
    "from sklearn.preprocessing import StandardScaler\n",
    "\n",
    "from sklearn.tree import DecisionTreeClassifier\n",
    "from sklearn.ensemble import RandomForestClassifier\n",
    "from sklearn.linear_model import LogisticRegression\n",
    "from sklearn.dummy import DummyClassifier\n",
    "\n",
    "from sklearn.utils import shuffle\n",
    "\n",
    "from sklearn.metrics import f1_score, roc_auc_score"
   ]
  },
  {
   "cell_type": "markdown",
   "metadata": {},
   "source": [
    "## Подготовка данных"
   ]
  },
  {
   "cell_type": "markdown",
   "metadata": {},
   "source": [
    "Загрузим данные, при этом укажем что колонка 'RowNumber' будет индексом:"
   ]
  },
  {
   "cell_type": "code",
   "execution_count": 41,
   "metadata": {},
   "outputs": [],
   "source": [
    "# загрузка данных\n",
    "try:\n",
    "    df_churn = pd.read_csv('data-files/Churn.csv',index_col='RowNumber')  # Локальный путь\n",
    "except:\n",
    "    df_churn = pd.read_csv('/datasets/Churn.csv',index_col='RowNumber')  # Серверный путь"
   ]
  },
  {
   "cell_type": "code",
   "execution_count": 42,
   "metadata": {
    "scrolled": true
   },
   "outputs": [
    {
     "name": "stdout",
     "output_type": "stream",
     "text": [
      "<class 'pandas.core.frame.DataFrame'>\n",
      "Int64Index: 10000 entries, 1 to 10000\n",
      "Data columns (total 13 columns):\n",
      " #   Column           Non-Null Count  Dtype  \n",
      "---  ------           --------------  -----  \n",
      " 0   CustomerId       10000 non-null  int64  \n",
      " 1   Surname          10000 non-null  object \n",
      " 2   CreditScore      10000 non-null  int64  \n",
      " 3   Geography        10000 non-null  object \n",
      " 4   Gender           10000 non-null  object \n",
      " 5   Age              10000 non-null  int64  \n",
      " 6   Tenure           9091 non-null   float64\n",
      " 7   Balance          10000 non-null  float64\n",
      " 8   NumOfProducts    10000 non-null  int64  \n",
      " 9   HasCrCard        10000 non-null  int64  \n",
      " 10  IsActiveMember   10000 non-null  int64  \n",
      " 11  EstimatedSalary  10000 non-null  float64\n",
      " 12  Exited           10000 non-null  int64  \n",
      "dtypes: float64(3), int64(7), object(3)\n",
      "memory usage: 1.1+ MB\n"
     ]
    }
   ],
   "source": [
    "df_churn.info()"
   ]
  },
  {
   "cell_type": "code",
   "execution_count": 43,
   "metadata": {},
   "outputs": [
    {
     "data": {
      "text/html": [
       "<div>\n",
       "<style scoped>\n",
       "    .dataframe tbody tr th:only-of-type {\n",
       "        vertical-align: middle;\n",
       "    }\n",
       "\n",
       "    .dataframe tbody tr th {\n",
       "        vertical-align: top;\n",
       "    }\n",
       "\n",
       "    .dataframe thead th {\n",
       "        text-align: right;\n",
       "    }\n",
       "</style>\n",
       "<table border=\"1\" class=\"dataframe\">\n",
       "  <thead>\n",
       "    <tr style=\"text-align: right;\">\n",
       "      <th></th>\n",
       "      <th>CustomerId</th>\n",
       "      <th>CreditScore</th>\n",
       "      <th>Age</th>\n",
       "      <th>Tenure</th>\n",
       "      <th>Balance</th>\n",
       "      <th>NumOfProducts</th>\n",
       "      <th>HasCrCard</th>\n",
       "      <th>IsActiveMember</th>\n",
       "      <th>EstimatedSalary</th>\n",
       "      <th>Exited</th>\n",
       "    </tr>\n",
       "  </thead>\n",
       "  <tbody>\n",
       "    <tr>\n",
       "      <th>count</th>\n",
       "      <td>1.000000e+04</td>\n",
       "      <td>10000.000000</td>\n",
       "      <td>10000.000000</td>\n",
       "      <td>9091.000000</td>\n",
       "      <td>10000.000000</td>\n",
       "      <td>10000.000000</td>\n",
       "      <td>10000.00000</td>\n",
       "      <td>10000.000000</td>\n",
       "      <td>10000.000000</td>\n",
       "      <td>10000.000000</td>\n",
       "    </tr>\n",
       "    <tr>\n",
       "      <th>mean</th>\n",
       "      <td>1.569094e+07</td>\n",
       "      <td>650.528800</td>\n",
       "      <td>38.921800</td>\n",
       "      <td>4.997690</td>\n",
       "      <td>76485.889288</td>\n",
       "      <td>1.530200</td>\n",
       "      <td>0.70550</td>\n",
       "      <td>0.515100</td>\n",
       "      <td>100090.239881</td>\n",
       "      <td>0.203700</td>\n",
       "    </tr>\n",
       "    <tr>\n",
       "      <th>std</th>\n",
       "      <td>7.193619e+04</td>\n",
       "      <td>96.653299</td>\n",
       "      <td>10.487806</td>\n",
       "      <td>2.894723</td>\n",
       "      <td>62397.405202</td>\n",
       "      <td>0.581654</td>\n",
       "      <td>0.45584</td>\n",
       "      <td>0.499797</td>\n",
       "      <td>57510.492818</td>\n",
       "      <td>0.402769</td>\n",
       "    </tr>\n",
       "    <tr>\n",
       "      <th>min</th>\n",
       "      <td>1.556570e+07</td>\n",
       "      <td>350.000000</td>\n",
       "      <td>18.000000</td>\n",
       "      <td>0.000000</td>\n",
       "      <td>0.000000</td>\n",
       "      <td>1.000000</td>\n",
       "      <td>0.00000</td>\n",
       "      <td>0.000000</td>\n",
       "      <td>11.580000</td>\n",
       "      <td>0.000000</td>\n",
       "    </tr>\n",
       "    <tr>\n",
       "      <th>25%</th>\n",
       "      <td>1.562853e+07</td>\n",
       "      <td>584.000000</td>\n",
       "      <td>32.000000</td>\n",
       "      <td>2.000000</td>\n",
       "      <td>0.000000</td>\n",
       "      <td>1.000000</td>\n",
       "      <td>0.00000</td>\n",
       "      <td>0.000000</td>\n",
       "      <td>51002.110000</td>\n",
       "      <td>0.000000</td>\n",
       "    </tr>\n",
       "    <tr>\n",
       "      <th>50%</th>\n",
       "      <td>1.569074e+07</td>\n",
       "      <td>652.000000</td>\n",
       "      <td>37.000000</td>\n",
       "      <td>5.000000</td>\n",
       "      <td>97198.540000</td>\n",
       "      <td>1.000000</td>\n",
       "      <td>1.00000</td>\n",
       "      <td>1.000000</td>\n",
       "      <td>100193.915000</td>\n",
       "      <td>0.000000</td>\n",
       "    </tr>\n",
       "    <tr>\n",
       "      <th>75%</th>\n",
       "      <td>1.575323e+07</td>\n",
       "      <td>718.000000</td>\n",
       "      <td>44.000000</td>\n",
       "      <td>7.000000</td>\n",
       "      <td>127644.240000</td>\n",
       "      <td>2.000000</td>\n",
       "      <td>1.00000</td>\n",
       "      <td>1.000000</td>\n",
       "      <td>149388.247500</td>\n",
       "      <td>0.000000</td>\n",
       "    </tr>\n",
       "    <tr>\n",
       "      <th>max</th>\n",
       "      <td>1.581569e+07</td>\n",
       "      <td>850.000000</td>\n",
       "      <td>92.000000</td>\n",
       "      <td>10.000000</td>\n",
       "      <td>250898.090000</td>\n",
       "      <td>4.000000</td>\n",
       "      <td>1.00000</td>\n",
       "      <td>1.000000</td>\n",
       "      <td>199992.480000</td>\n",
       "      <td>1.000000</td>\n",
       "    </tr>\n",
       "  </tbody>\n",
       "</table>\n",
       "</div>"
      ],
      "text/plain": [
       "         CustomerId   CreditScore           Age       Tenure        Balance  \\\n",
       "count  1.000000e+04  10000.000000  10000.000000  9091.000000   10000.000000   \n",
       "mean   1.569094e+07    650.528800     38.921800     4.997690   76485.889288   \n",
       "std    7.193619e+04     96.653299     10.487806     2.894723   62397.405202   \n",
       "min    1.556570e+07    350.000000     18.000000     0.000000       0.000000   \n",
       "25%    1.562853e+07    584.000000     32.000000     2.000000       0.000000   \n",
       "50%    1.569074e+07    652.000000     37.000000     5.000000   97198.540000   \n",
       "75%    1.575323e+07    718.000000     44.000000     7.000000  127644.240000   \n",
       "max    1.581569e+07    850.000000     92.000000    10.000000  250898.090000   \n",
       "\n",
       "       NumOfProducts    HasCrCard  IsActiveMember  EstimatedSalary  \\\n",
       "count   10000.000000  10000.00000    10000.000000     10000.000000   \n",
       "mean        1.530200      0.70550        0.515100    100090.239881   \n",
       "std         0.581654      0.45584        0.499797     57510.492818   \n",
       "min         1.000000      0.00000        0.000000        11.580000   \n",
       "25%         1.000000      0.00000        0.000000     51002.110000   \n",
       "50%         1.000000      1.00000        1.000000    100193.915000   \n",
       "75%         2.000000      1.00000        1.000000    149388.247500   \n",
       "max         4.000000      1.00000        1.000000    199992.480000   \n",
       "\n",
       "             Exited  \n",
       "count  10000.000000  \n",
       "mean       0.203700  \n",
       "std        0.402769  \n",
       "min        0.000000  \n",
       "25%        0.000000  \n",
       "50%        0.000000  \n",
       "75%        0.000000  \n",
       "max        1.000000  "
      ]
     },
     "execution_count": 43,
     "metadata": {},
     "output_type": "execute_result"
    }
   ],
   "source": [
    "df_churn.describe()"
   ]
  },
  {
   "cell_type": "code",
   "execution_count": 44,
   "metadata": {},
   "outputs": [
    {
     "data": {
      "text/html": [
       "<div>\n",
       "<style scoped>\n",
       "    .dataframe tbody tr th:only-of-type {\n",
       "        vertical-align: middle;\n",
       "    }\n",
       "\n",
       "    .dataframe tbody tr th {\n",
       "        vertical-align: top;\n",
       "    }\n",
       "\n",
       "    .dataframe thead th {\n",
       "        text-align: right;\n",
       "    }\n",
       "</style>\n",
       "<table border=\"1\" class=\"dataframe\">\n",
       "  <thead>\n",
       "    <tr style=\"text-align: right;\">\n",
       "      <th></th>\n",
       "      <th>CustomerId</th>\n",
       "      <th>Surname</th>\n",
       "      <th>CreditScore</th>\n",
       "      <th>Geography</th>\n",
       "      <th>Gender</th>\n",
       "      <th>Age</th>\n",
       "      <th>Tenure</th>\n",
       "      <th>Balance</th>\n",
       "      <th>NumOfProducts</th>\n",
       "      <th>HasCrCard</th>\n",
       "      <th>IsActiveMember</th>\n",
       "      <th>EstimatedSalary</th>\n",
       "      <th>Exited</th>\n",
       "    </tr>\n",
       "    <tr>\n",
       "      <th>RowNumber</th>\n",
       "      <th></th>\n",
       "      <th></th>\n",
       "      <th></th>\n",
       "      <th></th>\n",
       "      <th></th>\n",
       "      <th></th>\n",
       "      <th></th>\n",
       "      <th></th>\n",
       "      <th></th>\n",
       "      <th></th>\n",
       "      <th></th>\n",
       "      <th></th>\n",
       "      <th></th>\n",
       "    </tr>\n",
       "  </thead>\n",
       "  <tbody>\n",
       "    <tr>\n",
       "      <th>1</th>\n",
       "      <td>15634602</td>\n",
       "      <td>Hargrave</td>\n",
       "      <td>619</td>\n",
       "      <td>France</td>\n",
       "      <td>Female</td>\n",
       "      <td>42</td>\n",
       "      <td>2.0</td>\n",
       "      <td>0.00</td>\n",
       "      <td>1</td>\n",
       "      <td>1</td>\n",
       "      <td>1</td>\n",
       "      <td>101348.88</td>\n",
       "      <td>1</td>\n",
       "    </tr>\n",
       "    <tr>\n",
       "      <th>2</th>\n",
       "      <td>15647311</td>\n",
       "      <td>Hill</td>\n",
       "      <td>608</td>\n",
       "      <td>Spain</td>\n",
       "      <td>Female</td>\n",
       "      <td>41</td>\n",
       "      <td>1.0</td>\n",
       "      <td>83807.86</td>\n",
       "      <td>1</td>\n",
       "      <td>0</td>\n",
       "      <td>1</td>\n",
       "      <td>112542.58</td>\n",
       "      <td>0</td>\n",
       "    </tr>\n",
       "    <tr>\n",
       "      <th>3</th>\n",
       "      <td>15619304</td>\n",
       "      <td>Onio</td>\n",
       "      <td>502</td>\n",
       "      <td>France</td>\n",
       "      <td>Female</td>\n",
       "      <td>42</td>\n",
       "      <td>8.0</td>\n",
       "      <td>159660.80</td>\n",
       "      <td>3</td>\n",
       "      <td>1</td>\n",
       "      <td>0</td>\n",
       "      <td>113931.57</td>\n",
       "      <td>1</td>\n",
       "    </tr>\n",
       "    <tr>\n",
       "      <th>4</th>\n",
       "      <td>15701354</td>\n",
       "      <td>Boni</td>\n",
       "      <td>699</td>\n",
       "      <td>France</td>\n",
       "      <td>Female</td>\n",
       "      <td>39</td>\n",
       "      <td>1.0</td>\n",
       "      <td>0.00</td>\n",
       "      <td>2</td>\n",
       "      <td>0</td>\n",
       "      <td>0</td>\n",
       "      <td>93826.63</td>\n",
       "      <td>0</td>\n",
       "    </tr>\n",
       "    <tr>\n",
       "      <th>5</th>\n",
       "      <td>15737888</td>\n",
       "      <td>Mitchell</td>\n",
       "      <td>850</td>\n",
       "      <td>Spain</td>\n",
       "      <td>Female</td>\n",
       "      <td>43</td>\n",
       "      <td>2.0</td>\n",
       "      <td>125510.82</td>\n",
       "      <td>1</td>\n",
       "      <td>1</td>\n",
       "      <td>1</td>\n",
       "      <td>79084.10</td>\n",
       "      <td>0</td>\n",
       "    </tr>\n",
       "  </tbody>\n",
       "</table>\n",
       "</div>"
      ],
      "text/plain": [
       "           CustomerId   Surname  CreditScore Geography  Gender  Age  Tenure  \\\n",
       "RowNumber                                                                     \n",
       "1            15634602  Hargrave          619    France  Female   42     2.0   \n",
       "2            15647311      Hill          608     Spain  Female   41     1.0   \n",
       "3            15619304      Onio          502    France  Female   42     8.0   \n",
       "4            15701354      Boni          699    France  Female   39     1.0   \n",
       "5            15737888  Mitchell          850     Spain  Female   43     2.0   \n",
       "\n",
       "             Balance  NumOfProducts  HasCrCard  IsActiveMember  \\\n",
       "RowNumber                                                        \n",
       "1               0.00              1          1               1   \n",
       "2           83807.86              1          0               1   \n",
       "3          159660.80              3          1               0   \n",
       "4               0.00              2          0               0   \n",
       "5          125510.82              1          1               1   \n",
       "\n",
       "           EstimatedSalary  Exited  \n",
       "RowNumber                           \n",
       "1                101348.88       1  \n",
       "2                112542.58       0  \n",
       "3                113931.57       1  \n",
       "4                 93826.63       0  \n",
       "5                 79084.10       0  "
      ]
     },
     "execution_count": 44,
     "metadata": {},
     "output_type": "execute_result"
    }
   ],
   "source": [
    "df_churn.head()"
   ]
  },
  {
   "cell_type": "markdown",
   "metadata": {},
   "source": [
    "На данном этапе в данных видны следующие недочеты:\n",
    "- В колонке 'tenure'  есть пропуски.\n",
    "- В колонке 'estimated_salary' возможно есть аномалии -- зарплата 11.58.\n",
    "- Названия колонок не в змеином регистре.\n",
    "\n",
    "Последний пункт скорее пожелание, чем действительный недочет.\n"
   ]
  },
  {
   "cell_type": "markdown",
   "metadata": {},
   "source": [
    "Преведем названия колонок к змеиному регистру:"
   ]
  },
  {
   "cell_type": "code",
   "execution_count": 45,
   "metadata": {},
   "outputs": [],
   "source": [
    "df_churn.columns = df_churn.columns.str.lower()"
   ]
  },
  {
   "cell_type": "code",
   "execution_count": 46,
   "metadata": {},
   "outputs": [],
   "source": [
    "df_churn = df_churn.rename(columns={'customerid':'customer_id',\n",
    "                            'creditscore':'credit_score',\n",
    "                            'numofproducts':'num_of_products',\n",
    "                            'hascrcard':'has_cr_card',\n",
    "                            'isactivemember':'is_active_member',\n",
    "                            'estimatedsalary':'estimated_salary'})"
   ]
  },
  {
   "cell_type": "code",
   "execution_count": 47,
   "metadata": {},
   "outputs": [
    {
     "data": {
      "text/plain": [
       "Index(['customer_id', 'surname', 'credit_score', 'geography', 'gender', 'age',\n",
       "       'tenure', 'balance', 'num_of_products', 'has_cr_card',\n",
       "       'is_active_member', 'estimated_salary', 'exited'],\n",
       "      dtype='object')"
      ]
     },
     "execution_count": 47,
     "metadata": {},
     "output_type": "execute_result"
    }
   ],
   "source": [
    "df_churn.columns"
   ]
  },
  {
   "cell_type": "markdown",
   "metadata": {},
   "source": [
    "Посмотрим внимательнее на пропуски в колонке 'tenure':"
   ]
  },
  {
   "cell_type": "code",
   "execution_count": 48,
   "metadata": {},
   "outputs": [
    {
     "data": {
      "text/html": [
       "<div>\n",
       "<style scoped>\n",
       "    .dataframe tbody tr th:only-of-type {\n",
       "        vertical-align: middle;\n",
       "    }\n",
       "\n",
       "    .dataframe tbody tr th {\n",
       "        vertical-align: top;\n",
       "    }\n",
       "\n",
       "    .dataframe thead th {\n",
       "        text-align: right;\n",
       "    }\n",
       "</style>\n",
       "<table border=\"1\" class=\"dataframe\">\n",
       "  <thead>\n",
       "    <tr style=\"text-align: right;\">\n",
       "      <th></th>\n",
       "      <th>customer_id</th>\n",
       "      <th>surname</th>\n",
       "      <th>credit_score</th>\n",
       "      <th>geography</th>\n",
       "      <th>gender</th>\n",
       "      <th>age</th>\n",
       "      <th>tenure</th>\n",
       "      <th>balance</th>\n",
       "      <th>num_of_products</th>\n",
       "      <th>has_cr_card</th>\n",
       "      <th>is_active_member</th>\n",
       "      <th>estimated_salary</th>\n",
       "      <th>exited</th>\n",
       "    </tr>\n",
       "    <tr>\n",
       "      <th>RowNumber</th>\n",
       "      <th></th>\n",
       "      <th></th>\n",
       "      <th></th>\n",
       "      <th></th>\n",
       "      <th></th>\n",
       "      <th></th>\n",
       "      <th></th>\n",
       "      <th></th>\n",
       "      <th></th>\n",
       "      <th></th>\n",
       "      <th></th>\n",
       "      <th></th>\n",
       "      <th></th>\n",
       "    </tr>\n",
       "  </thead>\n",
       "  <tbody>\n",
       "    <tr>\n",
       "      <th>31</th>\n",
       "      <td>15589475</td>\n",
       "      <td>Azikiwe</td>\n",
       "      <td>591</td>\n",
       "      <td>Spain</td>\n",
       "      <td>Female</td>\n",
       "      <td>39</td>\n",
       "      <td>NaN</td>\n",
       "      <td>0.00</td>\n",
       "      <td>3</td>\n",
       "      <td>1</td>\n",
       "      <td>0</td>\n",
       "      <td>140469.38</td>\n",
       "      <td>1</td>\n",
       "    </tr>\n",
       "    <tr>\n",
       "      <th>49</th>\n",
       "      <td>15766205</td>\n",
       "      <td>Yin</td>\n",
       "      <td>550</td>\n",
       "      <td>Germany</td>\n",
       "      <td>Male</td>\n",
       "      <td>38</td>\n",
       "      <td>NaN</td>\n",
       "      <td>103391.38</td>\n",
       "      <td>1</td>\n",
       "      <td>0</td>\n",
       "      <td>1</td>\n",
       "      <td>90878.13</td>\n",
       "      <td>0</td>\n",
       "    </tr>\n",
       "    <tr>\n",
       "      <th>52</th>\n",
       "      <td>15768193</td>\n",
       "      <td>Trevisani</td>\n",
       "      <td>585</td>\n",
       "      <td>Germany</td>\n",
       "      <td>Male</td>\n",
       "      <td>36</td>\n",
       "      <td>NaN</td>\n",
       "      <td>146050.97</td>\n",
       "      <td>2</td>\n",
       "      <td>0</td>\n",
       "      <td>0</td>\n",
       "      <td>86424.57</td>\n",
       "      <td>0</td>\n",
       "    </tr>\n",
       "    <tr>\n",
       "      <th>54</th>\n",
       "      <td>15702298</td>\n",
       "      <td>Parkhill</td>\n",
       "      <td>655</td>\n",
       "      <td>Germany</td>\n",
       "      <td>Male</td>\n",
       "      <td>41</td>\n",
       "      <td>NaN</td>\n",
       "      <td>125561.97</td>\n",
       "      <td>1</td>\n",
       "      <td>0</td>\n",
       "      <td>0</td>\n",
       "      <td>164040.94</td>\n",
       "      <td>1</td>\n",
       "    </tr>\n",
       "    <tr>\n",
       "      <th>61</th>\n",
       "      <td>15651280</td>\n",
       "      <td>Hunter</td>\n",
       "      <td>742</td>\n",
       "      <td>Germany</td>\n",
       "      <td>Male</td>\n",
       "      <td>35</td>\n",
       "      <td>NaN</td>\n",
       "      <td>136857.00</td>\n",
       "      <td>1</td>\n",
       "      <td>0</td>\n",
       "      <td>0</td>\n",
       "      <td>84509.57</td>\n",
       "      <td>0</td>\n",
       "    </tr>\n",
       "    <tr>\n",
       "      <th>...</th>\n",
       "      <td>...</td>\n",
       "      <td>...</td>\n",
       "      <td>...</td>\n",
       "      <td>...</td>\n",
       "      <td>...</td>\n",
       "      <td>...</td>\n",
       "      <td>...</td>\n",
       "      <td>...</td>\n",
       "      <td>...</td>\n",
       "      <td>...</td>\n",
       "      <td>...</td>\n",
       "      <td>...</td>\n",
       "      <td>...</td>\n",
       "    </tr>\n",
       "    <tr>\n",
       "      <th>9945</th>\n",
       "      <td>15703923</td>\n",
       "      <td>Cameron</td>\n",
       "      <td>744</td>\n",
       "      <td>Germany</td>\n",
       "      <td>Male</td>\n",
       "      <td>41</td>\n",
       "      <td>NaN</td>\n",
       "      <td>190409.34</td>\n",
       "      <td>2</td>\n",
       "      <td>1</td>\n",
       "      <td>1</td>\n",
       "      <td>138361.48</td>\n",
       "      <td>0</td>\n",
       "    </tr>\n",
       "    <tr>\n",
       "      <th>9957</th>\n",
       "      <td>15707861</td>\n",
       "      <td>Nucci</td>\n",
       "      <td>520</td>\n",
       "      <td>France</td>\n",
       "      <td>Female</td>\n",
       "      <td>46</td>\n",
       "      <td>NaN</td>\n",
       "      <td>85216.61</td>\n",
       "      <td>1</td>\n",
       "      <td>1</td>\n",
       "      <td>0</td>\n",
       "      <td>117369.52</td>\n",
       "      <td>1</td>\n",
       "    </tr>\n",
       "    <tr>\n",
       "      <th>9965</th>\n",
       "      <td>15642785</td>\n",
       "      <td>Douglas</td>\n",
       "      <td>479</td>\n",
       "      <td>France</td>\n",
       "      <td>Male</td>\n",
       "      <td>34</td>\n",
       "      <td>NaN</td>\n",
       "      <td>117593.48</td>\n",
       "      <td>2</td>\n",
       "      <td>0</td>\n",
       "      <td>0</td>\n",
       "      <td>113308.29</td>\n",
       "      <td>0</td>\n",
       "    </tr>\n",
       "    <tr>\n",
       "      <th>9986</th>\n",
       "      <td>15586914</td>\n",
       "      <td>Nepean</td>\n",
       "      <td>659</td>\n",
       "      <td>France</td>\n",
       "      <td>Male</td>\n",
       "      <td>36</td>\n",
       "      <td>NaN</td>\n",
       "      <td>123841.49</td>\n",
       "      <td>2</td>\n",
       "      <td>1</td>\n",
       "      <td>0</td>\n",
       "      <td>96833.00</td>\n",
       "      <td>0</td>\n",
       "    </tr>\n",
       "    <tr>\n",
       "      <th>10000</th>\n",
       "      <td>15628319</td>\n",
       "      <td>Walker</td>\n",
       "      <td>792</td>\n",
       "      <td>France</td>\n",
       "      <td>Female</td>\n",
       "      <td>28</td>\n",
       "      <td>NaN</td>\n",
       "      <td>130142.79</td>\n",
       "      <td>1</td>\n",
       "      <td>1</td>\n",
       "      <td>0</td>\n",
       "      <td>38190.78</td>\n",
       "      <td>0</td>\n",
       "    </tr>\n",
       "  </tbody>\n",
       "</table>\n",
       "<p>909 rows × 13 columns</p>\n",
       "</div>"
      ],
      "text/plain": [
       "           customer_id    surname  credit_score geography  gender  age  \\\n",
       "RowNumber                                                                \n",
       "31            15589475    Azikiwe           591     Spain  Female   39   \n",
       "49            15766205        Yin           550   Germany    Male   38   \n",
       "52            15768193  Trevisani           585   Germany    Male   36   \n",
       "54            15702298   Parkhill           655   Germany    Male   41   \n",
       "61            15651280     Hunter           742   Germany    Male   35   \n",
       "...                ...        ...           ...       ...     ...  ...   \n",
       "9945          15703923    Cameron           744   Germany    Male   41   \n",
       "9957          15707861      Nucci           520    France  Female   46   \n",
       "9965          15642785    Douglas           479    France    Male   34   \n",
       "9986          15586914     Nepean           659    France    Male   36   \n",
       "10000         15628319     Walker           792    France  Female   28   \n",
       "\n",
       "           tenure    balance  num_of_products  has_cr_card  is_active_member  \\\n",
       "RowNumber                                                                      \n",
       "31            NaN       0.00                3            1                 0   \n",
       "49            NaN  103391.38                1            0                 1   \n",
       "52            NaN  146050.97                2            0                 0   \n",
       "54            NaN  125561.97                1            0                 0   \n",
       "61            NaN  136857.00                1            0                 0   \n",
       "...           ...        ...              ...          ...               ...   \n",
       "9945          NaN  190409.34                2            1                 1   \n",
       "9957          NaN   85216.61                1            1                 0   \n",
       "9965          NaN  117593.48                2            0                 0   \n",
       "9986          NaN  123841.49                2            1                 0   \n",
       "10000         NaN  130142.79                1            1                 0   \n",
       "\n",
       "           estimated_salary  exited  \n",
       "RowNumber                            \n",
       "31                140469.38       1  \n",
       "49                 90878.13       0  \n",
       "52                 86424.57       0  \n",
       "54                164040.94       1  \n",
       "61                 84509.57       0  \n",
       "...                     ...     ...  \n",
       "9945              138361.48       0  \n",
       "9957              117369.52       1  \n",
       "9965              113308.29       0  \n",
       "9986               96833.00       0  \n",
       "10000              38190.78       0  \n",
       "\n",
       "[909 rows x 13 columns]"
      ]
     },
     "execution_count": 48,
     "metadata": {},
     "output_type": "execute_result"
    }
   ],
   "source": [
    "df_churn[df_churn['tenure'].isna()==True]"
   ]
  },
  {
   "cell_type": "markdown",
   "metadata": {},
   "source": [
    "Явных корреляций между пропусками в колонке 'tenure' и данными из других колонок не обнаружено.\n",
    "\n",
    "Скорее всего пропуски говорят, что клиент недавно пришел в банк, поэтому заменим пропуски на нули."
   ]
  },
  {
   "cell_type": "code",
   "execution_count": 49,
   "metadata": {},
   "outputs": [],
   "source": [
    "df_churn['tenure'] = df_churn['tenure'].fillna(0)"
   ]
  },
  {
   "cell_type": "code",
   "execution_count": 50,
   "metadata": {},
   "outputs": [
    {
     "name": "stdout",
     "output_type": "stream",
     "text": [
      "<class 'pandas.core.frame.DataFrame'>\n",
      "Int64Index: 10000 entries, 1 to 10000\n",
      "Data columns (total 13 columns):\n",
      " #   Column            Non-Null Count  Dtype  \n",
      "---  ------            --------------  -----  \n",
      " 0   customer_id       10000 non-null  int64  \n",
      " 1   surname           10000 non-null  object \n",
      " 2   credit_score      10000 non-null  int64  \n",
      " 3   geography         10000 non-null  object \n",
      " 4   gender            10000 non-null  object \n",
      " 5   age               10000 non-null  int64  \n",
      " 6   tenure            10000 non-null  float64\n",
      " 7   balance           10000 non-null  float64\n",
      " 8   num_of_products   10000 non-null  int64  \n",
      " 9   has_cr_card       10000 non-null  int64  \n",
      " 10  is_active_member  10000 non-null  int64  \n",
      " 11  estimated_salary  10000 non-null  float64\n",
      " 12  exited            10000 non-null  int64  \n",
      "dtypes: float64(3), int64(7), object(3)\n",
      "memory usage: 1.1+ MB\n"
     ]
    }
   ],
   "source": [
    "df_churn.info()"
   ]
  },
  {
   "cell_type": "markdown",
   "metadata": {},
   "source": [
    "Посмотрим колонку 'estimated_salary':"
   ]
  },
  {
   "cell_type": "code",
   "execution_count": 51,
   "metadata": {},
   "outputs": [
    {
     "data": {
      "text/plain": [
       "Text(0, 0.5, 'Предполагаемая зарплата')"
      ]
     },
     "execution_count": 51,
     "metadata": {},
     "output_type": "execute_result"
    },
    {
     "data": {
      "image/png": "[encoded data removed]",
      "text/plain": [
       "<Figure size 432x288 with 1 Axes>"
      ]
     },
     "metadata": {
      "needs_background": "light"
     },
     "output_type": "display_data"
    }
   ],
   "source": [
    "plt.boxplot(df_churn['estimated_salary'])\n",
    "plt.title('Диаграмма размаха для предполагаемой зарплаты клиента')\n",
    "plt.ylabel('Предполагаемая зарплата')"
   ]
  },
  {
   "cell_type": "markdown",
   "metadata": {},
   "source": [
    "На диаграмме размаха не видно выбросов. Такая маленькая зарплата может объясняться нерегулярными подработками или фактом наличия счета в другом банке, который клиент чаще использует."
   ]
  },
  {
   "cell_type": "code",
   "execution_count": 52,
   "metadata": {
    "scrolled": true
   },
   "outputs": [
    {
     "data": {
      "text/html": [
       "<div>\n",
       "<style scoped>\n",
       "    .dataframe tbody tr th:only-of-type {\n",
       "        vertical-align: middle;\n",
       "    }\n",
       "\n",
       "    .dataframe tbody tr th {\n",
       "        vertical-align: top;\n",
       "    }\n",
       "\n",
       "    .dataframe thead th {\n",
       "        text-align: right;\n",
       "    }\n",
       "</style>\n",
       "<table border=\"1\" class=\"dataframe\">\n",
       "  <thead>\n",
       "    <tr style=\"text-align: right;\">\n",
       "      <th></th>\n",
       "      <th>customer_id</th>\n",
       "      <th>surname</th>\n",
       "      <th>credit_score</th>\n",
       "      <th>geography</th>\n",
       "      <th>gender</th>\n",
       "      <th>age</th>\n",
       "      <th>tenure</th>\n",
       "      <th>balance</th>\n",
       "      <th>num_of_products</th>\n",
       "      <th>has_cr_card</th>\n",
       "      <th>is_active_member</th>\n",
       "      <th>estimated_salary</th>\n",
       "      <th>exited</th>\n",
       "    </tr>\n",
       "    <tr>\n",
       "      <th>RowNumber</th>\n",
       "      <th></th>\n",
       "      <th></th>\n",
       "      <th></th>\n",
       "      <th></th>\n",
       "      <th></th>\n",
       "      <th></th>\n",
       "      <th></th>\n",
       "      <th></th>\n",
       "      <th></th>\n",
       "      <th></th>\n",
       "      <th></th>\n",
       "      <th></th>\n",
       "      <th></th>\n",
       "    </tr>\n",
       "  </thead>\n",
       "  <tbody>\n",
       "    <tr>\n",
       "      <th>2363</th>\n",
       "      <td>15791053</td>\n",
       "      <td>Lucciano</td>\n",
       "      <td>709</td>\n",
       "      <td>Germany</td>\n",
       "      <td>Male</td>\n",
       "      <td>45</td>\n",
       "      <td>4.0</td>\n",
       "      <td>122917.71</td>\n",
       "      <td>1</td>\n",
       "      <td>1</td>\n",
       "      <td>1</td>\n",
       "      <td>11.58</td>\n",
       "      <td>1</td>\n",
       "    </tr>\n",
       "    <tr>\n",
       "      <th>5549</th>\n",
       "      <td>15639662</td>\n",
       "      <td>Phillips</td>\n",
       "      <td>710</td>\n",
       "      <td>France</td>\n",
       "      <td>Male</td>\n",
       "      <td>38</td>\n",
       "      <td>2.0</td>\n",
       "      <td>0.00</td>\n",
       "      <td>2</td>\n",
       "      <td>1</td>\n",
       "      <td>0</td>\n",
       "      <td>96.27</td>\n",
       "      <td>0</td>\n",
       "    </tr>\n",
       "    <tr>\n",
       "      <th>9011</th>\n",
       "      <td>15786463</td>\n",
       "      <td>Hsing</td>\n",
       "      <td>645</td>\n",
       "      <td>Germany</td>\n",
       "      <td>Female</td>\n",
       "      <td>59</td>\n",
       "      <td>8.0</td>\n",
       "      <td>121669.93</td>\n",
       "      <td>2</td>\n",
       "      <td>0</td>\n",
       "      <td>0</td>\n",
       "      <td>91.75</td>\n",
       "      <td>1</td>\n",
       "    </tr>\n",
       "    <tr>\n",
       "      <th>9648</th>\n",
       "      <td>15679693</td>\n",
       "      <td>Walker</td>\n",
       "      <td>625</td>\n",
       "      <td>France</td>\n",
       "      <td>Male</td>\n",
       "      <td>31</td>\n",
       "      <td>5.0</td>\n",
       "      <td>0.00</td>\n",
       "      <td>2</td>\n",
       "      <td>0</td>\n",
       "      <td>1</td>\n",
       "      <td>90.07</td>\n",
       "      <td>0</td>\n",
       "    </tr>\n",
       "  </tbody>\n",
       "</table>\n",
       "</div>"
      ],
      "text/plain": [
       "           customer_id   surname  credit_score geography  gender  age  tenure  \\\n",
       "RowNumber                                                                       \n",
       "2363          15791053  Lucciano           709   Germany    Male   45     4.0   \n",
       "5549          15639662  Phillips           710    France    Male   38     2.0   \n",
       "9011          15786463     Hsing           645   Germany  Female   59     8.0   \n",
       "9648          15679693    Walker           625    France    Male   31     5.0   \n",
       "\n",
       "             balance  num_of_products  has_cr_card  is_active_member  \\\n",
       "RowNumber                                                              \n",
       "2363       122917.71                1            1                 1   \n",
       "5549            0.00                2            1                 0   \n",
       "9011       121669.93                2            0                 0   \n",
       "9648            0.00                2            0                 1   \n",
       "\n",
       "           estimated_salary  exited  \n",
       "RowNumber                            \n",
       "2363                  11.58       1  \n",
       "5549                  96.27       0  \n",
       "9011                  91.75       1  \n",
       "9648                  90.07       0  "
      ]
     },
     "execution_count": 52,
     "metadata": {},
     "output_type": "execute_result"
    }
   ],
   "source": [
    "df_churn[df_churn['estimated_salary']<=100]"
   ]
  },
  {
   "cell_type": "markdown",
   "metadata": {},
   "source": [
    "Проверим данные на наличие дубликатов:"
   ]
  },
  {
   "cell_type": "code",
   "execution_count": 53,
   "metadata": {},
   "outputs": [
    {
     "data": {
      "text/plain": [
       "Male      5457\n",
       "Female    4543\n",
       "Name: gender, dtype: int64"
      ]
     },
     "execution_count": 53,
     "metadata": {},
     "output_type": "execute_result"
    }
   ],
   "source": [
    "df_churn['gender'].value_counts()"
   ]
  },
  {
   "cell_type": "code",
   "execution_count": 54,
   "metadata": {},
   "outputs": [
    {
     "data": {
      "text/plain": [
       "France     5014\n",
       "Germany    2509\n",
       "Spain      2477\n",
       "Name: geography, dtype: int64"
      ]
     },
     "execution_count": 54,
     "metadata": {},
     "output_type": "execute_result"
    }
   ],
   "source": [
    "df_churn['geography'].value_counts()"
   ]
  },
  {
   "cell_type": "markdown",
   "metadata": {},
   "source": [
    "Неявных дубликатов необнаружено."
   ]
  },
  {
   "cell_type": "code",
   "execution_count": 55,
   "metadata": {},
   "outputs": [
    {
     "data": {
      "text/plain": [
       "False    10000\n",
       "dtype: int64"
      ]
     },
     "execution_count": 55,
     "metadata": {},
     "output_type": "execute_result"
    }
   ],
   "source": [
    "df_churn.duplicated().value_counts()"
   ]
  },
  {
   "cell_type": "markdown",
   "metadata": {},
   "source": [
    "Явных дубликатов тоже необнаружено."
   ]
  },
  {
   "cell_type": "markdown",
   "metadata": {},
   "source": [
    "Для дальнейшей работы необходимо перевести колонки 'geogrphy' и 'gender' типа object к числовому типу int (1/0).\n",
    "\n",
    "Чтобы избежать дамми ловушки используем аргумент `drop_first`=True."
   ]
  },
  {
   "cell_type": "code",
   "execution_count": 56,
   "metadata": {},
   "outputs": [],
   "source": [
    "df_churn_ohe = pd.get_dummies(df_churn,columns=['gender','geography'],drop_first=True)"
   ]
  },
  {
   "cell_type": "code",
   "execution_count": 57,
   "metadata": {},
   "outputs": [
    {
     "data": {
      "text/html": [
       "<div>\n",
       "<style scoped>\n",
       "    .dataframe tbody tr th:only-of-type {\n",
       "        vertical-align: middle;\n",
       "    }\n",
       "\n",
       "    .dataframe tbody tr th {\n",
       "        vertical-align: top;\n",
       "    }\n",
       "\n",
       "    .dataframe thead th {\n",
       "        text-align: right;\n",
       "    }\n",
       "</style>\n",
       "<table border=\"1\" class=\"dataframe\">\n",
       "  <thead>\n",
       "    <tr style=\"text-align: right;\">\n",
       "      <th></th>\n",
       "      <th>customer_id</th>\n",
       "      <th>surname</th>\n",
       "      <th>credit_score</th>\n",
       "      <th>age</th>\n",
       "      <th>tenure</th>\n",
       "      <th>balance</th>\n",
       "      <th>num_of_products</th>\n",
       "      <th>has_cr_card</th>\n",
       "      <th>is_active_member</th>\n",
       "      <th>estimated_salary</th>\n",
       "      <th>exited</th>\n",
       "      <th>gender_male</th>\n",
       "      <th>geography_germany</th>\n",
       "      <th>geography_spain</th>\n",
       "    </tr>\n",
       "    <tr>\n",
       "      <th>RowNumber</th>\n",
       "      <th></th>\n",
       "      <th></th>\n",
       "      <th></th>\n",
       "      <th></th>\n",
       "      <th></th>\n",
       "      <th></th>\n",
       "      <th></th>\n",
       "      <th></th>\n",
       "      <th></th>\n",
       "      <th></th>\n",
       "      <th></th>\n",
       "      <th></th>\n",
       "      <th></th>\n",
       "      <th></th>\n",
       "    </tr>\n",
       "  </thead>\n",
       "  <tbody>\n",
       "    <tr>\n",
       "      <th>1</th>\n",
       "      <td>15634602</td>\n",
       "      <td>Hargrave</td>\n",
       "      <td>619</td>\n",
       "      <td>42</td>\n",
       "      <td>2.0</td>\n",
       "      <td>0.00</td>\n",
       "      <td>1</td>\n",
       "      <td>1</td>\n",
       "      <td>1</td>\n",
       "      <td>101348.88</td>\n",
       "      <td>1</td>\n",
       "      <td>0</td>\n",
       "      <td>0</td>\n",
       "      <td>0</td>\n",
       "    </tr>\n",
       "    <tr>\n",
       "      <th>2</th>\n",
       "      <td>15647311</td>\n",
       "      <td>Hill</td>\n",
       "      <td>608</td>\n",
       "      <td>41</td>\n",
       "      <td>1.0</td>\n",
       "      <td>83807.86</td>\n",
       "      <td>1</td>\n",
       "      <td>0</td>\n",
       "      <td>1</td>\n",
       "      <td>112542.58</td>\n",
       "      <td>0</td>\n",
       "      <td>0</td>\n",
       "      <td>0</td>\n",
       "      <td>1</td>\n",
       "    </tr>\n",
       "    <tr>\n",
       "      <th>3</th>\n",
       "      <td>15619304</td>\n",
       "      <td>Onio</td>\n",
       "      <td>502</td>\n",
       "      <td>42</td>\n",
       "      <td>8.0</td>\n",
       "      <td>159660.80</td>\n",
       "      <td>3</td>\n",
       "      <td>1</td>\n",
       "      <td>0</td>\n",
       "      <td>113931.57</td>\n",
       "      <td>1</td>\n",
       "      <td>0</td>\n",
       "      <td>0</td>\n",
       "      <td>0</td>\n",
       "    </tr>\n",
       "    <tr>\n",
       "      <th>4</th>\n",
       "      <td>15701354</td>\n",
       "      <td>Boni</td>\n",
       "      <td>699</td>\n",
       "      <td>39</td>\n",
       "      <td>1.0</td>\n",
       "      <td>0.00</td>\n",
       "      <td>2</td>\n",
       "      <td>0</td>\n",
       "      <td>0</td>\n",
       "      <td>93826.63</td>\n",
       "      <td>0</td>\n",
       "      <td>0</td>\n",
       "      <td>0</td>\n",
       "      <td>0</td>\n",
       "    </tr>\n",
       "    <tr>\n",
       "      <th>5</th>\n",
       "      <td>15737888</td>\n",
       "      <td>Mitchell</td>\n",
       "      <td>850</td>\n",
       "      <td>43</td>\n",
       "      <td>2.0</td>\n",
       "      <td>125510.82</td>\n",
       "      <td>1</td>\n",
       "      <td>1</td>\n",
       "      <td>1</td>\n",
       "      <td>79084.10</td>\n",
       "      <td>0</td>\n",
       "      <td>0</td>\n",
       "      <td>0</td>\n",
       "      <td>1</td>\n",
       "    </tr>\n",
       "    <tr>\n",
       "      <th>...</th>\n",
       "      <td>...</td>\n",
       "      <td>...</td>\n",
       "      <td>...</td>\n",
       "      <td>...</td>\n",
       "      <td>...</td>\n",
       "      <td>...</td>\n",
       "      <td>...</td>\n",
       "      <td>...</td>\n",
       "      <td>...</td>\n",
       "      <td>...</td>\n",
       "      <td>...</td>\n",
       "      <td>...</td>\n",
       "      <td>...</td>\n",
       "      <td>...</td>\n",
       "    </tr>\n",
       "    <tr>\n",
       "      <th>9996</th>\n",
       "      <td>15606229</td>\n",
       "      <td>Obijiaku</td>\n",
       "      <td>771</td>\n",
       "      <td>39</td>\n",
       "      <td>5.0</td>\n",
       "      <td>0.00</td>\n",
       "      <td>2</td>\n",
       "      <td>1</td>\n",
       "      <td>0</td>\n",
       "      <td>96270.64</td>\n",
       "      <td>0</td>\n",
       "      <td>1</td>\n",
       "      <td>0</td>\n",
       "      <td>0</td>\n",
       "    </tr>\n",
       "    <tr>\n",
       "      <th>9997</th>\n",
       "      <td>15569892</td>\n",
       "      <td>Johnstone</td>\n",
       "      <td>516</td>\n",
       "      <td>35</td>\n",
       "      <td>10.0</td>\n",
       "      <td>57369.61</td>\n",
       "      <td>1</td>\n",
       "      <td>1</td>\n",
       "      <td>1</td>\n",
       "      <td>101699.77</td>\n",
       "      <td>0</td>\n",
       "      <td>1</td>\n",
       "      <td>0</td>\n",
       "      <td>0</td>\n",
       "    </tr>\n",
       "    <tr>\n",
       "      <th>9998</th>\n",
       "      <td>15584532</td>\n",
       "      <td>Liu</td>\n",
       "      <td>709</td>\n",
       "      <td>36</td>\n",
       "      <td>7.0</td>\n",
       "      <td>0.00</td>\n",
       "      <td>1</td>\n",
       "      <td>0</td>\n",
       "      <td>1</td>\n",
       "      <td>42085.58</td>\n",
       "      <td>1</td>\n",
       "      <td>0</td>\n",
       "      <td>0</td>\n",
       "      <td>0</td>\n",
       "    </tr>\n",
       "    <tr>\n",
       "      <th>9999</th>\n",
       "      <td>15682355</td>\n",
       "      <td>Sabbatini</td>\n",
       "      <td>772</td>\n",
       "      <td>42</td>\n",
       "      <td>3.0</td>\n",
       "      <td>75075.31</td>\n",
       "      <td>2</td>\n",
       "      <td>1</td>\n",
       "      <td>0</td>\n",
       "      <td>92888.52</td>\n",
       "      <td>1</td>\n",
       "      <td>1</td>\n",
       "      <td>1</td>\n",
       "      <td>0</td>\n",
       "    </tr>\n",
       "    <tr>\n",
       "      <th>10000</th>\n",
       "      <td>15628319</td>\n",
       "      <td>Walker</td>\n",
       "      <td>792</td>\n",
       "      <td>28</td>\n",
       "      <td>0.0</td>\n",
       "      <td>130142.79</td>\n",
       "      <td>1</td>\n",
       "      <td>1</td>\n",
       "      <td>0</td>\n",
       "      <td>38190.78</td>\n",
       "      <td>0</td>\n",
       "      <td>0</td>\n",
       "      <td>0</td>\n",
       "      <td>0</td>\n",
       "    </tr>\n",
       "  </tbody>\n",
       "</table>\n",
       "<p>10000 rows × 14 columns</p>\n",
       "</div>"
      ],
      "text/plain": [
       "           customer_id    surname  credit_score  age  tenure    balance  \\\n",
       "RowNumber                                                                 \n",
       "1             15634602   Hargrave           619   42     2.0       0.00   \n",
       "2             15647311       Hill           608   41     1.0   83807.86   \n",
       "3             15619304       Onio           502   42     8.0  159660.80   \n",
       "4             15701354       Boni           699   39     1.0       0.00   \n",
       "5             15737888   Mitchell           850   43     2.0  125510.82   \n",
       "...                ...        ...           ...  ...     ...        ...   \n",
       "9996          15606229   Obijiaku           771   39     5.0       0.00   \n",
       "9997          15569892  Johnstone           516   35    10.0   57369.61   \n",
       "9998          15584532        Liu           709   36     7.0       0.00   \n",
       "9999          15682355  Sabbatini           772   42     3.0   75075.31   \n",
       "10000         15628319     Walker           792   28     0.0  130142.79   \n",
       "\n",
       "           num_of_products  has_cr_card  is_active_member  estimated_salary  \\\n",
       "RowNumber                                                                     \n",
       "1                        1            1                 1         101348.88   \n",
       "2                        1            0                 1         112542.58   \n",
       "3                        3            1                 0         113931.57   \n",
       "4                        2            0                 0          93826.63   \n",
       "5                        1            1                 1          79084.10   \n",
       "...                    ...          ...               ...               ...   \n",
       "9996                     2            1                 0          96270.64   \n",
       "9997                     1            1                 1         101699.77   \n",
       "9998                     1            0                 1          42085.58   \n",
       "9999                     2            1                 0          92888.52   \n",
       "10000                    1            1                 0          38190.78   \n",
       "\n",
       "           exited  gender_male  geography_germany  geography_spain  \n",
       "RowNumber                                                           \n",
       "1               1            0                  0                0  \n",
       "2               0            0                  0                1  \n",
       "3               1            0                  0                0  \n",
       "4               0            0                  0                0  \n",
       "5               0            0                  0                1  \n",
       "...           ...          ...                ...              ...  \n",
       "9996            0            1                  0                0  \n",
       "9997            0            1                  0                0  \n",
       "9998            1            0                  0                0  \n",
       "9999            1            1                  1                0  \n",
       "10000           0            0                  0                0  \n",
       "\n",
       "[10000 rows x 14 columns]"
      ]
     },
     "execution_count": 57,
     "metadata": {},
     "output_type": "execute_result"
    }
   ],
   "source": [
    "df_churn_ohe.columns = df_churn_ohe.columns.str.lower()\n",
    "df_churn_ohe"
   ]
  },
  {
   "cell_type": "markdown",
   "metadata": {},
   "source": [
    "### Вывод\n",
    "\n",
    "Имеется набор данных о клиенте банка. \n",
    "В данных есть информация о возрасте, использованных продуктах, наличия кредитной карты, кредитный рейтинг, пол, предполагаемая заработная плата и страна проживания.\n",
    "\n",
    "- Для удобства, названия колонок приведены к змеиному регистру.\n",
    "- Пропуски в колонке 'tenure' были заменены на нули из предположения, что клиент новый и пользуется банком меньше года.\n",
    "- Аномалий и дубликатов не обнаружено.\n",
    "- Колонки 'geogrphy' и 'gender' преобразованы методом One-hot-encoding к чиловому типу 1/0.\n"
   ]
  },
  {
   "cell_type": "markdown",
   "metadata": {},
   "source": [
    "## Исследование задачи"
   ]
  },
  {
   "cell_type": "markdown",
   "metadata": {},
   "source": [
    "Разделим данные на обучающую, валидационную и тестовую выборки:"
   ]
  },
  {
   "cell_type": "code",
   "execution_count": 58,
   "metadata": {},
   "outputs": [],
   "source": [
    "# выделим тестовую выборку\n",
    "df_train, df_test = train_test_split(df_churn_ohe, test_size=0.2, random_state=12345)\n",
    "\n",
    "features_test = df_test.drop(['customer_id','surname','exited'], axis=1)\n",
    "target_test = df_test['exited']\n",
    "\n",
    "# выделим обучающую и валидационную выборки\n",
    "df_train, df_valid = train_test_split(df_train, test_size=0.25, random_state=12345)\n",
    "\n",
    "features_train = df_train.drop(['customer_id','surname','exited'], axis=1)\n",
    "target_train = df_train['exited']\n",
    "features_valid = df_valid.drop(['customer_id','surname','exited'], axis=1)\n",
    "target_valid = df_valid['exited']"
   ]
  },
  {
   "cell_type": "markdown",
   "metadata": {},
   "source": [
    "Выполним стандартизацию для численных признаков"
   ]
  },
  {
   "cell_type": "code",
   "execution_count": 59,
   "metadata": {},
   "outputs": [
    {
     "data": {
      "text/html": [
       "<div>\n",
       "<style scoped>\n",
       "    .dataframe tbody tr th:only-of-type {\n",
       "        vertical-align: middle;\n",
       "    }\n",
       "\n",
       "    .dataframe tbody tr th {\n",
       "        vertical-align: top;\n",
       "    }\n",
       "\n",
       "    .dataframe thead th {\n",
       "        text-align: right;\n",
       "    }\n",
       "</style>\n",
       "<table border=\"1\" class=\"dataframe\">\n",
       "  <thead>\n",
       "    <tr style=\"text-align: right;\">\n",
       "      <th></th>\n",
       "      <th>credit_score</th>\n",
       "      <th>age</th>\n",
       "      <th>tenure</th>\n",
       "      <th>balance</th>\n",
       "      <th>num_of_products</th>\n",
       "      <th>has_cr_card</th>\n",
       "      <th>is_active_member</th>\n",
       "      <th>estimated_salary</th>\n",
       "      <th>gender_male</th>\n",
       "      <th>geography_germany</th>\n",
       "      <th>geography_spain</th>\n",
       "    </tr>\n",
       "    <tr>\n",
       "      <th>RowNumber</th>\n",
       "      <th></th>\n",
       "      <th></th>\n",
       "      <th></th>\n",
       "      <th></th>\n",
       "      <th></th>\n",
       "      <th></th>\n",
       "      <th></th>\n",
       "      <th></th>\n",
       "      <th></th>\n",
       "      <th></th>\n",
       "      <th></th>\n",
       "    </tr>\n",
       "  </thead>\n",
       "  <tbody>\n",
       "    <tr>\n",
       "      <th>7868</th>\n",
       "      <td>-0.123733</td>\n",
       "      <td>0.685430</td>\n",
       "      <td>-0.493375</td>\n",
       "      <td>-1.232442</td>\n",
       "      <td>-0.896909</td>\n",
       "      <td>1</td>\n",
       "      <td>1</td>\n",
       "      <td>0.980212</td>\n",
       "      <td>0</td>\n",
       "      <td>0</td>\n",
       "      <td>1</td>\n",
       "    </tr>\n",
       "    <tr>\n",
       "      <th>1403</th>\n",
       "      <td>1.083087</td>\n",
       "      <td>-0.937002</td>\n",
       "      <td>1.102791</td>\n",
       "      <td>0.858518</td>\n",
       "      <td>-0.896909</td>\n",
       "      <td>1</td>\n",
       "      <td>0</td>\n",
       "      <td>-0.390486</td>\n",
       "      <td>1</td>\n",
       "      <td>0</td>\n",
       "      <td>0</td>\n",
       "    </tr>\n",
       "    <tr>\n",
       "      <th>8607</th>\n",
       "      <td>1.598822</td>\n",
       "      <td>0.303681</td>\n",
       "      <td>0.145091</td>\n",
       "      <td>-1.232442</td>\n",
       "      <td>0.816929</td>\n",
       "      <td>1</td>\n",
       "      <td>1</td>\n",
       "      <td>-0.435169</td>\n",
       "      <td>1</td>\n",
       "      <td>0</td>\n",
       "      <td>1</td>\n",
       "    </tr>\n",
       "    <tr>\n",
       "      <th>8886</th>\n",
       "      <td>0.165078</td>\n",
       "      <td>0.589993</td>\n",
       "      <td>-0.174142</td>\n",
       "      <td>0.412100</td>\n",
       "      <td>0.816929</td>\n",
       "      <td>1</td>\n",
       "      <td>1</td>\n",
       "      <td>1.017079</td>\n",
       "      <td>1</td>\n",
       "      <td>0</td>\n",
       "      <td>1</td>\n",
       "    </tr>\n",
       "    <tr>\n",
       "      <th>6495</th>\n",
       "      <td>0.484834</td>\n",
       "      <td>-1.032439</td>\n",
       "      <td>0.783558</td>\n",
       "      <td>-1.232442</td>\n",
       "      <td>0.816929</td>\n",
       "      <td>1</td>\n",
       "      <td>1</td>\n",
       "      <td>-1.343558</td>\n",
       "      <td>1</td>\n",
       "      <td>0</td>\n",
       "      <td>0</td>\n",
       "    </tr>\n",
       "  </tbody>\n",
       "</table>\n",
       "</div>"
      ],
      "text/plain": [
       "           credit_score       age    tenure   balance  num_of_products  \\\n",
       "RowNumber                                                                \n",
       "7868          -0.123733  0.685430 -0.493375 -1.232442        -0.896909   \n",
       "1403           1.083087 -0.937002  1.102791  0.858518        -0.896909   \n",
       "8607           1.598822  0.303681  0.145091 -1.232442         0.816929   \n",
       "8886           0.165078  0.589993 -0.174142  0.412100         0.816929   \n",
       "6495           0.484834 -1.032439  0.783558 -1.232442         0.816929   \n",
       "\n",
       "           has_cr_card  is_active_member  estimated_salary  gender_male  \\\n",
       "RowNumber                                                                 \n",
       "7868                 1                 1          0.980212            0   \n",
       "1403                 1                 0         -0.390486            1   \n",
       "8607                 1                 1         -0.435169            1   \n",
       "8886                 1                 1          1.017079            1   \n",
       "6495                 1                 1         -1.343558            1   \n",
       "\n",
       "           geography_germany  geography_spain  \n",
       "RowNumber                                      \n",
       "7868                       0                1  \n",
       "1403                       0                0  \n",
       "8607                       0                1  \n",
       "8886                       0                1  \n",
       "6495                       0                0  "
      ]
     },
     "execution_count": 59,
     "metadata": {},
     "output_type": "execute_result"
    }
   ],
   "source": [
    "features_numeric = ['credit_score',\n",
    "                    'age',\n",
    "                    'tenure',\n",
    "                    'balance',\n",
    "                    'num_of_products',\n",
    "                    'estimated_salary']\n",
    "\n",
    "scaler = StandardScaler()\n",
    "\n",
    "scaler.fit(features_train[features_numeric]) \n",
    "features_train[features_numeric] = scaler.transform(features_train[features_numeric])\n",
    "features_valid[features_numeric] = scaler.transform(features_valid[features_numeric])\n",
    "features_test[features_numeric] = scaler.transform(features_test[features_numeric])\n",
    "\n",
    "#pd.options.mode.chained_assignment = None\n",
    "features_test.head()"
   ]
  },
  {
   "cell_type": "code",
   "execution_count": 60,
   "metadata": {
    "scrolled": true
   },
   "outputs": [
    {
     "name": "stdout",
     "output_type": "stream",
     "text": [
      "Размер тестовой выборки:\n",
      "features_test: (2000, 11)\n",
      "target_test: (2000,)\n",
      "\n",
      "Размер валидационной выборки:\n",
      "features_valid: (2000, 11)\n",
      "target_valid: (2000,)\n",
      "\n",
      "Размер обучающей выборки:\n",
      "features_train: (6000, 11)\n",
      "target_train: (6000,)\n"
     ]
    }
   ],
   "source": [
    "# Проверка на соответсвие размеров выборок\n",
    "print('Размер тестовой выборки:')\n",
    "print('features_test:',features_test.shape)\n",
    "print('target_test:',target_test.shape)\n",
    "\n",
    "print()\n",
    "print('Размер валидационной выборки:')\n",
    "print('features_valid:',features_valid.shape)\n",
    "print('target_valid:',target_valid.shape)\n",
    "\n",
    "print()\n",
    "print('Размер обучающей выборки:')\n",
    "print('features_train:',features_train.shape)\n",
    "print('target_train:',target_train.shape)"
   ]
  },
  {
   "cell_type": "markdown",
   "metadata": {},
   "source": [
    "Выберем лучшие параметры для моделей типа \"дерево решений\" и \"случайный лес\". А также сравним f1-меру для моделей \"логическая регрессия\", \"дерево решений\" и \"случайный лес\" при лучших параметрах."
   ]
  },
  {
   "cell_type": "code",
   "execution_count": 61,
   "metadata": {},
   "outputs": [],
   "source": [
    "# DecisionTreeClassifier\n",
    "def best_papameters_tree(features_train,target_train,features_valid,target_valid):\n",
    "    best_model_tree = None\n",
    "    best_f1_tree = 0\n",
    "    best_depth_tree = 0\n",
    "    for depth in range(1, 10):\n",
    "        model_tree = DecisionTreeClassifier(random_state=12345, max_depth=depth)\n",
    "        model_tree.fit(features_train,target_train)\n",
    "        predictions_tree = model_tree.predict(features_valid)\n",
    "        f1_tree = f1_score(target_valid, predictions_tree)\n",
    "        if f1_tree > best_f1_tree:\n",
    "            best_model_tree = model_tree\n",
    "            best_f1_tree = f1_tree\n",
    "            best_depth_tree = depth\n",
    "    return best_depth_tree"
   ]
  },
  {
   "cell_type": "code",
   "execution_count": 62,
   "metadata": {},
   "outputs": [],
   "source": [
    "best_depth_tree = best_papameters_tree(features_train,target_train,features_valid,target_valid)\n",
    "\n",
    "model_tree = DecisionTreeClassifier(random_state=12345, max_depth=best_depth_tree)\n",
    "model_tree.fit(features_train,target_train)\n",
    "predictions_tree = model_tree.predict(features_valid)\n",
    "\n",
    "probabilities_valid_tree = model_tree.predict_proba(features_valid)\n",
    "probabilities_valid_tree = probabilities_valid_tree[:, 1]"
   ]
  },
  {
   "cell_type": "code",
   "execution_count": 63,
   "metadata": {},
   "outputs": [],
   "source": [
    "# RandomForestClassifier\n",
    "def best_papameters_forest(features_train,target_train,features_valid,target_valid):\n",
    "    best_model_forest = None\n",
    "    best_f1_forest = 0\n",
    "    best_est_forest = 0\n",
    "    best_depth_forest = 0\n",
    "    for est in range(1, 50):\n",
    "        for depth in range (1, 11):\n",
    "            model_forest = RandomForestClassifier(random_state=12345, n_estimators=est,max_depth=depth)\n",
    "            model_forest.fit(features_train,target_train)\n",
    "            predictions_forest = model_forest.predict(features_valid)\n",
    "            f1_forest = f1_score(target_valid, predictions_forest)\n",
    "            if f1_forest > best_f1_forest:\n",
    "                best_model_forest = model_forest\n",
    "                best_f1_forest = f1_forest\n",
    "                best_est_forest = est\n",
    "                best_depth_forest = depth\n",
    "    return best_depth_forest,best_est_forest"
   ]
  },
  {
   "cell_type": "code",
   "execution_count": 64,
   "metadata": {},
   "outputs": [],
   "source": [
    "best_depth_forest,best_est_forest = best_papameters_forest(features_train,target_train,features_valid,target_valid)\n",
    "\n",
    "model_forest = RandomForestClassifier(random_state=12345, n_estimators=best_est_forest,max_depth=best_depth_forest)\n",
    "model_forest.fit(features_train,target_train)\n",
    "predictions_forest = model_forest.predict(features_valid)\n",
    "\n",
    "probabilities_valid_forest = model_forest.predict_proba(features_valid)\n",
    "probabilities_valid_forest = probabilities_valid_forest[:, 1]"
   ]
  },
  {
   "cell_type": "code",
   "execution_count": 65,
   "metadata": {},
   "outputs": [],
   "source": [
    "# LogisticRegression\n",
    "model_log = LogisticRegression(random_state=12345)\n",
    "model_log.fit(features_train,target_train)\n",
    "predictions_log = model_log.predict(features_valid)\n",
    "\n",
    "probabilities_valid_log = model_log.predict_proba(features_valid)\n",
    "probabilities_valid_log = probabilities_valid_log[:, 1]"
   ]
  },
  {
   "cell_type": "code",
   "execution_count": 66,
   "metadata": {},
   "outputs": [],
   "source": [
    "f1_tree = f1_score(target_valid, predictions_tree)\n",
    "f1_forest = f1_score(target_valid, predictions_forest)\n",
    "f1_log = f1_score(target_valid, predictions_log)\n",
    "\n",
    "auc_roc_tree = roc_auc_score(target_valid, probabilities_valid_tree)\n",
    "auc_roc_forest = roc_auc_score(target_valid, probabilities_valid_forest)\n",
    "auc_roc_log = roc_auc_score(target_valid, probabilities_valid_log)"
   ]
  },
  {
   "cell_type": "code",
   "execution_count": 67,
   "metadata": {},
   "outputs": [
    {
     "name": "stdout",
     "output_type": "stream",
     "text": [
      "F1-мера моделей на валидационной выборке:\n",
      "\"дерево решений\":\t 0.5488958990536277 Глубина дерева:\t 7\n",
      "\"случайный лес\":\t 0.5529801324503313 Количество деревьев: 40 Максимальная глубина:\t 9\n",
      "\"логическая регрессия\":\t 0.3056603773584906\n",
      "\n",
      "AUC ROC моделей на валидационной выборке:\n",
      "\"дерево решений\":\t 0.8275652142122556 Глубина дерева:\t 7\n",
      "\"случайный лес\":\t 0.8470893423978612 Количество деревьев: 40 Максимальная глубина:\t 9\n",
      "\"логическая регрессия\":\t 0.770792171274433\n"
     ]
    }
   ],
   "source": [
    "print(\"F1-мера моделей на валидационной выборке:\")\n",
    "\n",
    "print(\"\\\"дерево решений\\\":\\t\", f1_tree, \n",
    "      \"Глубина дерева:\\t\", best_depth_tree)\n",
    "\n",
    "print(\"\\\"случайный лес\\\":\\t\", f1_forest, \n",
    "      \"Количество деревьев:\", best_est_forest, \n",
    "      \"Максимальная глубина:\\t\", best_depth_forest)\n",
    "\n",
    "print(\"\\\"логическая регрессия\\\":\\t\", f1_log)\n",
    "\n",
    "print()\n",
    "print(\"AUC ROC моделей на валидационной выборке:\")\n",
    "\n",
    "print(\"\\\"дерево решений\\\":\\t\", auc_roc_tree, \n",
    "      \"Глубина дерева:\\t\", best_depth_tree)\n",
    "\n",
    "print(\"\\\"случайный лес\\\":\\t\", auc_roc_forest, \n",
    "      \"Количество деревьев:\", best_est_forest, \n",
    "      \"Максимальная глубина:\\t\", best_depth_forest)\n",
    "\n",
    "print(\"\\\"логическая регрессия\\\":\\t\", auc_roc_log)"
   ]
  },
  {
   "cell_type": "markdown",
   "metadata": {},
   "source": [
    "F1-мера ниже необходимого значения.  Посмотрим на баланс классов."
   ]
  },
  {
   "cell_type": "markdown",
   "metadata": {},
   "source": [
    "## Борьба с дисбалансом"
   ]
  },
  {
   "cell_type": "code",
   "execution_count": 68,
   "metadata": {},
   "outputs": [
    {
     "data": {
      "text/plain": [
       "0    0.796833\n",
       "1    0.203167\n",
       "Name: exited, dtype: float64"
      ]
     },
     "execution_count": 68,
     "metadata": {},
     "output_type": "execute_result"
    }
   ],
   "source": [
    "class_frequency = target_train.value_counts(normalize=True)\n",
    "class_frequency"
   ]
  },
  {
   "cell_type": "code",
   "execution_count": 69,
   "metadata": {},
   "outputs": [
    {
     "data": {
      "image/png": "[encoded data removed]",
      "text/plain": [
       "<Figure size 576x360 with 1 Axes>"
      ]
     },
     "metadata": {
      "needs_background": "light"
     },
     "output_type": "display_data"
    }
   ],
   "source": [
    "plt.figure(figsize=[8, 5])\n",
    "ticks_label = ['отрицательный (0)','положительный (1)']\n",
    "\n",
    "plt.bar(ticks_label, class_frequency)\n",
    "\n",
    "plt.xticks(ticks_label, fontsize=15)\n",
    "plt.yticks(fontsize=15)\n",
    "plt.title('Баланс классов', fontsize=20)\n",
    "plt.xlabel('Классы', fontsize=17)\n",
    "plt.ylabel('Доля', fontsize=17)\n",
    "\n",
    "plt.show()"
   ]
  },
  {
   "cell_type": "markdown",
   "metadata": {},
   "source": [
    "В данных явно преобладает отрицательный класс. Сбалансируем классы увеличением числа положительных объектов."
   ]
  },
  {
   "cell_type": "code",
   "execution_count": 70,
   "metadata": {},
   "outputs": [],
   "source": [
    "def upsample(features, target, repeat):\n",
    "    features_zeros = features[target == 0]\n",
    "    features_ones = features[target == 1]\n",
    "    target_zeros = target[target == 0]\n",
    "    target_ones = target[target == 1]\n",
    "\n",
    "    features_upsampled = pd.concat([features_zeros] + [features_ones] * repeat)\n",
    "    target_upsampled = pd.concat([target_zeros] + [target_ones] * repeat)\n",
    "    \n",
    "    features_upsampled, target_upsampled = shuffle(\n",
    "        features_upsampled, target_upsampled, random_state=12345)\n",
    "    \n",
    "    return features_upsampled, target_upsampled\n",
    "\n",
    "features_upsampled, target_upsampled = upsample(features_train, \n",
    "                                                target_train, \n",
    "                                                round(class_frequency[0]/class_frequency[1]) )"
   ]
  },
  {
   "cell_type": "code",
   "execution_count": 71,
   "metadata": {},
   "outputs": [
    {
     "name": "stdout",
     "output_type": "stream",
     "text": [
      "Размер увеличенной обучающей выборки:\n",
      "features_train: (9657, 11)\n",
      "target_train: (9657,)\n"
     ]
    }
   ],
   "source": [
    "print('Размер увеличенной обучающей выборки:')\n",
    "print('features_train:',features_upsampled.shape)\n",
    "print('target_train:',target_upsampled.shape)"
   ]
  },
  {
   "cell_type": "markdown",
   "metadata": {},
   "source": [
    "Посмотрим на метрики моделей обученных на увеличенных тренировочных данных"
   ]
  },
  {
   "cell_type": "code",
   "execution_count": 72,
   "metadata": {},
   "outputs": [],
   "source": [
    "# DecisionTreeClassifier\n",
    "best_depth_tree_up = best_papameters_tree(features_upsampled,target_upsampled,features_valid,target_valid)\n",
    "\n",
    "model_tree = DecisionTreeClassifier(random_state=12345, max_depth=best_depth_tree_up)\n",
    "model_tree.fit(features_upsampled,target_upsampled)\n",
    "predictions_tree = model_tree.predict(features_valid)\n",
    "\n",
    "probabilities_valid_tree = model_tree.predict_proba(features_valid)\n",
    "probabilities_valid_tree = probabilities_valid_tree[:, 1]"
   ]
  },
  {
   "cell_type": "code",
   "execution_count": 73,
   "metadata": {},
   "outputs": [],
   "source": [
    "# RandomForestClassifier\n",
    "best_depth_forest_up, best_est_forest_up = best_papameters_forest(features_upsampled,target_upsampled,\n",
    "                                                                  features_valid,target_valid)\n",
    "\n",
    "model_forest = RandomForestClassifier(random_state=12345,\n",
    "                                      n_estimators=best_est_forest_up,\n",
    "                                      max_depth=best_depth_forest_up)\n",
    "model_forest.fit(features_upsampled,target_upsampled)\n",
    "predictions_forest = model_forest.predict(features_valid)\n",
    "\n",
    "probabilities_valid_forest = model_forest.predict_proba(features_valid)\n",
    "probabilities_valid_forest = probabilities_valid_forest[:, 1]"
   ]
  },
  {
   "cell_type": "code",
   "execution_count": 74,
   "metadata": {},
   "outputs": [],
   "source": [
    "# LogisticRegression\n",
    "model_log = LogisticRegression(random_state=12345)\n",
    "model_log.fit(features_upsampled,target_upsampled)\n",
    "predictions_log = model_log.predict(features_valid)\n",
    "\n",
    "probabilities_valid_log = model_log.predict_proba(features_valid)\n",
    "probabilities_valid_log = probabilities_valid_log[:, 1]"
   ]
  },
  {
   "cell_type": "code",
   "execution_count": 75,
   "metadata": {},
   "outputs": [],
   "source": [
    "f1_tree_up = f1_score(target_valid, predictions_tree)\n",
    "f1_forest_up = f1_score(target_valid, predictions_forest)\n",
    "f1_log_up = f1_score(target_valid, predictions_log)\n",
    "\n",
    "auc_roc_tree_up = roc_auc_score(target_valid, probabilities_valid_tree)\n",
    "auc_roc_forest_up = roc_auc_score(target_valid, probabilities_valid_forest)\n",
    "auc_roc_log_up = roc_auc_score(target_valid, probabilities_valid_log)"
   ]
  },
  {
   "cell_type": "code",
   "execution_count": 76,
   "metadata": {},
   "outputs": [
    {
     "name": "stdout",
     "output_type": "stream",
     "text": [
      "F1-мера моделей на валидационной выборке:\n",
      "\"дерево решений\":\t 0.5572441742654509 Глубина дерева:\t 6\n",
      "\"случайный лес\":\t 0.5910577971646673 Количество деревьев: 22 Максимальная глубина:\t 8\n",
      "\"логическая регрессия\":\t 0.4783759929390997\n",
      "\n",
      "AUC ROC моделей на валидационной выборке:\n",
      "\"дерево решений\":\t 0.8063474477801497 Глубина дерева:\t 6\n",
      "\"случайный лес\":\t 0.8525088258342222 Количество деревьев: 22 Максимальная глубина:\t 8\n",
      "\"логическая регрессия\":\t 0.7729777673222394\n"
     ]
    }
   ],
   "source": [
    "print(\"F1-мера моделей на валидационной выборке:\")\n",
    "\n",
    "print(\"\\\"дерево решений\\\":\\t\", f1_tree_up, \n",
    "      \"Глубина дерева:\\t\", best_depth_tree_up)\n",
    "\n",
    "print(\"\\\"случайный лес\\\":\\t\", f1_forest_up, \n",
    "      \"Количество деревьев:\", best_est_forest_up, \n",
    "      \"Максимальная глубина:\\t\", best_depth_forest_up)\n",
    "\n",
    "print(\"\\\"логическая регрессия\\\":\\t\", f1_log_up)\n",
    "\n",
    "print()\n",
    "print(\"AUC ROC моделей на валидационной выборке:\")\n",
    "\n",
    "print(\"\\\"дерево решений\\\":\\t\", auc_roc_tree_up, \n",
    "      \"Глубина дерева:\\t\", best_depth_tree_up)\n",
    "\n",
    "print(\"\\\"случайный лес\\\":\\t\", auc_roc_forest_up, \n",
    "      \"Количество деревьев:\", best_est_forest_up, \n",
    "      \"Максимальная глубина:\\t\", best_depth_forest_up)\n",
    "\n",
    "print(\"\\\"логическая регрессия\\\":\\t\", auc_roc_log_up)"
   ]
  },
  {
   "cell_type": "markdown",
   "metadata": {},
   "source": [
    "F1-мера улучшилась по сравнинию с несбалансированными данными, но все еще ниже необходимого значения в 0.59.\n",
    "\n",
    "Попробуем сбалансировать классы уменьшением числа отрицательных объектов."
   ]
  },
  {
   "cell_type": "code",
   "execution_count": 77,
   "metadata": {},
   "outputs": [],
   "source": [
    "def downsample(features, target, fraction):\n",
    "    features_zeros = features[target == 0]\n",
    "    features_ones = features[target == 1]\n",
    "    target_zeros = target[target == 0]\n",
    "    target_ones = target[target == 1]\n",
    "\n",
    "    features_downsampled = pd.concat(\n",
    "        [features_zeros.sample(frac=fraction, random_state=12345)] + [features_ones])\n",
    "    target_downsampled = pd.concat(\n",
    "        [target_zeros.sample(frac=fraction, random_state=12345)] + [target_ones])\n",
    "    \n",
    "    features_downsampled, target_downsampled = shuffle(\n",
    "        features_downsampled, target_downsampled, random_state=12345)\n",
    "    \n",
    "    return features_downsampled, target_downsampled\n",
    "\n",
    "features_downsampled, target_downsampled = downsample(features_train, \n",
    "                                                target_train, \n",
    "                                                round(class_frequency[1]/class_frequency[0],2) )"
   ]
  },
  {
   "cell_type": "code",
   "execution_count": 78,
   "metadata": {},
   "outputs": [
    {
     "name": "stdout",
     "output_type": "stream",
     "text": [
      "Размер уменьшиной обучающей выборки:\n",
      "features_train: (2414, 11)\n",
      "target_train: (2414,)\n"
     ]
    }
   ],
   "source": [
    "print('Размер уменьшиной обучающей выборки:')\n",
    "print('features_train:',features_downsampled.shape)\n",
    "print('target_train:',target_downsampled.shape)"
   ]
  },
  {
   "cell_type": "markdown",
   "metadata": {},
   "source": [
    "Посмотрим на метрики моделей обученных на уменьшиных тренировочных данных"
   ]
  },
  {
   "cell_type": "code",
   "execution_count": 79,
   "metadata": {},
   "outputs": [],
   "source": [
    "# DecisionTreeClassifier\n",
    "best_depth_tree_down = best_papameters_tree(features_downsampled,target_downsampled,features_valid,target_valid)\n",
    "\n",
    "model_tree = DecisionTreeClassifier(random_state=12345, max_depth=best_depth_tree_down)\n",
    "model_tree.fit(features_downsampled,target_downsampled)\n",
    "predictions_tree = model_tree.predict(features_valid)\n",
    "\n",
    "probabilities_valid_tree = model_tree.predict_proba(features_valid)\n",
    "probabilities_valid_tree = probabilities_valid_tree[:, 1]"
   ]
  },
  {
   "cell_type": "code",
   "execution_count": 80,
   "metadata": {},
   "outputs": [],
   "source": [
    "# RandomForestClassifier\n",
    "best_depth_forest_down, best_est_forest_down = best_papameters_forest(features_downsampled,target_downsampled,\n",
    "                                                                      features_valid,target_valid)\n",
    "\n",
    "model_forest = RandomForestClassifier(random_state=12345, \n",
    "                                      n_estimators=best_est_forest_down,\n",
    "                                      max_depth=best_depth_forest_down)\n",
    "model_forest.fit(features_downsampled,target_downsampled)\n",
    "predictions_forest = model_forest.predict(features_valid)\n",
    "\n",
    "probabilities_valid_forest = model_forest.predict_proba(features_valid)\n",
    "probabilities_valid_forest = probabilities_valid_forest[:, 1]"
   ]
  },
  {
   "cell_type": "code",
   "execution_count": 81,
   "metadata": {},
   "outputs": [],
   "source": [
    "# LogisticRegression\n",
    "model_log = LogisticRegression(random_state=12345)\n",
    "model_log.fit(features_downsampled,target_downsampled)\n",
    "predictions_log = model_log.predict(features_valid)\n",
    "\n",
    "probabilities_valid_log = model_log.predict_proba(features_valid)\n",
    "probabilities_valid_log = probabilities_valid_log[:, 1]"
   ]
  },
  {
   "cell_type": "code",
   "execution_count": 82,
   "metadata": {},
   "outputs": [],
   "source": [
    "f1_tree_down = f1_score(target_valid, predictions_tree)\n",
    "f1_forest_down = f1_score(target_valid, predictions_forest)\n",
    "f1_log_down = f1_score(target_valid, predictions_log)\n",
    "\n",
    "auc_roc_tree_down = roc_auc_score(target_valid, probabilities_valid_tree)\n",
    "auc_roc_forest_down = roc_auc_score(target_valid, probabilities_valid_forest)\n",
    "auc_roc_log_down = roc_auc_score(target_valid, probabilities_valid_log)"
   ]
  },
  {
   "cell_type": "code",
   "execution_count": 83,
   "metadata": {},
   "outputs": [
    {
     "name": "stdout",
     "output_type": "stream",
     "text": [
      "F1-мера моделей на валидационной выборке:\n",
      "\"дерево решений\":\t 0.5469767441860465 Глубина дерева:\t 7\n",
      "\"случайный лес\":\t 0.577822990844354 Количество деревьев: 20 Максимальная глубина:\t 8\n",
      "\"логическая регрессия\":\t 0.4757709251101322\n",
      "\n",
      "AUC ROC моделей на валидационной выборке:\n",
      "\"дерево решений\":\t 0.8160244723176378 Глубина дерева:\t 7\n",
      "\"случайный лес\":\t 0.8419448466824242 Количество деревьев: 20 Максимальная глубина:\t 8\n",
      "\"логическая регрессия\":\t 0.7739791676932345\n"
     ]
    }
   ],
   "source": [
    "print(\"F1-мера моделей на валидационной выборке:\")\n",
    "\n",
    "print(\"\\\"дерево решений\\\":\\t\", f1_tree_down, \n",
    "      \"Глубина дерева:\\t\", best_depth_tree_down)\n",
    "\n",
    "print(\"\\\"случайный лес\\\":\\t\", f1_forest_down, \n",
    "      \"Количество деревьев:\", best_est_forest_down, \n",
    "      \"Максимальная глубина:\\t\", best_depth_forest_down)\n",
    "\n",
    "print(\"\\\"логическая регрессия\\\":\\t\", f1_log_down)\n",
    "\n",
    "print()\n",
    "print(\"AUC ROC моделей на валидационной выборке:\")\n",
    "\n",
    "print(\"\\\"дерево решений\\\":\\t\", auc_roc_tree_down, \n",
    "      \"Глубина дерева:\\t\", best_depth_tree_down)\n",
    "\n",
    "print(\"\\\"случайный лес\\\":\\t\", auc_roc_forest_down, \n",
    "      \"Количество деревьев:\", best_est_forest_down, \n",
    "      \"Максимальная глубина:\\t\", best_depth_forest_down)\n",
    "\n",
    "print(\"\\\"логическая регрессия\\\":\\t\", auc_roc_log_down)"
   ]
  },
  {
   "cell_type": "code",
   "execution_count": 84,
   "metadata": {},
   "outputs": [
    {
     "data": {
      "text/html": [
       "<div>\n",
       "<style scoped>\n",
       "    .dataframe tbody tr th:only-of-type {\n",
       "        vertical-align: middle;\n",
       "    }\n",
       "\n",
       "    .dataframe tbody tr th {\n",
       "        vertical-align: top;\n",
       "    }\n",
       "\n",
       "    .dataframe thead th {\n",
       "        text-align: right;\n",
       "    }\n",
       "</style>\n",
       "<table border=\"1\" class=\"dataframe\">\n",
       "  <thead>\n",
       "    <tr style=\"text-align: right;\">\n",
       "      <th>data</th>\n",
       "      <th>unbalanced</th>\n",
       "      <th>balanced_upsampled</th>\n",
       "      <th>balanced_downsampled</th>\n",
       "    </tr>\n",
       "  </thead>\n",
       "  <tbody>\n",
       "    <tr>\n",
       "      <th>f1_tree</th>\n",
       "      <td>0.548896</td>\n",
       "      <td>0.557244</td>\n",
       "      <td>0.546977</td>\n",
       "    </tr>\n",
       "    <tr>\n",
       "      <th>f1_forest</th>\n",
       "      <td>0.552980</td>\n",
       "      <td>0.591058</td>\n",
       "      <td>0.577823</td>\n",
       "    </tr>\n",
       "    <tr>\n",
       "      <th>f1_log</th>\n",
       "      <td>0.305660</td>\n",
       "      <td>0.478376</td>\n",
       "      <td>0.475771</td>\n",
       "    </tr>\n",
       "    <tr>\n",
       "      <th>auc_roc_tree</th>\n",
       "      <td>0.827565</td>\n",
       "      <td>0.806347</td>\n",
       "      <td>0.816024</td>\n",
       "    </tr>\n",
       "    <tr>\n",
       "      <th>auc_roc_forest</th>\n",
       "      <td>0.847089</td>\n",
       "      <td>0.852509</td>\n",
       "      <td>0.841945</td>\n",
       "    </tr>\n",
       "    <tr>\n",
       "      <th>auc_roc_log</th>\n",
       "      <td>0.770792</td>\n",
       "      <td>0.772978</td>\n",
       "      <td>0.773979</td>\n",
       "    </tr>\n",
       "  </tbody>\n",
       "</table>\n",
       "</div>"
      ],
      "text/plain": [
       "data            unbalanced  balanced_upsampled  balanced_downsampled\n",
       "f1_tree           0.548896            0.557244              0.546977\n",
       "f1_forest         0.552980            0.591058              0.577823\n",
       "f1_log            0.305660            0.478376              0.475771\n",
       "auc_roc_tree      0.827565            0.806347              0.816024\n",
       "auc_roc_forest    0.847089            0.852509              0.841945\n",
       "auc_roc_log       0.770792            0.772978              0.773979"
      ]
     },
     "execution_count": 84,
     "metadata": {},
     "output_type": "execute_result"
    }
   ],
   "source": [
    "scores = {\n",
    "    'data':['unbalanced','balanced_upsampled','balanced_downsampled'],\n",
    "    'f1_tree':[f1_tree, f1_tree_up, f1_tree_down],\n",
    "    'f1_forest':[f1_forest, f1_forest_up, f1_forest_down],\n",
    "    'f1_log':[f1_log, f1_log_up, f1_log_down],\n",
    "    'auc_roc_tree':[auc_roc_tree, auc_roc_tree_up, auc_roc_tree_down],\n",
    "    'auc_roc_forest':[auc_roc_forest, auc_roc_forest_up, auc_roc_forest_down],\n",
    "    'auc_roc_log':[auc_roc_log, auc_roc_log_up, auc_roc_log_down]\n",
    "}\n",
    "\n",
    "df_scores = pd.DataFrame(scores)\n",
    "\n",
    "df_scores.set_index('data',inplace=True)\n",
    "df_scores = df_scores.transpose()\n",
    "\n",
    "df_scores"
   ]
  },
  {
   "cell_type": "code",
   "execution_count": 85,
   "metadata": {},
   "outputs": [
    {
     "data": {
      "text/html": [
       "<div>\n",
       "<style scoped>\n",
       "    .dataframe tbody tr th:only-of-type {\n",
       "        vertical-align: middle;\n",
       "    }\n",
       "\n",
       "    .dataframe tbody tr th {\n",
       "        vertical-align: top;\n",
       "    }\n",
       "\n",
       "    .dataframe thead th {\n",
       "        text-align: right;\n",
       "    }\n",
       "</style>\n",
       "<table border=\"1\" class=\"dataframe\">\n",
       "  <thead>\n",
       "    <tr style=\"text-align: right;\">\n",
       "      <th>data</th>\n",
       "      <th>unbalanced</th>\n",
       "      <th>balanced_upsampled</th>\n",
       "      <th>balanced_downsampled</th>\n",
       "    </tr>\n",
       "  </thead>\n",
       "  <tbody>\n",
       "    <tr>\n",
       "      <th>max_depth_tree</th>\n",
       "      <td>7</td>\n",
       "      <td>6</td>\n",
       "      <td>7</td>\n",
       "    </tr>\n",
       "    <tr>\n",
       "      <th>max_depth_forest</th>\n",
       "      <td>9</td>\n",
       "      <td>8</td>\n",
       "      <td>8</td>\n",
       "    </tr>\n",
       "    <tr>\n",
       "      <th>n_estimators_forest</th>\n",
       "      <td>40</td>\n",
       "      <td>22</td>\n",
       "      <td>20</td>\n",
       "    </tr>\n",
       "  </tbody>\n",
       "</table>\n",
       "</div>"
      ],
      "text/plain": [
       "data                 unbalanced  balanced_upsampled  balanced_downsampled\n",
       "max_depth_tree                7                   6                     7\n",
       "max_depth_forest              9                   8                     8\n",
       "n_estimators_forest          40                  22                    20"
      ]
     },
     "execution_count": 85,
     "metadata": {},
     "output_type": "execute_result"
    }
   ],
   "source": [
    "complexity = {\n",
    "    'data':['unbalanced','balanced_upsampled','balanced_downsampled'],\n",
    "    'max_depth_tree':[best_depth_tree,best_depth_tree_up,best_depth_tree_down],\n",
    "    'max_depth_forest':[best_depth_forest,best_depth_forest_up,best_depth_forest_down],\n",
    "    'n_estimators_forest':[best_est_forest,best_est_forest_up,best_est_forest_down]\n",
    "}\n",
    "\n",
    "df_complexity = pd.DataFrame(complexity)\n",
    "\n",
    "df_complexity.set_index('data',inplace=True)\n",
    "df_complexity = df_complexity.transpose()\n",
    "\n",
    "df_complexity"
   ]
  },
  {
   "cell_type": "code",
   "execution_count": 86,
   "metadata": {
    "scrolled": false
   },
   "outputs": [
    {
     "data": {
      "image/png": "[encoded data removed]",
      "text/plain": [
       "<Figure size 1080x648 with 1 Axes>"
      ]
     },
     "metadata": {
      "needs_background": "light"
     },
     "output_type": "display_data"
    }
   ],
   "source": [
    "# устанавливаем некоторые параметры рисунка\n",
    "plt.figure(figsize=[15, 9])\n",
    "wd = 0.3\n",
    "x_pos = np.arange(1, 2*len(df_scores), 2)\n",
    "\n",
    "# Рисуем столбчатую диаграму\n",
    "plt.bar(x_pos, df_scores['unbalanced'], color='r', width=wd, edgecolor='k',\n",
    "        label='unbalanced')\n",
    "plt.bar(x_pos+wd, df_scores['balanced_upsampled'], color='y', width=wd, edgecolor='k', \n",
    "        label='upsampled')\n",
    "plt.bar(x_pos+(wd*2), df_scores['balanced_downsampled'], color='c', width=wd, \n",
    "        edgecolor='k', label='downsampled')\n",
    "\n",
    "# Добавляем подписи\n",
    "plt.xticks(x_pos+wd, df_scores.index.values, fontsize=15)\n",
    "plt.yticks(fontsize=15)\n",
    "plt.title('F1 и auc-roc мерики моделей на сбалансированных и несбалансированных данных', fontsize=20)\n",
    "plt.xlabel('Метрики моделей', fontsize=17)\n",
    "plt.ylabel('Метрика', fontsize=17)\n",
    "\n",
    "plt.legend(loc='upper left', fontsize=15)\n",
    "plt.show()"
   ]
  },
  {
   "cell_type": "markdown",
   "metadata": {},
   "source": [
    "**Вывод**\n",
    "\n",
    "Проверка баланса классов показал что есть большой дисбаланс классов, примерно в 4 раза.\n",
    "\n",
    "Данные были сбалансированны upsampling и downsampling методами.\n",
    "Далее модель была обучена уже на новых тренировочных данных данных.\n",
    "\n",
    "Видно, что балансировка классов повышает точность предсказаний. \n",
    "И при этом уменьшает сложность модели \"случайный лес\".\n",
    "При балансировке классов методом upsampling метрики немного лучше, чем при downsampling методе.\n",
    "\n",
    "Желаемое значение F1 метрики достигнуто моделью \"случайный лес\" с глубиной дерева 8 и количесвом дереьвьев 22.\n"
   ]
  },
  {
   "cell_type": "markdown",
   "metadata": {},
   "source": [
    "## Тестирование модели"
   ]
  },
  {
   "cell_type": "markdown",
   "metadata": {},
   "source": [
    "Для улучщения точности объединим тренировочную и валидационную выборки, сбалансируем, на новой выборке обучим лучшую модель и проверим на тестовой выборке."
   ]
  },
  {
   "cell_type": "code",
   "execution_count": 87,
   "metadata": {},
   "outputs": [
    {
     "name": "stdout",
     "output_type": "stream",
     "text": [
      "(8000, 11)\n",
      "(8000,)\n"
     ]
    }
   ],
   "source": [
    "features_train_new = pd.concat([features_train] + [features_valid])\n",
    "target_train_new = pd.concat([target_train] + [target_valid])\n",
    "\n",
    "print(features_train_new.shape)\n",
    "print(target_train_new.shape)"
   ]
  },
  {
   "cell_type": "code",
   "execution_count": 88,
   "metadata": {},
   "outputs": [
    {
     "data": {
      "text/plain": [
       "0    0.79875\n",
       "1    0.20125\n",
       "Name: exited, dtype: float64"
      ]
     },
     "execution_count": 88,
     "metadata": {},
     "output_type": "execute_result"
    }
   ],
   "source": [
    "class_frequency = target_train_new.value_counts(normalize=True)\n",
    "class_frequency"
   ]
  },
  {
   "cell_type": "code",
   "execution_count": 89,
   "metadata": {},
   "outputs": [
    {
     "data": {
      "text/plain": [
       "(12830, 11)"
      ]
     },
     "execution_count": 89,
     "metadata": {},
     "output_type": "execute_result"
    }
   ],
   "source": [
    "features_upsampled, target_upsampled = upsample(features_train_new, \n",
    "                                                target_train_new, \n",
    "                                                round(class_frequency[0]/class_frequency[1]) )\n",
    "features_upsampled.shape"
   ]
  },
  {
   "cell_type": "code",
   "execution_count": 90,
   "metadata": {},
   "outputs": [],
   "source": [
    "# RandomForestClassifier\n",
    "model_forest = RandomForestClassifier(random_state=12345,\n",
    "                                      n_estimators=best_est_forest_up,\n",
    "                                      max_depth=best_depth_forest_up)\n",
    "model_forest.fit(features_upsampled,target_upsampled)\n",
    "predictions_forest = model_forest.predict(features_test)\n",
    "\n",
    "probabilities_test_forest = model_forest.predict_proba(features_test)\n",
    "probabilities_test_forest = probabilities_test_forest[:, 1]\n",
    "\n",
    "f1_forest_up = f1_score(target_test, predictions_forest)\n",
    "auc_roc_forest_up = roc_auc_score(target_test, probabilities_test_forest)"
   ]
  },
  {
   "cell_type": "code",
   "execution_count": 91,
   "metadata": {},
   "outputs": [
    {
     "name": "stdout",
     "output_type": "stream",
     "text": [
      "F1-мера модели \"случайный лес\" на тестовой выборке:\n",
      "\"случайный лес\":\t 0.6246246246246248 Количество деревьев: 22 Максимальная глубина:\t 8\n",
      "\n",
      "AUC ROC модели \"случайный лес\"  на тестовой выборке:\n",
      "\"случайный лес\":\t 0.8629924471951298 Количество деревьев: 22 Максимальная глубина:\t 8\n"
     ]
    }
   ],
   "source": [
    "print(\"F1-мера модели \\\"случайный лес\\\" на тестовой выборке:\")\n",
    "\n",
    "print(\"\\\"случайный лес\\\":\\t\", f1_forest_up, \n",
    "      \"Количество деревьев:\", best_est_forest_up, \n",
    "      \"Максимальная глубина:\\t\", best_depth_forest_up)\n",
    "\n",
    "print()\n",
    "print(\"AUC ROC модели \\\"случайный лес\\\"  на тестовой выборке:\")\n",
    "\n",
    "print(\"\\\"случайный лес\\\":\\t\", auc_roc_forest_up, \n",
    "      \"Количество деревьев:\", best_est_forest_up, \n",
    "      \"Максимальная глубина:\\t\", best_depth_forest_up)\n"
   ]
  },
  {
   "cell_type": "markdown",
   "metadata": {},
   "source": [
    "## Общий вывод\n",
    "<a id=\"id_conclusion\"></a>"
   ]
  },
  {
   "cell_type": "markdown",
   "metadata": {},
   "source": [
    "В проекте был проанализирован набор данных с информацией о клиентах банка.\n",
    "\n",
    "На этапе предобработки:\n",
    "   - Для удобства, названия колонок приведены к змеиному регистру.\n",
    "   - Пропуски в колонке 'tenure' были заменены на нули из предположения, что клиент новый и пользуется банком меньше года.\n",
    "   - Аномалий и дубликатов не обнаружено.\n",
    "   - Колонки 'geography' и 'gender' преобразованы методом One-hot-encoding к чиловому типу 1/0.\n",
    "\n",
    "Анализ данных показал сильный дисбаланс классов -- отрицательного класса примерно в 4 раза больше, чем положительного.\n",
    "\n",
    "Данные были сбалансированны upsampling и downsampling методами. Далее модели \"дерево решений\", \"случайный лес\" и \"логическая регрессия\" были обучены уже на новых тренировочных данных данных.\n",
    "\n",
    "Видно, что балансировка классов повышает точность предсказаний. И при этом уменьшает сложность модели \"случайный лес\".\n",
    "\n",
    "Желаемое значение F1 метрики 0.59 достигнуто моделью \"случайный лес\" с глубиной дерева 8 и количесвом деревьев 22.\n",
    "\n",
    "На тестовой выборки данная модель показала значение мертика F1 равное 0.62"
   ]
  }
 ],
 "metadata": {
  "ExecuteTimeLog": [
   {
    "duration": 1791,
    "start_time": "2022-05-06T10:34:35.529Z"
   },
   {
    "duration": 92,
    "start_time": "2022-05-06T10:34:37.322Z"
   },
   {
    "duration": 16,
    "start_time": "2022-05-06T10:34:37.415Z"
   },
   {
    "duration": 41,
    "start_time": "2022-05-06T10:34:37.434Z"
   },
   {
    "duration": 13,
    "start_time": "2022-05-06T10:34:37.477Z"
   },
   {
    "duration": 7,
    "start_time": "2022-05-06T10:34:37.492Z"
   },
   {
    "duration": 19,
    "start_time": "2022-05-06T10:34:37.501Z"
   },
   {
    "duration": 7,
    "start_time": "2022-05-06T10:34:37.522Z"
   },
   {
    "duration": 31,
    "start_time": "2022-05-06T10:34:37.531Z"
   },
   {
    "duration": 3,
    "start_time": "2022-05-06T10:34:37.565Z"
   },
   {
    "duration": 16,
    "start_time": "2022-05-06T10:34:37.570Z"
   },
   {
    "duration": 148,
    "start_time": "2022-05-06T10:34:37.588Z"
   },
   {
    "duration": 19,
    "start_time": "2022-05-06T10:34:37.737Z"
   },
   {
    "duration": 35,
    "start_time": "2022-05-06T10:34:37.758Z"
   },
   {
    "duration": 24,
    "start_time": "2022-05-06T10:34:37.794Z"
   },
   {
    "duration": 41,
    "start_time": "2022-05-06T10:34:37.820Z"
   },
   {
    "duration": 13,
    "start_time": "2022-05-06T10:34:37.863Z"
   },
   {
    "duration": 41,
    "start_time": "2022-05-06T10:34:37.878Z"
   },
   {
    "duration": 25,
    "start_time": "2022-05-06T10:34:37.920Z"
   },
   {
    "duration": 54,
    "start_time": "2022-05-06T10:34:37.947Z"
   },
   {
    "duration": 6,
    "start_time": "2022-05-06T10:34:38.003Z"
   },
   {
    "duration": 25,
    "start_time": "2022-05-06T10:34:38.011Z"
   },
   {
    "duration": 189,
    "start_time": "2022-05-06T10:34:38.038Z"
   },
   {
    "duration": 5,
    "start_time": "2022-05-06T10:34:38.228Z"
   },
   {
    "duration": 52820,
    "start_time": "2022-05-06T10:34:38.235Z"
   },
   {
    "duration": 301,
    "start_time": "2022-05-06T10:35:31.057Z"
   },
   {
    "duration": 194,
    "start_time": "2022-05-06T10:35:31.361Z"
   },
   {
    "duration": 30,
    "start_time": "2022-05-06T10:35:31.560Z"
   },
   {
    "duration": 92,
    "start_time": "2022-05-06T10:35:31.592Z"
   },
   {
    "duration": 119,
    "start_time": "2022-05-06T10:35:31.685Z"
   },
   {
    "duration": 21,
    "start_time": "2022-05-06T10:35:31.806Z"
   },
   {
    "duration": 237,
    "start_time": "2022-05-06T10:35:31.829Z"
   },
   {
    "duration": 72134,
    "start_time": "2022-05-06T10:35:32.067Z"
   },
   {
    "duration": 551,
    "start_time": "2022-05-06T10:36:44.203Z"
   },
   {
    "duration": 104,
    "start_time": "2022-05-06T10:36:44.758Z"
   },
   {
    "duration": 12,
    "start_time": "2022-05-06T10:36:44.865Z"
   },
   {
    "duration": 30,
    "start_time": "2022-05-06T10:36:44.879Z"
   },
   {
    "duration": 13,
    "start_time": "2022-05-06T10:36:44.911Z"
   },
   {
    "duration": 114,
    "start_time": "2022-05-06T10:36:44.926Z"
   },
   {
    "duration": 38580,
    "start_time": "2022-05-06T11:20:58.086Z"
   },
   {
    "duration": 17,
    "start_time": "2022-05-06T11:21:42.660Z"
   },
   {
    "duration": 14,
    "start_time": "2022-05-06T11:21:44.551Z"
   },
   {
    "duration": 6,
    "start_time": "2022-05-06T11:21:47.224Z"
   },
   {
    "duration": 13,
    "start_time": "2022-05-06T11:21:50.566Z"
   },
   {
    "duration": 11,
    "start_time": "2022-05-06T11:21:52.844Z"
   },
   {
    "duration": 210,
    "start_time": "2022-05-06T11:21:54.104Z"
   },
   {
    "duration": 7,
    "start_time": "2022-05-06T11:21:57.202Z"
   },
   {
    "duration": 7,
    "start_time": "2022-05-06T11:21:57.979Z"
   },
   {
    "duration": 13,
    "start_time": "2022-05-06T11:21:58.812Z"
   },
   {
    "duration": 229,
    "start_time": "2022-05-06T11:22:00.233Z"
   },
   {
    "duration": 6,
    "start_time": "2022-05-06T11:22:02.049Z"
   },
   {
    "duration": 2476,
    "start_time": "2022-05-06T17:52:37.644Z"
   },
   {
    "duration": 94,
    "start_time": "2022-05-06T17:52:40.123Z"
   },
   {
    "duration": 19,
    "start_time": "2022-05-06T17:52:40.219Z"
   },
   {
    "duration": 66,
    "start_time": "2022-05-06T17:52:40.240Z"
   },
   {
    "duration": 18,
    "start_time": "2022-05-06T17:52:40.309Z"
   },
   {
    "duration": 6,
    "start_time": "2022-05-06T17:52:40.329Z"
   },
   {
    "duration": 11,
    "start_time": "2022-05-06T17:52:40.363Z"
   },
   {
    "duration": 10,
    "start_time": "2022-05-06T17:52:40.379Z"
   },
   {
    "duration": 36,
    "start_time": "2022-05-06T17:52:40.391Z"
   },
   {
    "duration": 4,
    "start_time": "2022-05-06T17:52:40.430Z"
   },
   {
    "duration": 31,
    "start_time": "2022-05-06T17:52:40.459Z"
   },
   {
    "duration": 233,
    "start_time": "2022-05-06T17:52:40.492Z"
   },
   {
    "duration": 37,
    "start_time": "2022-05-06T17:52:40.727Z"
   },
   {
    "duration": 21,
    "start_time": "2022-05-06T17:52:40.771Z"
   },
   {
    "duration": 10,
    "start_time": "2022-05-06T17:52:40.794Z"
   },
   {
    "duration": 19,
    "start_time": "2022-05-06T17:52:40.806Z"
   },
   {
    "duration": 46,
    "start_time": "2022-05-06T17:52:40.828Z"
   },
   {
    "duration": 37,
    "start_time": "2022-05-06T17:52:40.877Z"
   },
   {
    "duration": 16,
    "start_time": "2022-05-06T17:52:40.917Z"
   },
   {
    "duration": 84,
    "start_time": "2022-05-06T17:52:40.935Z"
   },
   {
    "duration": 8,
    "start_time": "2022-05-06T17:52:41.021Z"
   },
   {
    "duration": 32,
    "start_time": "2022-05-06T17:52:41.032Z"
   },
   {
    "duration": 328,
    "start_time": "2022-05-06T17:52:41.067Z"
   },
   {
    "duration": 7,
    "start_time": "2022-05-06T17:52:41.397Z"
   },
   {
    "duration": 88641,
    "start_time": "2022-05-06T17:52:41.405Z"
   },
   {
    "duration": 828,
    "start_time": "2022-05-06T17:54:10.051Z"
   },
   {
    "duration": 94,
    "start_time": "2022-05-06T17:54:10.881Z"
   },
   {
    "duration": 111,
    "start_time": "2022-05-06T17:54:10.977Z"
   },
   {
    "duration": 15,
    "start_time": "2022-05-06T17:54:11.091Z"
   },
   {
    "duration": 21,
    "start_time": "2022-05-06T17:54:11.108Z"
   },
   {
    "duration": 5,
    "start_time": "2022-05-06T17:54:11.132Z"
   },
   {
    "duration": 428,
    "start_time": "2022-05-06T17:54:11.140Z"
   },
   {
    "duration": 115161,
    "start_time": "2022-05-06T17:54:11.570Z"
   },
   {
    "duration": 628,
    "start_time": "2022-05-06T17:56:06.734Z"
   },
   {
    "duration": 107,
    "start_time": "2022-05-06T17:56:07.372Z"
   },
   {
    "duration": 23,
    "start_time": "2022-05-06T17:56:07.488Z"
   },
   {
    "duration": 73,
    "start_time": "2022-05-06T17:56:07.513Z"
   },
   {
    "duration": 9,
    "start_time": "2022-05-06T17:56:07.590Z"
   },
   {
    "duration": 178,
    "start_time": "2022-05-06T17:56:07.602Z"
   },
   {
    "duration": 56337,
    "start_time": "2022-05-06T17:56:07.784Z"
   },
   {
    "duration": 542,
    "start_time": "2022-05-06T17:57:04.126Z"
   },
   {
    "duration": 116,
    "start_time": "2022-05-06T17:57:04.671Z"
   },
   {
    "duration": 14,
    "start_time": "2022-05-06T17:57:04.791Z"
   },
   {
    "duration": 23,
    "start_time": "2022-05-06T17:57:04.808Z"
   },
   {
    "duration": 49,
    "start_time": "2022-05-06T17:57:04.834Z"
   },
   {
    "duration": 445,
    "start_time": "2022-05-06T17:57:04.887Z"
   },
   {
    "duration": 30,
    "start_time": "2022-05-06T17:57:05.335Z"
   },
   {
    "duration": 30,
    "start_time": "2022-05-06T17:57:05.368Z"
   },
   {
    "duration": 29,
    "start_time": "2022-05-06T17:57:05.401Z"
   },
   {
    "duration": 377,
    "start_time": "2022-05-06T17:57:05.432Z"
   },
   {
    "duration": 9,
    "start_time": "2022-05-06T17:57:05.812Z"
   }
  ],
  "kernelspec": {
   "display_name": "Python 3 (ipykernel)",
   "language": "python",
   "name": "python3"
  },
  "language_info": {
   "codemirror_mode": {
    "name": "ipython",
    "version": 3
   },
   "file_extension": ".py",
   "mimetype": "text/x-python",
   "name": "python",
   "nbconvert_exporter": "python",
   "pygments_lexer": "ipython3",
   "version": "3.10.7"
  },
  "toc": {
   "base_numbering": 1,
   "nav_menu": {},
   "number_sections": true,
   "sideBar": true,
   "skip_h1_title": true,
   "title_cell": "Содержание",
   "title_sidebar": "Contents",
   "toc_cell": true,
   "toc_position": {},
   "toc_section_display": true,
   "toc_window_display": true
  }
 },
 "nbformat": 4,
 "nbformat_minor": 2
}
