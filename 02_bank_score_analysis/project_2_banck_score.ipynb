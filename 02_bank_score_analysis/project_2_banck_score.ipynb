{
 "cells": [
  {
   "cell_type": "markdown",
   "id": "b80cb895",
   "metadata": {},
   "source": [
    "# Исследование надёжности заёмщиков — анализ банковских данных."
   ]
  },
  {
   "cell_type": "markdown",
   "id": "b831010d",
   "metadata": {},
   "source": [
    "**Описание проекта**\n",
    "\n",
    "Заказчик — кредитный отдел банка. Нужно разобраться, влияет ли семейное положение и количество детей клиента на факт погашения кредита в срок. Входные данные от банка — статистика о платёжеспособности клиентов. Результаты исследования будут учтены при построении модели кредитного скоринга — специальной системы, которая оценивает способность потенциального заёмщика вернуть кредит банку."
   ]
  },
  {
   "cell_type": "markdown",
   "id": "83b61cbe",
   "metadata": {},
   "source": [
    "**Цель исследования** — проверить зависимость факта возврата кредита в срок от следующих факторов:\n",
    "1. количество детей;\n",
    "2. семейное положение;\n",
    "3. уровнь дохода;\n",
    "4. цель кредита;\n",
    "\n",
    "**Ход исследования**\n",
    "\n",
    "Данные с информацией о клиенте и взятом кредите хранятся в файле `data.csv`. \n",
    "Известно, что в данных есть пропущенные значения, могут встречаться артефакты (аномалии) и дубликаты.\n",
    "Поэтому перед выявлением интересующих зависимостей понадобится обзор и предобработка данных. \n",
    "\n",
    "Таким образом, исследование пройдёт в три этапа:\n",
    " 1. Обзор данных.\n",
    " 2. Предобработка данных.\n",
    " 3. Проверка наличия зависимостей.\n"
   ]
  },
  {
   "cell_type": "markdown",
   "id": "0edd12db",
   "metadata": {},
   "source": [
    "### Шаг 1. Обзор данных"
   ]
  },
  {
   "cell_type": "code",
   "execution_count": 1,
   "id": "d6657564",
   "metadata": {},
   "outputs": [],
   "source": [
    "import pandas as pd\n",
    "import numpy as np\n",
    "#credit_data = pd.read_csv('/datasets/data.csv')\n",
    "\n",
    "try:\n",
    "    credit_data = pd.read_csv('data_files/data.csv')  # Локальный путь\n",
    "except:\n",
    "    credit_data = pd.read_csv('/datasets/data.csv')  # Серверный путь\n"
   ]
  },
  {
   "cell_type": "code",
   "execution_count": 2,
   "id": "3238009f",
   "metadata": {},
   "outputs": [
    {
     "data": {
      "text/html": [
       "<div>\n",
       "<style scoped>\n",
       "    .dataframe tbody tr th:only-of-type {\n",
       "        vertical-align: middle;\n",
       "    }\n",
       "\n",
       "    .dataframe tbody tr th {\n",
       "        vertical-align: top;\n",
       "    }\n",
       "\n",
       "    .dataframe thead th {\n",
       "        text-align: right;\n",
       "    }\n",
       "</style>\n",
       "<table border=\"1\" class=\"dataframe\">\n",
       "  <thead>\n",
       "    <tr style=\"text-align: right;\">\n",
       "      <th></th>\n",
       "      <th>children</th>\n",
       "      <th>days_employed</th>\n",
       "      <th>dob_years</th>\n",
       "      <th>education</th>\n",
       "      <th>education_id</th>\n",
       "      <th>family_status</th>\n",
       "      <th>family_status_id</th>\n",
       "      <th>gender</th>\n",
       "      <th>income_type</th>\n",
       "      <th>debt</th>\n",
       "      <th>total_income</th>\n",
       "      <th>purpose</th>\n",
       "    </tr>\n",
       "  </thead>\n",
       "  <tbody>\n",
       "    <tr>\n",
       "      <td>0</td>\n",
       "      <td>1</td>\n",
       "      <td>-8437.673028</td>\n",
       "      <td>42</td>\n",
       "      <td>высшее</td>\n",
       "      <td>0</td>\n",
       "      <td>женат / замужем</td>\n",
       "      <td>0</td>\n",
       "      <td>F</td>\n",
       "      <td>сотрудник</td>\n",
       "      <td>0</td>\n",
       "      <td>253875.639453</td>\n",
       "      <td>покупка жилья</td>\n",
       "    </tr>\n",
       "    <tr>\n",
       "      <td>1</td>\n",
       "      <td>1</td>\n",
       "      <td>-4024.803754</td>\n",
       "      <td>36</td>\n",
       "      <td>среднее</td>\n",
       "      <td>1</td>\n",
       "      <td>женат / замужем</td>\n",
       "      <td>0</td>\n",
       "      <td>F</td>\n",
       "      <td>сотрудник</td>\n",
       "      <td>0</td>\n",
       "      <td>112080.014102</td>\n",
       "      <td>приобретение автомобиля</td>\n",
       "    </tr>\n",
       "    <tr>\n",
       "      <td>2</td>\n",
       "      <td>0</td>\n",
       "      <td>-5623.422610</td>\n",
       "      <td>33</td>\n",
       "      <td>Среднее</td>\n",
       "      <td>1</td>\n",
       "      <td>женат / замужем</td>\n",
       "      <td>0</td>\n",
       "      <td>M</td>\n",
       "      <td>сотрудник</td>\n",
       "      <td>0</td>\n",
       "      <td>145885.952297</td>\n",
       "      <td>покупка жилья</td>\n",
       "    </tr>\n",
       "    <tr>\n",
       "      <td>3</td>\n",
       "      <td>3</td>\n",
       "      <td>-4124.747207</td>\n",
       "      <td>32</td>\n",
       "      <td>среднее</td>\n",
       "      <td>1</td>\n",
       "      <td>женат / замужем</td>\n",
       "      <td>0</td>\n",
       "      <td>M</td>\n",
       "      <td>сотрудник</td>\n",
       "      <td>0</td>\n",
       "      <td>267628.550329</td>\n",
       "      <td>дополнительное образование</td>\n",
       "    </tr>\n",
       "    <tr>\n",
       "      <td>4</td>\n",
       "      <td>0</td>\n",
       "      <td>340266.072047</td>\n",
       "      <td>53</td>\n",
       "      <td>среднее</td>\n",
       "      <td>1</td>\n",
       "      <td>гражданский брак</td>\n",
       "      <td>1</td>\n",
       "      <td>F</td>\n",
       "      <td>пенсионер</td>\n",
       "      <td>0</td>\n",
       "      <td>158616.077870</td>\n",
       "      <td>сыграть свадьбу</td>\n",
       "    </tr>\n",
       "    <tr>\n",
       "      <td>5</td>\n",
       "      <td>0</td>\n",
       "      <td>-926.185831</td>\n",
       "      <td>27</td>\n",
       "      <td>высшее</td>\n",
       "      <td>0</td>\n",
       "      <td>гражданский брак</td>\n",
       "      <td>1</td>\n",
       "      <td>M</td>\n",
       "      <td>компаньон</td>\n",
       "      <td>0</td>\n",
       "      <td>255763.565419</td>\n",
       "      <td>покупка жилья</td>\n",
       "    </tr>\n",
       "    <tr>\n",
       "      <td>6</td>\n",
       "      <td>0</td>\n",
       "      <td>-2879.202052</td>\n",
       "      <td>43</td>\n",
       "      <td>высшее</td>\n",
       "      <td>0</td>\n",
       "      <td>женат / замужем</td>\n",
       "      <td>0</td>\n",
       "      <td>F</td>\n",
       "      <td>компаньон</td>\n",
       "      <td>0</td>\n",
       "      <td>240525.971920</td>\n",
       "      <td>операции с жильем</td>\n",
       "    </tr>\n",
       "    <tr>\n",
       "      <td>7</td>\n",
       "      <td>0</td>\n",
       "      <td>-152.779569</td>\n",
       "      <td>50</td>\n",
       "      <td>СРЕДНЕЕ</td>\n",
       "      <td>1</td>\n",
       "      <td>женат / замужем</td>\n",
       "      <td>0</td>\n",
       "      <td>M</td>\n",
       "      <td>сотрудник</td>\n",
       "      <td>0</td>\n",
       "      <td>135823.934197</td>\n",
       "      <td>образование</td>\n",
       "    </tr>\n",
       "    <tr>\n",
       "      <td>8</td>\n",
       "      <td>2</td>\n",
       "      <td>-6929.865299</td>\n",
       "      <td>35</td>\n",
       "      <td>ВЫСШЕЕ</td>\n",
       "      <td>0</td>\n",
       "      <td>гражданский брак</td>\n",
       "      <td>1</td>\n",
       "      <td>F</td>\n",
       "      <td>сотрудник</td>\n",
       "      <td>0</td>\n",
       "      <td>95856.832424</td>\n",
       "      <td>на проведение свадьбы</td>\n",
       "    </tr>\n",
       "    <tr>\n",
       "      <td>9</td>\n",
       "      <td>0</td>\n",
       "      <td>-2188.756445</td>\n",
       "      <td>41</td>\n",
       "      <td>среднее</td>\n",
       "      <td>1</td>\n",
       "      <td>женат / замужем</td>\n",
       "      <td>0</td>\n",
       "      <td>M</td>\n",
       "      <td>сотрудник</td>\n",
       "      <td>0</td>\n",
       "      <td>144425.938277</td>\n",
       "      <td>покупка жилья для семьи</td>\n",
       "    </tr>\n",
       "  </tbody>\n",
       "</table>\n",
       "</div>"
      ],
      "text/plain": [
       "   children  days_employed  dob_years education  education_id  \\\n",
       "0         1   -8437.673028         42    высшее             0   \n",
       "1         1   -4024.803754         36   среднее             1   \n",
       "2         0   -5623.422610         33   Среднее             1   \n",
       "3         3   -4124.747207         32   среднее             1   \n",
       "4         0  340266.072047         53   среднее             1   \n",
       "5         0    -926.185831         27    высшее             0   \n",
       "6         0   -2879.202052         43    высшее             0   \n",
       "7         0    -152.779569         50   СРЕДНЕЕ             1   \n",
       "8         2   -6929.865299         35    ВЫСШЕЕ             0   \n",
       "9         0   -2188.756445         41   среднее             1   \n",
       "\n",
       "      family_status  family_status_id gender income_type  debt   total_income  \\\n",
       "0   женат / замужем                 0      F   сотрудник     0  253875.639453   \n",
       "1   женат / замужем                 0      F   сотрудник     0  112080.014102   \n",
       "2   женат / замужем                 0      M   сотрудник     0  145885.952297   \n",
       "3   женат / замужем                 0      M   сотрудник     0  267628.550329   \n",
       "4  гражданский брак                 1      F   пенсионер     0  158616.077870   \n",
       "5  гражданский брак                 1      M   компаньон     0  255763.565419   \n",
       "6   женат / замужем                 0      F   компаньон     0  240525.971920   \n",
       "7   женат / замужем                 0      M   сотрудник     0  135823.934197   \n",
       "8  гражданский брак                 1      F   сотрудник     0   95856.832424   \n",
       "9   женат / замужем                 0      M   сотрудник     0  144425.938277   \n",
       "\n",
       "                      purpose  \n",
       "0               покупка жилья  \n",
       "1     приобретение автомобиля  \n",
       "2               покупка жилья  \n",
       "3  дополнительное образование  \n",
       "4             сыграть свадьбу  \n",
       "5               покупка жилья  \n",
       "6           операции с жильем  \n",
       "7                 образование  \n",
       "8       на проведение свадьбы  \n",
       "9     покупка жилья для семьи  "
      ]
     },
     "execution_count": 2,
     "metadata": {},
     "output_type": "execute_result"
    }
   ],
   "source": [
    "credit_data.head(10)"
   ]
  },
  {
   "cell_type": "code",
   "execution_count": 3,
   "id": "8dec63a4",
   "metadata": {},
   "outputs": [
    {
     "name": "stdout",
     "output_type": "stream",
     "text": [
      "<class 'pandas.core.frame.DataFrame'>\n",
      "RangeIndex: 21525 entries, 0 to 21524\n",
      "Data columns (total 12 columns):\n",
      "children            21525 non-null int64\n",
      "days_employed       19351 non-null float64\n",
      "dob_years           21525 non-null int64\n",
      "education           21525 non-null object\n",
      "education_id        21525 non-null int64\n",
      "family_status       21525 non-null object\n",
      "family_status_id    21525 non-null int64\n",
      "gender              21525 non-null object\n",
      "income_type         21525 non-null object\n",
      "debt                21525 non-null int64\n",
      "total_income        19351 non-null float64\n",
      "purpose             21525 non-null object\n",
      "dtypes: float64(2), int64(5), object(5)\n",
      "memory usage: 2.0+ MB\n"
     ]
    }
   ],
   "source": [
    "credit_data.info()"
   ]
  },
  {
   "cell_type": "markdown",
   "id": "3afc52fb",
   "metadata": {},
   "source": [
    "В таблице 12 столбцов с различными типами данных.\n",
    "\n",
    "Согласно документации к данным:\n",
    "\n",
    "* children — количество детей в семье\n",
    "* days_employed — общий трудовой стаж в днях\n",
    "* dob_years — возраст клиента в годах\n",
    "* education — уровень образования клиента\n",
    "* education_id — идентификатор уровня образования\n",
    "* family_status — семейное положение\n",
    "* family_status_id — идентификатор семейного положения\n",
    "* gender — пол клиента\n",
    "* income_type — тип занятости\n",
    "* debt — имел ли задолженность по возврату кредитов\n",
    "* total_income — ежемесячный доход\n",
    "* purpose — цель получения кредита"
   ]
  },
  {
   "cell_type": "markdown",
   "id": "1ddb1322",
   "metadata": {},
   "source": [
    "Из обзора данных сразу видны следующие недочеты: \n",
    "* Пропуски в столбцах `days_employed` и `total_income`\n",
    "* Отрицательные значения и аномальные значения в столбце `days_employed`\n",
    "* Использование разного регистра в столбце `education`\n"
   ]
  },
  {
   "cell_type": "markdown",
   "id": "68e2de78",
   "metadata": {},
   "source": [
    "**Выводы**\n",
    "\n",
    "В каждой строке таблицы — данные о клиенте банка. Большая часть колонок описывает клиетна: возраст, пол, инфоримцию о семье, образовании и работе. Также есть информация о цели получения кредита и наличии задолженности по возврату кредита. \n",
    "\n",
    "Предварительно можно утверждать, что, данных достаточно для установления зависимостей. Но в данных встречаются пропуски, аномальные значения и разный регистр при написании категоральных значений.\n",
    "\n",
    "Следующие пункты будут направлены на устрание проблем в данных."
   ]
  },
  {
   "cell_type": "markdown",
   "id": "412eb003",
   "metadata": {},
   "source": [
    "### Шаг 2.1 Заполнение пропусков"
   ]
  },
  {
   "cell_type": "code",
   "execution_count": 4,
   "id": "18b2fd06",
   "metadata": {},
   "outputs": [],
   "source": [
    "# Сразу приведем столбец 'education' к нижнему регистру\n",
    "credit_data['education'] = credit_data['education'].str.lower()"
   ]
  },
  {
   "cell_type": "code",
   "execution_count": 5,
   "id": "bec2ed6a",
   "metadata": {},
   "outputs": [
    {
     "data": {
      "text/plain": [
       "children               0\n",
       "days_employed       2174\n",
       "dob_years              0\n",
       "education              0\n",
       "education_id           0\n",
       "family_status          0\n",
       "family_status_id       0\n",
       "gender                 0\n",
       "income_type            0\n",
       "debt                   0\n",
       "total_income        2174\n",
       "purpose                0\n",
       "dtype: int64"
      ]
     },
     "execution_count": 5,
     "metadata": {},
     "output_type": "execute_result"
    }
   ],
   "source": [
    "credit_data.isna().sum()"
   ]
  },
  {
   "cell_type": "markdown",
   "id": "dc51e1e5",
   "metadata": {},
   "source": [
    "Пропуски имеются в столбцах `days_employed` и `total_income`.\n",
    "\n",
    "Возможные причины возникновения пропусков:\n",
    "* ошибки при копировании или модификации файла\n",
    "* опечатки или неправильный ввод данных"
   ]
  },
  {
   "cell_type": "code",
   "execution_count": 6,
   "id": "5592c49b",
   "metadata": {
    "scrolled": true
   },
   "outputs": [
    {
     "name": "stdout",
     "output_type": "stream",
     "text": [
      "Доля пропущенных значений: 10.1%\n"
     ]
    }
   ],
   "source": [
    "print('Доля пропущенных значений: {:.1%}'.format(credit_data['days_employed'].isna().mean() ) )"
   ]
  },
  {
   "cell_type": "markdown",
   "id": "d8a09bcc",
   "metadata": {},
   "source": [
    "Стоит отметить, что количесво пропусков в столбцах `total_income` и `days_employed` совпадают. При проверке, оказалось, что пропускив этих столбцах находятся в одних и тех же строках"
   ]
  },
  {
   "cell_type": "code",
   "execution_count": 7,
   "id": "975b4b42",
   "metadata": {},
   "outputs": [
    {
     "data": {
      "text/plain": [
       "2174"
      ]
     },
     "execution_count": 7,
     "metadata": {},
     "output_type": "execute_result"
    }
   ],
   "source": [
    "# Подсчет пропусков в столбце total_income при условии, что в столце days_employed пропуск\n",
    "credit_data[credit_data['days_employed'].isna()]['total_income'].isna().sum()"
   ]
  },
  {
   "cell_type": "markdown",
   "id": "a93f5600",
   "metadata": {},
   "source": [
    "Можно предположить, что люди намеренно не указали ни их стаж, ни доход. Возможно, потому что они решили,что их стаж и доход не является достаточным и это может негативно сказаться на решении банка по одобрению кредита. Или они не являются официально трудоустроенными и не могут подтвердить свой доход. Четкой связи между пропусками и другой информацией найдено не было."
   ]
  },
  {
   "cell_type": "markdown",
   "id": "659dbb91",
   "metadata": {},
   "source": [
    "Для заполнения пропусков в столбце `total_income` было выбрано медианное значение. \n",
    "Так как медианное значение является более объективным, чем среднее. В силу того, что группы заемщиков достаточно разные, заполнение медианными значениями учитывало образование и тип занятости.\n",
    "\n",
    "Для столбца `days_employed` было решено пропуски в виде NaN заменить на 0, так как в задании не требуется выявить зависимость между стажем работы и погашение кредита в срок. Стоить заметить, что данные в этом столбце также имеют аномалии и ошибки записи. Замена пропусков в данном случае может сильно исказить результаты. \n",
    "Более детальный анализ этого столбца приведен в следующем пункте."
   ]
  },
  {
   "cell_type": "code",
   "execution_count": 8,
   "id": "ff204473",
   "metadata": {},
   "outputs": [],
   "source": [
    "# Приведем столбец 'education' к нижнему регистру\n",
    "credit_data['education'] = credit_data['education'].str.lower()"
   ]
  },
  {
   "cell_type": "code",
   "execution_count": 9,
   "id": "0094fd1c",
   "metadata": {},
   "outputs": [],
   "source": [
    "# Поиск медианного значения для каждой группы\n",
    "education_income_pivoted = credit_data.pivot_table(index='income_type',\n",
    "                                             columns='education', \n",
    "                                             values='total_income', \n",
    "                                             aggfunc='median')"
   ]
  },
  {
   "cell_type": "code",
   "execution_count": 10,
   "id": "aa5a8db1",
   "metadata": {},
   "outputs": [],
   "source": [
    "# Формируем лист для 'education' и 'income_type'\n",
    "education_list = list(set(credit_data['education']))\n",
    "income_type_list = list(set(credit_data['income_type']))"
   ]
  },
  {
   "cell_type": "code",
   "execution_count": 11,
   "id": "2e39a7a0",
   "metadata": {},
   "outputs": [],
   "source": [
    "# Извлекаем только строки с пропусками\n",
    "nan_data = credit_data[credit_data['total_income'].isna()]"
   ]
  },
  {
   "cell_type": "code",
   "execution_count": 12,
   "id": "882981d9",
   "metadata": {},
   "outputs": [
    {
     "name": "stderr",
     "output_type": "stream",
     "text": [
      "/opt/conda/lib/python3.7/site-packages/pandas/core/indexing.py:494: SettingWithCopyWarning: \n",
      "A value is trying to be set on a copy of a slice from a DataFrame.\n",
      "Try using .loc[row_indexer,col_indexer] = value instead\n",
      "\n",
      "See the caveats in the documentation: http://pandas.pydata.org/pandas-docs/stable/user_guide/indexing.html#returning-a-view-versus-a-copy\n",
      "  self.obj[item] = s\n"
     ]
    }
   ],
   "source": [
    "# Замена пропусков на медианное значение в каждой группе\n",
    "# Проходим по 'education' и 'income_type' и заполняем пропуски медианой из education_income_pivoted\n",
    "for education in education_list:\n",
    "    for income_type in income_type_list:\n",
    "        if np.isnan(education_income_pivoted.loc[income_type,education]) == False:\n",
    "            nan_data.loc[(nan_data['education']==education) & \n",
    "                     (nan_data['income_type']==income_type),'total_income'] = education_income_pivoted.loc[income_type,education]"
   ]
  },
  {
   "cell_type": "markdown",
   "id": "1df875ad",
   "metadata": {},
   "source": [
    "<div class=\"alert alert-warning\">\n",
    "<b>Комментарий ревьюера v2⚠️:</b>\n",
    "\n",
    "Хорошая идея! Но можно было сразу менять в исходном датафрейме, используя `loc` и `isna()` или `fillna()`</div>"
   ]
  },
  {
   "cell_type": "code",
   "execution_count": 13,
   "id": "d007f015",
   "metadata": {},
   "outputs": [
    {
     "data": {
      "text/plain": [
       "2174"
      ]
     },
     "execution_count": 13,
     "metadata": {},
     "output_type": "execute_result"
    }
   ],
   "source": [
    "# Количество пропусков\n",
    "credit_data['total_income'].isna().sum()"
   ]
  },
  {
   "cell_type": "code",
   "execution_count": 14,
   "id": "9d49c45c",
   "metadata": {},
   "outputs": [
    {
     "data": {
      "text/plain": [
       "0"
      ]
     },
     "execution_count": 14,
     "metadata": {},
     "output_type": "execute_result"
    }
   ],
   "source": [
    "# Убираем пропуски в исходный данных и проверяем наличие пропусков\n",
    "credit_data.loc[credit_data['total_income'].isna(),'total_income'] = nan_data['total_income']\n",
    "credit_data['total_income'].isna().sum()"
   ]
  },
  {
   "cell_type": "code",
   "execution_count": 15,
   "id": "7e48299f",
   "metadata": {},
   "outputs": [
    {
     "data": {
      "text/plain": [
       "children            0\n",
       "days_employed       0\n",
       "dob_years           0\n",
       "education           0\n",
       "education_id        0\n",
       "family_status       0\n",
       "family_status_id    0\n",
       "gender              0\n",
       "income_type         0\n",
       "debt                0\n",
       "total_income        0\n",
       "purpose             0\n",
       "dtype: int64"
      ]
     },
     "execution_count": 15,
     "metadata": {},
     "output_type": "execute_result"
    }
   ],
   "source": [
    "# Заменим пропуски в столбце 'days_employed' на 0\n",
    "credit_data.loc[credit_data['days_employed'].isna(),'days_employed'] = 0\n",
    "credit_data.isna().sum()"
   ]
  },
  {
   "cell_type": "markdown",
   "id": "e63401e2",
   "metadata": {},
   "source": [
    "<div class=\"alert alert-warning\">\n",
    "<b>Комментарий ревьюера ⚠️:</b>\n",
    "\n",
    "<s>1. Неплохое решение заменить пропущенные значения на медиану, но это очень грубое решение. Группы заемщиков достаточно разные, так что лучше заменять на медианы по группам (подумай, какие параметры влияют на доход или стаж).</s>\n",
    "\n",
    "2. На самом деле, можно подробнее посмотреть на данные стажа. Там четко видно, для каких заемщиков какие проблемы наблюдаются (для кого отрицательные значения, для кого аномально большие). Можно сделать предположения и попытаться исправить эти обе проблемы.</div>"
   ]
  },
  {
   "cell_type": "code",
   "execution_count": 16,
   "id": "6909c308",
   "metadata": {
    "scrolled": true
   },
   "outputs": [
    {
     "name": "stdout",
     "output_type": "stream",
     "text": [
      "<class 'pandas.core.frame.DataFrame'>\n",
      "RangeIndex: 21525 entries, 0 to 21524\n",
      "Data columns (total 12 columns):\n",
      "children            21525 non-null int64\n",
      "days_employed       21525 non-null float64\n",
      "dob_years           21525 non-null int64\n",
      "education           21525 non-null object\n",
      "education_id        21525 non-null int64\n",
      "family_status       21525 non-null object\n",
      "family_status_id    21525 non-null int64\n",
      "gender              21525 non-null object\n",
      "income_type         21525 non-null object\n",
      "debt                21525 non-null int64\n",
      "total_income        21525 non-null float64\n",
      "purpose             21525 non-null object\n",
      "dtypes: float64(2), int64(5), object(5)\n",
      "memory usage: 2.0+ MB\n"
     ]
    }
   ],
   "source": [
    "credit_data.info()"
   ]
  },
  {
   "cell_type": "markdown",
   "id": "795450ed",
   "metadata": {},
   "source": [
    "### Шаг 2.2 Проверка данных на аномалии и исправления."
   ]
  },
  {
   "cell_type": "markdown",
   "id": "7fb82b1f",
   "metadata": {},
   "source": [
    "Из обзора данных нам известно, что в колонке `days_employed` есть аномальные значения. А также ошибка записи в данных в виде знака минус. \n",
    "В предворительном обзоре данных было замечено, что аномальные значения в данных положительны, а нормальные значения отрицательны. Чтобы проверить это предположение, проверим максимальные и минимальные значения для положительных и отрицательных вхождений столбца `days_employed`. Для удобства `days_employed` приведем к годам (поделим на 365). "
   ]
  },
  {
   "cell_type": "code",
   "execution_count": 17,
   "id": "5d189c08",
   "metadata": {},
   "outputs": [
    {
     "name": "stdout",
     "output_type": "stream",
     "text": [
      "Минимальное значение для положительных вхождений: 900.63\n",
      "Максимальное значение для положительных вхождений: 1100.7\n"
     ]
    }
   ],
   "source": [
    "years_employed_positive = credit_data[credit_data['days_employed'] > 0]['days_employed']/365\n",
    "print('Минимальное значение для положительных вхождений: {0:.5}'.format(years_employed_positive.min()))\n",
    "print('Максимальное значение для положительных вхождений: {0:.5}'.format(years_employed_positive.max()))"
   ]
  },
  {
   "cell_type": "code",
   "execution_count": 18,
   "id": "00e9c800",
   "metadata": {
    "scrolled": true
   },
   "outputs": [
    {
     "name": "stdout",
     "output_type": "stream",
     "text": [
      "Минимальное значение для отрицательных вхождений: -50.381\n",
      "Максимальное значение для отрицательных вхождений: -0.066141\n"
     ]
    }
   ],
   "source": [
    "years_employed_negative = credit_data[credit_data['days_employed'] < 0]['days_employed']/365\n",
    "print('Минимальное значение для отрицательных вхождений: {0:.5}'.format(years_employed_negative.min()))\n",
    "print('Максимальное значение для отрицательных вхождений: {0:.5}'.format(years_employed_negative.max()))"
   ]
  },
  {
   "cell_type": "markdown",
   "id": "b9286c12",
   "metadata": {},
   "source": [
    "Предположение подтвердилось: все аномальные значения в столбце `days_employed` являются положительными, а все нормальные значения входят со знаком минус. В целом, можно предположить, что знак минус в столбце `days_employed` является нормой записи или \"вшитой\" ошибкой (в формуле были перепутаны дата начала и конеца работы, и теперь минус появляется всегда). Наличие аномальных значений может быть следствие неправильного ввода данных/опечаток.\n",
    "\n",
    "При изучении данных, обнаружилось, что аномальные значения в столбце `days_employed` имеют только два значения `income_type` - безработные и персионеры. Скорее всего данная ошибка связана именно с фактом отсутсвия работы в настоящий момент.\n"
   ]
  },
  {
   "cell_type": "code",
   "execution_count": 19,
   "id": "d9459efc",
   "metadata": {},
   "outputs": [
    {
     "data": {
      "text/plain": [
       "пенсионер      3443\n",
       "безработный       2\n",
       "Name: income_type, dtype: int64"
      ]
     },
     "execution_count": 19,
     "metadata": {},
     "output_type": "execute_result"
    }
   ],
   "source": [
    "credit_data[credit_data['days_employed'] > 0]['income_type'].value_counts()"
   ]
  },
  {
   "cell_type": "markdown",
   "id": "e66acf56",
   "metadata": {},
   "source": [
    "Так как природу аномальных значений я не могу предположить, оставим их пока как есть, а отрицательные значения сделаем положительными."
   ]
  },
  {
   "cell_type": "code",
   "execution_count": 20,
   "id": "1c9b1daf",
   "metadata": {
    "scrolled": true
   },
   "outputs": [
    {
     "data": {
      "text/plain": [
       "0          8437.673028\n",
       "1          4024.803754\n",
       "2          5623.422610\n",
       "3          4124.747207\n",
       "4        340266.072047\n",
       "             ...      \n",
       "21520      4529.316663\n",
       "21521    343937.404131\n",
       "21522      2113.346888\n",
       "21523      3112.481705\n",
       "21524      1984.507589\n",
       "Name: days_employed, Length: 21525, dtype: float64"
      ]
     },
     "execution_count": 20,
     "metadata": {},
     "output_type": "execute_result"
    }
   ],
   "source": [
    "credit_data['days_employed'] = abs(credit_data['days_employed'])\n",
    "credit_data['days_employed']"
   ]
  },
  {
   "cell_type": "markdown",
   "id": "cba7a6e6",
   "metadata": {},
   "source": [
    "Тепрь при необходимиости NaN в столбце `days_employed` может быть заменен на медианное значение."
   ]
  },
  {
   "cell_type": "markdown",
   "id": "5b1f7c7d",
   "metadata": {},
   "source": [
    "Колонка `dob_years` имеет тип int, поэтому для проверки быстрой проверки возраста на аномалии можно посмотреть минимальное и максимильное значение в столбце.</b></font>"
   ]
  },
  {
   "cell_type": "code",
   "execution_count": 21,
   "id": "c65af165",
   "metadata": {},
   "outputs": [
    {
     "name": "stdout",
     "output_type": "stream",
     "text": [
      "Минимальный возраст заемщика: 0\n",
      "Максимальный возраст заемщика: 75\n"
     ]
    }
   ],
   "source": [
    "print('Минимальный возраст заемщика:', credit_data['dob_years'].min())\n",
    "print('Максимальный возраст заемщика:', credit_data['dob_years'].max())"
   ]
  },
  {
   "cell_type": "markdown",
   "id": "113daee7",
   "metadata": {},
   "source": [
    "Есть аномали в данных - нулевой возраст. Првоверим, есть ли другие клиенты с возрастом менее 18."
   ]
  },
  {
   "cell_type": "code",
   "execution_count": 22,
   "id": "7488c886",
   "metadata": {},
   "outputs": [
    {
     "data": {
      "text/plain": [
       "array([0])"
      ]
     },
     "execution_count": 22,
     "metadata": {},
     "output_type": "execute_result"
    }
   ],
   "source": [
    "credit_data[credit_data['dob_years']<18]['dob_years'].unique()"
   ]
  },
  {
   "cell_type": "markdown",
   "id": "da7e5db1",
   "metadata": {},
   "source": [
    "Связи между аномалиями в возрасте и другими данными обнаружено не было. Скорее всего это ошибки ввода. В задании не требуется исследовать данные на зависимость между возрастом и возвратом кредита в срок. Поэтому аномалию мы не исправляли. Доля аномальных значений в общем объеме данных составляет менее 0.5%, поэтому при необходимости эти строки могут быть исключены из исследования, либо можно попытаться предположить примерный возраст на основе стажа работы и типа занятости клиента."
   ]
  },
  {
   "cell_type": "markdown",
   "id": "8963837f",
   "metadata": {},
   "source": [
    "### Шаг 2.3. Изменение типов данных."
   ]
  },
  {
   "cell_type": "code",
   "execution_count": 23,
   "id": "955cca19",
   "metadata": {},
   "outputs": [],
   "source": [
    "credit_data['total_income'] = credit_data['total_income'].astype(int)"
   ]
  },
  {
   "cell_type": "code",
   "execution_count": 24,
   "id": "6d1f826a",
   "metadata": {},
   "outputs": [
    {
     "name": "stdout",
     "output_type": "stream",
     "text": [
      "<class 'pandas.core.frame.DataFrame'>\n",
      "RangeIndex: 21525 entries, 0 to 21524\n",
      "Data columns (total 12 columns):\n",
      "children            21525 non-null int64\n",
      "days_employed       21525 non-null float64\n",
      "dob_years           21525 non-null int64\n",
      "education           21525 non-null object\n",
      "education_id        21525 non-null int64\n",
      "family_status       21525 non-null object\n",
      "family_status_id    21525 non-null int64\n",
      "gender              21525 non-null object\n",
      "income_type         21525 non-null object\n",
      "debt                21525 non-null int64\n",
      "total_income        21525 non-null int64\n",
      "purpose             21525 non-null object\n",
      "dtypes: float64(1), int64(6), object(5)\n",
      "memory usage: 2.0+ MB\n"
     ]
    }
   ],
   "source": [
    "credit_data.info()"
   ]
  },
  {
   "cell_type": "markdown",
   "id": "7af1d50d",
   "metadata": {},
   "source": [
    "### Шаг 2.4. Удаление дубликатов."
   ]
  },
  {
   "cell_type": "markdown",
   "id": "3f3b135d",
   "metadata": {},
   "source": [
    "Далее необходимо удалить дубликаты. Сначала приведем столбец `education` к единому регистру, это позволит уловить дубликаты, в которых образование написано в разных регистрах."
   ]
  },
  {
   "cell_type": "code",
   "execution_count": 25,
   "id": "4f164fde",
   "metadata": {},
   "outputs": [
    {
     "data": {
      "text/plain": [
       "0         высшее\n",
       "1        среднее\n",
       "2        среднее\n",
       "3        среднее\n",
       "4        среднее\n",
       "          ...   \n",
       "21520    среднее\n",
       "21521    среднее\n",
       "21522    среднее\n",
       "21523    среднее\n",
       "21524    среднее\n",
       "Name: education, Length: 21525, dtype: object"
      ]
     },
     "execution_count": 25,
     "metadata": {},
     "output_type": "execute_result"
    }
   ],
   "source": [
    "credit_data['education'] = credit_data['education'].str.lower()\n",
    "credit_data['education']"
   ]
  },
  {
   "cell_type": "markdown",
   "id": "61f2ad21",
   "metadata": {},
   "source": [
    "Проверка столбцов, неявные дубликаты:"
   ]
  },
  {
   "cell_type": "code",
   "execution_count": 26,
   "id": "d12181b0",
   "metadata": {},
   "outputs": [
    {
     "data": {
      "text/plain": [
       "array(['высшее', 'среднее', 'неоконченное высшее', 'начальное',\n",
       "       'ученая степень'], dtype=object)"
      ]
     },
     "execution_count": 26,
     "metadata": {},
     "output_type": "execute_result"
    }
   ],
   "source": [
    "credit_data['education'].unique()"
   ]
  },
  {
   "cell_type": "code",
   "execution_count": 27,
   "id": "d5988553",
   "metadata": {
    "scrolled": true
   },
   "outputs": [
    {
     "data": {
      "text/plain": [
       "array(['женат / замужем', 'гражданский брак', 'вдовец / вдова',\n",
       "       'в разводе', 'Не женат / не замужем'], dtype=object)"
      ]
     },
     "execution_count": 27,
     "metadata": {},
     "output_type": "execute_result"
    }
   ],
   "source": [
    "credit_data['family_status'].unique()"
   ]
  },
  {
   "cell_type": "code",
   "execution_count": 28,
   "id": "84b983ca",
   "metadata": {},
   "outputs": [
    {
     "data": {
      "text/plain": [
       "array(['F', 'M', 'XNA'], dtype=object)"
      ]
     },
     "execution_count": 28,
     "metadata": {},
     "output_type": "execute_result"
    }
   ],
   "source": [
    "credit_data['gender'].unique()"
   ]
  },
  {
   "cell_type": "code",
   "execution_count": 29,
   "id": "e17b0fa1",
   "metadata": {},
   "outputs": [
    {
     "data": {
      "text/plain": [
       "array(['сотрудник', 'пенсионер', 'компаньон', 'госслужащий',\n",
       "       'безработный', 'предприниматель', 'студент', 'в декрете'],\n",
       "      dtype=object)"
      ]
     },
     "execution_count": 29,
     "metadata": {},
     "output_type": "execute_result"
    }
   ],
   "source": [
    "credit_data['income_type'].unique()"
   ]
  },
  {
   "cell_type": "code",
   "execution_count": 30,
   "id": "3a9577c3",
   "metadata": {},
   "outputs": [
    {
     "data": {
      "text/plain": [
       "array([0, 1])"
      ]
     },
     "execution_count": 30,
     "metadata": {},
     "output_type": "execute_result"
    }
   ],
   "source": [
    "credit_data['debt'].unique()"
   ]
  },
  {
   "cell_type": "code",
   "execution_count": 31,
   "id": "6525df26",
   "metadata": {},
   "outputs": [
    {
     "data": {
      "text/plain": [
       " 0     14149\n",
       " 1      4818\n",
       " 2      2055\n",
       " 3       330\n",
       " 20       76\n",
       "-1        47\n",
       " 4        41\n",
       " 5         9\n",
       "Name: children, dtype: int64"
      ]
     },
     "execution_count": 31,
     "metadata": {},
     "output_type": "execute_result"
    }
   ],
   "source": [
    "credit_data['children'].unique()\n",
    "credit_data['children'].value_counts()"
   ]
  },
  {
   "cell_type": "markdown",
   "id": "980fcb5b",
   "metadata": {},
   "source": [
    "При проверке остальных столбцов, неявные дубликаты необнаружены.\n",
    "\n",
    "Зато были обнаружены аномалии в стобце `children` -- `-1` и `20`. Можно предположить что это опечатки и действительное  значения -- `1` и `2`. В силу того, что данное предположение невозмозно проверить, а выборка для клиентов с `1` или `2` детьми достаточно большая (4808 и 2052, соответственно) было принято решение, оставить в  исследовании значения `-1` и `20` без исправлений."
   ]
  },
  {
   "cell_type": "code",
   "execution_count": 32,
   "id": "d10f798d",
   "metadata": {},
   "outputs": [
    {
     "name": "stdout",
     "output_type": "stream",
     "text": [
      "Количество явных дубликатов в таблице:\n"
     ]
    },
    {
     "data": {
      "text/plain": [
       "71"
      ]
     },
     "execution_count": 32,
     "metadata": {},
     "output_type": "execute_result"
    }
   ],
   "source": [
    "print('Количество явных дубликатов в таблице:')\n",
    "credit_data.duplicated().sum()"
   ]
  },
  {
   "cell_type": "code",
   "execution_count": 33,
   "id": "463f2206",
   "metadata": {},
   "outputs": [],
   "source": [
    "credit_data = credit_data.drop_duplicates().reset_index(drop=True)"
   ]
  },
  {
   "cell_type": "code",
   "execution_count": 34,
   "id": "15e6b6ae",
   "metadata": {},
   "outputs": [
    {
     "name": "stdout",
     "output_type": "stream",
     "text": [
      "Количество явных дубликатов в таблице:\n"
     ]
    },
    {
     "data": {
      "text/plain": [
       "0"
      ]
     },
     "execution_count": 34,
     "metadata": {},
     "output_type": "execute_result"
    }
   ],
   "source": [
    "print('Количество явных дубликатов в таблице:')\n",
    "credit_data.duplicated().sum()"
   ]
  },
  {
   "cell_type": "markdown",
   "id": "cfd3d59d",
   "metadata": {},
   "source": [
    "**Выводы**\n",
    "\n",
    "На этапе предобработка обнаружены и справлены следующие проблемы в данных:\n",
    "\n",
    "- пропущенные значения,\n",
    "- аномальные значения и ошибки записи\n",
    "- дубликаты.\n"
   ]
  },
  {
   "cell_type": "markdown",
   "id": "0703ecda",
   "metadata": {},
   "source": [
    "### Шаг 2.5. Формирование дополнительных датафреймов словарей, декомпозиция исходного датафрейма."
   ]
  },
  {
   "cell_type": "code",
   "execution_count": 35,
   "id": "2fe429ab",
   "metadata": {},
   "outputs": [
    {
     "data": {
      "text/html": [
       "<div>\n",
       "<style scoped>\n",
       "    .dataframe tbody tr th:only-of-type {\n",
       "        vertical-align: middle;\n",
       "    }\n",
       "\n",
       "    .dataframe tbody tr th {\n",
       "        vertical-align: top;\n",
       "    }\n",
       "\n",
       "    .dataframe thead th {\n",
       "        text-align: right;\n",
       "    }\n",
       "</style>\n",
       "<table border=\"1\" class=\"dataframe\">\n",
       "  <thead>\n",
       "    <tr style=\"text-align: right;\">\n",
       "      <th></th>\n",
       "      <th>education_id</th>\n",
       "      <th>education</th>\n",
       "    </tr>\n",
       "  </thead>\n",
       "  <tbody>\n",
       "    <tr>\n",
       "      <td>0</td>\n",
       "      <td>0</td>\n",
       "      <td>высшее</td>\n",
       "    </tr>\n",
       "    <tr>\n",
       "      <td>1</td>\n",
       "      <td>1</td>\n",
       "      <td>среднее</td>\n",
       "    </tr>\n",
       "    <tr>\n",
       "      <td>2</td>\n",
       "      <td>2</td>\n",
       "      <td>неоконченное высшее</td>\n",
       "    </tr>\n",
       "    <tr>\n",
       "      <td>3</td>\n",
       "      <td>3</td>\n",
       "      <td>начальное</td>\n",
       "    </tr>\n",
       "    <tr>\n",
       "      <td>4</td>\n",
       "      <td>4</td>\n",
       "      <td>ученая степень</td>\n",
       "    </tr>\n",
       "  </tbody>\n",
       "</table>\n",
       "</div>"
      ],
      "text/plain": [
       "   education_id            education\n",
       "0             0               высшее\n",
       "1             1              среднее\n",
       "2             2  неоконченное высшее\n",
       "3             3            начальное\n",
       "4             4       ученая степень"
      ]
     },
     "execution_count": 35,
     "metadata": {},
     "output_type": "execute_result"
    }
   ],
   "source": [
    "# Создание нового датафрейма со столбцами education_id и education\n",
    "education_dict = credit_data[['education_id', 'education']]\n",
    "education_dict = education_dict.drop_duplicates().reset_index(drop=True)\n",
    "education_dict"
   ]
  },
  {
   "cell_type": "code",
   "execution_count": 36,
   "id": "20462b36",
   "metadata": {},
   "outputs": [
    {
     "data": {
      "text/html": [
       "<div>\n",
       "<style scoped>\n",
       "    .dataframe tbody tr th:only-of-type {\n",
       "        vertical-align: middle;\n",
       "    }\n",
       "\n",
       "    .dataframe tbody tr th {\n",
       "        vertical-align: top;\n",
       "    }\n",
       "\n",
       "    .dataframe thead th {\n",
       "        text-align: right;\n",
       "    }\n",
       "</style>\n",
       "<table border=\"1\" class=\"dataframe\">\n",
       "  <thead>\n",
       "    <tr style=\"text-align: right;\">\n",
       "      <th></th>\n",
       "      <th>family_status_id</th>\n",
       "      <th>family_status</th>\n",
       "    </tr>\n",
       "  </thead>\n",
       "  <tbody>\n",
       "    <tr>\n",
       "      <td>0</td>\n",
       "      <td>0</td>\n",
       "      <td>женат / замужем</td>\n",
       "    </tr>\n",
       "    <tr>\n",
       "      <td>1</td>\n",
       "      <td>1</td>\n",
       "      <td>гражданский брак</td>\n",
       "    </tr>\n",
       "    <tr>\n",
       "      <td>2</td>\n",
       "      <td>2</td>\n",
       "      <td>вдовец / вдова</td>\n",
       "    </tr>\n",
       "    <tr>\n",
       "      <td>3</td>\n",
       "      <td>3</td>\n",
       "      <td>в разводе</td>\n",
       "    </tr>\n",
       "    <tr>\n",
       "      <td>4</td>\n",
       "      <td>4</td>\n",
       "      <td>Не женат / не замужем</td>\n",
       "    </tr>\n",
       "  </tbody>\n",
       "</table>\n",
       "</div>"
      ],
      "text/plain": [
       "   family_status_id          family_status\n",
       "0                 0        женат / замужем\n",
       "1                 1       гражданский брак\n",
       "2                 2         вдовец / вдова\n",
       "3                 3              в разводе\n",
       "4                 4  Не женат / не замужем"
      ]
     },
     "execution_count": 36,
     "metadata": {},
     "output_type": "execute_result"
    }
   ],
   "source": [
    "# Создание нового датафрейма со столбцами family_status_id и family_status\n",
    "family_status_dict = credit_data[['family_status_id', 'family_status']]\n",
    "family_status_dict = family_status_dict.drop_duplicates().reset_index(drop=True)\n",
    "family_status_dict"
   ]
  },
  {
   "cell_type": "code",
   "execution_count": 37,
   "id": "aae834f4",
   "metadata": {},
   "outputs": [
    {
     "data": {
      "text/html": [
       "<div>\n",
       "<style scoped>\n",
       "    .dataframe tbody tr th:only-of-type {\n",
       "        vertical-align: middle;\n",
       "    }\n",
       "\n",
       "    .dataframe tbody tr th {\n",
       "        vertical-align: top;\n",
       "    }\n",
       "\n",
       "    .dataframe thead th {\n",
       "        text-align: right;\n",
       "    }\n",
       "</style>\n",
       "<table border=\"1\" class=\"dataframe\">\n",
       "  <thead>\n",
       "    <tr style=\"text-align: right;\">\n",
       "      <th></th>\n",
       "      <th>children</th>\n",
       "      <th>days_employed</th>\n",
       "      <th>dob_years</th>\n",
       "      <th>education_id</th>\n",
       "      <th>family_status_id</th>\n",
       "      <th>gender</th>\n",
       "      <th>income_type</th>\n",
       "      <th>debt</th>\n",
       "      <th>total_income</th>\n",
       "      <th>purpose</th>\n",
       "    </tr>\n",
       "  </thead>\n",
       "  <tbody>\n",
       "    <tr>\n",
       "      <td>0</td>\n",
       "      <td>1</td>\n",
       "      <td>8437.673028</td>\n",
       "      <td>42</td>\n",
       "      <td>0</td>\n",
       "      <td>0</td>\n",
       "      <td>F</td>\n",
       "      <td>сотрудник</td>\n",
       "      <td>0</td>\n",
       "      <td>253875</td>\n",
       "      <td>покупка жилья</td>\n",
       "    </tr>\n",
       "    <tr>\n",
       "      <td>1</td>\n",
       "      <td>1</td>\n",
       "      <td>4024.803754</td>\n",
       "      <td>36</td>\n",
       "      <td>1</td>\n",
       "      <td>0</td>\n",
       "      <td>F</td>\n",
       "      <td>сотрудник</td>\n",
       "      <td>0</td>\n",
       "      <td>112080</td>\n",
       "      <td>приобретение автомобиля</td>\n",
       "    </tr>\n",
       "    <tr>\n",
       "      <td>2</td>\n",
       "      <td>0</td>\n",
       "      <td>5623.422610</td>\n",
       "      <td>33</td>\n",
       "      <td>1</td>\n",
       "      <td>0</td>\n",
       "      <td>M</td>\n",
       "      <td>сотрудник</td>\n",
       "      <td>0</td>\n",
       "      <td>145885</td>\n",
       "      <td>покупка жилья</td>\n",
       "    </tr>\n",
       "    <tr>\n",
       "      <td>3</td>\n",
       "      <td>3</td>\n",
       "      <td>4124.747207</td>\n",
       "      <td>32</td>\n",
       "      <td>1</td>\n",
       "      <td>0</td>\n",
       "      <td>M</td>\n",
       "      <td>сотрудник</td>\n",
       "      <td>0</td>\n",
       "      <td>267628</td>\n",
       "      <td>дополнительное образование</td>\n",
       "    </tr>\n",
       "    <tr>\n",
       "      <td>4</td>\n",
       "      <td>0</td>\n",
       "      <td>340266.072047</td>\n",
       "      <td>53</td>\n",
       "      <td>1</td>\n",
       "      <td>1</td>\n",
       "      <td>F</td>\n",
       "      <td>пенсионер</td>\n",
       "      <td>0</td>\n",
       "      <td>158616</td>\n",
       "      <td>сыграть свадьбу</td>\n",
       "    </tr>\n",
       "  </tbody>\n",
       "</table>\n",
       "</div>"
      ],
      "text/plain": [
       "   children  days_employed  dob_years  education_id  family_status_id gender  \\\n",
       "0         1    8437.673028         42             0                 0      F   \n",
       "1         1    4024.803754         36             1                 0      F   \n",
       "2         0    5623.422610         33             1                 0      M   \n",
       "3         3    4124.747207         32             1                 0      M   \n",
       "4         0  340266.072047         53             1                 1      F   \n",
       "\n",
       "  income_type  debt  total_income                     purpose  \n",
       "0   сотрудник     0        253875               покупка жилья  \n",
       "1   сотрудник     0        112080     приобретение автомобиля  \n",
       "2   сотрудник     0        145885               покупка жилья  \n",
       "3   сотрудник     0        267628  дополнительное образование  \n",
       "4   пенсионер     0        158616             сыграть свадьбу  "
      ]
     },
     "execution_count": 37,
     "metadata": {},
     "output_type": "execute_result"
    }
   ],
   "source": [
    "# Удаление столбцов 'family_status', 'education' из исходного датафрейма\n",
    "credit_data = credit_data.drop(['family_status', 'education'], axis = 1)\n",
    "credit_data.head()"
   ]
  },
  {
   "cell_type": "markdown",
   "id": "95c18c9f",
   "metadata": {},
   "source": [
    "### Шаг 2.6. Категоризация дохода."
   ]
  },
  {
   "cell_type": "code",
   "execution_count": 38,
   "id": "34a5bd66",
   "metadata": {},
   "outputs": [],
   "source": [
    "# Функция для присвоения категории на основании дохода.\n",
    "# Функция использует следующие правила:\n",
    "#   * 0 - 30000  --  'E';\n",
    "#   * 30001 - 50000  --  'D';\n",
    "#   * 50001 - 200000  --  'C';\n",
    "#   * 200001 - 1000000  --  'B';\n",
    "#   * 1000001 и выше -- 'A'.\n",
    "\n",
    "def income_category(income):\n",
    "    try:\n",
    "        if income >= 0:\n",
    "            if   0 <= income <= 30_000: return 'E'\n",
    "            if  30_001 <= income <= 50_000: return 'D'\n",
    "            if  50_001 <= income <= 200_000: return 'C'\n",
    "            if 200_001 <= income <= 1_000_000: return 'B'\n",
    "            if income > 1_000_001: return 'A'\n",
    "        else:\n",
    "            raise ValueError\n",
    "    except:\n",
    "        print(\"Ошибка: Неправильное значение дохода\") "
   ]
  },
  {
   "cell_type": "code",
   "execution_count": 39,
   "id": "a29e00bc",
   "metadata": {},
   "outputs": [
    {
     "data": {
      "text/html": [
       "<div>\n",
       "<style scoped>\n",
       "    .dataframe tbody tr th:only-of-type {\n",
       "        vertical-align: middle;\n",
       "    }\n",
       "\n",
       "    .dataframe tbody tr th {\n",
       "        vertical-align: top;\n",
       "    }\n",
       "\n",
       "    .dataframe thead th {\n",
       "        text-align: right;\n",
       "    }\n",
       "</style>\n",
       "<table border=\"1\" class=\"dataframe\">\n",
       "  <thead>\n",
       "    <tr style=\"text-align: right;\">\n",
       "      <th></th>\n",
       "      <th>children</th>\n",
       "      <th>days_employed</th>\n",
       "      <th>dob_years</th>\n",
       "      <th>education_id</th>\n",
       "      <th>family_status_id</th>\n",
       "      <th>gender</th>\n",
       "      <th>income_type</th>\n",
       "      <th>debt</th>\n",
       "      <th>total_income</th>\n",
       "      <th>purpose</th>\n",
       "      <th>total_income_category</th>\n",
       "    </tr>\n",
       "  </thead>\n",
       "  <tbody>\n",
       "    <tr>\n",
       "      <td>21449</td>\n",
       "      <td>1</td>\n",
       "      <td>4529.316663</td>\n",
       "      <td>43</td>\n",
       "      <td>1</td>\n",
       "      <td>1</td>\n",
       "      <td>F</td>\n",
       "      <td>компаньон</td>\n",
       "      <td>0</td>\n",
       "      <td>224791</td>\n",
       "      <td>операции с жильем</td>\n",
       "      <td>B</td>\n",
       "    </tr>\n",
       "    <tr>\n",
       "      <td>21450</td>\n",
       "      <td>0</td>\n",
       "      <td>343937.404131</td>\n",
       "      <td>67</td>\n",
       "      <td>1</td>\n",
       "      <td>0</td>\n",
       "      <td>F</td>\n",
       "      <td>пенсионер</td>\n",
       "      <td>0</td>\n",
       "      <td>155999</td>\n",
       "      <td>сделка с автомобилем</td>\n",
       "      <td>C</td>\n",
       "    </tr>\n",
       "    <tr>\n",
       "      <td>21451</td>\n",
       "      <td>1</td>\n",
       "      <td>2113.346888</td>\n",
       "      <td>38</td>\n",
       "      <td>1</td>\n",
       "      <td>1</td>\n",
       "      <td>M</td>\n",
       "      <td>сотрудник</td>\n",
       "      <td>1</td>\n",
       "      <td>89672</td>\n",
       "      <td>недвижимость</td>\n",
       "      <td>C</td>\n",
       "    </tr>\n",
       "    <tr>\n",
       "      <td>21452</td>\n",
       "      <td>3</td>\n",
       "      <td>3112.481705</td>\n",
       "      <td>38</td>\n",
       "      <td>1</td>\n",
       "      <td>0</td>\n",
       "      <td>M</td>\n",
       "      <td>сотрудник</td>\n",
       "      <td>1</td>\n",
       "      <td>244093</td>\n",
       "      <td>на покупку своего автомобиля</td>\n",
       "      <td>B</td>\n",
       "    </tr>\n",
       "    <tr>\n",
       "      <td>21453</td>\n",
       "      <td>2</td>\n",
       "      <td>1984.507589</td>\n",
       "      <td>40</td>\n",
       "      <td>1</td>\n",
       "      <td>0</td>\n",
       "      <td>F</td>\n",
       "      <td>сотрудник</td>\n",
       "      <td>0</td>\n",
       "      <td>82047</td>\n",
       "      <td>на покупку автомобиля</td>\n",
       "      <td>C</td>\n",
       "    </tr>\n",
       "  </tbody>\n",
       "</table>\n",
       "</div>"
      ],
      "text/plain": [
       "       children  days_employed  dob_years  education_id  family_status_id  \\\n",
       "21449         1    4529.316663         43             1                 1   \n",
       "21450         0  343937.404131         67             1                 0   \n",
       "21451         1    2113.346888         38             1                 1   \n",
       "21452         3    3112.481705         38             1                 0   \n",
       "21453         2    1984.507589         40             1                 0   \n",
       "\n",
       "      gender income_type  debt  total_income                       purpose  \\\n",
       "21449      F   компаньон     0        224791             операции с жильем   \n",
       "21450      F   пенсионер     0        155999          сделка с автомобилем   \n",
       "21451      M   сотрудник     1         89672                  недвижимость   \n",
       "21452      M   сотрудник     1        244093  на покупку своего автомобиля   \n",
       "21453      F   сотрудник     0         82047         на покупку автомобиля   \n",
       "\n",
       "      total_income_category  \n",
       "21449                     B  \n",
       "21450                     C  \n",
       "21451                     C  \n",
       "21452                     B  \n",
       "21453                     C  "
      ]
     },
     "execution_count": 39,
     "metadata": {},
     "output_type": "execute_result"
    }
   ],
   "source": [
    "credit_data['total_income_category'] = credit_data['total_income'].apply(income_category)\n",
    "credit_data.tail()"
   ]
  },
  {
   "cell_type": "markdown",
   "id": "8d53dd3b",
   "metadata": {},
   "source": [
    "### Шаг 2.7. Категоризация целей кредита."
   ]
  },
  {
   "cell_type": "code",
   "execution_count": 40,
   "id": "01010ee4",
   "metadata": {},
   "outputs": [],
   "source": [
    "# Функция для присвоения категории на цели кредита.\n",
    "# Функция делит цели на следующие категории:\n",
    "#   * ‘операции с автомобилем’,\n",
    "#   * ‘операции с недвижимостью’,\n",
    "#   * ‘проведение свадьбы’,\n",
    "#   * ‘получение образования’.\n",
    "\n",
    "def purpose_category(purpose):\n",
    "    try:\n",
    "        if 'жил' in purpose: return 'операции с недвижимостью'\n",
    "        elif 'недвиж' in purpose: return 'операции с недвижимостью'\n",
    "        elif 'автомоб' in purpose: return 'операции с автомобилем'\n",
    "        elif 'свадь' in purpose: return 'проведение свадьбы'\n",
    "        elif 'образов' in purpose: return 'получение образования'\n",
    "        else: return 'цель не определена'\n",
    "    except:\n",
    "        print(\"Ошибка: Неправильное значение цели\") "
   ]
  },
  {
   "cell_type": "code",
   "execution_count": 41,
   "id": "47d08888",
   "metadata": {},
   "outputs": [
    {
     "data": {
      "text/html": [
       "<div>\n",
       "<style scoped>\n",
       "    .dataframe tbody tr th:only-of-type {\n",
       "        vertical-align: middle;\n",
       "    }\n",
       "\n",
       "    .dataframe tbody tr th {\n",
       "        vertical-align: top;\n",
       "    }\n",
       "\n",
       "    .dataframe thead th {\n",
       "        text-align: right;\n",
       "    }\n",
       "</style>\n",
       "<table border=\"1\" class=\"dataframe\">\n",
       "  <thead>\n",
       "    <tr style=\"text-align: right;\">\n",
       "      <th></th>\n",
       "      <th>children</th>\n",
       "      <th>days_employed</th>\n",
       "      <th>dob_years</th>\n",
       "      <th>education_id</th>\n",
       "      <th>family_status_id</th>\n",
       "      <th>gender</th>\n",
       "      <th>income_type</th>\n",
       "      <th>debt</th>\n",
       "      <th>total_income</th>\n",
       "      <th>purpose</th>\n",
       "      <th>total_income_category</th>\n",
       "      <th>purpose_category</th>\n",
       "    </tr>\n",
       "  </thead>\n",
       "  <tbody>\n",
       "    <tr>\n",
       "      <td>21449</td>\n",
       "      <td>1</td>\n",
       "      <td>4529.316663</td>\n",
       "      <td>43</td>\n",
       "      <td>1</td>\n",
       "      <td>1</td>\n",
       "      <td>F</td>\n",
       "      <td>компаньон</td>\n",
       "      <td>0</td>\n",
       "      <td>224791</td>\n",
       "      <td>операции с жильем</td>\n",
       "      <td>B</td>\n",
       "      <td>операции с недвижимостью</td>\n",
       "    </tr>\n",
       "    <tr>\n",
       "      <td>21450</td>\n",
       "      <td>0</td>\n",
       "      <td>343937.404131</td>\n",
       "      <td>67</td>\n",
       "      <td>1</td>\n",
       "      <td>0</td>\n",
       "      <td>F</td>\n",
       "      <td>пенсионер</td>\n",
       "      <td>0</td>\n",
       "      <td>155999</td>\n",
       "      <td>сделка с автомобилем</td>\n",
       "      <td>C</td>\n",
       "      <td>операции с автомобилем</td>\n",
       "    </tr>\n",
       "    <tr>\n",
       "      <td>21451</td>\n",
       "      <td>1</td>\n",
       "      <td>2113.346888</td>\n",
       "      <td>38</td>\n",
       "      <td>1</td>\n",
       "      <td>1</td>\n",
       "      <td>M</td>\n",
       "      <td>сотрудник</td>\n",
       "      <td>1</td>\n",
       "      <td>89672</td>\n",
       "      <td>недвижимость</td>\n",
       "      <td>C</td>\n",
       "      <td>операции с недвижимостью</td>\n",
       "    </tr>\n",
       "    <tr>\n",
       "      <td>21452</td>\n",
       "      <td>3</td>\n",
       "      <td>3112.481705</td>\n",
       "      <td>38</td>\n",
       "      <td>1</td>\n",
       "      <td>0</td>\n",
       "      <td>M</td>\n",
       "      <td>сотрудник</td>\n",
       "      <td>1</td>\n",
       "      <td>244093</td>\n",
       "      <td>на покупку своего автомобиля</td>\n",
       "      <td>B</td>\n",
       "      <td>операции с автомобилем</td>\n",
       "    </tr>\n",
       "    <tr>\n",
       "      <td>21453</td>\n",
       "      <td>2</td>\n",
       "      <td>1984.507589</td>\n",
       "      <td>40</td>\n",
       "      <td>1</td>\n",
       "      <td>0</td>\n",
       "      <td>F</td>\n",
       "      <td>сотрудник</td>\n",
       "      <td>0</td>\n",
       "      <td>82047</td>\n",
       "      <td>на покупку автомобиля</td>\n",
       "      <td>C</td>\n",
       "      <td>операции с автомобилем</td>\n",
       "    </tr>\n",
       "  </tbody>\n",
       "</table>\n",
       "</div>"
      ],
      "text/plain": [
       "       children  days_employed  dob_years  education_id  family_status_id  \\\n",
       "21449         1    4529.316663         43             1                 1   \n",
       "21450         0  343937.404131         67             1                 0   \n",
       "21451         1    2113.346888         38             1                 1   \n",
       "21452         3    3112.481705         38             1                 0   \n",
       "21453         2    1984.507589         40             1                 0   \n",
       "\n",
       "      gender income_type  debt  total_income                       purpose  \\\n",
       "21449      F   компаньон     0        224791             операции с жильем   \n",
       "21450      F   пенсионер     0        155999          сделка с автомобилем   \n",
       "21451      M   сотрудник     1         89672                  недвижимость   \n",
       "21452      M   сотрудник     1        244093  на покупку своего автомобиля   \n",
       "21453      F   сотрудник     0         82047         на покупку автомобиля   \n",
       "\n",
       "      total_income_category          purpose_category  \n",
       "21449                     B  операции с недвижимостью  \n",
       "21450                     C    операции с автомобилем  \n",
       "21451                     C  операции с недвижимостью  \n",
       "21452                     B    операции с автомобилем  \n",
       "21453                     C    операции с автомобилем  "
      ]
     },
     "execution_count": 41,
     "metadata": {},
     "output_type": "execute_result"
    }
   ],
   "source": [
    "credit_data['purpose_category'] = credit_data['purpose'].apply(purpose_category)\n",
    "credit_data.tail()"
   ]
  },
  {
   "cell_type": "markdown",
   "id": "1856ddb5",
   "metadata": {},
   "source": [
    "### Ответы на вопросы."
   ]
  },
  {
   "cell_type": "markdown",
   "id": "5ae688b2",
   "metadata": {},
   "source": [
    "- Есть ли зависимость между количеством детей и возвратом кредита в срок?\n",
    "- Есть ли зависимость между семейным положением и возвратом кредита в срок?\n",
    "- Есть ли зависимость между уровнем дохода и возвратом кредита в срок?\n",
    "- Как разные цели кредита влияют на его возврат в срок?\n",
    "\n",
    "Столбец `debt` — имел ли задолженность по возврату кредитов. `0` - нет задоженности, `1` - есть задоженность"
   ]
  },
  {
   "cell_type": "markdown",
   "id": "098f2858",
   "metadata": {},
   "source": [
    "##### Вопрос 1: Есть ли зависимость между количеством детей и возвратом кредита в срок?\n"
   ]
  },
  {
   "cell_type": "code",
   "execution_count": 42,
   "id": "e239c5a0",
   "metadata": {
    "scrolled": false
   },
   "outputs": [
    {
     "data": {
      "text/html": [
       "<style  type=\"text/css\" >\n",
       "</style><table id=\"T_60b2c5f6_9e3a_11ec_800f_02420a39329a\" ><thead>    <tr>        <th class=\"blank level0\" ></th>        <th class=\"col_heading level0 col0\" >number of clients</th>        <th class=\"col_heading level0 col1\" >% of clients with debt</th>        <th class=\"col_heading level0 col2\" >number of clients with debt</th>    </tr>    <tr>        <th class=\"index_name level0\" >children</th>        <th class=\"blank\" ></th>        <th class=\"blank\" ></th>        <th class=\"blank\" ></th>    </tr></thead><tbody>\n",
       "                <tr>\n",
       "                        <th id=\"T_60b2c5f6_9e3a_11ec_800f_02420a39329alevel0_row0\" class=\"row_heading level0 row0\" >5</th>\n",
       "                        <td id=\"T_60b2c5f6_9e3a_11ec_800f_02420a39329arow0_col0\" class=\"data row0 col0\" >9</td>\n",
       "                        <td id=\"T_60b2c5f6_9e3a_11ec_800f_02420a39329arow0_col1\" class=\"data row0 col1\" >0.00%</td>\n",
       "                        <td id=\"T_60b2c5f6_9e3a_11ec_800f_02420a39329arow0_col2\" class=\"data row0 col2\" >0</td>\n",
       "            </tr>\n",
       "            <tr>\n",
       "                        <th id=\"T_60b2c5f6_9e3a_11ec_800f_02420a39329alevel0_row1\" class=\"row_heading level0 row1\" >0</th>\n",
       "                        <td id=\"T_60b2c5f6_9e3a_11ec_800f_02420a39329arow1_col0\" class=\"data row1 col0\" >14091</td>\n",
       "                        <td id=\"T_60b2c5f6_9e3a_11ec_800f_02420a39329arow1_col1\" class=\"data row1 col1\" >7.54%</td>\n",
       "                        <td id=\"T_60b2c5f6_9e3a_11ec_800f_02420a39329arow1_col2\" class=\"data row1 col2\" >1063</td>\n",
       "            </tr>\n",
       "            <tr>\n",
       "                        <th id=\"T_60b2c5f6_9e3a_11ec_800f_02420a39329alevel0_row2\" class=\"row_heading level0 row2\" >3</th>\n",
       "                        <td id=\"T_60b2c5f6_9e3a_11ec_800f_02420a39329arow2_col0\" class=\"data row2 col0\" >330</td>\n",
       "                        <td id=\"T_60b2c5f6_9e3a_11ec_800f_02420a39329arow2_col1\" class=\"data row2 col1\" >8.18%</td>\n",
       "                        <td id=\"T_60b2c5f6_9e3a_11ec_800f_02420a39329arow2_col2\" class=\"data row2 col2\" >27</td>\n",
       "            </tr>\n",
       "            <tr>\n",
       "                        <th id=\"T_60b2c5f6_9e3a_11ec_800f_02420a39329alevel0_row3\" class=\"row_heading level0 row3\" >1</th>\n",
       "                        <td id=\"T_60b2c5f6_9e3a_11ec_800f_02420a39329arow3_col0\" class=\"data row3 col0\" >4808</td>\n",
       "                        <td id=\"T_60b2c5f6_9e3a_11ec_800f_02420a39329arow3_col1\" class=\"data row3 col1\" >9.23%</td>\n",
       "                        <td id=\"T_60b2c5f6_9e3a_11ec_800f_02420a39329arow3_col2\" class=\"data row3 col2\" >444</td>\n",
       "            </tr>\n",
       "            <tr>\n",
       "                        <th id=\"T_60b2c5f6_9e3a_11ec_800f_02420a39329alevel0_row4\" class=\"row_heading level0 row4\" >2</th>\n",
       "                        <td id=\"T_60b2c5f6_9e3a_11ec_800f_02420a39329arow4_col0\" class=\"data row4 col0\" >2052</td>\n",
       "                        <td id=\"T_60b2c5f6_9e3a_11ec_800f_02420a39329arow4_col1\" class=\"data row4 col1\" >9.45%</td>\n",
       "                        <td id=\"T_60b2c5f6_9e3a_11ec_800f_02420a39329arow4_col2\" class=\"data row4 col2\" >194</td>\n",
       "            </tr>\n",
       "            <tr>\n",
       "                        <th id=\"T_60b2c5f6_9e3a_11ec_800f_02420a39329alevel0_row5\" class=\"row_heading level0 row5\" >4</th>\n",
       "                        <td id=\"T_60b2c5f6_9e3a_11ec_800f_02420a39329arow5_col0\" class=\"data row5 col0\" >41</td>\n",
       "                        <td id=\"T_60b2c5f6_9e3a_11ec_800f_02420a39329arow5_col1\" class=\"data row5 col1\" >9.76%</td>\n",
       "                        <td id=\"T_60b2c5f6_9e3a_11ec_800f_02420a39329arow5_col2\" class=\"data row5 col2\" >4</td>\n",
       "            </tr>\n",
       "    </tbody></table>"
      ],
      "text/plain": [
       "<pandas.io.formats.style.Styler at 0x7f39e71d1810>"
      ]
     },
     "execution_count": 42,
     "metadata": {},
     "output_type": "execute_result"
    }
   ],
   "source": [
    "children_pivot_table = credit_data.pivot_table(index='children', values='debt', aggfunc=('count','sum','mean'))\n",
    "children_pivot_table.rename( columns={'sum':'number of clients with debt',\n",
    "                                      'count':'number of clients',\n",
    "                                      'mean':'% of clients with debt'}, inplace= True)\n",
    "children_pivot_table = children_pivot_table.drop(index = [-1,20])\n",
    "children_pivot_table.sort_values('% of clients with debt').style.format({'% of clients with debt': '{:.2%}'})"
   ]
  },
  {
   "cell_type": "markdown",
   "id": "e8080d1b",
   "metadata": {},
   "source": [
    "##### Вывод 1:  Есть ли зависимость между количеством детей и возвратом кредита в срок?"
   ]
  },
  {
   "cell_type": "markdown",
   "id": "73552e13",
   "metadata": {},
   "source": [
    "Из анализа данных было получено, что клиенты без детей имеют наименьшую долю невозврата кредита в срок. Далее в порядке убывания следуют клиенты с тремя, одним и двумя детьми. \n",
    "\n",
    "Однако, различия довольно слабые, к тому же выборка клиентов с 3,4, и 5 детьми очень маленькая. Можно сказать, что зависимость между количесвом детей и возвратом кредита в срок отсутствует или очень слабо выражена"
   ]
  },
  {
   "cell_type": "markdown",
   "id": "182667e2",
   "metadata": {},
   "source": [
    "##### Вопрос 2: Есть ли зависимость между семейным положением и возвратом кредита в срок?\n"
   ]
  },
  {
   "cell_type": "code",
   "execution_count": 43,
   "id": "eaa7c2eb",
   "metadata": {},
   "outputs": [
    {
     "data": {
      "text/html": [
       "<style  type=\"text/css\" >\n",
       "</style><table id=\"T_60b7461c_9e3a_11ec_800f_02420a39329a\" ><thead>    <tr>        <th class=\"blank level0\" ></th>        <th class=\"col_heading level0 col0\" >family_status</th>        <th class=\"col_heading level0 col1\" >number of clients</th>        <th class=\"col_heading level0 col2\" >% of clients with debt</th>        <th class=\"col_heading level0 col3\" >number of clients with debt</th>    </tr>    <tr>        <th class=\"index_name level0\" >family_status_id</th>        <th class=\"blank\" ></th>        <th class=\"blank\" ></th>        <th class=\"blank\" ></th>        <th class=\"blank\" ></th>    </tr></thead><tbody>\n",
       "                <tr>\n",
       "                        <th id=\"T_60b7461c_9e3a_11ec_800f_02420a39329alevel0_row0\" class=\"row_heading level0 row0\" >2</th>\n",
       "                        <td id=\"T_60b7461c_9e3a_11ec_800f_02420a39329arow0_col0\" class=\"data row0 col0\" >вдовец / вдова</td>\n",
       "                        <td id=\"T_60b7461c_9e3a_11ec_800f_02420a39329arow0_col1\" class=\"data row0 col1\" >959</td>\n",
       "                        <td id=\"T_60b7461c_9e3a_11ec_800f_02420a39329arow0_col2\" class=\"data row0 col2\" >6.57%</td>\n",
       "                        <td id=\"T_60b7461c_9e3a_11ec_800f_02420a39329arow0_col3\" class=\"data row0 col3\" >63</td>\n",
       "            </tr>\n",
       "            <tr>\n",
       "                        <th id=\"T_60b7461c_9e3a_11ec_800f_02420a39329alevel0_row1\" class=\"row_heading level0 row1\" >3</th>\n",
       "                        <td id=\"T_60b7461c_9e3a_11ec_800f_02420a39329arow1_col0\" class=\"data row1 col0\" >в разводе</td>\n",
       "                        <td id=\"T_60b7461c_9e3a_11ec_800f_02420a39329arow1_col1\" class=\"data row1 col1\" >1195</td>\n",
       "                        <td id=\"T_60b7461c_9e3a_11ec_800f_02420a39329arow1_col2\" class=\"data row1 col2\" >7.11%</td>\n",
       "                        <td id=\"T_60b7461c_9e3a_11ec_800f_02420a39329arow1_col3\" class=\"data row1 col3\" >85</td>\n",
       "            </tr>\n",
       "            <tr>\n",
       "                        <th id=\"T_60b7461c_9e3a_11ec_800f_02420a39329alevel0_row2\" class=\"row_heading level0 row2\" >0</th>\n",
       "                        <td id=\"T_60b7461c_9e3a_11ec_800f_02420a39329arow2_col0\" class=\"data row2 col0\" >женат / замужем</td>\n",
       "                        <td id=\"T_60b7461c_9e3a_11ec_800f_02420a39329arow2_col1\" class=\"data row2 col1\" >12339</td>\n",
       "                        <td id=\"T_60b7461c_9e3a_11ec_800f_02420a39329arow2_col2\" class=\"data row2 col2\" >7.55%</td>\n",
       "                        <td id=\"T_60b7461c_9e3a_11ec_800f_02420a39329arow2_col3\" class=\"data row2 col3\" >931</td>\n",
       "            </tr>\n",
       "            <tr>\n",
       "                        <th id=\"T_60b7461c_9e3a_11ec_800f_02420a39329alevel0_row3\" class=\"row_heading level0 row3\" >1</th>\n",
       "                        <td id=\"T_60b7461c_9e3a_11ec_800f_02420a39329arow3_col0\" class=\"data row3 col0\" >гражданский брак</td>\n",
       "                        <td id=\"T_60b7461c_9e3a_11ec_800f_02420a39329arow3_col1\" class=\"data row3 col1\" >4151</td>\n",
       "                        <td id=\"T_60b7461c_9e3a_11ec_800f_02420a39329arow3_col2\" class=\"data row3 col2\" >9.35%</td>\n",
       "                        <td id=\"T_60b7461c_9e3a_11ec_800f_02420a39329arow3_col3\" class=\"data row3 col3\" >388</td>\n",
       "            </tr>\n",
       "            <tr>\n",
       "                        <th id=\"T_60b7461c_9e3a_11ec_800f_02420a39329alevel0_row4\" class=\"row_heading level0 row4\" >4</th>\n",
       "                        <td id=\"T_60b7461c_9e3a_11ec_800f_02420a39329arow4_col0\" class=\"data row4 col0\" >Не женат / не замужем</td>\n",
       "                        <td id=\"T_60b7461c_9e3a_11ec_800f_02420a39329arow4_col1\" class=\"data row4 col1\" >2810</td>\n",
       "                        <td id=\"T_60b7461c_9e3a_11ec_800f_02420a39329arow4_col2\" class=\"data row4 col2\" >9.75%</td>\n",
       "                        <td id=\"T_60b7461c_9e3a_11ec_800f_02420a39329arow4_col3\" class=\"data row4 col3\" >274</td>\n",
       "            </tr>\n",
       "    </tbody></table>"
      ],
      "text/plain": [
       "<pandas.io.formats.style.Styler at 0x7f39e6894190>"
      ]
     },
     "execution_count": 43,
     "metadata": {},
     "output_type": "execute_result"
    }
   ],
   "source": [
    "family_pivot_table = credit_data.pivot_table(index='family_status_id',\n",
    "                                             values='debt', \n",
    "                                             aggfunc=('count','sum','mean'))\n",
    "family_pivot_table.rename( columns={'sum':'number of clients with debt',\n",
    "                                      'count':'number of clients',\n",
    "                                      'mean':'% of clients with debt'}, inplace= True)\n",
    "\n",
    "# добавим в сводную таблицу значение индексов для удобсва\n",
    "family_pivot_table.insert(loc=0, column='family_status', value=family_status_dict['family_status'])\n",
    "\n",
    "family_pivot_table.sort_values('% of clients with debt').style.format({'% of clients with debt': '{:.2%}'})"
   ]
  },
  {
   "cell_type": "markdown",
   "id": "dc2e79f8",
   "metadata": {},
   "source": [
    "##### Вывод 2:  Есть ли зависимость между семейным положением и возвратом кредита в срок?"
   ]
  },
  {
   "cell_type": "markdown",
   "id": "a07efe92",
   "metadata": {},
   "source": [
    "Наблюдается зависимоть между семейным положением. Можно выделить два кластера. В первый кластер входят клиенты с семейным положением \"вдовец/вдова\", \"в разводе\", \"женат/замужем\" с долей невозврата около 6.5-7.5%. Во второй кластер входят клиенты с семейным положением \"гражданский брак\", \"не женат/не замужем\" с долей не возврата около 9.5%"
   ]
  },
  {
   "cell_type": "markdown",
   "id": "6fe600dc",
   "metadata": {},
   "source": [
    "##### Вопрос 3:  Есть ли зависимость между уровнем дохода и возвратом кредита в срок?\n"
   ]
  },
  {
   "cell_type": "code",
   "execution_count": 44,
   "id": "cc3b1f44",
   "metadata": {},
   "outputs": [
    {
     "data": {
      "text/html": [
       "<style  type=\"text/css\" >\n",
       "</style><table id=\"T_60baeda8_9e3a_11ec_800f_02420a39329a\" ><thead>    <tr>        <th class=\"blank level0\" ></th>        <th class=\"col_heading level0 col0\" >total_income</th>        <th class=\"col_heading level0 col1\" >number of clients</th>        <th class=\"col_heading level0 col2\" >% of clients with debt</th>        <th class=\"col_heading level0 col3\" >number of clients with debt</th>    </tr>    <tr>        <th class=\"index_name level0\" >total_income_category</th>        <th class=\"blank\" ></th>        <th class=\"blank\" ></th>        <th class=\"blank\" ></th>        <th class=\"blank\" ></th>    </tr></thead><tbody>\n",
       "                <tr>\n",
       "                        <th id=\"T_60baeda8_9e3a_11ec_800f_02420a39329alevel0_row0\" class=\"row_heading level0 row0\" >A</th>\n",
       "                        <td id=\"T_60baeda8_9e3a_11ec_800f_02420a39329arow0_col0\" class=\"data row0 col0\" >1_000_001 и выше</td>\n",
       "                        <td id=\"T_60baeda8_9e3a_11ec_800f_02420a39329arow0_col1\" class=\"data row0 col1\" >25</td>\n",
       "                        <td id=\"T_60baeda8_9e3a_11ec_800f_02420a39329arow0_col2\" class=\"data row0 col2\" >8.00%</td>\n",
       "                        <td id=\"T_60baeda8_9e3a_11ec_800f_02420a39329arow0_col3\" class=\"data row0 col3\" >2</td>\n",
       "            </tr>\n",
       "            <tr>\n",
       "                        <th id=\"T_60baeda8_9e3a_11ec_800f_02420a39329alevel0_row1\" class=\"row_heading level0 row1\" >B</th>\n",
       "                        <td id=\"T_60baeda8_9e3a_11ec_800f_02420a39329arow1_col0\" class=\"data row1 col0\" >200_001--1_000_000</td>\n",
       "                        <td id=\"T_60baeda8_9e3a_11ec_800f_02420a39329arow1_col1\" class=\"data row1 col1\" >5228</td>\n",
       "                        <td id=\"T_60baeda8_9e3a_11ec_800f_02420a39329arow1_col2\" class=\"data row1 col2\" >6.96%</td>\n",
       "                        <td id=\"T_60baeda8_9e3a_11ec_800f_02420a39329arow1_col3\" class=\"data row1 col3\" >364</td>\n",
       "            </tr>\n",
       "            <tr>\n",
       "                        <th id=\"T_60baeda8_9e3a_11ec_800f_02420a39329alevel0_row2\" class=\"row_heading level0 row2\" >C</th>\n",
       "                        <td id=\"T_60baeda8_9e3a_11ec_800f_02420a39329arow2_col0\" class=\"data row2 col0\" >50_001--200_000</td>\n",
       "                        <td id=\"T_60baeda8_9e3a_11ec_800f_02420a39329arow2_col1\" class=\"data row2 col1\" >15829</td>\n",
       "                        <td id=\"T_60baeda8_9e3a_11ec_800f_02420a39329arow2_col2\" class=\"data row2 col2\" >8.54%</td>\n",
       "                        <td id=\"T_60baeda8_9e3a_11ec_800f_02420a39329arow2_col3\" class=\"data row2 col3\" >1352</td>\n",
       "            </tr>\n",
       "            <tr>\n",
       "                        <th id=\"T_60baeda8_9e3a_11ec_800f_02420a39329alevel0_row3\" class=\"row_heading level0 row3\" >D</th>\n",
       "                        <td id=\"T_60baeda8_9e3a_11ec_800f_02420a39329arow3_col0\" class=\"data row3 col0\" >30_001--50_000</td>\n",
       "                        <td id=\"T_60baeda8_9e3a_11ec_800f_02420a39329arow3_col1\" class=\"data row3 col1\" >350</td>\n",
       "                        <td id=\"T_60baeda8_9e3a_11ec_800f_02420a39329arow3_col2\" class=\"data row3 col2\" >6.00%</td>\n",
       "                        <td id=\"T_60baeda8_9e3a_11ec_800f_02420a39329arow3_col3\" class=\"data row3 col3\" >21</td>\n",
       "            </tr>\n",
       "            <tr>\n",
       "                        <th id=\"T_60baeda8_9e3a_11ec_800f_02420a39329alevel0_row4\" class=\"row_heading level0 row4\" >E</th>\n",
       "                        <td id=\"T_60baeda8_9e3a_11ec_800f_02420a39329arow4_col0\" class=\"data row4 col0\" >0--30_000</td>\n",
       "                        <td id=\"T_60baeda8_9e3a_11ec_800f_02420a39329arow4_col1\" class=\"data row4 col1\" >22</td>\n",
       "                        <td id=\"T_60baeda8_9e3a_11ec_800f_02420a39329arow4_col2\" class=\"data row4 col2\" >9.09%</td>\n",
       "                        <td id=\"T_60baeda8_9e3a_11ec_800f_02420a39329arow4_col3\" class=\"data row4 col3\" >2</td>\n",
       "            </tr>\n",
       "    </tbody></table>"
      ],
      "text/plain": [
       "<pandas.io.formats.style.Styler at 0x7f39e5e34390>"
      ]
     },
     "execution_count": 44,
     "metadata": {},
     "output_type": "execute_result"
    }
   ],
   "source": [
    "income_pivot_table = credit_data.pivot_table(index='total_income_category',\n",
    "                                             values='debt', \n",
    "                                             aggfunc=('count','sum','mean'))\n",
    "income_pivot_table.rename( columns={'sum':'number of clients with debt',\n",
    "                                      'count':'number of clients',\n",
    "                                      'mean':'% of clients with debt'}, inplace= True)\n",
    "\n",
    "# добавим в сводную таблицу значение индексов для удобсва\n",
    "income_pivot_table.insert(loc=0, \n",
    "                          column='total_income', \n",
    "                          value=['1_000_001 и выше', '200_001--1_000_000',\n",
    "                                 '50_001--200_000','30_001--50_000','0--30_000']\n",
    "                        )\n",
    "\n",
    "income_pivot_table.style.format({'% of clients with debt': '{:.2%}'})"
   ]
  },
  {
   "cell_type": "markdown",
   "id": "149cb00f",
   "metadata": {},
   "source": [
    "##### Вывод 3:  Есть ли зависимость между уровнем дохода и возвратом кредита в срок?"
   ]
  },
  {
   "cell_type": "markdown",
   "id": "b3ab0360",
   "metadata": {},
   "source": [
    "Наблюдается нелинейная зависимость между уровнем дохода и возвратом кредита в срок с пиком для дохода категории D (30 001 – 50 000). Однако стоить отметить, что объем выборок достаточный только для категории B и С."
   ]
  },
  {
   "cell_type": "markdown",
   "id": "032d6076",
   "metadata": {},
   "source": [
    "##### Вопрос  4:  Как разные цели кредита влияют на его возврат в срок?\n"
   ]
  },
  {
   "cell_type": "code",
   "execution_count": 45,
   "id": "dae3f3cb",
   "metadata": {},
   "outputs": [
    {
     "data": {
      "text/html": [
       "<style  type=\"text/css\" >\n",
       "</style><table id=\"T_60be6550_9e3a_11ec_800f_02420a39329a\" ><thead>    <tr>        <th class=\"blank level0\" ></th>        <th class=\"col_heading level0 col0\" >number of clients</th>        <th class=\"col_heading level0 col1\" >% of clients with debt</th>        <th class=\"col_heading level0 col2\" >number of clients with debt</th>    </tr>    <tr>        <th class=\"index_name level0\" >purpose_category</th>        <th class=\"blank\" ></th>        <th class=\"blank\" ></th>        <th class=\"blank\" ></th>    </tr></thead><tbody>\n",
       "                <tr>\n",
       "                        <th id=\"T_60be6550_9e3a_11ec_800f_02420a39329alevel0_row0\" class=\"row_heading level0 row0\" >операции с автомобилем</th>\n",
       "                        <td id=\"T_60be6550_9e3a_11ec_800f_02420a39329arow0_col0\" class=\"data row0 col0\" >4306</td>\n",
       "                        <td id=\"T_60be6550_9e3a_11ec_800f_02420a39329arow0_col1\" class=\"data row0 col1\" >9.36%</td>\n",
       "                        <td id=\"T_60be6550_9e3a_11ec_800f_02420a39329arow0_col2\" class=\"data row0 col2\" >403</td>\n",
       "            </tr>\n",
       "            <tr>\n",
       "                        <th id=\"T_60be6550_9e3a_11ec_800f_02420a39329alevel0_row1\" class=\"row_heading level0 row1\" >операции с недвижимостью</th>\n",
       "                        <td id=\"T_60be6550_9e3a_11ec_800f_02420a39329arow1_col0\" class=\"data row1 col0\" >10811</td>\n",
       "                        <td id=\"T_60be6550_9e3a_11ec_800f_02420a39329arow1_col1\" class=\"data row1 col1\" >7.23%</td>\n",
       "                        <td id=\"T_60be6550_9e3a_11ec_800f_02420a39329arow1_col2\" class=\"data row1 col2\" >782</td>\n",
       "            </tr>\n",
       "            <tr>\n",
       "                        <th id=\"T_60be6550_9e3a_11ec_800f_02420a39329alevel0_row2\" class=\"row_heading level0 row2\" >получение образования</th>\n",
       "                        <td id=\"T_60be6550_9e3a_11ec_800f_02420a39329arow2_col0\" class=\"data row2 col0\" >4013</td>\n",
       "                        <td id=\"T_60be6550_9e3a_11ec_800f_02420a39329arow2_col1\" class=\"data row2 col1\" >9.22%</td>\n",
       "                        <td id=\"T_60be6550_9e3a_11ec_800f_02420a39329arow2_col2\" class=\"data row2 col2\" >370</td>\n",
       "            </tr>\n",
       "            <tr>\n",
       "                        <th id=\"T_60be6550_9e3a_11ec_800f_02420a39329alevel0_row3\" class=\"row_heading level0 row3\" >проведение свадьбы</th>\n",
       "                        <td id=\"T_60be6550_9e3a_11ec_800f_02420a39329arow3_col0\" class=\"data row3 col0\" >2324</td>\n",
       "                        <td id=\"T_60be6550_9e3a_11ec_800f_02420a39329arow3_col1\" class=\"data row3 col1\" >8.00%</td>\n",
       "                        <td id=\"T_60be6550_9e3a_11ec_800f_02420a39329arow3_col2\" class=\"data row3 col2\" >186</td>\n",
       "            </tr>\n",
       "    </tbody></table>"
      ],
      "text/plain": [
       "<pandas.io.formats.style.Styler at 0x7f39e6cd8dd0>"
      ]
     },
     "execution_count": 45,
     "metadata": {},
     "output_type": "execute_result"
    }
   ],
   "source": [
    "pupose_pivot_table = credit_data.pivot_table(index='purpose_category',\n",
    "                                             values='debt', \n",
    "                                             aggfunc=('count','sum','mean'))\n",
    "pupose_pivot_table.rename( columns={'sum':'number of clients with debt',\n",
    "                                      'count':'number of clients',\n",
    "                                      'mean':'% of clients with debt'}, inplace= True)\n",
    "\n",
    "pupose_pivot_table.style.format({'% of clients with debt': '{:.2%}'})"
   ]
  },
  {
   "cell_type": "markdown",
   "id": "64d1d193",
   "metadata": {},
   "source": [
    "##### Вывод  4:  Как разные цели кредита влияют на его возврат в срок?"
   ]
  },
  {
   "cell_type": "markdown",
   "id": "92dff8e0",
   "metadata": {},
   "source": [
    "Цели кредита влияют на возврат кредита в срок -- кредиты взятые на операции с недвижимостью и проведение свадьбы имеют наименьшую долю невозврата."
   ]
  },
  {
   "cell_type": "markdown",
   "id": "4415566a",
   "metadata": {},
   "source": [
    "## Общий вывод:"
   ]
  },
  {
   "cell_type": "markdown",
   "id": "fd76489a",
   "metadata": {},
   "source": [
    "Анализ данных показал, что на факт возврата кредита в срок влияют цели кредита, семейное положение, уровень дохода.\n",
    "\n",
    "При этом: \n",
    "* наибольшую долю возврата имеют кредиты взятые на операции с недвижимостью и проведение свадьбы;\n",
    "* Клиенты с семейным положением \"вдовец/вдова\", \"в разводе\", \"женат/замужем\" выплачивают кредит в срок чаще, чем клиенты с семейным положением \"гражданский брак\", \"не женат/не замужем\";\n",
    "* зависимость от уровня дохода нелинейная с пиком для дохода категории D (30 001 – 50 000);\n",
    "\n",
    "А вот зависисмость от количесва детей отсутствует либо очень слабая.\n",
    "\n",
    "\n",
    "\n",
    "*Важно: в работе не проверялось, являются ли эти отличия статистически значимыми.*\n"
   ]
  },
  {
   "cell_type": "markdown",
   "id": "0f91f7fc",
   "metadata": {},
   "source": [
    "    Так же хочется отметить, что все различия в долях невозврата кредита составляли примерно 1-2%. При полном статистическом анализе, может оказаться, что эти различия не являются значимыми.    \n",
    "    \n",
    "В ходе предобработки данных были выявлены ошибки и аномалии: \n",
    "   * отрицательный стаж (Предположительно ошибка в программе. Возможно стоит проверить формулу вычисления стажа.)\n",
    "   * аномально большой стаж для неработающих (Предположительно ошибка в программе.)\n",
    "   * отрицательное или слишком большое количесво детей, нулевой возраст (Можно добавить проверку на значение при вводе)\n",
    "   * разный регист в столбце образования (Можно добавить автоматическое приведение к одному регистру)"
   ]
  },
  {
   "cell_type": "code",
   "execution_count": null,
   "id": "789a3f63",
   "metadata": {},
   "outputs": [],
   "source": []
  },
  {
   "cell_type": "code",
   "execution_count": null,
   "id": "f4e9fab9",
   "metadata": {},
   "outputs": [],
   "source": []
  }
 ],
 "metadata": {
  "ExecuteTimeLog": [
   {
    "duration": 616,
    "start_time": "2022-02-18T12:11:45.587Z"
   },
   {
    "duration": 27,
    "start_time": "2022-02-18T12:12:21.229Z"
   },
   {
    "duration": 10,
    "start_time": "2022-02-18T12:49:53.904Z"
   },
   {
    "duration": 343,
    "start_time": "2022-02-18T12:56:27.920Z"
   },
   {
    "duration": 299,
    "start_time": "2022-02-18T12:56:31.086Z"
   },
   {
    "duration": 3,
    "start_time": "2022-02-18T12:56:35.044Z"
   },
   {
    "duration": 12,
    "start_time": "2022-02-18T12:57:25.513Z"
   },
   {
    "duration": 10,
    "start_time": "2022-02-18T12:58:33.019Z"
   },
   {
    "duration": 12,
    "start_time": "2022-02-18T12:58:43.578Z"
   },
   {
    "duration": 308,
    "start_time": "2022-02-18T16:34:48.083Z"
   },
   {
    "duration": 22,
    "start_time": "2022-02-18T16:34:52.986Z"
   },
   {
    "duration": 21,
    "start_time": "2022-02-18T16:35:02.600Z"
   },
   {
    "duration": 10,
    "start_time": "2022-02-18T16:35:22.218Z"
   },
   {
    "duration": 102,
    "start_time": "2022-02-18T16:39:29.479Z"
   },
   {
    "duration": 18,
    "start_time": "2022-02-18T16:41:39.680Z"
   },
   {
    "duration": 9,
    "start_time": "2022-02-18T16:41:49.862Z"
   },
   {
    "duration": 10,
    "start_time": "2022-02-18T16:42:00.510Z"
   },
   {
    "duration": 9,
    "start_time": "2022-02-18T16:42:06.930Z"
   },
   {
    "duration": 326,
    "start_time": "2022-02-20T07:45:40.459Z"
   },
   {
    "duration": 331,
    "start_time": "2022-02-20T08:04:35.573Z"
   },
   {
    "duration": 312,
    "start_time": "2022-02-20T08:04:44.415Z"
   },
   {
    "duration": 641,
    "start_time": "2022-02-20T08:04:50.307Z"
   },
   {
    "duration": 18,
    "start_time": "2022-02-20T08:04:51.557Z"
   },
   {
    "duration": 11,
    "start_time": "2022-02-20T08:04:55.097Z"
   },
   {
    "duration": 9,
    "start_time": "2022-02-20T08:04:58.098Z"
   },
   {
    "duration": 4,
    "start_time": "2022-02-20T08:09:14.589Z"
   },
   {
    "duration": 320,
    "start_time": "2022-02-20T08:10:15.024Z"
   },
   {
    "duration": 4,
    "start_time": "2022-02-20T08:10:20.446Z"
   },
   {
    "duration": 5,
    "start_time": "2022-02-20T08:10:41.819Z"
   },
   {
    "duration": 9,
    "start_time": "2022-02-20T08:11:19.723Z"
   },
   {
    "duration": 3,
    "start_time": "2022-02-20T08:11:35.733Z"
   },
   {
    "duration": 3,
    "start_time": "2022-02-20T08:11:46.510Z"
   },
   {
    "duration": 3,
    "start_time": "2022-02-20T08:12:06.171Z"
   },
   {
    "duration": 5,
    "start_time": "2022-02-20T08:14:36.896Z"
   },
   {
    "duration": 316,
    "start_time": "2022-02-20T08:44:31.426Z"
   },
   {
    "duration": 10,
    "start_time": "2022-02-20T08:44:44.103Z"
   },
   {
    "duration": 48,
    "start_time": "2022-02-20T08:44:51.111Z"
   },
   {
    "duration": 12,
    "start_time": "2022-02-20T08:44:52.006Z"
   },
   {
    "duration": 10,
    "start_time": "2022-02-20T08:44:53.791Z"
   },
   {
    "duration": 9,
    "start_time": "2022-02-20T08:44:56.728Z"
   },
   {
    "duration": 4,
    "start_time": "2022-02-20T08:44:58.159Z"
   },
   {
    "duration": 8,
    "start_time": "2022-02-20T08:44:59.424Z"
   },
   {
    "duration": 8,
    "start_time": "2022-02-20T08:55:51.148Z"
   },
   {
    "duration": 5,
    "start_time": "2022-02-20T08:55:59.337Z"
   },
   {
    "duration": 7,
    "start_time": "2022-02-20T08:56:09.667Z"
   },
   {
    "duration": 8,
    "start_time": "2022-02-20T08:57:52.889Z"
   },
   {
    "duration": 22,
    "start_time": "2022-02-20T08:58:13.800Z"
   },
   {
    "duration": 8,
    "start_time": "2022-02-20T08:58:35.263Z"
   },
   {
    "duration": 340,
    "start_time": "2022-02-20T08:58:44.496Z"
   },
   {
    "duration": 94,
    "start_time": "2022-02-20T08:59:47.570Z"
   },
   {
    "duration": 314,
    "start_time": "2022-02-20T09:00:04.136Z"
   },
   {
    "duration": 302,
    "start_time": "2022-02-20T09:00:15.791Z"
   },
   {
    "duration": 8,
    "start_time": "2022-02-20T09:00:20.994Z"
   },
   {
    "duration": 8,
    "start_time": "2022-02-20T09:00:49.721Z"
   },
   {
    "duration": 8,
    "start_time": "2022-02-20T09:02:14.275Z"
   },
   {
    "duration": 344,
    "start_time": "2022-02-20T09:02:29.434Z"
   },
   {
    "duration": 8,
    "start_time": "2022-02-20T09:02:43.611Z"
   },
   {
    "duration": 17,
    "start_time": "2022-02-20T09:03:37.604Z"
   },
   {
    "duration": 22,
    "start_time": "2022-02-20T09:05:34.240Z"
   },
   {
    "duration": 297,
    "start_time": "2022-02-20T09:06:23.247Z"
   },
   {
    "duration": 8,
    "start_time": "2022-02-20T09:06:31.095Z"
   },
   {
    "duration": 7,
    "start_time": "2022-02-20T09:07:32.764Z"
   },
   {
    "duration": 104,
    "start_time": "2022-02-20T09:08:42.946Z"
   },
   {
    "duration": 17,
    "start_time": "2022-02-20T09:12:28.879Z"
   },
   {
    "duration": 4,
    "start_time": "2022-02-20T10:12:04.161Z"
   },
   {
    "duration": 4,
    "start_time": "2022-02-20T10:12:11.908Z"
   },
   {
    "duration": 4,
    "start_time": "2022-02-20T10:12:18.919Z"
   },
   {
    "duration": 3,
    "start_time": "2022-02-20T10:12:58.422Z"
   },
   {
    "duration": 4,
    "start_time": "2022-02-20T10:16:24.683Z"
   },
   {
    "duration": 4,
    "start_time": "2022-02-20T10:16:30.345Z"
   },
   {
    "duration": 291,
    "start_time": "2022-02-20T10:16:49.893Z"
   },
   {
    "duration": 4,
    "start_time": "2022-02-20T10:16:53.759Z"
   },
   {
    "duration": 352,
    "start_time": "2022-02-20T10:22:22.545Z"
   },
   {
    "duration": 315,
    "start_time": "2022-02-20T10:22:48.224Z"
   },
   {
    "duration": 315,
    "start_time": "2022-02-20T10:23:23.254Z"
   },
   {
    "duration": 316,
    "start_time": "2022-02-20T10:23:54.564Z"
   },
   {
    "duration": 352,
    "start_time": "2022-02-20T10:24:17.932Z"
   },
   {
    "duration": 5,
    "start_time": "2022-02-20T10:24:47.902Z"
   },
   {
    "duration": 5,
    "start_time": "2022-02-20T10:24:52.845Z"
   },
   {
    "duration": 4,
    "start_time": "2022-02-20T10:25:01.280Z"
   },
   {
    "duration": 11,
    "start_time": "2022-02-20T10:26:04.945Z"
   },
   {
    "duration": 19,
    "start_time": "2022-02-20T10:26:43.667Z"
   },
   {
    "duration": 19,
    "start_time": "2022-02-20T10:26:54.446Z"
   },
   {
    "duration": 7,
    "start_time": "2022-02-20T10:27:35.317Z"
   },
   {
    "duration": 10,
    "start_time": "2022-02-20T10:27:40.169Z"
   },
   {
    "duration": 298,
    "start_time": "2022-02-20T10:28:06.624Z"
   },
   {
    "duration": 315,
    "start_time": "2022-02-20T10:28:13.550Z"
   },
   {
    "duration": 5,
    "start_time": "2022-02-20T10:28:17.103Z"
   },
   {
    "duration": 4,
    "start_time": "2022-02-20T10:28:19.066Z"
   },
   {
    "duration": 6,
    "start_time": "2022-02-20T10:28:48.011Z"
   },
   {
    "duration": 5,
    "start_time": "2022-02-20T10:28:58.060Z"
   },
   {
    "duration": 5,
    "start_time": "2022-02-20T10:29:12.056Z"
   },
   {
    "duration": 6,
    "start_time": "2022-02-20T10:50:42.816Z"
   },
   {
    "duration": 5,
    "start_time": "2022-02-20T10:50:51.912Z"
   },
   {
    "duration": 296,
    "start_time": "2022-02-20T10:51:55.201Z"
   },
   {
    "duration": 4,
    "start_time": "2022-02-20T10:51:59.032Z"
   },
   {
    "duration": 5,
    "start_time": "2022-02-20T10:52:00.721Z"
   },
   {
    "duration": 293,
    "start_time": "2022-02-20T10:52:39.994Z"
   },
   {
    "duration": 6,
    "start_time": "2022-02-20T10:52:42.826Z"
   },
   {
    "duration": 4,
    "start_time": "2022-02-20T10:52:44.039Z"
   },
   {
    "duration": 7,
    "start_time": "2022-02-20T10:53:26.844Z"
   },
   {
    "duration": 7,
    "start_time": "2022-02-20T10:54:21.252Z"
   },
   {
    "duration": 7,
    "start_time": "2022-02-20T10:54:29.621Z"
   },
   {
    "duration": 9,
    "start_time": "2022-02-20T10:55:31.657Z"
   },
   {
    "duration": 3,
    "start_time": "2022-02-20T10:56:15.231Z"
   },
   {
    "duration": 5,
    "start_time": "2022-02-20T10:56:20.674Z"
   },
   {
    "duration": 7,
    "start_time": "2022-02-20T11:00:14.874Z"
   },
   {
    "duration": 5,
    "start_time": "2022-02-20T11:00:33.098Z"
   },
   {
    "duration": 9,
    "start_time": "2022-02-20T11:01:19.941Z"
   },
   {
    "duration": 8,
    "start_time": "2022-02-20T11:02:00.024Z"
   },
   {
    "duration": 8,
    "start_time": "2022-02-20T11:02:31.919Z"
   },
   {
    "duration": 8,
    "start_time": "2022-02-20T11:02:41.481Z"
   },
   {
    "duration": 8,
    "start_time": "2022-02-20T11:03:00.366Z"
   },
   {
    "duration": 9,
    "start_time": "2022-02-20T11:03:18.828Z"
   },
   {
    "duration": 8,
    "start_time": "2022-02-20T11:03:22.573Z"
   },
   {
    "duration": 5,
    "start_time": "2022-02-20T11:03:39.180Z"
   },
   {
    "duration": 8,
    "start_time": "2022-02-20T11:03:43.804Z"
   },
   {
    "duration": 59,
    "start_time": "2022-02-20T11:04:02.764Z"
   },
   {
    "duration": 12,
    "start_time": "2022-02-20T11:04:03.508Z"
   },
   {
    "duration": 11,
    "start_time": "2022-02-20T11:04:07.064Z"
   },
   {
    "duration": 9,
    "start_time": "2022-02-20T11:04:10.416Z"
   },
   {
    "duration": 5,
    "start_time": "2022-02-20T11:04:13.309Z"
   },
   {
    "duration": 5,
    "start_time": "2022-02-20T11:04:30.673Z"
   },
   {
    "duration": 8,
    "start_time": "2022-02-20T11:04:48.314Z"
   },
   {
    "duration": 8,
    "start_time": "2022-02-20T11:04:53.719Z"
   },
   {
    "duration": 5,
    "start_time": "2022-02-20T11:05:02.796Z"
   },
   {
    "duration": 8,
    "start_time": "2022-02-20T11:05:04.965Z"
   },
   {
    "duration": 12,
    "start_time": "2022-02-20T11:05:15.094Z"
   },
   {
    "duration": 45,
    "start_time": "2022-02-20T11:05:17.101Z"
   },
   {
    "duration": 16,
    "start_time": "2022-02-20T11:05:17.936Z"
   },
   {
    "duration": 5,
    "start_time": "2022-02-20T11:05:29.249Z"
   },
   {
    "duration": 8,
    "start_time": "2022-02-20T11:05:33.511Z"
   },
   {
    "duration": 8,
    "start_time": "2022-02-20T11:05:42.947Z"
   },
   {
    "duration": 5,
    "start_time": "2022-02-20T11:05:54.721Z"
   },
   {
    "duration": 48,
    "start_time": "2022-02-20T11:06:17.698Z"
   },
   {
    "duration": 11,
    "start_time": "2022-02-20T11:06:18.312Z"
   },
   {
    "duration": 12,
    "start_time": "2022-02-20T11:06:20.282Z"
   },
   {
    "duration": 10,
    "start_time": "2022-02-20T11:06:22.175Z"
   },
   {
    "duration": 4,
    "start_time": "2022-02-20T11:06:23.974Z"
   },
   {
    "duration": 5,
    "start_time": "2022-02-20T11:06:25.974Z"
   },
   {
    "duration": 8,
    "start_time": "2022-02-20T11:06:32.840Z"
   },
   {
    "duration": 7,
    "start_time": "2022-02-20T11:06:59.887Z"
   },
   {
    "duration": 6,
    "start_time": "2022-02-20T11:07:06.116Z"
   },
   {
    "duration": 57,
    "start_time": "2022-02-20T11:08:49.316Z"
   },
   {
    "duration": 11,
    "start_time": "2022-02-20T11:08:49.375Z"
   },
   {
    "duration": 10,
    "start_time": "2022-02-20T11:08:49.388Z"
   },
   {
    "duration": 8,
    "start_time": "2022-02-20T11:08:49.400Z"
   },
   {
    "duration": 5,
    "start_time": "2022-02-20T11:08:49.409Z"
   },
   {
    "duration": 4,
    "start_time": "2022-02-20T11:08:49.435Z"
   },
   {
    "duration": 11,
    "start_time": "2022-02-20T11:08:49.440Z"
   },
   {
    "duration": 7,
    "start_time": "2022-02-20T11:08:49.452Z"
   },
   {
    "duration": 5,
    "start_time": "2022-02-20T11:08:49.460Z"
   },
   {
    "duration": 12,
    "start_time": "2022-02-20T11:08:49.467Z"
   },
   {
    "duration": 18,
    "start_time": "2022-02-20T11:08:49.481Z"
   },
   {
    "duration": 47,
    "start_time": "2022-02-20T11:09:08.235Z"
   },
   {
    "duration": 11,
    "start_time": "2022-02-20T11:09:08.284Z"
   },
   {
    "duration": 10,
    "start_time": "2022-02-20T11:09:08.296Z"
   },
   {
    "duration": 8,
    "start_time": "2022-02-20T11:09:08.308Z"
   },
   {
    "duration": 16,
    "start_time": "2022-02-20T11:09:08.318Z"
   },
   {
    "duration": 5,
    "start_time": "2022-02-20T11:09:08.336Z"
   },
   {
    "duration": 8,
    "start_time": "2022-02-20T11:09:08.343Z"
   },
   {
    "duration": 8,
    "start_time": "2022-02-20T11:09:08.353Z"
   },
   {
    "duration": 7,
    "start_time": "2022-02-20T11:09:08.363Z"
   },
   {
    "duration": 9,
    "start_time": "2022-02-20T11:09:08.371Z"
   },
   {
    "duration": 51,
    "start_time": "2022-02-20T11:09:08.381Z"
   },
   {
    "duration": 1023,
    "start_time": "2022-02-20T11:10:03.973Z"
   },
   {
    "duration": 55,
    "start_time": "2022-02-20T11:10:20.097Z"
   },
   {
    "duration": 12,
    "start_time": "2022-02-20T11:10:20.153Z"
   },
   {
    "duration": 10,
    "start_time": "2022-02-20T11:10:20.167Z"
   },
   {
    "duration": 9,
    "start_time": "2022-02-20T11:10:20.178Z"
   },
   {
    "duration": 4,
    "start_time": "2022-02-20T11:10:20.188Z"
   },
   {
    "duration": 40,
    "start_time": "2022-02-20T11:10:20.193Z"
   },
   {
    "duration": 1129,
    "start_time": "2022-02-20T11:10:20.234Z"
   },
   {
    "duration": 7,
    "start_time": "2022-02-20T11:10:21.365Z"
   },
   {
    "duration": 5,
    "start_time": "2022-02-20T11:10:21.373Z"
   },
   {
    "duration": 9,
    "start_time": "2022-02-20T11:10:21.380Z"
   },
   {
    "duration": 15,
    "start_time": "2022-02-20T11:10:21.390Z"
   },
   {
    "duration": 44,
    "start_time": "2022-02-20T11:10:46.775Z"
   },
   {
    "duration": 12,
    "start_time": "2022-02-20T11:10:46.820Z"
   },
   {
    "duration": 10,
    "start_time": "2022-02-20T11:10:46.834Z"
   },
   {
    "duration": 9,
    "start_time": "2022-02-20T11:10:46.846Z"
   },
   {
    "duration": 3,
    "start_time": "2022-02-20T11:10:46.857Z"
   },
   {
    "duration": 6,
    "start_time": "2022-02-20T11:10:46.862Z"
   },
   {
    "duration": 367,
    "start_time": "2022-02-20T11:10:46.869Z"
   },
   {
    "duration": 7,
    "start_time": "2022-02-20T11:10:47.238Z"
   },
   {
    "duration": 5,
    "start_time": "2022-02-20T11:10:47.247Z"
   },
   {
    "duration": 8,
    "start_time": "2022-02-20T11:10:47.253Z"
   },
   {
    "duration": 14,
    "start_time": "2022-02-20T11:10:47.262Z"
   },
   {
    "duration": 5,
    "start_time": "2022-02-20T11:11:21.704Z"
   },
   {
    "duration": 5,
    "start_time": "2022-02-20T11:12:14.974Z"
   },
   {
    "duration": 6,
    "start_time": "2022-02-20T11:12:15.982Z"
   },
   {
    "duration": 56,
    "start_time": "2022-02-20T11:18:58.523Z"
   },
   {
    "duration": 11,
    "start_time": "2022-02-20T11:18:58.581Z"
   },
   {
    "duration": 10,
    "start_time": "2022-02-20T11:18:58.594Z"
   },
   {
    "duration": 8,
    "start_time": "2022-02-20T11:18:58.606Z"
   },
   {
    "duration": 4,
    "start_time": "2022-02-20T11:18:58.616Z"
   },
   {
    "duration": 9,
    "start_time": "2022-02-20T11:18:58.643Z"
   },
   {
    "duration": 6,
    "start_time": "2022-02-20T11:18:58.654Z"
   },
   {
    "duration": 15,
    "start_time": "2022-02-20T11:18:58.673Z"
   },
   {
    "duration": 5,
    "start_time": "2022-02-20T11:20:56.753Z"
   },
   {
    "duration": 6,
    "start_time": "2022-02-20T11:21:16.644Z"
   },
   {
    "duration": 5,
    "start_time": "2022-02-20T11:21:18.773Z"
   },
   {
    "duration": 5,
    "start_time": "2022-02-20T11:21:59.489Z"
   },
   {
    "duration": 5,
    "start_time": "2022-02-20T11:22:22.294Z"
   },
   {
    "duration": 6,
    "start_time": "2022-02-20T11:22:24.973Z"
   },
   {
    "duration": 5,
    "start_time": "2022-02-20T11:22:49.621Z"
   },
   {
    "duration": 5,
    "start_time": "2022-02-20T11:22:52.856Z"
   },
   {
    "duration": 55,
    "start_time": "2022-02-20T11:22:59.809Z"
   },
   {
    "duration": 12,
    "start_time": "2022-02-20T11:22:59.866Z"
   },
   {
    "duration": 13,
    "start_time": "2022-02-20T11:22:59.879Z"
   },
   {
    "duration": 9,
    "start_time": "2022-02-20T11:22:59.893Z"
   },
   {
    "duration": 28,
    "start_time": "2022-02-20T11:22:59.904Z"
   },
   {
    "duration": 6,
    "start_time": "2022-02-20T11:22:59.933Z"
   },
   {
    "duration": 6,
    "start_time": "2022-02-20T11:22:59.941Z"
   },
   {
    "duration": 5,
    "start_time": "2022-02-20T11:22:59.949Z"
   },
   {
    "duration": 5,
    "start_time": "2022-02-20T11:22:59.955Z"
   },
   {
    "duration": 8,
    "start_time": "2022-02-20T11:22:59.962Z"
   },
   {
    "duration": 13,
    "start_time": "2022-02-20T11:22:59.971Z"
   },
   {
    "duration": 10,
    "start_time": "2022-02-20T11:22:59.986Z"
   },
   {
    "duration": 379,
    "start_time": "2022-02-20T11:22:59.997Z"
   },
   {
    "duration": -239,
    "start_time": "2022-02-20T11:23:00.617Z"
   },
   {
    "duration": 6,
    "start_time": "2022-02-20T11:29:42.430Z"
   },
   {
    "duration": 6,
    "start_time": "2022-02-20T11:37:08.557Z"
   },
   {
    "duration": 13,
    "start_time": "2022-02-20T11:37:23.730Z"
   },
   {
    "duration": 46,
    "start_time": "2022-02-20T11:37:50.703Z"
   },
   {
    "duration": 12,
    "start_time": "2022-02-20T11:37:50.751Z"
   },
   {
    "duration": 10,
    "start_time": "2022-02-20T11:37:50.765Z"
   },
   {
    "duration": 8,
    "start_time": "2022-02-20T11:37:50.777Z"
   },
   {
    "duration": 3,
    "start_time": "2022-02-20T11:37:50.786Z"
   },
   {
    "duration": 7,
    "start_time": "2022-02-20T11:37:50.790Z"
   },
   {
    "duration": 41,
    "start_time": "2022-02-20T11:37:50.799Z"
   },
   {
    "duration": 6,
    "start_time": "2022-02-20T11:37:50.842Z"
   },
   {
    "duration": 6,
    "start_time": "2022-02-20T11:37:50.850Z"
   },
   {
    "duration": 5,
    "start_time": "2022-02-20T11:37:50.857Z"
   },
   {
    "duration": 7,
    "start_time": "2022-02-20T11:37:50.864Z"
   },
   {
    "duration": 8,
    "start_time": "2022-02-20T11:37:50.873Z"
   },
   {
    "duration": 8,
    "start_time": "2022-02-20T11:37:50.883Z"
   },
   {
    "duration": 10,
    "start_time": "2022-02-20T11:37:50.892Z"
   },
   {
    "duration": 377,
    "start_time": "2022-02-20T11:37:50.903Z"
   },
   {
    "duration": -480,
    "start_time": "2022-02-20T11:37:51.762Z"
   },
   {
    "duration": 8,
    "start_time": "2022-02-20T11:38:45.357Z"
   },
   {
    "duration": 57,
    "start_time": "2022-02-20T11:39:00.492Z"
   },
   {
    "duration": 14,
    "start_time": "2022-02-20T11:39:26.088Z"
   },
   {
    "duration": 12,
    "start_time": "2022-02-20T11:39:32.903Z"
   },
   {
    "duration": 48,
    "start_time": "2022-02-20T11:39:43.693Z"
   },
   {
    "duration": 12,
    "start_time": "2022-02-20T11:39:43.743Z"
   },
   {
    "duration": 21,
    "start_time": "2022-02-20T11:39:43.757Z"
   },
   {
    "duration": 21,
    "start_time": "2022-02-20T11:39:43.780Z"
   },
   {
    "duration": 8,
    "start_time": "2022-02-20T11:39:43.802Z"
   },
   {
    "duration": 27,
    "start_time": "2022-02-20T11:39:43.812Z"
   },
   {
    "duration": 10,
    "start_time": "2022-02-20T11:39:43.840Z"
   },
   {
    "duration": 9,
    "start_time": "2022-02-20T11:39:43.852Z"
   },
   {
    "duration": 9,
    "start_time": "2022-02-20T11:39:43.863Z"
   },
   {
    "duration": 12,
    "start_time": "2022-02-20T11:39:43.873Z"
   },
   {
    "duration": 18,
    "start_time": "2022-02-20T11:39:43.886Z"
   },
   {
    "duration": 12,
    "start_time": "2022-02-20T11:39:43.905Z"
   },
   {
    "duration": 14,
    "start_time": "2022-02-20T11:39:43.919Z"
   },
   {
    "duration": 12,
    "start_time": "2022-02-20T11:39:43.935Z"
   },
   {
    "duration": 411,
    "start_time": "2022-02-20T11:39:43.949Z"
   },
   {
    "duration": -54,
    "start_time": "2022-02-20T11:39:44.415Z"
   },
   {
    "duration": 15,
    "start_time": "2022-02-20T11:40:31.413Z"
   },
   {
    "duration": 10,
    "start_time": "2022-02-20T11:40:33.643Z"
   },
   {
    "duration": 46,
    "start_time": "2022-02-20T11:40:39.915Z"
   },
   {
    "duration": 13,
    "start_time": "2022-02-20T11:40:39.963Z"
   },
   {
    "duration": 13,
    "start_time": "2022-02-20T11:40:39.978Z"
   },
   {
    "duration": 8,
    "start_time": "2022-02-20T11:40:39.993Z"
   },
   {
    "duration": 30,
    "start_time": "2022-02-20T11:40:40.003Z"
   },
   {
    "duration": 15,
    "start_time": "2022-02-20T11:40:40.035Z"
   },
   {
    "duration": 11,
    "start_time": "2022-02-20T11:40:40.052Z"
   },
   {
    "duration": 7,
    "start_time": "2022-02-20T11:40:40.066Z"
   },
   {
    "duration": 7,
    "start_time": "2022-02-20T11:40:40.075Z"
   },
   {
    "duration": 5,
    "start_time": "2022-02-20T11:40:40.084Z"
   },
   {
    "duration": 45,
    "start_time": "2022-02-20T11:40:40.090Z"
   },
   {
    "duration": 6,
    "start_time": "2022-02-20T11:40:40.137Z"
   },
   {
    "duration": 7,
    "start_time": "2022-02-20T11:40:40.145Z"
   },
   {
    "duration": 9,
    "start_time": "2022-02-20T11:40:40.153Z"
   },
   {
    "duration": 926,
    "start_time": "2022-02-20T11:40:40.164Z"
   },
   {
    "duration": -48,
    "start_time": "2022-02-20T11:40:41.140Z"
   },
   {
    "duration": 5,
    "start_time": "2022-02-20T11:51:59.715Z"
   },
   {
    "duration": 45,
    "start_time": "2022-02-20T11:53:25.549Z"
   },
   {
    "duration": 11,
    "start_time": "2022-02-20T11:53:25.596Z"
   },
   {
    "duration": 11,
    "start_time": "2022-02-20T11:53:25.608Z"
   },
   {
    "duration": 12,
    "start_time": "2022-02-20T11:53:25.620Z"
   },
   {
    "duration": 4,
    "start_time": "2022-02-20T11:53:25.634Z"
   },
   {
    "duration": 17,
    "start_time": "2022-02-20T11:53:25.640Z"
   },
   {
    "duration": 9,
    "start_time": "2022-02-20T11:53:25.658Z"
   },
   {
    "duration": 6,
    "start_time": "2022-02-20T11:53:25.669Z"
   },
   {
    "duration": 8,
    "start_time": "2022-02-20T11:53:25.676Z"
   },
   {
    "duration": 7,
    "start_time": "2022-02-20T11:53:25.685Z"
   },
   {
    "duration": 39,
    "start_time": "2022-02-20T11:53:25.694Z"
   },
   {
    "duration": 5,
    "start_time": "2022-02-20T11:53:25.734Z"
   },
   {
    "duration": 7,
    "start_time": "2022-02-20T11:53:25.741Z"
   },
   {
    "duration": 9,
    "start_time": "2022-02-20T11:53:25.749Z"
   },
   {
    "duration": 296,
    "start_time": "2022-02-20T11:53:25.760Z"
   },
   {
    "duration": -265,
    "start_time": "2022-02-20T11:53:26.323Z"
   },
   {
    "duration": 51,
    "start_time": "2022-02-20T11:54:15.461Z"
   },
   {
    "duration": 12,
    "start_time": "2022-02-20T11:54:15.514Z"
   },
   {
    "duration": 11,
    "start_time": "2022-02-20T11:54:15.529Z"
   },
   {
    "duration": 9,
    "start_time": "2022-02-20T11:54:15.542Z"
   },
   {
    "duration": 5,
    "start_time": "2022-02-20T11:54:15.553Z"
   },
   {
    "duration": 15,
    "start_time": "2022-02-20T11:54:15.559Z"
   },
   {
    "duration": 9,
    "start_time": "2022-02-20T11:54:15.575Z"
   },
   {
    "duration": 6,
    "start_time": "2022-02-20T11:54:15.586Z"
   },
   {
    "duration": 42,
    "start_time": "2022-02-20T11:54:15.593Z"
   },
   {
    "duration": 5,
    "start_time": "2022-02-20T11:54:15.636Z"
   },
   {
    "duration": 6,
    "start_time": "2022-02-20T11:54:15.643Z"
   },
   {
    "duration": 6,
    "start_time": "2022-02-20T11:54:15.650Z"
   },
   {
    "duration": 11,
    "start_time": "2022-02-20T11:54:15.657Z"
   },
   {
    "duration": 9,
    "start_time": "2022-02-20T11:54:15.669Z"
   },
   {
    "duration": 19,
    "start_time": "2022-02-20T11:54:15.680Z"
   },
   {
    "duration": 6,
    "start_time": "2022-02-20T11:54:27.510Z"
   },
   {
    "duration": 6,
    "start_time": "2022-02-20T11:54:31.068Z"
   },
   {
    "duration": 8,
    "start_time": "2022-02-20T11:54:34.940Z"
   },
   {
    "duration": 6,
    "start_time": "2022-02-20T11:54:52.104Z"
   },
   {
    "duration": 6,
    "start_time": "2022-02-20T11:54:54.924Z"
   },
   {
    "duration": 5,
    "start_time": "2022-02-20T11:57:43.350Z"
   },
   {
    "duration": 8,
    "start_time": "2022-02-20T12:06:45.461Z"
   },
   {
    "duration": 6,
    "start_time": "2022-02-20T12:06:58.545Z"
   },
   {
    "duration": 1376,
    "start_time": "2022-02-20T12:09:29.940Z"
   },
   {
    "duration": 11,
    "start_time": "2022-02-20T12:11:41.173Z"
   },
   {
    "duration": 6,
    "start_time": "2022-02-20T12:12:12.679Z"
   },
   {
    "duration": 10,
    "start_time": "2022-02-20T12:12:15.765Z"
   },
   {
    "duration": 9,
    "start_time": "2022-02-20T12:12:22.946Z"
   },
   {
    "duration": 5,
    "start_time": "2022-02-20T12:12:26.780Z"
   },
   {
    "duration": 4,
    "start_time": "2022-02-20T12:12:30.463Z"
   },
   {
    "duration": 12,
    "start_time": "2022-02-20T12:12:32.136Z"
   },
   {
    "duration": 5,
    "start_time": "2022-02-20T12:14:11.368Z"
   },
   {
    "duration": 294,
    "start_time": "2022-02-20T12:14:36.510Z"
   },
   {
    "duration": 13,
    "start_time": "2022-02-20T12:14:53.759Z"
   },
   {
    "duration": 18,
    "start_time": "2022-02-20T12:15:00.553Z"
   },
   {
    "duration": 25,
    "start_time": "2022-02-20T12:19:55.361Z"
   },
   {
    "duration": 26,
    "start_time": "2022-02-20T12:20:04.198Z"
   },
   {
    "duration": 16,
    "start_time": "2022-02-20T12:20:07.582Z"
   },
   {
    "duration": 31,
    "start_time": "2022-02-20T12:20:19.473Z"
   },
   {
    "duration": 31,
    "start_time": "2022-02-20T12:20:57.706Z"
   },
   {
    "duration": 15,
    "start_time": "2022-02-20T12:21:02.341Z"
   },
   {
    "duration": 30,
    "start_time": "2022-02-20T12:22:40.201Z"
   },
   {
    "duration": 411,
    "start_time": "2022-02-20T12:22:51.273Z"
   },
   {
    "duration": 26,
    "start_time": "2022-02-20T12:22:54.889Z"
   },
   {
    "duration": 16,
    "start_time": "2022-02-20T12:23:01.284Z"
   },
   {
    "duration": 17,
    "start_time": "2022-02-20T12:23:05.163Z"
   },
   {
    "duration": 6,
    "start_time": "2022-02-20T12:23:50.412Z"
   },
   {
    "duration": 4,
    "start_time": "2022-02-20T12:24:47.139Z"
   },
   {
    "duration": 5,
    "start_time": "2022-02-20T12:24:49.314Z"
   },
   {
    "duration": 5,
    "start_time": "2022-02-20T12:24:51.105Z"
   },
   {
    "duration": 113,
    "start_time": "2022-02-20T12:28:57.325Z"
   },
   {
    "duration": 5,
    "start_time": "2022-02-20T12:30:15.222Z"
   },
   {
    "duration": 6,
    "start_time": "2022-02-20T12:53:11.912Z"
   },
   {
    "duration": 8,
    "start_time": "2022-02-20T12:53:57.683Z"
   },
   {
    "duration": 7,
    "start_time": "2022-02-20T12:54:02.412Z"
   },
   {
    "duration": 8,
    "start_time": "2022-02-20T12:54:09.640Z"
   },
   {
    "duration": 11,
    "start_time": "2022-02-20T12:58:30.711Z"
   },
   {
    "duration": 11,
    "start_time": "2022-02-20T12:58:47.840Z"
   },
   {
    "duration": 12,
    "start_time": "2022-02-20T12:58:58.761Z"
   },
   {
    "duration": 13,
    "start_time": "2022-02-20T12:59:55.821Z"
   },
   {
    "duration": 309,
    "start_time": "2022-02-20T13:05:54.608Z"
   },
   {
    "duration": 62,
    "start_time": "2022-02-20T13:06:02.972Z"
   },
   {
    "duration": 18,
    "start_time": "2022-02-20T13:06:03.037Z"
   },
   {
    "duration": 14,
    "start_time": "2022-02-20T13:06:03.059Z"
   },
   {
    "duration": 8,
    "start_time": "2022-02-20T13:06:03.075Z"
   },
   {
    "duration": 3,
    "start_time": "2022-02-20T13:06:03.085Z"
   },
   {
    "duration": 60,
    "start_time": "2022-02-20T13:06:03.089Z"
   },
   {
    "duration": 14,
    "start_time": "2022-02-20T13:06:03.151Z"
   },
   {
    "duration": 6,
    "start_time": "2022-02-20T13:06:03.168Z"
   },
   {
    "duration": 6,
    "start_time": "2022-02-20T13:06:03.176Z"
   },
   {
    "duration": 9,
    "start_time": "2022-02-20T13:06:03.183Z"
   },
   {
    "duration": 1391,
    "start_time": "2022-02-20T13:06:03.194Z"
   },
   {
    "duration": 3,
    "start_time": "2022-02-20T13:06:04.586Z"
   },
   {
    "duration": 12,
    "start_time": "2022-02-20T13:06:04.591Z"
   },
   {
    "duration": 29,
    "start_time": "2022-02-20T13:06:04.604Z"
   },
   {
    "duration": 26,
    "start_time": "2022-02-20T13:06:04.635Z"
   },
   {
    "duration": 15,
    "start_time": "2022-02-20T13:06:04.662Z"
   },
   {
    "duration": 15,
    "start_time": "2022-02-20T13:06:04.679Z"
   },
   {
    "duration": 5,
    "start_time": "2022-02-20T13:06:04.695Z"
   },
   {
    "duration": 5,
    "start_time": "2022-02-20T13:06:04.731Z"
   },
   {
    "duration": 11,
    "start_time": "2022-02-20T13:06:04.738Z"
   },
   {
    "duration": 8,
    "start_time": "2022-02-20T13:06:04.750Z"
   },
   {
    "duration": 5,
    "start_time": "2022-02-20T13:06:04.761Z"
   },
   {
    "duration": 10,
    "start_time": "2022-02-20T13:06:04.769Z"
   },
   {
    "duration": 10,
    "start_time": "2022-02-20T13:06:04.781Z"
   },
   {
    "duration": 45,
    "start_time": "2022-02-20T13:06:04.792Z"
   },
   {
    "duration": 4,
    "start_time": "2022-02-20T13:11:01.029Z"
   },
   {
    "duration": 5,
    "start_time": "2022-02-20T13:13:49.458Z"
   },
   {
    "duration": 22,
    "start_time": "2022-02-20T13:15:38.656Z"
   },
   {
    "duration": 3,
    "start_time": "2022-02-20T13:15:52.560Z"
   },
   {
    "duration": 306,
    "start_time": "2022-02-20T13:18:23.280Z"
   },
   {
    "duration": 507,
    "start_time": "2022-02-20T13:18:32.252Z"
   },
   {
    "duration": 629,
    "start_time": "2022-02-20T13:23:14.254Z"
   },
   {
    "duration": 4,
    "start_time": "2022-02-20T13:23:21.886Z"
   },
   {
    "duration": 4,
    "start_time": "2022-02-20T13:23:31.386Z"
   },
   {
    "duration": 4,
    "start_time": "2022-02-20T13:23:47.459Z"
   },
   {
    "duration": 4,
    "start_time": "2022-02-20T13:24:10.696Z"
   },
   {
    "duration": 5,
    "start_time": "2022-02-20T13:28:00.695Z"
   },
   {
    "duration": 149,
    "start_time": "2022-02-20T13:29:12.888Z"
   },
   {
    "duration": 9,
    "start_time": "2022-02-20T13:29:59.570Z"
   },
   {
    "duration": 6,
    "start_time": "2022-02-20T13:30:09.072Z"
   },
   {
    "duration": 6,
    "start_time": "2022-02-20T13:30:33.873Z"
   },
   {
    "duration": 7,
    "start_time": "2022-02-20T13:40:55.142Z"
   },
   {
    "duration": 4,
    "start_time": "2022-02-20T13:41:25.740Z"
   },
   {
    "duration": 17,
    "start_time": "2022-02-20T13:41:34.248Z"
   },
   {
    "duration": 14,
    "start_time": "2022-02-20T13:41:58.906Z"
   },
   {
    "duration": 17,
    "start_time": "2022-02-20T13:42:03.379Z"
   },
   {
    "duration": 6,
    "start_time": "2022-02-20T13:44:55.611Z"
   },
   {
    "duration": 4,
    "start_time": "2022-02-20T13:46:28.652Z"
   },
   {
    "duration": 6,
    "start_time": "2022-02-20T13:47:52.400Z"
   },
   {
    "duration": 824,
    "start_time": "2022-02-20T13:48:28.419Z"
   },
   {
    "duration": 344,
    "start_time": "2022-02-20T13:49:00.043Z"
   },
   {
    "duration": 6,
    "start_time": "2022-02-20T13:49:28.615Z"
   },
   {
    "duration": 320,
    "start_time": "2022-02-20T13:49:32.189Z"
   },
   {
    "duration": 298,
    "start_time": "2022-02-20T13:49:47.756Z"
   },
   {
    "duration": 130,
    "start_time": "2022-02-20T13:49:54.859Z"
   },
   {
    "duration": 114,
    "start_time": "2022-02-20T13:50:16.111Z"
   },
   {
    "duration": 99,
    "start_time": "2022-02-20T13:50:19.382Z"
   },
   {
    "duration": 3,
    "start_time": "2022-02-20T13:50:30.471Z"
   },
   {
    "duration": 6,
    "start_time": "2022-02-20T13:50:34.449Z"
   },
   {
    "duration": 9,
    "start_time": "2022-02-20T13:50:42.865Z"
   },
   {
    "duration": 8,
    "start_time": "2022-02-20T13:50:54.032Z"
   },
   {
    "duration": 3,
    "start_time": "2022-02-20T13:51:17.658Z"
   },
   {
    "duration": 9,
    "start_time": "2022-02-20T13:51:23.047Z"
   },
   {
    "duration": 3,
    "start_time": "2022-02-20T13:52:53.736Z"
   },
   {
    "duration": 10,
    "start_time": "2022-02-20T13:52:56.388Z"
   },
   {
    "duration": 3,
    "start_time": "2022-02-20T13:53:00.227Z"
   },
   {
    "duration": 8,
    "start_time": "2022-02-20T13:53:06.663Z"
   },
   {
    "duration": 3,
    "start_time": "2022-02-20T13:53:31.265Z"
   },
   {
    "duration": 9,
    "start_time": "2022-02-20T13:53:32.460Z"
   },
   {
    "duration": 3,
    "start_time": "2022-02-20T13:53:38.805Z"
   },
   {
    "duration": 8,
    "start_time": "2022-02-20T13:53:39.936Z"
   },
   {
    "duration": 6,
    "start_time": "2022-02-20T13:53:45.641Z"
   },
   {
    "duration": 3,
    "start_time": "2022-02-20T13:53:58.198Z"
   },
   {
    "duration": 10,
    "start_time": "2022-02-20T13:54:00.332Z"
   },
   {
    "duration": 3,
    "start_time": "2022-02-20T13:54:22.033Z"
   },
   {
    "duration": 11,
    "start_time": "2022-02-20T13:54:23.591Z"
   },
   {
    "duration": 3,
    "start_time": "2022-02-20T13:55:05.017Z"
   },
   {
    "duration": 10,
    "start_time": "2022-02-20T13:55:06.263Z"
   },
   {
    "duration": 4,
    "start_time": "2022-02-20T13:55:17.461Z"
   },
   {
    "duration": 3,
    "start_time": "2022-02-20T13:56:16.348Z"
   },
   {
    "duration": 10,
    "start_time": "2022-02-20T13:56:17.422Z"
   },
   {
    "duration": 11,
    "start_time": "2022-02-20T13:56:29.193Z"
   },
   {
    "duration": 17,
    "start_time": "2022-02-20T13:56:42.315Z"
   },
   {
    "duration": 12,
    "start_time": "2022-02-20T13:57:21.152Z"
   },
   {
    "duration": 14,
    "start_time": "2022-02-20T13:57:49.235Z"
   },
   {
    "duration": 11,
    "start_time": "2022-02-20T13:58:31.115Z"
   },
   {
    "duration": 18,
    "start_time": "2022-02-20T13:58:44.769Z"
   },
   {
    "duration": 20,
    "start_time": "2022-02-20T13:59:29.630Z"
   },
   {
    "duration": 19,
    "start_time": "2022-02-20T13:59:41.637Z"
   },
   {
    "duration": 4,
    "start_time": "2022-02-20T13:59:49.518Z"
   },
   {
    "duration": 18,
    "start_time": "2022-02-20T13:59:50.922Z"
   },
   {
    "duration": 3,
    "start_time": "2022-02-20T14:00:12.604Z"
   },
   {
    "duration": 19,
    "start_time": "2022-02-20T14:00:13.961Z"
   },
   {
    "duration": 3,
    "start_time": "2022-02-20T14:00:35.735Z"
   },
   {
    "duration": 17,
    "start_time": "2022-02-20T14:00:37.900Z"
   },
   {
    "duration": 3,
    "start_time": "2022-02-20T14:00:45.667Z"
   },
   {
    "duration": 17,
    "start_time": "2022-02-20T14:00:46.793Z"
   },
   {
    "duration": 3,
    "start_time": "2022-02-20T14:01:45.864Z"
   },
   {
    "duration": 22,
    "start_time": "2022-02-20T14:01:47.347Z"
   },
   {
    "duration": 3,
    "start_time": "2022-02-20T14:01:58.805Z"
   },
   {
    "duration": 18,
    "start_time": "2022-02-20T14:01:59.584Z"
   },
   {
    "duration": 18,
    "start_time": "2022-02-20T14:02:20.873Z"
   },
   {
    "duration": 20,
    "start_time": "2022-02-20T14:02:34.424Z"
   },
   {
    "duration": 15,
    "start_time": "2022-02-20T14:02:38.786Z"
   },
   {
    "duration": 484,
    "start_time": "2022-02-20T14:03:23.111Z"
   },
   {
    "duration": 6,
    "start_time": "2022-02-20T14:03:57.006Z"
   },
   {
    "duration": 4,
    "start_time": "2022-02-20T14:04:28.177Z"
   },
   {
    "duration": 19,
    "start_time": "2022-02-20T14:04:30.188Z"
   },
   {
    "duration": 3,
    "start_time": "2022-02-20T14:05:22.306Z"
   },
   {
    "duration": 18,
    "start_time": "2022-02-20T14:05:23.656Z"
   },
   {
    "duration": 6,
    "start_time": "2022-02-20T14:13:38.476Z"
   },
   {
    "duration": 17,
    "start_time": "2022-02-20T14:14:10.886Z"
   },
   {
    "duration": 288,
    "start_time": "2022-02-20T14:26:57.767Z"
   },
   {
    "duration": 527,
    "start_time": "2022-02-20T14:27:01.330Z"
   },
   {
    "duration": 619,
    "start_time": "2022-02-20T14:27:09.000Z"
   },
   {
    "duration": 762,
    "start_time": "2022-02-20T14:27:29.536Z"
   },
   {
    "duration": 777,
    "start_time": "2022-02-20T14:29:26.064Z"
   },
   {
    "duration": 15,
    "start_time": "2022-02-20T14:30:14.506Z"
   },
   {
    "duration": 336,
    "start_time": "2022-02-20T14:30:59.307Z"
   },
   {
    "duration": 318,
    "start_time": "2022-02-20T14:31:07.762Z"
   },
   {
    "duration": 4,
    "start_time": "2022-02-20T14:31:15.565Z"
   },
   {
    "duration": 47,
    "start_time": "2022-02-20T16:04:47.505Z"
   },
   {
    "duration": 13,
    "start_time": "2022-02-20T16:04:47.553Z"
   },
   {
    "duration": 9,
    "start_time": "2022-02-20T16:04:47.568Z"
   },
   {
    "duration": 9,
    "start_time": "2022-02-20T16:04:47.578Z"
   },
   {
    "duration": 86,
    "start_time": "2022-02-20T16:04:47.589Z"
   },
   {
    "duration": 25,
    "start_time": "2022-02-20T16:04:47.676Z"
   },
   {
    "duration": 9,
    "start_time": "2022-02-20T16:04:47.702Z"
   },
   {
    "duration": 20,
    "start_time": "2022-02-20T16:04:47.713Z"
   },
   {
    "duration": 6,
    "start_time": "2022-02-20T16:04:47.735Z"
   },
   {
    "duration": 6,
    "start_time": "2022-02-20T16:04:47.742Z"
   },
   {
    "duration": 1363,
    "start_time": "2022-02-20T16:04:47.749Z"
   },
   {
    "duration": 4,
    "start_time": "2022-02-20T16:04:49.114Z"
   },
   {
    "duration": 19,
    "start_time": "2022-02-20T16:04:49.119Z"
   },
   {
    "duration": 12,
    "start_time": "2022-02-20T16:04:49.139Z"
   },
   {
    "duration": 17,
    "start_time": "2022-02-20T16:04:49.153Z"
   },
   {
    "duration": 15,
    "start_time": "2022-02-20T16:04:49.172Z"
   },
   {
    "duration": 13,
    "start_time": "2022-02-20T16:04:49.189Z"
   },
   {
    "duration": 4,
    "start_time": "2022-02-20T16:04:49.232Z"
   },
   {
    "duration": 5,
    "start_time": "2022-02-20T16:04:49.238Z"
   },
   {
    "duration": 7,
    "start_time": "2022-02-20T16:04:49.244Z"
   },
   {
    "duration": 6,
    "start_time": "2022-02-20T16:04:49.252Z"
   },
   {
    "duration": 8,
    "start_time": "2022-02-20T16:04:49.259Z"
   },
   {
    "duration": 13,
    "start_time": "2022-02-20T16:04:49.269Z"
   },
   {
    "duration": 9,
    "start_time": "2022-02-20T16:04:49.284Z"
   },
   {
    "duration": 44,
    "start_time": "2022-02-20T16:04:49.294Z"
   },
   {
    "duration": 4,
    "start_time": "2022-02-20T16:04:49.340Z"
   },
   {
    "duration": 18,
    "start_time": "2022-02-20T16:04:49.346Z"
   },
   {
    "duration": 3,
    "start_time": "2022-02-20T16:04:49.366Z"
   },
   {
    "duration": 22,
    "start_time": "2022-02-20T16:04:49.370Z"
   },
   {
    "duration": 3,
    "start_time": "2022-02-20T16:04:49.394Z"
   },
   {
    "duration": 20,
    "start_time": "2022-02-20T16:35:52.525Z"
   },
   {
    "duration": 18,
    "start_time": "2022-02-20T16:36:09.888Z"
   },
   {
    "duration": 17,
    "start_time": "2022-02-20T16:39:37.454Z"
   },
   {
    "duration": 16,
    "start_time": "2022-02-20T16:40:11.705Z"
   },
   {
    "duration": 18,
    "start_time": "2022-02-20T16:40:39.053Z"
   },
   {
    "duration": 18,
    "start_time": "2022-02-20T16:40:41.958Z"
   },
   {
    "duration": 18,
    "start_time": "2022-02-20T16:41:26.396Z"
   },
   {
    "duration": 18,
    "start_time": "2022-02-20T16:42:06.092Z"
   },
   {
    "duration": 22,
    "start_time": "2022-02-20T16:43:11.042Z"
   },
   {
    "duration": 37,
    "start_time": "2022-02-20T16:44:53.410Z"
   },
   {
    "duration": 19,
    "start_time": "2022-02-20T16:45:04.012Z"
   },
   {
    "duration": 19,
    "start_time": "2022-02-20T16:45:08.986Z"
   },
   {
    "duration": 18,
    "start_time": "2022-02-20T16:45:18.917Z"
   },
   {
    "duration": 19,
    "start_time": "2022-02-20T16:45:32.227Z"
   },
   {
    "duration": 21,
    "start_time": "2022-02-20T16:45:51.718Z"
   },
   {
    "duration": 19,
    "start_time": "2022-02-20T16:49:31.655Z"
   },
   {
    "duration": 418,
    "start_time": "2022-02-20T16:51:00.321Z"
   },
   {
    "duration": 312,
    "start_time": "2022-02-20T16:51:39.630Z"
   },
   {
    "duration": 16,
    "start_time": "2022-02-20T16:53:56.415Z"
   },
   {
    "duration": 20,
    "start_time": "2022-02-20T16:54:03.400Z"
   },
   {
    "duration": 19,
    "start_time": "2022-02-20T16:54:12.215Z"
   },
   {
    "duration": 19,
    "start_time": "2022-02-20T16:54:36.267Z"
   },
   {
    "duration": 18,
    "start_time": "2022-02-20T17:02:19.981Z"
   },
   {
    "duration": 19,
    "start_time": "2022-02-20T17:02:26.851Z"
   },
   {
    "duration": 715,
    "start_time": "2022-02-21T15:06:11.840Z"
   },
   {
    "duration": 21,
    "start_time": "2022-02-21T15:06:12.558Z"
   },
   {
    "duration": 13,
    "start_time": "2022-02-21T15:06:12.581Z"
   },
   {
    "duration": 11,
    "start_time": "2022-02-21T15:06:12.596Z"
   },
   {
    "duration": 5,
    "start_time": "2022-02-21T15:06:12.608Z"
   },
   {
    "duration": 22,
    "start_time": "2022-02-21T15:06:12.615Z"
   },
   {
    "duration": 12,
    "start_time": "2022-02-21T15:06:12.670Z"
   },
   {
    "duration": 8,
    "start_time": "2022-02-21T15:06:12.684Z"
   },
   {
    "duration": 10,
    "start_time": "2022-02-21T15:06:12.695Z"
   },
   {
    "duration": 9,
    "start_time": "2022-02-21T15:06:12.707Z"
   },
   {
    "duration": 1635,
    "start_time": "2022-02-21T15:06:12.718Z"
   },
   {
    "duration": 4,
    "start_time": "2022-02-21T15:06:14.355Z"
   },
   {
    "duration": 13,
    "start_time": "2022-02-21T15:06:14.370Z"
   },
   {
    "duration": 16,
    "start_time": "2022-02-21T15:06:14.385Z"
   },
   {
    "duration": 25,
    "start_time": "2022-02-21T15:06:14.403Z"
   },
   {
    "duration": 46,
    "start_time": "2022-02-21T15:06:14.430Z"
   },
   {
    "duration": 20,
    "start_time": "2022-02-21T15:06:14.478Z"
   },
   {
    "duration": 11,
    "start_time": "2022-02-21T15:06:14.500Z"
   },
   {
    "duration": 21,
    "start_time": "2022-02-21T15:06:14.514Z"
   },
   {
    "duration": 26,
    "start_time": "2022-02-21T15:06:14.537Z"
   },
   {
    "duration": 32,
    "start_time": "2022-02-21T15:06:14.565Z"
   },
   {
    "duration": 35,
    "start_time": "2022-02-21T15:06:14.599Z"
   },
   {
    "duration": 37,
    "start_time": "2022-02-21T15:06:14.638Z"
   },
   {
    "duration": 37,
    "start_time": "2022-02-21T15:06:14.678Z"
   },
   {
    "duration": 22,
    "start_time": "2022-02-21T15:06:14.717Z"
   },
   {
    "duration": 8,
    "start_time": "2022-02-21T15:06:14.741Z"
   },
   {
    "duration": 52,
    "start_time": "2022-02-21T15:06:14.751Z"
   },
   {
    "duration": 4,
    "start_time": "2022-02-21T15:06:14.805Z"
   },
   {
    "duration": 54,
    "start_time": "2022-02-21T15:06:14.811Z"
   },
   {
    "duration": 27,
    "start_time": "2022-02-21T15:06:14.867Z"
   },
   {
    "duration": 24,
    "start_time": "2022-02-21T15:06:14.896Z"
   },
   {
    "duration": 47,
    "start_time": "2022-02-21T15:06:14.922Z"
   },
   {
    "duration": 24,
    "start_time": "2022-02-21T15:06:14.972Z"
   },
   {
    "duration": 6771,
    "start_time": "2022-02-21T15:18:16.085Z"
   },
   {
    "duration": 27,
    "start_time": "2022-02-21T15:18:50.514Z"
   },
   {
    "duration": 23,
    "start_time": "2022-02-21T15:19:32.024Z"
   },
   {
    "duration": 17,
    "start_time": "2022-02-21T15:30:25.438Z"
   },
   {
    "duration": 12,
    "start_time": "2022-02-21T15:30:33.949Z"
   },
   {
    "duration": 53,
    "start_time": "2022-02-21T15:58:54.202Z"
   },
   {
    "duration": 13,
    "start_time": "2022-02-21T15:58:54.257Z"
   },
   {
    "duration": 13,
    "start_time": "2022-02-21T15:58:54.272Z"
   },
   {
    "duration": 12,
    "start_time": "2022-02-21T15:58:54.287Z"
   },
   {
    "duration": 3,
    "start_time": "2022-02-21T15:58:54.301Z"
   },
   {
    "duration": 21,
    "start_time": "2022-02-21T15:58:54.306Z"
   },
   {
    "duration": 46,
    "start_time": "2022-02-21T15:58:54.328Z"
   },
   {
    "duration": 7,
    "start_time": "2022-02-21T15:58:54.377Z"
   },
   {
    "duration": 8,
    "start_time": "2022-02-21T15:58:54.386Z"
   },
   {
    "duration": 5,
    "start_time": "2022-02-21T15:58:54.396Z"
   },
   {
    "duration": 1567,
    "start_time": "2022-02-21T15:58:54.403Z"
   },
   {
    "duration": 4,
    "start_time": "2022-02-21T15:58:55.971Z"
   },
   {
    "duration": 27,
    "start_time": "2022-02-21T15:58:55.977Z"
   },
   {
    "duration": 28,
    "start_time": "2022-02-21T15:58:56.006Z"
   },
   {
    "duration": 40,
    "start_time": "2022-02-21T15:58:56.037Z"
   },
   {
    "duration": 20,
    "start_time": "2022-02-21T15:58:56.079Z"
   },
   {
    "duration": 24,
    "start_time": "2022-02-21T15:58:56.101Z"
   },
   {
    "duration": 5,
    "start_time": "2022-02-21T15:58:56.127Z"
   },
   {
    "duration": 11,
    "start_time": "2022-02-21T15:58:56.134Z"
   },
   {
    "duration": 26,
    "start_time": "2022-02-21T15:58:56.147Z"
   },
   {
    "duration": 18,
    "start_time": "2022-02-21T15:58:56.175Z"
   },
   {
    "duration": 19,
    "start_time": "2022-02-21T15:58:56.195Z"
   },
   {
    "duration": 10,
    "start_time": "2022-02-21T15:58:56.217Z"
   },
   {
    "duration": 25,
    "start_time": "2022-02-21T15:58:56.229Z"
   },
   {
    "duration": 29,
    "start_time": "2022-02-21T15:58:56.255Z"
   },
   {
    "duration": 20,
    "start_time": "2022-02-21T15:58:56.286Z"
   },
   {
    "duration": 26,
    "start_time": "2022-02-21T15:58:56.308Z"
   },
   {
    "duration": 47,
    "start_time": "2022-02-21T15:58:56.336Z"
   },
   {
    "duration": 17,
    "start_time": "2022-02-21T15:58:56.385Z"
   },
   {
    "duration": 36,
    "start_time": "2022-02-21T15:58:56.405Z"
   },
   {
    "duration": 37,
    "start_time": "2022-02-21T15:58:56.443Z"
   },
   {
    "duration": 23,
    "start_time": "2022-02-21T15:58:56.481Z"
   },
   {
    "duration": 25,
    "start_time": "2022-02-21T15:58:56.506Z"
   },
   {
    "duration": 37,
    "start_time": "2022-02-21T15:58:56.533Z"
   },
   {
    "duration": 3,
    "start_time": "2022-02-21T16:03:53.184Z"
   },
   {
    "duration": 4,
    "start_time": "2022-02-21T16:04:26.035Z"
   },
   {
    "duration": 5,
    "start_time": "2022-02-21T16:05:17.197Z"
   },
   {
    "duration": 396,
    "start_time": "2022-02-21T16:09:13.481Z"
   },
   {
    "duration": 260,
    "start_time": "2022-02-21T16:09:33.682Z"
   },
   {
    "duration": 286,
    "start_time": "2022-02-21T16:09:39.159Z"
   },
   {
    "duration": 275,
    "start_time": "2022-02-21T16:09:42.433Z"
   },
   {
    "duration": 291,
    "start_time": "2022-02-21T16:09:49.773Z"
   },
   {
    "duration": 7,
    "start_time": "2022-02-21T16:11:21.953Z"
   },
   {
    "duration": 7061,
    "start_time": "2022-02-21T16:13:48.428Z"
   },
   {
    "duration": 6855,
    "start_time": "2022-02-21T16:14:13.075Z"
   },
   {
    "duration": 7673,
    "start_time": "2022-02-21T16:24:44.583Z"
   },
   {
    "duration": 4,
    "start_time": "2022-02-21T16:25:02.620Z"
   },
   {
    "duration": 6986,
    "start_time": "2022-02-21T16:25:13.087Z"
   },
   {
    "duration": 7086,
    "start_time": "2022-02-21T16:25:30.408Z"
   },
   {
    "duration": 3,
    "start_time": "2022-02-21T16:25:49.576Z"
   },
   {
    "duration": 6,
    "start_time": "2022-02-21T16:26:32.238Z"
   },
   {
    "duration": 296,
    "start_time": "2022-02-21T16:26:49.711Z"
   },
   {
    "duration": 11,
    "start_time": "2022-02-21T16:28:16.306Z"
   },
   {
    "duration": 806,
    "start_time": "2022-02-21T16:28:35.924Z"
   },
   {
    "duration": 317,
    "start_time": "2022-02-21T16:28:43.276Z"
   },
   {
    "duration": 10,
    "start_time": "2022-02-21T16:28:50.702Z"
   },
   {
    "duration": 7103,
    "start_time": "2022-02-21T16:31:09.497Z"
   },
   {
    "duration": 18,
    "start_time": "2022-02-21T16:31:41.031Z"
   },
   {
    "duration": 21,
    "start_time": "2022-02-21T16:31:55.682Z"
   },
   {
    "duration": 21,
    "start_time": "2022-02-21T16:32:33.035Z"
   },
   {
    "duration": 26,
    "start_time": "2022-02-21T16:32:49.311Z"
   },
   {
    "duration": 23,
    "start_time": "2022-02-21T16:33:37.635Z"
   },
   {
    "duration": 30,
    "start_time": "2022-02-21T16:46:21.034Z"
   },
   {
    "duration": 23,
    "start_time": "2022-02-21T16:51:48.792Z"
   },
   {
    "duration": 23,
    "start_time": "2022-02-21T16:52:05.994Z"
   },
   {
    "duration": 22,
    "start_time": "2022-02-21T17:46:42.512Z"
   },
   {
    "duration": 26,
    "start_time": "2022-02-21T17:47:10.597Z"
   },
   {
    "duration": 270,
    "start_time": "2022-02-21T17:49:05.218Z"
   },
   {
    "duration": 327,
    "start_time": "2022-02-21T17:49:13.124Z"
   },
   {
    "duration": 22,
    "start_time": "2022-02-21T17:49:20.699Z"
   },
   {
    "duration": 22,
    "start_time": "2022-02-21T17:49:39.345Z"
   },
   {
    "duration": 21,
    "start_time": "2022-02-21T17:50:03.894Z"
   },
   {
    "duration": 16,
    "start_time": "2022-02-21T18:17:55.993Z"
   },
   {
    "duration": 24,
    "start_time": "2022-02-21T18:18:07.298Z"
   },
   {
    "duration": 570,
    "start_time": "2022-03-03T20:12:46.656Z"
   },
   {
    "duration": 20,
    "start_time": "2022-03-03T20:12:47.227Z"
   },
   {
    "duration": 11,
    "start_time": "2022-03-03T20:12:47.249Z"
   },
   {
    "duration": 9,
    "start_time": "2022-03-03T20:12:47.262Z"
   },
   {
    "duration": 29,
    "start_time": "2022-03-03T20:12:47.273Z"
   },
   {
    "duration": 15,
    "start_time": "2022-03-03T20:12:47.304Z"
   },
   {
    "duration": 10,
    "start_time": "2022-03-03T20:12:47.321Z"
   },
   {
    "duration": 7,
    "start_time": "2022-03-03T20:12:47.334Z"
   },
   {
    "duration": 7,
    "start_time": "2022-03-03T20:12:47.344Z"
   },
   {
    "duration": 5,
    "start_time": "2022-03-03T20:12:47.353Z"
   },
   {
    "duration": 1287,
    "start_time": "2022-03-03T20:12:47.359Z"
   },
   {
    "duration": 3,
    "start_time": "2022-03-03T20:12:48.648Z"
   },
   {
    "duration": 13,
    "start_time": "2022-03-03T20:12:48.652Z"
   },
   {
    "duration": 13,
    "start_time": "2022-03-03T20:12:48.666Z"
   },
   {
    "duration": 17,
    "start_time": "2022-03-03T20:12:48.700Z"
   },
   {
    "duration": 16,
    "start_time": "2022-03-03T20:12:48.718Z"
   },
   {
    "duration": 14,
    "start_time": "2022-03-03T20:12:48.735Z"
   },
   {
    "duration": 4,
    "start_time": "2022-03-03T20:12:48.750Z"
   },
   {
    "duration": 5,
    "start_time": "2022-03-03T20:12:48.755Z"
   },
   {
    "duration": 4,
    "start_time": "2022-03-03T20:12:48.762Z"
   },
   {
    "duration": 5,
    "start_time": "2022-03-03T20:12:48.801Z"
   },
   {
    "duration": 4,
    "start_time": "2022-03-03T20:12:48.808Z"
   },
   {
    "duration": 6,
    "start_time": "2022-03-03T20:12:48.816Z"
   },
   {
    "duration": 15,
    "start_time": "2022-03-03T20:12:48.824Z"
   },
   {
    "duration": 10,
    "start_time": "2022-03-03T20:12:48.841Z"
   },
   {
    "duration": 11,
    "start_time": "2022-03-03T20:12:48.852Z"
   },
   {
    "duration": 4,
    "start_time": "2022-03-03T20:12:48.902Z"
   },
   {
    "duration": 16,
    "start_time": "2022-03-03T20:12:48.908Z"
   },
   {
    "duration": 4,
    "start_time": "2022-03-03T20:12:48.926Z"
   },
   {
    "duration": 21,
    "start_time": "2022-03-03T20:12:48.931Z"
   },
   {
    "duration": 20,
    "start_time": "2022-03-03T20:12:48.954Z"
   },
   {
    "duration": 46,
    "start_time": "2022-03-03T20:12:48.975Z"
   },
   {
    "duration": 17,
    "start_time": "2022-03-03T20:12:49.023Z"
   },
   {
    "duration": 15,
    "start_time": "2022-03-03T20:12:49.041Z"
   },
   {
    "duration": 16,
    "start_time": "2022-03-03T20:12:49.058Z"
   },
   {
    "duration": 3,
    "start_time": "2022-03-03T20:24:36.562Z"
   },
   {
    "duration": 29,
    "start_time": "2022-03-03T20:28:33.352Z"
   },
   {
    "duration": 600,
    "start_time": "2022-03-03T20:38:20.321Z"
   },
   {
    "duration": 17,
    "start_time": "2022-03-03T20:38:20.923Z"
   },
   {
    "duration": 10,
    "start_time": "2022-03-03T20:38:20.941Z"
   },
   {
    "duration": 8,
    "start_time": "2022-03-03T20:38:20.952Z"
   },
   {
    "duration": 4,
    "start_time": "2022-03-03T20:38:20.961Z"
   },
   {
    "duration": 36,
    "start_time": "2022-03-03T20:38:20.966Z"
   },
   {
    "duration": 9,
    "start_time": "2022-03-03T20:38:21.004Z"
   },
   {
    "duration": 6,
    "start_time": "2022-03-03T20:38:21.014Z"
   },
   {
    "duration": 5,
    "start_time": "2022-03-03T20:38:21.023Z"
   },
   {
    "duration": 5,
    "start_time": "2022-03-03T20:38:21.030Z"
   },
   {
    "duration": 1237,
    "start_time": "2022-03-03T20:38:21.036Z"
   },
   {
    "duration": 3,
    "start_time": "2022-03-03T20:38:22.275Z"
   },
   {
    "duration": 11,
    "start_time": "2022-03-03T20:38:22.279Z"
   },
   {
    "duration": 12,
    "start_time": "2022-03-03T20:38:22.292Z"
   },
   {
    "duration": 17,
    "start_time": "2022-03-03T20:38:22.305Z"
   },
   {
    "duration": 15,
    "start_time": "2022-03-03T20:38:22.323Z"
   },
   {
    "duration": 15,
    "start_time": "2022-03-03T20:38:22.339Z"
   },
   {
    "duration": 4,
    "start_time": "2022-03-03T20:38:22.355Z"
   },
   {
    "duration": 5,
    "start_time": "2022-03-03T20:38:22.361Z"
   },
   {
    "duration": 10,
    "start_time": "2022-03-03T20:38:22.367Z"
   },
   {
    "duration": 9,
    "start_time": "2022-03-03T20:38:22.378Z"
   },
   {
    "duration": 7,
    "start_time": "2022-03-03T20:38:22.388Z"
   },
   {
    "duration": 10,
    "start_time": "2022-03-03T20:38:22.396Z"
   },
   {
    "duration": 17,
    "start_time": "2022-03-03T20:38:22.407Z"
   },
   {
    "duration": 9,
    "start_time": "2022-03-03T20:38:22.426Z"
   },
   {
    "duration": 10,
    "start_time": "2022-03-03T20:38:22.437Z"
   },
   {
    "duration": 3,
    "start_time": "2022-03-03T20:38:22.450Z"
   },
   {
    "duration": 21,
    "start_time": "2022-03-03T20:38:22.454Z"
   },
   {
    "duration": 5,
    "start_time": "2022-03-03T20:38:22.476Z"
   },
   {
    "duration": 24,
    "start_time": "2022-03-03T20:38:22.482Z"
   },
   {
    "duration": 21,
    "start_time": "2022-03-03T20:38:22.507Z"
   },
   {
    "duration": 20,
    "start_time": "2022-03-03T20:38:22.529Z"
   },
   {
    "duration": 16,
    "start_time": "2022-03-03T20:38:22.550Z"
   },
   {
    "duration": 17,
    "start_time": "2022-03-03T20:38:22.567Z"
   },
   {
    "duration": 21,
    "start_time": "2022-03-03T20:38:22.585Z"
   },
   {
    "duration": 728,
    "start_time": "2022-03-06T10:28:28.763Z"
   },
   {
    "duration": 20,
    "start_time": "2022-03-06T10:28:33.701Z"
   },
   {
    "duration": 12,
    "start_time": "2022-03-06T10:29:50.222Z"
   },
   {
    "duration": 64,
    "start_time": "2022-03-06T10:30:37.095Z"
   },
   {
    "duration": 38,
    "start_time": "2022-03-06T10:30:43.127Z"
   },
   {
    "duration": 10,
    "start_time": "2022-03-06T10:31:02.263Z"
   },
   {
    "duration": 14,
    "start_time": "2022-03-06T10:31:07.855Z"
   },
   {
    "duration": 4,
    "start_time": "2022-03-06T10:31:09.606Z"
   },
   {
    "duration": 4,
    "start_time": "2022-03-06T10:31:30.887Z"
   },
   {
    "duration": 4,
    "start_time": "2022-03-06T10:32:21.209Z"
   },
   {
    "duration": 35,
    "start_time": "2022-03-06T10:35:15.752Z"
   },
   {
    "duration": 7,
    "start_time": "2022-03-06T10:38:12.184Z"
   },
   {
    "duration": 4436,
    "start_time": "2022-03-06T10:38:35.478Z"
   },
   {
    "duration": 7,
    "start_time": "2022-03-06T10:38:48.689Z"
   },
   {
    "duration": 4,
    "start_time": "2022-03-06T10:39:00.849Z"
   },
   {
    "duration": 6,
    "start_time": "2022-03-06T10:40:34.617Z"
   },
   {
    "duration": 6,
    "start_time": "2022-03-06T10:40:39.316Z"
   },
   {
    "duration": 5,
    "start_time": "2022-03-06T10:40:50.242Z"
   },
   {
    "duration": 6,
    "start_time": "2022-03-06T10:40:55.606Z"
   },
   {
    "duration": 187,
    "start_time": "2022-03-06T10:41:09.405Z"
   },
   {
    "duration": 6,
    "start_time": "2022-03-06T10:41:21.457Z"
   },
   {
    "duration": 22,
    "start_time": "2022-03-06T10:41:25.289Z"
   },
   {
    "duration": 7,
    "start_time": "2022-03-06T10:41:27.774Z"
   },
   {
    "duration": 158,
    "start_time": "2022-03-06T10:41:39.267Z"
   },
   {
    "duration": 22,
    "start_time": "2022-03-06T10:41:48.160Z"
   },
   {
    "duration": 7,
    "start_time": "2022-03-06T10:41:50.092Z"
   },
   {
    "duration": 23,
    "start_time": "2022-03-06T10:41:57.823Z"
   },
   {
    "duration": 5,
    "start_time": "2022-03-06T10:42:35.989Z"
   },
   {
    "duration": 34,
    "start_time": "2022-03-06T10:42:53.212Z"
   },
   {
    "duration": 199,
    "start_time": "2022-03-06T10:44:37.471Z"
   },
   {
    "duration": 176,
    "start_time": "2022-03-06T10:44:44.468Z"
   },
   {
    "duration": 23,
    "start_time": "2022-03-06T10:44:50.618Z"
   },
   {
    "duration": 8,
    "start_time": "2022-03-06T10:45:42.975Z"
   },
   {
    "duration": 10,
    "start_time": "2022-03-06T10:47:53.877Z"
   },
   {
    "duration": 25,
    "start_time": "2022-03-06T10:48:58.758Z"
   },
   {
    "duration": 14,
    "start_time": "2022-03-06T10:49:22.339Z"
   },
   {
    "duration": 11,
    "start_time": "2022-03-06T10:49:29.437Z"
   },
   {
    "duration": 10,
    "start_time": "2022-03-06T10:49:39.762Z"
   },
   {
    "duration": 23,
    "start_time": "2022-03-06T10:50:15.875Z"
   },
   {
    "duration": 55,
    "start_time": "2022-03-06T10:50:22.293Z"
   },
   {
    "duration": 8,
    "start_time": "2022-03-06T10:50:26.736Z"
   },
   {
    "duration": 16,
    "start_time": "2022-03-06T10:51:30.024Z"
   },
   {
    "duration": 22,
    "start_time": "2022-03-06T10:51:58.097Z"
   },
   {
    "duration": 22,
    "start_time": "2022-03-06T10:52:11.419Z"
   },
   {
    "duration": 22,
    "start_time": "2022-03-06T10:52:16.071Z"
   },
   {
    "duration": 10,
    "start_time": "2022-03-06T10:53:15.127Z"
   },
   {
    "duration": 8,
    "start_time": "2022-03-06T10:53:30.462Z"
   },
   {
    "duration": 4398,
    "start_time": "2022-03-06T10:54:07.015Z"
   },
   {
    "duration": 8,
    "start_time": "2022-03-06T10:54:20.033Z"
   },
   {
    "duration": 8,
    "start_time": "2022-03-06T10:54:46.179Z"
   },
   {
    "duration": 20,
    "start_time": "2022-03-06T10:57:01.363Z"
   },
   {
    "duration": 9,
    "start_time": "2022-03-06T10:58:26.211Z"
   },
   {
    "duration": 12,
    "start_time": "2022-03-06T10:59:34.932Z"
   },
   {
    "duration": 9,
    "start_time": "2022-03-06T11:00:24.797Z"
   },
   {
    "duration": 9,
    "start_time": "2022-03-06T11:00:40.428Z"
   },
   {
    "duration": 8,
    "start_time": "2022-03-06T11:00:48.721Z"
   },
   {
    "duration": 5,
    "start_time": "2022-03-06T11:00:56.152Z"
   },
   {
    "duration": 11,
    "start_time": "2022-03-06T11:01:15.016Z"
   },
   {
    "duration": 9,
    "start_time": "2022-03-06T11:01:53.469Z"
   },
   {
    "duration": 10,
    "start_time": "2022-03-06T11:02:27.774Z"
   },
   {
    "duration": 184,
    "start_time": "2022-03-06T11:04:03.210Z"
   },
   {
    "duration": 23,
    "start_time": "2022-03-06T11:04:35.100Z"
   },
   {
    "duration": 7,
    "start_time": "2022-03-06T11:05:32.597Z"
   },
   {
    "duration": 18,
    "start_time": "2022-03-06T11:06:11.534Z"
   },
   {
    "duration": 8,
    "start_time": "2022-03-06T11:06:42.098Z"
   },
   {
    "duration": 25,
    "start_time": "2022-03-06T14:26:08.269Z"
   },
   {
    "duration": 8,
    "start_time": "2022-03-06T14:27:22.810Z"
   },
   {
    "duration": 10,
    "start_time": "2022-03-06T14:27:44.567Z"
   },
   {
    "duration": 7,
    "start_time": "2022-03-06T14:27:56.235Z"
   },
   {
    "duration": 10,
    "start_time": "2022-03-06T14:29:41.314Z"
   },
   {
    "duration": 19,
    "start_time": "2022-03-06T15:32:16.230Z"
   },
   {
    "duration": 156,
    "start_time": "2022-03-06T16:11:22.913Z"
   },
   {
    "duration": 15,
    "start_time": "2022-03-06T16:11:33.974Z"
   },
   {
    "duration": 158,
    "start_time": "2022-03-06T16:14:10.643Z"
   },
   {
    "duration": 4,
    "start_time": "2022-03-06T16:15:09.782Z"
   },
   {
    "duration": 19,
    "start_time": "2022-03-06T16:15:50.445Z"
   },
   {
    "duration": 1115,
    "start_time": "2022-03-06T16:18:37.667Z"
   },
   {
    "duration": 1855,
    "start_time": "2022-03-06T17:00:17.372Z"
   },
   {
    "duration": 716,
    "start_time": "2022-03-06T17:03:20.770Z"
   },
   {
    "duration": 503,
    "start_time": "2022-03-06T17:04:08.110Z"
   },
   {
    "duration": 526,
    "start_time": "2022-03-06T17:04:13.251Z"
   },
   {
    "duration": 427,
    "start_time": "2022-03-06T17:05:05.432Z"
   },
   {
    "duration": 262,
    "start_time": "2022-03-06T17:06:14.213Z"
   },
   {
    "duration": 1157,
    "start_time": "2022-03-06T17:06:45.541Z"
   },
   {
    "duration": 574,
    "start_time": "2022-03-06T17:08:19.960Z"
   },
   {
    "duration": 607,
    "start_time": "2022-03-06T17:08:38.932Z"
   },
   {
    "duration": 9,
    "start_time": "2022-03-06T17:27:52.993Z"
   },
   {
    "duration": 13,
    "start_time": "2022-03-06T17:27:58.967Z"
   },
   {
    "duration": 162,
    "start_time": "2022-03-06T17:28:05.927Z"
   },
   {
    "duration": 8,
    "start_time": "2022-03-06T17:28:23.955Z"
   },
   {
    "duration": 1934,
    "start_time": "2022-03-06T17:28:24.993Z"
   },
   {
    "duration": 10,
    "start_time": "2022-03-06T17:28:41.730Z"
   },
   {
    "duration": 9,
    "start_time": "2022-03-06T17:28:44.271Z"
   },
   {
    "duration": 12,
    "start_time": "2022-03-06T17:28:48.955Z"
   },
   {
    "duration": 8,
    "start_time": "2022-03-06T17:28:58.121Z"
   },
   {
    "duration": 132,
    "start_time": "2022-03-06T17:29:21.745Z"
   },
   {
    "duration": 3,
    "start_time": "2022-03-06T17:29:24.349Z"
   },
   {
    "duration": 10,
    "start_time": "2022-03-06T17:29:28.358Z"
   },
   {
    "duration": 8,
    "start_time": "2022-03-06T17:29:40.835Z"
   },
   {
    "duration": 10,
    "start_time": "2022-03-06T17:30:23.065Z"
   },
   {
    "duration": 10,
    "start_time": "2022-03-06T17:30:44.372Z"
   },
   {
    "duration": 9,
    "start_time": "2022-03-06T17:31:27.339Z"
   },
   {
    "duration": 12,
    "start_time": "2022-03-06T17:31:31.855Z"
   },
   {
    "duration": 9,
    "start_time": "2022-03-06T17:31:57.369Z"
   },
   {
    "duration": 13,
    "start_time": "2022-03-06T17:32:29.855Z"
   },
   {
    "duration": 13,
    "start_time": "2022-03-06T17:32:33.881Z"
   },
   {
    "duration": 14,
    "start_time": "2022-03-06T17:32:37.606Z"
   },
   {
    "duration": 25,
    "start_time": "2022-03-06T17:32:57.214Z"
   },
   {
    "duration": 10,
    "start_time": "2022-03-06T17:35:24.493Z"
   },
   {
    "duration": 10,
    "start_time": "2022-03-06T17:35:30.071Z"
   },
   {
    "duration": 20,
    "start_time": "2022-03-06T17:38:24.229Z"
   },
   {
    "duration": 11,
    "start_time": "2022-03-06T17:38:30.654Z"
   },
   {
    "duration": 11,
    "start_time": "2022-03-06T17:38:36.097Z"
   },
   {
    "duration": 9,
    "start_time": "2022-03-06T17:39:09.415Z"
   },
   {
    "duration": 8,
    "start_time": "2022-03-06T17:39:43.844Z"
   },
   {
    "duration": 11,
    "start_time": "2022-03-06T17:40:02.085Z"
   },
   {
    "duration": 11,
    "start_time": "2022-03-06T19:05:18.292Z"
   },
   {
    "duration": 197,
    "start_time": "2022-03-06T19:05:24.029Z"
   },
   {
    "duration": 24,
    "start_time": "2022-03-06T19:05:29.612Z"
   },
   {
    "duration": 4570,
    "start_time": "2022-03-06T19:06:06.982Z"
   },
   {
    "duration": 7,
    "start_time": "2022-03-06T19:06:47.004Z"
   },
   {
    "duration": 6,
    "start_time": "2022-03-06T19:06:56.760Z"
   },
   {
    "duration": 4,
    "start_time": "2022-03-06T19:07:13.294Z"
   },
   {
    "duration": 4,
    "start_time": "2022-03-06T19:07:20.734Z"
   },
   {
    "duration": 9,
    "start_time": "2022-03-06T19:07:24.722Z"
   },
   {
    "duration": 6,
    "start_time": "2022-03-06T19:07:55.209Z"
   },
   {
    "duration": 7,
    "start_time": "2022-03-06T19:08:01.355Z"
   },
   {
    "duration": 7,
    "start_time": "2022-03-06T19:08:02.283Z"
   },
   {
    "duration": 3,
    "start_time": "2022-03-06T19:08:06.576Z"
   },
   {
    "duration": 7,
    "start_time": "2022-03-06T19:08:12.162Z"
   },
   {
    "duration": 7,
    "start_time": "2022-03-06T19:08:17.231Z"
   },
   {
    "duration": 7,
    "start_time": "2022-03-06T19:08:19.211Z"
   },
   {
    "duration": 3,
    "start_time": "2022-03-06T19:08:21.949Z"
   },
   {
    "duration": 8,
    "start_time": "2022-03-06T19:08:23.700Z"
   },
   {
    "duration": 7,
    "start_time": "2022-03-06T19:08:30.107Z"
   },
   {
    "duration": 7,
    "start_time": "2022-03-06T19:08:31.331Z"
   },
   {
    "duration": 7,
    "start_time": "2022-03-06T19:08:33.045Z"
   },
   {
    "duration": 8,
    "start_time": "2022-03-06T19:08:33.854Z"
   },
   {
    "duration": 7,
    "start_time": "2022-03-06T19:08:35.086Z"
   },
   {
    "duration": 6,
    "start_time": "2022-03-06T19:08:36.074Z"
   },
   {
    "duration": 7,
    "start_time": "2022-03-06T19:08:37.277Z"
   },
   {
    "duration": 6,
    "start_time": "2022-03-06T19:08:38.187Z"
   },
   {
    "duration": 8,
    "start_time": "2022-03-06T19:08:39.327Z"
   },
   {
    "duration": 7,
    "start_time": "2022-03-06T19:08:40.118Z"
   },
   {
    "duration": 5,
    "start_time": "2022-03-06T19:08:52.929Z"
   },
   {
    "duration": 6,
    "start_time": "2022-03-06T19:09:54.085Z"
   },
   {
    "duration": 13,
    "start_time": "2022-03-06T19:16:07.942Z"
   },
   {
    "duration": 7,
    "start_time": "2022-03-06T19:16:18.708Z"
   },
   {
    "duration": 7,
    "start_time": "2022-03-06T19:16:33.429Z"
   },
   {
    "duration": 10,
    "start_time": "2022-03-06T19:16:45.016Z"
   },
   {
    "duration": 8,
    "start_time": "2022-03-06T19:21:34.923Z"
   },
   {
    "duration": 7,
    "start_time": "2022-03-06T19:22:49.779Z"
   },
   {
    "duration": 10,
    "start_time": "2022-03-06T19:23:05.963Z"
   },
   {
    "duration": 10,
    "start_time": "2022-03-06T19:23:12.225Z"
   },
   {
    "duration": 9,
    "start_time": "2022-03-06T19:23:29.504Z"
   },
   {
    "duration": 24,
    "start_time": "2022-03-06T19:24:21.694Z"
   },
   {
    "duration": 10,
    "start_time": "2022-03-06T19:24:54.483Z"
   },
   {
    "duration": 56,
    "start_time": "2022-03-06T19:25:45.371Z"
   },
   {
    "duration": 25,
    "start_time": "2022-03-06T19:25:47.000Z"
   },
   {
    "duration": 7,
    "start_time": "2022-03-06T19:25:49.313Z"
   },
   {
    "duration": 21,
    "start_time": "2022-03-06T19:25:51.516Z"
   },
   {
    "duration": 10,
    "start_time": "2022-03-06T19:27:22.003Z"
   },
   {
    "duration": 5,
    "start_time": "2022-03-06T19:27:35.727Z"
   },
   {
    "duration": 6,
    "start_time": "2022-03-06T19:27:43.433Z"
   },
   {
    "duration": 7,
    "start_time": "2022-03-06T19:29:52.634Z"
   },
   {
    "duration": 6,
    "start_time": "2022-03-06T19:30:20.247Z"
   },
   {
    "duration": 13,
    "start_time": "2022-03-06T19:32:18.490Z"
   },
   {
    "duration": 23,
    "start_time": "2022-03-06T20:03:02.150Z"
   },
   {
    "duration": 7,
    "start_time": "2022-03-06T20:03:19.090Z"
   },
   {
    "duration": 8,
    "start_time": "2022-03-06T20:03:27.890Z"
   },
   {
    "duration": 6,
    "start_time": "2022-03-06T20:03:55.109Z"
   },
   {
    "duration": 6,
    "start_time": "2022-03-06T20:04:06.294Z"
   },
   {
    "duration": 10,
    "start_time": "2022-03-06T20:05:35.955Z"
   },
   {
    "duration": 8,
    "start_time": "2022-03-06T20:07:20.520Z"
   },
   {
    "duration": 9,
    "start_time": "2022-03-06T20:07:36.987Z"
   },
   {
    "duration": 13,
    "start_time": "2022-03-06T20:09:19.741Z"
   },
   {
    "duration": 7,
    "start_time": "2022-03-06T20:09:27.710Z"
   },
   {
    "duration": 8,
    "start_time": "2022-03-06T20:09:55.505Z"
   },
   {
    "duration": 11,
    "start_time": "2022-03-06T20:14:31.939Z"
   },
   {
    "duration": 9,
    "start_time": "2022-03-06T20:15:19.669Z"
   },
   {
    "duration": 52,
    "start_time": "2022-03-06T20:17:42.888Z"
   },
   {
    "duration": 53,
    "start_time": "2022-03-06T20:17:55.495Z"
   },
   {
    "duration": 28,
    "start_time": "2022-03-06T20:17:59.173Z"
   },
   {
    "duration": 8,
    "start_time": "2022-03-06T20:18:02.117Z"
   },
   {
    "duration": 5,
    "start_time": "2022-03-06T20:18:04.573Z"
   },
   {
    "duration": 30,
    "start_time": "2022-03-06T20:25:12.338Z"
   },
   {
    "duration": 22,
    "start_time": "2022-03-06T20:25:20.205Z"
   },
   {
    "duration": 65,
    "start_time": "2022-03-06T20:25:26.676Z"
   },
   {
    "duration": 7,
    "start_time": "2022-03-06T20:25:31.840Z"
   },
   {
    "duration": 690,
    "start_time": "2022-03-06T20:30:18.426Z"
   },
   {
    "duration": 700,
    "start_time": "2022-03-06T20:30:34.600Z"
   },
   {
    "duration": 24,
    "start_time": "2022-03-06T20:32:26.582Z"
   },
   {
    "duration": 4145,
    "start_time": "2022-03-06T20:34:42.722Z"
   },
   {
    "duration": 538,
    "start_time": "2022-03-06T20:36:40.831Z"
   },
   {
    "duration": 432,
    "start_time": "2022-03-06T20:37:20.122Z"
   },
   {
    "duration": 4388,
    "start_time": "2022-03-06T20:38:02.782Z"
   },
   {
    "duration": 60,
    "start_time": "2022-03-06T20:39:25.401Z"
   },
   {
    "duration": 61,
    "start_time": "2022-03-06T20:39:33.068Z"
   },
   {
    "duration": 4156,
    "start_time": "2022-03-06T20:39:41.293Z"
   },
   {
    "duration": 4272,
    "start_time": "2022-03-06T20:42:30.755Z"
   },
   {
    "duration": 6085,
    "start_time": "2022-03-06T20:44:41.048Z"
   },
   {
    "duration": 56,
    "start_time": "2022-03-06T20:45:19.768Z"
   },
   {
    "duration": 4273,
    "start_time": "2022-03-06T20:45:25.682Z"
   },
   {
    "duration": 5871,
    "start_time": "2022-03-06T20:46:28.612Z"
   },
   {
    "duration": 13,
    "start_time": "2022-03-06T20:46:43.205Z"
   },
   {
    "duration": 184,
    "start_time": "2022-03-06T20:49:01.772Z"
   },
   {
    "duration": 170,
    "start_time": "2022-03-06T20:49:21.396Z"
   },
   {
    "duration": 178,
    "start_time": "2022-03-06T20:50:35.724Z"
   },
   {
    "duration": 234,
    "start_time": "2022-03-06T20:51:13.460Z"
   },
   {
    "duration": 199,
    "start_time": "2022-03-06T20:51:19.102Z"
   },
   {
    "duration": 10,
    "start_time": "2022-03-06T20:51:34.141Z"
   },
   {
    "duration": 13,
    "start_time": "2022-03-06T20:51:48.733Z"
   },
   {
    "duration": 7,
    "start_time": "2022-03-06T20:52:08.434Z"
   },
   {
    "duration": 11,
    "start_time": "2022-03-06T20:52:11.013Z"
   },
   {
    "duration": 220,
    "start_time": "2022-03-06T20:52:25.093Z"
   },
   {
    "duration": 401,
    "start_time": "2022-03-06T20:52:32.813Z"
   },
   {
    "duration": 398,
    "start_time": "2022-03-06T20:52:40.071Z"
   },
   {
    "duration": 127,
    "start_time": "2022-03-06T20:52:46.213Z"
   },
   {
    "duration": 59,
    "start_time": "2022-03-06T20:53:09.629Z"
   },
   {
    "duration": 59,
    "start_time": "2022-03-06T20:53:42.037Z"
   },
   {
    "duration": 23,
    "start_time": "2022-03-06T20:54:44.363Z"
   },
   {
    "duration": 68,
    "start_time": "2022-03-06T20:55:06.746Z"
   },
   {
    "duration": 19,
    "start_time": "2022-03-06T20:55:20.446Z"
   },
   {
    "duration": 52,
    "start_time": "2022-03-06T20:55:25.658Z"
   },
   {
    "duration": 50,
    "start_time": "2022-03-06T20:56:11.285Z"
   },
   {
    "duration": 176,
    "start_time": "2022-03-06T20:56:52.602Z"
   },
   {
    "duration": 54,
    "start_time": "2022-03-06T20:57:04.884Z"
   },
   {
    "duration": 54,
    "start_time": "2022-03-06T20:57:40.945Z"
   },
   {
    "duration": 47,
    "start_time": "2022-03-06T20:57:58.217Z"
   },
   {
    "duration": 56,
    "start_time": "2022-03-06T20:58:21.942Z"
   },
   {
    "duration": 54,
    "start_time": "2022-03-06T20:58:36.925Z"
   },
   {
    "duration": 224,
    "start_time": "2022-03-06T21:00:19.194Z"
   },
   {
    "duration": 55,
    "start_time": "2022-03-06T21:04:02.332Z"
   },
   {
    "duration": 60,
    "start_time": "2022-03-06T21:04:24.171Z"
   },
   {
    "duration": 73,
    "start_time": "2022-03-06T21:04:35.052Z"
   },
   {
    "duration": 13,
    "start_time": "2022-03-06T21:08:45.227Z"
   },
   {
    "duration": 14,
    "start_time": "2022-03-06T21:09:01.791Z"
   },
   {
    "duration": 20,
    "start_time": "2022-03-06T21:09:14.055Z"
   },
   {
    "duration": 14,
    "start_time": "2022-03-06T21:11:17.052Z"
   },
   {
    "duration": 6,
    "start_time": "2022-03-06T21:11:37.635Z"
   },
   {
    "duration": 5,
    "start_time": "2022-03-06T21:11:53.181Z"
   },
   {
    "duration": 61,
    "start_time": "2022-03-06T21:12:07.491Z"
   },
   {
    "duration": 25,
    "start_time": "2022-03-06T21:12:08.407Z"
   },
   {
    "duration": 7,
    "start_time": "2022-03-06T21:12:15.114Z"
   },
   {
    "duration": 11,
    "start_time": "2022-03-06T21:12:33.005Z"
   },
   {
    "duration": 54,
    "start_time": "2022-03-06T21:13:01.871Z"
   },
   {
    "duration": 33,
    "start_time": "2022-03-06T21:13:02.615Z"
   },
   {
    "duration": 25,
    "start_time": "2022-03-06T21:13:07.943Z"
   },
   {
    "duration": 12,
    "start_time": "2022-03-06T21:13:09.551Z"
   },
   {
    "duration": 7,
    "start_time": "2022-03-06T21:13:14.360Z"
   },
   {
    "duration": 70,
    "start_time": "2022-03-06T21:13:20.380Z"
   },
   {
    "duration": 5,
    "start_time": "2022-03-06T21:13:23.858Z"
   },
   {
    "duration": 8,
    "start_time": "2022-03-06T21:14:03.998Z"
   },
   {
    "duration": 12,
    "start_time": "2022-03-06T21:15:56.701Z"
   },
   {
    "duration": 11,
    "start_time": "2022-03-06T21:20:47.647Z"
   },
   {
    "duration": 224,
    "start_time": "2022-03-06T21:23:02.191Z"
   },
   {
    "duration": 8,
    "start_time": "2022-03-06T21:23:25.357Z"
   },
   {
    "duration": 8,
    "start_time": "2022-03-06T21:28:30.604Z"
   },
   {
    "duration": 7,
    "start_time": "2022-03-06T21:29:09.351Z"
   },
   {
    "duration": 8,
    "start_time": "2022-03-06T21:30:56.690Z"
   },
   {
    "duration": 7,
    "start_time": "2022-03-06T21:36:05.176Z"
   },
   {
    "duration": 63,
    "start_time": "2022-03-06T21:36:18.258Z"
   },
   {
    "duration": 7,
    "start_time": "2022-03-06T21:36:25.320Z"
   },
   {
    "duration": 7,
    "start_time": "2022-03-06T21:36:51.068Z"
   },
   {
    "duration": 7,
    "start_time": "2022-03-06T21:42:02.738Z"
   },
   {
    "duration": 8,
    "start_time": "2022-03-06T21:42:25.063Z"
   },
   {
    "duration": 5,
    "start_time": "2022-03-06T21:53:32.355Z"
   },
   {
    "duration": 6,
    "start_time": "2022-03-06T21:55:04.015Z"
   },
   {
    "duration": 4389,
    "start_time": "2022-03-06T21:56:01.653Z"
   },
   {
    "duration": 5,
    "start_time": "2022-03-06T21:56:52.233Z"
   },
   {
    "duration": 4,
    "start_time": "2022-03-06T21:57:11.661Z"
   },
   {
    "duration": 11,
    "start_time": "2022-03-06T21:57:18.544Z"
   },
   {
    "duration": 22,
    "start_time": "2022-03-06T21:57:38.118Z"
   },
   {
    "duration": 58,
    "start_time": "2022-03-06T21:59:16.947Z"
   },
   {
    "duration": 56,
    "start_time": "2022-03-06T21:59:46.343Z"
   },
   {
    "duration": 60,
    "start_time": "2022-03-06T22:00:22.277Z"
   },
   {
    "duration": 229,
    "start_time": "2022-03-06T22:00:33.460Z"
   },
   {
    "duration": 7,
    "start_time": "2022-03-06T22:01:18.439Z"
   },
   {
    "duration": 182,
    "start_time": "2022-03-06T22:01:44.256Z"
   },
   {
    "duration": 15,
    "start_time": "2022-03-06T22:01:44.439Z"
   },
   {
    "duration": 12,
    "start_time": "2022-03-06T22:01:44.456Z"
   },
   {
    "duration": 11,
    "start_time": "2022-03-06T22:01:44.470Z"
   },
   {
    "duration": 11,
    "start_time": "2022-03-06T22:01:44.483Z"
   },
   {
    "duration": 3,
    "start_time": "2022-03-06T22:01:44.496Z"
   },
   {
    "duration": 41,
    "start_time": "2022-03-06T22:01:44.501Z"
   },
   {
    "duration": 13,
    "start_time": "2022-03-06T22:01:44.544Z"
   },
   {
    "duration": 17,
    "start_time": "2022-03-06T22:01:44.560Z"
   },
   {
    "duration": 6,
    "start_time": "2022-03-06T22:01:44.579Z"
   },
   {
    "duration": 7,
    "start_time": "2022-03-06T22:01:44.587Z"
   },
   {
    "duration": 76,
    "start_time": "2022-03-06T22:01:44.595Z"
   },
   {
    "duration": 4,
    "start_time": "2022-03-06T22:01:44.672Z"
   },
   {
    "duration": 11,
    "start_time": "2022-03-06T22:01:44.678Z"
   },
   {
    "duration": 12,
    "start_time": "2022-03-06T22:01:44.690Z"
   },
   {
    "duration": 10,
    "start_time": "2022-03-06T22:01:44.703Z"
   },
   {
    "duration": 6,
    "start_time": "2022-03-06T22:01:44.737Z"
   },
   {
    "duration": 7,
    "start_time": "2022-03-06T22:01:44.745Z"
   },
   {
    "duration": 7,
    "start_time": "2022-03-06T22:01:44.754Z"
   },
   {
    "duration": 11,
    "start_time": "2022-03-06T22:01:44.762Z"
   },
   {
    "duration": 7,
    "start_time": "2022-03-06T22:08:50.475Z"
   },
   {
    "duration": 9,
    "start_time": "2022-03-06T22:09:12.689Z"
   },
   {
    "duration": 13,
    "start_time": "2022-03-06T22:09:17.928Z"
   },
   {
    "duration": 15,
    "start_time": "2022-03-06T22:09:38.678Z"
   },
   {
    "duration": 13,
    "start_time": "2022-03-06T22:09:47.337Z"
   },
   {
    "duration": 12,
    "start_time": "2022-03-06T22:10:02.609Z"
   },
   {
    "duration": 13,
    "start_time": "2022-03-06T22:10:13.457Z"
   },
   {
    "duration": 975,
    "start_time": "2022-03-06T22:12:20.080Z"
   },
   {
    "duration": 906,
    "start_time": "2022-03-06T22:13:40.569Z"
   },
   {
    "duration": 14,
    "start_time": "2022-03-06T22:14:06.284Z"
   },
   {
    "duration": 6,
    "start_time": "2022-03-06T22:14:38.451Z"
   },
   {
    "duration": 910,
    "start_time": "2022-03-07T08:14:24.830Z"
   },
   {
    "duration": 29,
    "start_time": "2022-03-07T08:14:25.743Z"
   },
   {
    "duration": 20,
    "start_time": "2022-03-07T08:14:25.775Z"
   },
   {
    "duration": 16,
    "start_time": "2022-03-07T08:14:25.798Z"
   },
   {
    "duration": 16,
    "start_time": "2022-03-07T08:14:25.816Z"
   },
   {
    "duration": 9,
    "start_time": "2022-03-07T08:14:25.835Z"
   },
   {
    "duration": 42,
    "start_time": "2022-03-07T08:14:25.846Z"
   },
   {
    "duration": 17,
    "start_time": "2022-03-07T08:14:25.891Z"
   },
   {
    "duration": 30,
    "start_time": "2022-03-07T08:14:25.910Z"
   },
   {
    "duration": 10,
    "start_time": "2022-03-07T08:14:25.943Z"
   },
   {
    "duration": 31,
    "start_time": "2022-03-07T08:14:25.955Z"
   },
   {
    "duration": 104,
    "start_time": "2022-03-07T08:14:25.989Z"
   },
   {
    "duration": 5,
    "start_time": "2022-03-07T08:14:26.095Z"
   },
   {
    "duration": 11,
    "start_time": "2022-03-07T08:14:26.103Z"
   },
   {
    "duration": 23,
    "start_time": "2022-03-07T08:14:26.116Z"
   },
   {
    "duration": 47,
    "start_time": "2022-03-07T08:14:26.141Z"
   },
   {
    "duration": 13,
    "start_time": "2022-03-07T08:14:37.093Z"
   },
   {
    "duration": 11,
    "start_time": "2022-03-07T08:14:37.108Z"
   },
   {
    "duration": 11,
    "start_time": "2022-03-07T08:14:37.122Z"
   },
   {
    "duration": 11,
    "start_time": "2022-03-07T08:16:16.653Z"
   },
   {
    "duration": 6,
    "start_time": "2022-03-07T08:24:22.197Z"
   },
   {
    "duration": 8,
    "start_time": "2022-03-07T08:24:36.326Z"
   },
   {
    "duration": 12,
    "start_time": "2022-03-07T08:35:14.791Z"
   },
   {
    "duration": 8,
    "start_time": "2022-03-07T08:35:18.562Z"
   },
   {
    "duration": 9,
    "start_time": "2022-03-07T08:59:49.143Z"
   },
   {
    "duration": 6,
    "start_time": "2022-03-07T09:01:48.021Z"
   },
   {
    "duration": 33,
    "start_time": "2022-03-07T09:03:21.178Z"
   },
   {
    "duration": 6047,
    "start_time": "2022-03-07T09:04:06.117Z"
   },
   {
    "duration": 9,
    "start_time": "2022-03-07T09:04:23.847Z"
   },
   {
    "duration": 12,
    "start_time": "2022-03-07T09:04:36.583Z"
   },
   {
    "duration": 10,
    "start_time": "2022-03-07T09:05:12.967Z"
   },
   {
    "duration": 9,
    "start_time": "2022-03-07T09:05:30.768Z"
   },
   {
    "duration": 10,
    "start_time": "2022-03-07T09:05:38.893Z"
   },
   {
    "duration": 9,
    "start_time": "2022-03-07T09:12:57.432Z"
   },
   {
    "duration": 7,
    "start_time": "2022-03-07T09:13:05.511Z"
   },
   {
    "duration": 5,
    "start_time": "2022-03-07T09:18:02.204Z"
   },
   {
    "duration": 15,
    "start_time": "2022-03-07T09:18:03.235Z"
   },
   {
    "duration": 21,
    "start_time": "2022-03-07T09:18:07.995Z"
   },
   {
    "duration": 27,
    "start_time": "2022-03-07T09:18:11.588Z"
   },
   {
    "duration": 30,
    "start_time": "2022-03-07T09:18:13.003Z"
   },
   {
    "duration": 25,
    "start_time": "2022-03-07T09:18:13.861Z"
   },
   {
    "duration": 26,
    "start_time": "2022-03-07T09:22:25.807Z"
   },
   {
    "duration": 28,
    "start_time": "2022-03-07T09:22:27.702Z"
   },
   {
    "duration": 25,
    "start_time": "2022-03-07T09:22:28.387Z"
   },
   {
    "duration": 66,
    "start_time": "2022-03-07T10:34:23.226Z"
   },
   {
    "duration": 19,
    "start_time": "2022-03-07T10:36:05.864Z"
   },
   {
    "duration": 28,
    "start_time": "2022-03-07T10:36:14.155Z"
   },
   {
    "duration": 237,
    "start_time": "2022-03-07T10:36:34.193Z"
   },
   {
    "duration": 17,
    "start_time": "2022-03-07T10:37:01.588Z"
   },
   {
    "duration": 28,
    "start_time": "2022-03-07T10:37:40.579Z"
   },
   {
    "duration": 42,
    "start_time": "2022-03-07T10:37:50.825Z"
   },
   {
    "duration": 676,
    "start_time": "2022-03-07T10:39:26.573Z"
   },
   {
    "duration": 33,
    "start_time": "2022-03-07T10:39:44.091Z"
   },
   {
    "duration": 43,
    "start_time": "2022-03-07T10:39:52.556Z"
   },
   {
    "duration": 39,
    "start_time": "2022-03-07T12:30:09.432Z"
   },
   {
    "duration": 30,
    "start_time": "2022-03-07T12:30:13.151Z"
   },
   {
    "duration": 35,
    "start_time": "2022-03-07T12:30:20.117Z"
   },
   {
    "duration": 85,
    "start_time": "2022-03-07T12:32:15.032Z"
   },
   {
    "duration": 32,
    "start_time": "2022-03-07T12:33:44.966Z"
   },
   {
    "duration": 29,
    "start_time": "2022-03-07T12:34:12.834Z"
   },
   {
    "duration": 33,
    "start_time": "2022-03-07T12:51:10.192Z"
   },
   {
    "duration": 58,
    "start_time": "2022-03-07T12:51:45.554Z"
   },
   {
    "duration": 285,
    "start_time": "2022-03-07T12:52:16.507Z"
   },
   {
    "duration": 31,
    "start_time": "2022-03-07T12:52:42.609Z"
   },
   {
    "duration": 38,
    "start_time": "2022-03-07T12:52:57.452Z"
   },
   {
    "duration": 32,
    "start_time": "2022-03-07T12:53:25.904Z"
   },
   {
    "duration": 57,
    "start_time": "2022-03-07T12:53:47.592Z"
   },
   {
    "duration": 34,
    "start_time": "2022-03-07T13:43:23.425Z"
   },
   {
    "duration": 32,
    "start_time": "2022-03-07T13:45:53.368Z"
   },
   {
    "duration": 228,
    "start_time": "2022-03-07T13:49:06.231Z"
   },
   {
    "duration": 33,
    "start_time": "2022-03-07T13:49:39.600Z"
   },
   {
    "duration": 255,
    "start_time": "2022-03-07T13:50:22.399Z"
   },
   {
    "duration": 16,
    "start_time": "2022-03-07T13:51:47.584Z"
   },
   {
    "duration": 17,
    "start_time": "2022-03-07T13:51:48.392Z"
   },
   {
    "duration": 30,
    "start_time": "2022-03-07T13:51:55.614Z"
   },
   {
    "duration": 38,
    "start_time": "2022-03-07T13:52:06.407Z"
   },
   {
    "duration": 32,
    "start_time": "2022-03-07T13:52:19.828Z"
   },
   {
    "duration": 252,
    "start_time": "2022-03-07T13:55:14.169Z"
   },
   {
    "duration": 236,
    "start_time": "2022-03-07T13:55:35.255Z"
   },
   {
    "duration": 19,
    "start_time": "2022-03-07T13:56:12.980Z"
   },
   {
    "duration": 5,
    "start_time": "2022-03-07T13:56:15.197Z"
   },
   {
    "duration": 30,
    "start_time": "2022-03-07T13:56:16.830Z"
   },
   {
    "duration": 6,
    "start_time": "2022-03-07T13:56:18.901Z"
   },
   {
    "duration": 28,
    "start_time": "2022-03-07T13:56:20.477Z"
   },
   {
    "duration": 35,
    "start_time": "2022-03-07T13:56:30.600Z"
   },
   {
    "duration": 95,
    "start_time": "2022-03-07T14:00:38.502Z"
   },
   {
    "duration": 70,
    "start_time": "2022-03-07T14:00:51.921Z"
   },
   {
    "duration": 34,
    "start_time": "2022-03-07T14:01:13.740Z"
   },
   {
    "duration": 71,
    "start_time": "2022-03-07T14:01:49.994Z"
   },
   {
    "duration": 305,
    "start_time": "2022-03-07T14:01:57.236Z"
   },
   {
    "duration": 33,
    "start_time": "2022-03-07T14:02:03.525Z"
   },
   {
    "duration": 32,
    "start_time": "2022-03-07T14:02:08.789Z"
   },
   {
    "duration": 51,
    "start_time": "2022-03-07T14:39:09.846Z"
   }
  ],
  "kernelspec": {
   "display_name": "Python 3 (ipykernel)",
   "language": "python",
   "name": "python3"
  },
  "language_info": {
   "codemirror_mode": {
    "name": "ipython",
    "version": 3
   },
   "file_extension": ".py",
   "mimetype": "text/x-python",
   "name": "python",
   "nbconvert_exporter": "python",
   "pygments_lexer": "ipython3",
   "version": "3.10.7"
  },
  "toc": {
   "base_numbering": 1,
   "nav_menu": {},
   "number_sections": true,
   "sideBar": true,
   "skip_h1_title": true,
   "title_cell": "Table of Contents",
   "title_sidebar": "Contents",
   "toc_cell": false,
   "toc_position": {},
   "toc_section_display": true,
   "toc_window_display": false
  }
 },
 "nbformat": 4,
 "nbformat_minor": 5
}
