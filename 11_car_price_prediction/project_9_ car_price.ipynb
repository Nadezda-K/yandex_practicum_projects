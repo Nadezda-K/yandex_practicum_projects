{
 "cells": [
  {
   "cell_type": "markdown",
   "id": "0a66013f",
   "metadata": {},
   "source": [
    "# Построение модели определения стоимости автомобиля"
   ]
  },
  {
   "cell_type": "markdown",
   "id": "1ea9e0ad",
   "metadata": {},
   "source": [
    "Сервис по продаже автомобилей с пробегом «Не бит, не крашен» разрабатывает приложение для привлечения новых клиентов. В нём можно быстро узнать рыночную стоимость своего автомобиля. В вашем распоряжении исторические данные: технические характеристики, комплектации и цены автомобилей. Вам нужно построить модель для определения стоимости. \n",
    "\n",
    "Заказчику важны:\n",
    "\n",
    "- качество предсказания;\n",
    "- скорость предсказания;\n",
    "- время обучения.\n",
    "\n",
    "**Описание данных**\n",
    "Данные находятся в файле /datasets/autos.csv.\n",
    "\n",
    "Признаки\n",
    "\n",
    "    DateCrawled — дата скачивания анкеты из базы\n",
    "    VehicleType — тип автомобильного кузова\n",
    "    RegistrationYear — год регистрации автомобиля\n",
    "    Gearbox — тип коробки передач\n",
    "    Power — мощность (л. с.)\n",
    "    Model — модель автомобиля\n",
    "    Kilometer — пробег (км)\n",
    "    RegistrationMonth — месяц регистрации автомобиля\n",
    "    FuelType — тип топлива\n",
    "    Brand — марка автомобиля\n",
    "    NotRepaired — была машина в ремонте или нет\n",
    "    DateCreated — дата создания анкеты\n",
    "    NumberOfPictures — количество фотографий автомобиля\n",
    "    PostalCode — почтовый индекс владельца анкеты (пользователя)\n",
    "    LastSeen — дата последней активности пользователя\n",
    "\n",
    "Целевой признак\n",
    "\n",
    "    Price — цена (евро)"
   ]
  },
  {
   "cell_type": "code",
   "execution_count": 129,
   "id": "419331d6",
   "metadata": {},
   "outputs": [],
   "source": [
    "# импорт необходимых библиотек\n",
    "import pandas as pd\n",
    "import numpy as np\n",
    "import matplotlib.pyplot as plt\n",
    "import math\n",
    "\n",
    "from sklearn.model_selection import train_test_split\n",
    "from sklearn.preprocessing import StandardScaler\n",
    "from sklearn.preprocessing import OrdinalEncoder\n",
    "\n",
    "from sklearn.linear_model import LinearRegression\n",
    "from sklearn.tree import DecisionTreeRegressor\n",
    "\n",
    "from lightgbm import LGBMRegressor\n",
    "\n",
    "from sklearn.metrics import mean_squared_error"
   ]
  },
  {
   "cell_type": "markdown",
   "id": "a5cff8c4",
   "metadata": {},
   "source": [
    "## Подготовка данных"
   ]
  },
  {
   "cell_type": "code",
   "execution_count": 130,
   "id": "fd33cb89",
   "metadata": {},
   "outputs": [],
   "source": [
    "# загрузка данных\n",
    "try:\n",
    "    cars = pd.read_csv('autos.csv') # Локальный путь\n",
    "except:\n",
    "    cars = pd.read_csv('/datasets/autos.csv') # Сервесный путь "
   ]
  },
  {
   "cell_type": "code",
   "execution_count": 131,
   "id": "bf333173",
   "metadata": {},
   "outputs": [
    {
     "data": {
      "text/html": [
       "<div>\n",
       "<style scoped>\n",
       "    .dataframe tbody tr th:only-of-type {\n",
       "        vertical-align: middle;\n",
       "    }\n",
       "\n",
       "    .dataframe tbody tr th {\n",
       "        vertical-align: top;\n",
       "    }\n",
       "\n",
       "    .dataframe thead th {\n",
       "        text-align: right;\n",
       "    }\n",
       "</style>\n",
       "<table border=\"1\" class=\"dataframe\">\n",
       "  <thead>\n",
       "    <tr style=\"text-align: right;\">\n",
       "      <th></th>\n",
       "      <th>DateCrawled</th>\n",
       "      <th>Price</th>\n",
       "      <th>VehicleType</th>\n",
       "      <th>RegistrationYear</th>\n",
       "      <th>Gearbox</th>\n",
       "      <th>Power</th>\n",
       "      <th>Model</th>\n",
       "      <th>Kilometer</th>\n",
       "      <th>RegistrationMonth</th>\n",
       "      <th>FuelType</th>\n",
       "      <th>Brand</th>\n",
       "      <th>NotRepaired</th>\n",
       "      <th>DateCreated</th>\n",
       "      <th>NumberOfPictures</th>\n",
       "      <th>PostalCode</th>\n",
       "      <th>LastSeen</th>\n",
       "    </tr>\n",
       "  </thead>\n",
       "  <tbody>\n",
       "    <tr>\n",
       "      <th>0</th>\n",
       "      <td>2016-03-24 11:52:17</td>\n",
       "      <td>480</td>\n",
       "      <td>NaN</td>\n",
       "      <td>1993</td>\n",
       "      <td>manual</td>\n",
       "      <td>0</td>\n",
       "      <td>golf</td>\n",
       "      <td>150000</td>\n",
       "      <td>0</td>\n",
       "      <td>petrol</td>\n",
       "      <td>volkswagen</td>\n",
       "      <td>NaN</td>\n",
       "      <td>2016-03-24 00:00:00</td>\n",
       "      <td>0</td>\n",
       "      <td>70435</td>\n",
       "      <td>2016-04-07 03:16:57</td>\n",
       "    </tr>\n",
       "    <tr>\n",
       "      <th>1</th>\n",
       "      <td>2016-03-24 10:58:45</td>\n",
       "      <td>18300</td>\n",
       "      <td>coupe</td>\n",
       "      <td>2011</td>\n",
       "      <td>manual</td>\n",
       "      <td>190</td>\n",
       "      <td>NaN</td>\n",
       "      <td>125000</td>\n",
       "      <td>5</td>\n",
       "      <td>gasoline</td>\n",
       "      <td>audi</td>\n",
       "      <td>yes</td>\n",
       "      <td>2016-03-24 00:00:00</td>\n",
       "      <td>0</td>\n",
       "      <td>66954</td>\n",
       "      <td>2016-04-07 01:46:50</td>\n",
       "    </tr>\n",
       "    <tr>\n",
       "      <th>2</th>\n",
       "      <td>2016-03-14 12:52:21</td>\n",
       "      <td>9800</td>\n",
       "      <td>suv</td>\n",
       "      <td>2004</td>\n",
       "      <td>auto</td>\n",
       "      <td>163</td>\n",
       "      <td>grand</td>\n",
       "      <td>125000</td>\n",
       "      <td>8</td>\n",
       "      <td>gasoline</td>\n",
       "      <td>jeep</td>\n",
       "      <td>NaN</td>\n",
       "      <td>2016-03-14 00:00:00</td>\n",
       "      <td>0</td>\n",
       "      <td>90480</td>\n",
       "      <td>2016-04-05 12:47:46</td>\n",
       "    </tr>\n",
       "    <tr>\n",
       "      <th>3</th>\n",
       "      <td>2016-03-17 16:54:04</td>\n",
       "      <td>1500</td>\n",
       "      <td>small</td>\n",
       "      <td>2001</td>\n",
       "      <td>manual</td>\n",
       "      <td>75</td>\n",
       "      <td>golf</td>\n",
       "      <td>150000</td>\n",
       "      <td>6</td>\n",
       "      <td>petrol</td>\n",
       "      <td>volkswagen</td>\n",
       "      <td>no</td>\n",
       "      <td>2016-03-17 00:00:00</td>\n",
       "      <td>0</td>\n",
       "      <td>91074</td>\n",
       "      <td>2016-03-17 17:40:17</td>\n",
       "    </tr>\n",
       "    <tr>\n",
       "      <th>4</th>\n",
       "      <td>2016-03-31 17:25:20</td>\n",
       "      <td>3600</td>\n",
       "      <td>small</td>\n",
       "      <td>2008</td>\n",
       "      <td>manual</td>\n",
       "      <td>69</td>\n",
       "      <td>fabia</td>\n",
       "      <td>90000</td>\n",
       "      <td>7</td>\n",
       "      <td>gasoline</td>\n",
       "      <td>skoda</td>\n",
       "      <td>no</td>\n",
       "      <td>2016-03-31 00:00:00</td>\n",
       "      <td>0</td>\n",
       "      <td>60437</td>\n",
       "      <td>2016-04-06 10:17:21</td>\n",
       "    </tr>\n",
       "  </tbody>\n",
       "</table>\n",
       "</div>"
      ],
      "text/plain": [
       "           DateCrawled  Price VehicleType  RegistrationYear Gearbox  Power  \\\n",
       "0  2016-03-24 11:52:17    480         NaN              1993  manual      0   \n",
       "1  2016-03-24 10:58:45  18300       coupe              2011  manual    190   \n",
       "2  2016-03-14 12:52:21   9800         suv              2004    auto    163   \n",
       "3  2016-03-17 16:54:04   1500       small              2001  manual     75   \n",
       "4  2016-03-31 17:25:20   3600       small              2008  manual     69   \n",
       "\n",
       "   Model  Kilometer  RegistrationMonth  FuelType       Brand NotRepaired  \\\n",
       "0   golf     150000                  0    petrol  volkswagen         NaN   \n",
       "1    NaN     125000                  5  gasoline        audi         yes   \n",
       "2  grand     125000                  8  gasoline        jeep         NaN   \n",
       "3   golf     150000                  6    petrol  volkswagen          no   \n",
       "4  fabia      90000                  7  gasoline       skoda          no   \n",
       "\n",
       "           DateCreated  NumberOfPictures  PostalCode             LastSeen  \n",
       "0  2016-03-24 00:00:00                 0       70435  2016-04-07 03:16:57  \n",
       "1  2016-03-24 00:00:00                 0       66954  2016-04-07 01:46:50  \n",
       "2  2016-03-14 00:00:00                 0       90480  2016-04-05 12:47:46  \n",
       "3  2016-03-17 00:00:00                 0       91074  2016-03-17 17:40:17  \n",
       "4  2016-03-31 00:00:00                 0       60437  2016-04-06 10:17:21  "
      ]
     },
     "execution_count": 131,
     "metadata": {},
     "output_type": "execute_result"
    }
   ],
   "source": [
    "cars.head()"
   ]
  },
  {
   "cell_type": "code",
   "execution_count": 132,
   "id": "f674af4c",
   "metadata": {},
   "outputs": [
    {
     "data": {
      "text/plain": [
       "DateCrawled              0\n",
       "Price                    0\n",
       "VehicleType          37490\n",
       "RegistrationYear         0\n",
       "Gearbox              19833\n",
       "Power                    0\n",
       "Model                19705\n",
       "Kilometer                0\n",
       "RegistrationMonth        0\n",
       "FuelType             32895\n",
       "Brand                    0\n",
       "NotRepaired          71154\n",
       "DateCreated              0\n",
       "NumberOfPictures         0\n",
       "PostalCode               0\n",
       "LastSeen                 0\n",
       "dtype: int64"
      ]
     },
     "execution_count": 132,
     "metadata": {},
     "output_type": "execute_result"
    }
   ],
   "source": [
    "cars.isna().sum()"
   ]
  },
  {
   "cell_type": "code",
   "execution_count": 133,
   "id": "5c768bcc",
   "metadata": {},
   "outputs": [
    {
     "name": "stdout",
     "output_type": "stream",
     "text": [
      "<class 'pandas.core.frame.DataFrame'>\n",
      "RangeIndex: 354369 entries, 0 to 354368\n",
      "Data columns (total 16 columns):\n",
      " #   Column             Non-Null Count   Dtype \n",
      "---  ------             --------------   ----- \n",
      " 0   DateCrawled        354369 non-null  object\n",
      " 1   Price              354369 non-null  int64 \n",
      " 2   VehicleType        316879 non-null  object\n",
      " 3   RegistrationYear   354369 non-null  int64 \n",
      " 4   Gearbox            334536 non-null  object\n",
      " 5   Power              354369 non-null  int64 \n",
      " 6   Model              334664 non-null  object\n",
      " 7   Kilometer          354369 non-null  int64 \n",
      " 8   RegistrationMonth  354369 non-null  int64 \n",
      " 9   FuelType           321474 non-null  object\n",
      " 10  Brand              354369 non-null  object\n",
      " 11  NotRepaired        283215 non-null  object\n",
      " 12  DateCreated        354369 non-null  object\n",
      " 13  NumberOfPictures   354369 non-null  int64 \n",
      " 14  PostalCode         354369 non-null  int64 \n",
      " 15  LastSeen           354369 non-null  object\n",
      "dtypes: int64(7), object(9)\n",
      "memory usage: 43.3+ MB\n"
     ]
    }
   ],
   "source": [
    "cars.info()"
   ]
  },
  {
   "cell_type": "code",
   "execution_count": 134,
   "id": "e3049189",
   "metadata": {},
   "outputs": [
    {
     "data": {
      "text/html": [
       "<div>\n",
       "<style scoped>\n",
       "    .dataframe tbody tr th:only-of-type {\n",
       "        vertical-align: middle;\n",
       "    }\n",
       "\n",
       "    .dataframe tbody tr th {\n",
       "        vertical-align: top;\n",
       "    }\n",
       "\n",
       "    .dataframe thead th {\n",
       "        text-align: right;\n",
       "    }\n",
       "</style>\n",
       "<table border=\"1\" class=\"dataframe\">\n",
       "  <thead>\n",
       "    <tr style=\"text-align: right;\">\n",
       "      <th></th>\n",
       "      <th>Price</th>\n",
       "      <th>RegistrationYear</th>\n",
       "      <th>Power</th>\n",
       "      <th>Kilometer</th>\n",
       "      <th>RegistrationMonth</th>\n",
       "      <th>NumberOfPictures</th>\n",
       "      <th>PostalCode</th>\n",
       "    </tr>\n",
       "  </thead>\n",
       "  <tbody>\n",
       "    <tr>\n",
       "      <th>count</th>\n",
       "      <td>354369.000000</td>\n",
       "      <td>354369.000000</td>\n",
       "      <td>354369.000000</td>\n",
       "      <td>354369.000000</td>\n",
       "      <td>354369.000000</td>\n",
       "      <td>354369.0</td>\n",
       "      <td>354369.000000</td>\n",
       "    </tr>\n",
       "    <tr>\n",
       "      <th>mean</th>\n",
       "      <td>4416.656776</td>\n",
       "      <td>2004.234448</td>\n",
       "      <td>110.094337</td>\n",
       "      <td>128211.172535</td>\n",
       "      <td>5.714645</td>\n",
       "      <td>0.0</td>\n",
       "      <td>50508.689087</td>\n",
       "    </tr>\n",
       "    <tr>\n",
       "      <th>std</th>\n",
       "      <td>4514.158514</td>\n",
       "      <td>90.227958</td>\n",
       "      <td>189.850405</td>\n",
       "      <td>37905.341530</td>\n",
       "      <td>3.726421</td>\n",
       "      <td>0.0</td>\n",
       "      <td>25783.096248</td>\n",
       "    </tr>\n",
       "    <tr>\n",
       "      <th>min</th>\n",
       "      <td>0.000000</td>\n",
       "      <td>1000.000000</td>\n",
       "      <td>0.000000</td>\n",
       "      <td>5000.000000</td>\n",
       "      <td>0.000000</td>\n",
       "      <td>0.0</td>\n",
       "      <td>1067.000000</td>\n",
       "    </tr>\n",
       "    <tr>\n",
       "      <th>25%</th>\n",
       "      <td>1050.000000</td>\n",
       "      <td>1999.000000</td>\n",
       "      <td>69.000000</td>\n",
       "      <td>125000.000000</td>\n",
       "      <td>3.000000</td>\n",
       "      <td>0.0</td>\n",
       "      <td>30165.000000</td>\n",
       "    </tr>\n",
       "    <tr>\n",
       "      <th>50%</th>\n",
       "      <td>2700.000000</td>\n",
       "      <td>2003.000000</td>\n",
       "      <td>105.000000</td>\n",
       "      <td>150000.000000</td>\n",
       "      <td>6.000000</td>\n",
       "      <td>0.0</td>\n",
       "      <td>49413.000000</td>\n",
       "    </tr>\n",
       "    <tr>\n",
       "      <th>75%</th>\n",
       "      <td>6400.000000</td>\n",
       "      <td>2008.000000</td>\n",
       "      <td>143.000000</td>\n",
       "      <td>150000.000000</td>\n",
       "      <td>9.000000</td>\n",
       "      <td>0.0</td>\n",
       "      <td>71083.000000</td>\n",
       "    </tr>\n",
       "    <tr>\n",
       "      <th>max</th>\n",
       "      <td>20000.000000</td>\n",
       "      <td>9999.000000</td>\n",
       "      <td>20000.000000</td>\n",
       "      <td>150000.000000</td>\n",
       "      <td>12.000000</td>\n",
       "      <td>0.0</td>\n",
       "      <td>99998.000000</td>\n",
       "    </tr>\n",
       "  </tbody>\n",
       "</table>\n",
       "</div>"
      ],
      "text/plain": [
       "               Price  RegistrationYear          Power      Kilometer  \\\n",
       "count  354369.000000     354369.000000  354369.000000  354369.000000   \n",
       "mean     4416.656776       2004.234448     110.094337  128211.172535   \n",
       "std      4514.158514         90.227958     189.850405   37905.341530   \n",
       "min         0.000000       1000.000000       0.000000    5000.000000   \n",
       "25%      1050.000000       1999.000000      69.000000  125000.000000   \n",
       "50%      2700.000000       2003.000000     105.000000  150000.000000   \n",
       "75%      6400.000000       2008.000000     143.000000  150000.000000   \n",
       "max     20000.000000       9999.000000   20000.000000  150000.000000   \n",
       "\n",
       "       RegistrationMonth  NumberOfPictures     PostalCode  \n",
       "count      354369.000000          354369.0  354369.000000  \n",
       "mean            5.714645               0.0   50508.689087  \n",
       "std             3.726421               0.0   25783.096248  \n",
       "min             0.000000               0.0    1067.000000  \n",
       "25%             3.000000               0.0   30165.000000  \n",
       "50%             6.000000               0.0   49413.000000  \n",
       "75%             9.000000               0.0   71083.000000  \n",
       "max            12.000000               0.0   99998.000000  "
      ]
     },
     "execution_count": 134,
     "metadata": {},
     "output_type": "execute_result"
    }
   ],
   "source": [
    "cars.describe()"
   ]
  },
  {
   "cell_type": "markdown",
   "id": "132462a9",
   "metadata": {},
   "source": [
    "Из обзора данных видим, что данные требуют предобработки:\n",
    " - есть NaN в\n",
    " \n",
    "       VehicleType\n",
    "       Gearbox\n",
    "       Model\n",
    "       FuelType\n",
    "       NotRepaired - заменим на unknown\n",
    "       \n",
    " - Колонки LastSeen  DateCrawled  и DateCreated необходимо привести к типу DateTime\n",
    "\n",
    " - есть выбросы в \n",
    "\n",
    "       Price - нулевая цена и слишком высокая цена (но это может быть машина бизнесс класса)\n",
    "       Power - нулевая мощьность и слишком большая мощность (одниковая с ценой, скорее всего ошибка)\n",
    "       RegistrationYear - минимальные и максимальные значения 1000 и 9999, соответсвенно\n",
    "       RegistrationMonth - нулевой месяц\n",
    "    \n",
    "Рассмотрим все подробнее"
   ]
  },
  {
   "cell_type": "markdown",
   "id": "4514aa5b",
   "metadata": {},
   "source": [
    "### Колонки с датами"
   ]
  },
  {
   "cell_type": "code",
   "execution_count": 135,
   "id": "a9333cb7",
   "metadata": {},
   "outputs": [
    {
     "name": "stdout",
     "output_type": "stream",
     "text": [
      "<class 'pandas.core.frame.DataFrame'>\n",
      "RangeIndex: 354369 entries, 0 to 354368\n",
      "Data columns (total 16 columns):\n",
      " #   Column             Non-Null Count   Dtype         \n",
      "---  ------             --------------   -----         \n",
      " 0   DateCrawled        354369 non-null  datetime64[ns]\n",
      " 1   Price              354369 non-null  int64         \n",
      " 2   VehicleType        316879 non-null  object        \n",
      " 3   RegistrationYear   354369 non-null  int64         \n",
      " 4   Gearbox            334536 non-null  object        \n",
      " 5   Power              354369 non-null  int64         \n",
      " 6   Model              334664 non-null  object        \n",
      " 7   Kilometer          354369 non-null  int64         \n",
      " 8   RegistrationMonth  354369 non-null  int64         \n",
      " 9   FuelType           321474 non-null  object        \n",
      " 10  Brand              354369 non-null  object        \n",
      " 11  NotRepaired        283215 non-null  object        \n",
      " 12  DateCreated        354369 non-null  datetime64[ns]\n",
      " 13  NumberOfPictures   354369 non-null  int64         \n",
      " 14  PostalCode         354369 non-null  int64         \n",
      " 15  LastSeen           354369 non-null  datetime64[ns]\n",
      "dtypes: datetime64[ns](3), int64(7), object(6)\n",
      "memory usage: 43.3+ MB\n"
     ]
    }
   ],
   "source": [
    "# Приведем колонки с датами к типу DateTime\n",
    "\n",
    "cars['DateCrawled'] = pd.to_datetime(cars['DateCrawled'],format = '%Y-%m-%d %H:%M:%S')\n",
    "cars['DateCreated'] = pd.to_datetime(cars['DateCreated'],format = '%Y-%m-%d %H:%M:%S')\n",
    "cars['LastSeen'] = pd.to_datetime(cars['LastSeen'],format = '%Y-%m-%d %H:%M:%S')\n",
    "\n",
    "cars.info()"
   ]
  },
  {
   "cell_type": "markdown",
   "id": "977d1ce4",
   "metadata": {},
   "source": [
    "### 'Price'"
   ]
  },
  {
   "cell_type": "code",
   "execution_count": 136,
   "id": "947a9b95",
   "metadata": {},
   "outputs": [],
   "source": [
    "def box_hist_plot(data,column_name):\n",
    "    \n",
    "    bins=100\n",
    "    fig_size = (10,5)\n",
    "    \n",
    "    plt.subplot(2,1,1)\n",
    "    data[column_name].hist(bins=bins, \n",
    "                           figsize=fig_size \n",
    "                          )\n",
    "\n",
    "    plt.subplot(2,1,2)\n",
    "    data.boxplot(column=column_name,\n",
    "                 vert=False,\n",
    "                 figsize=fig_size \n",
    "                )\n",
    "    plt.show()"
   ]
  },
  {
   "cell_type": "code",
   "execution_count": 137,
   "id": "d6c9969e",
   "metadata": {},
   "outputs": [
    {
     "data": {
      "image/png": "[encoded data removed]",
      "text/plain": [
       "<Figure size 720x360 with 2 Axes>"
      ]
     },
     "metadata": {
      "needs_background": "light"
     },
     "output_type": "display_data"
    }
   ],
   "source": [
    "box_hist_plot(cars,'Price')"
   ]
  },
  {
   "cell_type": "markdown",
   "id": "e9d0d659",
   "metadata": {},
   "source": [
    "Строки с нулевой ценой не подходят для данного исследования, поэтому удалим их."
   ]
  },
  {
   "cell_type": "code",
   "execution_count": 138,
   "id": "8cd5c9c0",
   "metadata": {},
   "outputs": [],
   "source": [
    "cars_cut = cars.query(\"Price > 0\")"
   ]
  },
  {
   "cell_type": "code",
   "execution_count": 139,
   "id": "03f8419a",
   "metadata": {},
   "outputs": [
    {
     "data": {
      "image/png": "[encoded data removed]",
      "text/plain": [
       "<Figure size 720x360 with 2 Axes>"
      ]
     },
     "metadata": {
      "needs_background": "light"
     },
     "output_type": "display_data"
    }
   ],
   "source": [
    "box_hist_plot(cars_cut,'Price')"
   ]
  },
  {
   "cell_type": "code",
   "execution_count": null,
   "id": "7b95a086",
   "metadata": {},
   "outputs": [],
   "source": []
  },
  {
   "cell_type": "code",
   "execution_count": null,
   "id": "59eca9b6",
   "metadata": {},
   "outputs": [],
   "source": []
  },
  {
   "cell_type": "markdown",
   "id": "d96fbacc",
   "metadata": {},
   "source": [
    "### 'RegistrationYear'"
   ]
  },
  {
   "cell_type": "code",
   "execution_count": 140,
   "id": "905f1957",
   "metadata": {},
   "outputs": [
    {
     "data": {
      "image/png": "[encoded data removed]",
      "text/plain": [
       "<Figure size 720x360 with 2 Axes>"
      ]
     },
     "metadata": {
      "needs_background": "light"
     },
     "output_type": "display_data"
    }
   ],
   "source": [
    "box_hist_plot(cars_cut,'RegistrationYear')"
   ]
  },
  {
   "cell_type": "code",
   "execution_count": 141,
   "id": "c5cfe2c4",
   "metadata": {},
   "outputs": [
    {
     "data": {
      "text/plain": [
       "array([1000, 1001, 1039, 1111, 1234, 1255, 1300, 1400, 1500, 1600, 1602,\n",
       "       1800, 1910, 1923, 1925, 1927, 1928, 1929, 1930, 1931, 1932, 1933,\n",
       "       1934, 1935, 1936, 1937, 1938, 1940, 1941, 1942, 1943, 1944, 1945,\n",
       "       1946, 1947, 1948, 1949, 1950, 1951, 1952, 1953, 1954, 1955, 1956,\n",
       "       1957, 1958, 1959, 1960, 1961, 1962, 1963, 1964, 1965, 1966, 1967,\n",
       "       1968, 1969, 1970, 1971, 1972, 1973, 1974, 1975, 1976, 1977, 1978,\n",
       "       1979, 1980, 1981, 1982, 1983, 1984, 1985, 1986, 1987, 1988, 1989,\n",
       "       1990, 1991, 1992, 1993, 1994, 1995, 1996, 1997, 1998, 1999, 2000,\n",
       "       2001, 2002, 2003, 2004, 2005, 2006, 2007, 2008, 2009, 2010, 2011,\n",
       "       2012, 2013, 2014, 2015, 2016, 2017, 2018, 2019, 2066, 2200, 2222,\n",
       "       2290, 2500, 2800, 2900, 3000, 3200, 3700, 3800, 4000, 4100, 4500,\n",
       "       4800, 5000, 5300, 5555, 5600, 5900, 5911, 6000, 6500, 7000, 7100,\n",
       "       7800, 8000, 8200, 8500, 8888, 9000, 9450, 9999])"
      ]
     },
     "execution_count": 141,
     "metadata": {},
     "output_type": "execute_result"
    }
   ],
   "source": [
    "cars_cut['RegistrationYear'].sort_values().unique()"
   ]
  },
  {
   "cell_type": "markdown",
   "id": "b2c8e185",
   "metadata": {},
   "source": [
    "Значения года до 1910 и после 2019 не имеют смысла и являются ошибками. \n",
    "Так как имеющийся объем данных большой -- около 350 тыс. -- удалим строки с явными ошибками."
   ]
  },
  {
   "cell_type": "code",
   "execution_count": 142,
   "id": "926948e5",
   "metadata": {},
   "outputs": [],
   "source": [
    "cars_cut = cars_cut.query(\"1910 <= RegistrationYear <= 2019\")"
   ]
  },
  {
   "cell_type": "code",
   "execution_count": 143,
   "id": "263eaf8f",
   "metadata": {},
   "outputs": [
    {
     "data": {
      "text/plain": [
       "Int64Index([2016], dtype='int64', name='DateCrawled')"
      ]
     },
     "execution_count": 143,
     "metadata": {},
     "output_type": "execute_result"
    }
   ],
   "source": [
    "pd.DatetimeIndex(cars_cut['DateCrawled']).year.unique()"
   ]
  },
  {
   "cell_type": "markdown",
   "id": "42859536",
   "metadata": {},
   "source": [
    "В колонке 'DateCrawled' год везде одинаковый. Данная колока не инфомативна для предсказаний"
   ]
  },
  {
   "cell_type": "code",
   "execution_count": 144,
   "id": "bd0f8f04",
   "metadata": {},
   "outputs": [
    {
     "data": {
      "image/png": "[encoded data removed]",
      "text/plain": [
       "<Figure size 720x360 with 2 Axes>"
      ]
     },
     "metadata": {
      "needs_background": "light"
     },
     "output_type": "display_data"
    }
   ],
   "source": [
    "box_hist_plot(cars_cut,'RegistrationYear')"
   ]
  },
  {
   "cell_type": "markdown",
   "id": "a2103821",
   "metadata": {},
   "source": [
    "До 1980 года количесво машин небольшое. Для работы оставим только машины с 1980 года."
   ]
  },
  {
   "cell_type": "code",
   "execution_count": 145,
   "id": "cfbbc432",
   "metadata": {},
   "outputs": [],
   "source": [
    "cars_cut = cars_cut.query(\"1980 <= RegistrationYear <= 2019\")"
   ]
  },
  {
   "cell_type": "code",
   "execution_count": 146,
   "id": "b44327d6",
   "metadata": {},
   "outputs": [
    {
     "data": {
      "image/png": "[encoded data removed]",
      "text/plain": [
       "<Figure size 720x360 with 2 Axes>"
      ]
     },
     "metadata": {
      "needs_background": "light"
     },
     "output_type": "display_data"
    }
   ],
   "source": [
    "box_hist_plot(cars_cut,'RegistrationYear')"
   ]
  },
  {
   "cell_type": "markdown",
   "id": "bd713918",
   "metadata": {},
   "source": [
    "### Power"
   ]
  },
  {
   "cell_type": "code",
   "execution_count": 147,
   "id": "c2a60cdf",
   "metadata": {},
   "outputs": [
    {
     "data": {
      "image/png": "[encoded data removed]",
      "text/plain": [
       "<Figure size 720x360 with 2 Axes>"
      ]
     },
     "metadata": {
      "needs_background": "light"
     },
     "output_type": "display_data"
    }
   ],
   "source": [
    "box_hist_plot(cars_cut,'Power')"
   ]
  },
  {
   "cell_type": "markdown",
   "id": "6c26d915",
   "metadata": {},
   "source": [
    "Удалим строки с явными ошибками -- даже у гоночных машин количесво лошадиных сил около 500.\n",
    "Удалим строки с нулевой мощностью и мощьностью выше 250."
   ]
  },
  {
   "cell_type": "code",
   "execution_count": 148,
   "id": "1cb08966",
   "metadata": {},
   "outputs": [],
   "source": [
    "cars_cut = cars_cut.query(\"0 < Power <= 250\")"
   ]
  },
  {
   "cell_type": "code",
   "execution_count": 149,
   "id": "03b7b1a2",
   "metadata": {},
   "outputs": [
    {
     "data": {
      "image/png": "[encoded data removed]",
      "text/plain": [
       "<Figure size 720x360 with 2 Axes>"
      ]
     },
     "metadata": {
      "needs_background": "light"
     },
     "output_type": "display_data"
    }
   ],
   "source": [
    "box_hist_plot(cars_cut,'Power')"
   ]
  },
  {
   "cell_type": "markdown",
   "id": "3e835c77",
   "metadata": {},
   "source": [
    "### NotRepaired"
   ]
  },
  {
   "cell_type": "code",
   "execution_count": 150,
   "id": "4decc927",
   "metadata": {},
   "outputs": [
    {
     "data": {
      "text/plain": [
       "array(['yes', nan, 'no'], dtype=object)"
      ]
     },
     "execution_count": 150,
     "metadata": {},
     "output_type": "execute_result"
    }
   ],
   "source": [
    "cars_cut['NotRepaired'].unique()"
   ]
  },
  {
   "cell_type": "markdown",
   "id": "a4401d60",
   "metadata": {},
   "source": [
    "Значения NaN в колонке 'NotRepaired' может означать как то, что машина не ремонтировалась, так и то, что факт ремонта хотят скрыть.\n",
    "Поэтому заменим NaN на 'unknown'."
   ]
  },
  {
   "cell_type": "code",
   "execution_count": 151,
   "id": "6b5fd796",
   "metadata": {},
   "outputs": [],
   "source": [
    "cars_cut['NotRepaired'] = cars_cut['NotRepaired'].fillna('unknown')"
   ]
  },
  {
   "cell_type": "markdown",
   "id": "49a75778",
   "metadata": {},
   "source": [
    "### 'Model'"
   ]
  },
  {
   "cell_type": "markdown",
   "id": "7f84da7a",
   "metadata": {},
   "source": [
    "Удалим строки где неизвестна модель, так как неизвестная модель вносить слишком большой разброс цену."
   ]
  },
  {
   "cell_type": "code",
   "execution_count": 152,
   "id": "04b17d9f",
   "metadata": {},
   "outputs": [],
   "source": [
    "cars_cut = cars_cut.dropna(subset=['Model'])"
   ]
  },
  {
   "cell_type": "markdown",
   "id": "e19535f9",
   "metadata": {},
   "source": [
    "### FuelType"
   ]
  },
  {
   "cell_type": "code",
   "execution_count": 153,
   "id": "9b25dd84",
   "metadata": {},
   "outputs": [
    {
     "data": {
      "text/plain": [
       "array(['gasoline', 'petrol', nan, 'lpg', 'other', 'hybrid', 'cng',\n",
       "       'electric'], dtype=object)"
      ]
     },
     "execution_count": 153,
     "metadata": {},
     "output_type": "execute_result"
    }
   ],
   "source": [
    "cars_cut['FuelType'].unique()"
   ]
  },
  {
   "cell_type": "markdown",
   "id": "0d0aa2d7",
   "metadata": {},
   "source": [
    "'gasoline' и 'petrol' - это одно и тоже, поэтому приведем к одному названию."
   ]
  },
  {
   "cell_type": "code",
   "execution_count": 154,
   "id": "f15f0f10",
   "metadata": {},
   "outputs": [],
   "source": [
    "cars_cut['FuelType'] = cars_cut['FuelType'].replace('petrol','gasoline')"
   ]
  },
  {
   "cell_type": "code",
   "execution_count": 155,
   "id": "594d3b86",
   "metadata": {
    "scrolled": true
   },
   "outputs": [
    {
     "data": {
      "text/plain": [
       "gasoline    265460\n",
       "lpg           4066\n",
       "cng            482\n",
       "hybrid         182\n",
       "other           65\n",
       "electric        58\n",
       "Name: FuelType, dtype: int64"
      ]
     },
     "execution_count": 155,
     "metadata": {},
     "output_type": "execute_result"
    }
   ],
   "source": [
    "cars_cut['FuelType'].value_counts()"
   ]
  },
  {
   "cell_type": "markdown",
   "id": "2db15bfd",
   "metadata": {},
   "source": [
    "Подавляющее большинство машин работают на бензине. Поэтому заменим NaN на 'gasoline'. Большой ошибки в обучение это не внесет."
   ]
  },
  {
   "cell_type": "code",
   "execution_count": 156,
   "id": "1f69fe61",
   "metadata": {},
   "outputs": [],
   "source": [
    "cars_cut['FuelType'] = cars_cut['FuelType'].fillna('gasoline')"
   ]
  },
  {
   "cell_type": "code",
   "execution_count": 157,
   "id": "26d6d135",
   "metadata": {},
   "outputs": [
    {
     "data": {
      "text/plain": [
       "gasoline    281482\n",
       "lpg           4066\n",
       "cng            482\n",
       "hybrid         182\n",
       "other           65\n",
       "electric        58\n",
       "Name: FuelType, dtype: int64"
      ]
     },
     "execution_count": 157,
     "metadata": {},
     "output_type": "execute_result"
    }
   ],
   "source": [
    "cars_cut['FuelType'].value_counts()"
   ]
  },
  {
   "cell_type": "markdown",
   "id": "f116c1d7",
   "metadata": {},
   "source": [
    "### 'VehicleType',  'Gearbox'"
   ]
  },
  {
   "cell_type": "code",
   "execution_count": 158,
   "id": "2daaa8d0",
   "metadata": {
    "scrolled": true
   },
   "outputs": [
    {
     "data": {
      "text/plain": [
       "sedan          77165\n",
       "small          67457\n",
       "wagon          56616\n",
       "bus            25395\n",
       "convertible    17338\n",
       "coupe          12446\n",
       "suv             9577\n",
       "other           2117\n",
       "Name: VehicleType, dtype: int64"
      ]
     },
     "execution_count": 158,
     "metadata": {},
     "output_type": "execute_result"
    }
   ],
   "source": [
    "cars_cut['VehicleType'].value_counts()"
   ]
  },
  {
   "cell_type": "code",
   "execution_count": 159,
   "id": "f0646d26",
   "metadata": {},
   "outputs": [
    {
     "data": {
      "text/plain": [
       "manual    228473\n",
       "auto       52718\n",
       "Name: Gearbox, dtype: int64"
      ]
     },
     "execution_count": 159,
     "metadata": {},
     "output_type": "execute_result"
    }
   ],
   "source": [
    "cars_cut['Gearbox'].value_counts()"
   ]
  },
  {
   "cell_type": "markdown",
   "id": "a80ed3a4",
   "metadata": {},
   "source": [
    "Для колонок 'VehicleType',  'Gearbox' заполнение наиболее часто встречающимися значениями будет вносить большую ошибку. Для 'VehicleType' частотность примерно одинаковая для топ 3 типов, а в случае коробки передач она может быть разной для одной и той же модели машины и сильно влиять на стоимость. Поэтому заменим NaN на 'unspecified'."
   ]
  },
  {
   "cell_type": "code",
   "execution_count": 160,
   "id": "cd4540ee",
   "metadata": {},
   "outputs": [],
   "source": [
    "cars_cut['Gearbox'] = cars_cut['Gearbox'].fillna( 'unspecified')\n",
    "cars_cut['VehicleType'] = cars_cut['VehicleType'].fillna( 'unspecified')"
   ]
  },
  {
   "cell_type": "markdown",
   "id": "aa2eb648",
   "metadata": {},
   "source": [
    "### Дубликаты"
   ]
  },
  {
   "cell_type": "markdown",
   "id": "8c046679",
   "metadata": {},
   "source": [
    "Неявные дубликаты были исправлены, теперь посмотрим на явные дубликаты"
   ]
  },
  {
   "cell_type": "code",
   "execution_count": 161,
   "id": "ecdb2ee5",
   "metadata": {},
   "outputs": [
    {
     "name": "stdout",
     "output_type": "stream",
     "text": [
      "Количесво явных дубликатов: 4\n"
     ]
    }
   ],
   "source": [
    "print('Количесво явных дубликатов:',cars_cut.duplicated().sum())"
   ]
  },
  {
   "cell_type": "markdown",
   "id": "4ea630a1",
   "metadata": {},
   "source": [
    "Немного, но удалить все равно необходимо."
   ]
  },
  {
   "cell_type": "code",
   "execution_count": 162,
   "id": "52b46c1d",
   "metadata": {},
   "outputs": [],
   "source": [
    "cars_cut = cars_cut.drop_duplicates().reset_index(drop=True)"
   ]
  },
  {
   "cell_type": "markdown",
   "id": "08d2508d",
   "metadata": {},
   "source": [
    "### 'NumberOfPictures', 'PostalCode'\n",
    "\n",
    "Колонки 'NumberOfPictures' и 'PostalCode' не несут информации важной для пресказания, поэтому удалим их за ненадобностью."
   ]
  },
  {
   "cell_type": "code",
   "execution_count": 163,
   "id": "e6ddf56d",
   "metadata": {},
   "outputs": [],
   "source": [
    "cars_cut = cars_cut.drop(['NumberOfPictures','PostalCode' ], axis=1)"
   ]
  },
  {
   "cell_type": "code",
   "execution_count": 164,
   "id": "48b06697",
   "metadata": {},
   "outputs": [],
   "source": [
    "cars_cut[['Price',\n",
    "          'RegistrationYear',\n",
    "          'Power',\n",
    "          'Kilometer',\n",
    "          'RegistrationMonth']] = cars_cut[['Price',\n",
    "                                            'RegistrationYear',\n",
    "                                            'Power',\n",
    "                                            'Kilometer',\n",
    "                                            'RegistrationMonth']].astype('int32')"
   ]
  },
  {
   "cell_type": "markdown",
   "id": "493374e9",
   "metadata": {},
   "source": [
    "**Данные после предобработки**"
   ]
  },
  {
   "cell_type": "code",
   "execution_count": 165,
   "id": "9c68740c",
   "metadata": {
    "scrolled": false
   },
   "outputs": [
    {
     "name": "stdout",
     "output_type": "stream",
     "text": [
      "<class 'pandas.core.frame.DataFrame'>\n",
      "RangeIndex: 286331 entries, 0 to 286330\n",
      "Data columns (total 14 columns):\n",
      " #   Column             Non-Null Count   Dtype         \n",
      "---  ------             --------------   -----         \n",
      " 0   DateCrawled        286331 non-null  datetime64[ns]\n",
      " 1   Price              286331 non-null  int32         \n",
      " 2   VehicleType        286331 non-null  object        \n",
      " 3   RegistrationYear   286331 non-null  int32         \n",
      " 4   Gearbox            286331 non-null  object        \n",
      " 5   Power              286331 non-null  int32         \n",
      " 6   Model              286331 non-null  object        \n",
      " 7   Kilometer          286331 non-null  int32         \n",
      " 8   RegistrationMonth  286331 non-null  int32         \n",
      " 9   FuelType           286331 non-null  object        \n",
      " 10  Brand              286331 non-null  object        \n",
      " 11  NotRepaired        286331 non-null  object        \n",
      " 12  DateCreated        286331 non-null  datetime64[ns]\n",
      " 13  LastSeen           286331 non-null  datetime64[ns]\n",
      "dtypes: datetime64[ns](3), int32(5), object(6)\n",
      "memory usage: 25.1+ MB\n"
     ]
    }
   ],
   "source": [
    "cars_cut.info()"
   ]
  },
  {
   "cell_type": "markdown",
   "id": "4f677277",
   "metadata": {},
   "source": [
    "### Вывод\n",
    "\n",
    "Имеется исторические данные о проданых машинах. В данных есть информация о технические характеристики, комплектации и цены автомобилей.\n",
    "\n",
    "\n"
   ]
  },
  {
   "cell_type": "markdown",
   "id": "42e15987",
   "metadata": {},
   "source": [
    "## Обучение моделей"
   ]
  },
  {
   "cell_type": "markdown",
   "id": "88ca370d",
   "metadata": {},
   "source": [
    "Разделим данные на обучающую и тестовую выборки:"
   ]
  },
  {
   "cell_type": "code",
   "execution_count": 166,
   "id": "bab01d90",
   "metadata": {},
   "outputs": [],
   "source": [
    "# выделим тестовую выборку\n",
    "df_train, df_test = train_test_split(cars_cut, test_size=0.2, random_state=12345)\n",
    "\n",
    "features_test = df_test.drop(['Price', 'DateCrawled','DateCreated','LastSeen'], axis=1)\n",
    "target_test = df_test['Price']\n",
    "\n",
    "# выделим обучающую и валидационную выборки\n",
    "df_train, df_valid = train_test_split(df_train, test_size=0.25, random_state=12345)\n",
    "\n",
    "features_train = df_train.drop(['Price', 'DateCrawled','DateCreated','LastSeen'], axis=1)\n",
    "target_train = df_train['Price']\n",
    "\n",
    "features_valid = df_valid.drop(['Price', 'DateCrawled','DateCreated','LastSeen'], axis=1)\n",
    "target_valid = df_valid['Price']"
   ]
  },
  {
   "cell_type": "markdown",
   "id": "f2ed70d4",
   "metadata": {},
   "source": [
    "Выполним стандартизацию для численных признаков\n"
   ]
  },
  {
   "cell_type": "code",
   "execution_count": 167,
   "id": "04b90364",
   "metadata": {},
   "outputs": [
    {
     "data": {
      "text/html": [
       "<div>\n",
       "<style scoped>\n",
       "    .dataframe tbody tr th:only-of-type {\n",
       "        vertical-align: middle;\n",
       "    }\n",
       "\n",
       "    .dataframe tbody tr th {\n",
       "        vertical-align: top;\n",
       "    }\n",
       "\n",
       "    .dataframe thead th {\n",
       "        text-align: right;\n",
       "    }\n",
       "</style>\n",
       "<table border=\"1\" class=\"dataframe\">\n",
       "  <thead>\n",
       "    <tr style=\"text-align: right;\">\n",
       "      <th></th>\n",
       "      <th>VehicleType</th>\n",
       "      <th>RegistrationYear</th>\n",
       "      <th>Gearbox</th>\n",
       "      <th>Power</th>\n",
       "      <th>Model</th>\n",
       "      <th>Kilometer</th>\n",
       "      <th>RegistrationMonth</th>\n",
       "      <th>FuelType</th>\n",
       "      <th>Brand</th>\n",
       "      <th>NotRepaired</th>\n",
       "    </tr>\n",
       "  </thead>\n",
       "  <tbody>\n",
       "    <tr>\n",
       "      <th>176845</th>\n",
       "      <td>bus</td>\n",
       "      <td>0.387693</td>\n",
       "      <td>manual</td>\n",
       "      <td>0.520616</td>\n",
       "      <td>sharan</td>\n",
       "      <td>0.587985</td>\n",
       "      <td>0.001742</td>\n",
       "      <td>gasoline</td>\n",
       "      <td>volkswagen</td>\n",
       "      <td>no</td>\n",
       "    </tr>\n",
       "    <tr>\n",
       "      <th>180850</th>\n",
       "      <td>sedan</td>\n",
       "      <td>-0.726320</td>\n",
       "      <td>manual</td>\n",
       "      <td>-0.578681</td>\n",
       "      <td>golf</td>\n",
       "      <td>0.587985</td>\n",
       "      <td>1.397453</td>\n",
       "      <td>gasoline</td>\n",
       "      <td>volkswagen</td>\n",
       "      <td>unknown</td>\n",
       "    </tr>\n",
       "    <tr>\n",
       "      <th>238021</th>\n",
       "      <td>unspecified</td>\n",
       "      <td>2.138285</td>\n",
       "      <td>manual</td>\n",
       "      <td>-1.568047</td>\n",
       "      <td>polo</td>\n",
       "      <td>0.587985</td>\n",
       "      <td>-1.673112</td>\n",
       "      <td>gasoline</td>\n",
       "      <td>volkswagen</td>\n",
       "      <td>yes</td>\n",
       "    </tr>\n",
       "    <tr>\n",
       "      <th>97133</th>\n",
       "      <td>small</td>\n",
       "      <td>1.819996</td>\n",
       "      <td>manual</td>\n",
       "      <td>-1.238259</td>\n",
       "      <td>up</td>\n",
       "      <td>-3.396091</td>\n",
       "      <td>-0.277401</td>\n",
       "      <td>gasoline</td>\n",
       "      <td>volkswagen</td>\n",
       "      <td>no</td>\n",
       "    </tr>\n",
       "    <tr>\n",
       "      <th>92791</th>\n",
       "      <td>small</td>\n",
       "      <td>-0.726320</td>\n",
       "      <td>manual</td>\n",
       "      <td>-1.458118</td>\n",
       "      <td>lupo</td>\n",
       "      <td>0.587985</td>\n",
       "      <td>0.560026</td>\n",
       "      <td>gasoline</td>\n",
       "      <td>volkswagen</td>\n",
       "      <td>unknown</td>\n",
       "    </tr>\n",
       "  </tbody>\n",
       "</table>\n",
       "</div>"
      ],
      "text/plain": [
       "        VehicleType  RegistrationYear Gearbox     Power   Model  Kilometer  \\\n",
       "176845          bus          0.387693  manual  0.520616  sharan   0.587985   \n",
       "180850        sedan         -0.726320  manual -0.578681    golf   0.587985   \n",
       "238021  unspecified          2.138285  manual -1.568047    polo   0.587985   \n",
       "97133         small          1.819996  manual -1.238259      up  -3.396091   \n",
       "92791         small         -0.726320  manual -1.458118    lupo   0.587985   \n",
       "\n",
       "        RegistrationMonth  FuelType       Brand NotRepaired  \n",
       "176845           0.001742  gasoline  volkswagen          no  \n",
       "180850           1.397453  gasoline  volkswagen     unknown  \n",
       "238021          -1.673112  gasoline  volkswagen         yes  \n",
       "97133           -0.277401  gasoline  volkswagen          no  \n",
       "92791            0.560026  gasoline  volkswagen     unknown  "
      ]
     },
     "execution_count": 167,
     "metadata": {},
     "output_type": "execute_result"
    }
   ],
   "source": [
    "# Стандартизация численных признаков\n",
    "features_numeric = ['RegistrationYear',\n",
    "                    'Power',\n",
    "                    'Kilometer',\n",
    "                    'RegistrationMonth']\n",
    "\n",
    "scaler = StandardScaler()\n",
    "\n",
    "scaler.fit(features_train[features_numeric]) \n",
    "features_train[features_numeric] = scaler.transform(features_train[features_numeric])\n",
    "features_valid[features_numeric] = scaler.transform(features_valid[features_numeric])\n",
    "features_test[features_numeric] = scaler.transform(features_test[features_numeric])\n",
    "\n",
    "#pd.options.mode.chained_assignment = None\n",
    "features_test.head()"
   ]
  },
  {
   "cell_type": "code",
   "execution_count": 168,
   "id": "7febf63e",
   "metadata": {
    "scrolled": false
   },
   "outputs": [
    {
     "name": "stdout",
     "output_type": "stream",
     "text": [
      "Размер тестовой выборки:\n",
      "features_test: (57267, 10)\n",
      "target_test: (57267,)\n",
      "\n",
      "Размер валидационной выборки:\n",
      "features_valid: (57266, 10)\n",
      "target_valid: (57266,)\n",
      "\n",
      "Размер обучающей выборки:\n",
      "features_train: (171798, 10)\n",
      "target_train: (171798,)\n"
     ]
    }
   ],
   "source": [
    "# Проверка на соответсвие размеров выборок\n",
    "print('Размер тестовой выборки:')\n",
    "print('features_test:',features_test.shape)\n",
    "print('target_test:',target_test.shape)\n",
    "\n",
    "print()\n",
    "print('Размер валидационной выборки:')\n",
    "print('features_valid:',features_valid.shape)\n",
    "print('target_valid:',target_valid.shape)\n",
    "\n",
    "print()\n",
    "print('Размер обучающей выборки:')\n",
    "print('features_train:',features_train.shape)\n",
    "print('target_train:',target_train.shape)"
   ]
  },
  {
   "cell_type": "markdown",
   "id": "16228e94",
   "metadata": {},
   "source": [
    "Для дальнейшей работы категоральные признаки VehicleTyp', 'Gearbox', 'Model', 'Brand', 'FuelType', 'NotRepaired' необходимо закодировать.\n",
    "\n",
    "- Для линейной регрессии используем One-Hot Encoding\n",
    "- Для модели решающего дерева используем Ordinal Encoding\n",
    "- Для LightGBM используем встроенные возможности библиотеки"
   ]
  },
  {
   "cell_type": "markdown",
   "id": "d42bdd83",
   "metadata": {},
   "source": [
    "**One-Hot Encoding**\n",
    "\n",
    "Переведем колонки 'VehicleTyp', 'Gearbox', 'Model', 'Brand', 'FuelType', 'NotRepaired' типа object к числовому типу int (1/0).\n",
    "\n",
    "Чтобы избежать дамми ловушки используем аргумент `drop_first`=True."
   ]
  },
  {
   "cell_type": "code",
   "execution_count": 169,
   "id": "abcdba6a",
   "metadata": {
    "scrolled": true
   },
   "outputs": [
    {
     "data": {
      "text/html": [
       "<div>\n",
       "<style scoped>\n",
       "    .dataframe tbody tr th:only-of-type {\n",
       "        vertical-align: middle;\n",
       "    }\n",
       "\n",
       "    .dataframe tbody tr th {\n",
       "        vertical-align: top;\n",
       "    }\n",
       "\n",
       "    .dataframe thead th {\n",
       "        text-align: right;\n",
       "    }\n",
       "</style>\n",
       "<table border=\"1\" class=\"dataframe\">\n",
       "  <thead>\n",
       "    <tr style=\"text-align: right;\">\n",
       "      <th></th>\n",
       "      <th>RegistrationYear</th>\n",
       "      <th>Power</th>\n",
       "      <th>Kilometer</th>\n",
       "      <th>RegistrationMonth</th>\n",
       "      <th>VehicleType_convertible</th>\n",
       "      <th>VehicleType_coupe</th>\n",
       "      <th>VehicleType_other</th>\n",
       "      <th>VehicleType_sedan</th>\n",
       "      <th>VehicleType_small</th>\n",
       "      <th>VehicleType_suv</th>\n",
       "      <th>...</th>\n",
       "      <th>Brand_trabant</th>\n",
       "      <th>Brand_volkswagen</th>\n",
       "      <th>Brand_volvo</th>\n",
       "      <th>FuelType_electric</th>\n",
       "      <th>FuelType_gasoline</th>\n",
       "      <th>FuelType_hybrid</th>\n",
       "      <th>FuelType_lpg</th>\n",
       "      <th>FuelType_other</th>\n",
       "      <th>NotRepaired_unknown</th>\n",
       "      <th>NotRepaired_yes</th>\n",
       "    </tr>\n",
       "  </thead>\n",
       "  <tbody>\n",
       "    <tr>\n",
       "      <th>176845</th>\n",
       "      <td>0.387693</td>\n",
       "      <td>0.520616</td>\n",
       "      <td>0.587985</td>\n",
       "      <td>0.001742</td>\n",
       "      <td>0</td>\n",
       "      <td>0</td>\n",
       "      <td>0</td>\n",
       "      <td>0</td>\n",
       "      <td>0</td>\n",
       "      <td>0</td>\n",
       "      <td>...</td>\n",
       "      <td>0</td>\n",
       "      <td>1</td>\n",
       "      <td>0</td>\n",
       "      <td>0</td>\n",
       "      <td>1</td>\n",
       "      <td>0</td>\n",
       "      <td>0</td>\n",
       "      <td>0</td>\n",
       "      <td>0</td>\n",
       "      <td>0</td>\n",
       "    </tr>\n",
       "    <tr>\n",
       "      <th>180850</th>\n",
       "      <td>-0.726320</td>\n",
       "      <td>-0.578681</td>\n",
       "      <td>0.587985</td>\n",
       "      <td>1.397453</td>\n",
       "      <td>0</td>\n",
       "      <td>0</td>\n",
       "      <td>0</td>\n",
       "      <td>1</td>\n",
       "      <td>0</td>\n",
       "      <td>0</td>\n",
       "      <td>...</td>\n",
       "      <td>0</td>\n",
       "      <td>1</td>\n",
       "      <td>0</td>\n",
       "      <td>0</td>\n",
       "      <td>1</td>\n",
       "      <td>0</td>\n",
       "      <td>0</td>\n",
       "      <td>0</td>\n",
       "      <td>1</td>\n",
       "      <td>0</td>\n",
       "    </tr>\n",
       "    <tr>\n",
       "      <th>238021</th>\n",
       "      <td>2.138285</td>\n",
       "      <td>-1.568047</td>\n",
       "      <td>0.587985</td>\n",
       "      <td>-1.673112</td>\n",
       "      <td>0</td>\n",
       "      <td>0</td>\n",
       "      <td>0</td>\n",
       "      <td>0</td>\n",
       "      <td>0</td>\n",
       "      <td>0</td>\n",
       "      <td>...</td>\n",
       "      <td>0</td>\n",
       "      <td>1</td>\n",
       "      <td>0</td>\n",
       "      <td>0</td>\n",
       "      <td>1</td>\n",
       "      <td>0</td>\n",
       "      <td>0</td>\n",
       "      <td>0</td>\n",
       "      <td>0</td>\n",
       "      <td>1</td>\n",
       "    </tr>\n",
       "  </tbody>\n",
       "</table>\n",
       "<p>3 rows × 303 columns</p>\n",
       "</div>"
      ],
      "text/plain": [
       "        RegistrationYear     Power  Kilometer  RegistrationMonth  \\\n",
       "176845          0.387693  0.520616   0.587985           0.001742   \n",
       "180850         -0.726320 -0.578681   0.587985           1.397453   \n",
       "238021          2.138285 -1.568047   0.587985          -1.673112   \n",
       "\n",
       "        VehicleType_convertible  VehicleType_coupe  VehicleType_other  \\\n",
       "176845                        0                  0                  0   \n",
       "180850                        0                  0                  0   \n",
       "238021                        0                  0                  0   \n",
       "\n",
       "        VehicleType_sedan  VehicleType_small  VehicleType_suv  ...  \\\n",
       "176845                  0                  0                0  ...   \n",
       "180850                  1                  0                0  ...   \n",
       "238021                  0                  0                0  ...   \n",
       "\n",
       "        Brand_trabant  Brand_volkswagen  Brand_volvo  FuelType_electric  \\\n",
       "176845              0                 1            0                  0   \n",
       "180850              0                 1            0                  0   \n",
       "238021              0                 1            0                  0   \n",
       "\n",
       "        FuelType_gasoline  FuelType_hybrid  FuelType_lpg  FuelType_other  \\\n",
       "176845                  1                0             0               0   \n",
       "180850                  1                0             0               0   \n",
       "238021                  1                0             0               0   \n",
       "\n",
       "        NotRepaired_unknown  NotRepaired_yes  \n",
       "176845                    0                0  \n",
       "180850                    1                0  \n",
       "238021                    0                1  \n",
       "\n",
       "[3 rows x 303 columns]"
      ]
     },
     "execution_count": 169,
     "metadata": {},
     "output_type": "execute_result"
    }
   ],
   "source": [
    "# кодирование данных\n",
    "object_type = ['VehicleType', 'Gearbox', 'Model', 'Brand', 'FuelType', 'NotRepaired']\n",
    "features_train_ohe = pd.get_dummies(features_train,columns=object_type, drop_first=True)\n",
    "features_valid_ohe = pd.get_dummies(features_valid,columns=object_type, drop_first=True)\n",
    "features_test_ohe = pd.get_dummies(features_test,columns=object_type, drop_first=True)\n",
    "\n",
    "features_test_ohe.head(3)"
   ]
  },
  {
   "cell_type": "code",
   "execution_count": 170,
   "id": "ad699f16",
   "metadata": {},
   "outputs": [
    {
     "name": "stdout",
     "output_type": "stream",
     "text": [
      "<class 'pandas.core.frame.DataFrame'>\n",
      "Int64Index: 171798 entries, 142125 to 24988\n",
      "Columns: 305 entries, RegistrationYear to NotRepaired_yes\n",
      "dtypes: float64(4), uint8(301)\n",
      "memory usage: 55.9 MB\n"
     ]
    }
   ],
   "source": [
    "features_train_ohe.info()"
   ]
  },
  {
   "cell_type": "code",
   "execution_count": 171,
   "id": "30e29fda",
   "metadata": {},
   "outputs": [
    {
     "name": "stdout",
     "output_type": "stream",
     "text": [
      "<class 'pandas.core.frame.DataFrame'>\n",
      "Int64Index: 57266 entries, 130207 to 39104\n",
      "Columns: 303 entries, RegistrationYear to NotRepaired_yes\n",
      "dtypes: float64(4), uint8(299)\n",
      "memory usage: 18.5 MB\n"
     ]
    }
   ],
   "source": [
    "features_valid_ohe.info()"
   ]
  },
  {
   "cell_type": "code",
   "execution_count": 172,
   "id": "8ef3f60f",
   "metadata": {},
   "outputs": [
    {
     "name": "stdout",
     "output_type": "stream",
     "text": [
      "<class 'pandas.core.frame.DataFrame'>\n",
      "Int64Index: 57267 entries, 176845 to 112147\n",
      "Columns: 303 entries, RegistrationYear to NotRepaired_yes\n",
      "dtypes: float64(4), uint8(299)\n",
      "memory usage: 18.5 MB\n"
     ]
    }
   ],
   "source": [
    "features_test_ohe.info()"
   ]
  },
  {
   "cell_type": "code",
   "execution_count": 173,
   "id": "177c0987",
   "metadata": {},
   "outputs": [
    {
     "name": "stdout",
     "output_type": "stream",
     "text": [
      "<class 'pandas.core.frame.DataFrame'>\n",
      "Int64Index: 57267 entries, 176845 to 112147\n",
      "Columns: 305 entries, RegistrationYear to Model_m_reihe\n",
      "dtypes: float64(4), uint8(301)\n",
      "memory usage: 18.6 MB\n"
     ]
    }
   ],
   "source": [
    "zero_columns = list(set(features_train_ohe.columns) - set(features_test_ohe.columns))\n",
    "features_test_ohe[zero_columns] = 0\n",
    "features_test_ohe[zero_columns] = features_test_ohe[zero_columns].astype(np.uint8)\n",
    "\n",
    "features_test_ohe.info()"
   ]
  },
  {
   "cell_type": "code",
   "execution_count": 174,
   "id": "9ae3556f",
   "metadata": {},
   "outputs": [
    {
     "name": "stdout",
     "output_type": "stream",
     "text": [
      "<class 'pandas.core.frame.DataFrame'>\n",
      "Int64Index: 57266 entries, 130207 to 39104\n",
      "Columns: 305 entries, RegistrationYear to Model_samara\n",
      "dtypes: float64(4), uint8(301)\n",
      "memory usage: 18.6 MB\n"
     ]
    }
   ],
   "source": [
    "zero_columns = list(set(features_train_ohe.columns) - set(features_valid_ohe.columns))\n",
    "features_valid_ohe[zero_columns] = 0\n",
    "features_valid_ohe[zero_columns] = features_valid_ohe[zero_columns].astype(np.uint8)\n",
    "\n",
    "features_valid_ohe.info()"
   ]
  },
  {
   "cell_type": "markdown",
   "id": "aa0c8e9d",
   "metadata": {},
   "source": [
    "**Ordinal Encoding**"
   ]
  },
  {
   "cell_type": "code",
   "execution_count": 175,
   "id": "7c97c9b4",
   "metadata": {},
   "outputs": [],
   "source": [
    "encoder = OrdinalEncoder()\n",
    "encoder.fit(features_train[object_type])\n",
    "\n",
    "features_train_ordinal = features_train\n",
    "features_valid_ordinal = features_valid\n",
    "features_test_ordinal =features_test\n",
    "\n",
    "features_train_ordinal[object_type] = encoder.transform(features_train[object_type])\n",
    "features_valid_ordinal[object_type] = encoder.transform(features_valid[object_type])\n",
    "features_test_ordinal[object_type] = encoder.transform(features_test[object_type])"
   ]
  },
  {
   "cell_type": "code",
   "execution_count": 176,
   "id": "b17cfc44",
   "metadata": {},
   "outputs": [
    {
     "data": {
      "text/html": [
       "<div>\n",
       "<style scoped>\n",
       "    .dataframe tbody tr th:only-of-type {\n",
       "        vertical-align: middle;\n",
       "    }\n",
       "\n",
       "    .dataframe tbody tr th {\n",
       "        vertical-align: top;\n",
       "    }\n",
       "\n",
       "    .dataframe thead th {\n",
       "        text-align: right;\n",
       "    }\n",
       "</style>\n",
       "<table border=\"1\" class=\"dataframe\">\n",
       "  <thead>\n",
       "    <tr style=\"text-align: right;\">\n",
       "      <th></th>\n",
       "      <th>VehicleType</th>\n",
       "      <th>RegistrationYear</th>\n",
       "      <th>Gearbox</th>\n",
       "      <th>Power</th>\n",
       "      <th>Model</th>\n",
       "      <th>Kilometer</th>\n",
       "      <th>RegistrationMonth</th>\n",
       "      <th>FuelType</th>\n",
       "      <th>Brand</th>\n",
       "      <th>NotRepaired</th>\n",
       "    </tr>\n",
       "  </thead>\n",
       "  <tbody>\n",
       "    <tr>\n",
       "      <th>142125</th>\n",
       "      <td>4.0</td>\n",
       "      <td>0.069404</td>\n",
       "      <td>1.0</td>\n",
       "      <td>-0.248892</td>\n",
       "      <td>42.0</td>\n",
       "      <td>0.587985</td>\n",
       "      <td>1.118311</td>\n",
       "      <td>2.0</td>\n",
       "      <td>24.0</td>\n",
       "      <td>0.0</td>\n",
       "    </tr>\n",
       "    <tr>\n",
       "      <th>265825</th>\n",
       "      <td>5.0</td>\n",
       "      <td>1.183417</td>\n",
       "      <td>0.0</td>\n",
       "      <td>-0.908470</td>\n",
       "      <td>224.0</td>\n",
       "      <td>-2.983945</td>\n",
       "      <td>1.118311</td>\n",
       "      <td>2.0</td>\n",
       "      <td>27.0</td>\n",
       "      <td>0.0</td>\n",
       "    </tr>\n",
       "    <tr>\n",
       "      <th>82160</th>\n",
       "      <td>3.0</td>\n",
       "      <td>-0.089741</td>\n",
       "      <td>1.0</td>\n",
       "      <td>0.080897</td>\n",
       "      <td>166.0</td>\n",
       "      <td>0.587985</td>\n",
       "      <td>1.397453</td>\n",
       "      <td>2.0</td>\n",
       "      <td>27.0</td>\n",
       "      <td>2.0</td>\n",
       "    </tr>\n",
       "    <tr>\n",
       "      <th>179344</th>\n",
       "      <td>5.0</td>\n",
       "      <td>1.183417</td>\n",
       "      <td>1.0</td>\n",
       "      <td>-1.040385</td>\n",
       "      <td>128.0</td>\n",
       "      <td>-2.159654</td>\n",
       "      <td>1.676596</td>\n",
       "      <td>2.0</td>\n",
       "      <td>10.0</td>\n",
       "      <td>0.0</td>\n",
       "    </tr>\n",
       "    <tr>\n",
       "      <th>169131</th>\n",
       "      <td>8.0</td>\n",
       "      <td>0.705983</td>\n",
       "      <td>0.0</td>\n",
       "      <td>1.619912</td>\n",
       "      <td>29.0</td>\n",
       "      <td>0.587985</td>\n",
       "      <td>0.560026</td>\n",
       "      <td>2.0</td>\n",
       "      <td>1.0</td>\n",
       "      <td>0.0</td>\n",
       "    </tr>\n",
       "  </tbody>\n",
       "</table>\n",
       "</div>"
      ],
      "text/plain": [
       "        VehicleType  RegistrationYear  Gearbox     Power  Model  Kilometer  \\\n",
       "142125          4.0          0.069404      1.0 -0.248892   42.0   0.587985   \n",
       "265825          5.0          1.183417      0.0 -0.908470  224.0  -2.983945   \n",
       "82160           3.0         -0.089741      1.0  0.080897  166.0   0.587985   \n",
       "179344          5.0          1.183417      1.0 -1.040385  128.0  -2.159654   \n",
       "169131          8.0          0.705983      0.0  1.619912   29.0   0.587985   \n",
       "\n",
       "        RegistrationMonth  FuelType  Brand  NotRepaired  \n",
       "142125           1.118311       2.0   24.0          0.0  \n",
       "265825           1.118311       2.0   27.0          0.0  \n",
       "82160            1.397453       2.0   27.0          2.0  \n",
       "179344           1.676596       2.0   10.0          0.0  \n",
       "169131           0.560026       2.0    1.0          0.0  "
      ]
     },
     "execution_count": 176,
     "metadata": {},
     "output_type": "execute_result"
    }
   ],
   "source": [
    "features_train_ordinal.head()"
   ]
  },
  {
   "cell_type": "markdown",
   "id": "6bfe6e28",
   "metadata": {},
   "source": [
    "**кодирование для LightGBM**"
   ]
  },
  {
   "cell_type": "code",
   "execution_count": 177,
   "id": "c382a383",
   "metadata": {},
   "outputs": [
    {
     "name": "stdout",
     "output_type": "stream",
     "text": [
      "<class 'pandas.core.frame.DataFrame'>\n",
      "Int64Index: 171798 entries, 142125 to 24988\n",
      "Data columns (total 10 columns):\n",
      " #   Column             Non-Null Count   Dtype   \n",
      "---  ------             --------------   -----   \n",
      " 0   VehicleType        171798 non-null  category\n",
      " 1   RegistrationYear   171798 non-null  float64 \n",
      " 2   Gearbox            171798 non-null  category\n",
      " 3   Power              171798 non-null  float64 \n",
      " 4   Model              171798 non-null  category\n",
      " 5   Kilometer          171798 non-null  float64 \n",
      " 6   RegistrationMonth  171798 non-null  float64 \n",
      " 7   FuelType           171798 non-null  category\n",
      " 8   Brand              171798 non-null  category\n",
      " 9   NotRepaired        171798 non-null  category\n",
      "dtypes: category(6), float64(4)\n",
      "memory usage: 7.7 MB\n"
     ]
    }
   ],
   "source": [
    "features_train_gbm = features_train\n",
    "features_valid_gbm = features_valid\n",
    "features_test_gbm = features_test\n",
    "\n",
    "features_train_gbm[object_type] = features_train[object_type].astype('category')\n",
    "features_valid_gbm[object_type] = features_valid[object_type].astype('category')\n",
    "features_test_gbm[object_type] = features_test[object_type].astype('category')\n",
    "\n",
    "features_train.info()"
   ]
  },
  {
   "cell_type": "code",
   "execution_count": null,
   "id": "2151cfd8",
   "metadata": {},
   "outputs": [],
   "source": []
  },
  {
   "cell_type": "markdown",
   "id": "3461838f",
   "metadata": {},
   "source": [
    "### Обучение и выбор разных моделей"
   ]
  },
  {
   "cell_type": "code",
   "execution_count": 179,
   "id": "4b55c1a4",
   "metadata": {},
   "outputs": [],
   "source": [
    "# DecisionTreeRegressor\n",
    "def best_papameters_tree(features_train,target_train,features_valid,target_valid):\n",
    "    best_model_tree = None\n",
    "    best_score_tree = 1_000_000\n",
    "    best_depth_tree = 0\n",
    "    for depth in range(15, 18):\n",
    "        model_tree = DecisionTreeRegressor(random_state=12345, max_depth=depth)\n",
    "        model_tree.fit(features_train,target_train)\n",
    "        prediction_tree = model_tree.predict(features_valid)\n",
    "        score_tree = mean_squared_error(target_valid,prediction_tree,squared=False)\n",
    "        \n",
    "        if score_tree < best_score_tree:\n",
    "            best_model_tree = model_tree\n",
    "            best_score_tree = score_tree\n",
    "            best_depth_tree = depth\n",
    "    return best_depth_tree"
   ]
  },
  {
   "cell_type": "code",
   "execution_count": 180,
   "id": "0d24d3d1",
   "metadata": {},
   "outputs": [],
   "source": [
    "best_depth_tree = best_papameters_tree(features_train_ordinal,\n",
    "                                       target_train,\n",
    "                                       features_valid_ordinal,\n",
    "                                       target_valid)"
   ]
  },
  {
   "cell_type": "code",
   "execution_count": 181,
   "id": "fc038356",
   "metadata": {},
   "outputs": [
    {
     "name": "stdout",
     "output_type": "stream",
     "text": [
      "CPU times: user 471 ms, sys: 1.66 ms, total: 472 ms\n",
      "Wall time: 476 ms\n"
     ]
    },
    {
     "data": {
      "text/plain": [
       "DecisionTreeRegressor(max_depth=15, random_state=12345)"
      ]
     },
     "execution_count": 181,
     "metadata": {},
     "output_type": "execute_result"
    }
   ],
   "source": [
    "%%time\n",
    "model_tree = DecisionTreeRegressor(random_state=12345, max_depth=best_depth_tree)\n",
    "model_tree.fit(features_train_ordinal,target_train)"
   ]
  },
  {
   "cell_type": "code",
   "execution_count": 182,
   "id": "858143d2",
   "metadata": {},
   "outputs": [
    {
     "name": "stdout",
     "output_type": "stream",
     "text": [
      "CPU times: user 20 ms, sys: 133 µs, total: 20.2 ms\n",
      "Wall time: 18.8 ms\n"
     ]
    }
   ],
   "source": [
    "%%time\n",
    "prediction_tree = model_tree.predict(features_valid_ordinal)"
   ]
  },
  {
   "cell_type": "code",
   "execution_count": 183,
   "id": "9901fedd",
   "metadata": {},
   "outputs": [],
   "source": [
    "score_tree = mean_squared_error(target_valid,prediction_tree,squared=False)"
   ]
  },
  {
   "cell_type": "code",
   "execution_count": 184,
   "id": "9f1498e0",
   "metadata": {},
   "outputs": [],
   "source": [
    "prediction_tree_test = model_tree.predict(features_test_ordinal)\n",
    "score_tree_test = mean_squared_error(target_test,prediction_tree_test,squared=False)"
   ]
  },
  {
   "cell_type": "code",
   "execution_count": 185,
   "id": "2e2e33e9",
   "metadata": {},
   "outputs": [
    {
     "name": "stdout",
     "output_type": "stream",
     "text": [
      "CPU times: user 11.6 s, sys: 13.6 s, total: 25.2 s\n",
      "Wall time: 25.2 s\n"
     ]
    },
    {
     "data": {
      "text/plain": [
       "LinearRegression()"
      ]
     },
     "execution_count": 185,
     "metadata": {},
     "output_type": "execute_result"
    }
   ],
   "source": [
    "%%time\n",
    "# LinearRegression\n",
    "model_lin = LinearRegression()\n",
    "model_lin.fit(features_train_ohe,target_train)"
   ]
  },
  {
   "cell_type": "code",
   "execution_count": 186,
   "id": "8868519e",
   "metadata": {},
   "outputs": [
    {
     "name": "stdout",
     "output_type": "stream",
     "text": [
      "CPU times: user 58.1 ms, sys: 69.6 ms, total: 128 ms\n",
      "Wall time: 114 ms\n"
     ]
    }
   ],
   "source": [
    "%%time\n",
    "prediction_lin = model_lin.predict(features_valid_ohe)"
   ]
  },
  {
   "cell_type": "code",
   "execution_count": null,
   "id": "c52095b6",
   "metadata": {},
   "outputs": [],
   "source": []
  },
  {
   "cell_type": "code",
   "execution_count": 187,
   "id": "039a91c7",
   "metadata": {},
   "outputs": [],
   "source": [
    "score_lin = mean_squared_error(target_valid,prediction_lin,squared=False)"
   ]
  },
  {
   "cell_type": "code",
   "execution_count": 188,
   "id": "de9207d0",
   "metadata": {},
   "outputs": [],
   "source": [
    "prediction_lin_test = model_lin.predict(features_test_ohe)\n",
    "score_lin_test = mean_squared_error(target_test,prediction_lin_test,squared=False)"
   ]
  },
  {
   "cell_type": "code",
   "execution_count": 189,
   "id": "37385545",
   "metadata": {},
   "outputs": [],
   "source": [
    "# LightGBMRegressor\n",
    "def best_papameters_gbm(features_train,target_train,features_valid,target_valid):\n",
    "    best_model_gbm = None\n",
    "    best_score_gbm = 1_000_000\n",
    "    best_depth_gbm = 0\n",
    "    best_est_gbm = 0\n",
    "    for est in range(27,30,1):\n",
    "        print('est = ', est)\n",
    "        for depth in range (9, 12,1):\n",
    "            print('depth =', depth)\n",
    "            model_gbm = LGBMRegressor(random_state=12345, n_estimators=est,max_depth=depth)\n",
    "            model_gbm.fit(features_train,target_train)\n",
    "            predictions_gbm = model_gbm.predict(features_valid)\n",
    "            score_gbm = mean_squared_error(target_valid,predictions_gbm,squared=False)\n",
    "            if score_gbm < best_score_gbm:\n",
    "                best_model_gbm = model_gbm\n",
    "                best_score_gbm = score_gbm\n",
    "                best_depth_gbm = depth\n",
    "                best_est_gbm = est\n",
    "    return best_depth_gbm,best_est_gbm"
   ]
  },
  {
   "cell_type": "code",
   "execution_count": 190,
   "id": "5d840aba",
   "metadata": {},
   "outputs": [
    {
     "name": "stdout",
     "output_type": "stream",
     "text": [
      "est =  27\n",
      "depth = 9\n",
      "depth = 10\n",
      "depth = 11\n",
      "est =  28\n",
      "depth = 9\n",
      "depth = 10\n",
      "depth = 11\n",
      "est =  29\n",
      "depth = 9\n",
      "depth = 10\n",
      "depth = 11\n"
     ]
    }
   ],
   "source": [
    "best_depth_gbm,best_est_gbm = best_papameters_gbm(features_train,target_train,features_valid,target_valid)"
   ]
  },
  {
   "cell_type": "code",
   "execution_count": 191,
   "id": "7b4dedba",
   "metadata": {},
   "outputs": [
    {
     "name": "stdout",
     "output_type": "stream",
     "text": [
      "CPU times: user 16.2 s, sys: 16.5 ms, total: 16.2 s\n",
      "Wall time: 16.4 s\n"
     ]
    },
    {
     "data": {
      "text/plain": [
       "LGBMRegressor(max_depth=9, n_estimators=29, random_state=12345)"
      ]
     },
     "execution_count": 191,
     "metadata": {},
     "output_type": "execute_result"
    }
   ],
   "source": [
    "%%time\n",
    "model_gbm = LGBMRegressor(max_depth=best_depth_gbm, \n",
    "                           n_estimators=best_est_gbm,\n",
    "                           random_state=12345)\n",
    "model_gbm.fit(features_train,target_train)"
   ]
  },
  {
   "cell_type": "code",
   "execution_count": 192,
   "id": "72b609f2",
   "metadata": {},
   "outputs": [
    {
     "name": "stdout",
     "output_type": "stream",
     "text": [
      "CPU times: user 184 ms, sys: 0 ns, total: 184 ms\n",
      "Wall time: 188 ms\n"
     ]
    }
   ],
   "source": [
    "%%time\n",
    "prediction_gbm = model_gbm.predict(features_valid)"
   ]
  },
  {
   "cell_type": "code",
   "execution_count": 193,
   "id": "9a334b6e",
   "metadata": {},
   "outputs": [],
   "source": [
    "score_gbm = mean_squared_error(target_valid,prediction_gbm,squared=False)"
   ]
  },
  {
   "cell_type": "code",
   "execution_count": 194,
   "id": "553f3945",
   "metadata": {},
   "outputs": [],
   "source": [
    "prediction_gbm_test = model_gbm.predict(features_test)\n",
    "score_gbm_test = mean_squared_error(target_test,prediction_gbm_test,squared=False)"
   ]
  },
  {
   "cell_type": "code",
   "execution_count": 195,
   "id": "7c7ffa2f",
   "metadata": {},
   "outputs": [
    {
     "name": "stdout",
     "output_type": "stream",
     "text": [
      "Оценка моделей на валидационной выборке:\n",
      "\"дерево решений\":\t 1841.0312869048212 Глубина дерева:\t 15\n",
      "\"линейная регрессия\":\t 3122.5993331721843\n",
      "\"LightGBM\":\t\t 1696.4449962289448 Количество деревьев: 29 Максимальная глубина:\t 9\n"
     ]
    }
   ],
   "source": [
    "print(\"Оценка моделей на валидационной выборке:\")\n",
    "\n",
    "print(\"\\\"дерево решений\\\":\\t\", score_tree, \n",
    "      \"Глубина дерева:\\t\", best_depth_tree)\n",
    "\n",
    "print(\"\\\"линейная регрессия\\\":\\t\", score_lin)\n",
    "\n",
    "print(\"\\\"LightGBM\\\":\\t\\t\", score_gbm, \n",
    "      \"Количество деревьев:\", best_est_gbm, \n",
    "      \"Максимальная глубина:\\t\", best_depth_gbm)"
   ]
  },
  {
   "cell_type": "code",
   "execution_count": null,
   "id": "1aab4355",
   "metadata": {},
   "outputs": [],
   "source": []
  },
  {
   "cell_type": "markdown",
   "id": "1c03acb4",
   "metadata": {},
   "source": [
    "## Анализ моделей"
   ]
  },
  {
   "cell_type": "code",
   "execution_count": 196,
   "id": "9e0a0cf6",
   "metadata": {
    "scrolled": true
   },
   "outputs": [
    {
     "data": {
      "text/html": [
       "<div>\n",
       "<style scoped>\n",
       "    .dataframe tbody tr th:only-of-type {\n",
       "        vertical-align: middle;\n",
       "    }\n",
       "\n",
       "    .dataframe tbody tr th {\n",
       "        vertical-align: top;\n",
       "    }\n",
       "\n",
       "    .dataframe thead th {\n",
       "        text-align: right;\n",
       "    }\n",
       "</style>\n",
       "<table border=\"1\" class=\"dataframe\">\n",
       "  <thead>\n",
       "    <tr style=\"text-align: right;\">\n",
       "      <th>model</th>\n",
       "      <th>desidion_tree</th>\n",
       "      <th>linear_regression</th>\n",
       "      <th>light_gbm</th>\n",
       "    </tr>\n",
       "  </thead>\n",
       "  <tbody>\n",
       "    <tr>\n",
       "      <th>time to learn, s</th>\n",
       "      <td>0.49</td>\n",
       "      <td>29.9</td>\n",
       "      <td>16.5</td>\n",
       "    </tr>\n",
       "    <tr>\n",
       "      <th>time to predict, ms</th>\n",
       "      <td>15.70</td>\n",
       "      <td>134.0</td>\n",
       "      <td>193.0</td>\n",
       "    </tr>\n",
       "  </tbody>\n",
       "</table>\n",
       "</div>"
      ],
      "text/plain": [
       "model                desidion_tree  linear_regression  light_gbm\n",
       "time to learn, s              0.49               29.9       16.5\n",
       "time to predict, ms          15.70              134.0      193.0"
      ]
     },
     "metadata": {},
     "output_type": "display_data"
    },
    {
     "data": {
      "text/html": [
       "<div>\n",
       "<style scoped>\n",
       "    .dataframe tbody tr th:only-of-type {\n",
       "        vertical-align: middle;\n",
       "    }\n",
       "\n",
       "    .dataframe tbody tr th {\n",
       "        vertical-align: top;\n",
       "    }\n",
       "\n",
       "    .dataframe thead th {\n",
       "        text-align: right;\n",
       "    }\n",
       "</style>\n",
       "<table border=\"1\" class=\"dataframe\">\n",
       "  <thead>\n",
       "    <tr style=\"text-align: right;\">\n",
       "      <th>model</th>\n",
       "      <th>desidion_tree</th>\n",
       "      <th>linear_regression</th>\n",
       "      <th>light_gbm</th>\n",
       "    </tr>\n",
       "  </thead>\n",
       "  <tbody>\n",
       "    <tr>\n",
       "      <th>score_valid</th>\n",
       "      <td>1841.031287</td>\n",
       "      <td>3122.599333</td>\n",
       "      <td>1696.444996</td>\n",
       "    </tr>\n",
       "    <tr>\n",
       "      <th>score_test</th>\n",
       "      <td>1795.778990</td>\n",
       "      <td>3147.037267</td>\n",
       "      <td>1670.762376</td>\n",
       "    </tr>\n",
       "  </tbody>\n",
       "</table>\n",
       "</div>"
      ],
      "text/plain": [
       "model        desidion_tree  linear_regression    light_gbm\n",
       "score_valid    1841.031287        3122.599333  1696.444996\n",
       "score_test     1795.778990        3147.037267  1670.762376"
      ]
     },
     "execution_count": 196,
     "metadata": {},
     "output_type": "execute_result"
    }
   ],
   "source": [
    "#time_table\n",
    "time_tree_learn = 0.49\n",
    "time_lin_learn = 29.9\n",
    "time_gbm_learn = 16.5\n",
    "\n",
    "time_tree_predict = 15.7\n",
    "time_lin_predict = 134\n",
    "time_gbm_predict = 193\n",
    "\n",
    "time_table = {\n",
    "    'model':['desidion_tree', 'linear_regression', 'light_gbm'],\n",
    "    'time to learn, s' :[time_tree_learn, time_lin_learn, time_gbm_learn],\n",
    "    'time to predict, ms' :[time_tree_predict, time_lin_predict, time_gbm_predict]\n",
    "}\n",
    "\n",
    "df_time_table = pd.DataFrame(time_table)\n",
    "\n",
    "df_time_table.set_index('model',inplace=True)\n",
    "df_time_table = df_time_table.transpose()\n",
    "\n",
    "display(df_time_table)\n",
    "\n",
    "\n",
    "\n",
    "#score_tabel\n",
    "score_table = {\n",
    "    'model':['desidion_tree', 'linear_regression', 'light_gbm'],\n",
    "    'score_valid':[score_tree, score_lin, score_gbm],\n",
    "    'score_test':[score_tree_test, score_lin_test, score_gbm_test]\n",
    "}\n",
    "\n",
    "df_score_table = pd.DataFrame(score_table)\n",
    "\n",
    "df_score_table.set_index('model',inplace=True)\n",
    "df_score_table = df_score_table.transpose()\n",
    "\n",
    "df_score_table"
   ]
  },
  {
   "cell_type": "code",
   "execution_count": 197,
   "id": "f2f86587",
   "metadata": {},
   "outputs": [
    {
     "data": {
      "image/png": "[encoded data removed]",
      "text/plain": [
       "<Figure size 576x360 with 1 Axes>"
      ]
     },
     "metadata": {
      "needs_background": "light"
     },
     "output_type": "display_data"
    }
   ],
   "source": [
    "# устанавливаем некоторые параметры рисунка\n",
    "plt.figure(figsize=[8, 5])\n",
    "wd = 0.3\n",
    "x_pos = np.arange(1, 2*len(df_score_table), 2)\n",
    "\n",
    "# Рисуем столбчатую диаграму\n",
    "plt.bar(x_pos, df_score_table['desidion_tree'], color='r', width=wd, edgecolor='k',\n",
    "        label='desidion_tree')\n",
    "plt.bar(x_pos+wd, df_score_table['linear_regression'], color='y', width=wd, edgecolor='k', \n",
    "        label='linear_regression')\n",
    "plt.bar(x_pos+(wd*2), df_score_table['light_gbm'], color='c', width=wd, \n",
    "        edgecolor='k', label='light_gbm')\n",
    "\n",
    "# Добавляем подписи\n",
    "plt.xticks(x_pos+wd, df_score_table.index.values, fontsize=15)\n",
    "plt.yticks(fontsize=15)\n",
    "plt.title('RMSE мерика моделей', fontsize=20)\n",
    "plt.xlabel('Выборки', fontsize=17)\n",
    "plt.ylabel('RMSE', fontsize=17)\n",
    "\n",
    "plt.legend(loc='upper center', fontsize=15)\n",
    "plt.show()"
   ]
  },
  {
   "cell_type": "code",
   "execution_count": null,
   "id": "620becbf",
   "metadata": {},
   "outputs": [],
   "source": []
  },
  {
   "cell_type": "code",
   "execution_count": 198,
   "id": "b361579c",
   "metadata": {},
   "outputs": [
    {
     "data": {
      "image/png": "[encoded data removed]",
      "text/plain": [
       "<Figure size 576x360 with 1 Axes>"
      ]
     },
     "metadata": {
      "needs_background": "light"
     },
     "output_type": "display_data"
    }
   ],
   "source": [
    "# устанавливаем некоторые параметры рисунка\n",
    "plt.figure(figsize=[8, 5])\n",
    "wd = 0.3\n",
    "x_pos = np.arange(1, 2*len(df_score_table), 2)\n",
    "\n",
    "# Рисуем столбчатую диаграму\n",
    "plt.bar(x_pos, df_time_table['desidion_tree'], color='r', width=wd, edgecolor='k',\n",
    "        label='desidion_tree')\n",
    "plt.bar(x_pos+wd, df_time_table['linear_regression'], color='y', width=wd, edgecolor='k', \n",
    "        label='linear_regression')\n",
    "plt.bar(x_pos+(wd*2), df_time_table['light_gbm'], color='c', width=wd, \n",
    "        edgecolor='k', label='light_gbm')\n",
    "\n",
    "# Добавляем подписи\n",
    "plt.xticks(x_pos+wd, df_time_table.index.values, fontsize=15)\n",
    "plt.yticks(fontsize=15)\n",
    "plt.title('Время выплонения моделей', fontsize=20)\n",
    "\n",
    "plt.legend(loc='upper left', fontsize=15)\n",
    "plt.show()"
   ]
  },
  {
   "cell_type": "markdown",
   "id": "aea84ba6",
   "metadata": {},
   "source": [
    "**Вывод**\n",
    "\n",
    "Для предсказания цены автомобиля были обучены и проанализированы несколько моделей машинного обучения:\n",
    "- Решающее дерево\n",
    "- Линейная регрессия\n",
    "- Градиентный бустинг\n",
    "\n",
    "Модели сравнивались по метрике RMSE и времени выполнения.\n",
    "\n",
    "Наилучший результат показала модель решающего дерева.\n",
    "\n",
    "    RMSE = 1795.7\n",
    "    time to learn = 0.49 с\n",
    "    time to predict = 15.7 мс\n",
    "    \n",
    "По метрике RMSE модель lightGBM показывает немного лучший результат (RMSE = 1670.7), однако модель сильно проигрывает по времени обучения и предсказания (16.5 с и 193 мс, соответсвенно)"
   ]
  }
 ],
 "metadata": {
  "kernelspec": {
   "display_name": "Python 3 (ipykernel)",
   "language": "python",
   "name": "python3"
  },
  "language_info": {
   "codemirror_mode": {
    "name": "ipython",
    "version": 3
   },
   "file_extension": ".py",
   "mimetype": "text/x-python",
   "name": "python",
   "nbconvert_exporter": "python",
   "pygments_lexer": "ipython3",
   "version": "3.10.7"
  }
 },
 "nbformat": 4,
 "nbformat_minor": 5
}
