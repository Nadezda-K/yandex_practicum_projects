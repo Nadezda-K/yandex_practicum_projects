{
 "cells": [
  {
   "cell_type": "markdown",
   "id": "24e62349",
   "metadata": {},
   "source": [
    "# Обучение модели классификации комментариев"
   ]
  },
  {
   "cell_type": "markdown",
   "id": "1bc0ffb0",
   "metadata": {
    "toc": true
   },
   "source": [
    "<h1>Содержание<span class=\"tocSkip\"></span></h1>\n",
    "<div class=\"toc\"><ul class=\"toc-item\"><li><span><a href=\"#Подготовка\" data-toc-modified-id=\"Подготовка-1\"><span class=\"toc-item-num\">1&nbsp;&nbsp;</span>Подготовка</a></span></li><li><span><a href=\"#Обучение\" data-toc-modified-id=\"Обучение-2\"><span class=\"toc-item-num\">2&nbsp;&nbsp;</span>Обучение</a></span></li><li><span><a href=\"#Выводы\" data-toc-modified-id=\"Выводы-3\"><span class=\"toc-item-num\">3&nbsp;&nbsp;</span>Выводы</a></span></li><li><span><a href=\"#Чек-лист-проверки\" data-toc-modified-id=\"Чек-лист-проверки-4\"><span class=\"toc-item-num\">4&nbsp;&nbsp;</span>Чек-лист проверки</a></span></li></ul></div>"
   ]
  },
  {
   "cell_type": "markdown",
   "id": "0c0fd2a5",
   "metadata": {},
   "source": [
    "**Описание проекта**\n",
    "\n",
    "Интернет-магазин «Викишоп» запускает новый сервис. Теперь пользователи могут редактировать и дополнять описания товаров, как в вики-сообществах. То есть клиенты предлагают свои правки и комментируют изменения других. Магазину нужен инструмент, который будет искать токсичные комментарии и отправлять их на модерацию. \n",
    "\n",
    "Обучите модель классифицировать комментарии на позитивные и негативные. В вашем распоряжении набор данных с разметкой о токсичности правок.\n",
    "\n",
    "Постройте модель со значением метрики качества *F1* не меньше 0.75. \n",
    "\n",
    "**Инструкция по выполнению проекта**\n",
    "\n",
    "1. Загрузите и подготовьте данные.\n",
    "2. Обучите разные модели. \n",
    "3. Сделайте выводы.\n",
    "\n",
    "Для выполнения проекта применять *BERT* необязательно, но вы можете попробовать.\n",
    "\n",
    "**Описание данных**\n",
    "\n",
    "Данные находятся в файле `toxic_comments.csv`. Столбец *text* в нём содержит текст комментария, а *toxic* — целевой признак."
   ]
  },
  {
   "cell_type": "code",
   "execution_count": 1,
   "id": "7ed62424",
   "metadata": {},
   "outputs": [
    {
     "name": "stderr",
     "output_type": "stream",
     "text": [
      "[nltk_data] Downloading package stopwords to /home/jovyan/nltk_data...\n",
      "[nltk_data]   Unzipping corpora/stopwords.zip.\n",
      "[nltk_data] Downloading package punkt to /home/jovyan/nltk_data...\n",
      "[nltk_data]   Unzipping tokenizers/punkt.zip.\n",
      "[nltk_data] Downloading package wordnet to /home/jovyan/nltk_data...\n",
      "[nltk_data]   Package wordnet is already up-to-date!\n"
     ]
    },
    {
     "data": {
      "text/plain": [
       "True"
      ]
     },
     "execution_count": 1,
     "metadata": {},
     "output_type": "execute_result"
    }
   ],
   "source": [
    "# импорт необходимых библиотек\n",
    "import pandas as pd\n",
    "import numpy as np\n",
    "import matplotlib.pyplot as plt\n",
    "\n",
    "from sklearn.model_selection import train_test_split\n",
    "from sklearn.preprocessing import StandardScaler\n",
    "\n",
    "from sklearn.metrics import f1_score\n",
    "\n",
    "import re \n",
    "\n",
    "from sklearn.tree import DecisionTreeClassifier\n",
    "from sklearn.ensemble import RandomForestClassifier\n",
    "from sklearn.linear_model import LogisticRegression\n",
    "from catboost import CatBoostClassifier\n",
    "\n",
    "from sklearn.utils import shuffle\n",
    "\n",
    "from tqdm import notebook\n",
    "from tqdm import tqdm\n",
    "\n",
    "from sklearn.feature_extraction.text import CountVectorizer\n",
    "from sklearn.feature_extraction.text import TfidfVectorizer \n",
    "\n",
    "import nltk\n",
    "from nltk.corpus import stopwords as nltk_stopwords\n",
    "from nltk.stem import WordNetLemmatizer\n",
    "nltk.download('stopwords') \n",
    "nltk.download('punkt')\n",
    "nltk.download('wordnet')"
   ]
  },
  {
   "cell_type": "markdown",
   "id": "7e093aa1",
   "metadata": {},
   "source": [
    "## Подготовка"
   ]
  },
  {
   "cell_type": "code",
   "execution_count": 2,
   "id": "3f13df4e",
   "metadata": {},
   "outputs": [],
   "source": [
    "# загрузка данных\n",
    "import os\n",
    "\n",
    "pth1 = 'toxic_comments.csv' # Локальный путь\n",
    "pth2 = '/datasets/toxic_comments.csv' # Сервесный путь \n",
    "\n",
    "if os.path.exists(pth1):\n",
    "    comments = pd.read_csv(pth1)\n",
    "elif os.path.exists(pth2):\n",
    "    comments = pd.read_csv(pth2)\n",
    "else:\n",
    "    print('Something is wrong')"
   ]
  },
  {
   "cell_type": "code",
   "execution_count": 3,
   "id": "8a13d698",
   "metadata": {},
   "outputs": [
    {
     "name": "stdout",
     "output_type": "stream",
     "text": [
      "<class 'pandas.core.frame.DataFrame'>\n",
      "RangeIndex: 159571 entries, 0 to 159570\n",
      "Data columns (total 2 columns):\n",
      " #   Column  Non-Null Count   Dtype \n",
      "---  ------  --------------   ----- \n",
      " 0   text    159571 non-null  object\n",
      " 1   toxic   159571 non-null  int64 \n",
      "dtypes: int64(1), object(1)\n",
      "memory usage: 2.4+ MB\n"
     ]
    }
   ],
   "source": [
    "comments.info()"
   ]
  },
  {
   "cell_type": "code",
   "execution_count": 4,
   "id": "596716ff",
   "metadata": {
    "scrolled": false
   },
   "outputs": [
    {
     "data": {
      "text/html": [
       "<div>\n",
       "<style scoped>\n",
       "    .dataframe tbody tr th:only-of-type {\n",
       "        vertical-align: middle;\n",
       "    }\n",
       "\n",
       "    .dataframe tbody tr th {\n",
       "        vertical-align: top;\n",
       "    }\n",
       "\n",
       "    .dataframe thead th {\n",
       "        text-align: right;\n",
       "    }\n",
       "</style>\n",
       "<table border=\"1\" class=\"dataframe\">\n",
       "  <thead>\n",
       "    <tr style=\"text-align: right;\">\n",
       "      <th></th>\n",
       "      <th>text</th>\n",
       "      <th>toxic</th>\n",
       "    </tr>\n",
       "  </thead>\n",
       "  <tbody>\n",
       "    <tr>\n",
       "      <th>0</th>\n",
       "      <td>Explanation\\nWhy the edits made under my usern...</td>\n",
       "      <td>0</td>\n",
       "    </tr>\n",
       "    <tr>\n",
       "      <th>1</th>\n",
       "      <td>D'aww! He matches this background colour I'm s...</td>\n",
       "      <td>0</td>\n",
       "    </tr>\n",
       "    <tr>\n",
       "      <th>2</th>\n",
       "      <td>Hey man, I'm really not trying to edit war. It...</td>\n",
       "      <td>0</td>\n",
       "    </tr>\n",
       "    <tr>\n",
       "      <th>3</th>\n",
       "      <td>\"\\nMore\\nI can't make any real suggestions on ...</td>\n",
       "      <td>0</td>\n",
       "    </tr>\n",
       "    <tr>\n",
       "      <th>4</th>\n",
       "      <td>You, sir, are my hero. Any chance you remember...</td>\n",
       "      <td>0</td>\n",
       "    </tr>\n",
       "  </tbody>\n",
       "</table>\n",
       "</div>"
      ],
      "text/plain": [
       "                                                text  toxic\n",
       "0  Explanation\\nWhy the edits made under my usern...      0\n",
       "1  D'aww! He matches this background colour I'm s...      0\n",
       "2  Hey man, I'm really not trying to edit war. It...      0\n",
       "3  \"\\nMore\\nI can't make any real suggestions on ...      0\n",
       "4  You, sir, are my hero. Any chance you remember...      0"
      ]
     },
     "execution_count": 4,
     "metadata": {},
     "output_type": "execute_result"
    }
   ],
   "source": [
    "comments.head()"
   ]
  },
  {
   "cell_type": "code",
   "execution_count": 5,
   "id": "eebb98f7",
   "metadata": {},
   "outputs": [],
   "source": [
    "# приведем текст к нижнему регистру\n",
    "comments['text'] = comments['text'].str.lower()"
   ]
  },
  {
   "cell_type": "markdown",
   "id": "1a46ba3b",
   "metadata": {},
   "source": [
    "Так как данных много и обработка всего датасета может занять большое количесво времени. Сразу посмотрим на баланс классов"
   ]
  },
  {
   "cell_type": "code",
   "execution_count": 7,
   "id": "7cabbb47",
   "metadata": {
    "scrolled": true
   },
   "outputs": [
    {
     "data": {
      "text/plain": [
       "0    0.898321\n",
       "1    0.101679\n",
       "Name: toxic, dtype: float64"
      ]
     },
     "execution_count": 7,
     "metadata": {},
     "output_type": "execute_result"
    }
   ],
   "source": [
    "# посмотрим на сбалансированность классов в данных\n",
    "class_frequency = comments['toxic'].value_counts(normalize=True)\n",
    "#class_frequency = comments['toxic'].value_counts()\n",
    "class_frequency"
   ]
  },
  {
   "cell_type": "code",
   "execution_count": 8,
   "id": "82ade78e",
   "metadata": {},
   "outputs": [
    {
     "data": {
      "image/png": "[encoded data removed]",
      "text/plain": [
       "<Figure size 576x360 with 1 Axes>"
      ]
     },
     "metadata": {
      "needs_background": "light"
     },
     "output_type": "display_data"
    }
   ],
   "source": [
    "plt.figure(figsize=[8, 5])\n",
    "ticks_label = ['отрицательный (0)','положительный (1)']\n",
    "\n",
    "plt.bar(ticks_label, class_frequency)\n",
    "\n",
    "plt.xticks(ticks_label, fontsize=15)\n",
    "plt.yticks(fontsize=15)\n",
    "plt.title('Баланс классов', fontsize=20)\n",
    "plt.xlabel('Классы', fontsize=17)\n",
    "plt.ylabel('Доля', fontsize=17)\n",
    "\n",
    "plt.show()"
   ]
  },
  {
   "cell_type": "markdown",
   "id": "4b23ffdb",
   "metadata": {},
   "source": [
    "Разделим данные на обучающую, валидационную и тестовую выборки"
   ]
  },
  {
   "cell_type": "code",
   "execution_count": 9,
   "id": "1c615d69",
   "metadata": {},
   "outputs": [],
   "source": [
    "# выделим тестовую выборку\n",
    "df_train, df_test = train_test_split(comments, test_size=0.2, random_state=12345)\n",
    "\n",
    "# выделим обучающую и валидационную выборки\n",
    "df_train, df_valid = train_test_split(df_train, test_size=0.25, random_state=12345)"
   ]
  },
  {
   "cell_type": "code",
   "execution_count": 10,
   "id": "bb42e98a",
   "metadata": {},
   "outputs": [
    {
     "name": "stdout",
     "output_type": "stream",
     "text": [
      "Размер обучающей выборки: (95742, 2)\n",
      "Размер валидационной выборки: (31914, 2)\n",
      "Размер тестовой выборки: (31915, 2)\n"
     ]
    }
   ],
   "source": [
    "print('Размер обучающей выборки:', df_train.shape)\n",
    "print('Размер валидационной выборки:', df_valid.shape)\n",
    "print('Размер тестовой выборки:', df_test.shape)"
   ]
  },
  {
   "cell_type": "markdown",
   "id": "a31b59b8",
   "metadata": {},
   "source": [
    "**Лемматизируем и очистим текст**"
   ]
  },
  {
   "cell_type": "code",
   "execution_count": 19,
   "id": "2db846f8",
   "metadata": {},
   "outputs": [],
   "source": [
    "# лематизация\n",
    "def lemmatize(text):\n",
    "    # Init the Wordnet Lemmatizer\n",
    "    lemmatizer = WordNetLemmatizer()\n",
    "    # Tokenize: Split the sentence into words\n",
    "    word_list = nltk.word_tokenize(text)\n",
    "    # Lemmatize list of words and join\n",
    "    lemm_text = ' '.join([lemmatizer.lemmatize(w) for w in word_list])\n",
    "        \n",
    "    return lemm_text"
   ]
  },
  {
   "cell_type": "code",
   "execution_count": 20,
   "id": "f4d3fb15",
   "metadata": {},
   "outputs": [],
   "source": [
    "# отчистка\n",
    "def clear_text(text):\n",
    "    pattern = r'[^a-zA-z ]'\n",
    "    replacement = ' '\n",
    "    clear_text = re.sub(pattern, replacement, text) \n",
    "\n",
    "    clear_text = clear_text.split() \n",
    "\n",
    "    clear_text = \" \".join(clear_text) \n",
    "    \n",
    "    return clear_text"
   ]
  },
  {
   "cell_type": "code",
   "execution_count": 21,
   "id": "5a03113e",
   "metadata": {},
   "outputs": [
    {
     "name": "stderr",
     "output_type": "stream",
     "text": [
      "100%|██████████| 95742/95742 [00:50<00:00, 1905.19it/s]\n"
     ]
    }
   ],
   "source": [
    "tqdm.pandas()\n",
    "\n",
    "df_train['lemm_text'] = df_train['text'].progress_apply(lambda x: lemmatize(clear_text(x)))"
   ]
  },
  {
   "cell_type": "code",
   "execution_count": 22,
   "id": "94871f08",
   "metadata": {},
   "outputs": [
    {
     "name": "stderr",
     "output_type": "stream",
     "text": [
      "100%|██████████| 31914/31914 [00:16<00:00, 1882.20it/s]\n"
     ]
    }
   ],
   "source": [
    "tqdm.pandas()\n",
    "\n",
    "df_valid['lemm_text'] = df_valid['text'].progress_apply(lambda x: lemmatize(clear_text(x)))"
   ]
  },
  {
   "cell_type": "code",
   "execution_count": 23,
   "id": "70248a20",
   "metadata": {},
   "outputs": [
    {
     "name": "stderr",
     "output_type": "stream",
     "text": [
      "100%|██████████| 31915/31915 [00:16<00:00, 1952.09it/s]\n"
     ]
    }
   ],
   "source": [
    "tqdm.pandas()\n",
    "\n",
    "df_test['lemm_text'] = df_test['text'].progress_apply(lambda x: lemmatize(clear_text(x)))"
   ]
  },
  {
   "cell_type": "code",
   "execution_count": 24,
   "id": "813de21c",
   "metadata": {
    "scrolled": true
   },
   "outputs": [
    {
     "data": {
      "text/html": [
       "<div>\n",
       "<style scoped>\n",
       "    .dataframe tbody tr th:only-of-type {\n",
       "        vertical-align: middle;\n",
       "    }\n",
       "\n",
       "    .dataframe tbody tr th {\n",
       "        vertical-align: top;\n",
       "    }\n",
       "\n",
       "    .dataframe thead th {\n",
       "        text-align: right;\n",
       "    }\n",
       "</style>\n",
       "<table border=\"1\" class=\"dataframe\">\n",
       "  <thead>\n",
       "    <tr style=\"text-align: right;\">\n",
       "      <th></th>\n",
       "      <th>text</th>\n",
       "      <th>toxic</th>\n",
       "      <th>lemm_text</th>\n",
       "    </tr>\n",
       "  </thead>\n",
       "  <tbody>\n",
       "    <tr>\n",
       "      <th>3180</th>\n",
       "      <td>this person needs reporting to the administrat...</td>\n",
       "      <td>0</td>\n",
       "      <td>this person need reporting to the administrato...</td>\n",
       "    </tr>\n",
       "    <tr>\n",
       "      <th>134113</th>\n",
       "      <td>issues addressed \\n\\ni'm just going to outline...</td>\n",
       "      <td>0</td>\n",
       "      <td>issue addressed i m just going to outline the ...</td>\n",
       "    </tr>\n",
       "    <tr>\n",
       "      <th>54472</th>\n",
       "      <td>red pepper cases \\n\\nred pepper cases\\n\\nred p...</td>\n",
       "      <td>0</td>\n",
       "      <td>red pepper case red pepper case red pepper wat...</td>\n",
       "    </tr>\n",
       "    <tr>\n",
       "      <th>29333</th>\n",
       "      <td>alpha-bits are back in 2008, they are being so...</td>\n",
       "      <td>0</td>\n",
       "      <td>alpha bit are back in they are being sold a of...</td>\n",
       "    </tr>\n",
       "    <tr>\n",
       "      <th>13869</th>\n",
       "      <td>you dumb ass!!\\nwhy the fuck would you delete ...</td>\n",
       "      <td>1</td>\n",
       "      <td>you dumb as why the fuck would you delete the ...</td>\n",
       "    </tr>\n",
       "  </tbody>\n",
       "</table>\n",
       "</div>"
      ],
      "text/plain": [
       "                                                     text  toxic  \\\n",
       "3180    this person needs reporting to the administrat...      0   \n",
       "134113  issues addressed \\n\\ni'm just going to outline...      0   \n",
       "54472   red pepper cases \\n\\nred pepper cases\\n\\nred p...      0   \n",
       "29333   alpha-bits are back in 2008, they are being so...      0   \n",
       "13869   you dumb ass!!\\nwhy the fuck would you delete ...      1   \n",
       "\n",
       "                                                lemm_text  \n",
       "3180    this person need reporting to the administrato...  \n",
       "134113  issue addressed i m just going to outline the ...  \n",
       "54472   red pepper case red pepper case red pepper wat...  \n",
       "29333   alpha bit are back in they are being sold a of...  \n",
       "13869   you dumb as why the fuck would you delete the ...  "
      ]
     },
     "execution_count": 24,
     "metadata": {},
     "output_type": "execute_result"
    }
   ],
   "source": [
    "df_train.head()"
   ]
  },
  {
   "cell_type": "markdown",
   "id": "532e1c31",
   "metadata": {},
   "source": [
    "Разделим данные на обучающую и тестовую выборки"
   ]
  },
  {
   "cell_type": "code",
   "execution_count": 26,
   "id": "6aef123c",
   "metadata": {},
   "outputs": [],
   "source": [
    "corpus_train = list(df_train['lemm_text'])\n",
    "corpus_valid = list(df_valid['lemm_text'])\n",
    "corpus_test = list(df_test['lemm_text'])"
   ]
  },
  {
   "cell_type": "code",
   "execution_count": 27,
   "id": "76b0a81d",
   "metadata": {},
   "outputs": [],
   "source": [
    "# Преобразуем корпус текстов в мешок слов\n",
    "stopwords = set(nltk_stopwords.words('english'))\n"
   ]
  },
  {
   "cell_type": "code",
   "execution_count": 28,
   "id": "cb3f9f94",
   "metadata": {},
   "outputs": [],
   "source": [
    "#Создадим матрицу cо значениями TF-IDF\n",
    "count_tf_idf = TfidfVectorizer(min_df=1,stop_words=stopwords)\n",
    "tf_idf_train = count_tf_idf.fit_transform(corpus_train)\n",
    "tf_idf_valid = count_tf_idf.transform(corpus_valid)\n",
    "tf_idf_test = count_tf_idf.transform(corpus_test)"
   ]
  },
  {
   "cell_type": "code",
   "execution_count": 29,
   "id": "132063ce",
   "metadata": {},
   "outputs": [
    {
     "name": "stdout",
     "output_type": "stream",
     "text": [
      "Размер матрицы TF-IDF для обучающей выборки: (95742, 119209)\n",
      "Размер матрицы TF-IDF для валидационной выборки: (31914, 119209)\n",
      "Размер матрицы TF-IDF для тестовой выборки: (31915, 119209)\n"
     ]
    }
   ],
   "source": [
    "print(\"Размер матрицы TF-IDF для обучающей выборки:\", tf_idf_train.shape)\n",
    "print(\"Размер матрицы TF-IDF для валидационной выборки:\", tf_idf_valid.shape)\n",
    "print(\"Размер матрицы TF-IDF для тестовой выборки:\", tf_idf_test.shape)"
   ]
  },
  {
   "cell_type": "markdown",
   "id": "91fb07e7",
   "metadata": {},
   "source": [
    "## Обучение"
   ]
  },
  {
   "cell_type": "code",
   "execution_count": 30,
   "id": "4d41ad2e",
   "metadata": {},
   "outputs": [],
   "source": [
    "# DecisionTreeClassifier\n",
    "def best_papameters_tree(features_train,target_train,features_valid,target_valid):\n",
    "    best_model_tree = None\n",
    "    best_f1_tree = 0\n",
    "    best_depth_tree = 0\n",
    "    for depth in range(1, 21, 5):\n",
    "        print(depth)\n",
    "        model_tree = DecisionTreeClassifier(random_state=12345, max_depth=depth,class_weight=\"balanced\")\n",
    "        model_tree.fit(features_train,target_train)\n",
    "        predictions_tree = model_tree.predict(features_valid)\n",
    "        f1_tree = f1_score(target_valid, predictions_tree)\n",
    "        if f1_tree > best_f1_tree:\n",
    "            best_model_tree = model_tree\n",
    "            best_f1_tree = f1_tree\n",
    "            best_depth_tree = depth\n",
    "    return best_depth_tree"
   ]
  },
  {
   "cell_type": "code",
   "execution_count": 88,
   "id": "aa713c21",
   "metadata": {},
   "outputs": [
    {
     "name": "stdout",
     "output_type": "stream",
     "text": [
      "1\n",
      "6\n",
      "11\n",
      "16\n"
     ]
    }
   ],
   "source": [
    "best_depth_tree = best_papameters_tree(tf_idf_train, df_train['toxic'],\n",
    "                                       tf_idf_valid, df_valid['toxic'])\n",
    "\n",
    "model_tree = DecisionTreeClassifier(random_state=12345, max_depth=best_depth_tree,class_weight=\"balanced\")\n",
    "model_tree.fit(tf_idf_train, df_train['toxic'])\n",
    "predictions_tree = model_tree.predict(tf_idf_test)"
   ]
  },
  {
   "cell_type": "code",
   "execution_count": 89,
   "id": "d87a2ba1",
   "metadata": {},
   "outputs": [],
   "source": [
    "# RandomForestClassifier\n",
    "def best_papameters_forest(features_train,target_train,features_valid,target_valid):\n",
    "    best_model_forest = None\n",
    "    best_f1_forest = 0\n",
    "    best_est_forest = 0\n",
    "    best_depth_forest = 0\n",
    "    for est in range(1, 102, 50):\n",
    "        for depth in range (1, 22,10):\n",
    "            print(est, depth)\n",
    "            model_forest = RandomForestClassifier(random_state=12345, n_estimators=est,max_depth=depth,class_weight=\"balanced\")\n",
    "            model_forest.fit(features_train,target_train)\n",
    "            predictions_forest = model_forest.predict(features_valid)\n",
    "            f1_forest = f1_score(target_valid, predictions_forest)\n",
    "            if f1_forest > best_f1_forest:\n",
    "                best_model_forest = model_forest\n",
    "                best_f1_forest = f1_forest\n",
    "                best_est_forest = est\n",
    "                best_depth_forest = depth\n",
    "    return best_depth_forest,best_est_forest"
   ]
  },
  {
   "cell_type": "code",
   "execution_count": 90,
   "id": "1fdc610d",
   "metadata": {
    "scrolled": false
   },
   "outputs": [
    {
     "name": "stdout",
     "output_type": "stream",
     "text": [
      "1 1\n",
      "1 11\n",
      "1 21\n",
      "51 1\n",
      "51 11\n",
      "51 21\n",
      "101 1\n",
      "101 11\n",
      "101 21\n"
     ]
    }
   ],
   "source": [
    "best_depth_forest,best_est_forest = best_papameters_forest(tf_idf_train, df_train['toxic'],\n",
    "                                                           tf_idf_valid, df_valid['toxic'])\n",
    "\n",
    "model_forest = RandomForestClassifier(random_state=12345,\n",
    "                                      n_estimators=best_est_forest,\n",
    "                                      max_depth=best_depth_forest,class_weight=\"balanced\")\n",
    "\n",
    "model_forest.fit(tf_idf_train, df_train['toxic'])\n",
    "predictions_forest = model_forest.predict(tf_idf_test)"
   ]
  },
  {
   "cell_type": "code",
   "execution_count": 31,
   "id": "504b1963",
   "metadata": {},
   "outputs": [],
   "source": [
    "# LogisticRegression\n",
    "model_log = LogisticRegression(max_iter=200,C=2.5,random_state=12345,class_weight=\"balanced\")\n",
    "model_log.fit(tf_idf_train, df_train['toxic'])\n",
    "predictions_log = model_log.predict(tf_idf_test)"
   ]
  },
  {
   "cell_type": "code",
   "execution_count": 32,
   "id": "1b3d84ee",
   "metadata": {},
   "outputs": [
    {
     "data": {
      "text/plain": [
       "0.7578450430435989"
      ]
     },
     "execution_count": 32,
     "metadata": {},
     "output_type": "execute_result"
    }
   ],
   "source": [
    "f1_score(df_test['toxic'], predictions_log)"
   ]
  },
  {
   "cell_type": "code",
   "execution_count": 92,
   "id": "db085af8",
   "metadata": {},
   "outputs": [
    {
     "name": "stdout",
     "output_type": "stream",
     "text": [
      "Learning rate set to 0.217944\n",
      "0:\tlearn: 0.3710665\ttotal: 2.31s\tremaining: 11m 32s\n",
      "50:\tlearn: 0.6552004\ttotal: 1m 34s\tremaining: 7m 39s\n",
      "100:\tlearn: 0.7212341\ttotal: 3m 2s\tremaining: 5m 58s\n",
      "150:\tlearn: 0.7488937\ttotal: 4m 29s\tremaining: 4m 26s\n",
      "200:\tlearn: 0.7643015\ttotal: 5m 58s\tremaining: 2m 56s\n",
      "250:\tlearn: 0.7785944\ttotal: 7m 30s\tremaining: 1m 27s\n",
      "299:\tlearn: 0.7888393\ttotal: 8m 54s\tremaining: 0us\n"
     ]
    }
   ],
   "source": [
    "# CatBoostClassifier\n",
    "model_cat = CatBoostClassifier(loss_function= 'Logloss', \n",
    "                               iterations=300,\n",
    "                               eval_metric='F1',\n",
    "                               random_state=12345)\n",
    "model_cat.fit(tf_idf_train,df_train['toxic'], verbose=50)\n",
    "predictions_cat = model_cat.predict(tf_idf_test)"
   ]
  },
  {
   "cell_type": "code",
   "execution_count": 93,
   "id": "6e38c2f5",
   "metadata": {},
   "outputs": [],
   "source": [
    "f1_tree   = f1_score(df_test['toxic'], predictions_tree)\n",
    "f1_forest = f1_score(df_test['toxic'], predictions_forest)\n",
    "f1_log    = f1_score(df_test['toxic'], predictions_log)\n",
    "f1_cat    = f1_score(df_test['toxic'], predictions_cat)"
   ]
  },
  {
   "cell_type": "code",
   "execution_count": 94,
   "id": "cdd3f0a8",
   "metadata": {},
   "outputs": [
    {
     "name": "stdout",
     "output_type": "stream",
     "text": [
      "F1-мера моделей на тестовой выборке:\n",
      "\"дерево решений\":\t 0.5850392194375359 Глубина дерева:\t 16\n",
      "\"случайный лес\":\t 0.3960233218717298 Количество деревьев: 51 Максимальная глубина:\t 21\n",
      "\"логическая регрессия\":\t 0.7578450430435989\n",
      "\"cat boost\":\t 0.746177370030581\n"
     ]
    }
   ],
   "source": [
    "print(\"F1-мера моделей на тестовой выборке:\")\n",
    "\n",
    "print(\"\\\"дерево решений\\\":\\t\", f1_tree, \n",
    "      \"Глубина дерева:\\t\", best_depth_tree)\n",
    "\n",
    "print(\"\\\"случайный лес\\\":\\t\", f1_forest, \n",
    "      \"Количество деревьев:\", best_est_forest, \n",
    "      \"Максимальная глубина:\\t\", best_depth_forest)\n",
    "\n",
    "print(\"\\\"логическая регрессия\\\":\\t\", f1_log)\n",
    "\n",
    "print(\"\\\"cat boost\\\":\\t\", f1_cat)"
   ]
  },
  {
   "cell_type": "code",
   "execution_count": 95,
   "id": "83ba59a6",
   "metadata": {},
   "outputs": [
    {
     "data": {
      "text/html": [
       "<div>\n",
       "<style scoped>\n",
       "    .dataframe tbody tr th:only-of-type {\n",
       "        vertical-align: middle;\n",
       "    }\n",
       "\n",
       "    .dataframe tbody tr th {\n",
       "        vertical-align: top;\n",
       "    }\n",
       "\n",
       "    .dataframe thead th {\n",
       "        text-align: right;\n",
       "    }\n",
       "</style>\n",
       "<table border=\"1\" class=\"dataframe\">\n",
       "  <thead>\n",
       "    <tr style=\"text-align: right;\">\n",
       "      <th></th>\n",
       "      <th>f1_score_test</th>\n",
       "    </tr>\n",
       "    <tr>\n",
       "      <th>model</th>\n",
       "      <th></th>\n",
       "    </tr>\n",
       "  </thead>\n",
       "  <tbody>\n",
       "    <tr>\n",
       "      <th>logistic_regression</th>\n",
       "      <td>0.757845</td>\n",
       "    </tr>\n",
       "    <tr>\n",
       "      <th>desidion_tree</th>\n",
       "      <td>0.585039</td>\n",
       "    </tr>\n",
       "    <tr>\n",
       "      <th>random_forest</th>\n",
       "      <td>0.396023</td>\n",
       "    </tr>\n",
       "    <tr>\n",
       "      <th>cat_boost</th>\n",
       "      <td>0.746177</td>\n",
       "    </tr>\n",
       "  </tbody>\n",
       "</table>\n",
       "</div>"
      ],
      "text/plain": [
       "                     f1_score_test\n",
       "model                             \n",
       "logistic_regression       0.757845\n",
       "desidion_tree             0.585039\n",
       "random_forest             0.396023\n",
       "cat_boost                 0.746177"
      ]
     },
     "execution_count": 95,
     "metadata": {},
     "output_type": "execute_result"
    }
   ],
   "source": [
    "#score_tabel\n",
    "score_table = {\n",
    "    'model':['logistic_regression', 'desidion_tree', 'random_forest','cat_boost'],\n",
    "    'f1_score_test':[f1_log, f1_tree, f1_forest, f1_cat]\n",
    "}\n",
    "df_score_table = pd.DataFrame(score_table)\n",
    "df_score_table.set_index('model',inplace=True)\n",
    "df_score_table"
   ]
  },
  {
   "cell_type": "code",
   "execution_count": 96,
   "id": "8459886d",
   "metadata": {},
   "outputs": [
    {
     "data": {
      "image/png": "[encoded data removed]",
      "text/plain": [
       "<Figure size 720x360 with 1 Axes>"
      ]
     },
     "metadata": {
      "needs_background": "light"
     },
     "output_type": "display_data"
    }
   ],
   "source": [
    "# устанавливаем параметры рисунка\n",
    "plt.figure(figsize=[10, 5])\n",
    "\n",
    "# Рисуем столбчатую диаграму\n",
    "\n",
    "plt.bar(df_score_table.index, df_score_table['f1_score_test'])\n",
    "\n",
    "plt.hlines(0.75, -0.5, 3.5, color = 'black')\n",
    "\n",
    "# Добавляем подписи\n",
    "plt.xticks(fontsize=15)\n",
    "plt.yticks(fontsize=15)\n",
    "plt.title('F1 мерика моделей', fontsize=20)\n",
    "plt.xlabel('Модели', fontsize=17)\n",
    "plt.ylabel('F1', fontsize=17)\n",
    "\n",
    "plt.show()"
   ]
  },
  {
   "cell_type": "markdown",
   "id": "1445c819",
   "metadata": {},
   "source": [
    "## Выводы"
   ]
  },
  {
   "cell_type": "markdown",
   "id": "67a98caf",
   "metadata": {},
   "source": [
    "Для предсказания токсичности комментариев были обучены и проанализированы несколько моделей машинного обучения:\n",
    "- Решающее дерево\n",
    "- Линейная регрессия\n",
    "- Случайный лес\n",
    "- Градиентный бустинг библиотеки CatBoost\n",
    "\n",
    "Модели сравнивались по метрике F1.\n",
    "\n",
    "Наилучший результат показала модель логической регрессии.\n",
    "\n",
    "    F1 = 0.757\n",
    "    \n",
    "Для остальных моделей метрика F1 ниже порогового значения (0.75).\n"
   ]
  }
 ],
 "metadata": {
  "kernelspec": {
   "display_name": "Python 3 (ipykernel)",
   "language": "python",
   "name": "python3"
  },
  "language_info": {
   "codemirror_mode": {
    "name": "ipython",
    "version": 3
   },
   "file_extension": ".py",
   "mimetype": "text/x-python",
   "name": "python",
   "nbconvert_exporter": "python",
   "pygments_lexer": "ipython3",
   "version": "3.10.7"
  }
 },
 "nbformat": 4,
 "nbformat_minor": 5
}
