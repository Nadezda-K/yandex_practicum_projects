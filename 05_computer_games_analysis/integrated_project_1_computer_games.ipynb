{
 "cells": [
  {
   "cell_type": "markdown",
   "id": "eed8fd9a",
   "metadata": {},
   "source": [
    "# Исследование популярности компьютерных игр"
   ]
  },
  {
   "cell_type": "markdown",
   "id": "734019ea",
   "metadata": {},
   "source": [
    "## Содержание\n",
    "1. [Описание проекта](#id_description)\n",
    "2. [Изучение данных из файлов](#id_data)\n",
    "3. [Предобработка данных](#id_preprocessing)\n",
    "4. [Исследовательский анализ данных](#id_eda)\n",
    "5. [Прогноз на 2017 год](#id_2017_prediction)\n",
    "6. [Портрет пользователя каждого региона](#id_user_profile) \n",
    "7. [Проверка гипотез](#id_hypotises_cheking)\n",
    "8. [Общий вывод](#id_conclusion)"
   ]
  },
  {
   "cell_type": "markdown",
   "id": "1a6b0ee4",
   "metadata": {},
   "source": [
    "**Описание проекта**\n",
    "<a id=\"id_description\"></a>\n",
    "\n",
    "Вы работаете в интернет-магазине «Стримчик», который продаёт по всему миру компьютерные игры. Из открытых источников доступны исторические данные о продажах игр, оценки пользователей и экспертов, жанры и платформы (например, Xbox или PlayStation). Вам нужно выявить определяющие успешность игры закономерности. Это позволит сделать ставку на потенциально популярный продукт и спланировать рекламные кампании.\n",
    "\n",
    "Перед вами данные до 2016 года. Представим, что сейчас декабрь 2016 г., и вы планируете кампанию на 2017-й. Нужно отработать принцип работы с данными. Неважно, прогнозируете ли вы продажи на 2017 год по данным 2016-го или же 2027-й — по данным 2026 года.\n",
    "\n",
    "В наборе данных попадается аббревиатура ESRB (Entertainment Software Rating Board) — это ассоциация, определяющая возрастной рейтинг компьютерных игр. ESRB оценивает игровой контент и присваивает ему подходящую возрастную категорию, например, «Для взрослых», «Для детей младшего возраста» или «Для подростков».\n",
    "\n",
    "*Примечание:* Данные за 2016 год могут быть неполными."
   ]
  },
  {
   "cell_type": "markdown",
   "id": "4031740b",
   "metadata": {},
   "source": [
    "**Цель**\n",
    "\n",
    "Проанализировать данные по видео играм, выявить определяющие успешность игры закономерности.\n",
    "\n",
    "**Ход исследования**\n",
    "\n",
    "Данные с информацией о квартире хранятся в файлах `/datasets/games.csv`. \n",
    "Заранее не известно есть ли в данных ошибки, аномалии и/или дубликаты.\n",
    "Поэтому перед основным исследованием понадобится обзор и предобработка данных. \n",
    "Также для исследования понадобятся параметры расчитанные на основе имеющихся данных.\n",
    "\n",
    "Таким образом, исследование будет включать следующие этапы:\n",
    " 1. Обзор данных.\n",
    " 2. Предобработка данных\n",
    " 4. Исследовательский анализ данных\n",
    " 5. Проверка гипотез\n"
   ]
  },
  {
   "cell_type": "markdown",
   "id": "d9cb4f50",
   "metadata": {},
   "source": [
    "## Изучение данных из файлов\n",
    "<a id=\"id_data\"></a>"
   ]
  },
  {
   "cell_type": "code",
   "execution_count": 1,
   "id": "1c522920",
   "metadata": {},
   "outputs": [],
   "source": [
    "# импорт необходимых библиотек\n",
    "import pandas as pd\n",
    "import numpy as np\n",
    "import seaborn as sns\n",
    "import matplotlib.pyplot as plt\n",
    "from scipy import stats as st"
   ]
  },
  {
   "cell_type": "code",
   "execution_count": 2,
   "id": "bc15f279",
   "metadata": {},
   "outputs": [],
   "source": [
    "try:\n",
    "    df_games = pd.read_csv('games.csv')  # Локальный путь\n",
    "except:\n",
    "    df_games = pd.read_csv('/datasets/games.csv')  # Серверный путь"
   ]
  },
  {
   "cell_type": "code",
   "execution_count": 3,
   "id": "58f7882f",
   "metadata": {},
   "outputs": [
    {
     "name": "stdout",
     "output_type": "stream",
     "text": [
      "<class 'pandas.core.frame.DataFrame'>\n",
      "RangeIndex: 16715 entries, 0 to 16714\n",
      "Data columns (total 11 columns):\n",
      " #   Column           Non-Null Count  Dtype  \n",
      "---  ------           --------------  -----  \n",
      " 0   Name             16713 non-null  object \n",
      " 1   Platform         16715 non-null  object \n",
      " 2   Year_of_Release  16446 non-null  float64\n",
      " 3   Genre            16713 non-null  object \n",
      " 4   NA_sales         16715 non-null  float64\n",
      " 5   EU_sales         16715 non-null  float64\n",
      " 6   JP_sales         16715 non-null  float64\n",
      " 7   Other_sales      16715 non-null  float64\n",
      " 8   Critic_Score     8137 non-null   float64\n",
      " 9   User_Score       10014 non-null  object \n",
      " 10  Rating           9949 non-null   object \n",
      "dtypes: float64(6), object(5)\n",
      "memory usage: 1.4+ MB\n"
     ]
    },
    {
     "data": {
      "text/html": [
       "<div>\n",
       "<style scoped>\n",
       "    .dataframe tbody tr th:only-of-type {\n",
       "        vertical-align: middle;\n",
       "    }\n",
       "\n",
       "    .dataframe tbody tr th {\n",
       "        vertical-align: top;\n",
       "    }\n",
       "\n",
       "    .dataframe thead th {\n",
       "        text-align: right;\n",
       "    }\n",
       "</style>\n",
       "<table border=\"1\" class=\"dataframe\">\n",
       "  <thead>\n",
       "    <tr style=\"text-align: right;\">\n",
       "      <th></th>\n",
       "      <th>Name</th>\n",
       "      <th>Platform</th>\n",
       "      <th>Year_of_Release</th>\n",
       "      <th>Genre</th>\n",
       "      <th>NA_sales</th>\n",
       "      <th>EU_sales</th>\n",
       "      <th>JP_sales</th>\n",
       "      <th>Other_sales</th>\n",
       "      <th>Critic_Score</th>\n",
       "      <th>User_Score</th>\n",
       "      <th>Rating</th>\n",
       "    </tr>\n",
       "  </thead>\n",
       "  <tbody>\n",
       "    <tr>\n",
       "      <th>0</th>\n",
       "      <td>Wii Sports</td>\n",
       "      <td>Wii</td>\n",
       "      <td>2006.0</td>\n",
       "      <td>Sports</td>\n",
       "      <td>41.36</td>\n",
       "      <td>28.96</td>\n",
       "      <td>3.77</td>\n",
       "      <td>8.45</td>\n",
       "      <td>76.0</td>\n",
       "      <td>8</td>\n",
       "      <td>E</td>\n",
       "    </tr>\n",
       "    <tr>\n",
       "      <th>1</th>\n",
       "      <td>Super Mario Bros.</td>\n",
       "      <td>NES</td>\n",
       "      <td>1985.0</td>\n",
       "      <td>Platform</td>\n",
       "      <td>29.08</td>\n",
       "      <td>3.58</td>\n",
       "      <td>6.81</td>\n",
       "      <td>0.77</td>\n",
       "      <td>NaN</td>\n",
       "      <td>NaN</td>\n",
       "      <td>NaN</td>\n",
       "    </tr>\n",
       "    <tr>\n",
       "      <th>2</th>\n",
       "      <td>Mario Kart Wii</td>\n",
       "      <td>Wii</td>\n",
       "      <td>2008.0</td>\n",
       "      <td>Racing</td>\n",
       "      <td>15.68</td>\n",
       "      <td>12.76</td>\n",
       "      <td>3.79</td>\n",
       "      <td>3.29</td>\n",
       "      <td>82.0</td>\n",
       "      <td>8.3</td>\n",
       "      <td>E</td>\n",
       "    </tr>\n",
       "    <tr>\n",
       "      <th>3</th>\n",
       "      <td>Wii Sports Resort</td>\n",
       "      <td>Wii</td>\n",
       "      <td>2009.0</td>\n",
       "      <td>Sports</td>\n",
       "      <td>15.61</td>\n",
       "      <td>10.93</td>\n",
       "      <td>3.28</td>\n",
       "      <td>2.95</td>\n",
       "      <td>80.0</td>\n",
       "      <td>8</td>\n",
       "      <td>E</td>\n",
       "    </tr>\n",
       "    <tr>\n",
       "      <th>4</th>\n",
       "      <td>Pokemon Red/Pokemon Blue</td>\n",
       "      <td>GB</td>\n",
       "      <td>1996.0</td>\n",
       "      <td>Role-Playing</td>\n",
       "      <td>11.27</td>\n",
       "      <td>8.89</td>\n",
       "      <td>10.22</td>\n",
       "      <td>1.00</td>\n",
       "      <td>NaN</td>\n",
       "      <td>NaN</td>\n",
       "      <td>NaN</td>\n",
       "    </tr>\n",
       "  </tbody>\n",
       "</table>\n",
       "</div>"
      ],
      "text/plain": [
       "                       Name Platform  Year_of_Release         Genre  NA_sales  \\\n",
       "0                Wii Sports      Wii           2006.0        Sports     41.36   \n",
       "1         Super Mario Bros.      NES           1985.0      Platform     29.08   \n",
       "2            Mario Kart Wii      Wii           2008.0        Racing     15.68   \n",
       "3         Wii Sports Resort      Wii           2009.0        Sports     15.61   \n",
       "4  Pokemon Red/Pokemon Blue       GB           1996.0  Role-Playing     11.27   \n",
       "\n",
       "   EU_sales  JP_sales  Other_sales  Critic_Score User_Score Rating  \n",
       "0     28.96      3.77         8.45          76.0          8      E  \n",
       "1      3.58      6.81         0.77           NaN        NaN    NaN  \n",
       "2     12.76      3.79         3.29          82.0        8.3      E  \n",
       "3     10.93      3.28         2.95          80.0          8      E  \n",
       "4      8.89     10.22         1.00           NaN        NaN    NaN  "
      ]
     },
     "execution_count": 3,
     "metadata": {},
     "output_type": "execute_result"
    }
   ],
   "source": [
    "df_games.info()\n",
    "df_games.head()"
   ]
  },
  {
   "cell_type": "code",
   "execution_count": 4,
   "id": "6841a9b3",
   "metadata": {},
   "outputs": [
    {
     "data": {
      "text/html": [
       "<div>\n",
       "<style scoped>\n",
       "    .dataframe tbody tr th:only-of-type {\n",
       "        vertical-align: middle;\n",
       "    }\n",
       "\n",
       "    .dataframe tbody tr th {\n",
       "        vertical-align: top;\n",
       "    }\n",
       "\n",
       "    .dataframe thead th {\n",
       "        text-align: right;\n",
       "    }\n",
       "</style>\n",
       "<table border=\"1\" class=\"dataframe\">\n",
       "  <thead>\n",
       "    <tr style=\"text-align: right;\">\n",
       "      <th></th>\n",
       "      <th>Year_of_Release</th>\n",
       "      <th>NA_sales</th>\n",
       "      <th>EU_sales</th>\n",
       "      <th>JP_sales</th>\n",
       "      <th>Other_sales</th>\n",
       "      <th>Critic_Score</th>\n",
       "    </tr>\n",
       "  </thead>\n",
       "  <tbody>\n",
       "    <tr>\n",
       "      <th>count</th>\n",
       "      <td>16446.000000</td>\n",
       "      <td>16715.000000</td>\n",
       "      <td>16715.000000</td>\n",
       "      <td>16715.000000</td>\n",
       "      <td>16715.000000</td>\n",
       "      <td>8137.000000</td>\n",
       "    </tr>\n",
       "    <tr>\n",
       "      <th>mean</th>\n",
       "      <td>2006.484616</td>\n",
       "      <td>0.263377</td>\n",
       "      <td>0.145060</td>\n",
       "      <td>0.077617</td>\n",
       "      <td>0.047342</td>\n",
       "      <td>68.967679</td>\n",
       "    </tr>\n",
       "    <tr>\n",
       "      <th>std</th>\n",
       "      <td>5.877050</td>\n",
       "      <td>0.813604</td>\n",
       "      <td>0.503339</td>\n",
       "      <td>0.308853</td>\n",
       "      <td>0.186731</td>\n",
       "      <td>13.938165</td>\n",
       "    </tr>\n",
       "    <tr>\n",
       "      <th>min</th>\n",
       "      <td>1980.000000</td>\n",
       "      <td>0.000000</td>\n",
       "      <td>0.000000</td>\n",
       "      <td>0.000000</td>\n",
       "      <td>0.000000</td>\n",
       "      <td>13.000000</td>\n",
       "    </tr>\n",
       "    <tr>\n",
       "      <th>25%</th>\n",
       "      <td>2003.000000</td>\n",
       "      <td>0.000000</td>\n",
       "      <td>0.000000</td>\n",
       "      <td>0.000000</td>\n",
       "      <td>0.000000</td>\n",
       "      <td>60.000000</td>\n",
       "    </tr>\n",
       "    <tr>\n",
       "      <th>50%</th>\n",
       "      <td>2007.000000</td>\n",
       "      <td>0.080000</td>\n",
       "      <td>0.020000</td>\n",
       "      <td>0.000000</td>\n",
       "      <td>0.010000</td>\n",
       "      <td>71.000000</td>\n",
       "    </tr>\n",
       "    <tr>\n",
       "      <th>75%</th>\n",
       "      <td>2010.000000</td>\n",
       "      <td>0.240000</td>\n",
       "      <td>0.110000</td>\n",
       "      <td>0.040000</td>\n",
       "      <td>0.030000</td>\n",
       "      <td>79.000000</td>\n",
       "    </tr>\n",
       "    <tr>\n",
       "      <th>max</th>\n",
       "      <td>2016.000000</td>\n",
       "      <td>41.360000</td>\n",
       "      <td>28.960000</td>\n",
       "      <td>10.220000</td>\n",
       "      <td>10.570000</td>\n",
       "      <td>98.000000</td>\n",
       "    </tr>\n",
       "  </tbody>\n",
       "</table>\n",
       "</div>"
      ],
      "text/plain": [
       "       Year_of_Release      NA_sales      EU_sales      JP_sales  \\\n",
       "count     16446.000000  16715.000000  16715.000000  16715.000000   \n",
       "mean       2006.484616      0.263377      0.145060      0.077617   \n",
       "std           5.877050      0.813604      0.503339      0.308853   \n",
       "min        1980.000000      0.000000      0.000000      0.000000   \n",
       "25%        2003.000000      0.000000      0.000000      0.000000   \n",
       "50%        2007.000000      0.080000      0.020000      0.000000   \n",
       "75%        2010.000000      0.240000      0.110000      0.040000   \n",
       "max        2016.000000     41.360000     28.960000     10.220000   \n",
       "\n",
       "        Other_sales  Critic_Score  \n",
       "count  16715.000000   8137.000000  \n",
       "mean       0.047342     68.967679  \n",
       "std        0.186731     13.938165  \n",
       "min        0.000000     13.000000  \n",
       "25%        0.000000     60.000000  \n",
       "50%        0.010000     71.000000  \n",
       "75%        0.030000     79.000000  \n",
       "max       10.570000     98.000000  "
      ]
     },
     "execution_count": 4,
     "metadata": {},
     "output_type": "execute_result"
    }
   ],
   "source": [
    "df_games.describe()"
   ]
  },
  {
   "cell_type": "markdown",
   "id": "2e8e2c17",
   "metadata": {},
   "source": [
    "Согласно документации к данным в таблице есть следующие столбцы:\n",
    "\n",
    "    Name — название игры\n",
    "    Platform — платформа\n",
    "    Year_of_Release — год выпуска\n",
    "    Genre — жанр игры\n",
    "    NA_sales — продажи в Северной Америке (миллионы проданных копий)\n",
    "    EU_sales — продажи в Европе (миллионы проданных копий)\n",
    "    JP_sales — продажи в Японии (миллионы проданных копий)\n",
    "    Other_sales — продажи в других странах (миллионы проданных копий)\n",
    "    Critic_Score — оценка критиков (максимум 100)\n",
    "    User_Score — оценка пользователей (максимум 10)\n",
    "    Rating — рейтинг от организации ESRB (англ. Entertainment Software Rating Board). Эта ассоциация определяет рейтинг компьютерных игр и присваивает им подходящую возрастную категорию.\n"
   ]
  },
  {
   "cell_type": "markdown",
   "id": "e0f54b47",
   "metadata": {},
   "source": [
    "### Вывод"
   ]
  },
  {
   "cell_type": "markdown",
   "id": "a5cb7615",
   "metadata": {},
   "source": [
    "В таблице представлены данные по компьютерным играм.\n",
    "В таблице есть данные о названии, годе выпуска, жанре, продажам и рейтенге игры.\n",
    "\n",
    "В данных обнаружены пропуски и неверно распознаный тип данных. Аномалий в данных не обнаружено\n",
    "\n",
    "Предварительно можно утверждать, что, данных достаточно"
   ]
  },
  {
   "cell_type": "markdown",
   "id": "f314ba2c",
   "metadata": {},
   "source": [
    "## Предобработка данных\n",
    "<a id=\"id_preprocessing\"></a>"
   ]
  },
  {
   "cell_type": "markdown",
   "id": "08096d98",
   "metadata": {},
   "source": [
    "Приведем названия столбцов к змеиному регистру и посмотрим пропущенные значения:"
   ]
  },
  {
   "cell_type": "code",
   "execution_count": 5,
   "id": "c260e676",
   "metadata": {},
   "outputs": [
    {
     "data": {
      "text/plain": [
       "name                  2\n",
       "platform              0\n",
       "year_of_release     269\n",
       "genre                 2\n",
       "na_sales              0\n",
       "eu_sales              0\n",
       "jp_sales              0\n",
       "other_sales           0\n",
       "critic_score       8578\n",
       "user_score         6701\n",
       "rating             6766\n",
       "dtype: int64"
      ]
     },
     "execution_count": 5,
     "metadata": {},
     "output_type": "execute_result"
    }
   ],
   "source": [
    "df_games = df_games.rename(columns={'Name':'name',\n",
    "                                    'Platform':'platform',\n",
    "                                    'Year_of_Release':'year_of_release',\n",
    "                                    'Genre':'genre',\n",
    "                                    'NA_sales':'na_sales',\n",
    "                                    'EU_sales':'eu_sales',\n",
    "                                    'JP_sales':'jp_sales',\n",
    "                                    'Other_sales':'other_sales',\n",
    "                                    'Critic_Score':'critic_score',\n",
    "                                    'User_Score':'user_score',\n",
    "                                    'Rating':'rating'})\n",
    "df_games.isna().sum()"
   ]
  },
  {
   "cell_type": "markdown",
   "id": "48d8a188",
   "metadata": {},
   "source": [
    "Заменим пропущенные значения в колоках с типом object (`name`, `genre`, `rating`) на unknown"
   ]
  },
  {
   "cell_type": "code",
   "execution_count": 6,
   "id": "ab1bec63",
   "metadata": {},
   "outputs": [],
   "source": [
    "df_games[['name', 'genre', 'rating']] = df_games[['name', 'genre', 'rating']].fillna('unknown')"
   ]
  },
  {
   "cell_type": "markdown",
   "id": "4fc6968d",
   "metadata": {},
   "source": [
    "**Изменим тип данных `year_of_release` на int:**\n",
    "\n",
    "При этом строки с пропусками в данном столбце удалим, так как таких строк немного, а информация о годе ключевая и ее отсутсвие делает данные не пригодными для дальнейшего анализа"
   ]
  },
  {
   "cell_type": "code",
   "execution_count": 7,
   "id": "37f373b7",
   "metadata": {
    "scrolled": false
   },
   "outputs": [],
   "source": [
    "df_games = df_games.dropna(subset = ['year_of_release'])\n",
    "df_games['year_of_release'] = df_games['year_of_release'].astype('int')\n"
   ]
  },
  {
   "cell_type": "markdown",
   "id": "759c0d16",
   "metadata": {},
   "source": [
    "Аббревиатура 'tbd' обозначает 'to be determined', то есть на текущий момент у игры нет пользовательского рейтинга. Если посмотреть на продажи игр с 'tbd', то видно что у этих игр продажи очень маленькие в сравнении с другими играми."
   ]
  },
  {
   "cell_type": "code",
   "execution_count": 8,
   "id": "e22f3fb2",
   "metadata": {},
   "outputs": [
    {
     "data": {
      "text/html": [
       "<div>\n",
       "<style scoped>\n",
       "    .dataframe tbody tr th:only-of-type {\n",
       "        vertical-align: middle;\n",
       "    }\n",
       "\n",
       "    .dataframe tbody tr th {\n",
       "        vertical-align: top;\n",
       "    }\n",
       "\n",
       "    .dataframe thead th {\n",
       "        text-align: right;\n",
       "    }\n",
       "</style>\n",
       "<table border=\"1\" class=\"dataframe\">\n",
       "  <thead>\n",
       "    <tr style=\"text-align: right;\">\n",
       "      <th></th>\n",
       "      <th>name</th>\n",
       "      <th>platform</th>\n",
       "      <th>year_of_release</th>\n",
       "      <th>genre</th>\n",
       "      <th>na_sales</th>\n",
       "      <th>eu_sales</th>\n",
       "      <th>jp_sales</th>\n",
       "      <th>other_sales</th>\n",
       "      <th>critic_score</th>\n",
       "      <th>user_score</th>\n",
       "      <th>rating</th>\n",
       "    </tr>\n",
       "  </thead>\n",
       "  <tbody>\n",
       "    <tr>\n",
       "      <th>119</th>\n",
       "      <td>Zumba Fitness</td>\n",
       "      <td>Wii</td>\n",
       "      <td>2010</td>\n",
       "      <td>Sports</td>\n",
       "      <td>3.45</td>\n",
       "      <td>2.59</td>\n",
       "      <td>0.0</td>\n",
       "      <td>0.66</td>\n",
       "      <td>NaN</td>\n",
       "      <td>tbd</td>\n",
       "      <td>E</td>\n",
       "    </tr>\n",
       "    <tr>\n",
       "      <th>301</th>\n",
       "      <td>Namco Museum: 50th Anniversary</td>\n",
       "      <td>PS2</td>\n",
       "      <td>2005</td>\n",
       "      <td>Misc</td>\n",
       "      <td>2.08</td>\n",
       "      <td>1.35</td>\n",
       "      <td>0.0</td>\n",
       "      <td>0.54</td>\n",
       "      <td>61.0</td>\n",
       "      <td>tbd</td>\n",
       "      <td>E10+</td>\n",
       "    </tr>\n",
       "    <tr>\n",
       "      <th>520</th>\n",
       "      <td>Zumba Fitness 2</td>\n",
       "      <td>Wii</td>\n",
       "      <td>2011</td>\n",
       "      <td>Sports</td>\n",
       "      <td>1.51</td>\n",
       "      <td>1.03</td>\n",
       "      <td>0.0</td>\n",
       "      <td>0.27</td>\n",
       "      <td>NaN</td>\n",
       "      <td>tbd</td>\n",
       "      <td>T</td>\n",
       "    </tr>\n",
       "    <tr>\n",
       "      <th>645</th>\n",
       "      <td>uDraw Studio</td>\n",
       "      <td>Wii</td>\n",
       "      <td>2010</td>\n",
       "      <td>Misc</td>\n",
       "      <td>1.65</td>\n",
       "      <td>0.57</td>\n",
       "      <td>0.0</td>\n",
       "      <td>0.20</td>\n",
       "      <td>71.0</td>\n",
       "      <td>tbd</td>\n",
       "      <td>E</td>\n",
       "    </tr>\n",
       "    <tr>\n",
       "      <th>718</th>\n",
       "      <td>Just Dance Kids</td>\n",
       "      <td>Wii</td>\n",
       "      <td>2010</td>\n",
       "      <td>Misc</td>\n",
       "      <td>1.52</td>\n",
       "      <td>0.54</td>\n",
       "      <td>0.0</td>\n",
       "      <td>0.18</td>\n",
       "      <td>NaN</td>\n",
       "      <td>tbd</td>\n",
       "      <td>E</td>\n",
       "    </tr>\n",
       "  </tbody>\n",
       "</table>\n",
       "</div>"
      ],
      "text/plain": [
       "                               name platform  year_of_release   genre  \\\n",
       "119                   Zumba Fitness      Wii             2010  Sports   \n",
       "301  Namco Museum: 50th Anniversary      PS2             2005    Misc   \n",
       "520                 Zumba Fitness 2      Wii             2011  Sports   \n",
       "645                    uDraw Studio      Wii             2010    Misc   \n",
       "718                 Just Dance Kids      Wii             2010    Misc   \n",
       "\n",
       "     na_sales  eu_sales  jp_sales  other_sales  critic_score user_score rating  \n",
       "119      3.45      2.59       0.0         0.66           NaN        tbd      E  \n",
       "301      2.08      1.35       0.0         0.54          61.0        tbd   E10+  \n",
       "520      1.51      1.03       0.0         0.27           NaN        tbd      T  \n",
       "645      1.65      0.57       0.0         0.20          71.0        tbd      E  \n",
       "718      1.52      0.54       0.0         0.18           NaN        tbd      E  "
      ]
     },
     "execution_count": 8,
     "metadata": {},
     "output_type": "execute_result"
    }
   ],
   "source": [
    "df_games[df_games['user_score']=='tbd'].head()"
   ]
  },
  {
   "cell_type": "markdown",
   "id": "046bbd9a",
   "metadata": {},
   "source": [
    "По факту 'tbd' это NaN. Поэтому так и заполним. И приведем к типу float"
   ]
  },
  {
   "cell_type": "code",
   "execution_count": 9,
   "id": "ac6c3f4b",
   "metadata": {},
   "outputs": [],
   "source": [
    "df_games['user_score'] = df_games['user_score'].replace('tbd',np.NaN)\n",
    "df_games['user_score'] = df_games['user_score'].astype(float)"
   ]
  },
  {
   "cell_type": "code",
   "execution_count": 10,
   "id": "2edb2c9c",
   "metadata": {},
   "outputs": [
    {
     "data": {
      "text/plain": [
       "name                  0\n",
       "platform              0\n",
       "year_of_release       0\n",
       "genre                 0\n",
       "na_sales              0\n",
       "eu_sales              0\n",
       "jp_sales              0\n",
       "other_sales           0\n",
       "critic_score       8463\n",
       "user_score         8983\n",
       "rating                0\n",
       "dtype: int64"
      ]
     },
     "execution_count": 10,
     "metadata": {},
     "output_type": "execute_result"
    }
   ],
   "source": [
    "df_games.isna().sum()"
   ]
  },
  {
   "cell_type": "markdown",
   "id": "a46ded97",
   "metadata": {},
   "source": [
    "Также важно отметить, что для большей части пропуски в колоках `user_score`, `critic_score` и `rating` коррелируют: если есть пропуск в одной колонке, то часто пропуск есть и в другой колонке."
   ]
  },
  {
   "cell_type": "code",
   "execution_count": 11,
   "id": "16277048",
   "metadata": {},
   "outputs": [
    {
     "data": {
      "text/plain": [
       "unknown    6582\n",
       "E           909\n",
       "E10+        200\n",
       "T           176\n",
       "M            20\n",
       "EC            7\n",
       "Name: rating, dtype: int64"
      ]
     },
     "execution_count": 11,
     "metadata": {},
     "output_type": "execute_result"
    }
   ],
   "source": [
    "df_games[(df_games['user_score'].isna() == True) & \n",
    "         (df_games['critic_score'].isna() == True)]['rating'].value_counts()"
   ]
  },
  {
   "cell_type": "markdown",
   "id": "5063860c",
   "metadata": {},
   "source": [
    "В данном случае пропуски лучше ничем не заполнять, так как они сильно коррелируют между собой и таких строк в таблице около 40% --  заполнение пропусков любым способом (медианой, средним или модой) может привести к появлению не существующих закономерностей. К сожалению, при анализе связанным с рейтингом от этих данных(строк) лучше отказаться."
   ]
  },
  {
   "cell_type": "markdown",
   "id": "3b9330bd",
   "metadata": {},
   "source": [
    "**Проверка на наличие неявных дубликатов**\n",
    "\n",
    "Посмотрим уникальные значения в столбцах `platform`, `genre`, `rating`"
   ]
  },
  {
   "cell_type": "code",
   "execution_count": 12,
   "id": "036b7fd7",
   "metadata": {},
   "outputs": [
    {
     "name": "stdout",
     "output_type": "stream",
     "text": [
      "['Wii' 'NES' 'GB' 'DS' 'X360' 'PS3' 'PS2' 'SNES' 'GBA' 'PS4' '3DS' 'N64'\n",
      " 'PS' 'XB' 'PC' '2600' 'PSP' 'XOne' 'WiiU' 'GC' 'GEN' 'DC' 'PSV' 'SAT'\n",
      " 'SCD' 'WS' 'NG' 'TG16' '3DO' 'GG' 'PCFX']\n",
      "['Sports' 'Platform' 'Racing' 'Role-Playing' 'Puzzle' 'Misc' 'Shooter'\n",
      " 'Simulation' 'Action' 'Fighting' 'Adventure' 'Strategy' 'unknown']\n",
      "['E' 'unknown' 'M' 'T' 'E10+' 'K-A' 'AO' 'EC' 'RP']\n"
     ]
    }
   ],
   "source": [
    "print(df_games['platform'].unique())\n",
    "print(df_games['genre'].unique())\n",
    "print(df_games['rating'].unique())"
   ]
  },
  {
   "cell_type": "markdown",
   "id": "c5a32332",
   "metadata": {},
   "source": [
    "**Проверка на наличие явных дубликатов**"
   ]
  },
  {
   "cell_type": "code",
   "execution_count": 13,
   "id": "2fbcdc45",
   "metadata": {},
   "outputs": [
    {
     "name": "stdout",
     "output_type": "stream",
     "text": [
      "Количесво дубликатов в df_games 0\n"
     ]
    }
   ],
   "source": [
    "print('Количесво дубликатов в df_games',df_games.duplicated().sum() )"
   ]
  },
  {
   "cell_type": "markdown",
   "id": "c63f3c8e",
   "metadata": {},
   "source": [
    "**Суммарные продажи**"
   ]
  },
  {
   "cell_type": "code",
   "execution_count": 14,
   "id": "86da7f75",
   "metadata": {},
   "outputs": [
    {
     "data": {
      "text/html": [
       "<div>\n",
       "<style scoped>\n",
       "    .dataframe tbody tr th:only-of-type {\n",
       "        vertical-align: middle;\n",
       "    }\n",
       "\n",
       "    .dataframe tbody tr th {\n",
       "        vertical-align: top;\n",
       "    }\n",
       "\n",
       "    .dataframe thead th {\n",
       "        text-align: right;\n",
       "    }\n",
       "</style>\n",
       "<table border=\"1\" class=\"dataframe\">\n",
       "  <thead>\n",
       "    <tr style=\"text-align: right;\">\n",
       "      <th></th>\n",
       "      <th>name</th>\n",
       "      <th>platform</th>\n",
       "      <th>year_of_release</th>\n",
       "      <th>genre</th>\n",
       "      <th>na_sales</th>\n",
       "      <th>eu_sales</th>\n",
       "      <th>jp_sales</th>\n",
       "      <th>other_sales</th>\n",
       "      <th>critic_score</th>\n",
       "      <th>user_score</th>\n",
       "      <th>rating</th>\n",
       "      <th>sum_sales</th>\n",
       "    </tr>\n",
       "  </thead>\n",
       "  <tbody>\n",
       "    <tr>\n",
       "      <th>0</th>\n",
       "      <td>Wii Sports</td>\n",
       "      <td>Wii</td>\n",
       "      <td>2006</td>\n",
       "      <td>Sports</td>\n",
       "      <td>41.36</td>\n",
       "      <td>28.96</td>\n",
       "      <td>3.77</td>\n",
       "      <td>8.45</td>\n",
       "      <td>76.0</td>\n",
       "      <td>8.0</td>\n",
       "      <td>E</td>\n",
       "      <td>82.54</td>\n",
       "    </tr>\n",
       "    <tr>\n",
       "      <th>1</th>\n",
       "      <td>Super Mario Bros.</td>\n",
       "      <td>NES</td>\n",
       "      <td>1985</td>\n",
       "      <td>Platform</td>\n",
       "      <td>29.08</td>\n",
       "      <td>3.58</td>\n",
       "      <td>6.81</td>\n",
       "      <td>0.77</td>\n",
       "      <td>NaN</td>\n",
       "      <td>NaN</td>\n",
       "      <td>unknown</td>\n",
       "      <td>40.24</td>\n",
       "    </tr>\n",
       "    <tr>\n",
       "      <th>2</th>\n",
       "      <td>Mario Kart Wii</td>\n",
       "      <td>Wii</td>\n",
       "      <td>2008</td>\n",
       "      <td>Racing</td>\n",
       "      <td>15.68</td>\n",
       "      <td>12.76</td>\n",
       "      <td>3.79</td>\n",
       "      <td>3.29</td>\n",
       "      <td>82.0</td>\n",
       "      <td>8.3</td>\n",
       "      <td>E</td>\n",
       "      <td>35.52</td>\n",
       "    </tr>\n",
       "    <tr>\n",
       "      <th>3</th>\n",
       "      <td>Wii Sports Resort</td>\n",
       "      <td>Wii</td>\n",
       "      <td>2009</td>\n",
       "      <td>Sports</td>\n",
       "      <td>15.61</td>\n",
       "      <td>10.93</td>\n",
       "      <td>3.28</td>\n",
       "      <td>2.95</td>\n",
       "      <td>80.0</td>\n",
       "      <td>8.0</td>\n",
       "      <td>E</td>\n",
       "      <td>32.77</td>\n",
       "    </tr>\n",
       "    <tr>\n",
       "      <th>4</th>\n",
       "      <td>Pokemon Red/Pokemon Blue</td>\n",
       "      <td>GB</td>\n",
       "      <td>1996</td>\n",
       "      <td>Role-Playing</td>\n",
       "      <td>11.27</td>\n",
       "      <td>8.89</td>\n",
       "      <td>10.22</td>\n",
       "      <td>1.00</td>\n",
       "      <td>NaN</td>\n",
       "      <td>NaN</td>\n",
       "      <td>unknown</td>\n",
       "      <td>31.38</td>\n",
       "    </tr>\n",
       "  </tbody>\n",
       "</table>\n",
       "</div>"
      ],
      "text/plain": [
       "                       name platform  year_of_release         genre  na_sales  \\\n",
       "0                Wii Sports      Wii             2006        Sports     41.36   \n",
       "1         Super Mario Bros.      NES             1985      Platform     29.08   \n",
       "2            Mario Kart Wii      Wii             2008        Racing     15.68   \n",
       "3         Wii Sports Resort      Wii             2009        Sports     15.61   \n",
       "4  Pokemon Red/Pokemon Blue       GB             1996  Role-Playing     11.27   \n",
       "\n",
       "   eu_sales  jp_sales  other_sales  critic_score  user_score   rating  \\\n",
       "0     28.96      3.77         8.45          76.0         8.0        E   \n",
       "1      3.58      6.81         0.77           NaN         NaN  unknown   \n",
       "2     12.76      3.79         3.29          82.0         8.3        E   \n",
       "3     10.93      3.28         2.95          80.0         8.0        E   \n",
       "4      8.89     10.22         1.00           NaN         NaN  unknown   \n",
       "\n",
       "   sum_sales  \n",
       "0      82.54  \n",
       "1      40.24  \n",
       "2      35.52  \n",
       "3      32.77  \n",
       "4      31.38  "
      ]
     },
     "execution_count": 14,
     "metadata": {},
     "output_type": "execute_result"
    }
   ],
   "source": [
    "df_games['sum_sales'] = df_games['na_sales'] + \\\n",
    "                        df_games['eu_sales'] + \\\n",
    "                        df_games['jp_sales'] + \\\n",
    "                        df_games['other_sales']\n",
    "\n",
    "df_games.head()"
   ]
  },
  {
   "cell_type": "markdown",
   "id": "6d2d470e",
   "metadata": {},
   "source": [
    "### Вывод"
   ]
  },
  {
   "cell_type": "markdown",
   "id": "ebd0d874",
   "metadata": {},
   "source": [
    "На этапе предобработки были сделаны следующие пункты:\n",
    "\n",
    "- названия столбцов приведены к змеиному регистру;\n",
    "- заменены пропущенные значения в колоках `name`, `genre`, `rating` на unknown;\n",
    "- столбец `year_of_release` приведен к типу int, строки с пропусками в данном столбце удалены, так как таких строк немного, а информация о годе ключевая и ее отсутсвие делает данные не пригодными для дальнейшего анализа;\n",
    "- данные проверены на явные и неявные дубликаты;\n",
    "- посчитаны суммарные продажи во всех регионах и занесены в столбец `sum_sales`;\n",
    "- значения 'tbd' в колоке `user_score` приведено к NaN, тип данных в стобце к float;\n"
   ]
  },
  {
   "cell_type": "markdown",
   "id": "feffec47",
   "metadata": {},
   "source": [
    "## Исследовательский анализ данных\n",
    "<a id=\"id_eda\"></a>"
   ]
  },
  {
   "cell_type": "markdown",
   "id": "18c45ee0",
   "metadata": {},
   "source": [
    "**Количесво выпущенных игр в год**"
   ]
  },
  {
   "cell_type": "code",
   "execution_count": 15,
   "id": "3a6e4836",
   "metadata": {},
   "outputs": [],
   "source": [
    "fig_size = (10,8)"
   ]
  },
  {
   "cell_type": "code",
   "execution_count": 16,
   "id": "5d84e6e9",
   "metadata": {},
   "outputs": [
    {
     "data": {
      "text/plain": [
       "Text(0.5, 1.0, 'Количесво выпущенных игр в год')"
      ]
     },
     "execution_count": 16,
     "metadata": {},
     "output_type": "execute_result"
    },
    {
     "data": {
      "image/png": "[encoded data removed]",
      "text/plain": [
       "<Figure size 720x576 with 1 Axes>"
      ]
     },
     "metadata": {
      "needs_background": "light"
     },
     "output_type": "display_data"
    }
   ],
   "source": [
    "df_games.groupby('year_of_release')['year_of_release'].count().plot(kind='bar',figsize=fig_size)\n",
    "plt.title('Количесво выпущенных игр в год')"
   ]
  },
  {
   "cell_type": "markdown",
   "id": "281abca1",
   "metadata": {},
   "source": [
    "На грайике виден стабильный рост количесва выпущенных игр в года начиная с 1990 и до 2010. С 2010 количесво выпущенных игр начинает снижаться.\n",
    "\n",
    "Для анализа лучше брать период с 1995, когда игр в год становится более 200. Так выборка для каждого года будет достаточно большой."
   ]
  },
  {
   "cell_type": "code",
   "execution_count": null,
   "id": "9d25b798",
   "metadata": {},
   "outputs": [],
   "source": []
  },
  {
   "cell_type": "markdown",
   "id": "0af04915",
   "metadata": {},
   "source": [
    "**Продажи по платформам**"
   ]
  },
  {
   "cell_type": "markdown",
   "id": "3be4c38f",
   "metadata": {},
   "source": [
    "Посмотрим суммарные продажи по платформам за все время:"
   ]
  },
  {
   "cell_type": "code",
   "execution_count": 17,
   "id": "f8f2cba9",
   "metadata": {},
   "outputs": [
    {
     "data": {
      "text/plain": [
       "Text(0, 0.5, 'Platform name')"
      ]
     },
     "execution_count": 17,
     "metadata": {},
     "output_type": "execute_result"
    },
    {
     "data": {
      "image/png": "[encoded data removed]",
      "text/plain": [
       "<Figure size 720x576 with 1 Axes>"
      ]
     },
     "metadata": {
      "needs_background": "light"
     },
     "output_type": "display_data"
    }
   ],
   "source": [
    "df_games.groupby('platform')['sum_sales'].sum().sort_values() \\\n",
    "        .plot(kind='barh',figsize=fig_size)\n",
    "\n",
    "plt.title(\"Cуммарные продажи по платформам за все время\")\n",
    "plt.xlabel(\"Sum sales\")\n",
    "plt.ylabel(\"Platform name\")"
   ]
  },
  {
   "cell_type": "code",
   "execution_count": 18,
   "id": "329970eb",
   "metadata": {},
   "outputs": [
    {
     "data": {
      "image/png": "[encoded data removed]",
      "text/plain": [
       "<Figure size 720x576 with 1 Axes>"
      ]
     },
     "metadata": {
      "needs_background": "light"
     },
     "output_type": "display_data"
    }
   ],
   "source": [
    "# Функция создает датафрейм из N платформ с самыми крупными суммарными продажами\n",
    "# и рисует столбчатую диаграмму по годам\n",
    "def top_platforms(n):\n",
    "    df_platform = df_games.groupby('platform')['sum_sales'].sum().sort_values(ascending=False)\n",
    "    \n",
    "    # создаем лист с платфрмами и годами\n",
    "    platforms = list(df_platform.head(n).index)\n",
    "    years = list(df_games['year_of_release'].sort_values().unique())\n",
    "    \n",
    "    plat_years = df_games.groupby(['platform','year_of_release'])['sum_sales'].sum()\n",
    "    \n",
    "    # создаем датафрейм с нулями\n",
    "    plotdata = pd.DataFrame(0, index=years, columns=platforms)\n",
    "    \n",
    "    # заполняем датафрейм\n",
    "    for plat in platforms:\n",
    "        plotdata[plat] = plat_years[plat]\n",
    "        \n",
    "    # удаляем строки, если все NaN\n",
    "    #plotdata = plotdata.dropna(axis=0,how='all')\n",
    "\n",
    "    #\n",
    "    year_min = 3000\n",
    "    year_max = 0\n",
    "    for plat in platforms:\n",
    "        year_list = np.array(plotdata[plotdata[plat].isna() == False].index)\n",
    "        if year_min > year_list.min():\n",
    "            year_min = year_list.min()\n",
    "        if year_max < year_list.max():\n",
    "            year_max = year_list.max()\n",
    "    \n",
    "    #  рисуем график по годам\n",
    "    plotdata.plot(kind='area',stacked=False,figsize=fig_size)\n",
    "    \n",
    "    plt.xlim(year_min-1,year_max+1)\n",
    "    plt.title(\"Распределение продаж игр по годам для топ-%i платформ\" %n)\n",
    "    plt.xlabel(\"Years\")\n",
    "    plt.ylabel(\"Sum_sales\")\n",
    "\n",
    "top_platforms(5)"
   ]
  },
  {
   "cell_type": "code",
   "execution_count": 19,
   "id": "c69cfd78",
   "metadata": {},
   "outputs": [
    {
     "data": {
      "text/html": [
       "<div>\n",
       "<style scoped>\n",
       "    .dataframe tbody tr th:only-of-type {\n",
       "        vertical-align: middle;\n",
       "    }\n",
       "\n",
       "    .dataframe tbody tr th {\n",
       "        vertical-align: top;\n",
       "    }\n",
       "\n",
       "    .dataframe thead th {\n",
       "        text-align: right;\n",
       "    }\n",
       "</style>\n",
       "<table border=\"1\" class=\"dataframe\">\n",
       "  <thead>\n",
       "    <tr style=\"text-align: right;\">\n",
       "      <th></th>\n",
       "      <th>name</th>\n",
       "      <th>platform</th>\n",
       "      <th>year_of_release</th>\n",
       "      <th>genre</th>\n",
       "      <th>na_sales</th>\n",
       "      <th>eu_sales</th>\n",
       "      <th>jp_sales</th>\n",
       "      <th>other_sales</th>\n",
       "      <th>critic_score</th>\n",
       "      <th>user_score</th>\n",
       "      <th>rating</th>\n",
       "      <th>sum_sales</th>\n",
       "    </tr>\n",
       "  </thead>\n",
       "  <tbody>\n",
       "    <tr>\n",
       "      <th>15957</th>\n",
       "      <td>Strongest Tokyo University Shogi DS</td>\n",
       "      <td>DS</td>\n",
       "      <td>1985</td>\n",
       "      <td>Action</td>\n",
       "      <td>0.00</td>\n",
       "      <td>0.00</td>\n",
       "      <td>0.02</td>\n",
       "      <td>0.0</td>\n",
       "      <td>NaN</td>\n",
       "      <td>NaN</td>\n",
       "      <td>unknown</td>\n",
       "      <td>0.02</td>\n",
       "    </tr>\n",
       "    <tr>\n",
       "      <th>13463</th>\n",
       "      <td>Cocoto Kart Racer</td>\n",
       "      <td>DS</td>\n",
       "      <td>2004</td>\n",
       "      <td>Racing</td>\n",
       "      <td>0.04</td>\n",
       "      <td>0.00</td>\n",
       "      <td>0.00</td>\n",
       "      <td>0.0</td>\n",
       "      <td>NaN</td>\n",
       "      <td>NaN</td>\n",
       "      <td>E</td>\n",
       "      <td>0.04</td>\n",
       "    </tr>\n",
       "    <tr>\n",
       "      <th>11517</th>\n",
       "      <td>Kenshuui Tendo Dokuta</td>\n",
       "      <td>DS</td>\n",
       "      <td>2004</td>\n",
       "      <td>Simulation</td>\n",
       "      <td>0.00</td>\n",
       "      <td>0.00</td>\n",
       "      <td>0.08</td>\n",
       "      <td>0.0</td>\n",
       "      <td>NaN</td>\n",
       "      <td>NaN</td>\n",
       "      <td>unknown</td>\n",
       "      <td>0.08</td>\n",
       "    </tr>\n",
       "    <tr>\n",
       "      <th>4421</th>\n",
       "      <td>The Urbz: Sims in the City (all regions sales)</td>\n",
       "      <td>DS</td>\n",
       "      <td>2004</td>\n",
       "      <td>Simulation</td>\n",
       "      <td>0.40</td>\n",
       "      <td>0.01</td>\n",
       "      <td>0.02</td>\n",
       "      <td>0.0</td>\n",
       "      <td>NaN</td>\n",
       "      <td>NaN</td>\n",
       "      <td>unknown</td>\n",
       "      <td>0.43</td>\n",
       "    </tr>\n",
       "    <tr>\n",
       "      <th>7902</th>\n",
       "      <td>Daigasso! Band Brothers</td>\n",
       "      <td>DS</td>\n",
       "      <td>2004</td>\n",
       "      <td>Misc</td>\n",
       "      <td>0.00</td>\n",
       "      <td>0.00</td>\n",
       "      <td>0.19</td>\n",
       "      <td>0.0</td>\n",
       "      <td>NaN</td>\n",
       "      <td>NaN</td>\n",
       "      <td>unknown</td>\n",
       "      <td>0.19</td>\n",
       "    </tr>\n",
       "  </tbody>\n",
       "</table>\n",
       "</div>"
      ],
      "text/plain": [
       "                                                 name platform  \\\n",
       "15957             Strongest Tokyo University Shogi DS       DS   \n",
       "13463                               Cocoto Kart Racer       DS   \n",
       "11517                           Kenshuui Tendo Dokuta       DS   \n",
       "4421   The Urbz: Sims in the City (all regions sales)       DS   \n",
       "7902                          Daigasso! Band Brothers       DS   \n",
       "\n",
       "       year_of_release       genre  na_sales  eu_sales  jp_sales  other_sales  \\\n",
       "15957             1985      Action      0.00      0.00      0.02          0.0   \n",
       "13463             2004      Racing      0.04      0.00      0.00          0.0   \n",
       "11517             2004  Simulation      0.00      0.00      0.08          0.0   \n",
       "4421              2004  Simulation      0.40      0.01      0.02          0.0   \n",
       "7902              2004        Misc      0.00      0.00      0.19          0.0   \n",
       "\n",
       "       critic_score  user_score   rating  sum_sales  \n",
       "15957           NaN         NaN  unknown       0.02  \n",
       "13463           NaN         NaN        E       0.04  \n",
       "11517           NaN         NaN  unknown       0.08  \n",
       "4421            NaN         NaN  unknown       0.43  \n",
       "7902            NaN         NaN  unknown       0.19  "
      ]
     },
     "execution_count": 19,
     "metadata": {},
     "output_type": "execute_result"
    }
   ],
   "source": [
    "df_games.query('platform == \"DS\"').sort_values(by='year_of_release').head()"
   ]
  },
  {
   "cell_type": "code",
   "execution_count": 20,
   "id": "1eef0c83",
   "metadata": {
    "scrolled": true
   },
   "outputs": [
    {
     "data": {
      "text/html": [
       "<div>\n",
       "<style scoped>\n",
       "    .dataframe tbody tr th:only-of-type {\n",
       "        vertical-align: middle;\n",
       "    }\n",
       "\n",
       "    .dataframe tbody tr th {\n",
       "        vertical-align: top;\n",
       "    }\n",
       "\n",
       "    .dataframe thead th {\n",
       "        text-align: right;\n",
       "    }\n",
       "</style>\n",
       "<table border=\"1\" class=\"dataframe\">\n",
       "  <thead>\n",
       "    <tr style=\"text-align: right;\">\n",
       "      <th></th>\n",
       "      <th>name</th>\n",
       "      <th>platform</th>\n",
       "      <th>year_of_release</th>\n",
       "      <th>genre</th>\n",
       "      <th>na_sales</th>\n",
       "      <th>eu_sales</th>\n",
       "      <th>jp_sales</th>\n",
       "      <th>other_sales</th>\n",
       "      <th>critic_score</th>\n",
       "      <th>user_score</th>\n",
       "      <th>rating</th>\n",
       "      <th>sum_sales</th>\n",
       "    </tr>\n",
       "  </thead>\n",
       "  <tbody>\n",
       "    <tr>\n",
       "      <th>4421</th>\n",
       "      <td>The Urbz: Sims in the City (all regions sales)</td>\n",
       "      <td>DS</td>\n",
       "      <td>2004</td>\n",
       "      <td>Simulation</td>\n",
       "      <td>0.40</td>\n",
       "      <td>0.01</td>\n",
       "      <td>0.02</td>\n",
       "      <td>0.00</td>\n",
       "      <td>NaN</td>\n",
       "      <td>NaN</td>\n",
       "      <td>unknown</td>\n",
       "      <td>0.43</td>\n",
       "    </tr>\n",
       "    <tr>\n",
       "      <th>13095</th>\n",
       "      <td>Tennis no Oji-Sama: 2005 Crystal Drive</td>\n",
       "      <td>DS</td>\n",
       "      <td>2004</td>\n",
       "      <td>Sports</td>\n",
       "      <td>0.00</td>\n",
       "      <td>0.00</td>\n",
       "      <td>0.05</td>\n",
       "      <td>0.00</td>\n",
       "      <td>NaN</td>\n",
       "      <td>NaN</td>\n",
       "      <td>unknown</td>\n",
       "      <td>0.05</td>\n",
       "    </tr>\n",
       "    <tr>\n",
       "      <th>11517</th>\n",
       "      <td>Kenshuui Tendo Dokuta</td>\n",
       "      <td>DS</td>\n",
       "      <td>2004</td>\n",
       "      <td>Simulation</td>\n",
       "      <td>0.00</td>\n",
       "      <td>0.00</td>\n",
       "      <td>0.08</td>\n",
       "      <td>0.00</td>\n",
       "      <td>NaN</td>\n",
       "      <td>NaN</td>\n",
       "      <td>unknown</td>\n",
       "      <td>0.08</td>\n",
       "    </tr>\n",
       "    <tr>\n",
       "      <th>6580</th>\n",
       "      <td>Polarium</td>\n",
       "      <td>DS</td>\n",
       "      <td>2004</td>\n",
       "      <td>Puzzle</td>\n",
       "      <td>0.13</td>\n",
       "      <td>0.01</td>\n",
       "      <td>0.11</td>\n",
       "      <td>0.01</td>\n",
       "      <td>73.0</td>\n",
       "      <td>8.4</td>\n",
       "      <td>E</td>\n",
       "      <td>0.26</td>\n",
       "    </tr>\n",
       "    <tr>\n",
       "      <th>14161</th>\n",
       "      <td>Puyo Pop Fever(us sales)</td>\n",
       "      <td>DS</td>\n",
       "      <td>2004</td>\n",
       "      <td>Puzzle</td>\n",
       "      <td>0.03</td>\n",
       "      <td>0.00</td>\n",
       "      <td>0.00</td>\n",
       "      <td>0.00</td>\n",
       "      <td>NaN</td>\n",
       "      <td>NaN</td>\n",
       "      <td>unknown</td>\n",
       "      <td>0.03</td>\n",
       "    </tr>\n",
       "  </tbody>\n",
       "</table>\n",
       "</div>"
      ],
      "text/plain": [
       "                                                 name platform  \\\n",
       "4421   The Urbz: Sims in the City (all regions sales)       DS   \n",
       "13095          Tennis no Oji-Sama: 2005 Crystal Drive       DS   \n",
       "11517                           Kenshuui Tendo Dokuta       DS   \n",
       "6580                                         Polarium       DS   \n",
       "14161                        Puyo Pop Fever(us sales)       DS   \n",
       "\n",
       "       year_of_release       genre  na_sales  eu_sales  jp_sales  other_sales  \\\n",
       "4421              2004  Simulation      0.40      0.01      0.02         0.00   \n",
       "13095             2004      Sports      0.00      0.00      0.05         0.00   \n",
       "11517             2004  Simulation      0.00      0.00      0.08         0.00   \n",
       "6580              2004      Puzzle      0.13      0.01      0.11         0.01   \n",
       "14161             2004      Puzzle      0.03      0.00      0.00         0.00   \n",
       "\n",
       "       critic_score  user_score   rating  sum_sales  \n",
       "4421            NaN         NaN  unknown       0.43  \n",
       "13095           NaN         NaN  unknown       0.05  \n",
       "11517           NaN         NaN  unknown       0.08  \n",
       "6580           73.0         8.4        E       0.26  \n",
       "14161           NaN         NaN  unknown       0.03  "
      ]
     },
     "execution_count": 20,
     "metadata": {},
     "output_type": "execute_result"
    }
   ],
   "source": [
    "df_games.drop(df_games[df_games['name'] == 'Strongest Tokyo University Shogi DS'].index, inplace=True)\n",
    "df_games.query('platform == \"DS\"').sort_values(by='year_of_release').head()"
   ]
  },
  {
   "cell_type": "code",
   "execution_count": 21,
   "id": "0e8d3cbb",
   "metadata": {
    "scrolled": false
   },
   "outputs": [
    {
     "data": {
      "image/png": "[encoded data removed]",
      "text/plain": [
       "<Figure size 720x576 with 1 Axes>"
      ]
     },
     "metadata": {
      "needs_background": "light"
     },
     "output_type": "display_data"
    }
   ],
   "source": [
    "top_platforms(5)"
   ]
  },
  {
   "cell_type": "markdown",
   "id": "32da38a5",
   "metadata": {},
   "source": [
    "Цикл популярности игровых платформ имеет фазу роста, фазу относительно стабильной популярности и фазу падения.\n",
    "Примерный цикл жизни платформы составляет около 10 лет."
   ]
  },
  {
   "cell_type": "markdown",
   "id": "73a18fcc",
   "metadata": {},
   "source": [
    "## Прогноз на 2017 год\n",
    "<a id=\"id_2017_prediction\"></a>\n",
    "\n",
    "Возьмем все платформы у который за 2015 и 2016 год были продажи. Все остальные удаляем, так как пик их популярности уже прошел и они уже не принесут прибыли. Так как цикл жизни составляет около 10 лет, возьмем данные с 2012 года. Этого хватит чтобы оценить в какой стадии цикла платформа и делать какие-либо прогнозы."
   ]
  },
  {
   "cell_type": "code",
   "execution_count": 22,
   "id": "a86ce942",
   "metadata": {},
   "outputs": [],
   "source": [
    "start_period = 2012"
   ]
  },
  {
   "cell_type": "code",
   "execution_count": 23,
   "id": "5398fa62",
   "metadata": {
    "scrolled": false
   },
   "outputs": [
    {
     "data": {
      "text/html": [
       "<div>\n",
       "<style scoped>\n",
       "    .dataframe tbody tr th:only-of-type {\n",
       "        vertical-align: middle;\n",
       "    }\n",
       "\n",
       "    .dataframe tbody tr th {\n",
       "        vertical-align: top;\n",
       "    }\n",
       "\n",
       "    .dataframe thead th {\n",
       "        text-align: right;\n",
       "    }\n",
       "</style>\n",
       "<table border=\"1\" class=\"dataframe\">\n",
       "  <thead>\n",
       "    <tr style=\"text-align: right;\">\n",
       "      <th></th>\n",
       "      <th>3DS</th>\n",
       "      <th>PC</th>\n",
       "      <th>PS3</th>\n",
       "      <th>PS4</th>\n",
       "      <th>PSP</th>\n",
       "      <th>PSV</th>\n",
       "      <th>Wii</th>\n",
       "      <th>WiiU</th>\n",
       "      <th>X360</th>\n",
       "      <th>XOne</th>\n",
       "    </tr>\n",
       "  </thead>\n",
       "  <tbody>\n",
       "    <tr>\n",
       "      <th>2012</th>\n",
       "      <td>51.36</td>\n",
       "      <td>23.22</td>\n",
       "      <td>107.36</td>\n",
       "      <td>NaN</td>\n",
       "      <td>7.69</td>\n",
       "      <td>16.19</td>\n",
       "      <td>21.71</td>\n",
       "      <td>17.56</td>\n",
       "      <td>99.74</td>\n",
       "      <td>NaN</td>\n",
       "    </tr>\n",
       "    <tr>\n",
       "      <th>2013</th>\n",
       "      <td>56.57</td>\n",
       "      <td>12.38</td>\n",
       "      <td>113.25</td>\n",
       "      <td>25.99</td>\n",
       "      <td>3.14</td>\n",
       "      <td>10.59</td>\n",
       "      <td>8.59</td>\n",
       "      <td>21.65</td>\n",
       "      <td>88.58</td>\n",
       "      <td>18.96</td>\n",
       "    </tr>\n",
       "    <tr>\n",
       "      <th>2014</th>\n",
       "      <td>43.76</td>\n",
       "      <td>13.28</td>\n",
       "      <td>47.76</td>\n",
       "      <td>100.00</td>\n",
       "      <td>0.24</td>\n",
       "      <td>11.90</td>\n",
       "      <td>3.75</td>\n",
       "      <td>22.03</td>\n",
       "      <td>34.74</td>\n",
       "      <td>54.07</td>\n",
       "    </tr>\n",
       "    <tr>\n",
       "      <th>2015</th>\n",
       "      <td>27.78</td>\n",
       "      <td>8.52</td>\n",
       "      <td>16.82</td>\n",
       "      <td>118.90</td>\n",
       "      <td>0.12</td>\n",
       "      <td>6.25</td>\n",
       "      <td>1.14</td>\n",
       "      <td>16.35</td>\n",
       "      <td>11.96</td>\n",
       "      <td>60.14</td>\n",
       "    </tr>\n",
       "    <tr>\n",
       "      <th>2016</th>\n",
       "      <td>15.14</td>\n",
       "      <td>5.25</td>\n",
       "      <td>3.60</td>\n",
       "      <td>69.25</td>\n",
       "      <td>NaN</td>\n",
       "      <td>4.25</td>\n",
       "      <td>0.18</td>\n",
       "      <td>4.60</td>\n",
       "      <td>1.52</td>\n",
       "      <td>26.15</td>\n",
       "    </tr>\n",
       "  </tbody>\n",
       "</table>\n",
       "</div>"
      ],
      "text/plain": [
       "        3DS     PC     PS3     PS4   PSP    PSV    Wii   WiiU   X360   XOne\n",
       "2012  51.36  23.22  107.36     NaN  7.69  16.19  21.71  17.56  99.74    NaN\n",
       "2013  56.57  12.38  113.25   25.99  3.14  10.59   8.59  21.65  88.58  18.96\n",
       "2014  43.76  13.28   47.76  100.00  0.24  11.90   3.75  22.03  34.74  54.07\n",
       "2015  27.78   8.52   16.82  118.90  0.12   6.25   1.14  16.35  11.96  60.14\n",
       "2016  15.14   5.25    3.60   69.25   NaN   4.25   0.18   4.60   1.52  26.15"
      ]
     },
     "metadata": {},
     "output_type": "display_data"
    }
   ],
   "source": [
    "# создаем лист с платфрмами и годами\n",
    "platforms = list(df_games['platform'].sort_values().unique())\n",
    "years = list(range(start_period,2017))\n",
    "    \n",
    "plat_years = df_games.groupby(['platform','year_of_release'])['sum_sales'].sum()\n",
    "    \n",
    "plotdata = pd.DataFrame(0, index=years, columns=platforms)\n",
    "    \n",
    "for plat in platforms:\n",
    "    plotdata[plat] = plat_years[plat]\n",
    "    \n",
    "for plat in platforms:\n",
    "    if ( np.isnan(plotdata[plat][2015])==True &\n",
    "         np.isnan(plotdata[plat][2016])==True ):\n",
    "        plotdata = plotdata.drop(columns=plat,axis=1)\n",
    "\n",
    "display(plotdata)"
   ]
  },
  {
   "cell_type": "markdown",
   "id": "89367fbb",
   "metadata": {},
   "source": [
    "Посмотрим на график выбранных платформ"
   ]
  },
  {
   "cell_type": "code",
   "execution_count": 24,
   "id": "7e6d0fa0",
   "metadata": {},
   "outputs": [
    {
     "data": {
      "text/plain": [
       "Text(0, 0.5, 'Sum_sales')"
      ]
     },
     "execution_count": 24,
     "metadata": {},
     "output_type": "execute_result"
    },
    {
     "data": {
      "image/png": "[encoded data removed]",
      "text/plain": [
       "<Figure size 720x576 with 1 Axes>"
      ]
     },
     "metadata": {
      "needs_background": "light"
     },
     "output_type": "display_data"
    }
   ],
   "source": [
    "plotdata.plot(kind='line',marker=\"o\",figsize=fig_size)\n",
    "plt.title(\"Продажи игр по годам для популярных в 2015 и 2016 платформ\")\n",
    "plt.xticks(np.arange(plotdata.index.min(), plotdata.index.max()+1, 1))\n",
    "plt.xlabel(\"Years\")\n",
    "plt.ylabel(\"Sum_sales\")\n"
   ]
  },
  {
   "cell_type": "markdown",
   "id": "17667bbe",
   "metadata": {},
   "source": [
    "Из графика видно, что продажи для всех платформ снижаются. Возможно игры становятся менее популярными или должны проявится принципиально новые платформы.\n",
    "\n",
    "Выберем потенциально прибыльные платформы на 2017 год. Так как продажи снижаются для всех платформ, выберем те, у которых продажи за 2016 год самые высокие:"
   ]
  },
  {
   "cell_type": "code",
   "execution_count": 25,
   "id": "6a4fbc1d",
   "metadata": {},
   "outputs": [
    {
     "data": {
      "text/plain": [
       "PS4     69.25\n",
       "XOne    26.15\n",
       "3DS     15.14\n",
       "PC       5.25\n",
       "WiiU     4.60\n",
       "PSV      4.25\n",
       "PS3      3.60\n",
       "X360     1.52\n",
       "Wii      0.18\n",
       "PSP       NaN\n",
       "Name: 2016, dtype: float64"
      ]
     },
     "execution_count": 25,
     "metadata": {},
     "output_type": "execute_result"
    }
   ],
   "source": [
    "plotdata.loc[2016].sort_values(ascending=False)"
   ]
  },
  {
   "cell_type": "markdown",
   "id": "4784548b",
   "metadata": {},
   "source": [
    "По продажам лидируют платформы:\n",
    "- PS4\n",
    "- XOne\n",
    "- 3DS\n",
    "\n",
    "Однако все платформы уже прошли пик своей популярности и их продажи падают.\n",
    "\n",
    "Эти же платформы можно назвать потенциально прибыльными на 2017."
   ]
  },
  {
   "cell_type": "markdown",
   "id": "23ece359",
   "metadata": {},
   "source": [
    "Далее требуется работ только с данными за актуальный период, поэтому выделим их в отдельный датафрейм для удобства.\n"
   ]
  },
  {
   "cell_type": "code",
   "execution_count": 26,
   "id": "663c4213",
   "metadata": {},
   "outputs": [
    {
     "data": {
      "text/plain": [
       "platform\n",
       "PS4     314.14\n",
       "PS3     288.79\n",
       "X360    236.54\n",
       "3DS     194.61\n",
       "XOne    159.32\n",
       "WiiU     82.19\n",
       "PC       62.65\n",
       "PSV      49.18\n",
       "Wii      35.37\n",
       "DS       12.55\n",
       "PSP      11.19\n",
       "Name: sum_sales, dtype: float64"
      ]
     },
     "execution_count": 26,
     "metadata": {},
     "output_type": "execute_result"
    }
   ],
   "source": [
    "df_games_actual = df_games.query('year_of_release >= @start_period')\n",
    "df_games_actual.groupby('platform')['sum_sales'].sum().sort_values(ascending = False)"
   ]
  },
  {
   "cell_type": "markdown",
   "id": "d4710b14",
   "metadata": {},
   "source": [
    "**График «ящик с усами» по глобальным продажам игр в разбивке по платформам**\n",
    "\n",
    "Возьмем платформы с самыми крупными продажами за актуальный период (2012-2016):  PS4, PS3, X360, 3DS, XOne, WiiU. И посмотрим как варьировались продажи. Для этого построим boxplot."
   ]
  },
  {
   "cell_type": "code",
   "execution_count": 27,
   "id": "17c9635c",
   "metadata": {},
   "outputs": [],
   "source": [
    "platforms = ['PS4','PS3', 'X360', '3DS', 'XOne', 'WiiU']\n",
    "df_games_actual = df_games_actual.query(\"platform in @platforms\")"
   ]
  },
  {
   "cell_type": "code",
   "execution_count": 28,
   "id": "caa2b110",
   "metadata": {
    "scrolled": false
   },
   "outputs": [],
   "source": [
    "# df_games_actual.plot(kind='box',column='sum_sales',by='platform',figsize=fig_size,grid=True)\n",
    "# plt.title(\"Диаграмма размаха продаж для наиболее популярных платформ\")"
   ]
  },
  {
   "cell_type": "code",
   "execution_count": 29,
   "id": "e1410920",
   "metadata": {},
   "outputs": [
    {
     "data": {
      "text/plain": [
       "Text(0.5, 1.0, 'Диаграмма размаха продаж для наиболее популярных платформ')"
      ]
     },
     "execution_count": 29,
     "metadata": {},
     "output_type": "execute_result"
    },
    {
     "data": {
      "image/png": "[encoded data removed]",
      "text/plain": [
       "<Figure size 720x576 with 1 Axes>"
      ]
     },
     "metadata": {
      "needs_background": "light"
     },
     "output_type": "display_data"
    }
   ],
   "source": [
    "# код ревьюера\n",
    "df_games_actual.boxplot(column='sum_sales',by='platform',figsize=fig_size,grid=True)\n",
    "plt.title(\"Диаграмма размаха продаж для наиболее популярных платформ\")"
   ]
  },
  {
   "cell_type": "markdown",
   "id": "dd05e70d",
   "metadata": {},
   "source": [
    "Выбросов много и они большие. Изменим диапазон, чтобы стал виден размах и медианные значения."
   ]
  },
  {
   "cell_type": "code",
   "execution_count": 30,
   "id": "b9e0ea51",
   "metadata": {},
   "outputs": [
    {
     "data": {
      "text/plain": [
       "Text(0.5, 1.0, 'Диаграмма размаха продаж для наиболее популярных платформ')"
      ]
     },
     "execution_count": 30,
     "metadata": {},
     "output_type": "execute_result"
    },
    {
     "data": {
      "image/png": "[encoded data removed]",
      "text/plain": [
       "<Figure size 720x576 with 1 Axes>"
      ]
     },
     "metadata": {
      "needs_background": "light"
     },
     "output_type": "display_data"
    }
   ],
   "source": [
    "df_games_actual.boxplot(column='sum_sales',by='platform',figsize=fig_size,grid=True)\n",
    "plt.ylim(0, 2)\n",
    "plt.title(\"Диаграмма размаха продаж для наиболее популярных платформ\")"
   ]
  },
  {
   "cell_type": "markdown",
   "id": "37dcf192",
   "metadata": {},
   "source": [
    "В среднем медианное значение продаж находится около 0.25, за исключением 3DS (около 0.1), следовательно большая часть игр не пользуется популярностью. При этом достаточно много выбросов, что говорит о достаточном количесве игр с популярностью выше среднего."
   ]
  },
  {
   "cell_type": "markdown",
   "id": "46d643f0",
   "metadata": {},
   "source": [
    "#### **Влияние отзывов пользователей и критиков на продажи внутри одной популярной платформы**\n",
    "\n",
    "Возьмем платформу PS4 как самую популярную в указанном периоде."
   ]
  },
  {
   "cell_type": "code",
   "execution_count": 31,
   "id": "7ed44753",
   "metadata": {},
   "outputs": [],
   "source": [
    "score_sales_corr = df_games_actual[ (df_games_actual['platform'] == 'PS4') &\n",
    "                                    (df_games_actual['critic_score'].isna()==False) & \n",
    "                                    (df_games_actual['user_score'].isna()==False)][['critic_score','user_score','sum_sales']]"
   ]
  },
  {
   "cell_type": "code",
   "execution_count": 32,
   "id": "64376745",
   "metadata": {},
   "outputs": [
    {
     "data": {
      "text/html": [
       "<div>\n",
       "<style scoped>\n",
       "    .dataframe tbody tr th:only-of-type {\n",
       "        vertical-align: middle;\n",
       "    }\n",
       "\n",
       "    .dataframe tbody tr th {\n",
       "        vertical-align: top;\n",
       "    }\n",
       "\n",
       "    .dataframe thead th {\n",
       "        text-align: right;\n",
       "    }\n",
       "</style>\n",
       "<table border=\"1\" class=\"dataframe\">\n",
       "  <thead>\n",
       "    <tr style=\"text-align: right;\">\n",
       "      <th></th>\n",
       "      <th>critic_score</th>\n",
       "      <th>user_score</th>\n",
       "      <th>sum_sales</th>\n",
       "    </tr>\n",
       "  </thead>\n",
       "  <tbody>\n",
       "    <tr>\n",
       "      <th>critic_score</th>\n",
       "      <td>1.000000</td>\n",
       "      <td>0.557654</td>\n",
       "      <td>0.405895</td>\n",
       "    </tr>\n",
       "    <tr>\n",
       "      <th>user_score</th>\n",
       "      <td>0.557654</td>\n",
       "      <td>1.000000</td>\n",
       "      <td>-0.033625</td>\n",
       "    </tr>\n",
       "    <tr>\n",
       "      <th>sum_sales</th>\n",
       "      <td>0.405895</td>\n",
       "      <td>-0.033625</td>\n",
       "      <td>1.000000</td>\n",
       "    </tr>\n",
       "  </tbody>\n",
       "</table>\n",
       "</div>"
      ],
      "text/plain": [
       "              critic_score  user_score  sum_sales\n",
       "critic_score      1.000000    0.557654   0.405895\n",
       "user_score        0.557654    1.000000  -0.033625\n",
       "sum_sales         0.405895   -0.033625   1.000000"
      ]
     },
     "execution_count": 32,
     "metadata": {},
     "output_type": "execute_result"
    }
   ],
   "source": [
    "score_sales_corr.corr()"
   ]
  },
  {
   "cell_type": "code",
   "execution_count": 33,
   "id": "8ee4a930",
   "metadata": {},
   "outputs": [
    {
     "data": {
      "image/png": "[encoded data removed]",
      "text/plain": [
       "<Figure size 432x288 with 1 Axes>"
      ]
     },
     "metadata": {
      "needs_background": "light"
     },
     "output_type": "display_data"
    },
    {
     "data": {
      "image/png": "[encoded data removed]",
      "text/plain": [
       "<Figure size 432x288 with 1 Axes>"
      ]
     },
     "metadata": {
      "needs_background": "light"
     },
     "output_type": "display_data"
    }
   ],
   "source": [
    "score_sales_corr.plot(x='critic_score',\n",
    "                      y='sum_sales',\n",
    "                      kind='scatter',\n",
    "                      grid=True)\n",
    "plt.title('График разброса продаж от оценки критиков')\n",
    "\n",
    "plt.show()\n",
    "\n",
    "score_sales_corr.plot(x='user_score',\n",
    "                      y='sum_sales',\n",
    "                      kind='scatter',\n",
    "                      grid=True)\n",
    "plt.title('График разброса продаж от оценки пользователей')\n",
    "\n",
    "plt.show()"
   ]
  },
  {
   "cell_type": "markdown",
   "id": "f0476bab",
   "metadata": {},
   "source": [
    "Наблюдается положительная зависимость продаж от оценки критиков (corr=0.40), а вот оценки пользователей не влияют на продажи - коэффициент корреляции близок к 0. "
   ]
  },
  {
   "cell_type": "code",
   "execution_count": 34,
   "id": "b066bac6",
   "metadata": {},
   "outputs": [
    {
     "data": {
      "text/html": [
       "<div>\n",
       "<style scoped>\n",
       "    .dataframe tbody tr th:only-of-type {\n",
       "        vertical-align: middle;\n",
       "    }\n",
       "\n",
       "    .dataframe tbody tr th {\n",
       "        vertical-align: top;\n",
       "    }\n",
       "\n",
       "    .dataframe thead th {\n",
       "        text-align: right;\n",
       "    }\n",
       "</style>\n",
       "<table border=\"1\" class=\"dataframe\">\n",
       "  <thead>\n",
       "    <tr style=\"text-align: right;\">\n",
       "      <th></th>\n",
       "      <th>critic_score</th>\n",
       "      <th>user_score</th>\n",
       "      <th>sum_sales</th>\n",
       "    </tr>\n",
       "  </thead>\n",
       "  <tbody>\n",
       "    <tr>\n",
       "      <th>critic_score</th>\n",
       "      <td>1.000000</td>\n",
       "      <td>0.539456</td>\n",
       "      <td>0.331057</td>\n",
       "    </tr>\n",
       "    <tr>\n",
       "      <th>user_score</th>\n",
       "      <td>0.539456</td>\n",
       "      <td>1.000000</td>\n",
       "      <td>0.003227</td>\n",
       "    </tr>\n",
       "    <tr>\n",
       "      <th>sum_sales</th>\n",
       "      <td>0.331057</td>\n",
       "      <td>0.003227</td>\n",
       "      <td>1.000000</td>\n",
       "    </tr>\n",
       "  </tbody>\n",
       "</table>\n",
       "</div>"
      ],
      "text/plain": [
       "              critic_score  user_score  sum_sales\n",
       "critic_score      1.000000    0.539456   0.331057\n",
       "user_score        0.539456    1.000000   0.003227\n",
       "sum_sales         0.331057    0.003227   1.000000"
      ]
     },
     "execution_count": 34,
     "metadata": {},
     "output_type": "execute_result"
    }
   ],
   "source": [
    "df_games_actual[ (df_games_actual['platform'] == 'PS3') &\n",
    "                 (df_games_actual['critic_score'].isna()==False) & \n",
    "                 (df_games_actual['user_score'].isna()==False)][['critic_score','user_score','sum_sales']] \\\n",
    "               .corr()"
   ]
  },
  {
   "cell_type": "code",
   "execution_count": 35,
   "id": "86b4c143",
   "metadata": {},
   "outputs": [
    {
     "data": {
      "text/html": [
       "<div>\n",
       "<style scoped>\n",
       "    .dataframe tbody tr th:only-of-type {\n",
       "        vertical-align: middle;\n",
       "    }\n",
       "\n",
       "    .dataframe tbody tr th {\n",
       "        vertical-align: top;\n",
       "    }\n",
       "\n",
       "    .dataframe thead th {\n",
       "        text-align: right;\n",
       "    }\n",
       "</style>\n",
       "<table border=\"1\" class=\"dataframe\">\n",
       "  <thead>\n",
       "    <tr style=\"text-align: right;\">\n",
       "      <th></th>\n",
       "      <th>critic_score</th>\n",
       "      <th>user_score</th>\n",
       "      <th>sum_sales</th>\n",
       "    </tr>\n",
       "  </thead>\n",
       "  <tbody>\n",
       "    <tr>\n",
       "      <th>critic_score</th>\n",
       "      <td>1.000000</td>\n",
       "      <td>0.557352</td>\n",
       "      <td>0.360573</td>\n",
       "    </tr>\n",
       "    <tr>\n",
       "      <th>user_score</th>\n",
       "      <td>0.557352</td>\n",
       "      <td>1.000000</td>\n",
       "      <td>-0.002014</td>\n",
       "    </tr>\n",
       "    <tr>\n",
       "      <th>sum_sales</th>\n",
       "      <td>0.360573</td>\n",
       "      <td>-0.002014</td>\n",
       "      <td>1.000000</td>\n",
       "    </tr>\n",
       "  </tbody>\n",
       "</table>\n",
       "</div>"
      ],
      "text/plain": [
       "              critic_score  user_score  sum_sales\n",
       "critic_score      1.000000    0.557352   0.360573\n",
       "user_score        0.557352    1.000000  -0.002014\n",
       "sum_sales         0.360573   -0.002014   1.000000"
      ]
     },
     "execution_count": 35,
     "metadata": {},
     "output_type": "execute_result"
    }
   ],
   "source": [
    "df_games_actual[ (df_games_actual['platform'] == 'X360') & \n",
    "                 (df_games_actual['critic_score'].isna()==False) & \n",
    "                 (df_games_actual['user_score'].isna()==False)][['critic_score','user_score','sum_sales']] \\\n",
    "               .corr()"
   ]
  },
  {
   "cell_type": "code",
   "execution_count": 36,
   "id": "8c5465f3",
   "metadata": {},
   "outputs": [
    {
     "data": {
      "text/html": [
       "<div>\n",
       "<style scoped>\n",
       "    .dataframe tbody tr th:only-of-type {\n",
       "        vertical-align: middle;\n",
       "    }\n",
       "\n",
       "    .dataframe tbody tr th {\n",
       "        vertical-align: top;\n",
       "    }\n",
       "\n",
       "    .dataframe thead th {\n",
       "        text-align: right;\n",
       "    }\n",
       "</style>\n",
       "<table border=\"1\" class=\"dataframe\">\n",
       "  <thead>\n",
       "    <tr style=\"text-align: right;\">\n",
       "      <th></th>\n",
       "      <th>critic_score</th>\n",
       "      <th>user_score</th>\n",
       "      <th>sum_sales</th>\n",
       "    </tr>\n",
       "  </thead>\n",
       "  <tbody>\n",
       "    <tr>\n",
       "      <th>critic_score</th>\n",
       "      <td>1.000000</td>\n",
       "      <td>0.722762</td>\n",
       "      <td>0.310553</td>\n",
       "    </tr>\n",
       "    <tr>\n",
       "      <th>user_score</th>\n",
       "      <td>0.722762</td>\n",
       "      <td>1.000000</td>\n",
       "      <td>0.201813</td>\n",
       "    </tr>\n",
       "    <tr>\n",
       "      <th>sum_sales</th>\n",
       "      <td>0.310553</td>\n",
       "      <td>0.201813</td>\n",
       "      <td>1.000000</td>\n",
       "    </tr>\n",
       "  </tbody>\n",
       "</table>\n",
       "</div>"
      ],
      "text/plain": [
       "              critic_score  user_score  sum_sales\n",
       "critic_score      1.000000    0.722762   0.310553\n",
       "user_score        0.722762    1.000000   0.201813\n",
       "sum_sales         0.310553    0.201813   1.000000"
      ]
     },
     "execution_count": 36,
     "metadata": {},
     "output_type": "execute_result"
    }
   ],
   "source": [
    "df_games_actual[ (df_games_actual['platform'] == '3DS') &\n",
    "                 (df_games_actual['critic_score'].isna()==False) & \n",
    "                 (df_games_actual['user_score'].isna()==False)][['critic_score','user_score','sum_sales']] \\\n",
    "               .corr()"
   ]
  },
  {
   "cell_type": "code",
   "execution_count": 37,
   "id": "1f49e905",
   "metadata": {},
   "outputs": [
    {
     "data": {
      "text/html": [
       "<div>\n",
       "<style scoped>\n",
       "    .dataframe tbody tr th:only-of-type {\n",
       "        vertical-align: middle;\n",
       "    }\n",
       "\n",
       "    .dataframe tbody tr th {\n",
       "        vertical-align: top;\n",
       "    }\n",
       "\n",
       "    .dataframe thead th {\n",
       "        text-align: right;\n",
       "    }\n",
       "</style>\n",
       "<table border=\"1\" class=\"dataframe\">\n",
       "  <thead>\n",
       "    <tr style=\"text-align: right;\">\n",
       "      <th></th>\n",
       "      <th>critic_score</th>\n",
       "      <th>user_score</th>\n",
       "      <th>sum_sales</th>\n",
       "    </tr>\n",
       "  </thead>\n",
       "  <tbody>\n",
       "    <tr>\n",
       "      <th>critic_score</th>\n",
       "      <td>1.000000</td>\n",
       "      <td>0.472462</td>\n",
       "      <td>0.410422</td>\n",
       "    </tr>\n",
       "    <tr>\n",
       "      <th>user_score</th>\n",
       "      <td>0.472462</td>\n",
       "      <td>1.000000</td>\n",
       "      <td>-0.094003</td>\n",
       "    </tr>\n",
       "    <tr>\n",
       "      <th>sum_sales</th>\n",
       "      <td>0.410422</td>\n",
       "      <td>-0.094003</td>\n",
       "      <td>1.000000</td>\n",
       "    </tr>\n",
       "  </tbody>\n",
       "</table>\n",
       "</div>"
      ],
      "text/plain": [
       "              critic_score  user_score  sum_sales\n",
       "critic_score      1.000000    0.472462   0.410422\n",
       "user_score        0.472462    1.000000  -0.094003\n",
       "sum_sales         0.410422   -0.094003   1.000000"
      ]
     },
     "execution_count": 37,
     "metadata": {},
     "output_type": "execute_result"
    }
   ],
   "source": [
    "df_games_actual[ (df_games_actual['platform'] == 'XOne') &\n",
    "                 (df_games_actual['critic_score'].isna()==False) & \n",
    "                 (df_games_actual['user_score'].isna()==False)][['critic_score','user_score','sum_sales']] \\\n",
    "               .corr()"
   ]
  },
  {
   "cell_type": "code",
   "execution_count": 38,
   "id": "579d5586",
   "metadata": {},
   "outputs": [
    {
     "data": {
      "text/html": [
       "<div>\n",
       "<style scoped>\n",
       "    .dataframe tbody tr th:only-of-type {\n",
       "        vertical-align: middle;\n",
       "    }\n",
       "\n",
       "    .dataframe tbody tr th {\n",
       "        vertical-align: top;\n",
       "    }\n",
       "\n",
       "    .dataframe thead th {\n",
       "        text-align: right;\n",
       "    }\n",
       "</style>\n",
       "<table border=\"1\" class=\"dataframe\">\n",
       "  <thead>\n",
       "    <tr style=\"text-align: right;\">\n",
       "      <th></th>\n",
       "      <th>critic_score</th>\n",
       "      <th>user_score</th>\n",
       "      <th>sum_sales</th>\n",
       "    </tr>\n",
       "  </thead>\n",
       "  <tbody>\n",
       "    <tr>\n",
       "      <th>critic_score</th>\n",
       "      <td>1.000000</td>\n",
       "      <td>0.770080</td>\n",
       "      <td>0.350882</td>\n",
       "    </tr>\n",
       "    <tr>\n",
       "      <th>user_score</th>\n",
       "      <td>0.770080</td>\n",
       "      <td>1.000000</td>\n",
       "      <td>0.391848</td>\n",
       "    </tr>\n",
       "    <tr>\n",
       "      <th>sum_sales</th>\n",
       "      <td>0.350882</td>\n",
       "      <td>0.391848</td>\n",
       "      <td>1.000000</td>\n",
       "    </tr>\n",
       "  </tbody>\n",
       "</table>\n",
       "</div>"
      ],
      "text/plain": [
       "              critic_score  user_score  sum_sales\n",
       "critic_score      1.000000    0.770080   0.350882\n",
       "user_score        0.770080    1.000000   0.391848\n",
       "sum_sales         0.350882    0.391848   1.000000"
      ]
     },
     "execution_count": 38,
     "metadata": {},
     "output_type": "execute_result"
    }
   ],
   "source": [
    "df_games_actual[ (df_games_actual['platform'] == 'WiiU') &\n",
    "                 (df_games_actual['critic_score'].isna()==False) & \n",
    "                 (df_games_actual['user_score'].isna()==False)][['critic_score','user_score','sum_sales']] \\\n",
    "               .corr()"
   ]
  },
  {
   "cell_type": "markdown",
   "id": "f2bffbb0",
   "metadata": {},
   "source": [
    "Для всех шести топовых игровых платформ наблюдается положительная зависимость продаж от оценки критиков с уровнем корреляци 0.3-0.4. В то время как оценки пользователей не влияют на продажи игр. Коэффициетн корреляции продаж  с оценкой пользователей около нуля."
   ]
  },
  {
   "cell_type": "markdown",
   "id": "7eb85bc9",
   "metadata": {},
   "source": [
    "**Зависимость продаж от жанра игры**\n",
    "\n"
   ]
  },
  {
   "cell_type": "code",
   "execution_count": 39,
   "id": "a7a71ce5",
   "metadata": {},
   "outputs": [
    {
     "data": {
      "text/plain": [
       "genre\n",
       "Action          721\n",
       "Role-Playing    226\n",
       "Sports          211\n",
       "Shooter         190\n",
       "Misc            138\n",
       "Adventure       136\n",
       "Fighting         88\n",
       "Racing           85\n",
       "Platform         70\n",
       "Simulation       50\n",
       "Strategy         33\n",
       "Puzzle           19\n",
       "Name: sum_sales, dtype: int64"
      ]
     },
     "execution_count": 39,
     "metadata": {},
     "output_type": "execute_result"
    }
   ],
   "source": [
    "df_games_actual.groupby('genre')['sum_sales'].count().sort_values(ascending=False)"
   ]
  },
  {
   "cell_type": "code",
   "execution_count": 40,
   "id": "5dbd6d4e",
   "metadata": {
    "scrolled": true
   },
   "outputs": [
    {
     "data": {
      "text/plain": [
       "genre\n",
       "Action          395.32\n",
       "Shooter         288.12\n",
       "Sports          170.97\n",
       "Role-Playing    154.15\n",
       "Misc             61.24\n",
       "Platform         55.66\n",
       "Racing           50.05\n",
       "Fighting         41.80\n",
       "Simulation       25.36\n",
       "Adventure        22.85\n",
       "Strategy          6.03\n",
       "Puzzle            4.04\n",
       "Name: sum_sales, dtype: float64"
      ]
     },
     "execution_count": 40,
     "metadata": {},
     "output_type": "execute_result"
    }
   ],
   "source": [
    "df_games_actual.groupby('genre')['sum_sales'].sum().sort_values(ascending=False)"
   ]
  },
  {
   "cell_type": "markdown",
   "id": "2110d4a3",
   "metadata": {},
   "source": [
    "Набольшее количесво игр в 2012-2016гг. выпускается в жанрах 'action','role-playing' и 'sports'. В рейтенге продаж 'action','sports' сохраняют свои позиции, а вот на второе место по продажам выходит жанр 'shooter', что говорит в среднем больших продажах каждой отдельной игры в этом жанре. Посмортим на диаграмму размаха по жанрам"
   ]
  },
  {
   "cell_type": "code",
   "execution_count": 41,
   "id": "61b1029f",
   "metadata": {},
   "outputs": [
    {
     "data": {
      "text/plain": [
       "Text(0.5, 1.0, 'Диаграмма размаха продаж для разных жанров')"
      ]
     },
     "execution_count": 41,
     "metadata": {},
     "output_type": "execute_result"
    },
    {
     "data": {
      "image/png": "[encoded data removed]",
      "text/plain": [
       "<Figure size 1080x576 with 1 Axes>"
      ]
     },
     "metadata": {
      "needs_background": "light"
     },
     "output_type": "display_data"
    }
   ],
   "source": [
    "df_games_actual.boxplot(column='sum_sales',by='genre',figsize=(15,8),grid=True)\n",
    "plt.ylim(0, 2)\n",
    "plt.title(\"Диаграмма размаха продаж для разных жанров\")"
   ]
  },
  {
   "cell_type": "code",
   "execution_count": 42,
   "id": "95b9e9ed",
   "metadata": {},
   "outputs": [
    {
     "data": {
      "text/plain": [
       "genre\n",
       "Shooter         0.555\n",
       "Sports          0.380\n",
       "Platform        0.250\n",
       "Racing          0.230\n",
       "Role-Playing    0.210\n",
       "Fighting        0.185\n",
       "Action          0.170\n",
       "Misc            0.165\n",
       "Simulation      0.140\n",
       "Strategy        0.090\n",
       "Puzzle          0.070\n",
       "Adventure       0.060\n",
       "Name: sum_sales, dtype: float64"
      ]
     },
     "execution_count": 42,
     "metadata": {},
     "output_type": "execute_result"
    }
   ],
   "source": [
    "df_games_actual.groupby('genre')['sum_sales'].median().sort_values(ascending=False)"
   ]
  },
  {
   "cell_type": "markdown",
   "id": "baf76e6b",
   "metadata": {},
   "source": [
    "Наибольшие медианные продажи у жанра 'Shooter'. Далее по медианным продажам идут жанры 'Sports','Platform', 'Racing', что всвязи с количесвом выпускаемых игр в каждом жанре дает лидеров по суммарным прдажам -- 'action', 'shooter' и 'sports'."
   ]
  },
  {
   "cell_type": "markdown",
   "id": "746839b7",
   "metadata": {},
   "source": [
    "### Вывод"
   ]
  },
  {
   "cell_type": "markdown",
   "id": "f7f20c7f",
   "metadata": {},
   "source": [
    "Исследовательский анализ данных показал:\n",
    "\n",
    "- Примерный цикл жизни платформы составляет около 10 лет. Цикл имеет фазу роста, фазу относительно стабильной популярности и фазу падения.\n",
    "- Продажи для всех платформ снижаются. Возможно игры становятся менее популярными или должны проявится принципиально новые платформы.\n",
    "- Потенциально прибыльные платформы на 2017 год:\n",
    "  - PS4\n",
    "  - XOne\n",
    "  - 3DS\n",
    "- Для шести самых популярных платформ, медианное значение продаж находится около 0.25, за исключением 3DS (около 0.1). При этом достаточно много выбросов, что говорит о достаточном количесве игр с популярностью выше среднего. \n",
    "- наблюдается положительная зависимость продаж от оценки критиков с уровнем корреляци 0.3-0.4. В то время как оценки пользователей не влияют на продажи игр с уровнем корреляци около нуля.\n",
    "- Набольшее количесво игр выпускается в жанрах 'action','role-playind' и 'sports'. \n",
    "- Набольшее количесво игр продается в жанрах 'action','shooter' и 'sports'.\n",
    "<font color='Blue'>\n",
    "- По медианным продажам, лидируют игры в жанрах shooter', 'sports' и 'platform'\n",
    "</font>"
   ]
  },
  {
   "cell_type": "markdown",
   "id": "c81c9f1e",
   "metadata": {},
   "source": [
    "## Портрет пользователя каждого региона\n",
    "<a id=\"id_user_profile\"></a>\n",
    "   \n",
    "**Топ-5 популярных платформ**"
   ]
  },
  {
   "cell_type": "code",
   "execution_count": 43,
   "id": "db8ed7fa",
   "metadata": {},
   "outputs": [
    {
     "data": {
      "image/png": "[encoded data removed]",
      "text/plain": [
       "<Figure size 720x576 with 3 Axes>"
      ]
     },
     "metadata": {
      "needs_background": "light"
     },
     "output_type": "display_data"
    }
   ],
   "source": [
    "n=5\n",
    "\n",
    "plt.subplot(1,3,1)\n",
    "df_games_actual.groupby('platform')['na_sales'].sum().sort_values(ascending=False)[:n] \\\n",
    "               .plot(kind='bar',figsize=fig_size)\n",
    "plt.title('в Северной Америке')\n",
    "plt.ylabel(\"Sales\")\n",
    "plt.xlabel(\"Platform name\")\n",
    "\n",
    "plt.subplot(1,3,2)\n",
    "df_games_actual.groupby('platform')['eu_sales'].sum().sort_values(ascending=False)[:n] \\\n",
    "               .plot(kind='bar',figsize=fig_size)\n",
    "plt.title('в Евросоюзе')\n",
    "plt.xlabel(\"Platform name\")\n",
    "\n",
    "plt.subplot(1,3,3)\n",
    "df_games_actual.groupby('platform')['jp_sales'].sum().sort_values(ascending=False)[:n] \\\n",
    "               .plot(kind='bar',figsize=fig_size)\n",
    "plt.title('в Японии')\n",
    "plt.xlabel(\"Platform name\")\n",
    "\n",
    "plt.suptitle(f'Топ-{n} популярных платформ по регионам')\n",
    "plt.show()"
   ]
  },
  {
   "cell_type": "markdown",
   "id": "36f75fec",
   "metadata": {},
   "source": [
    "Рейтинг топ-5 платформ для Америки и Европы похож -- в нем представлены одинаковые платформы. Различие в местах, которые они занимают в конкретном рейтенге, и то только для тройки лидеров. Так в Америке лидером является X360, а в Европе PS4.\n",
    "\n",
    "Рейтинг в Японии отличается от других регионов: \n",
    "- во-первых в топ-5 вошла платформа WiiU, которой нет ни в американском, ни в европейском топ-5, \n",
    "- во-вторых первое место в японском рейтенге занимает 3DS, которая находится на 5 месте в рейтенгах других регионов."
   ]
  },
  {
   "cell_type": "markdown",
   "id": "ac97e317",
   "metadata": {},
   "source": [
    "**Топ-5 популярных жанров**"
   ]
  },
  {
   "cell_type": "code",
   "execution_count": 44,
   "id": "f118ef5c",
   "metadata": {},
   "outputs": [
    {
     "data": {
      "image/png": "[encoded data removed]",
      "text/plain": [
       "<Figure size 720x576 with 3 Axes>"
      ]
     },
     "metadata": {
      "needs_background": "light"
     },
     "output_type": "display_data"
    }
   ],
   "source": [
    "n=5\n",
    "\n",
    "plt.subplot(1,3,1)\n",
    "df_games_actual.groupby('genre')['na_sales'].sum().sort_values(ascending=False)[:n] \\\n",
    "               .plot(kind='bar',figsize=fig_size)\n",
    "plt.title('в Северной Америке')\n",
    "plt.ylabel(\"Sales\")\n",
    "plt.xlabel(\"Platform name\")\n",
    "\n",
    "plt.subplot(1,3,2)\n",
    "df_games_actual.groupby('genre')['eu_sales'].sum().sort_values(ascending=False)[:n] \\\n",
    "               .plot(kind='bar',figsize=fig_size)\n",
    "plt.title('в Евросоюзе')\n",
    "plt.xlabel(\"Platform name\")\n",
    "\n",
    "plt.subplot(1,3,3)\n",
    "df_games_actual.groupby('genre')['jp_sales'].sum().sort_values(ascending=False)[:n] \\\n",
    "               .plot(kind='bar',figsize=fig_size)\n",
    "plt.title('в Японии')\n",
    "plt.xlabel(\"Platform name\")\n",
    "\n",
    "plt.suptitle(f'Топ-{n} популярных жанров по регионам')\n",
    "plt.show()"
   ]
  },
  {
   "cell_type": "markdown",
   "id": "f9519d1c",
   "metadata": {},
   "source": [
    "В рейтенге по жанрам похожая картина как и в рейтенге по платформам. Рейтинг топ-5 жанров для Америки и Европы похожи -- первые четыре позиции абсолютно одниковые, отличается только пятая позиция. В тройке лидеров для Америки и Европы:\n",
    "\n",
    " 1. 'action'\n",
    " 2. 'shooter'\n",
    " 3. 'sports' \n",
    " \n",
    "А вот в Японии первое место достается 'Role-Playing'. Затем идет 'action', далее с большим провалом следуют 'simulation', 'shooter' и 'misc'.  Жанра 'simulation' встречается только в японском рейтенге.\n"
   ]
  },
  {
   "cell_type": "markdown",
   "id": "433b916e",
   "metadata": {},
   "source": [
    "**Влияние рейтинга ESRB на продажи в отдельном регионе**"
   ]
  },
  {
   "cell_type": "code",
   "execution_count": 45,
   "id": "c4a0fbe6",
   "metadata": {},
   "outputs": [
    {
     "data": {
      "text/html": [
       "<div>\n",
       "<style scoped>\n",
       "    .dataframe tbody tr th:only-of-type {\n",
       "        vertical-align: middle;\n",
       "    }\n",
       "\n",
       "    .dataframe tbody tr th {\n",
       "        vertical-align: top;\n",
       "    }\n",
       "\n",
       "    .dataframe thead th {\n",
       "        text-align: right;\n",
       "    }\n",
       "</style>\n",
       "<table border=\"1\" class=\"dataframe\">\n",
       "  <thead>\n",
       "    <tr style=\"text-align: right;\">\n",
       "      <th></th>\n",
       "      <th>na_sales</th>\n",
       "      <th>eu_sales</th>\n",
       "      <th>jp_sales</th>\n",
       "    </tr>\n",
       "    <tr>\n",
       "      <th>rating</th>\n",
       "      <th></th>\n",
       "      <th></th>\n",
       "      <th></th>\n",
       "    </tr>\n",
       "  </thead>\n",
       "  <tbody>\n",
       "    <tr>\n",
       "      <th>E</th>\n",
       "      <td>0.201931</td>\n",
       "      <td>0.230564</td>\n",
       "      <td>0.173032</td>\n",
       "    </tr>\n",
       "    <tr>\n",
       "      <th>E10+</th>\n",
       "      <td>0.110989</td>\n",
       "      <td>0.095580</td>\n",
       "      <td>0.049169</td>\n",
       "    </tr>\n",
       "    <tr>\n",
       "      <th>M</th>\n",
       "      <td>0.401151</td>\n",
       "      <td>0.393952</td>\n",
       "      <td>0.125032</td>\n",
       "    </tr>\n",
       "    <tr>\n",
       "      <th>T</th>\n",
       "      <td>0.108186</td>\n",
       "      <td>0.097866</td>\n",
       "      <td>0.129774</td>\n",
       "    </tr>\n",
       "    <tr>\n",
       "      <th>unknown</th>\n",
       "      <td>0.177743</td>\n",
       "      <td>0.182038</td>\n",
       "      <td>0.522993</td>\n",
       "    </tr>\n",
       "  </tbody>\n",
       "</table>\n",
       "</div>"
      ],
      "text/plain": [
       "         na_sales  eu_sales  jp_sales\n",
       "rating                               \n",
       "E        0.201931  0.230564  0.173032\n",
       "E10+     0.110989  0.095580  0.049169\n",
       "M        0.401151  0.393952  0.125032\n",
       "T        0.108186  0.097866  0.129774\n",
       "unknown  0.177743  0.182038  0.522993"
      ]
     },
     "execution_count": 45,
     "metadata": {},
     "output_type": "execute_result"
    }
   ],
   "source": [
    "# таблица популярности игр в зависимости от рейтинга ESRB.\n",
    "# популярность в долях от суммарных продаж по региону\n",
    "df_group = df_games_actual.groupby('rating')[['na_sales','eu_sales','jp_sales']].sum()\n",
    "df_group = df_group/df_group.sum() \n",
    "df_group"
   ]
  },
  {
   "cell_type": "code",
   "execution_count": 46,
   "id": "067f7295",
   "metadata": {
    "scrolled": true
   },
   "outputs": [
    {
     "data": {
      "text/plain": [
       "Text(0.5, 1.0, 'Heatmap популярности игр в зависимости от рейтинга ESRB')"
      ]
     },
     "execution_count": 46,
     "metadata": {},
     "output_type": "execute_result"
    },
    {
     "data": {
      "image/png": "[encoded data removed]",
      "text/plain": [
       "<Figure size 432x288 with 2 Axes>"
      ]
     },
     "metadata": {
      "needs_background": "light"
     },
     "output_type": "display_data"
    }
   ],
   "source": [
    "sns.heatmap(df_group)\n",
    "plt.title('Heatmap популярности игр в зависимости от рейтинга ESRB')"
   ]
  },
  {
   "cell_type": "markdown",
   "id": "b2f9ab72",
   "metadata": {},
   "source": [
    "В Америке и Европе наибольшей популярность пользуются игры с рейтингом M, затем идут игры с рейтингом E и большая доля игр с неизвестным рейтингом. В Японии в оснвном популярны игры, для которых рейтинг ESRB не известен."
   ]
  },
  {
   "cell_type": "markdown",
   "id": "eff1e60d",
   "metadata": {},
   "source": [
    "### Вывод\n",
    "\n",
    "Портреты пользователя из европейского и американского регионов похожи:\n",
    "- популярные платформы 'PS4', 'PS3', 'X360', 'XOne', и '3DS'\n",
    "- популярыне жанры 'action', 'shooter', 'sports'\n",
    "- популярны игры с рейтингом M, E и неизвестным рейтингом.\n",
    "\n",
    "Потртет пользователя из Японии сильно отличается:\n",
    "- популярные платформы '3DS', 'PS3', 'PS4', 'WiiU' и 'X360'\n",
    "- популярыне жанры 'Role-Playing'и 'action' (с большим отрывом), затем идут 'simulation' и 'shooter'\n",
    "- популярны игры, для которых рейтинга ESRB не известен\n"
   ]
  },
  {
   "cell_type": "markdown",
   "id": "e40db910",
   "metadata": {},
   "source": [
    "## Проверка гипотез\n",
    "<a id=\"id_hypotises_cheking\"></a>"
   ]
  },
  {
   "cell_type": "markdown",
   "id": "e2f63469",
   "metadata": {},
   "source": [
    "В исследовании требуется проверить следующие гипотезы:\n",
    "\n",
    "- Средние пользовательские рейтинги платформ Xbox One и PC одинаковые;\n",
    "- Средние пользовательские рейтинги жанров Action (англ. «действие», экшен-игры) и Sports (англ. «спортивные соревнования») разные.\n",
    "- Задайте самостоятельно пороговое значение alpha.\n",
    "\n",
    "Нулевая гипотеза формулируется с использованием знака равенства, поэтому нулевая и альтернативная гипотезы будут звучать следующим образом:\n",
    "\n",
    "- H_0: средние пользовательские рейтинги платформ Xbox One и PC одинаковые\n",
    "- H_a: средние пользовательские рейтинги платформ Xbox One и PC не равны друг другу\n",
    "\n",
    "И\n",
    "\n",
    "- H_0: средние пользовательские рейтинги жанров Action и Sports равны друг другу\n",
    "- H_a: средние пользовательские рейтинги жанров Action и Sports не равны друг другу\n",
    "\n"
   ]
  },
  {
   "cell_type": "code",
   "execution_count": 47,
   "id": "276ad136",
   "metadata": {},
   "outputs": [],
   "source": [
    "df_games_actual = df_games.query('year_of_release >= @start_period')"
   ]
  },
  {
   "cell_type": "code",
   "execution_count": 48,
   "id": "b63c5972",
   "metadata": {},
   "outputs": [],
   "source": [
    "alpha = .05 # критический уровень статистической значимости\n",
    "# если p-value окажется меньше него - отвегнем гипотезу"
   ]
  },
  {
   "cell_type": "markdown",
   "id": "46e43e37",
   "metadata": {},
   "source": [
    "**Средние пользовательские рейтинги платформ Xbox One и PC одинаковые**"
   ]
  },
  {
   "cell_type": "code",
   "execution_count": 49,
   "id": "ae92b8be",
   "metadata": {},
   "outputs": [
    {
     "name": "stdout",
     "output_type": "stream",
     "text": [
      "Средний пользвательский рейтинг Xbox One: 6.52\n",
      "Средний пользвательский рейтинг PC: 6.43\n",
      "p-значение:  0.5535080500643661\n",
      "Не получилось отвергнуть нулевую гипотезу\n"
     ]
    }
   ],
   "source": [
    "results = st.ttest_ind(\n",
    "    df_games_actual[(df_games_actual['platform'] == 'XOne') & \n",
    "                    (df_games_actual['user_score'].isna() == False)]['user_score'], \n",
    "    df_games_actual[(df_games_actual['platform'] == 'PC') & \n",
    "                    (df_games_actual['user_score'].isna() == False)]['user_score'])\n",
    "\n",
    "print('Средний пользвательский рейтинг Xbox One:', \n",
    "      df_games_actual[df_games_actual['platform'] == 'XOne']['user_score'].mean().round(2))\n",
    "print('Средний пользвательский рейтинг PC:', \n",
    "      df_games_actual[df_games_actual['platform'] == 'PC']['user_score'].mean().round(2))\n",
    "print('p-значение: ', results.pvalue)\n",
    "\n",
    "\n",
    "if results.pvalue < alpha:\n",
    "    print(\"Отвергаем нулевую гипотезу\")\n",
    "else:\n",
    "    print(\"Не получилось отвергнуть нулевую гипотезу\") "
   ]
  },
  {
   "cell_type": "markdown",
   "id": "f498ae31",
   "metadata": {},
   "source": [
    "Значение p-value больше заданного порога, мы не можем отвергнуть нулевую гипотезу.\n",
    "\n",
    "Вывод: средние пользовательские рейтинги платформ Xbox One и PC одинаковые. Пользователи в среднем одинаково оценивают Xbox One и PC.\n",
    "\n"
   ]
  },
  {
   "cell_type": "markdown",
   "id": "6998b3fb",
   "metadata": {},
   "source": [
    "**Средние пользовательские рейтинги жанров Action и Sports равны друг другу**"
   ]
  },
  {
   "cell_type": "code",
   "execution_count": 50,
   "id": "337cf802",
   "metadata": {},
   "outputs": [
    {
     "name": "stdout",
     "output_type": "stream",
     "text": [
      "Средний пользвательский рейтинг игр жанра Action: 6.83\n",
      "Средний пользвательский рейтинг игр жанра Sports: 5.46\n",
      "p-значение:  3.7163089460934874e-26\n",
      "Отвергаем нулевую гипотезу\n"
     ]
    }
   ],
   "source": [
    "results = st.ttest_ind(\n",
    "    df_games_actual[(df_games_actual['genre'] == 'Action') & \n",
    "                    (df_games_actual['user_score'].isna() == False)]['user_score'], \n",
    "    df_games_actual[(df_games_actual['genre'] == 'Sports') & \n",
    "                    (df_games_actual['user_score'].isna() == False)]['user_score'])\n",
    "\n",
    "print('Средний пользвательский рейтинг игр жанра Action:', \n",
    "      df_games_actual[df_games_actual['genre'] == 'Action']['user_score'].mean().round(2))\n",
    "print('Средний пользвательский рейтинг игр жанра Sports:',\n",
    "      df_games_actual[df_games_actual['genre'] == 'Sports']['user_score'].mean().round(2))\n",
    "print('p-значение: ', results.pvalue)\n",
    "\n",
    "if results.pvalue < alpha:\n",
    "    print(\"Отвергаем нулевую гипотезу\")\n",
    "else:\n",
    "    print(\"Не получилось отвергнуть нулевую гипотезу\") "
   ]
  },
  {
   "cell_type": "markdown",
   "id": "92e85377",
   "metadata": {},
   "source": [
    "Значение p-value гораздо меньше заданного порога, поэтому отвергаем нулевую гипотезу.\n",
    "\n",
    "Вывод: средние пользовательские рейтинги жанров Action и Sports различны. В среднем пользователи выше оценивают игры в жанре Action, чем Sport"
   ]
  },
  {
   "cell_type": "markdown",
   "id": "32eb8d28",
   "metadata": {},
   "source": [
    "### Вывод"
   ]
  },
  {
   "cell_type": "markdown",
   "id": "8638ec5f",
   "metadata": {},
   "source": [
    "Анализ показал,  различия между играми жанров Xbox One и PC нет. И там, и там средний пользовательский одинаков.\n",
    "\n",
    "А вот средние пользовательские рейтинги  жанров Action и Sports различны. Пользователи в среднем оценивают Action  выше, чем Sport."
   ]
  },
  {
   "cell_type": "markdown",
   "id": "46ae2830",
   "metadata": {},
   "source": [
    "## Общий вывод\n",
    "<a id=\"id_conclusion\"></a>"
   ]
  },
  {
   "cell_type": "markdown",
   "id": "ea804972",
   "metadata": {},
   "source": [
    "В этом проекте были проанализированны данные по играм и игровым платформам с 1980 по 2016.\n",
    "\n",
    "\n",
    "Анализ показал:\n",
    "\n",
    "- Примерный цикл жизни платформы составляет около 10 лет. \n",
    "- На 2015 и 2016 продажи для всех платформ снижаются. Возможно игры становятся менее популярными.\n",
    "- Потенциально прибыльные платформы на 2017 год:\n",
    "  - PS4\n",
    "  - XOne\n",
    "  - 3DS\n",
    "- Наблюдается положительная зависимость продаж от оценки критиков с уровнем корреляци и отсутствие корреляции с оценкой пользователей.\n",
    "- Набольшее количесво игр выпускается в жанрах 'action','role-playind' и 'sports'. \n",
    "- Набольшее количесво игр продается в жанрах 'action','shooter' и 'sports'.\n",
    "- По медианным продажам, лидируют игры в жанрах shooter', 'sports' и 'platform'\n",
    "\n",
    "Были составлены портреты пользователей про регионам:\n",
    "\n",
    "- Портреты пользователя из европейского и американского регионов похожи:\n",
    "  - популярные платформы 'PS4', 'PS3', 'X360', 'XOne', и '3DS'\n",
    "  - популярыне жанры 'action', 'shooter', 'sports'\n",
    "  - популярны игры с рейтингом M, E и неизвестным рейтингом.\n",
    "\n",
    "- Потртет пользователя из Японии сильно отличается:\n",
    "  - популярные платформы '3DS', 'PS3', 'PS4', 'WiiU' и 'X360'\n",
    "  - популярыне жанры 'Role-Playing'и 'action' (с большим отрывом), затем идут 'simulation' и 'shooter'\n",
    "  - популярны игры, для которых рейтинга ESRB не известен\n",
    "\n",
    "Так же анализ данных показал, что:\n",
    "- Средние пользовательские рейтинги игр жанров Action и Sports отличаются. Пользователи в среднем оценивают Action выше, чем Sports.\n",
    "- Различия между платформами Xbox One и PC нет. И там, и там средний пользовательский одинаков.\n"
   ]
  }
 ],
 "metadata": {
  "ExecuteTimeLog": [
   {
    "duration": 1064,
    "start_time": "2022-04-19T20:23:41.040Z"
   },
   {
    "duration": 791,
    "start_time": "2022-04-19T20:23:42.106Z"
   },
   {
    "duration": 26,
    "start_time": "2022-04-19T20:23:42.899Z"
   },
   {
    "duration": 24,
    "start_time": "2022-04-19T20:23:42.927Z"
   },
   {
    "duration": 10,
    "start_time": "2022-04-19T20:23:42.953Z"
   },
   {
    "duration": 8,
    "start_time": "2022-04-19T20:23:42.965Z"
   },
   {
    "duration": 12,
    "start_time": "2022-04-19T20:23:42.975Z"
   },
   {
    "duration": 13,
    "start_time": "2022-04-19T20:23:42.989Z"
   },
   {
    "duration": 5,
    "start_time": "2022-04-19T20:23:43.024Z"
   },
   {
    "duration": 9,
    "start_time": "2022-04-19T20:23:43.031Z"
   },
   {
    "duration": 9,
    "start_time": "2022-04-19T20:23:43.042Z"
   },
   {
    "duration": 6,
    "start_time": "2022-04-19T20:23:43.053Z"
   },
   {
    "duration": 14,
    "start_time": "2022-04-19T20:23:43.061Z"
   },
   {
    "duration": 47,
    "start_time": "2022-04-19T20:23:43.078Z"
   },
   {
    "duration": 3,
    "start_time": "2022-04-19T20:23:43.127Z"
   },
   {
    "duration": 279,
    "start_time": "2022-04-19T20:23:43.132Z"
   },
   {
    "duration": 241,
    "start_time": "2022-04-19T20:23:43.412Z"
   },
   {
    "duration": 217,
    "start_time": "2022-04-19T20:23:43.654Z"
   },
   {
    "duration": 59,
    "start_time": "2022-04-19T20:23:43.872Z"
   },
   {
    "duration": 243,
    "start_time": "2022-04-19T20:23:43.933Z"
   },
   {
    "duration": 5,
    "start_time": "2022-04-19T20:23:44.179Z"
   },
   {
    "duration": 201,
    "start_time": "2022-04-19T20:23:44.186Z"
   },
   {
    "duration": 0,
    "start_time": "2022-04-19T20:23:44.389Z"
   },
   {
    "duration": 0,
    "start_time": "2022-04-19T20:23:44.390Z"
   },
   {
    "duration": 0,
    "start_time": "2022-04-19T20:23:44.391Z"
   },
   {
    "duration": 0,
    "start_time": "2022-04-19T20:23:44.392Z"
   },
   {
    "duration": 0,
    "start_time": "2022-04-19T20:23:44.393Z"
   },
   {
    "duration": 0,
    "start_time": "2022-04-19T20:23:44.394Z"
   },
   {
    "duration": 0,
    "start_time": "2022-04-19T20:23:44.395Z"
   },
   {
    "duration": 0,
    "start_time": "2022-04-19T20:23:44.396Z"
   },
   {
    "duration": 0,
    "start_time": "2022-04-19T20:23:44.397Z"
   },
   {
    "duration": 0,
    "start_time": "2022-04-19T20:23:44.398Z"
   },
   {
    "duration": 0,
    "start_time": "2022-04-19T20:23:44.399Z"
   },
   {
    "duration": 0,
    "start_time": "2022-04-19T20:23:44.400Z"
   },
   {
    "duration": 0,
    "start_time": "2022-04-19T20:23:44.400Z"
   },
   {
    "duration": 0,
    "start_time": "2022-04-19T20:23:44.402Z"
   },
   {
    "duration": 0,
    "start_time": "2022-04-19T20:23:44.423Z"
   },
   {
    "duration": 0,
    "start_time": "2022-04-19T20:23:44.424Z"
   },
   {
    "duration": 0,
    "start_time": "2022-04-19T20:23:44.425Z"
   },
   {
    "duration": 0,
    "start_time": "2022-04-19T20:23:44.426Z"
   },
   {
    "duration": 0,
    "start_time": "2022-04-19T20:23:44.427Z"
   },
   {
    "duration": 0,
    "start_time": "2022-04-19T20:23:44.428Z"
   },
   {
    "duration": 23,
    "start_time": "2022-04-19T20:34:46.248Z"
   },
   {
    "duration": 2593,
    "start_time": "2022-04-20T19:29:35.206Z"
   },
   {
    "duration": 133,
    "start_time": "2022-04-20T19:29:37.803Z"
   },
   {
    "duration": 47,
    "start_time": "2022-04-20T19:29:37.939Z"
   },
   {
    "duration": 63,
    "start_time": "2022-04-20T19:29:37.990Z"
   },
   {
    "duration": 21,
    "start_time": "2022-04-20T19:29:38.056Z"
   },
   {
    "duration": 14,
    "start_time": "2022-04-20T19:29:38.080Z"
   },
   {
    "duration": 16,
    "start_time": "2022-04-20T19:29:38.097Z"
   },
   {
    "duration": 68,
    "start_time": "2022-04-20T19:29:38.116Z"
   },
   {
    "duration": 9,
    "start_time": "2022-04-20T19:29:38.186Z"
   },
   {
    "duration": 21,
    "start_time": "2022-04-20T19:29:38.201Z"
   },
   {
    "duration": 22,
    "start_time": "2022-04-20T19:29:38.255Z"
   },
   {
    "duration": 14,
    "start_time": "2022-04-20T19:29:38.281Z"
   },
   {
    "duration": 56,
    "start_time": "2022-04-20T19:29:38.298Z"
   },
   {
    "duration": 30,
    "start_time": "2022-04-20T19:29:38.357Z"
   },
   {
    "duration": 4,
    "start_time": "2022-04-20T19:29:38.389Z"
   },
   {
    "duration": 787,
    "start_time": "2022-04-20T19:29:38.395Z"
   },
   {
    "duration": 735,
    "start_time": "2022-04-20T19:29:39.185Z"
   },
   {
    "duration": 445,
    "start_time": "2022-04-20T19:29:39.923Z"
   },
   {
    "duration": 26,
    "start_time": "2022-04-20T19:29:40.371Z"
   },
   {
    "duration": 33,
    "start_time": "2022-04-20T19:29:40.400Z"
   },
   {
    "duration": 545,
    "start_time": "2022-04-20T19:29:40.436Z"
   },
   {
    "duration": 6,
    "start_time": "2022-04-20T19:29:40.984Z"
   },
   {
    "duration": 108,
    "start_time": "2022-04-20T19:29:40.992Z"
   },
   {
    "duration": 573,
    "start_time": "2022-04-20T19:29:41.102Z"
   },
   {
    "duration": 9,
    "start_time": "2022-04-20T19:29:41.677Z"
   },
   {
    "duration": 25,
    "start_time": "2022-04-20T19:29:41.688Z"
   },
   {
    "duration": 37,
    "start_time": "2022-04-20T19:29:41.717Z"
   },
   {
    "duration": 384,
    "start_time": "2022-04-20T19:29:41.761Z"
   },
   {
    "duration": 0,
    "start_time": "2022-04-20T19:29:42.147Z"
   },
   {
    "duration": 0,
    "start_time": "2022-04-20T19:29:42.149Z"
   },
   {
    "duration": 0,
    "start_time": "2022-04-20T19:29:42.152Z"
   },
   {
    "duration": 0,
    "start_time": "2022-04-20T19:29:42.154Z"
   },
   {
    "duration": 0,
    "start_time": "2022-04-20T19:29:42.156Z"
   },
   {
    "duration": 0,
    "start_time": "2022-04-20T19:29:42.159Z"
   },
   {
    "duration": 0,
    "start_time": "2022-04-20T19:29:42.160Z"
   },
   {
    "duration": 0,
    "start_time": "2022-04-20T19:29:42.162Z"
   },
   {
    "duration": 0,
    "start_time": "2022-04-20T19:29:42.165Z"
   },
   {
    "duration": 0,
    "start_time": "2022-04-20T19:29:42.167Z"
   },
   {
    "duration": 0,
    "start_time": "2022-04-20T19:29:42.169Z"
   },
   {
    "duration": 0,
    "start_time": "2022-04-20T19:29:42.170Z"
   },
   {
    "duration": 0,
    "start_time": "2022-04-20T19:29:42.172Z"
   },
   {
    "duration": 0,
    "start_time": "2022-04-20T19:29:42.175Z"
   },
   {
    "duration": 0,
    "start_time": "2022-04-20T19:29:42.177Z"
   },
   {
    "duration": 0,
    "start_time": "2022-04-20T19:29:42.178Z"
   },
   {
    "duration": 0,
    "start_time": "2022-04-20T19:29:42.180Z"
   },
   {
    "duration": 0,
    "start_time": "2022-04-20T19:29:42.181Z"
   },
   {
    "duration": 0,
    "start_time": "2022-04-20T19:29:42.182Z"
   },
   {
    "duration": 0,
    "start_time": "2022-04-20T19:29:42.183Z"
   },
   {
    "duration": 286,
    "start_time": "2022-04-20T19:30:32.892Z"
   },
   {
    "duration": 299,
    "start_time": "2022-04-20T19:30:46.380Z"
   },
   {
    "duration": 1011,
    "start_time": "2022-04-20T19:31:17.972Z"
   },
   {
    "duration": 495,
    "start_time": "2022-04-20T19:31:39.474Z"
   },
   {
    "duration": 505,
    "start_time": "2022-04-20T19:32:44.624Z"
   },
   {
    "duration": 1807,
    "start_time": "2022-04-20T19:32:51.521Z"
   },
   {
    "duration": 89,
    "start_time": "2022-04-20T19:32:53.332Z"
   },
   {
    "duration": 55,
    "start_time": "2022-04-20T19:32:53.423Z"
   },
   {
    "duration": 74,
    "start_time": "2022-04-20T19:32:53.481Z"
   },
   {
    "duration": 23,
    "start_time": "2022-04-20T19:32:53.559Z"
   },
   {
    "duration": 17,
    "start_time": "2022-04-20T19:32:53.584Z"
   },
   {
    "duration": 31,
    "start_time": "2022-04-20T19:32:53.604Z"
   },
   {
    "duration": 37,
    "start_time": "2022-04-20T19:32:53.638Z"
   },
   {
    "duration": 13,
    "start_time": "2022-04-20T19:32:53.678Z"
   },
   {
    "duration": 21,
    "start_time": "2022-04-20T19:32:53.694Z"
   },
   {
    "duration": 50,
    "start_time": "2022-04-20T19:32:53.717Z"
   },
   {
    "duration": 16,
    "start_time": "2022-04-20T19:32:53.770Z"
   },
   {
    "duration": 49,
    "start_time": "2022-04-20T19:32:53.789Z"
   },
   {
    "duration": 43,
    "start_time": "2022-04-20T19:32:53.846Z"
   },
   {
    "duration": 5,
    "start_time": "2022-04-20T19:32:53.892Z"
   },
   {
    "duration": 759,
    "start_time": "2022-04-20T19:32:53.900Z"
   },
   {
    "duration": 560,
    "start_time": "2022-04-20T19:32:54.662Z"
   },
   {
    "duration": 419,
    "start_time": "2022-04-20T19:32:55.225Z"
   },
   {
    "duration": 28,
    "start_time": "2022-04-20T19:32:55.648Z"
   },
   {
    "duration": 34,
    "start_time": "2022-04-20T19:32:55.679Z"
   },
   {
    "duration": 701,
    "start_time": "2022-04-20T19:32:55.715Z"
   },
   {
    "duration": 4,
    "start_time": "2022-04-20T19:32:56.418Z"
   },
   {
    "duration": 100,
    "start_time": "2022-04-20T19:32:56.423Z"
   },
   {
    "duration": 881,
    "start_time": "2022-04-20T19:32:56.525Z"
   },
   {
    "duration": 13,
    "start_time": "2022-04-20T19:32:57.409Z"
   },
   {
    "duration": 42,
    "start_time": "2022-04-20T19:32:57.425Z"
   },
   {
    "duration": 12,
    "start_time": "2022-04-20T19:32:57.470Z"
   },
   {
    "duration": 4,
    "start_time": "2022-04-20T19:32:57.485Z"
   },
   {
    "duration": 391,
    "start_time": "2022-04-20T19:32:57.492Z"
   },
   {
    "duration": 522,
    "start_time": "2022-04-20T19:32:57.886Z"
   },
   {
    "duration": 0,
    "start_time": "2022-04-20T19:32:58.411Z"
   },
   {
    "duration": 0,
    "start_time": "2022-04-20T19:32:58.413Z"
   },
   {
    "duration": 0,
    "start_time": "2022-04-20T19:32:58.414Z"
   },
   {
    "duration": 0,
    "start_time": "2022-04-20T19:32:58.416Z"
   },
   {
    "duration": 0,
    "start_time": "2022-04-20T19:32:58.417Z"
   },
   {
    "duration": 0,
    "start_time": "2022-04-20T19:32:58.419Z"
   },
   {
    "duration": 0,
    "start_time": "2022-04-20T19:32:58.420Z"
   },
   {
    "duration": 0,
    "start_time": "2022-04-20T19:32:58.422Z"
   },
   {
    "duration": 0,
    "start_time": "2022-04-20T19:32:58.423Z"
   },
   {
    "duration": 0,
    "start_time": "2022-04-20T19:32:58.425Z"
   },
   {
    "duration": 0,
    "start_time": "2022-04-20T19:32:58.426Z"
   },
   {
    "duration": 0,
    "start_time": "2022-04-20T19:32:58.451Z"
   },
   {
    "duration": 0,
    "start_time": "2022-04-20T19:32:58.453Z"
   },
   {
    "duration": 0,
    "start_time": "2022-04-20T19:32:58.454Z"
   },
   {
    "duration": 0,
    "start_time": "2022-04-20T19:32:58.455Z"
   },
   {
    "duration": 1,
    "start_time": "2022-04-20T19:32:58.456Z"
   },
   {
    "duration": 0,
    "start_time": "2022-04-20T19:32:58.458Z"
   },
   {
    "duration": 0,
    "start_time": "2022-04-20T19:32:58.459Z"
   },
   {
    "duration": 0,
    "start_time": "2022-04-20T19:32:58.460Z"
   },
   {
    "duration": 1990,
    "start_time": "2022-04-20T19:35:24.935Z"
   },
   {
    "duration": 106,
    "start_time": "2022-04-20T19:35:26.928Z"
   },
   {
    "duration": 46,
    "start_time": "2022-04-20T19:35:27.037Z"
   },
   {
    "duration": 40,
    "start_time": "2022-04-20T19:35:27.086Z"
   },
   {
    "duration": 27,
    "start_time": "2022-04-20T19:35:27.129Z"
   },
   {
    "duration": 11,
    "start_time": "2022-04-20T19:35:27.159Z"
   },
   {
    "duration": 18,
    "start_time": "2022-04-20T19:35:27.173Z"
   },
   {
    "duration": 26,
    "start_time": "2022-04-20T19:35:27.193Z"
   },
   {
    "duration": 31,
    "start_time": "2022-04-20T19:35:27.221Z"
   },
   {
    "duration": 17,
    "start_time": "2022-04-20T19:35:27.254Z"
   },
   {
    "duration": 14,
    "start_time": "2022-04-20T19:35:27.273Z"
   },
   {
    "duration": 10,
    "start_time": "2022-04-20T19:35:27.290Z"
   },
   {
    "duration": 63,
    "start_time": "2022-04-20T19:35:27.302Z"
   },
   {
    "duration": 24,
    "start_time": "2022-04-20T19:35:27.370Z"
   },
   {
    "duration": 8,
    "start_time": "2022-04-20T19:35:27.396Z"
   },
   {
    "duration": 548,
    "start_time": "2022-04-20T19:35:27.406Z"
   },
   {
    "duration": 466,
    "start_time": "2022-04-20T19:35:27.956Z"
   },
   {
    "duration": 403,
    "start_time": "2022-04-20T19:35:28.425Z"
   },
   {
    "duration": 27,
    "start_time": "2022-04-20T19:35:28.831Z"
   },
   {
    "duration": 34,
    "start_time": "2022-04-20T19:35:28.860Z"
   },
   {
    "duration": 441,
    "start_time": "2022-04-20T19:35:28.896Z"
   },
   {
    "duration": 13,
    "start_time": "2022-04-20T19:35:29.340Z"
   },
   {
    "duration": 102,
    "start_time": "2022-04-20T19:35:29.356Z"
   },
   {
    "duration": 462,
    "start_time": "2022-04-20T19:35:29.461Z"
   },
   {
    "duration": 9,
    "start_time": "2022-04-20T19:35:29.926Z"
   },
   {
    "duration": 38,
    "start_time": "2022-04-20T19:35:29.937Z"
   },
   {
    "duration": 19,
    "start_time": "2022-04-20T19:35:29.977Z"
   },
   {
    "duration": 10,
    "start_time": "2022-04-20T19:35:29.999Z"
   },
   {
    "duration": 340,
    "start_time": "2022-04-20T19:35:30.011Z"
   },
   {
    "duration": 4,
    "start_time": "2022-04-20T19:35:30.354Z"
   },
   {
    "duration": 13,
    "start_time": "2022-04-20T19:35:30.361Z"
   },
   {
    "duration": 42,
    "start_time": "2022-04-20T19:35:30.376Z"
   },
   {
    "duration": 586,
    "start_time": "2022-04-20T19:35:30.421Z"
   },
   {
    "duration": 17,
    "start_time": "2022-04-20T19:35:31.009Z"
   },
   {
    "duration": 33,
    "start_time": "2022-04-20T19:35:31.029Z"
   },
   {
    "duration": 16,
    "start_time": "2022-04-20T19:35:31.065Z"
   },
   {
    "duration": 27,
    "start_time": "2022-04-20T19:35:31.083Z"
   },
   {
    "duration": 39,
    "start_time": "2022-04-20T19:35:31.113Z"
   },
   {
    "duration": 17,
    "start_time": "2022-04-20T19:35:31.155Z"
   },
   {
    "duration": 16,
    "start_time": "2022-04-20T19:35:31.175Z"
   },
   {
    "duration": 409,
    "start_time": "2022-04-20T19:35:31.197Z"
   },
   {
    "duration": 0,
    "start_time": "2022-04-20T19:35:31.608Z"
   },
   {
    "duration": 0,
    "start_time": "2022-04-20T19:35:31.610Z"
   },
   {
    "duration": 0,
    "start_time": "2022-04-20T19:35:31.612Z"
   },
   {
    "duration": 0,
    "start_time": "2022-04-20T19:35:31.613Z"
   },
   {
    "duration": 0,
    "start_time": "2022-04-20T19:35:31.615Z"
   },
   {
    "duration": 0,
    "start_time": "2022-04-20T19:35:31.617Z"
   },
   {
    "duration": 0,
    "start_time": "2022-04-20T19:35:31.619Z"
   },
   {
    "duration": 0,
    "start_time": "2022-04-20T19:35:31.620Z"
   },
   {
    "duration": 1532,
    "start_time": "2022-04-20T19:38:21.050Z"
   },
   {
    "duration": 94,
    "start_time": "2022-04-20T19:38:22.586Z"
   },
   {
    "duration": 50,
    "start_time": "2022-04-20T19:38:22.682Z"
   },
   {
    "duration": 64,
    "start_time": "2022-04-20T19:38:22.753Z"
   },
   {
    "duration": 40,
    "start_time": "2022-04-20T19:38:22.822Z"
   },
   {
    "duration": 12,
    "start_time": "2022-04-20T19:38:22.864Z"
   },
   {
    "duration": 14,
    "start_time": "2022-04-20T19:38:22.878Z"
   },
   {
    "duration": 22,
    "start_time": "2022-04-20T19:38:22.894Z"
   },
   {
    "duration": 43,
    "start_time": "2022-04-20T19:38:22.918Z"
   },
   {
    "duration": 14,
    "start_time": "2022-04-20T19:38:22.964Z"
   },
   {
    "duration": 15,
    "start_time": "2022-04-20T19:38:22.980Z"
   },
   {
    "duration": 55,
    "start_time": "2022-04-20T19:38:22.997Z"
   },
   {
    "duration": 20,
    "start_time": "2022-04-20T19:38:23.055Z"
   },
   {
    "duration": 26,
    "start_time": "2022-04-20T19:38:23.079Z"
   },
   {
    "duration": 4,
    "start_time": "2022-04-20T19:38:23.108Z"
   },
   {
    "duration": 752,
    "start_time": "2022-04-20T19:38:23.152Z"
   },
   {
    "duration": 482,
    "start_time": "2022-04-20T19:38:23.907Z"
   },
   {
    "duration": 413,
    "start_time": "2022-04-20T19:38:24.391Z"
   },
   {
    "duration": 28,
    "start_time": "2022-04-20T19:38:24.806Z"
   },
   {
    "duration": 45,
    "start_time": "2022-04-20T19:38:24.836Z"
   },
   {
    "duration": 413,
    "start_time": "2022-04-20T19:38:24.883Z"
   },
   {
    "duration": 4,
    "start_time": "2022-04-20T19:38:25.298Z"
   },
   {
    "duration": 108,
    "start_time": "2022-04-20T19:38:25.304Z"
   },
   {
    "duration": 476,
    "start_time": "2022-04-20T19:38:25.414Z"
   },
   {
    "duration": 11,
    "start_time": "2022-04-20T19:38:25.892Z"
   },
   {
    "duration": 47,
    "start_time": "2022-04-20T19:38:25.906Z"
   },
   {
    "duration": 13,
    "start_time": "2022-04-20T19:38:25.956Z"
   },
   {
    "duration": 8,
    "start_time": "2022-04-20T19:38:25.972Z"
   },
   {
    "duration": 538,
    "start_time": "2022-04-20T19:38:25.983Z"
   },
   {
    "duration": 4,
    "start_time": "2022-04-20T19:38:26.524Z"
   },
   {
    "duration": 27,
    "start_time": "2022-04-20T19:38:26.530Z"
   },
   {
    "duration": 25,
    "start_time": "2022-04-20T19:38:26.559Z"
   },
   {
    "duration": 548,
    "start_time": "2022-04-20T19:38:26.586Z"
   },
   {
    "duration": 27,
    "start_time": "2022-04-20T19:38:27.136Z"
   },
   {
    "duration": 19,
    "start_time": "2022-04-20T19:38:27.166Z"
   },
   {
    "duration": 19,
    "start_time": "2022-04-20T19:38:27.188Z"
   },
   {
    "duration": 48,
    "start_time": "2022-04-20T19:38:27.209Z"
   },
   {
    "duration": 18,
    "start_time": "2022-04-20T19:38:27.260Z"
   },
   {
    "duration": 9,
    "start_time": "2022-04-20T19:38:27.281Z"
   },
   {
    "duration": 12,
    "start_time": "2022-04-20T19:38:27.292Z"
   },
   {
    "duration": 4,
    "start_time": "2022-04-20T19:38:27.312Z"
   },
   {
    "duration": 13,
    "start_time": "2022-04-20T19:38:27.353Z"
   },
   {
    "duration": 542,
    "start_time": "2022-04-20T19:38:27.369Z"
   },
   {
    "duration": 540,
    "start_time": "2022-04-20T19:38:27.914Z"
   },
   {
    "duration": 21,
    "start_time": "2022-04-20T19:38:28.457Z"
   },
   {
    "duration": 473,
    "start_time": "2022-04-20T19:38:28.480Z"
   },
   {
    "duration": 4,
    "start_time": "2022-04-20T19:38:28.955Z"
   },
   {
    "duration": 21,
    "start_time": "2022-04-20T19:38:28.962Z"
   },
   {
    "duration": 23,
    "start_time": "2022-04-20T19:38:28.985Z"
   },
   {
    "duration": 5,
    "start_time": "2022-04-20T19:55:31.413Z"
   }
  ],
  "kernelspec": {
   "display_name": "Python 3 (ipykernel)",
   "language": "python",
   "name": "python3"
  },
  "language_info": {
   "codemirror_mode": {
    "name": "ipython",
    "version": 3
   },
   "file_extension": ".py",
   "mimetype": "text/x-python",
   "name": "python",
   "nbconvert_exporter": "python",
   "pygments_lexer": "ipython3",
   "version": "3.10.7"
  },
  "toc": {
   "base_numbering": 1,
   "nav_menu": {},
   "number_sections": true,
   "sideBar": true,
   "skip_h1_title": true,
   "title_cell": "Table of Contents",
   "title_sidebar": "Contents",
   "toc_cell": false,
   "toc_position": {},
   "toc_section_display": true,
   "toc_window_display": false
  }
 },
 "nbformat": 4,
 "nbformat_minor": 5
}
