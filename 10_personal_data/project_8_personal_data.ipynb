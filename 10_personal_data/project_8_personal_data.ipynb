{
 "cells": [
  {
   "cell_type": "markdown",
   "id": "6148c3ee",
   "metadata": {},
   "source": [
    "# Защита данных клиентов страховой компании"
   ]
  },
  {
   "cell_type": "markdown",
   "metadata": {
    "toc": true
   },
   "source": [
    "<h1>Содержание<span class=\"tocSkip\"></span></h1>\n",
    "<div class=\"toc\"><ul class=\"toc-item\"><li><span><a href=\"#Загрузка-данных\" data-toc-modified-id=\"Загрузка-данных-1\"><span class=\"toc-item-num\">1&nbsp;&nbsp;</span>Загрузка данных</a></span></li><li><span><a href=\"#Умножение-матриц\" data-toc-modified-id=\"Умножение-матриц-2\"><span class=\"toc-item-num\">2&nbsp;&nbsp;</span>Умножение матриц</a></span></li><li><span><a href=\"#Алгоритм-преобразования\" data-toc-modified-id=\"Алгоритм-преобразования-3\"><span class=\"toc-item-num\">3&nbsp;&nbsp;</span>Алгоритм преобразования</a></span></li><li><span><a href=\"#Проверка-алгоритма\" data-toc-modified-id=\"Проверка-алгоритма-4\"><span class=\"toc-item-num\">4&nbsp;&nbsp;</span>Проверка алгоритма</a></span></li><li><span><a href=\"#Чек-лист-проверки\" data-toc-modified-id=\"Чек-лист-проверки-5\"><span class=\"toc-item-num\">5&nbsp;&nbsp;</span>Чек-лист проверки</a></span></li></ul></div>"
   ]
  },
  {
   "cell_type": "markdown",
   "id": "b1ad9d26",
   "metadata": {},
   "source": [
    "## Описание проекта\n",
    "\n",
    "Вам нужно защитить данные клиентов страховой компании «Хоть потоп». Разработайте такой метод преобразования данных, чтобы по ним было сложно восстановить персональную информацию. Обоснуйте корректность его работы.\n",
    "\n",
    "Нужно защитить данные, чтобы при преобразовании качество моделей машинного обучения не ухудшилось. Подбирать наилучшую модель не требуется.\n",
    "\n",
    "Инструкция по выполнению проекта\n",
    "\n",
    "   - Загрузите и изучите данные.\n",
    "   - Ответьте на вопрос и обоснуйте решение.\n",
    "   - Признаки умножают на обратимую матрицу. Изменится ли качество линейной регрессии? (Её можно обучить заново.)\n",
    "     - a. Изменится. Приведите примеры матриц.\n",
    "     - b. Не изменится. Укажите, как связаны параметры линейной регрессии в исходной задаче и в преобразованной.\n",
    "   - Предложите алгоритм преобразования данных для решения задачи. Обоснуйте, почему качество линейной регрессии не поменяется.\n",
    "   - Запрограммируйте этот алгоритм, применив матричные операции. Проверьте, что качество линейной регрессии из sklearn не отличается до и после преобразования. Примените метрику R2.\n",
    "\n",
    "**Описание данных**\n",
    "\n",
    "Набор данных находится в файле insurance.csv.\n",
    "\n",
    "    Признаки: пол, возраст и зарплата застрахованного, количество членов его семьи.\n",
    "    Целевой признак: количество страховых выплат клиенту за последние 5 лет.\n"
   ]
  },
  {
   "cell_type": "code",
   "execution_count": 1,
   "metadata": {},
   "outputs": [],
   "source": [
    "# импорт необходимых библиотек\n",
    "import pandas as pd\n",
    "import numpy as np\n",
    "\n",
    "from sklearn.model_selection import train_test_split\n",
    "from sklearn.preprocessing import StandardScaler\n",
    "from sklearn.linear_model import LinearRegression\n",
    "from sklearn.metrics import r2_score"
   ]
  },
  {
   "cell_type": "markdown",
   "id": "58d815dc",
   "metadata": {},
   "source": [
    "## Загрузка данных"
   ]
  },
  {
   "cell_type": "code",
   "execution_count": 2,
   "id": "65c63a6c",
   "metadata": {},
   "outputs": [],
   "source": [
    "# загрузка данных\n",
    "try:\n",
    "    insurance = pd.read_csv('data-files/insurance.csv')  # Локальный путь\n",
    "except:\n",
    "    insurance = pd.read_csv('/datasets/insurance.csv') # Серверный путь"
   ]
  },
  {
   "cell_type": "code",
   "execution_count": 3,
   "metadata": {},
   "outputs": [
    {
     "data": {
      "text/html": [
       "<div>\n",
       "<style scoped>\n",
       "    .dataframe tbody tr th:only-of-type {\n",
       "        vertical-align: middle;\n",
       "    }\n",
       "\n",
       "    .dataframe tbody tr th {\n",
       "        vertical-align: top;\n",
       "    }\n",
       "\n",
       "    .dataframe thead th {\n",
       "        text-align: right;\n",
       "    }\n",
       "</style>\n",
       "<table border=\"1\" class=\"dataframe\">\n",
       "  <thead>\n",
       "    <tr style=\"text-align: right;\">\n",
       "      <th></th>\n",
       "      <th>Пол</th>\n",
       "      <th>Возраст</th>\n",
       "      <th>Зарплата</th>\n",
       "      <th>Члены семьи</th>\n",
       "      <th>Страховые выплаты</th>\n",
       "    </tr>\n",
       "  </thead>\n",
       "  <tbody>\n",
       "    <tr>\n",
       "      <th>0</th>\n",
       "      <td>1</td>\n",
       "      <td>41.0</td>\n",
       "      <td>49600.0</td>\n",
       "      <td>1</td>\n",
       "      <td>0</td>\n",
       "    </tr>\n",
       "    <tr>\n",
       "      <th>1</th>\n",
       "      <td>0</td>\n",
       "      <td>46.0</td>\n",
       "      <td>38000.0</td>\n",
       "      <td>1</td>\n",
       "      <td>1</td>\n",
       "    </tr>\n",
       "    <tr>\n",
       "      <th>2</th>\n",
       "      <td>0</td>\n",
       "      <td>29.0</td>\n",
       "      <td>21000.0</td>\n",
       "      <td>0</td>\n",
       "      <td>0</td>\n",
       "    </tr>\n",
       "    <tr>\n",
       "      <th>3</th>\n",
       "      <td>0</td>\n",
       "      <td>21.0</td>\n",
       "      <td>41700.0</td>\n",
       "      <td>2</td>\n",
       "      <td>0</td>\n",
       "    </tr>\n",
       "    <tr>\n",
       "      <th>4</th>\n",
       "      <td>1</td>\n",
       "      <td>28.0</td>\n",
       "      <td>26100.0</td>\n",
       "      <td>0</td>\n",
       "      <td>0</td>\n",
       "    </tr>\n",
       "  </tbody>\n",
       "</table>\n",
       "</div>"
      ],
      "text/plain": [
       "   Пол  Возраст  Зарплата  Члены семьи  Страховые выплаты\n",
       "0    1     41.0   49600.0            1                  0\n",
       "1    0     46.0   38000.0            1                  1\n",
       "2    0     29.0   21000.0            0                  0\n",
       "3    0     21.0   41700.0            2                  0\n",
       "4    1     28.0   26100.0            0                  0"
      ]
     },
     "execution_count": 3,
     "metadata": {},
     "output_type": "execute_result"
    }
   ],
   "source": [
    "insurance.head()"
   ]
  },
  {
   "cell_type": "code",
   "execution_count": 4,
   "metadata": {},
   "outputs": [
    {
     "name": "stdout",
     "output_type": "stream",
     "text": [
      "<class 'pandas.core.frame.DataFrame'>\n",
      "RangeIndex: 5000 entries, 0 to 4999\n",
      "Data columns (total 5 columns):\n",
      " #   Column             Non-Null Count  Dtype  \n",
      "---  ------             --------------  -----  \n",
      " 0   Пол                5000 non-null   int64  \n",
      " 1   Возраст            5000 non-null   float64\n",
      " 2   Зарплата           5000 non-null   float64\n",
      " 3   Члены семьи        5000 non-null   int64  \n",
      " 4   Страховые выплаты  5000 non-null   int64  \n",
      "dtypes: float64(2), int64(3)\n",
      "memory usage: 195.4 KB\n"
     ]
    }
   ],
   "source": [
    "insurance.info()"
   ]
  },
  {
   "cell_type": "code",
   "execution_count": 5,
   "metadata": {},
   "outputs": [
    {
     "name": "stdout",
     "output_type": "stream",
     "text": [
      "Количество явных дубликатов: 153\n"
     ]
    }
   ],
   "source": [
    "print('Количество явных дубликатов:',insurance.duplicated().sum())"
   ]
  },
  {
   "cell_type": "code",
   "execution_count": 6,
   "metadata": {},
   "outputs": [
    {
     "data": {
      "text/html": [
       "<div>\n",
       "<style scoped>\n",
       "    .dataframe tbody tr th:only-of-type {\n",
       "        vertical-align: middle;\n",
       "    }\n",
       "\n",
       "    .dataframe tbody tr th {\n",
       "        vertical-align: top;\n",
       "    }\n",
       "\n",
       "    .dataframe thead th {\n",
       "        text-align: right;\n",
       "    }\n",
       "</style>\n",
       "<table border=\"1\" class=\"dataframe\">\n",
       "  <thead>\n",
       "    <tr style=\"text-align: right;\">\n",
       "      <th></th>\n",
       "      <th>Пол</th>\n",
       "      <th>Возраст</th>\n",
       "      <th>Зарплата</th>\n",
       "      <th>Члены семьи</th>\n",
       "      <th>Страховые выплаты</th>\n",
       "    </tr>\n",
       "  </thead>\n",
       "  <tbody>\n",
       "    <tr>\n",
       "      <th>count</th>\n",
       "      <td>5000.000000</td>\n",
       "      <td>5000.000000</td>\n",
       "      <td>5000.000000</td>\n",
       "      <td>5000.000000</td>\n",
       "      <td>5000.000000</td>\n",
       "    </tr>\n",
       "    <tr>\n",
       "      <th>mean</th>\n",
       "      <td>0.499000</td>\n",
       "      <td>30.952800</td>\n",
       "      <td>39916.360000</td>\n",
       "      <td>1.194200</td>\n",
       "      <td>0.148000</td>\n",
       "    </tr>\n",
       "    <tr>\n",
       "      <th>std</th>\n",
       "      <td>0.500049</td>\n",
       "      <td>8.440807</td>\n",
       "      <td>9900.083569</td>\n",
       "      <td>1.091387</td>\n",
       "      <td>0.463183</td>\n",
       "    </tr>\n",
       "    <tr>\n",
       "      <th>min</th>\n",
       "      <td>0.000000</td>\n",
       "      <td>18.000000</td>\n",
       "      <td>5300.000000</td>\n",
       "      <td>0.000000</td>\n",
       "      <td>0.000000</td>\n",
       "    </tr>\n",
       "    <tr>\n",
       "      <th>25%</th>\n",
       "      <td>0.000000</td>\n",
       "      <td>24.000000</td>\n",
       "      <td>33300.000000</td>\n",
       "      <td>0.000000</td>\n",
       "      <td>0.000000</td>\n",
       "    </tr>\n",
       "    <tr>\n",
       "      <th>50%</th>\n",
       "      <td>0.000000</td>\n",
       "      <td>30.000000</td>\n",
       "      <td>40200.000000</td>\n",
       "      <td>1.000000</td>\n",
       "      <td>0.000000</td>\n",
       "    </tr>\n",
       "    <tr>\n",
       "      <th>75%</th>\n",
       "      <td>1.000000</td>\n",
       "      <td>37.000000</td>\n",
       "      <td>46600.000000</td>\n",
       "      <td>2.000000</td>\n",
       "      <td>0.000000</td>\n",
       "    </tr>\n",
       "    <tr>\n",
       "      <th>max</th>\n",
       "      <td>1.000000</td>\n",
       "      <td>65.000000</td>\n",
       "      <td>79000.000000</td>\n",
       "      <td>6.000000</td>\n",
       "      <td>5.000000</td>\n",
       "    </tr>\n",
       "  </tbody>\n",
       "</table>\n",
       "</div>"
      ],
      "text/plain": [
       "               Пол      Возраст      Зарплата  Члены семьи  Страховые выплаты\n",
       "count  5000.000000  5000.000000   5000.000000  5000.000000        5000.000000\n",
       "mean      0.499000    30.952800  39916.360000     1.194200           0.148000\n",
       "std       0.500049     8.440807   9900.083569     1.091387           0.463183\n",
       "min       0.000000    18.000000   5300.000000     0.000000           0.000000\n",
       "25%       0.000000    24.000000  33300.000000     0.000000           0.000000\n",
       "50%       0.000000    30.000000  40200.000000     1.000000           0.000000\n",
       "75%       1.000000    37.000000  46600.000000     2.000000           0.000000\n",
       "max       1.000000    65.000000  79000.000000     6.000000           5.000000"
      ]
     },
     "execution_count": 6,
     "metadata": {},
     "output_type": "execute_result"
    }
   ],
   "source": [
    "insurance.describe()"
   ]
  },
  {
   "cell_type": "markdown",
   "metadata": {},
   "source": [
    "**Вывод**\n",
    "\n",
    "Имеются набора данных о клиентах страховой компании: в наборе 5 000 клиентов. Для каждого клиента есть информация о поле, возрасте, зарплате, членах семьи и страховых выплатах.\n",
    "\n",
    "Данные чистые, без аномалий и не требуют предобработки.\n",
    "Проверка показывает наличие дубликатов. Однако, так как в данных нет уникального идентификатора клиента, это могут быть просто совпадения. Поэтому мнимые дубликаты не удалялись.\n"
   ]
  },
  {
   "cell_type": "markdown",
   "id": "6ce59788",
   "metadata": {},
   "source": [
    "## Умножение матриц"
   ]
  },
  {
   "cell_type": "markdown",
   "id": "3876ff94",
   "metadata": {},
   "source": [
    "**Ответьте на вопрос и обоснуйте решение.**\n",
    "\n",
    "Признаки умножают на обратимую матрицу. Изменится ли качество линейной регрессии? (Её можно обучить заново.)\n",
    "\n",
    "    a. Изменится. Приведите примеры матриц.\n",
    "    b. Не изменится. Укажите, как связаны параметры линейной регрессии в исходной задаче и в преобразованной."
   ]
  },
  {
   "cell_type": "markdown",
   "id": "6134a110",
   "metadata": {},
   "source": [
    "Обозначения:\n",
    "\n",
    "- $X$ — матрица признаков (нулевой столбец состоит из единиц)\n",
    "\n",
    "- $y$ — вектор целевого признака\n",
    "\n",
    "- $P$ — матрица, на которую умножаются признаки\n",
    "\n",
    "- $w$ — вектор весов линейной регрессии (нулевой элемент равен сдвигу)"
   ]
  },
  {
   "cell_type": "markdown",
   "id": "3422c78c",
   "metadata": {},
   "source": [
    "Предсказания:\n",
    "\n",
    "$$\n",
    "a = Xw\n",
    "$$\n",
    "\n",
    "Задача обучения:\n",
    "\n",
    "$$\n",
    "w = \\arg\\min_w MSE(Xw, y)\n",
    "$$\n",
    "\n",
    "Формула обучения:\n",
    "\n",
    "$$\n",
    "w = (X^T X)^{-1} X^T y\n",
    "$$"
   ]
  },
  {
   "cell_type": "markdown",
   "id": "d9852658",
   "metadata": {},
   "source": [
    "В случае умножение признаков на обратимую матрицу получим новую формулу обучения:\n",
    "\n",
    "$$\n",
    "w' = ((XP)^T XP)^{-1} (XP)^T y\n",
    "$$\n",
    "\n",
    "Проведем математические преобразования\n",
    "\n",
    "$$\n",
    "w' = ((XP)^T XP)^{-1} (XP)^T y = \\\\\n",
    "= (P^T X^T X P)^{-1} (XP)^T y = \\\\\n",
    "= ((P^T X^T X) P)^{-1} (XP)^T y = \\\\\n",
    "= P^{-1} (P^T X^T X)^{-1} P^T X^T y = \\\\\n",
    "= P^{-1} (X^T X)^{-1} (P^T)^{-1} P^T X^T y = \\\\\n",
    "= P^{-1} (X^T X)^{-1} E X^T y = \\\\\n",
    "= P^{-1} (X^T X)^{-1} X^T y = \\\\\n",
    "= P^{-1} w\n",
    "$$\n",
    "\n",
    "То есть вектор параметров линейной регресси для преобразованной задачи равен матрице обратной P умноженной на вектор параметров для исходной задачи.\n",
    "\n",
    "$$\n",
    "w' =  P^{-1} w\n",
    "$$\n",
    "\n",
    "Сответсвенно, формула предсказаний для преобразованной задачи имеет вид:\n",
    "\n",
    "$$\n",
    "a' = XPw'\n",
    "$$\n",
    "\n",
    "После математических преобразований получим:\n",
    "$$\n",
    "a' = X P w' = X P P^{-1} w = X E w = Xw = a\n",
    "$$\n",
    "\n",
    "То есть предсказания для преобразованной и исходной задачи одинаковы.\n",
    "\n",
    "**Ответ:**  При умножении матрицы признаков на обратимую матрицу качество линейной регрессии не изменится. Предсказания для преобразованной и исходной задачи одинаковы, а вектор параметров линейной регресси для преобразованной задачи равен обратной матрице P умноженной на вектор параметров для исходной задачи.\n"
   ]
  },
  {
   "cell_type": "markdown",
   "id": "1151705f",
   "metadata": {},
   "source": [
    "## Алгоритм преобразования"
   ]
  },
  {
   "cell_type": "markdown",
   "id": "7a80d7aa",
   "metadata": {},
   "source": [
    "**Алгоритм**\n",
    "\n",
    "Преобразование данных можно провести используя умножение признаков на обратимую матрицу и уже на этих данных обучить модель. Матрицу сделать случайной, при этом добавить шаг проверки матрицы на обратимостью."
   ]
  },
  {
   "cell_type": "markdown",
   "id": "bd4f66e6",
   "metadata": {},
   "source": [
    "**Обоснование**\n",
    "\n",
    "Математическое обоснование алгоритма приведено в предыдущем пункте."
   ]
  },
  {
   "cell_type": "markdown",
   "id": "dcb89283",
   "metadata": {},
   "source": [
    "## Проверка алгоритма"
   ]
  },
  {
   "cell_type": "code",
   "execution_count": 7,
   "id": "51f12c55",
   "metadata": {},
   "outputs": [
    {
     "name": "stdout",
     "output_type": "stream",
     "text": [
      "\n",
      "Размер валидационной выборки:\n",
      "features: (1250, 4)\n",
      "target: (1250,)\n",
      "Размер обучающей выборки:\n",
      "features: (3750, 4)\n",
      "target: (3750,)\n"
     ]
    }
   ],
   "source": [
    "# Разделим данные на признаки и целевой признак\n",
    "\n",
    "features = insurance.drop('Страховые выплаты',axis=1)\n",
    "target = insurance['Страховые выплаты']\n",
    "\n",
    "# Разбивка на обучающую и валидационную выборки\n",
    "features_train, features_valid, target_train, target_valid = train_test_split(features,\n",
    "                                                                              target,\n",
    "                                                                              test_size=0.25,\n",
    "                                                                              random_state=112345\n",
    "                                                                              )\n",
    "# стандартизация\n",
    "scaler = StandardScaler()\n",
    "scaler.fit(features_train) \n",
    "features_train = scaler.transform(features_train)\n",
    "features_valid = scaler.transform(features_valid)\n",
    "        \n",
    "# Проверка на соответсвие размеров выборок\n",
    "print()\n",
    "print('Размер валидационной выборки:')\n",
    "print('features:',features_valid.shape)\n",
    "print('target:',target_valid.shape)\n",
    "\n",
    "print('Размер обучающей выборки:')\n",
    "print('features:',features_train.shape)\n",
    "print('target:',target_train.shape)"
   ]
  },
  {
   "cell_type": "code",
   "execution_count": 8,
   "metadata": {
    "scrolled": true
   },
   "outputs": [
    {
     "name": "stdout",
     "output_type": "stream",
     "text": [
      "Случайнай обратимая матрица:\n",
      "[[0.25111681 0.11292919 0.28784395 0.6184333 ]\n",
      " [0.42005457 0.06852652 0.84518013 0.59011899]\n",
      " [0.97585049 0.154339   0.74857894 0.88589847]\n",
      " [0.89942265 0.10040271 0.35091448 0.94658202]]\n"
     ]
    }
   ],
   "source": [
    "# Создадим случайную матрицу для преобразования признаков и проверим ее обратимость\n",
    "\n",
    "MATRIX_SIZE = features.shape[1]\n",
    "\n",
    "while True:    \n",
    "    try:\n",
    "        p_matrix = np.random.rand(MATRIX_SIZE,MATRIX_SIZE)\n",
    "        np.linalg.inv(p_matrix)\n",
    "    \n",
    "    except np.linalg.LinAlgError:\n",
    "        print(\"Создание другой случайной матрицы\")\n",
    "    \n",
    "    else:\n",
    "        print ('Случайнай обратимая матрица:')\n",
    "        print(p_matrix)\n",
    "        break"
   ]
  },
  {
   "cell_type": "code",
   "execution_count": 9,
   "metadata": {
    "scrolled": true
   },
   "outputs": [],
   "source": [
    "# Преобразуем признаки\n",
    "\n",
    "features_train_transform = np.dot(features_train, p_matrix)\n",
    "features_valid_transform = np.dot(features_valid, p_matrix)"
   ]
  },
  {
   "cell_type": "code",
   "execution_count": 10,
   "metadata": {},
   "outputs": [],
   "source": [
    "# Функция обучения модели линейной регрессии и оценки ее качества\n",
    "\n",
    "def prediction(features_train,target_train,features_valid,target_valid):\n",
    "    model = LinearRegression()\n",
    "\n",
    "    model.fit(features_train,target_train)\n",
    "    prediction = model.predict(features_valid)\n",
    "\n",
    "    r2 = r2_score(target_valid,prediction)\n",
    "\n",
    "    return prediction,r2"
   ]
  },
  {
   "cell_type": "code",
   "execution_count": 11,
   "metadata": {},
   "outputs": [],
   "source": [
    "# Обучим модель и вычислим оценку R2_score для исходных и преобразованных данных\n",
    "\n",
    "# исходные данные\n",
    "prediction_real,r2_real = prediction(features_train,\n",
    "                                     target_train,\n",
    "                                     features_valid,\n",
    "                                     target_valid)\n",
    "\n",
    "# преобразованные данные\n",
    "prediction_transform,r2_transform = prediction(features_train_transform,\n",
    "                                               target_train,\n",
    "                                               features_valid_transform,\n",
    "                                               target_valid)\n"
   ]
  },
  {
   "cell_type": "code",
   "execution_count": 12,
   "metadata": {
    "scrolled": true
   },
   "outputs": [
    {
     "name": "stdout",
     "output_type": "stream",
     "text": [
      "R2_score для исходных данных:\t\t 0.4087909565902036\n",
      "R2_score для преобразованных данных:\t 0.40879095659020337\n"
     ]
    }
   ],
   "source": [
    "# Сравним оценки\n",
    "print('R2_score для исходных данных:\\t\\t',r2_real)\n",
    "print('R2_score для преобразованных данных:\\t',r2_transform)"
   ]
  },
  {
   "cell_type": "markdown",
   "metadata": {},
   "source": [
    "**Вывод**\n",
    "\n",
    "Результат метрики одинаковый для исходных и преоразованных данных. Соответвенно, защита данных клиентов никак не повлияла на результаты работы модели.\n",
    "\n"
   ]
  }
 ],
 "metadata": {
  "ExecuteTimeLog": [
   {
    "duration": 4,
    "start_time": "2022-06-16T20:21:14.286Z"
   },
   {
    "duration": 38,
    "start_time": "2022-06-16T20:21:14.292Z"
   },
   {
    "duration": 9,
    "start_time": "2022-06-16T20:21:14.332Z"
   },
   {
    "duration": 14,
    "start_time": "2022-06-16T20:21:14.343Z"
   },
   {
    "duration": 10,
    "start_time": "2022-06-16T20:21:14.359Z"
   },
   {
    "duration": 52,
    "start_time": "2022-06-16T20:21:14.371Z"
   },
   {
    "duration": 19,
    "start_time": "2022-06-16T20:21:14.425Z"
   },
   {
    "duration": 13,
    "start_time": "2022-06-16T20:21:14.446Z"
   },
   {
    "duration": 167,
    "start_time": "2022-06-16T20:21:14.461Z"
   },
   {
    "duration": 12,
    "start_time": "2022-06-16T20:21:14.630Z"
   },
   {
    "duration": 17,
    "start_time": "2022-06-16T20:21:14.644Z"
   },
   {
    "duration": 8,
    "start_time": "2022-06-16T20:21:14.663Z"
   },
   {
    "duration": 1465,
    "start_time": "2022-06-17T18:42:25.014Z"
   },
   {
    "duration": 84,
    "start_time": "2022-06-17T18:42:26.481Z"
   },
   {
    "duration": 13,
    "start_time": "2022-06-17T18:42:26.567Z"
   },
   {
    "duration": 11,
    "start_time": "2022-06-17T18:42:26.582Z"
   },
   {
    "duration": 4,
    "start_time": "2022-06-17T18:42:26.595Z"
   },
   {
    "duration": 37,
    "start_time": "2022-06-17T18:42:26.601Z"
   },
   {
    "duration": 16,
    "start_time": "2022-06-17T18:42:26.641Z"
   },
   {
    "duration": 13,
    "start_time": "2022-06-17T18:42:26.658Z"
   },
   {
    "duration": 62,
    "start_time": "2022-06-17T18:42:26.673Z"
   },
   {
    "duration": 102,
    "start_time": "2022-06-17T18:42:26.739Z"
   },
   {
    "duration": 28,
    "start_time": "2022-06-17T18:42:26.842Z"
   },
   {
    "duration": 26,
    "start_time": "2022-06-17T18:42:26.871Z"
   }
  ],
  "kernelspec": {
   "display_name": "Python 3 (ipykernel)",
   "language": "python",
   "name": "python3"
  },
  "language_info": {
   "codemirror_mode": {
    "name": "ipython",
    "version": 3
   },
   "file_extension": ".py",
   "mimetype": "text/x-python",
   "name": "python",
   "nbconvert_exporter": "python",
   "pygments_lexer": "ipython3",
   "version": "3.10.7"
  },
  "toc": {
   "base_numbering": 1,
   "nav_menu": {},
   "number_sections": true,
   "sideBar": true,
   "skip_h1_title": true,
   "title_cell": "Содержание",
   "title_sidebar": "Contents",
   "toc_cell": true,
   "toc_position": {
    "height": "calc(100% - 180px)",
    "left": "10px",
    "top": "150px",
    "width": "207.083px"
   },
   "toc_section_display": true,
   "toc_window_display": true
  }
 },
 "nbformat": 4,
 "nbformat_minor": 2
}
