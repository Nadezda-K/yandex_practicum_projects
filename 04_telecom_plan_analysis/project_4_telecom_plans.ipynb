{
 "cells": [
  {
   "cell_type": "markdown",
   "id": "488353dc",
   "metadata": {},
   "source": [
    "#  Определение выгодного тарифа для телеком компании"
   ]
  },
  {
   "cell_type": "markdown",
   "id": "dce92936",
   "metadata": {},
   "source": [
    "## Содержание\n",
    "1. [Описание проекта](#id_description)\n",
    "2. [Обзор данных](#id_data)\n",
    "3. [Предобработка данных](#id_preprocessing)\n",
    "4. [Расчёты и добавление результатов в таблицу](#id_calculations)\n",
    "5. [Исследовательский анализ данных](#id_eda)\n",
    "6. [Проверка гипотез](#id_hypotises_testing)\n",
    "7. [Общий вывод](#id_conclusion)\n",
    "\n"
   ]
  },
  {
   "cell_type": "markdown",
   "id": "1a6b0ee4",
   "metadata": {},
   "source": [
    "## Описание проекта\n",
    "<a id=\"id_description\"></a>\n",
    "\n",
    "\n",
    "Вы аналитик компании «Мегалайн» — федерального оператора сотовой связи. Клиентам предлагают два тарифных плана: «Смарт» и «Ультра». Чтобы скорректировать рекламный бюджет, коммерческий департамент хочет понять, какой тариф приносит больше денег.\n",
    "Вам предстоит сделать предварительный анализ тарифов на небольшой выборке клиентов. В вашем распоряжении данные 500 пользователей «Мегалайна»: кто они, откуда, каким тарифом пользуются, сколько звонков и сообщений каждый отправил за 2018 год. Нужно проанализировать поведение клиентов и сделать вывод — какой тариф лучше.\n",
    "\n",
    "*Описание тарифов*\n",
    "\n",
    "Тариф «Смарт»\n",
    "\n",
    "    Ежемесячная плата: 550 рублей\n",
    "    Включено 500 минут разговора, 50 сообщений и 15 Гб интернет-трафика\n",
    "    Стоимость услуг сверх тарифного пакета:\n",
    "        минута разговора: 3 рубля\n",
    "        сообщение: 3 рубля\n",
    "        1 Гб интернет-трафика: 200 рублей\n",
    "\n",
    "Тариф «Ультра»\n",
    "\n",
    "    Ежемесячная плата: 1950 рублей\n",
    "    Включено 3000 минут разговора, 1000 сообщений и 30 Гб интернет-трафика\n",
    "    Стоимость услуг сверх тарифного пакета:\n",
    "        минута разговора: 1 рубль\n",
    "        сообщение: 1 рубль\n",
    "        1 Гб интернет-трафика: 150 рублей\n",
    "\n",
    "*Примечание:*\n",
    "\n",
    "- «Мегалайн» всегда округляет секунды до минут, а мегабайты — до гигабайт. Каждый звонок округляется отдельно: даже если он длился всего 1 секунду, будет засчитан как 1 минута.\n",
    "- Для веб-трафика отдельные сессии не считаются. Вместо этого общая сумма за месяц округляется в бо́льшую сторону. Если абонент использует 1025 мегабайт в этом месяце, с него возьмут плату за 2 гигабайта."
   ]
  },
  {
   "cell_type": "markdown",
   "id": "4031740b",
   "metadata": {},
   "source": [
    "**Цель**\n",
    "\n",
    "Проанализировать поведение клиентов и сделать вывод — какой тариф лучше.\n",
    "\n",
    "**Ход исследования**\n",
    "\n",
    "Данные с информацией о квартире хранятся в файлах `/datasets/calls.csv`,`/datasets/internet.csv`,`/datasets/messages.csv`,`/datasets/tariffs.csv` и `/datasets/users.csv.`. \n",
    "Заранее не известно есть ли в данных ошибки, аномалии и/или дубликаты.\n",
    "Поэтому перед основным исследованием понадобится обзор и предобработка данных. \n",
    "Также для исследования понадобятся параметры расчитанные на основе имеющихся данных.\n",
    "\n",
    "Таким образом, исследование будет включать следующие этапы:\n",
    " 1. Обзор данных.\n",
    " 2. Предобработка данных\n",
    " 3. Расчёты и добавление результатов в таблицу\n",
    " 4. Исследовательский анализ данных\n",
    " 5. Проверка гипотез\n"
   ]
  },
  {
   "cell_type": "markdown",
   "id": "d9cb4f50",
   "metadata": {},
   "source": [
    "## Обзор данных\n",
    "<a id=\"id_data\"></a>"
   ]
  },
  {
   "cell_type": "code",
   "execution_count": 1,
   "id": "1c522920",
   "metadata": {},
   "outputs": [],
   "source": [
    "# импорт необходимых библиотек\n",
    "import pandas as pd\n",
    "import numpy as np\n",
    "import seaborn as sns\n",
    "import matplotlib.pyplot as plt\n",
    "from scipy import stats as st"
   ]
  },
  {
   "cell_type": "code",
   "execution_count": 2,
   "id": "bc15f279",
   "metadata": {},
   "outputs": [],
   "source": [
    "try:\n",
    "    data_calls = pd.read_csv('data-files/calls.csv')\n",
    "    data_internet = pd.read_csv('data-files/internet.csv')\n",
    "    data_messages = pd.read_csv('data-files/messages.csv')\n",
    "    data_tariffs = pd.read_csv('data-files/tariffs.csv')\n",
    "    data_users = pd.read_csv('data-files/users.csv')  # Локальный путь\n",
    "except:\n",
    "    data_calls = pd.read_csv('/datasets/calls.csv')\n",
    "    data_internet = pd.read_csv('/datasets/internet.csv')\n",
    "    data_messages = pd.read_csv('/datasets/messages.csv')\n",
    "    data_tariffs = pd.read_csv('/datasets/tariffs.csv')\n",
    "    data_users = pd.read_csv('/datasets/users.csv')  # Серверный путь"
   ]
  },
  {
   "cell_type": "code",
   "execution_count": 3,
   "id": "58f7882f",
   "metadata": {},
   "outputs": [
    {
     "name": "stdout",
     "output_type": "stream",
     "text": [
      "<class 'pandas.core.frame.DataFrame'>\n",
      "RangeIndex: 202607 entries, 0 to 202606\n",
      "Data columns (total 4 columns):\n",
      " #   Column     Non-Null Count   Dtype  \n",
      "---  ------     --------------   -----  \n",
      " 0   id         202607 non-null  object \n",
      " 1   call_date  202607 non-null  object \n",
      " 2   duration   202607 non-null  float64\n",
      " 3   user_id    202607 non-null  int64  \n",
      "dtypes: float64(1), int64(1), object(2)\n",
      "memory usage: 6.2+ MB\n"
     ]
    },
    {
     "data": {
      "text/html": [
       "<div>\n",
       "<style scoped>\n",
       "    .dataframe tbody tr th:only-of-type {\n",
       "        vertical-align: middle;\n",
       "    }\n",
       "\n",
       "    .dataframe tbody tr th {\n",
       "        vertical-align: top;\n",
       "    }\n",
       "\n",
       "    .dataframe thead th {\n",
       "        text-align: right;\n",
       "    }\n",
       "</style>\n",
       "<table border=\"1\" class=\"dataframe\">\n",
       "  <thead>\n",
       "    <tr style=\"text-align: right;\">\n",
       "      <th></th>\n",
       "      <th>id</th>\n",
       "      <th>call_date</th>\n",
       "      <th>duration</th>\n",
       "      <th>user_id</th>\n",
       "    </tr>\n",
       "  </thead>\n",
       "  <tbody>\n",
       "    <tr>\n",
       "      <th>0</th>\n",
       "      <td>1000_0</td>\n",
       "      <td>2018-07-25</td>\n",
       "      <td>0.00</td>\n",
       "      <td>1000</td>\n",
       "    </tr>\n",
       "    <tr>\n",
       "      <th>1</th>\n",
       "      <td>1000_1</td>\n",
       "      <td>2018-08-17</td>\n",
       "      <td>0.00</td>\n",
       "      <td>1000</td>\n",
       "    </tr>\n",
       "    <tr>\n",
       "      <th>2</th>\n",
       "      <td>1000_2</td>\n",
       "      <td>2018-06-11</td>\n",
       "      <td>2.85</td>\n",
       "      <td>1000</td>\n",
       "    </tr>\n",
       "    <tr>\n",
       "      <th>3</th>\n",
       "      <td>1000_3</td>\n",
       "      <td>2018-09-21</td>\n",
       "      <td>13.80</td>\n",
       "      <td>1000</td>\n",
       "    </tr>\n",
       "    <tr>\n",
       "      <th>4</th>\n",
       "      <td>1000_4</td>\n",
       "      <td>2018-12-15</td>\n",
       "      <td>5.18</td>\n",
       "      <td>1000</td>\n",
       "    </tr>\n",
       "  </tbody>\n",
       "</table>\n",
       "</div>"
      ],
      "text/plain": [
       "       id   call_date  duration  user_id\n",
       "0  1000_0  2018-07-25      0.00     1000\n",
       "1  1000_1  2018-08-17      0.00     1000\n",
       "2  1000_2  2018-06-11      2.85     1000\n",
       "3  1000_3  2018-09-21     13.80     1000\n",
       "4  1000_4  2018-12-15      5.18     1000"
      ]
     },
     "execution_count": 3,
     "metadata": {},
     "output_type": "execute_result"
    }
   ],
   "source": [
    "data_calls.info()\n",
    "data_calls.head()"
   ]
  },
  {
   "cell_type": "code",
   "execution_count": 4,
   "id": "b3c02d9d",
   "metadata": {},
   "outputs": [
    {
     "name": "stdout",
     "output_type": "stream",
     "text": [
      "<class 'pandas.core.frame.DataFrame'>\n",
      "RangeIndex: 149396 entries, 0 to 149395\n",
      "Data columns (total 5 columns):\n",
      " #   Column        Non-Null Count   Dtype  \n",
      "---  ------        --------------   -----  \n",
      " 0   Unnamed: 0    149396 non-null  int64  \n",
      " 1   id            149396 non-null  object \n",
      " 2   mb_used       149396 non-null  float64\n",
      " 3   session_date  149396 non-null  object \n",
      " 4   user_id       149396 non-null  int64  \n",
      "dtypes: float64(1), int64(2), object(2)\n",
      "memory usage: 5.7+ MB\n"
     ]
    },
    {
     "data": {
      "text/html": [
       "<div>\n",
       "<style scoped>\n",
       "    .dataframe tbody tr th:only-of-type {\n",
       "        vertical-align: middle;\n",
       "    }\n",
       "\n",
       "    .dataframe tbody tr th {\n",
       "        vertical-align: top;\n",
       "    }\n",
       "\n",
       "    .dataframe thead th {\n",
       "        text-align: right;\n",
       "    }\n",
       "</style>\n",
       "<table border=\"1\" class=\"dataframe\">\n",
       "  <thead>\n",
       "    <tr style=\"text-align: right;\">\n",
       "      <th></th>\n",
       "      <th>Unnamed: 0</th>\n",
       "      <th>id</th>\n",
       "      <th>mb_used</th>\n",
       "      <th>session_date</th>\n",
       "      <th>user_id</th>\n",
       "    </tr>\n",
       "  </thead>\n",
       "  <tbody>\n",
       "    <tr>\n",
       "      <th>149386</th>\n",
       "      <td>149386</td>\n",
       "      <td>1499_147</td>\n",
       "      <td>0.00</td>\n",
       "      <td>2018-10-21</td>\n",
       "      <td>1499</td>\n",
       "    </tr>\n",
       "    <tr>\n",
       "      <th>149387</th>\n",
       "      <td>149387</td>\n",
       "      <td>1499_148</td>\n",
       "      <td>268.19</td>\n",
       "      <td>2018-11-13</td>\n",
       "      <td>1499</td>\n",
       "    </tr>\n",
       "    <tr>\n",
       "      <th>149388</th>\n",
       "      <td>149388</td>\n",
       "      <td>1499_149</td>\n",
       "      <td>778.68</td>\n",
       "      <td>2018-11-24</td>\n",
       "      <td>1499</td>\n",
       "    </tr>\n",
       "    <tr>\n",
       "      <th>149389</th>\n",
       "      <td>149389</td>\n",
       "      <td>1499_150</td>\n",
       "      <td>273.98</td>\n",
       "      <td>2018-11-20</td>\n",
       "      <td>1499</td>\n",
       "    </tr>\n",
       "    <tr>\n",
       "      <th>149390</th>\n",
       "      <td>149390</td>\n",
       "      <td>1499_151</td>\n",
       "      <td>752.72</td>\n",
       "      <td>2018-10-11</td>\n",
       "      <td>1499</td>\n",
       "    </tr>\n",
       "    <tr>\n",
       "      <th>149391</th>\n",
       "      <td>149391</td>\n",
       "      <td>1499_152</td>\n",
       "      <td>318.90</td>\n",
       "      <td>2018-10-03</td>\n",
       "      <td>1499</td>\n",
       "    </tr>\n",
       "    <tr>\n",
       "      <th>149392</th>\n",
       "      <td>149392</td>\n",
       "      <td>1499_153</td>\n",
       "      <td>490.13</td>\n",
       "      <td>2018-12-14</td>\n",
       "      <td>1499</td>\n",
       "    </tr>\n",
       "    <tr>\n",
       "      <th>149393</th>\n",
       "      <td>149393</td>\n",
       "      <td>1499_154</td>\n",
       "      <td>0.00</td>\n",
       "      <td>2018-10-27</td>\n",
       "      <td>1499</td>\n",
       "    </tr>\n",
       "    <tr>\n",
       "      <th>149394</th>\n",
       "      <td>149394</td>\n",
       "      <td>1499_155</td>\n",
       "      <td>1246.32</td>\n",
       "      <td>2018-11-26</td>\n",
       "      <td>1499</td>\n",
       "    </tr>\n",
       "    <tr>\n",
       "      <th>149395</th>\n",
       "      <td>149395</td>\n",
       "      <td>1499_156</td>\n",
       "      <td>544.37</td>\n",
       "      <td>2018-10-26</td>\n",
       "      <td>1499</td>\n",
       "    </tr>\n",
       "  </tbody>\n",
       "</table>\n",
       "</div>"
      ],
      "text/plain": [
       "        Unnamed: 0        id  mb_used session_date  user_id\n",
       "149386      149386  1499_147     0.00   2018-10-21     1499\n",
       "149387      149387  1499_148   268.19   2018-11-13     1499\n",
       "149388      149388  1499_149   778.68   2018-11-24     1499\n",
       "149389      149389  1499_150   273.98   2018-11-20     1499\n",
       "149390      149390  1499_151   752.72   2018-10-11     1499\n",
       "149391      149391  1499_152   318.90   2018-10-03     1499\n",
       "149392      149392  1499_153   490.13   2018-12-14     1499\n",
       "149393      149393  1499_154     0.00   2018-10-27     1499\n",
       "149394      149394  1499_155  1246.32   2018-11-26     1499\n",
       "149395      149395  1499_156   544.37   2018-10-26     1499"
      ]
     },
     "execution_count": 4,
     "metadata": {},
     "output_type": "execute_result"
    }
   ],
   "source": [
    "data_internet.info()\n",
    "data_internet.tail(10)"
   ]
  },
  {
   "cell_type": "code",
   "execution_count": 5,
   "id": "0551de45",
   "metadata": {},
   "outputs": [
    {
     "name": "stdout",
     "output_type": "stream",
     "text": [
      "<class 'pandas.core.frame.DataFrame'>\n",
      "RangeIndex: 123036 entries, 0 to 123035\n",
      "Data columns (total 3 columns):\n",
      " #   Column        Non-Null Count   Dtype \n",
      "---  ------        --------------   ----- \n",
      " 0   id            123036 non-null  object\n",
      " 1   message_date  123036 non-null  object\n",
      " 2   user_id       123036 non-null  int64 \n",
      "dtypes: int64(1), object(2)\n",
      "memory usage: 2.8+ MB\n"
     ]
    }
   ],
   "source": [
    "data_messages.info()"
   ]
  },
  {
   "cell_type": "code",
   "execution_count": 6,
   "id": "70d8c29f",
   "metadata": {},
   "outputs": [
    {
     "name": "stdout",
     "output_type": "stream",
     "text": [
      "<class 'pandas.core.frame.DataFrame'>\n",
      "RangeIndex: 2 entries, 0 to 1\n",
      "Data columns (total 8 columns):\n",
      " #   Column                 Non-Null Count  Dtype \n",
      "---  ------                 --------------  ----- \n",
      " 0   messages_included      2 non-null      int64 \n",
      " 1   mb_per_month_included  2 non-null      int64 \n",
      " 2   minutes_included       2 non-null      int64 \n",
      " 3   rub_monthly_fee        2 non-null      int64 \n",
      " 4   rub_per_gb             2 non-null      int64 \n",
      " 5   rub_per_message        2 non-null      int64 \n",
      " 6   rub_per_minute         2 non-null      int64 \n",
      " 7   tariff_name            2 non-null      object\n",
      "dtypes: int64(7), object(1)\n",
      "memory usage: 256.0+ bytes\n"
     ]
    }
   ],
   "source": [
    "data_tariffs.info()"
   ]
  },
  {
   "cell_type": "code",
   "execution_count": 7,
   "id": "1c7a8922",
   "metadata": {},
   "outputs": [
    {
     "name": "stdout",
     "output_type": "stream",
     "text": [
      "<class 'pandas.core.frame.DataFrame'>\n",
      "RangeIndex: 500 entries, 0 to 499\n",
      "Data columns (total 8 columns):\n",
      " #   Column      Non-Null Count  Dtype \n",
      "---  ------      --------------  ----- \n",
      " 0   user_id     500 non-null    int64 \n",
      " 1   age         500 non-null    int64 \n",
      " 2   churn_date  38 non-null     object\n",
      " 3   city        500 non-null    object\n",
      " 4   first_name  500 non-null    object\n",
      " 5   last_name   500 non-null    object\n",
      " 6   reg_date    500 non-null    object\n",
      " 7   tariff      500 non-null    object\n",
      "dtypes: int64(2), object(6)\n",
      "memory usage: 31.4+ KB\n"
     ]
    },
    {
     "data": {
      "text/html": [
       "<div>\n",
       "<style scoped>\n",
       "    .dataframe tbody tr th:only-of-type {\n",
       "        vertical-align: middle;\n",
       "    }\n",
       "\n",
       "    .dataframe tbody tr th {\n",
       "        vertical-align: top;\n",
       "    }\n",
       "\n",
       "    .dataframe thead th {\n",
       "        text-align: right;\n",
       "    }\n",
       "</style>\n",
       "<table border=\"1\" class=\"dataframe\">\n",
       "  <thead>\n",
       "    <tr style=\"text-align: right;\">\n",
       "      <th></th>\n",
       "      <th>user_id</th>\n",
       "      <th>age</th>\n",
       "      <th>churn_date</th>\n",
       "      <th>city</th>\n",
       "      <th>first_name</th>\n",
       "      <th>last_name</th>\n",
       "      <th>reg_date</th>\n",
       "      <th>tariff</th>\n",
       "    </tr>\n",
       "  </thead>\n",
       "  <tbody>\n",
       "    <tr>\n",
       "      <th>495</th>\n",
       "      <td>1495</td>\n",
       "      <td>65</td>\n",
       "      <td>NaN</td>\n",
       "      <td>Иркутск</td>\n",
       "      <td>Авксентий</td>\n",
       "      <td>Фокин</td>\n",
       "      <td>2018-08-28</td>\n",
       "      <td>ultra</td>\n",
       "    </tr>\n",
       "    <tr>\n",
       "      <th>496</th>\n",
       "      <td>1496</td>\n",
       "      <td>36</td>\n",
       "      <td>NaN</td>\n",
       "      <td>Вологда</td>\n",
       "      <td>Трифон</td>\n",
       "      <td>Блохин</td>\n",
       "      <td>2018-01-27</td>\n",
       "      <td>smart</td>\n",
       "    </tr>\n",
       "    <tr>\n",
       "      <th>497</th>\n",
       "      <td>1497</td>\n",
       "      <td>32</td>\n",
       "      <td>NaN</td>\n",
       "      <td>Челябинск</td>\n",
       "      <td>Каролина</td>\n",
       "      <td>Агеева</td>\n",
       "      <td>2018-10-09</td>\n",
       "      <td>smart</td>\n",
       "    </tr>\n",
       "    <tr>\n",
       "      <th>498</th>\n",
       "      <td>1498</td>\n",
       "      <td>68</td>\n",
       "      <td>2018-10-25</td>\n",
       "      <td>Владикавказ</td>\n",
       "      <td>Всеволод</td>\n",
       "      <td>Акимчин</td>\n",
       "      <td>2018-07-19</td>\n",
       "      <td>smart</td>\n",
       "    </tr>\n",
       "    <tr>\n",
       "      <th>499</th>\n",
       "      <td>1499</td>\n",
       "      <td>35</td>\n",
       "      <td>NaN</td>\n",
       "      <td>Пермь</td>\n",
       "      <td>Гектор</td>\n",
       "      <td>Корнилов</td>\n",
       "      <td>2018-09-27</td>\n",
       "      <td>smart</td>\n",
       "    </tr>\n",
       "  </tbody>\n",
       "</table>\n",
       "</div>"
      ],
      "text/plain": [
       "     user_id  age  churn_date         city first_name last_name    reg_date  \\\n",
       "495     1495   65         NaN      Иркутск  Авксентий     Фокин  2018-08-28   \n",
       "496     1496   36         NaN      Вологда     Трифон    Блохин  2018-01-27   \n",
       "497     1497   32         NaN    Челябинск   Каролина    Агеева  2018-10-09   \n",
       "498     1498   68  2018-10-25  Владикавказ   Всеволод   Акимчин  2018-07-19   \n",
       "499     1499   35         NaN        Пермь     Гектор  Корнилов  2018-09-27   \n",
       "\n",
       "    tariff  \n",
       "495  ultra  \n",
       "496  smart  \n",
       "497  smart  \n",
       "498  smart  \n",
       "499  smart  "
      ]
     },
     "execution_count": 7,
     "metadata": {},
     "output_type": "execute_result"
    }
   ],
   "source": [
    "data_users.info()\n",
    "data_users.tail()"
   ]
  },
  {
   "cell_type": "markdown",
   "id": "2e8e2c17",
   "metadata": {},
   "source": [
    "Согласно документации к данным в таблицах есть следующие столбцы:\n",
    "\n",
    "Таблица users (информация о пользователях):\n",
    "\n",
    "    user_id — уникальный идентификатор пользователя\n",
    "    first_name — имя пользователя\n",
    "    last_name — фамилия пользователя\n",
    "    age — возраст пользователя (годы)\n",
    "    reg_date — дата подключения тарифа (день, месяц, год)\n",
    "    churn_date — дата прекращения пользования тарифом (если значение пропущено, то тариф ещё действовал на момент выгрузки данных)\n",
    "    city — город проживания пользователя\n",
    "    tariff — название тарифного плана\n",
    "\n",
    "Таблица calls (информация о звонках):\n",
    "\n",
    "    id — уникальный номер звонка\n",
    "    call_date — дата звонка\n",
    "    duration — длительность звонка в минутах\n",
    "    user_id — идентификатор пользователя, сделавшего звонок\n",
    "\n",
    "Таблица messages (информация о сообщениях):\n",
    "\n",
    "    id — уникальный номер сообщения\n",
    "    message_date — дата сообщения\n",
    "    user_id — идентификатор пользователя, отправившего сообщение\n",
    "\n",
    "Таблица internet (информация об интернет-сессиях):\n",
    "\n",
    "    id — уникальный номер сессии\n",
    "    mb_used — объём потраченного за сессию интернет-трафика (в мегабайтах)\n",
    "    session_date — дата интернет-сессии\n",
    "    user_id — идентификатор пользователя\n",
    "\n",
    "Таблица tariffs (информация о тарифах):\n",
    "\n",
    "    tariff_name — название тарифа\n",
    "    rub_monthly_fee — ежемесячная абонентская плата в рублях\n",
    "    minutes_included — количество минут разговора в месяц, включённых в абонентскую плату\n",
    "    messages_included — количество сообщений в месяц, включённых в абонентскую плату\n",
    "    mb_per_month_included — объём интернет-трафика, включённого в абонентскую плату (в мегабайтах)\n",
    "    rub_per_minute — стоимость минуты разговора сверх тарифного пакета (например, если в тарифе 100 минут разговора в месяц, то со 101 минуты будет взиматься плата)\n",
    "    rub_per_message — стоимость отправки сообщения сверх тарифного пакета\n",
    "    rub_per_gb — стоимость дополнительного гигабайта интернет-трафика сверх тарифного пакета (1 гигабайт = 1024 мегабайта)\n"
   ]
  },
  {
   "cell_type": "markdown",
   "id": "e0f54b47",
   "metadata": {},
   "source": [
    "### Вывод"
   ]
  },
  {
   "cell_type": "markdown",
   "id": "a5cb7615",
   "metadata": {},
   "source": [
    "В таблицах представлены данные по каждому пользователю.\n",
    "Есть таблица с данными пользователя: фамилия, имя, тариф и день регистрации. \n",
    "Есть таблицы описывающие поведение пользователей -- количесво и длительность звонков, количесво отправленных сообщений, использованные трафик.\n",
    "\n",
    "В данных не обнаружено пропусков. Единственные пропущенные значения в таблице `users` в колонке `churn_date` -- дата прекращения пользования тарифом. Но в данном случае пропущенное значение означает, что на момент выгрузки данных тариф ещё действует.\n",
    "\n",
    "Также есть еще одна особенность данных -- звонки с нулевой продолжительностью, которые обозначают пропущенные звонки.\n",
    "\n",
    "Из предварительного анализа данных, можно сказать, что данные качесвенные и серьезной предобработки не требуют.\n"
   ]
  },
  {
   "cell_type": "markdown",
   "id": "f314ba2c",
   "metadata": {},
   "source": [
    "## Предобработка данных\n",
    "<a id=\"id_preprocessing\"></a>"
   ]
  },
  {
   "cell_type": "markdown",
   "id": "08096d98",
   "metadata": {},
   "source": [
    "Из задания изветсно, что «Мегалайн» всегда округляет секунды до минут, поэтому  приведем колонку `duration` из таблицы `calls` к типу int, перед этим применив метод ceil()."
   ]
  },
  {
   "cell_type": "code",
   "execution_count": 8,
   "id": "c260e676",
   "metadata": {},
   "outputs": [],
   "source": [
    "data_calls['duration'] = np.ceil(data_calls['duration'])\n",
    "data_calls['duration'] = data_calls['duration'].astype(int)"
   ]
  },
  {
   "cell_type": "markdown",
   "id": "48d8a188",
   "metadata": {},
   "source": [
    "Преобразуем все колонки содержащие даты к типу DateTime"
   ]
  },
  {
   "cell_type": "code",
   "execution_count": 9,
   "id": "ab1bec63",
   "metadata": {},
   "outputs": [
    {
     "data": {
      "text/html": [
       "<div>\n",
       "<style scoped>\n",
       "    .dataframe tbody tr th:only-of-type {\n",
       "        vertical-align: middle;\n",
       "    }\n",
       "\n",
       "    .dataframe tbody tr th {\n",
       "        vertical-align: top;\n",
       "    }\n",
       "\n",
       "    .dataframe thead th {\n",
       "        text-align: right;\n",
       "    }\n",
       "</style>\n",
       "<table border=\"1\" class=\"dataframe\">\n",
       "  <thead>\n",
       "    <tr style=\"text-align: right;\">\n",
       "      <th></th>\n",
       "      <th>user_id</th>\n",
       "      <th>age</th>\n",
       "      <th>churn_date</th>\n",
       "      <th>city</th>\n",
       "      <th>first_name</th>\n",
       "      <th>last_name</th>\n",
       "      <th>reg_date</th>\n",
       "      <th>tariff</th>\n",
       "    </tr>\n",
       "  </thead>\n",
       "  <tbody>\n",
       "    <tr>\n",
       "      <th>0</th>\n",
       "      <td>1000</td>\n",
       "      <td>52</td>\n",
       "      <td>NaT</td>\n",
       "      <td>Краснодар</td>\n",
       "      <td>Рафаил</td>\n",
       "      <td>Верещагин</td>\n",
       "      <td>2018-05-25</td>\n",
       "      <td>ultra</td>\n",
       "    </tr>\n",
       "    <tr>\n",
       "      <th>1</th>\n",
       "      <td>1001</td>\n",
       "      <td>41</td>\n",
       "      <td>NaT</td>\n",
       "      <td>Москва</td>\n",
       "      <td>Иван</td>\n",
       "      <td>Ежов</td>\n",
       "      <td>2018-11-01</td>\n",
       "      <td>smart</td>\n",
       "    </tr>\n",
       "    <tr>\n",
       "      <th>2</th>\n",
       "      <td>1002</td>\n",
       "      <td>59</td>\n",
       "      <td>NaT</td>\n",
       "      <td>Стерлитамак</td>\n",
       "      <td>Евгений</td>\n",
       "      <td>Абрамович</td>\n",
       "      <td>2018-06-17</td>\n",
       "      <td>smart</td>\n",
       "    </tr>\n",
       "    <tr>\n",
       "      <th>3</th>\n",
       "      <td>1003</td>\n",
       "      <td>23</td>\n",
       "      <td>NaT</td>\n",
       "      <td>Москва</td>\n",
       "      <td>Белла</td>\n",
       "      <td>Белякова</td>\n",
       "      <td>2018-08-17</td>\n",
       "      <td>ultra</td>\n",
       "    </tr>\n",
       "    <tr>\n",
       "      <th>4</th>\n",
       "      <td>1004</td>\n",
       "      <td>68</td>\n",
       "      <td>NaT</td>\n",
       "      <td>Новокузнецк</td>\n",
       "      <td>Татьяна</td>\n",
       "      <td>Авдеенко</td>\n",
       "      <td>2018-05-14</td>\n",
       "      <td>ultra</td>\n",
       "    </tr>\n",
       "  </tbody>\n",
       "</table>\n",
       "</div>"
      ],
      "text/plain": [
       "   user_id  age churn_date         city first_name  last_name   reg_date  \\\n",
       "0     1000   52        NaT    Краснодар     Рафаил  Верещагин 2018-05-25   \n",
       "1     1001   41        NaT       Москва       Иван       Ежов 2018-11-01   \n",
       "2     1002   59        NaT  Стерлитамак    Евгений  Абрамович 2018-06-17   \n",
       "3     1003   23        NaT       Москва      Белла   Белякова 2018-08-17   \n",
       "4     1004   68        NaT  Новокузнецк    Татьяна   Авдеенко 2018-05-14   \n",
       "\n",
       "  tariff  \n",
       "0  ultra  \n",
       "1  smart  \n",
       "2  smart  \n",
       "3  ultra  \n",
       "4  ultra  "
      ]
     },
     "execution_count": 9,
     "metadata": {},
     "output_type": "execute_result"
    }
   ],
   "source": [
    "data_calls['call_date'] = pd.to_datetime(data_calls['call_date'], format='%Y-%m-%d')\n",
    "data_internet['session_date'] = pd.to_datetime(data_internet['session_date'], format='%Y-%m-%d')\n",
    "data_messages['message_date'] = pd.to_datetime(data_messages['message_date'], format='%Y-%m-%d')\n",
    "data_users['reg_date'] = pd.to_datetime(data_users['reg_date'], format='%Y-%m-%d')\n",
    "data_users['churn_date'] = pd.to_datetime(data_users['churn_date'], format='%Y-%m-%d')\n",
    "data_users.head()"
   ]
  },
  {
   "cell_type": "markdown",
   "id": "4fc6968d",
   "metadata": {},
   "source": [
    "Удалим колонку `Unnamed: 0`. Она содержит нумерацию сторк и в таблицу попала явно случайно при выгрузке данных"
   ]
  },
  {
   "cell_type": "code",
   "execution_count": 10,
   "id": "37f373b7",
   "metadata": {},
   "outputs": [
    {
     "data": {
      "text/html": [
       "<div>\n",
       "<style scoped>\n",
       "    .dataframe tbody tr th:only-of-type {\n",
       "        vertical-align: middle;\n",
       "    }\n",
       "\n",
       "    .dataframe tbody tr th {\n",
       "        vertical-align: top;\n",
       "    }\n",
       "\n",
       "    .dataframe thead th {\n",
       "        text-align: right;\n",
       "    }\n",
       "</style>\n",
       "<table border=\"1\" class=\"dataframe\">\n",
       "  <thead>\n",
       "    <tr style=\"text-align: right;\">\n",
       "      <th></th>\n",
       "      <th>id</th>\n",
       "      <th>mb_used</th>\n",
       "      <th>session_date</th>\n",
       "      <th>user_id</th>\n",
       "    </tr>\n",
       "  </thead>\n",
       "  <tbody>\n",
       "    <tr>\n",
       "      <th>0</th>\n",
       "      <td>1000_0</td>\n",
       "      <td>112.95</td>\n",
       "      <td>2018-11-25</td>\n",
       "      <td>1000</td>\n",
       "    </tr>\n",
       "    <tr>\n",
       "      <th>1</th>\n",
       "      <td>1000_1</td>\n",
       "      <td>1052.81</td>\n",
       "      <td>2018-09-07</td>\n",
       "      <td>1000</td>\n",
       "    </tr>\n",
       "    <tr>\n",
       "      <th>2</th>\n",
       "      <td>1000_2</td>\n",
       "      <td>1197.26</td>\n",
       "      <td>2018-06-25</td>\n",
       "      <td>1000</td>\n",
       "    </tr>\n",
       "    <tr>\n",
       "      <th>3</th>\n",
       "      <td>1000_3</td>\n",
       "      <td>550.27</td>\n",
       "      <td>2018-08-22</td>\n",
       "      <td>1000</td>\n",
       "    </tr>\n",
       "    <tr>\n",
       "      <th>4</th>\n",
       "      <td>1000_4</td>\n",
       "      <td>302.56</td>\n",
       "      <td>2018-09-24</td>\n",
       "      <td>1000</td>\n",
       "    </tr>\n",
       "  </tbody>\n",
       "</table>\n",
       "</div>"
      ],
      "text/plain": [
       "       id  mb_used session_date  user_id\n",
       "0  1000_0   112.95   2018-11-25     1000\n",
       "1  1000_1  1052.81   2018-09-07     1000\n",
       "2  1000_2  1197.26   2018-06-25     1000\n",
       "3  1000_3   550.27   2018-08-22     1000\n",
       "4  1000_4   302.56   2018-09-24     1000"
      ]
     },
     "execution_count": 10,
     "metadata": {},
     "output_type": "execute_result"
    }
   ],
   "source": [
    "data_internet = data_internet.drop('Unnamed: 0', 1)\n",
    "data_internet.head()"
   ]
  },
  {
   "cell_type": "markdown",
   "id": "3b9330bd",
   "metadata": {},
   "source": [
    "**Проверка на наличие явных дубликатов**"
   ]
  },
  {
   "cell_type": "code",
   "execution_count": 11,
   "id": "036b7fd7",
   "metadata": {},
   "outputs": [
    {
     "data": {
      "text/plain": [
       "0"
      ]
     },
     "execution_count": 11,
     "metadata": {},
     "output_type": "execute_result"
    }
   ],
   "source": [
    "data_calls.duplicated().sum()"
   ]
  },
  {
   "cell_type": "code",
   "execution_count": 12,
   "id": "da7cf417",
   "metadata": {},
   "outputs": [
    {
     "data": {
      "text/plain": [
       "0"
      ]
     },
     "execution_count": 12,
     "metadata": {},
     "output_type": "execute_result"
    }
   ],
   "source": [
    "data_internet.duplicated().sum()"
   ]
  },
  {
   "cell_type": "code",
   "execution_count": 13,
   "id": "2fbcdc45",
   "metadata": {},
   "outputs": [
    {
     "data": {
      "text/plain": [
       "0"
      ]
     },
     "execution_count": 13,
     "metadata": {},
     "output_type": "execute_result"
    }
   ],
   "source": [
    "data_messages.duplicated().sum()"
   ]
  },
  {
   "cell_type": "code",
   "execution_count": 14,
   "id": "f52bfd84",
   "metadata": {},
   "outputs": [
    {
     "data": {
      "text/plain": [
       "0"
      ]
     },
     "execution_count": 14,
     "metadata": {},
     "output_type": "execute_result"
    }
   ],
   "source": [
    "data_users.duplicated().sum()"
   ]
  },
  {
   "cell_type": "code",
   "execution_count": null,
   "id": "7a6a53c9",
   "metadata": {},
   "outputs": [],
   "source": []
  },
  {
   "cell_type": "markdown",
   "id": "6d2d470e",
   "metadata": {},
   "source": [
    "### Вывод"
   ]
  },
  {
   "cell_type": "markdown",
   "id": "ebd0d874",
   "metadata": {},
   "source": [
    "На этапе предобработки были сделаны следующие пункты:\n",
    "\n",
    "- колонка `duration` из таблицы `calls` преобразована к типу int с округлением вверх;\n",
    "- все колонки содержащие даты преобразованы к типу DateTime;\n",
    "- удалена колонку `Unnamed: 0`;\n",
    "- данные проверены на явные дубликаты.\n"
   ]
  },
  {
   "cell_type": "markdown",
   "id": "227b924d",
   "metadata": {},
   "source": [
    "## Расчёты и добавление результатов в таблицу\n",
    "<a id=\"id_calculations\"></a>"
   ]
  },
  {
   "cell_type": "markdown",
   "id": "41257a3b",
   "metadata": {},
   "source": [
    "Для дальнейшего анализа необходимо посчитать для каждого пользователя следующие параметры:\n",
    "- количество сделанных звонков и израсходованных минут разговора по месяцам;\n",
    "- количество отправленных сообщений по месяцам;\n",
    "- объем израсходованного интернет-трафика по месяцам;\n",
    "- помесячную выручку с каждого пользователя (вычесть бесплатный лимит из суммарного количества звонков, сообщений и интернет-трафика; остаток умножьте на значение из тарифного плана; прибавьте абонентскую плату, соответствующую тарифному плану).\n"
   ]
  },
  {
   "cell_type": "code",
   "execution_count": 15,
   "id": "33361bf9",
   "metadata": {},
   "outputs": [],
   "source": [
    "data_calls['month'] = pd.DatetimeIndex(data_calls['call_date']).month\n",
    "month_calls = data_calls.groupby(['user_id', 'month'])\\\n",
    "                  .agg({'duration':'sum', 'id':'count'})\\\n",
    "                  .reset_index()\\\n",
    "                  .rename(columns={'duration':'month_calls_duration','id':'month_calls_number'})"
   ]
  },
  {
   "cell_type": "code",
   "execution_count": 16,
   "id": "e03eebe4",
   "metadata": {},
   "outputs": [],
   "source": [
    "data_messages['month'] = pd.DatetimeIndex(data_messages['message_date']).month\n",
    "month_messages = data_messages.groupby(['user_id', 'month'])\\\n",
    "                  .agg({'id':'count'})\\\n",
    "                  .reset_index()\\\n",
    "                  .rename(columns={'id':'month_messages_number'})"
   ]
  },
  {
   "cell_type": "code",
   "execution_count": 17,
   "id": "c725ad45",
   "metadata": {},
   "outputs": [],
   "source": [
    "data_internet['month'] = pd.DatetimeIndex(data_internet['session_date']).month\n",
    "month_internet = data_internet.groupby(['user_id', 'month'])\\\n",
    "                  .agg({'mb_used':'sum'})\\\n",
    "                  .reset_index()\\\n",
    "                  .rename(columns={'mb_used':'month_mb_used'})"
   ]
  },
  {
   "cell_type": "markdown",
   "id": "8855eaec",
   "metadata": {},
   "source": [
    "Соединим полученные таблицы в одну для удобства"
   ]
  },
  {
   "cell_type": "code",
   "execution_count": 18,
   "id": "96b86785",
   "metadata": {
    "scrolled": true
   },
   "outputs": [
    {
     "data": {
      "text/html": [
       "<div>\n",
       "<style scoped>\n",
       "    .dataframe tbody tr th:only-of-type {\n",
       "        vertical-align: middle;\n",
       "    }\n",
       "\n",
       "    .dataframe tbody tr th {\n",
       "        vertical-align: top;\n",
       "    }\n",
       "\n",
       "    .dataframe thead th {\n",
       "        text-align: right;\n",
       "    }\n",
       "</style>\n",
       "<table border=\"1\" class=\"dataframe\">\n",
       "  <thead>\n",
       "    <tr style=\"text-align: right;\">\n",
       "      <th></th>\n",
       "      <th>user_id</th>\n",
       "      <th>month</th>\n",
       "      <th>month_calls_duration</th>\n",
       "      <th>month_calls_number</th>\n",
       "      <th>month_messages_number</th>\n",
       "      <th>month_mb_used</th>\n",
       "    </tr>\n",
       "  </thead>\n",
       "  <tbody>\n",
       "    <tr>\n",
       "      <th>0</th>\n",
       "      <td>1000</td>\n",
       "      <td>5</td>\n",
       "      <td>159.0</td>\n",
       "      <td>22.0</td>\n",
       "      <td>22.0</td>\n",
       "      <td>2253.49</td>\n",
       "    </tr>\n",
       "    <tr>\n",
       "      <th>1</th>\n",
       "      <td>1000</td>\n",
       "      <td>6</td>\n",
       "      <td>172.0</td>\n",
       "      <td>43.0</td>\n",
       "      <td>60.0</td>\n",
       "      <td>23233.77</td>\n",
       "    </tr>\n",
       "    <tr>\n",
       "      <th>2</th>\n",
       "      <td>1000</td>\n",
       "      <td>7</td>\n",
       "      <td>340.0</td>\n",
       "      <td>47.0</td>\n",
       "      <td>75.0</td>\n",
       "      <td>14003.64</td>\n",
       "    </tr>\n",
       "    <tr>\n",
       "      <th>3</th>\n",
       "      <td>1000</td>\n",
       "      <td>8</td>\n",
       "      <td>408.0</td>\n",
       "      <td>52.0</td>\n",
       "      <td>81.0</td>\n",
       "      <td>14055.93</td>\n",
       "    </tr>\n",
       "    <tr>\n",
       "      <th>4</th>\n",
       "      <td>1000</td>\n",
       "      <td>9</td>\n",
       "      <td>466.0</td>\n",
       "      <td>58.0</td>\n",
       "      <td>57.0</td>\n",
       "      <td>14568.91</td>\n",
       "    </tr>\n",
       "  </tbody>\n",
       "</table>\n",
       "</div>"
      ],
      "text/plain": [
       "   user_id  month  month_calls_duration  month_calls_number  \\\n",
       "0     1000      5                 159.0                22.0   \n",
       "1     1000      6                 172.0                43.0   \n",
       "2     1000      7                 340.0                47.0   \n",
       "3     1000      8                 408.0                52.0   \n",
       "4     1000      9                 466.0                58.0   \n",
       "\n",
       "   month_messages_number  month_mb_used  \n",
       "0                   22.0        2253.49  \n",
       "1                   60.0       23233.77  \n",
       "2                   75.0       14003.64  \n",
       "3                   81.0       14055.93  \n",
       "4                   57.0       14568.91  "
      ]
     },
     "execution_count": 18,
     "metadata": {},
     "output_type": "execute_result"
    }
   ],
   "source": [
    "month_data = month_calls.merge(month_messages, on=['user_id','month'], how = 'outer')\\\n",
    "                        .merge(month_internet, on=['user_id','month'], how = 'outer')\n",
    "month_data.head()"
   ]
  },
  {
   "cell_type": "markdown",
   "id": "2a65f412",
   "metadata": {},
   "source": [
    "Теперь необходимо рассчитать помесячную выручку с каждого пользователя.\n",
    "Для этого добавим в `month_data` информацию о том, какой тариф пользователь использует и о самом тарифе."
   ]
  },
  {
   "cell_type": "code",
   "execution_count": 19,
   "id": "f7852ad9",
   "metadata": {
    "scrolled": true
   },
   "outputs": [
    {
     "data": {
      "text/html": [
       "<div>\n",
       "<style scoped>\n",
       "    .dataframe tbody tr th:only-of-type {\n",
       "        vertical-align: middle;\n",
       "    }\n",
       "\n",
       "    .dataframe tbody tr th {\n",
       "        vertical-align: top;\n",
       "    }\n",
       "\n",
       "    .dataframe thead th {\n",
       "        text-align: right;\n",
       "    }\n",
       "</style>\n",
       "<table border=\"1\" class=\"dataframe\">\n",
       "  <thead>\n",
       "    <tr style=\"text-align: right;\">\n",
       "      <th></th>\n",
       "      <th>user_id</th>\n",
       "      <th>month</th>\n",
       "      <th>month_calls_duration</th>\n",
       "      <th>month_calls_number</th>\n",
       "      <th>month_messages_number</th>\n",
       "      <th>month_mb_used</th>\n",
       "      <th>city</th>\n",
       "      <th>tariff</th>\n",
       "      <th>messages_included</th>\n",
       "      <th>mb_per_month_included</th>\n",
       "      <th>minutes_included</th>\n",
       "      <th>rub_monthly_fee</th>\n",
       "      <th>rub_per_gb</th>\n",
       "      <th>rub_per_message</th>\n",
       "      <th>rub_per_minute</th>\n",
       "    </tr>\n",
       "  </thead>\n",
       "  <tbody>\n",
       "    <tr>\n",
       "      <th>0</th>\n",
       "      <td>1000</td>\n",
       "      <td>5</td>\n",
       "      <td>159.0</td>\n",
       "      <td>22.0</td>\n",
       "      <td>22.0</td>\n",
       "      <td>2253.49</td>\n",
       "      <td>Краснодар</td>\n",
       "      <td>ultra</td>\n",
       "      <td>1000</td>\n",
       "      <td>30720</td>\n",
       "      <td>3000</td>\n",
       "      <td>1950</td>\n",
       "      <td>150</td>\n",
       "      <td>1</td>\n",
       "      <td>1</td>\n",
       "    </tr>\n",
       "    <tr>\n",
       "      <th>1</th>\n",
       "      <td>1000</td>\n",
       "      <td>6</td>\n",
       "      <td>172.0</td>\n",
       "      <td>43.0</td>\n",
       "      <td>60.0</td>\n",
       "      <td>23233.77</td>\n",
       "      <td>Краснодар</td>\n",
       "      <td>ultra</td>\n",
       "      <td>1000</td>\n",
       "      <td>30720</td>\n",
       "      <td>3000</td>\n",
       "      <td>1950</td>\n",
       "      <td>150</td>\n",
       "      <td>1</td>\n",
       "      <td>1</td>\n",
       "    </tr>\n",
       "    <tr>\n",
       "      <th>2</th>\n",
       "      <td>1000</td>\n",
       "      <td>7</td>\n",
       "      <td>340.0</td>\n",
       "      <td>47.0</td>\n",
       "      <td>75.0</td>\n",
       "      <td>14003.64</td>\n",
       "      <td>Краснодар</td>\n",
       "      <td>ultra</td>\n",
       "      <td>1000</td>\n",
       "      <td>30720</td>\n",
       "      <td>3000</td>\n",
       "      <td>1950</td>\n",
       "      <td>150</td>\n",
       "      <td>1</td>\n",
       "      <td>1</td>\n",
       "    </tr>\n",
       "    <tr>\n",
       "      <th>3</th>\n",
       "      <td>1000</td>\n",
       "      <td>8</td>\n",
       "      <td>408.0</td>\n",
       "      <td>52.0</td>\n",
       "      <td>81.0</td>\n",
       "      <td>14055.93</td>\n",
       "      <td>Краснодар</td>\n",
       "      <td>ultra</td>\n",
       "      <td>1000</td>\n",
       "      <td>30720</td>\n",
       "      <td>3000</td>\n",
       "      <td>1950</td>\n",
       "      <td>150</td>\n",
       "      <td>1</td>\n",
       "      <td>1</td>\n",
       "    </tr>\n",
       "    <tr>\n",
       "      <th>4</th>\n",
       "      <td>1000</td>\n",
       "      <td>9</td>\n",
       "      <td>466.0</td>\n",
       "      <td>58.0</td>\n",
       "      <td>57.0</td>\n",
       "      <td>14568.91</td>\n",
       "      <td>Краснодар</td>\n",
       "      <td>ultra</td>\n",
       "      <td>1000</td>\n",
       "      <td>30720</td>\n",
       "      <td>3000</td>\n",
       "      <td>1950</td>\n",
       "      <td>150</td>\n",
       "      <td>1</td>\n",
       "      <td>1</td>\n",
       "    </tr>\n",
       "    <tr>\n",
       "      <th>...</th>\n",
       "      <td>...</td>\n",
       "      <td>...</td>\n",
       "      <td>...</td>\n",
       "      <td>...</td>\n",
       "      <td>...</td>\n",
       "      <td>...</td>\n",
       "      <td>...</td>\n",
       "      <td>...</td>\n",
       "      <td>...</td>\n",
       "      <td>...</td>\n",
       "      <td>...</td>\n",
       "      <td>...</td>\n",
       "      <td>...</td>\n",
       "      <td>...</td>\n",
       "      <td>...</td>\n",
       "    </tr>\n",
       "    <tr>\n",
       "      <th>3209</th>\n",
       "      <td>1489</td>\n",
       "      <td>9</td>\n",
       "      <td>NaN</td>\n",
       "      <td>NaN</td>\n",
       "      <td>32.0</td>\n",
       "      <td>17206.30</td>\n",
       "      <td>Санкт-Петербург</td>\n",
       "      <td>smart</td>\n",
       "      <td>50</td>\n",
       "      <td>15360</td>\n",
       "      <td>500</td>\n",
       "      <td>550</td>\n",
       "      <td>200</td>\n",
       "      <td>3</td>\n",
       "      <td>3</td>\n",
       "    </tr>\n",
       "    <tr>\n",
       "      <th>3210</th>\n",
       "      <td>1489</td>\n",
       "      <td>10</td>\n",
       "      <td>NaN</td>\n",
       "      <td>NaN</td>\n",
       "      <td>21.0</td>\n",
       "      <td>19559.44</td>\n",
       "      <td>Санкт-Петербург</td>\n",
       "      <td>smart</td>\n",
       "      <td>50</td>\n",
       "      <td>15360</td>\n",
       "      <td>500</td>\n",
       "      <td>550</td>\n",
       "      <td>200</td>\n",
       "      <td>3</td>\n",
       "      <td>3</td>\n",
       "    </tr>\n",
       "    <tr>\n",
       "      <th>3211</th>\n",
       "      <td>1489</td>\n",
       "      <td>11</td>\n",
       "      <td>NaN</td>\n",
       "      <td>NaN</td>\n",
       "      <td>20.0</td>\n",
       "      <td>17491.56</td>\n",
       "      <td>Санкт-Петербург</td>\n",
       "      <td>smart</td>\n",
       "      <td>50</td>\n",
       "      <td>15360</td>\n",
       "      <td>500</td>\n",
       "      <td>550</td>\n",
       "      <td>200</td>\n",
       "      <td>3</td>\n",
       "      <td>3</td>\n",
       "    </tr>\n",
       "    <tr>\n",
       "      <th>3212</th>\n",
       "      <td>1489</td>\n",
       "      <td>12</td>\n",
       "      <td>NaN</td>\n",
       "      <td>NaN</td>\n",
       "      <td>35.0</td>\n",
       "      <td>17322.51</td>\n",
       "      <td>Санкт-Петербург</td>\n",
       "      <td>smart</td>\n",
       "      <td>50</td>\n",
       "      <td>15360</td>\n",
       "      <td>500</td>\n",
       "      <td>550</td>\n",
       "      <td>200</td>\n",
       "      <td>3</td>\n",
       "      <td>3</td>\n",
       "    </tr>\n",
       "    <tr>\n",
       "      <th>3213</th>\n",
       "      <td>1476</td>\n",
       "      <td>4</td>\n",
       "      <td>NaN</td>\n",
       "      <td>NaN</td>\n",
       "      <td>NaN</td>\n",
       "      <td>530.78</td>\n",
       "      <td>Москва</td>\n",
       "      <td>ultra</td>\n",
       "      <td>1000</td>\n",
       "      <td>30720</td>\n",
       "      <td>3000</td>\n",
       "      <td>1950</td>\n",
       "      <td>150</td>\n",
       "      <td>1</td>\n",
       "      <td>1</td>\n",
       "    </tr>\n",
       "  </tbody>\n",
       "</table>\n",
       "<p>3214 rows × 15 columns</p>\n",
       "</div>"
      ],
      "text/plain": [
       "      user_id  month  month_calls_duration  month_calls_number  \\\n",
       "0        1000      5                 159.0                22.0   \n",
       "1        1000      6                 172.0                43.0   \n",
       "2        1000      7                 340.0                47.0   \n",
       "3        1000      8                 408.0                52.0   \n",
       "4        1000      9                 466.0                58.0   \n",
       "...       ...    ...                   ...                 ...   \n",
       "3209     1489      9                   NaN                 NaN   \n",
       "3210     1489     10                   NaN                 NaN   \n",
       "3211     1489     11                   NaN                 NaN   \n",
       "3212     1489     12                   NaN                 NaN   \n",
       "3213     1476      4                   NaN                 NaN   \n",
       "\n",
       "      month_messages_number  month_mb_used             city tariff  \\\n",
       "0                      22.0        2253.49        Краснодар  ultra   \n",
       "1                      60.0       23233.77        Краснодар  ultra   \n",
       "2                      75.0       14003.64        Краснодар  ultra   \n",
       "3                      81.0       14055.93        Краснодар  ultra   \n",
       "4                      57.0       14568.91        Краснодар  ultra   \n",
       "...                     ...            ...              ...    ...   \n",
       "3209                   32.0       17206.30  Санкт-Петербург  smart   \n",
       "3210                   21.0       19559.44  Санкт-Петербург  smart   \n",
       "3211                   20.0       17491.56  Санкт-Петербург  smart   \n",
       "3212                   35.0       17322.51  Санкт-Петербург  smart   \n",
       "3213                    NaN         530.78           Москва  ultra   \n",
       "\n",
       "      messages_included  mb_per_month_included  minutes_included  \\\n",
       "0                  1000                  30720              3000   \n",
       "1                  1000                  30720              3000   \n",
       "2                  1000                  30720              3000   \n",
       "3                  1000                  30720              3000   \n",
       "4                  1000                  30720              3000   \n",
       "...                 ...                    ...               ...   \n",
       "3209                 50                  15360               500   \n",
       "3210                 50                  15360               500   \n",
       "3211                 50                  15360               500   \n",
       "3212                 50                  15360               500   \n",
       "3213               1000                  30720              3000   \n",
       "\n",
       "      rub_monthly_fee  rub_per_gb  rub_per_message  rub_per_minute  \n",
       "0                1950         150                1               1  \n",
       "1                1950         150                1               1  \n",
       "2                1950         150                1               1  \n",
       "3                1950         150                1               1  \n",
       "4                1950         150                1               1  \n",
       "...               ...         ...              ...             ...  \n",
       "3209              550         200                3               3  \n",
       "3210              550         200                3               3  \n",
       "3211              550         200                3               3  \n",
       "3212              550         200                3               3  \n",
       "3213             1950         150                1               1  \n",
       "\n",
       "[3214 rows x 15 columns]"
      ]
     },
     "execution_count": 19,
     "metadata": {},
     "output_type": "execute_result"
    }
   ],
   "source": [
    "month_data = month_data.merge(data_users[['user_id','city','tariff']], on='user_id', how='left' )\n",
    "\n",
    "data_tariffs = data_tariffs.rename(columns={'tariff_name':'tariff'})\n",
    "month_data = month_data.merge(data_tariffs, on='tariff', how='left')\n",
    "month_data"
   ]
  },
  {
   "cell_type": "markdown",
   "id": "b10568f5",
   "metadata": {},
   "source": [
    "Заполним нулями все NaN, так как они говорять о не использовании."
   ]
  },
  {
   "cell_type": "code",
   "execution_count": 20,
   "id": "b29ba8e0",
   "metadata": {},
   "outputs": [
    {
     "data": {
      "text/plain": [
       "user_id                  0\n",
       "month                    0\n",
       "month_calls_duration     0\n",
       "month_calls_number       0\n",
       "month_messages_number    0\n",
       "month_mb_used            0\n",
       "city                     0\n",
       "tariff                   0\n",
       "messages_included        0\n",
       "mb_per_month_included    0\n",
       "minutes_included         0\n",
       "rub_monthly_fee          0\n",
       "rub_per_gb               0\n",
       "rub_per_message          0\n",
       "rub_per_minute           0\n",
       "dtype: int64"
      ]
     },
     "execution_count": 20,
     "metadata": {},
     "output_type": "execute_result"
    }
   ],
   "source": [
    "month_data = month_data.fillna(0)\n",
    "month_data.isna().sum()"
   ]
  },
  {
   "cell_type": "markdown",
   "id": "fb9d0e4a",
   "metadata": {},
   "source": [
    "Расчитаем помесячную выручку по формуле - вычесть бесплатный лимит из суммарного количества звонков, сообщений и интернет-трафика; остаток умножить на значение из тарифного плана; прибавить абонентскую плату, соответствующую тарифному плану"
   ]
  },
  {
   "cell_type": "code",
   "execution_count": 21,
   "id": "c358cab4",
   "metadata": {},
   "outputs": [],
   "source": [
    "def month_fee(row):\n",
    "    messages = (row['month_messages_number'] - row['messages_included']) * row['rub_per_message']\n",
    "    calls = (row['month_calls_duration'] - row['minutes_included']) * row['rub_per_minute']\n",
    "    internet = (row['month_mb_used'] - row['mb_per_month_included'])/1024\n",
    "    internet = np.ceil(internet) * row['rub_per_gb'] # Округлим вверх до гигибайт, как сказано в задании\n",
    "    \n",
    "    total_fee = 0\n",
    "    for options in [messages,calls,internet]:\n",
    "        if options > 0:\n",
    "            total_fee += options\n",
    "    \n",
    "    total_fee += row['rub_monthly_fee']\n",
    "    return total_fee\n"
   ]
  },
  {
   "cell_type": "code",
   "execution_count": 22,
   "id": "952a088e",
   "metadata": {},
   "outputs": [
    {
     "data": {
      "text/html": [
       "<div>\n",
       "<style scoped>\n",
       "    .dataframe tbody tr th:only-of-type {\n",
       "        vertical-align: middle;\n",
       "    }\n",
       "\n",
       "    .dataframe tbody tr th {\n",
       "        vertical-align: top;\n",
       "    }\n",
       "\n",
       "    .dataframe thead th {\n",
       "        text-align: right;\n",
       "    }\n",
       "</style>\n",
       "<table border=\"1\" class=\"dataframe\">\n",
       "  <thead>\n",
       "    <tr style=\"text-align: right;\">\n",
       "      <th></th>\n",
       "      <th>user_id</th>\n",
       "      <th>month</th>\n",
       "      <th>month_calls_duration</th>\n",
       "      <th>month_calls_number</th>\n",
       "      <th>month_messages_number</th>\n",
       "      <th>month_mb_used</th>\n",
       "      <th>city</th>\n",
       "      <th>tariff</th>\n",
       "      <th>messages_included</th>\n",
       "      <th>mb_per_month_included</th>\n",
       "      <th>minutes_included</th>\n",
       "      <th>rub_monthly_fee</th>\n",
       "      <th>rub_per_gb</th>\n",
       "      <th>rub_per_message</th>\n",
       "      <th>rub_per_minute</th>\n",
       "      <th>month_fee</th>\n",
       "    </tr>\n",
       "  </thead>\n",
       "  <tbody>\n",
       "    <tr>\n",
       "      <th>0</th>\n",
       "      <td>1000</td>\n",
       "      <td>5</td>\n",
       "      <td>159.0</td>\n",
       "      <td>22.0</td>\n",
       "      <td>22.0</td>\n",
       "      <td>2253.49</td>\n",
       "      <td>Краснодар</td>\n",
       "      <td>ultra</td>\n",
       "      <td>1000</td>\n",
       "      <td>30720</td>\n",
       "      <td>3000</td>\n",
       "      <td>1950</td>\n",
       "      <td>150</td>\n",
       "      <td>1</td>\n",
       "      <td>1</td>\n",
       "      <td>1950.0</td>\n",
       "    </tr>\n",
       "    <tr>\n",
       "      <th>1</th>\n",
       "      <td>1000</td>\n",
       "      <td>6</td>\n",
       "      <td>172.0</td>\n",
       "      <td>43.0</td>\n",
       "      <td>60.0</td>\n",
       "      <td>23233.77</td>\n",
       "      <td>Краснодар</td>\n",
       "      <td>ultra</td>\n",
       "      <td>1000</td>\n",
       "      <td>30720</td>\n",
       "      <td>3000</td>\n",
       "      <td>1950</td>\n",
       "      <td>150</td>\n",
       "      <td>1</td>\n",
       "      <td>1</td>\n",
       "      <td>1950.0</td>\n",
       "    </tr>\n",
       "    <tr>\n",
       "      <th>2</th>\n",
       "      <td>1000</td>\n",
       "      <td>7</td>\n",
       "      <td>340.0</td>\n",
       "      <td>47.0</td>\n",
       "      <td>75.0</td>\n",
       "      <td>14003.64</td>\n",
       "      <td>Краснодар</td>\n",
       "      <td>ultra</td>\n",
       "      <td>1000</td>\n",
       "      <td>30720</td>\n",
       "      <td>3000</td>\n",
       "      <td>1950</td>\n",
       "      <td>150</td>\n",
       "      <td>1</td>\n",
       "      <td>1</td>\n",
       "      <td>1950.0</td>\n",
       "    </tr>\n",
       "    <tr>\n",
       "      <th>3</th>\n",
       "      <td>1000</td>\n",
       "      <td>8</td>\n",
       "      <td>408.0</td>\n",
       "      <td>52.0</td>\n",
       "      <td>81.0</td>\n",
       "      <td>14055.93</td>\n",
       "      <td>Краснодар</td>\n",
       "      <td>ultra</td>\n",
       "      <td>1000</td>\n",
       "      <td>30720</td>\n",
       "      <td>3000</td>\n",
       "      <td>1950</td>\n",
       "      <td>150</td>\n",
       "      <td>1</td>\n",
       "      <td>1</td>\n",
       "      <td>1950.0</td>\n",
       "    </tr>\n",
       "    <tr>\n",
       "      <th>4</th>\n",
       "      <td>1000</td>\n",
       "      <td>9</td>\n",
       "      <td>466.0</td>\n",
       "      <td>58.0</td>\n",
       "      <td>57.0</td>\n",
       "      <td>14568.91</td>\n",
       "      <td>Краснодар</td>\n",
       "      <td>ultra</td>\n",
       "      <td>1000</td>\n",
       "      <td>30720</td>\n",
       "      <td>3000</td>\n",
       "      <td>1950</td>\n",
       "      <td>150</td>\n",
       "      <td>1</td>\n",
       "      <td>1</td>\n",
       "      <td>1950.0</td>\n",
       "    </tr>\n",
       "    <tr>\n",
       "      <th>5</th>\n",
       "      <td>1000</td>\n",
       "      <td>10</td>\n",
       "      <td>350.0</td>\n",
       "      <td>57.0</td>\n",
       "      <td>73.0</td>\n",
       "      <td>14702.49</td>\n",
       "      <td>Краснодар</td>\n",
       "      <td>ultra</td>\n",
       "      <td>1000</td>\n",
       "      <td>30720</td>\n",
       "      <td>3000</td>\n",
       "      <td>1950</td>\n",
       "      <td>150</td>\n",
       "      <td>1</td>\n",
       "      <td>1</td>\n",
       "      <td>1950.0</td>\n",
       "    </tr>\n",
       "    <tr>\n",
       "      <th>6</th>\n",
       "      <td>1000</td>\n",
       "      <td>11</td>\n",
       "      <td>338.0</td>\n",
       "      <td>43.0</td>\n",
       "      <td>58.0</td>\n",
       "      <td>14756.47</td>\n",
       "      <td>Краснодар</td>\n",
       "      <td>ultra</td>\n",
       "      <td>1000</td>\n",
       "      <td>30720</td>\n",
       "      <td>3000</td>\n",
       "      <td>1950</td>\n",
       "      <td>150</td>\n",
       "      <td>1</td>\n",
       "      <td>1</td>\n",
       "      <td>1950.0</td>\n",
       "    </tr>\n",
       "    <tr>\n",
       "      <th>7</th>\n",
       "      <td>1000</td>\n",
       "      <td>12</td>\n",
       "      <td>333.0</td>\n",
       "      <td>46.0</td>\n",
       "      <td>70.0</td>\n",
       "      <td>9817.61</td>\n",
       "      <td>Краснодар</td>\n",
       "      <td>ultra</td>\n",
       "      <td>1000</td>\n",
       "      <td>30720</td>\n",
       "      <td>3000</td>\n",
       "      <td>1950</td>\n",
       "      <td>150</td>\n",
       "      <td>1</td>\n",
       "      <td>1</td>\n",
       "      <td>1950.0</td>\n",
       "    </tr>\n",
       "    <tr>\n",
       "      <th>8</th>\n",
       "      <td>1001</td>\n",
       "      <td>11</td>\n",
       "      <td>430.0</td>\n",
       "      <td>59.0</td>\n",
       "      <td>0.0</td>\n",
       "      <td>18429.34</td>\n",
       "      <td>Москва</td>\n",
       "      <td>smart</td>\n",
       "      <td>50</td>\n",
       "      <td>15360</td>\n",
       "      <td>500</td>\n",
       "      <td>550</td>\n",
       "      <td>200</td>\n",
       "      <td>3</td>\n",
       "      <td>3</td>\n",
       "      <td>1150.0</td>\n",
       "    </tr>\n",
       "    <tr>\n",
       "      <th>9</th>\n",
       "      <td>1001</td>\n",
       "      <td>12</td>\n",
       "      <td>414.0</td>\n",
       "      <td>63.0</td>\n",
       "      <td>0.0</td>\n",
       "      <td>14036.66</td>\n",
       "      <td>Москва</td>\n",
       "      <td>smart</td>\n",
       "      <td>50</td>\n",
       "      <td>15360</td>\n",
       "      <td>500</td>\n",
       "      <td>550</td>\n",
       "      <td>200</td>\n",
       "      <td>3</td>\n",
       "      <td>3</td>\n",
       "      <td>550.0</td>\n",
       "    </tr>\n",
       "  </tbody>\n",
       "</table>\n",
       "</div>"
      ],
      "text/plain": [
       "   user_id  month  month_calls_duration  month_calls_number  \\\n",
       "0     1000      5                 159.0                22.0   \n",
       "1     1000      6                 172.0                43.0   \n",
       "2     1000      7                 340.0                47.0   \n",
       "3     1000      8                 408.0                52.0   \n",
       "4     1000      9                 466.0                58.0   \n",
       "5     1000     10                 350.0                57.0   \n",
       "6     1000     11                 338.0                43.0   \n",
       "7     1000     12                 333.0                46.0   \n",
       "8     1001     11                 430.0                59.0   \n",
       "9     1001     12                 414.0                63.0   \n",
       "\n",
       "   month_messages_number  month_mb_used       city tariff  messages_included  \\\n",
       "0                   22.0        2253.49  Краснодар  ultra               1000   \n",
       "1                   60.0       23233.77  Краснодар  ultra               1000   \n",
       "2                   75.0       14003.64  Краснодар  ultra               1000   \n",
       "3                   81.0       14055.93  Краснодар  ultra               1000   \n",
       "4                   57.0       14568.91  Краснодар  ultra               1000   \n",
       "5                   73.0       14702.49  Краснодар  ultra               1000   \n",
       "6                   58.0       14756.47  Краснодар  ultra               1000   \n",
       "7                   70.0        9817.61  Краснодар  ultra               1000   \n",
       "8                    0.0       18429.34     Москва  smart                 50   \n",
       "9                    0.0       14036.66     Москва  smart                 50   \n",
       "\n",
       "   mb_per_month_included  minutes_included  rub_monthly_fee  rub_per_gb  \\\n",
       "0                  30720              3000             1950         150   \n",
       "1                  30720              3000             1950         150   \n",
       "2                  30720              3000             1950         150   \n",
       "3                  30720              3000             1950         150   \n",
       "4                  30720              3000             1950         150   \n",
       "5                  30720              3000             1950         150   \n",
       "6                  30720              3000             1950         150   \n",
       "7                  30720              3000             1950         150   \n",
       "8                  15360               500              550         200   \n",
       "9                  15360               500              550         200   \n",
       "\n",
       "   rub_per_message  rub_per_minute  month_fee  \n",
       "0                1               1     1950.0  \n",
       "1                1               1     1950.0  \n",
       "2                1               1     1950.0  \n",
       "3                1               1     1950.0  \n",
       "4                1               1     1950.0  \n",
       "5                1               1     1950.0  \n",
       "6                1               1     1950.0  \n",
       "7                1               1     1950.0  \n",
       "8                3               3     1150.0  \n",
       "9                3               3      550.0  "
      ]
     },
     "execution_count": 22,
     "metadata": {},
     "output_type": "execute_result"
    }
   ],
   "source": [
    "month_data['month_fee'] = month_data.apply(month_fee, axis=1)\n",
    "month_data.head(10)"
   ]
  },
  {
   "cell_type": "code",
   "execution_count": null,
   "id": "d3d2d7ad",
   "metadata": {},
   "outputs": [],
   "source": []
  },
  {
   "cell_type": "code",
   "execution_count": null,
   "id": "336c1fe7",
   "metadata": {},
   "outputs": [],
   "source": []
  },
  {
   "cell_type": "markdown",
   "id": "c4f85f35",
   "metadata": {},
   "source": [
    "### Вывод"
   ]
  },
  {
   "cell_type": "markdown",
   "id": "99e2d53b",
   "metadata": {},
   "source": [
    "Посчитано и добавлено в таблицу:\n",
    "посчитать для каждого пользователя следующие параметры:\n",
    "- количество сделанных звонков и израсходованных минут разговора по месяцам;\n",
    "- количество отправленных сообщений по месяцам;\n",
    "- объем израсходованного интернет-трафика по месяцам;\n",
    "- помесячную выручку с каждого пользователя"
   ]
  },
  {
   "cell_type": "markdown",
   "id": "feffec47",
   "metadata": {},
   "source": [
    "## Исследовательский анализ данных\n",
    "<a id=\"id_eda\"></a>"
   ]
  },
  {
   "cell_type": "markdown",
   "id": "7f62be81",
   "metadata": {},
   "source": []
  },
  {
   "cell_type": "code",
   "execution_count": 23,
   "id": "5d84e6e9",
   "metadata": {},
   "outputs": [
    {
     "name": "stdout",
     "output_type": "stream",
     "text": [
      "Тариф ULTRA\n",
      "Количество минут в месяц\n",
      "среднее: 526.623\n",
      "дисперсия: 100873.633\n",
      "стандартное отклонение: 317.606\n",
      "Количество сообщений в месяц\n",
      "среднее: 49.363\n",
      "дисперсия: 2285.266\n",
      "стандартное отклонение: 47.804\n",
      "Количество мегабайт в месяц\n",
      "среднее: 19468.805\n",
      "дисперсия: 101751013.783\n",
      "стандартное отклонение: 10087.171\n"
     ]
    }
   ],
   "source": [
    "print('Тариф ULTRA')\n",
    "\n",
    "print('Количество минут в месяц')\n",
    "print('среднее:', month_data[month_data['tariff'] == 'ultra']['month_calls_duration'].mean().round(3))\n",
    "print('дисперсия:', month_data[month_data['tariff'] == 'ultra']['month_calls_duration'].var().round(3))\n",
    "print('стандартное отклонение:', month_data[month_data['tariff'] == 'ultra']['month_calls_duration'].std().round(3))\n",
    "\n",
    "print('Количество сообщений в месяц')\n",
    "print('среднее:', month_data[month_data['tariff'] == 'ultra']['month_messages_number'].mean().round(3))\n",
    "print('дисперсия:', month_data[month_data['tariff'] == 'ultra']['month_messages_number'].var().round(3))\n",
    "print('стандартное отклонение:', month_data[month_data['tariff'] == 'ultra']['month_messages_number'].std().round(3))\n",
    "\n",
    "print('Количество мегабайт в месяц')\n",
    "print('среднее:', month_data[month_data['tariff'] == 'ultra']['month_mb_used'].mean().round(3))\n",
    "print('дисперсия:', month_data[month_data['tariff'] == 'ultra']['month_mb_used'].var().round(3))\n",
    "print('стандартное отклонение:', month_data[month_data['tariff'] == 'ultra']['month_mb_used'].std().round(3))"
   ]
  },
  {
   "cell_type": "code",
   "execution_count": 24,
   "id": "6c7fa3c5",
   "metadata": {},
   "outputs": [
    {
     "name": "stdout",
     "output_type": "stream",
     "text": [
      "Тариф SMART\n",
      "Количество минут в месяц\n",
      "среднее: 417.935\n",
      "дисперсия: 36219.316\n",
      "стандартное отклонение: 190.314\n",
      "Количество сообщений в месяц\n",
      "среднее: 33.384\n",
      "дисперсия: 796.813\n",
      "стандартное отклонение: 28.228\n",
      "Количество мегабайт в месяц\n",
      "среднее: 16208.387\n",
      "дисперсия: 34462496.463\n",
      "стандартное отклонение: 5870.477\n"
     ]
    }
   ],
   "source": [
    "print('Тариф SMART')\n",
    "\n",
    "print('Количество минут в месяц')\n",
    "print('среднее:', month_data[month_data['tariff'] == 'smart']['month_calls_duration'].mean().round(3))\n",
    "print('дисперсия:', month_data[month_data['tariff'] == 'smart']['month_calls_duration'].var().round(3))\n",
    "print('стандартное отклонение:', month_data[month_data['tariff'] == 'smart']['month_calls_duration'].std().round(3))\n",
    "\n",
    "print('Количество сообщений в месяц')\n",
    "print('среднее:', month_data[month_data['tariff'] == 'smart']['month_messages_number'].mean().round(3))\n",
    "print('дисперсия:', month_data[month_data['tariff'] == 'smart']['month_messages_number'].var().round(3))\n",
    "print('стандартное отклонение:', month_data[month_data['tariff'] == 'smart']['month_messages_number'].std().round(3))\n",
    "\n",
    "print('Количество мегабайт в месяц')\n",
    "print('среднее:', month_data[month_data['tariff'] == 'smart']['month_mb_used'].mean().round(3))\n",
    "print('дисперсия:', month_data[month_data['tariff'] == 'smart']['month_mb_used'].var().round(3))\n",
    "print('стандартное отклонение:', month_data[month_data['tariff'] == 'smart']['month_mb_used'].std().round(3))"
   ]
  },
  {
   "cell_type": "code",
   "execution_count": 25,
   "id": "c8ebd816",
   "metadata": {},
   "outputs": [],
   "source": [
    "bins = 100\n",
    "fig_size=(10,5)\n",
    "opacity = 0.5"
   ]
  },
  {
   "cell_type": "code",
   "execution_count": 26,
   "id": "050f7f13",
   "metadata": {},
   "outputs": [
    {
     "data": {
      "image/png": "[encoded data removed]",
      "text/plain": [
       "<Figure size 720x360 with 1 Axes>"
      ]
     },
     "metadata": {
      "needs_background": "light"
     },
     "output_type": "display_data"
    }
   ],
   "source": [
    "month_data[month_data['tariff'] == 'ultra']['month_calls_duration'].hist(bins=bins, \n",
    "                                                                         alpha=opacity, \n",
    "                                                                         figsize=fig_size,\n",
    "                                                                         edgecolor='blue',\n",
    "                                                                         label='ultra')\n",
    "month_data[month_data['tariff'] == 'smart']['month_calls_duration'].hist(bins=bins, \n",
    "                                                                         alpha=opacity, \n",
    "                                                                         figsize=fig_size,\n",
    "                                                                         edgecolor='red',\n",
    "                                                                         label='smart')\n",
    "plt.axvline(x=3000, color='blue', linestyle='dashed', linewidth=3)\n",
    "plt.axvline(x=500, color='red', linestyle='dashed', linewidth=3)\n",
    "\n",
    "plt.annotate('тариф smart\\nбесплатный лимит\\n500 мин',\n",
    "             xy=(540, 65),\n",
    "             va='bottom',\n",
    "             ha='left',\n",
    "             )\n",
    "\n",
    "plt.annotate('тариф ultra\\nбесплатный лимит\\n3000 мин',\n",
    "             xy=(2400, 55),\n",
    "             va='bottom', \n",
    "             ha='left',\n",
    "             )\n",
    "\n",
    "plt.legend(loc='upper right')\n",
    "plt.title('Distribution of month_calls_duration')\n",
    "plt.show()"
   ]
  },
  {
   "cell_type": "markdown",
   "id": "3be4c38f",
   "metadata": {},
   "source": [
    "Распределение продолжительности звонков для обоих тарифов имеет распределение близкое к нормальному. \n",
    "Для тарифа SMART распределение слегка ассиметрично и скошено влево.\n",
    "\n",
    "Интересен факт большего количесва пропущенных звонков (с нулевой продолжительностью) для пользователей тарифа ULTRA."
   ]
  },
  {
   "cell_type": "code",
   "execution_count": 27,
   "id": "329970eb",
   "metadata": {},
   "outputs": [
    {
     "data": {
      "image/png": "[encoded data removed]",
      "text/plain": [
       "<Figure size 720x360 with 1 Axes>"
      ]
     },
     "metadata": {
      "needs_background": "light"
     },
     "output_type": "display_data"
    }
   ],
   "source": [
    "month_data[month_data['tariff'] == 'ultra']['month_messages_number'].hist(bins=bins, \n",
    "                                                                         alpha=opacity, \n",
    "                                                                         figsize=fig_size,\n",
    "                                                                         edgecolor='blue',\n",
    "                                                                         label='ultra')\n",
    "month_data[month_data['tariff'] == 'smart']['month_messages_number'].hist(bins=bins, \n",
    "                                                                         alpha=opacity, \n",
    "                                                                         figsize=fig_size,\n",
    "                                                                         edgecolor='red',\n",
    "                                                                         label='smart')\n",
    "plt.legend(loc='upper right')\n",
    "plt.title('Distribution of month_messages')\n",
    "plt.show()"
   ]
  },
  {
   "cell_type": "markdown",
   "id": "32da38a5",
   "metadata": {},
   "source": [
    "Текстовые сообщения не пользуются популярностью, представим распределения без нулевого значения"
   ]
  },
  {
   "cell_type": "code",
   "execution_count": 28,
   "id": "0a1c4166",
   "metadata": {},
   "outputs": [
    {
     "data": {
      "image/png": "[encoded data removed]",
      "text/plain": [
       "<Figure size 720x360 with 2 Axes>"
      ]
     },
     "metadata": {
      "needs_background": "light"
     },
     "output_type": "display_data"
    },
    {
     "data": {
      "image/png": "[encoded data removed]",
      "text/plain": [
       "<Figure size 720x360 with 1 Axes>"
      ]
     },
     "metadata": {
      "needs_background": "light"
     },
     "output_type": "display_data"
    }
   ],
   "source": [
    "plt.subplot(1, 2, 1)\n",
    "month_data[month_data['tariff'] == 'ultra']['month_messages_number'].hist(bins=100,figsize=(10,5),range=(1,200))\n",
    "plt.title('Distribution of month_messages for ULTRA')\n",
    "\n",
    "plt.subplot(1, 2, 2)\n",
    "month_data[month_data['tariff'] == 'smart']['month_messages_number'].hist(bins=100,range=(1,200))\n",
    "plt.title('Distribution of month_messages for SMART')\n",
    "\n",
    "plt.show()\n",
    "\n",
    "range=(1,200)\n",
    "month_data[month_data['tariff'] == 'ultra']['month_messages_number'].hist(bins=bins,\n",
    "                                                                          range=range,\n",
    "                                                                          alpha=opacity, \n",
    "                                                                          figsize=fig_size,\n",
    "                                                                          edgecolor='blue',\n",
    "                                                                          label='ultra')\n",
    "month_data[month_data['tariff'] == 'smart']['month_messages_number'].hist(bins=bins, \n",
    "                                                                          range=range,\n",
    "                                                                          alpha=opacity, \n",
    "                                                                          figsize=fig_size,\n",
    "                                                                          edgecolor='red',\n",
    "                                                                          label='smart')\n",
    "plt.axvline(x=1000, color='blue', linestyle='dashed', linewidth=3)\n",
    "plt.axvline(x=50, color='red', linestyle='dashed', linewidth=3)\n",
    "\n",
    "plt.annotate('тариф smart\\nбесплатный лимит\\n50 сообщений',\n",
    "             xy=(70, 65),\n",
    "             va='bottom',\n",
    "             ha='left',\n",
    "             )\n",
    "\n",
    "plt.annotate('тариф ultra\\nбесплатный лимит\\n1000 сообщений',\n",
    "             xy=(800, 55),\n",
    "             va='bottom', \n",
    "             ha='left',\n",
    "             )\n",
    "\n",
    "plt.legend(loc='upper right')\n",
    "plt.title('Distribution of month_messages')\n",
    "plt.show()"
   ]
  },
  {
   "cell_type": "markdown",
   "id": "73a18fcc",
   "metadata": {},
   "source": [
    "Распределение количесва сообщений в месяц для обоих тарифов имеет форму распределения Пуассона."
   ]
  },
  {
   "cell_type": "code",
   "execution_count": 29,
   "id": "5398fa62",
   "metadata": {},
   "outputs": [
    {
     "data": {
      "image/png": "[encoded data removed]",
      "text/plain": [
       "<Figure size 720x360 with 1 Axes>"
      ]
     },
     "metadata": {
      "needs_background": "light"
     },
     "output_type": "display_data"
    }
   ],
   "source": [
    "month_data[month_data['tariff'] == 'ultra']['month_mb_used'].hist(bins=bins, \n",
    "                                                                  alpha=opacity, \n",
    "                                                                  figsize=fig_size,\n",
    "                                                                  edgecolor='blue',\n",
    "                                                                  label='ultra')\n",
    "month_data[month_data['tariff'] == 'smart']['month_mb_used'].hist(bins=bins, \n",
    "                                                                  alpha=opacity, \n",
    "                                                                  figsize=fig_size,\n",
    "                                                                  edgecolor='red',\n",
    "                                                                  label='smart')\n",
    "plt.axvline(x=30*1024, color='blue', linestyle='dashed', linewidth=3)\n",
    "plt.axvline(x=15*1024, color='red', linestyle='dashed', linewidth=3)\n",
    "\n",
    "plt.annotate('тариф smart\\nбесплатный лимит\\n15Гб',\n",
    "             xy=(5000, 65),\n",
    "             va='bottom',\n",
    "             ha='left',\n",
    "             )\n",
    "\n",
    "plt.annotate('тариф ultra\\nбесплатный лимит\\n30Гб',\n",
    "             xy=(32000, 65),\n",
    "             va='bottom', \n",
    "             ha='left',\n",
    "             )\n",
    "\n",
    "plt.legend(loc='upper right')\n",
    "plt.title('Distribution of month_mb_used')\n",
    "plt.show()\n"
   ]
  },
  {
   "cell_type": "markdown",
   "id": "89367fbb",
   "metadata": {},
   "source": [
    "Распределение продолжительности звонков для обоих тарифов имеет распределение близкое к нормальному. \n",
    "Для тарифа SMART распределение слегка ассиметрично и скошено влево."
   ]
  },
  {
   "cell_type": "markdown",
   "id": "746839b7",
   "metadata": {},
   "source": [
    "### Вывод"
   ]
  },
  {
   "cell_type": "markdown",
   "id": "d461267a",
   "metadata": {},
   "source": [
    "Были посчитаны параметры выборки для тарифа SMART и ULTRA: среднее, дисперсия и стандартное отклонение для интернет трафика, сообщений и минут разговора.\n",
    "\n",
    "Средние по каждой из опций выше для пользователей тарифа ULTRA, при этом дисперсия и стандартное отклонение для этого тарифа также выше.\n",
    "Это говорит о более сильном разбросе значений для пользователей с тарифом ULTRA\n",
    "\n",
    "Все распределения имеют форму близкую к нормальному распределнию.\n",
    "\n",
    "Также на графиках показаны бесплатные лимиты для обоих тарифов. Все клиенты тарифа \"Ультра\" не полностью используют свои бесплатные минуты и сообщения. В случае инетернет-трафика, 30 Гб достоточно большинству клиентов, однако есть и такие, которые превышают бесплатный лимит. Для клиентов тариф \"Смарт\" беспланых лимитов недостаточно около половины клиентов. Дополнительный интернет-трафик и минуты докупают приблизительно 50% клиентов. Дополнителные сообщения докупают около 25% клиентов\n"
   ]
  },
  {
   "cell_type": "markdown",
   "id": "e40db910",
   "metadata": {},
   "source": [
    "## Проверка гипотез\n",
    "<a id=\"id_hypotises_testing\"></a>"
   ]
  },
  {
   "cell_type": "markdown",
   "id": "e2f63469",
   "metadata": {},
   "source": [
    "В исследовании требуется проверить следующие гипотезы:\n",
    "- средняя выручка пользователей тарифов «Ультра» и «Смарт» различаются;\n",
    "- средняя выручка пользователей из Москвы отличается от выручки пользователей из других регионов.\n",
    "\n",
    "Нулевая гипотеза формулируется с использованием знака равенства, поэтому нулевая и альтернативная гипотезы будут звучать следующим образом:\n",
    "\n",
    "- H_0: средняя выручка пользователей тарифов «Ультра» и «Смарт» равны друг другу\n",
    "- H_a: средняя выручка пользователей тарифов «Ультра» и «Смарт» не равны друг другу\n",
    "\n",
    "И \n",
    " \n",
    "- H_0: средняя выручка пользователей из Москвы равна выручке пользователей из других регионов.\n",
    "- H_a: средняя выручка пользователей из Москвы отличается от выручки пользователей из других регионов.\n"
   ]
  },
  {
   "cell_type": "markdown",
   "id": "46e43e37",
   "metadata": {},
   "source": [
    "Проверим гипотезу, что средняя выручка пользователей тарифов «Ультра» и «Смарт» равны друг другу"
   ]
  },
  {
   "cell_type": "code",
   "execution_count": 30,
   "id": "ae92b8be",
   "metadata": {},
   "outputs": [
    {
     "name": "stdout",
     "output_type": "stream",
     "text": [
      "Средняя выручка «Ультра»: 2070.0\n",
      "Средняя выручка «Смарт»: 1290.0\n",
      "p-значение:  1.4229814360764067e-160\n",
      "Отвергаем нулевую гипотезу\n"
     ]
    }
   ],
   "source": [
    "alpha = .05 # критический уровень статистической значимости\n",
    "# если p-value окажется меньше него - отвегнем гипотезу\n",
    "\n",
    "results = st.ttest_ind(\n",
    "    month_data[month_data['tariff'] == 'ultra']['month_fee'], \n",
    "    month_data[month_data['tariff'] == 'smart']['month_fee'])\n",
    "\n",
    "print('Средняя выручка «Ультра»:', month_data[month_data['tariff'] == 'ultra']['month_fee'].mean().round())\n",
    "print('Средняя выручка «Смарт»:', month_data[month_data['tariff'] == 'smart']['month_fee'].mean().round())\n",
    "print('p-значение: ', results.pvalue)\n",
    "\n",
    "if results.pvalue < alpha:\n",
    "    print(\"Отвергаем нулевую гипотезу\")\n",
    "else:\n",
    "    print(\"Не получилось отвергнуть нулевую гипотезу\") "
   ]
  },
  {
   "cell_type": "markdown",
   "id": "f498ae31",
   "metadata": {},
   "source": [
    "Значение p-value гораздо меньше заданного порога, поэтому мы отвергаем нулевую гипотезу.\n",
    "Вывод: средняя выручка пользователей тарифов «Ультра» и «Смарт» **не** равны друг другу. Пользователи тарифа «Ультра» в среднем тратят больше и, следовательно, более выгодны компании.\n",
    "\n",
    "Проверим гипотезу, что средняя выручка пользователей из Москвы равна выручке пользователей из других регионов.\n",
    "\n",
    "Для этого сначала разделим города на две категории: Москва и Другой"
   ]
  },
  {
   "cell_type": "code",
   "execution_count": 31,
   "id": "cdc29427",
   "metadata": {},
   "outputs": [],
   "source": [
    "month_data['city'] = month_data['city'].where(month_data['city'] == 'Москва', 'Другой')"
   ]
  },
  {
   "cell_type": "code",
   "execution_count": 32,
   "id": "337cf802",
   "metadata": {},
   "outputs": [
    {
     "name": "stdout",
     "output_type": "stream",
     "text": [
      "Средняя выручка тарифа «Ультра» в Москве и регионах\n",
      "Средняя выручка «Ультра» Москва: 2074.0\n",
      "Средняя выручка «Ультра» в регионах: 2069.0\n",
      "p-значение:  0.8614477943640767\n",
      "Не получилось отвергнуть нулевую гипотезу\n",
      "\n",
      "Средняя выручка тарифа «Смарт» в Москве и регионах\n",
      "Средняя выручка «Смарт» Москва: 1239.0\n",
      "Средняя выручка «Смарт» в регионах: 1301.0\n",
      "p-значение:  0.18150864159228705\n",
      "Не получилось отвергнуть нулевую гипотезу\n"
     ]
    }
   ],
   "source": [
    "alpha = .05 # критический уровень статистической значимости\n",
    "# если p-value окажется меньше него - отвегнем гипотезу\n",
    "\n",
    "print('Средняя выручка тарифа «Ультра» в Москве и регионах')\n",
    "results = st.ttest_ind(\n",
    "    month_data[(month_data['tariff'] == 'ultra') & (month_data['city'] == 'Москва')]['month_fee'], \n",
    "    month_data[(month_data['tariff'] == 'ultra') & (month_data['city'] == 'Другой')]['month_fee'])\n",
    "\n",
    "print('Средняя выручка «Ультра» Москва:', \n",
    "      month_data[(month_data['tariff'] == 'ultra') & (month_data['city'] == 'Москва')]['month_fee'].mean().round())\n",
    "print('Средняя выручка «Ультра» в регионах:', \n",
    "      month_data[(month_data['tariff'] == 'ultra') & (month_data['city'] == 'Другой')]['month_fee'].mean().round())\n",
    "print('p-значение: ', results.pvalue)\n",
    "\n",
    "if results.pvalue < alpha:\n",
    "    print(\"Отвергаем нулевую гипотезу\")\n",
    "else:\n",
    "    print(\"Не получилось отвергнуть нулевую гипотезу\") \n",
    "    \n",
    "print()    \n",
    "print('Средняя выручка тарифа «Смарт» в Москве и регионах')\n",
    "results = st.ttest_ind(\n",
    "    month_data[(month_data['tariff'] == 'smart') & (month_data['city'] == 'Москва')]['month_fee'], \n",
    "    month_data[(month_data['tariff'] == 'smart') & (month_data['city'] == 'Другой')]['month_fee'])\n",
    "\n",
    "print('Средняя выручка «Смарт» Москва:', \n",
    "      month_data[(month_data['tariff'] == 'smart') & (month_data['city'] == 'Москва')]['month_fee'].mean().round())\n",
    "print('Средняя выручка «Смарт» в регионах:', \n",
    "      month_data[(month_data['tariff'] == 'smart') & (month_data['city'] == 'Другой')]['month_fee'].mean().round())\n",
    "print('p-значение: ', results.pvalue)\n",
    "\n",
    "if results.pvalue < alpha:\n",
    "    print(\"Отвергаем нулевую гипотезу\")\n",
    "else:\n",
    "    print(\"Не получилось отвергнуть нулевую гипотезу\") "
   ]
  },
  {
   "cell_type": "markdown",
   "id": "92e85377",
   "metadata": {},
   "source": [
    "Значение p-value гораздо ,больше заданного порога, поэтому отвергнуть нулевую гипотезу не удалось.\n",
    "Это верно для обоих тарифов"
   ]
  },
  {
   "cell_type": "markdown",
   "id": "32eb8d28",
   "metadata": {},
   "source": [
    "### Вывод"
   ]
  },
  {
   "cell_type": "markdown",
   "id": "8638ec5f",
   "metadata": {},
   "source": [
    "Анализ показал, что средняя выручка пользователей тарифов «Ультра» и «Смарт» **не** равны друг другу. \n",
    "Пользователи тарифа «Ультра» в среднем тратят больше и, следовательно, более выгодны компании.\n",
    "\n",
    "А вот различия между Москвой и регионами нет. И там, и там средняя выручка одинакова.\n",
    "Это верно для обоих тарифов"
   ]
  },
  {
   "cell_type": "markdown",
   "id": "46ae2830",
   "metadata": {},
   "source": [
    "## Общий вывод\n",
    "<a id=\"id_conclusion\"></a>"
   ]
  },
  {
   "cell_type": "markdown",
   "id": "ea804972",
   "metadata": {},
   "source": [
    "В этом проекте были проанализированны данные о пользователях сети \"Мегалай\".\n",
    "\n",
    "Анализ показал, что средняя выручка пользователей тарифов «Ультра» и «Смарт» **не** равны друг другу. \n",
    "Пользователи тарифа «Ультра» в среднем тратят больше и, следовательно, более выгодны компании.\n",
    "\n",
    "А вот различия между Москвой и регионами нет. И там, и там средняя выручка одинакова.\n",
    "Это верно для обоих тарифов\n",
    "\n",
    "Отсюда можно сделать вывод, что для компании тариф \"Ультра\" более выгоден."
   ]
  }
 ],
 "metadata": {
  "ExecuteTimeLog": [
   {
    "duration": 1032,
    "start_time": "2022-04-07T17:44:37.260Z"
   },
   {
    "duration": 380,
    "start_time": "2022-04-07T17:44:38.294Z"
   },
   {
    "duration": 29,
    "start_time": "2022-04-07T17:44:38.675Z"
   },
   {
    "duration": 22,
    "start_time": "2022-04-07T17:44:38.706Z"
   },
   {
    "duration": 22,
    "start_time": "2022-04-07T17:44:38.730Z"
   },
   {
    "duration": 9,
    "start_time": "2022-04-07T17:44:38.753Z"
   },
   {
    "duration": 15,
    "start_time": "2022-04-07T17:44:38.763Z"
   },
   {
    "duration": 20,
    "start_time": "2022-04-07T17:44:38.780Z"
   },
   {
    "duration": 99,
    "start_time": "2022-04-07T17:44:38.801Z"
   },
   {
    "duration": 12,
    "start_time": "2022-04-07T17:44:38.903Z"
   },
   {
    "duration": 93,
    "start_time": "2022-04-07T17:44:38.917Z"
   },
   {
    "duration": 41,
    "start_time": "2022-04-07T17:44:39.011Z"
   },
   {
    "duration": 36,
    "start_time": "2022-04-07T17:44:39.054Z"
   },
   {
    "duration": 6,
    "start_time": "2022-04-07T17:44:39.091Z"
   },
   {
    "duration": 62,
    "start_time": "2022-04-07T17:44:39.098Z"
   },
   {
    "duration": 25,
    "start_time": "2022-04-07T17:44:39.162Z"
   },
   {
    "duration": 25,
    "start_time": "2022-04-07T17:44:39.188Z"
   },
   {
    "duration": 38,
    "start_time": "2022-04-07T17:44:39.214Z"
   },
   {
    "duration": 25,
    "start_time": "2022-04-07T17:44:39.253Z"
   },
   {
    "duration": 6,
    "start_time": "2022-04-07T17:44:39.280Z"
   },
   {
    "duration": 6,
    "start_time": "2022-04-07T17:44:39.287Z"
   },
   {
    "duration": 130,
    "start_time": "2022-04-07T17:44:39.294Z"
   },
   {
    "duration": 22,
    "start_time": "2022-04-07T17:44:39.430Z"
   },
   {
    "duration": 18,
    "start_time": "2022-04-07T17:44:39.454Z"
   },
   {
    "duration": 431,
    "start_time": "2022-04-07T17:44:39.473Z"
   },
   {
    "duration": 490,
    "start_time": "2022-04-07T17:44:39.906Z"
   },
   {
    "duration": 438,
    "start_time": "2022-04-07T17:44:40.397Z"
   },
   {
    "duration": 396,
    "start_time": "2022-04-07T17:44:40.839Z"
   },
   {
    "duration": 14,
    "start_time": "2022-04-07T17:44:41.237Z"
   },
   {
    "duration": 6,
    "start_time": "2022-04-07T17:44:41.252Z"
   },
   {
    "duration": 19,
    "start_time": "2022-04-07T17:44:41.260Z"
   },
   {
    "duration": 1073,
    "start_time": "2022-04-07T17:44:58.329Z"
   },
   {
    "duration": 379,
    "start_time": "2022-04-07T17:44:59.404Z"
   },
   {
    "duration": 28,
    "start_time": "2022-04-07T17:44:59.784Z"
   },
   {
    "duration": 27,
    "start_time": "2022-04-07T17:44:59.814Z"
   },
   {
    "duration": 15,
    "start_time": "2022-04-07T17:44:59.844Z"
   },
   {
    "duration": 8,
    "start_time": "2022-04-07T17:44:59.861Z"
   },
   {
    "duration": 17,
    "start_time": "2022-04-07T17:44:59.870Z"
   },
   {
    "duration": 5,
    "start_time": "2022-04-07T17:44:59.888Z"
   },
   {
    "duration": 96,
    "start_time": "2022-04-07T17:44:59.895Z"
   },
   {
    "duration": 13,
    "start_time": "2022-04-07T17:44:59.994Z"
   },
   {
    "duration": 97,
    "start_time": "2022-04-07T17:45:00.009Z"
   },
   {
    "duration": 43,
    "start_time": "2022-04-07T17:45:00.108Z"
   },
   {
    "duration": 37,
    "start_time": "2022-04-07T17:45:00.152Z"
   },
   {
    "duration": 6,
    "start_time": "2022-04-07T17:45:00.190Z"
   },
   {
    "duration": 65,
    "start_time": "2022-04-07T17:45:00.197Z"
   },
   {
    "duration": 25,
    "start_time": "2022-04-07T17:45:00.263Z"
   },
   {
    "duration": 25,
    "start_time": "2022-04-07T17:45:00.290Z"
   },
   {
    "duration": 31,
    "start_time": "2022-04-07T17:45:00.317Z"
   },
   {
    "duration": 27,
    "start_time": "2022-04-07T17:45:00.350Z"
   },
   {
    "duration": 6,
    "start_time": "2022-04-07T17:45:00.378Z"
   },
   {
    "duration": 12,
    "start_time": "2022-04-07T17:45:00.385Z"
   },
   {
    "duration": 133,
    "start_time": "2022-04-07T17:45:00.398Z"
   },
   {
    "duration": 20,
    "start_time": "2022-04-07T17:45:00.533Z"
   },
   {
    "duration": 30,
    "start_time": "2022-04-07T17:45:00.554Z"
   },
   {
    "duration": 438,
    "start_time": "2022-04-07T17:45:00.586Z"
   },
   {
    "duration": 405,
    "start_time": "2022-04-07T17:45:01.028Z"
   },
   {
    "duration": 462,
    "start_time": "2022-04-07T17:45:01.434Z"
   },
   {
    "duration": 385,
    "start_time": "2022-04-07T17:45:01.899Z"
   },
   {
    "duration": 10,
    "start_time": "2022-04-07T17:45:02.286Z"
   },
   {
    "duration": 7,
    "start_time": "2022-04-07T17:45:02.297Z"
   },
   {
    "duration": 40,
    "start_time": "2022-04-07T17:45:02.305Z"
   },
   {
    "duration": 325,
    "start_time": "2022-04-07T18:09:24.280Z"
   },
   {
    "duration": 538,
    "start_time": "2022-04-07T18:10:00.222Z"
   },
   {
    "duration": 442,
    "start_time": "2022-04-07T18:11:49.646Z"
   },
   {
    "duration": 396,
    "start_time": "2022-04-07T18:11:54.852Z"
   },
   {
    "duration": 1055,
    "start_time": "2022-04-07T18:14:50.849Z"
   },
   {
    "duration": 406,
    "start_time": "2022-04-07T18:14:51.905Z"
   },
   {
    "duration": 34,
    "start_time": "2022-04-07T18:14:52.313Z"
   },
   {
    "duration": 25,
    "start_time": "2022-04-07T18:14:52.351Z"
   },
   {
    "duration": 16,
    "start_time": "2022-04-07T18:14:52.377Z"
   },
   {
    "duration": 9,
    "start_time": "2022-04-07T18:14:52.394Z"
   },
   {
    "duration": 33,
    "start_time": "2022-04-07T18:14:52.405Z"
   },
   {
    "duration": 7,
    "start_time": "2022-04-07T18:14:52.440Z"
   },
   {
    "duration": 92,
    "start_time": "2022-04-07T18:14:52.449Z"
   },
   {
    "duration": 13,
    "start_time": "2022-04-07T18:14:52.545Z"
   },
   {
    "duration": 101,
    "start_time": "2022-04-07T18:14:52.559Z"
   },
   {
    "duration": 35,
    "start_time": "2022-04-07T18:14:52.662Z"
   },
   {
    "duration": 48,
    "start_time": "2022-04-07T18:14:52.699Z"
   },
   {
    "duration": 6,
    "start_time": "2022-04-07T18:14:52.749Z"
   },
   {
    "duration": 42,
    "start_time": "2022-04-07T18:14:52.757Z"
   },
   {
    "duration": 41,
    "start_time": "2022-04-07T18:14:52.800Z"
   },
   {
    "duration": 26,
    "start_time": "2022-04-07T18:14:52.843Z"
   },
   {
    "duration": 17,
    "start_time": "2022-04-07T18:14:52.870Z"
   },
   {
    "duration": 50,
    "start_time": "2022-04-07T18:14:52.888Z"
   },
   {
    "duration": 7,
    "start_time": "2022-04-07T18:14:52.940Z"
   },
   {
    "duration": 3,
    "start_time": "2022-04-07T18:14:52.949Z"
   },
   {
    "duration": 120,
    "start_time": "2022-04-07T18:14:52.953Z"
   },
   {
    "duration": 18,
    "start_time": "2022-04-07T18:14:53.074Z"
   },
   {
    "duration": 43,
    "start_time": "2022-04-07T18:14:53.093Z"
   },
   {
    "duration": 403,
    "start_time": "2022-04-07T18:14:53.138Z"
   },
   {
    "duration": 406,
    "start_time": "2022-04-07T18:14:53.543Z"
   },
   {
    "duration": 447,
    "start_time": "2022-04-07T18:14:53.951Z"
   },
   {
    "duration": 381,
    "start_time": "2022-04-07T18:14:54.402Z"
   },
   {
    "duration": 11,
    "start_time": "2022-04-07T18:14:54.785Z"
   },
   {
    "duration": 7,
    "start_time": "2022-04-07T18:14:54.798Z"
   },
   {
    "duration": 45,
    "start_time": "2022-04-07T18:14:54.806Z"
   }
  ],
  "kernelspec": {
   "display_name": "Python 3 (ipykernel)",
   "language": "python",
   "name": "python3"
  },
  "language_info": {
   "codemirror_mode": {
    "name": "ipython",
    "version": 3
   },
   "file_extension": ".py",
   "mimetype": "text/x-python",
   "name": "python",
   "nbconvert_exporter": "python",
   "pygments_lexer": "ipython3",
   "version": "3.10.7"
  },
  "toc": {
   "base_numbering": 1,
   "nav_menu": {},
   "number_sections": true,
   "sideBar": true,
   "skip_h1_title": true,
   "title_cell": "Table of Contents",
   "title_sidebar": "Contents",
   "toc_cell": false,
   "toc_position": {},
   "toc_section_display": true,
   "toc_window_display": false
  }
 },
 "nbformat": 4,
 "nbformat_minor": 5
}
