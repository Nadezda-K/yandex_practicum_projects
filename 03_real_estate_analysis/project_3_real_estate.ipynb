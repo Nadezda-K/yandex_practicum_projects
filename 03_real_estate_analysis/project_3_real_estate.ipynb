{
 "cells": [
  {
   "cell_type": "markdown",
   "metadata": {},
   "source": [
    "# Продажа квартир в Санкт-Петербурге — анализ рынка недвижимости"
   ]
  },
  {
   "cell_type": "markdown",
   "metadata": {
    "toc": true
   },
   "source": [
    "<h1>Содержание<span class=\"tocSkip\"></span></h1>\n",
    "<div class=\"toc\"><ul class=\"toc-item\"><li><span><a href=\"#Изучение-данных-из-файла\" data-toc-modified-id=\"Изучение-данных-из-файла-1\"><span class=\"toc-item-num\">1&nbsp;&nbsp;</span>Изучение данных из файла</a></span><ul class=\"toc-item\"><li><span><a href=\"#Вывод\" data-toc-modified-id=\"Вывод-1.1\"><span class=\"toc-item-num\">1.1&nbsp;&nbsp;</span>Вывод</a></span></li></ul></li><li><span><a href=\"#Предобработка-данных\" data-toc-modified-id=\"Предобработка-данных-2\"><span class=\"toc-item-num\">2&nbsp;&nbsp;</span>Предобработка данных</a></span></li><li><span><a href=\"#Расчёты-и-добавление-результатов-в-таблицу\" data-toc-modified-id=\"Расчёты-и-добавление-результатов-в-таблицу-3\"><span class=\"toc-item-num\">3&nbsp;&nbsp;</span>Расчёты и добавление результатов в таблицу</a></span></li><li><span><a href=\"#Исследовательский-анализ-данных\" data-toc-modified-id=\"Исследовательский-анализ-данных-4\"><span class=\"toc-item-num\">4&nbsp;&nbsp;</span>Исследовательский анализ данных</a></span></li><li><span><a href=\"#Общий-вывод\" data-toc-modified-id=\"Общий-вывод-5\"><span class=\"toc-item-num\">5&nbsp;&nbsp;</span>Общий вывод</a></span></li><li><span><a href=\"#Чек-лист-готовности-проекта\" data-toc-modified-id=\"Чек-лист-готовности-проекта-6\"><span class=\"toc-item-num\">6&nbsp;&nbsp;</span>Чек-лист готовности проекта</a></span></li></ul></div>"
   ]
  },
  {
   "cell_type": "markdown",
   "metadata": {},
   "source": [
    "**Описание проекта**\n",
    "\n",
    "В вашем распоряжении данные сервиса Яндекc Недвижимость — архив объявлений о продаже квартир в Санкт-Петербурге и соседних населённых пунктах за несколько лет. Нужно научиться определять рыночную стоимость объектов недвижимости. Ваша задача — установить параметры. Это позволит построить автоматизированную систему: она отследит аномалии и мошенническую деятельность. \n",
    "\n",
    "По каждой квартире на продажу доступны два вида данных. Первые вписаны пользователем, вторые получены автоматически на основе картографических данных. Например, расстояние до центра, аэропорта, ближайшего парка и водоёма. "
   ]
  },
  {
   "cell_type": "markdown",
   "metadata": {},
   "source": [
    "**Цель**\n",
    "\n",
    "Исследование факторов влияющих на стоимость квартиры, таких как площадь, число комнат, удалённости от центра, этаж и другие.\n",
    "\n",
    "**Ход исследования**\n",
    "\n",
    "Данные с информацией о квартире хранятся в файле `real_estate_data.csv`. \n",
    "Известно, что в данных есть пропущенные значения, могут встречаться артефакты (аномалии) и дубликаты.\n",
    "Поэтому перед выявлением интересующих зависимостей понадобится обзор и предобработка данных. \n",
    "Также для исследования понадобятся параметры расчитанные на основе имеющихся данных.\n",
    "\n",
    "Таким образом, исследование будет включать следующие этапы:\n",
    " 1. Обзор данных.\n",
    " 2. Предобработка данных\n",
    " 3. Расчёты и добавление результатов в таблицу\n",
    " 4. Исследовательский анализ данных\n"
   ]
  },
  {
   "cell_type": "markdown",
   "metadata": {},
   "source": [
    "## Изучение данных из файла"
   ]
  },
  {
   "cell_type": "code",
   "execution_count": 183,
   "metadata": {},
   "outputs": [],
   "source": [
    "# импорт необходимых библиотек\n",
    "import pandas as pd\n",
    "import numpy as np\n",
    "import seaborn as sns\n",
    "import matplotlib.pyplot as plt"
   ]
  },
  {
   "cell_type": "code",
   "execution_count": 184,
   "metadata": {},
   "outputs": [
    {
     "name": "stdout",
     "output_type": "stream",
     "text": [
      "<class 'pandas.core.frame.DataFrame'>\n",
      "RangeIndex: 23699 entries, 0 to 23698\n",
      "Data columns (total 22 columns):\n",
      " #   Column                Non-Null Count  Dtype  \n",
      "---  ------                --------------  -----  \n",
      " 0   total_images          23699 non-null  int64  \n",
      " 1   last_price            23699 non-null  float64\n",
      " 2   total_area            23699 non-null  float64\n",
      " 3   first_day_exposition  23699 non-null  object \n",
      " 4   rooms                 23699 non-null  int64  \n",
      " 5   ceiling_height        14504 non-null  float64\n",
      " 6   floors_total          23613 non-null  float64\n",
      " 7   living_area           21796 non-null  float64\n",
      " 8   floor                 23699 non-null  int64  \n",
      " 9   is_apartment          2775 non-null   object \n",
      " 10  studio                23699 non-null  bool   \n",
      " 11  open_plan             23699 non-null  bool   \n",
      " 12  kitchen_area          21421 non-null  float64\n",
      " 13  balcony               12180 non-null  float64\n",
      " 14  locality_name         23650 non-null  object \n",
      " 15  airports_nearest      18157 non-null  float64\n",
      " 16  cityCenters_nearest   18180 non-null  float64\n",
      " 17  parks_around3000      18181 non-null  float64\n",
      " 18  parks_nearest         8079 non-null   float64\n",
      " 19  ponds_around3000      18181 non-null  float64\n",
      " 20  ponds_nearest         9110 non-null   float64\n",
      " 21  days_exposition       20518 non-null  float64\n",
      "dtypes: bool(2), float64(14), int64(3), object(3)\n",
      "memory usage: 3.7+ MB\n"
     ]
    }
   ],
   "source": [
    "try:\n",
    "    real_estate_data = pd.read_csv('data_files/real_estate_data.csv',sep='\\t')  # Локальный путь\n",
    "except:\n",
    "    real_estate_data = pd.read_csv('/datasets/real_estate_data.csv',sep='\\t')  # Серверный путь\n",
    "\n",
    "\n",
    "real_estate_data.info()\n",
    "#real_estate_data.describe()"
   ]
  },
  {
   "cell_type": "markdown",
   "metadata": {},
   "source": [
    "Согласно документации к данным в таблице есть следующие столбцы (приведены в алфовитном порядке):\n",
    "\n",
    "    airports_nearest — расстояние до ближайшего аэропорта в метрах (м)\n",
    "    balcony — число балконов\n",
    "    ceiling_height — высота потолков (м)\n",
    "    cityCenters_nearest — расстояние до центра города (м)\n",
    "    days_exposition — сколько дней было размещено объявление (от публикации до снятия)\n",
    "    first_day_exposition — дата публикации\n",
    "    floor — этаж\n",
    "    floors_total — всего этажей в доме\n",
    "    is_apartment — апартаменты (булев тип)\n",
    "    kitchen_area — площадь кухни в квадратных метрах (м²)\n",
    "    last_price — цена на момент снятия с публикации\n",
    "    living_area — жилая площадь в квадратных метрах (м²)\n",
    "    locality_name — название населённого пункта\n",
    "    open_plan — свободная планировка (булев тип)\n",
    "    parks_around3000 — число парков в радиусе 3 км\n",
    "    parks_nearest — расстояние до ближайшего парка (м)\n",
    "    ponds_around3000 — число водоёмов в радиусе 3 км\n",
    "    ponds_nearest — расстояние до ближайшего водоёма (м)\n",
    "    rooms — число комнат\n",
    "    studio — квартира-студия (булев тип)\n",
    "    total_area — площадь квартиры в квадратных метрах (м²)\n"
   ]
  },
  {
   "cell_type": "markdown",
   "metadata": {},
   "source": [
    "### Вывод"
   ]
  },
  {
   "cell_type": "markdown",
   "metadata": {},
   "source": [
    "В таблице представлены данные по продаже квартир за несколько лет.\n",
    "В каждой строке таблици данные по одной квартире. Большая часть колонок описывает саму квартиру: площадь, число комнат, на каком этаже находится, является ли студией или аппартаментами, имеется ли балкон, высота потолков и другие. Также есть колонки, которые описывают расположение квартиры: близость до центра, аэропорта, парков и водоемов и наличие парков и водоемов в окрестности трех километров. И есть информация по объявлению: когда выставлено и сколько дней прошло до момента продажи.\n",
    "\n",
    "Интересно, что нет данных является ли санузел совмещенным или раздельным, данный параметр может влиять на цену квартиры, так как раздельный санузел предпочтительней.\n",
    "\n",
    "Предварительно можно утверждать, что, данных достаточно для установления зависимостей. \n",
    "Однако, в данных видны следующие проблемы: пропущеные значения (в 14 из 22 колонках), неправильное определение типа данных."
   ]
  },
  {
   "cell_type": "markdown",
   "metadata": {},
   "source": [
    "## Предобработка данных"
   ]
  },
  {
   "cell_type": "code",
   "execution_count": 185,
   "metadata": {},
   "outputs": [
    {
     "data": {
      "text/plain": [
       "total_images                0\n",
       "last_price                  0\n",
       "total_area                  0\n",
       "first_day_exposition        0\n",
       "rooms                       0\n",
       "ceiling_height           9195\n",
       "floors_total               86\n",
       "living_area              1903\n",
       "floor                       0\n",
       "is_apartment            20924\n",
       "studio                      0\n",
       "open_plan                   0\n",
       "kitchen_area             2278\n",
       "balcony                 11519\n",
       "locality_name              49\n",
       "airports_nearest         5542\n",
       "cityCenters_nearest      5519\n",
       "parks_around3000         5518\n",
       "parks_nearest           15620\n",
       "ponds_around3000         5518\n",
       "ponds_nearest           14589\n",
       "days_exposition          3181\n",
       "dtype: int64"
      ]
     },
     "execution_count": 185,
     "metadata": {},
     "output_type": "execute_result"
    }
   ],
   "source": [
    "# подсчет пропусков в колонках\n",
    "real_estate_data.isna().sum()"
   ]
  },
  {
   "cell_type": "markdown",
   "metadata": {},
   "source": [
    "**Колонка с числом балконов `balcony`.**\n",
    "\n",
    "Пропуски в этой колнке скорее всего говорят об отсутствии балконов в квартире. Поэтому заменим пропуски на 0.\n",
    "\n",
    "В колонке также был неверно определен тип данных изменим его с float на int"
   ]
  },
  {
   "cell_type": "code",
   "execution_count": 186,
   "metadata": {},
   "outputs": [],
   "source": [
    "real_estate_data['balcony'] = real_estate_data['balcony'].fillna(0)\n",
    "real_estate_data['balcony'] = real_estate_data['balcony'].astype(int)"
   ]
  },
  {
   "cell_type": "code",
   "execution_count": 187,
   "metadata": {},
   "outputs": [
    {
     "data": {
      "text/plain": [
       "array([0, 1, 2, 3, 4, 5])"
      ]
     },
     "execution_count": 187,
     "metadata": {},
     "output_type": "execute_result"
    }
   ],
   "source": [
    "# проверка на аномалии\n",
    "real_estate_data['balcony'].sort_values().unique()"
   ]
  },
  {
   "cell_type": "markdown",
   "metadata": {},
   "source": [
    "**Колонка апартаменты `is_apartment`.**\n",
    "\n",
    "Пропуски в этой колонке скорее всего обозначают, что квартира не является апартаментами, поэтому пропуски заменены на False. \n",
    "\n",
    "Аномалий в столбце не обнаружено."
   ]
  },
  {
   "cell_type": "code",
   "execution_count": 188,
   "metadata": {},
   "outputs": [],
   "source": [
    "real_estate_data['is_apartment'] = real_estate_data['is_apartment'].fillna(False)"
   ]
  },
  {
   "cell_type": "markdown",
   "metadata": {},
   "source": [
    "**Колонка апартаменты `locality_name`.**\n",
    "\n",
    "Для исключения неявных дубикатов удалим тип поселения из названия (деревня/село/поселок и другие)"
   ]
  },
  {
   "cell_type": "code",
   "execution_count": 189,
   "metadata": {},
   "outputs": [],
   "source": [
    "# приведем посёлок и поселок к единому написанию\n",
    "real_estate_data['locality_name'] = real_estate_data['locality_name'].str.replace('посёлок','поселок')\n",
    "\n",
    "# типы поселений, которые надо удалить из названия\n",
    "vilage_type = ['городской поселок ',\n",
    "               'деревня ',\n",
    "               'поселок городского типа ',\n",
    "               'поселок при железнодорожной станции ',\n",
    "               'поселок станции ',\n",
    "               'село ',\n",
    "               'садовое товарищество ',\n",
    "               'садоводческое некоммерческое товарищество ',\n",
    "               'коттеджный поселок ',\n",
    "               'поселок ']\n",
    "\n",
    "# функция для удаления типа поселения\n",
    "def vilage_type_delete(delete_list,delete_column):\n",
    "    for name in delete_list:\n",
    "        delete_column = delete_column.str.replace(name,'')\n",
    "    return delete_column\n",
    "\n",
    "real_estate_data['locality_name'] = vilage_type_delete(vilage_type,real_estate_data['locality_name'])     \n",
    "#real_estate_data['locality_name'].sort_values().unique()"
   ]
  },
  {
   "cell_type": "markdown",
   "metadata": {},
   "source": [
    "**Колонка с высотой потолков `ceiling_height`.**\n",
    "\n",
    "В колонке встречаются как пропуски, так и аномалии.\n",
    "В случае пропусков здесь нет логичного значения для заполнения, поэтому оставим пропуски как есть.\n",
    "\n",
    "Рассмотрим аномалии. Выведем уникальные значения столбца."
   ]
  },
  {
   "cell_type": "code",
   "execution_count": 190,
   "metadata": {},
   "outputs": [
    {
     "data": {
      "text/plain": [
       "array([  1.  ,   1.2 ,   1.75,   2.  ,   2.2 ,   2.25,   2.3 ,   2.34,\n",
       "         2.4 ,   2.45,   2.46,   2.47,   2.48,   2.49,   2.5 ,   2.51,\n",
       "         2.52,   2.53,   2.54,   2.55,   2.56,   2.57,   2.58,   2.59,\n",
       "         2.6 ,   2.61,   2.62,   2.63,   2.64,   2.65,   2.66,   2.67,\n",
       "         2.68,   2.69,   2.7 ,   2.71,   2.72,   2.73,   2.74,   2.75,\n",
       "         2.76,   2.77,   2.78,   2.79,   2.8 ,   2.81,   2.82,   2.83,\n",
       "         2.84,   2.85,   2.86,   2.87,   2.88,   2.89,   2.9 ,   2.91,\n",
       "         2.92,   2.93,   2.94,   2.95,   2.96,   2.97,   2.98,   2.99,\n",
       "         3.  ,   3.01,   3.02,   3.03,   3.04,   3.05,   3.06,   3.07,\n",
       "         3.08,   3.09,   3.1 ,   3.11,   3.12,   3.13,   3.14,   3.15,\n",
       "         3.16,   3.17,   3.18,   3.2 ,   3.21,   3.22,   3.23,   3.24,\n",
       "         3.25,   3.26,   3.27,   3.28,   3.29,   3.3 ,   3.31,   3.32,\n",
       "         3.33,   3.34,   3.35,   3.36,   3.37,   3.38,   3.39,   3.4 ,\n",
       "         3.42,   3.43,   3.44,   3.45,   3.46,   3.47,   3.48,   3.49,\n",
       "         3.5 ,   3.51,   3.52,   3.53,   3.54,   3.55,   3.56,   3.57,\n",
       "         3.58,   3.59,   3.6 ,   3.62,   3.63,   3.65,   3.66,   3.67,\n",
       "         3.68,   3.69,   3.7 ,   3.75,   3.76,   3.78,   3.8 ,   3.82,\n",
       "         3.83,   3.84,   3.85,   3.86,   3.87,   3.88,   3.9 ,   3.93,\n",
       "         3.95,   3.98,   4.  ,   4.06,   4.1 ,   4.14,   4.15,   4.19,\n",
       "         4.2 ,   4.25,   4.3 ,   4.37,   4.4 ,   4.45,   4.5 ,   4.65,\n",
       "         4.7 ,   4.8 ,   4.9 ,   5.  ,   5.2 ,   5.3 ,   5.5 ,   5.6 ,\n",
       "         5.8 ,   6.  ,   8.  ,   8.3 ,  10.3 ,  14.  ,  20.  ,  22.6 ,\n",
       "        24.  ,  25.  ,  26.  ,  27.  ,  27.5 ,  32.  , 100.  ,    nan])"
      ]
     },
     "execution_count": 190,
     "metadata": {},
     "output_type": "execute_result"
    }
   ],
   "source": [
    "real_estate_data['ceiling_height'].sort_values().unique()"
   ]
  },
  {
   "cell_type": "markdown",
   "metadata": {},
   "source": [
    "Высота потолков ниже 2.4 и выше 6 метров кажется не логичной.\n",
    "При этом высота 24., 25., 26., 27., 27.5, 32. это явные ошибки записи и соответсвуют высотам  2.4, 2.5, 2.6, 2.7, 2.75, 3.2 метров, которые можно исправить.\n",
    "С другими ошибками нет очевидной замены.\n"
   ]
  },
  {
   "cell_type": "code",
   "execution_count": 191,
   "metadata": {},
   "outputs": [
    {
     "data": {
      "text/plain": [
       "array([ 1.  ,  1.2 ,  1.75,  2.  ,  2.2 ,  2.25,  2.3 ,  2.34,  2.4 ,\n",
       "        2.45,  2.46,  2.47,  2.48,  2.49,  2.5 ,  2.51,  2.52,  2.53,\n",
       "        2.54,  2.55,  2.56,  2.57,  2.58,  2.59,  2.6 ,  2.61,  2.62,\n",
       "        2.63,  2.64,  2.65,  2.66,  2.67,  2.68,  2.69,  2.7 ,  2.71,\n",
       "        2.72,  2.73,  2.74,  2.75,  2.76,  2.77,  2.78,  2.79,  2.8 ,\n",
       "        2.81,  2.82,  2.83,  2.84,  2.85,  2.86,  2.87,  2.88,  2.89,\n",
       "        2.9 ,  2.91,  2.92,  2.93,  2.94,  2.95,  2.96,  2.97,  2.98,\n",
       "        2.99,  3.  ,  3.01,  3.02,  3.03,  3.04,  3.05,  3.06,  3.07,\n",
       "        3.08,  3.09,  3.1 ,  3.11,  3.12,  3.13,  3.14,  3.15,  3.16,\n",
       "        3.17,  3.18,  3.2 ,  3.21,  3.22,  3.23,  3.24,  3.25,  3.26,\n",
       "        3.27,  3.28,  3.29,  3.3 ,  3.31,  3.32,  3.33,  3.34,  3.35,\n",
       "        3.36,  3.37,  3.38,  3.39,  3.4 ,  3.42,  3.43,  3.44,  3.45,\n",
       "        3.46,  3.47,  3.48,  3.49,  3.5 ,  3.51,  3.52,  3.53,  3.54,\n",
       "        3.55,  3.56,  3.57,  3.58,  3.59,  3.6 ,  3.62,  3.63,  3.65,\n",
       "        3.66,  3.67,  3.68,  3.69,  3.7 ,  3.75,  3.76,  3.78,  3.8 ,\n",
       "        3.82,  3.83,  3.84,  3.85,  3.86,  3.87,  3.88,  3.9 ,  3.93,\n",
       "        3.95,  3.98,  4.  ,  4.06,  4.1 ,  4.14,  4.15,  4.19,  4.2 ,\n",
       "        4.25,  4.3 ,  4.37,  4.4 ,  4.45,  4.5 ,  4.65,  4.7 ,  4.8 ,\n",
       "        4.9 ,  5.  ,  5.2 ,  5.3 ,  5.5 ,  5.6 ,  5.8 ,  6.  ,  8.  ,\n",
       "        8.3 , 10.  , 10.3 , 14.  , 20.  , 22.6 ,   nan])"
      ]
     },
     "execution_count": 191,
     "metadata": {},
     "output_type": "execute_result"
    }
   ],
   "source": [
    "real_estate_data.loc[(real_estate_data['ceiling_height'] >= 24), 'ceiling_height'] = real_estate_data['ceiling_height']/10\n",
    "real_estate_data['ceiling_height'].sort_values().unique()"
   ]
  },
  {
   "cell_type": "markdown",
   "metadata": {},
   "source": [
    "\n",
    "Здесь неплохим критерием для проверки является ли значение аномалией или просто нестандартной высотой, будет частотность высоты. Рассмотрим высоту потолков, которая встречается менее 3 раз."
   ]
  },
  {
   "cell_type": "code",
   "execution_count": 192,
   "metadata": {},
   "outputs": [],
   "source": [
    "#real_estate_data[(real_estate_data['ceiling_height'] < 2.6) | (real_estate_data['ceiling_height'] > 5.0)]['ceiling_height'].sort_values().value_counts()\n",
    "#ceiling[ceiling <= 1 ].sort_values()"
   ]
  },
  {
   "cell_type": "markdown",
   "metadata": {},
   "source": [
    "**Колонка с числом парков в радиусе 3 км `parks_around3000` и колонка с расстояние до ближайшего парка `parks_nearest`.**\n",
    "\n",
    "Проверим колнку `parks_around3000` на явные аномалии:"
   ]
  },
  {
   "cell_type": "code",
   "execution_count": 193,
   "metadata": {},
   "outputs": [
    {
     "data": {
      "text/plain": [
       "array([ 0.,  1.,  2.,  3., nan])"
      ]
     },
     "execution_count": 193,
     "metadata": {},
     "output_type": "execute_result"
    }
   ],
   "source": [
    "real_estate_data['parks_around3000'].sort_values().unique()"
   ]
  },
  {
   "cell_type": "markdown",
   "metadata": {},
   "source": [
    "Теперь посмотрим как соотносятся 0 и NaN в `parks_around3000` с NaN в`parks_nearest`"
   ]
  },
  {
   "cell_type": "code",
   "execution_count": 194,
   "metadata": {},
   "outputs": [
    {
     "name": "stdout",
     "output_type": "stream",
     "text": [
      "Уникальные значения parks_around3000 при parks_nearest == NaN: [ 0. nan]\n",
      "Количество строк с parks_nearest == NaN: 15620\n",
      "Количество строк с parks_around3000 == NaN: 5518\n",
      "Количество строк с parks_around3000 == 0: 10106\n",
      "Уникальные значения parks_nearest при parks_around3000==0: [  nan 3064. 3190. 3013.]\n"
     ]
    }
   ],
   "source": [
    "print('Уникальные значения parks_around3000 при parks_nearest == NaN:',\n",
    "      real_estate_data[real_estate_data['parks_nearest'].isna() == True]['parks_around3000'].unique())\n",
    "print('Количество строк с parks_nearest == NaN:',\n",
    "      real_estate_data['parks_nearest'].isna().sum())\n",
    "print('Количество строк с parks_around3000 == NaN:',\n",
    "      real_estate_data['parks_around3000'].isna().sum())\n",
    "print('Количество строк с parks_around3000 == 0:',\n",
    "      real_estate_data[real_estate_data['parks_around3000'] == 0]['parks_around3000'].count())\n",
    "print('Уникальные значения parks_nearest при parks_around3000==0:',\n",
    "      real_estate_data[real_estate_data['parks_around3000'] == 0]['parks_nearest'].unique())"
   ]
  },
  {
   "cell_type": "markdown",
   "metadata": {},
   "source": [
    "Получается, что для все `parks_nearest` == NaN соответвуют `parks_around3000` == 0.\n",
    "\n",
    "Заменим все `parks_around3000` == NaN на `parks_around3000` == 0.\n",
    "\n",
    "`parks_nearest` == NaN оставляем как есть.\n",
    "\n",
    "Меняем тип `parks_around3000` на int."
   ]
  },
  {
   "cell_type": "code",
   "execution_count": 195,
   "metadata": {},
   "outputs": [],
   "source": [
    "real_estate_data.loc[real_estate_data['parks_around3000'].isna() == True,'parks_around3000'] = 0\n",
    "real_estate_data['parks_around3000'] = real_estate_data['parks_around3000'].astype(int)"
   ]
  },
  {
   "cell_type": "markdown",
   "metadata": {},
   "source": [
    "**Колонка с числом парков в радиусе 3 км `ponds_around3000` и колонка с расстояние до ближайшего парка `ponds_nearest`.**\n",
    "\n",
    "Проделаем тоже самое с `ponds_around3000` и `ponds_nearest`\n",
    "Проверим колнку `ponds_around3000` на явные аномалии:"
   ]
  },
  {
   "cell_type": "code",
   "execution_count": 196,
   "metadata": {},
   "outputs": [
    {
     "data": {
      "text/plain": [
       "array([ 0.,  1.,  2.,  3., nan])"
      ]
     },
     "execution_count": 196,
     "metadata": {},
     "output_type": "execute_result"
    }
   ],
   "source": [
    "real_estate_data['ponds_around3000'].sort_values().unique()"
   ]
  },
  {
   "cell_type": "markdown",
   "metadata": {},
   "source": [
    "Теперь посмотрим как соотносятся 0 и NaN в `ponds_around3000` с NaN в`ponds_nearest`"
   ]
  },
  {
   "cell_type": "code",
   "execution_count": 197,
   "metadata": {},
   "outputs": [
    {
     "name": "stdout",
     "output_type": "stream",
     "text": [
      "Уникальные значения ponds_around3000 при ponds_nearest == NaN: [ 0. nan]\n",
      "Количество строк с ponds_nearest == NaN: 14589\n",
      "Количество строк с ponds_around3000 == NaN: 5518\n",
      "Количество строк с ponds_around3000 == 0: 9071\n",
      "Уникальные значения ponds_nearest при ponds_around3000==0: [nan]\n"
     ]
    }
   ],
   "source": [
    "print('Уникальные значения ponds_around3000 при ponds_nearest == NaN:',\n",
    "      real_estate_data[real_estate_data['ponds_nearest'].isna() == True]['ponds_around3000'].unique())\n",
    "print('Количество строк с ponds_nearest == NaN:',\n",
    "      real_estate_data['ponds_nearest'].isna().sum())\n",
    "print('Количество строк с ponds_around3000 == NaN:',\n",
    "      real_estate_data['ponds_around3000'].isna().sum())\n",
    "print('Количество строк с ponds_around3000 == 0:',\n",
    "      real_estate_data[real_estate_data['ponds_around3000'] == 0]['ponds_around3000'].count())\n",
    "print('Уникальные значения ponds_nearest при ponds_around3000==0:',\n",
    "      real_estate_data[real_estate_data['ponds_around3000'] == 0]['ponds_nearest'].unique())"
   ]
  },
  {
   "cell_type": "markdown",
   "metadata": {},
   "source": [
    "Получается, что для все `ponds_nearest` == NaN соответвуют `ponds_around3000` == 0.\n",
    "\n",
    "Заменим все `ponds_around3000` == NaN на `ponds_around3000` == 0.\n",
    "\n",
    "`ponds_nearest` == NaN оставляем как есть.\n",
    "\n",
    "Меняем тип `ponds_around3000` на int."
   ]
  },
  {
   "cell_type": "code",
   "execution_count": 198,
   "metadata": {},
   "outputs": [],
   "source": [
    "real_estate_data.loc[real_estate_data['ponds_around3000'].isna() == True,'ponds_around3000'] = 0\n",
    "real_estate_data['ponds_around3000'] = real_estate_data['ponds_around3000'].astype(int)"
   ]
  },
  {
   "cell_type": "markdown",
   "metadata": {},
   "source": [
    "**Колонка с площадью кухни `kitchen_area`.**\n",
    "\n",
    "Для всех студий площадь кухни обозначена как NaN. Однако, обратное не верно."
   ]
  },
  {
   "cell_type": "code",
   "execution_count": 199,
   "metadata": {},
   "outputs": [
    {
     "data": {
      "text/plain": [
       "array([nan])"
      ]
     },
     "execution_count": 199,
     "metadata": {},
     "output_type": "execute_result"
    }
   ],
   "source": [
    "real_estate_data.loc[real_estate_data['studio'] == True]['kitchen_area'].unique()"
   ]
  },
  {
   "cell_type": "code",
   "execution_count": 200,
   "metadata": {},
   "outputs": [
    {
     "data": {
      "text/plain": [
       "array([False,  True])"
      ]
     },
     "execution_count": 200,
     "metadata": {},
     "output_type": "execute_result"
    }
   ],
   "source": [
    "real_estate_data.loc[real_estate_data['kitchen_area'].isna() == True]['studio'].unique()"
   ]
  },
  {
   "cell_type": "markdown",
   "metadata": {},
   "source": [
    "Для всех студий изменим площадь кухни на 0."
   ]
  },
  {
   "cell_type": "code",
   "execution_count": 201,
   "metadata": {},
   "outputs": [],
   "source": [
    "real_estate_data.loc[real_estate_data['studio'] == True,'kitchen_area'] = 0"
   ]
  },
  {
   "cell_type": "code",
   "execution_count": 202,
   "metadata": {},
   "outputs": [
    {
     "data": {
      "text/plain": [
       "array([0.])"
      ]
     },
     "execution_count": 202,
     "metadata": {},
     "output_type": "execute_result"
    }
   ],
   "source": [
    "real_estate_data.loc[real_estate_data['studio'] == True]['kitchen_area'].unique()"
   ]
  },
  {
   "cell_type": "markdown",
   "metadata": {},
   "source": [
    "**Колонка с количеством дней от публикации до снятия `days_exposition`.**"
   ]
  },
  {
   "cell_type": "markdown",
   "metadata": {},
   "source": [
    "Меняем тип `days_exposition` на int."
   ]
  },
  {
   "cell_type": "code",
   "execution_count": 203,
   "metadata": {},
   "outputs": [],
   "source": [
    "#real_estate_data['days_exposition'] = real_estate_data['days_exposition'].astype(int)"
   ]
  },
  {
   "cell_type": "markdown",
   "metadata": {},
   "source": [
    "**Колонки `floors_total`, `living_area`, `kitchen_area`, `locality_name`, `ceiling_height`, `airports_nearest`, `cityCenters_nearest`, `days_exposition`.**\n",
    "\n",
    "В колонках встречаются пропуски, но логичного значения для заполнения здесь нет, поэтому оставим пропуски как есть.\n",
    "\n",
    "Аномалии в столбцах необнаружены."
   ]
  },
  {
   "cell_type": "markdown",
   "metadata": {},
   "source": [
    "**Колонка с датаой публикации `first_day_exposition`.**\n",
    "\n",
    "Приведем колоку к типу DateTime"
   ]
  },
  {
   "cell_type": "code",
   "execution_count": 204,
   "metadata": {},
   "outputs": [],
   "source": [
    "real_estate_data['first_day_exposition'] = pd.to_datetime(real_estate_data['first_day_exposition'],\n",
    "                                                          format='%Y.%m.%dT%H:%M:%S')"
   ]
  },
  {
   "cell_type": "markdown",
   "metadata": {},
   "source": [
    "**Удаление дубликатов**"
   ]
  },
  {
   "cell_type": "code",
   "execution_count": 205,
   "metadata": {},
   "outputs": [
    {
     "name": "stdout",
     "output_type": "stream",
     "text": [
      "Количество явных дубликатов в таблице:\n"
     ]
    },
    {
     "data": {
      "text/plain": [
       "0"
      ]
     },
     "execution_count": 205,
     "metadata": {},
     "output_type": "execute_result"
    }
   ],
   "source": [
    "print('Количество явных дубликатов в таблице:')\n",
    "real_estate_data.duplicated().sum()"
   ]
  },
  {
   "cell_type": "code",
   "execution_count": 206,
   "metadata": {},
   "outputs": [],
   "source": [
    "real_estate_data = real_estate_data.drop_duplicates().reset_index(drop=True)"
   ]
  },
  {
   "cell_type": "code",
   "execution_count": 207,
   "metadata": {},
   "outputs": [
    {
     "name": "stdout",
     "output_type": "stream",
     "text": [
      "Количество явных дубликатов в таблице:\n"
     ]
    },
    {
     "data": {
      "text/plain": [
       "0"
      ]
     },
     "execution_count": 207,
     "metadata": {},
     "output_type": "execute_result"
    }
   ],
   "source": [
    "print('Количество явных дубликатов в таблице:')\n",
    "real_estate_data.duplicated().sum()"
   ]
  },
  {
   "cell_type": "markdown",
   "metadata": {},
   "source": [
    "Информация по исправленному датасету:"
   ]
  },
  {
   "cell_type": "code",
   "execution_count": 208,
   "metadata": {},
   "outputs": [
    {
     "name": "stdout",
     "output_type": "stream",
     "text": [
      "<class 'pandas.core.frame.DataFrame'>\n",
      "RangeIndex: 23699 entries, 0 to 23698\n",
      "Data columns (total 22 columns):\n",
      " #   Column                Non-Null Count  Dtype         \n",
      "---  ------                --------------  -----         \n",
      " 0   total_images          23699 non-null  int64         \n",
      " 1   last_price            23699 non-null  float64       \n",
      " 2   total_area            23699 non-null  float64       \n",
      " 3   first_day_exposition  23699 non-null  datetime64[ns]\n",
      " 4   rooms                 23699 non-null  int64         \n",
      " 5   ceiling_height        14504 non-null  float64       \n",
      " 6   floors_total          23613 non-null  float64       \n",
      " 7   living_area           21796 non-null  float64       \n",
      " 8   floor                 23699 non-null  int64         \n",
      " 9   is_apartment          23699 non-null  bool          \n",
      " 10  studio                23699 non-null  bool          \n",
      " 11  open_plan             23699 non-null  bool          \n",
      " 12  kitchen_area          21570 non-null  float64       \n",
      " 13  balcony               23699 non-null  int64         \n",
      " 14  locality_name         23650 non-null  object        \n",
      " 15  airports_nearest      18157 non-null  float64       \n",
      " 16  cityCenters_nearest   18180 non-null  float64       \n",
      " 17  parks_around3000      23699 non-null  int64         \n",
      " 18  parks_nearest         8079 non-null   float64       \n",
      " 19  ponds_around3000      23699 non-null  int64         \n",
      " 20  ponds_nearest         9110 non-null   float64       \n",
      " 21  days_exposition       20518 non-null  float64       \n",
      "dtypes: bool(3), datetime64[ns](1), float64(11), int64(6), object(1)\n",
      "memory usage: 3.5+ MB\n"
     ]
    }
   ],
   "source": [
    "real_estate_data.info()"
   ]
  },
  {
   "cell_type": "code",
   "execution_count": 209,
   "metadata": {},
   "outputs": [
    {
     "data": {
      "text/plain": [
       "total_images                0\n",
       "last_price                  0\n",
       "total_area                  0\n",
       "first_day_exposition        0\n",
       "rooms                       0\n",
       "ceiling_height           9195\n",
       "floors_total               86\n",
       "living_area              1903\n",
       "floor                       0\n",
       "is_apartment                0\n",
       "studio                      0\n",
       "open_plan                   0\n",
       "kitchen_area             2129\n",
       "balcony                     0\n",
       "locality_name              49\n",
       "airports_nearest         5542\n",
       "cityCenters_nearest      5519\n",
       "parks_around3000            0\n",
       "parks_nearest           15620\n",
       "ponds_around3000            0\n",
       "ponds_nearest           14589\n",
       "days_exposition          3181\n",
       "dtype: int64"
      ]
     },
     "execution_count": 209,
     "metadata": {},
     "output_type": "execute_result"
    }
   ],
   "source": [
    "real_estate_data.isna().sum()"
   ]
  },
  {
   "cell_type": "markdown",
   "metadata": {},
   "source": [
    "**Вывод**\n",
    "\n",
    "На этапе предобработка обнаружены и частично исправлены следующие проблемы в данных:\n",
    "\n",
    "- пропущенные значения,\n",
    "- аномальные значения и ошибки записи.\n",
    "\n",
    "Часть пропусков - это отсутсвие информации в объявлении, например, количесво балконов и является ли квариртира апартаментами. \n",
    "В некоторых случаях, пропуски это скорее информация, к примеру пропуски в столбце `parks_nearest`, говорит о том, что поблизости парков нет.\n",
    "\n",
    "В данных есть аномалии, например высота потолков 1 или 100 метров - это явные опечатки. Но заменять их чем-то сложно - можно внести ошибку. Поэтому строки с аномалиями лучше отбросить при необходимости. Сейчас это не делалось, так как можно потерять часть данных.\n",
    "\n",
    "Также были исправлены названия населенных пунктов - приведены к одному написанию, так не будет дубликатов.\n"
   ]
  },
  {
   "cell_type": "markdown",
   "metadata": {},
   "source": [
    "## Расчёты и добавление результатов в таблицу"
   ]
  },
  {
   "cell_type": "markdown",
   "metadata": {},
   "source": [
    "Для дальнейшего анализа необходимо добавить в таблицу:\n",
    "\n",
    "- цену квадратного метра;\n",
    "- день недели, месяц и год публикации объявления;\n",
    "- этаж квартиры; варианты — первый, последний, другой;\n",
    "- соотношение жилой и общей площади, а также отношение площади кухни к общей."
   ]
  },
  {
   "cell_type": "code",
   "execution_count": 210,
   "metadata": {},
   "outputs": [],
   "source": [
    "real_estate_data['price_per_square_meter'] = real_estate_data['last_price']/ real_estate_data['total_area']"
   ]
  },
  {
   "cell_type": "code",
   "execution_count": 211,
   "metadata": {},
   "outputs": [],
   "source": [
    "real_estate_data['weekday_exposition'] =  pd.DatetimeIndex(real_estate_data['first_day_exposition']).day\n",
    "real_estate_data['month_exposition'] = pd.DatetimeIndex(real_estate_data['first_day_exposition']).month\n",
    "real_estate_data['year_exposition'] = pd.DatetimeIndex(real_estate_data['first_day_exposition']).year"
   ]
  },
  {
   "cell_type": "code",
   "execution_count": 212,
   "metadata": {},
   "outputs": [],
   "source": [
    "real_estate_data['floor_group'] = real_estate_data['floor']\n",
    "\n",
    "real_estate_data.loc[real_estate_data['floor'] == 1,'floor_group'] = 'Первый'\n",
    "real_estate_data.loc[real_estate_data['floor'] == real_estate_data['floors_total'],'floor_group'] = 'Последний'\n",
    "real_estate_data.loc[real_estate_data['floors_total'].isna() == True,'floor_group'] = 'Неопределен'\n",
    "real_estate_data['floor_group'] = (\n",
    "    real_estate_data['floor_group']\n",
    "    .where(real_estate_data['floor_group'].isin(['Первый','Последний','Неопределен']), 'Другой')    \n",
    ")\n"
   ]
  },
  {
   "cell_type": "code",
   "execution_count": 213,
   "metadata": {},
   "outputs": [],
   "source": [
    "real_estate_data['living_to_total_area'] = real_estate_data['living_area']/ real_estate_data['total_area']"
   ]
  },
  {
   "cell_type": "code",
   "execution_count": 214,
   "metadata": {},
   "outputs": [],
   "source": [
    "real_estate_data['kitchen_to_total_area'] = real_estate_data['kitchen_area']/ real_estate_data['total_area']"
   ]
  },
  {
   "cell_type": "markdown",
   "metadata": {},
   "source": [
    "**Вывод**\n",
    "\n",
    "Посчитано и добавлено в таблицу:\n",
    "- цена квадратного метра\n",
    "- день недели, месяц и год публикации объявления\n",
    "- этаж квартиры; варианты — первый, последний, другой, неопределен\n",
    "- посчитано и добавлено в таблицу: соотношение жилой и общей площади, а также отношение площади кухни к общей"
   ]
  },
  {
   "cell_type": "markdown",
   "metadata": {},
   "source": [
    "## Исследовательский анализ данных"
   ]
  },
  {
   "cell_type": "markdown",
   "metadata": {},
   "source": [
    "**Общая площадь `total_area`**"
   ]
  },
  {
   "cell_type": "code",
   "execution_count": 215,
   "metadata": {},
   "outputs": [
    {
     "data": {
      "text/plain": [
       "Text(0.5, 0, 'Общая площадь квартиры, м^2')"
      ]
     },
     "execution_count": 215,
     "metadata": {},
     "output_type": "execute_result"
    },
    {
     "data": {
      "image/png": "[encoded data removed]",
      "text/plain": [
       "<Figure size 432x288 with 1 Axes>"
      ]
     },
     "metadata": {
      "needs_background": "light"
     },
     "output_type": "display_data"
    }
   ],
   "source": [
    "real_estate_data['total_area'].hist(bins=100, range=(0,300))\n",
    "plt.title('Распределение общей площади квартиры')\n",
    "plt.xlabel('Общая площадь квартиры, м^2')"
   ]
  },
  {
   "cell_type": "code",
   "execution_count": 216,
   "metadata": {
    "scrolled": true
   },
   "outputs": [
    {
     "data": {
      "text/plain": [
       "count    23699.000000\n",
       "mean        60.348651\n",
       "std         35.654083\n",
       "min         12.000000\n",
       "25%         40.000000\n",
       "50%         52.000000\n",
       "75%         69.900000\n",
       "max        900.000000\n",
       "Name: total_area, dtype: float64"
      ]
     },
     "execution_count": 216,
     "metadata": {},
     "output_type": "execute_result"
    }
   ],
   "source": [
    "real_estate_data['total_area'].describe()"
   ]
  },
  {
   "cell_type": "code",
   "execution_count": 217,
   "metadata": {},
   "outputs": [
    {
     "data": {
      "text/plain": [
       "Text(0, 0.5, 'Общая площадь квартиры, м^2')"
      ]
     },
     "execution_count": 217,
     "metadata": {},
     "output_type": "execute_result"
    },
    {
     "data": {
      "image/png": "[encoded data removed]",
      "text/plain": [
       "<Figure size 432x288 with 1 Axes>"
      ]
     },
     "metadata": {
      "needs_background": "light"
     },
     "output_type": "display_data"
    }
   ],
   "source": [
    "real_estate_data['total_area'].plot(kind='box',ylim=(0,200))\n",
    "plt.ylabel('Общая площадь квартиры, м^2')"
   ]
  },
  {
   "cell_type": "markdown",
   "metadata": {},
   "source": [
    "Гистограмма общей площади имеет вид распределения Пуассона.\n",
    "\n",
    "Медианное значение равно 52 $м^2$. Половина всех значений общей площади укладывается между значениями 40 и 70 $м^2$"
   ]
  },
  {
   "cell_type": "markdown",
   "metadata": {},
   "source": [
    "**Цена `last_price`**"
   ]
  },
  {
   "cell_type": "code",
   "execution_count": 218,
   "metadata": {},
   "outputs": [
    {
     "data": {
      "text/plain": [
       "Text(0.5, 0, 'Цены продажи квартиры, руб')"
      ]
     },
     "execution_count": 218,
     "metadata": {},
     "output_type": "execute_result"
    },
    {
     "data": {
      "image/png": "[encoded data removed]",
      "text/plain": [
       "<Figure size 432x288 with 1 Axes>"
      ]
     },
     "metadata": {
      "needs_background": "light"
     },
     "output_type": "display_data"
    }
   ],
   "source": [
    "real_estate_data['last_price'].hist(bins=100, range=(0,20_000_000))\n",
    "plt.title('Распределение цены продажи квартиры')\n",
    "plt.xlabel('Цены продажи квартиры, руб')"
   ]
  },
  {
   "cell_type": "code",
   "execution_count": 219,
   "metadata": {},
   "outputs": [
    {
     "data": {
      "text/plain": [
       "count    2.369900e+04\n",
       "mean     6.541549e+06\n",
       "std      1.088701e+07\n",
       "min      1.219000e+04\n",
       "25%      3.400000e+06\n",
       "50%      4.650000e+06\n",
       "75%      6.800000e+06\n",
       "max      7.630000e+08\n",
       "Name: last_price, dtype: float64"
      ]
     },
     "execution_count": 219,
     "metadata": {},
     "output_type": "execute_result"
    }
   ],
   "source": [
    "real_estate_data['last_price'].describe()"
   ]
  },
  {
   "cell_type": "code",
   "execution_count": 220,
   "metadata": {},
   "outputs": [
    {
     "data": {
      "text/plain": [
       "Text(0, 0.5, 'Цены продажи квартиры, руб')"
      ]
     },
     "execution_count": 220,
     "metadata": {},
     "output_type": "execute_result"
    },
    {
     "data": {
      "image/png": "[encoded data removed]",
      "text/plain": [
       "<Figure size 432x288 with 1 Axes>"
      ]
     },
     "metadata": {
      "needs_background": "light"
     },
     "output_type": "display_data"
    }
   ],
   "source": [
    "real_estate_data['last_price'].plot(kind='box',ylim=(0,15_000_000))\n",
    "plt.ylabel('Цены продажи квартиры, руб')"
   ]
  },
  {
   "cell_type": "markdown",
   "metadata": {},
   "source": [
    "Гистограмма значений цен на квартиру имеет вид распределения Пуассона.\n",
    "\n",
    "Медианное значение равно 4.65 млн. Половина всех значений укладывается между значениями 3.4 и 6.8 млн."
   ]
  },
  {
   "cell_type": "markdown",
   "metadata": {},
   "source": [
    "**Число комнат `rooms`**"
   ]
  },
  {
   "cell_type": "code",
   "execution_count": 221,
   "metadata": {},
   "outputs": [
    {
     "data": {
      "text/plain": [
       "Text(0.5, 0, 'Количесво комнат')"
      ]
     },
     "execution_count": 221,
     "metadata": {},
     "output_type": "execute_result"
    },
    {
     "data": {
      "image/png": "[encoded data removed]",
      "text/plain": [
       "<Figure size 432x288 with 1 Axes>"
      ]
     },
     "metadata": {
      "needs_background": "light"
     },
     "output_type": "display_data"
    }
   ],
   "source": [
    "real_estate_data['rooms'].hist(bins=10, range=(0,10))\n",
    "plt.title('Распределения количесва комнат')\n",
    "plt.xlabel('Количесво комнат')"
   ]
  },
  {
   "cell_type": "code",
   "execution_count": 222,
   "metadata": {
    "scrolled": false
   },
   "outputs": [
    {
     "data": {
      "text/plain": [
       "count    23699.000000\n",
       "mean         2.070636\n",
       "std          1.078405\n",
       "min          0.000000\n",
       "25%          1.000000\n",
       "50%          2.000000\n",
       "75%          3.000000\n",
       "max         19.000000\n",
       "Name: rooms, dtype: float64"
      ]
     },
     "execution_count": 222,
     "metadata": {},
     "output_type": "execute_result"
    }
   ],
   "source": [
    "real_estate_data['rooms'].describe()"
   ]
  },
  {
   "cell_type": "code",
   "execution_count": 223,
   "metadata": {},
   "outputs": [
    {
     "data": {
      "text/plain": [
       "Text(0, 0.5, 'Количесво комнат')"
      ]
     },
     "execution_count": 223,
     "metadata": {},
     "output_type": "execute_result"
    },
    {
     "data": {
      "image/png": "[encoded data removed]",
      "text/plain": [
       "<Figure size 432x288 with 1 Axes>"
      ]
     },
     "metadata": {
      "needs_background": "light"
     },
     "output_type": "display_data"
    }
   ],
   "source": [
    "real_estate_data['rooms'].plot(kind='box',ylim=(0,20))\n",
    "plt.ylabel('Количесво комнат')"
   ]
  },
  {
   "cell_type": "markdown",
   "metadata": {},
   "source": [
    "Гистограмма для количесвтва комнат имеет вид распределения Пуассона.\n",
    "\n",
    "Медианное значение равно 2. Квартиры с количесвом комнат выше 6 очень редки и можно считать выбросами."
   ]
  },
  {
   "cell_type": "markdown",
   "metadata": {},
   "source": [
    "**Высота потолков `ceiling_height`**"
   ]
  },
  {
   "cell_type": "code",
   "execution_count": 224,
   "metadata": {},
   "outputs": [
    {
     "data": {
      "text/plain": [
       "Text(0.5, 0, 'Высота потолков')"
      ]
     },
     "execution_count": 224,
     "metadata": {},
     "output_type": "execute_result"
    },
    {
     "data": {
      "image/png": "[encoded data removed]",
      "text/plain": [
       "<Figure size 432x288 with 1 Axes>"
      ]
     },
     "metadata": {
      "needs_background": "light"
     },
     "output_type": "display_data"
    }
   ],
   "source": [
    "real_estate_data['ceiling_height'].hist(bins=40, range=(2,4))\n",
    "plt.title('Распределения высоты потолков')\n",
    "plt.xlabel('Высота потолков')"
   ]
  },
  {
   "cell_type": "code",
   "execution_count": 225,
   "metadata": {},
   "outputs": [
    {
     "data": {
      "text/plain": [
       "count    14504.000000\n",
       "mean         2.732251\n",
       "std          0.387344\n",
       "min          1.000000\n",
       "25%          2.510000\n",
       "50%          2.650000\n",
       "75%          2.800000\n",
       "max         22.600000\n",
       "Name: ceiling_height, dtype: float64"
      ]
     },
     "execution_count": 225,
     "metadata": {},
     "output_type": "execute_result"
    }
   ],
   "source": [
    "real_estate_data['ceiling_height'].describe()"
   ]
  },
  {
   "cell_type": "code",
   "execution_count": 226,
   "metadata": {},
   "outputs": [
    {
     "data": {
      "text/plain": [
       "Text(0, 0.5, 'Высота потолков')"
      ]
     },
     "execution_count": 226,
     "metadata": {},
     "output_type": "execute_result"
    },
    {
     "data": {
      "image/png": "[encoded data removed]",
      "text/plain": [
       "<Figure size 432x288 with 1 Axes>"
      ]
     },
     "metadata": {
      "needs_background": "light"
     },
     "output_type": "display_data"
    }
   ],
   "source": [
    "real_estate_data['ceiling_height'].plot(kind='box',ylim=(1,4))\n",
    "plt.ylabel('Высота потолков')"
   ]
  },
  {
   "cell_type": "markdown",
   "metadata": {},
   "source": [
    "Из гистограмма высоты потолков можно увидить выбросы с высотой меньше 2 метров. Это скорее всего опечатки в данных.\n",
    "Также есть выбросы с высотой выше 3.4м. Высота потолков до 5-6 метров может быть в таунхаузах, лофт постройках или постройках класса \"люкс\". Выше этих значений скорее всего опечатки в данных.\n",
    "Можно сказать, что распеределение высоты потолков имеет 3 региона: \n",
    "- 2.5-2.6 (скорее всего соответствуют квартирам в \"хрущевках\" и \"брежневках\")\n",
    "- 2.7-2.8 (стандартные новостройки)\n",
    "- 3.0-3.2 (квартиры в \"сталинках\")\n",
    "\n",
    "Медианное значение высоты потолков равно 2.65 $м$. Половина всех значений общей площади укладывается между значениями 2.51 и 2.8 м."
   ]
  },
  {
   "cell_type": "markdown",
   "metadata": {},
   "source": [
    "**Время продажи квартиры `days_exposition`**"
   ]
  },
  {
   "cell_type": "code",
   "execution_count": 227,
   "metadata": {},
   "outputs": [
    {
     "data": {
      "text/plain": [
       "Text(0.5, 1.0, 'Количесво дней до снятия объявления')"
      ]
     },
     "execution_count": 227,
     "metadata": {},
     "output_type": "execute_result"
    },
    {
     "data": {
      "image/png": "[encoded data removed]",
      "text/plain": [
       "<Figure size 432x288 with 1 Axes>"
      ]
     },
     "metadata": {
      "needs_background": "light"
     },
     "output_type": "display_data"
    }
   ],
   "source": [
    "real_estate_data['days_exposition'].hist(bins=100,range=(0,1600))\n",
    "plt.title('Количесво дней до снятия объявления')"
   ]
  },
  {
   "cell_type": "code",
   "execution_count": 228,
   "metadata": {},
   "outputs": [
    {
     "name": "stdout",
     "output_type": "stream",
     "text": [
      "Среднее значение времени продажи: 181.0\n",
      "Медианное значение времени продажи: 95.0\n"
     ]
    }
   ],
   "source": [
    "print('Среднее значение времени продажи:',real_estate_data['days_exposition'].mean().round())\n",
    "print('Медианное значение времени продажи:',real_estate_data['days_exposition'].median())"
   ]
  },
  {
   "cell_type": "code",
   "execution_count": 229,
   "metadata": {},
   "outputs": [
    {
     "data": {
      "text/plain": [
       "Text(0, 0.5, 'Количесво дней до снятия объявления')"
      ]
     },
     "execution_count": 229,
     "metadata": {},
     "output_type": "execute_result"
    },
    {
     "data": {
      "image/png": "[encoded data removed]",
      "text/plain": [
       "<Figure size 432x288 with 1 Axes>"
      ]
     },
     "metadata": {
      "needs_background": "light"
     },
     "output_type": "display_data"
    }
   ],
   "source": [
    "real_estate_data['days_exposition'].plot(kind='box')\n",
    "plt.ylabel('Количесво дней до снятия объявления')"
   ]
  },
  {
   "cell_type": "markdown",
   "metadata": {},
   "source": [
    "Половина квартир продается за срок три месяца. Есть квартиры, которые продаются несколько лет скорее всего это либо большие и дорогие квартиры, либо неснятое объявление. Можно считать, что если квартира продается дольше 500 дней, то она продается долго. \n",
    "\n",
    "Интересно отметить, что также есть квартиры, которые продаются очень быстро - в течении нескольких. В целом, для квартир проданных за 1.5 месяца (45 дней) и быстрее, можно считать, что продажи прошли быстро."
   ]
  },
  {
   "cell_type": "code",
   "execution_count": 230,
   "metadata": {},
   "outputs": [
    {
     "data": {
      "text/plain": [
       "count    20518.000000\n",
       "mean       180.888634\n",
       "std        219.727988\n",
       "min          1.000000\n",
       "25%         45.000000\n",
       "50%         95.000000\n",
       "75%        232.000000\n",
       "max       1580.000000\n",
       "Name: days_exposition, dtype: float64"
      ]
     },
     "execution_count": 230,
     "metadata": {},
     "output_type": "execute_result"
    }
   ],
   "source": [
    "real_estate_data['days_exposition'].describe()"
   ]
  },
  {
   "cell_type": "markdown",
   "metadata": {},
   "source": [
    "Уберем редкие редкие и выбивающиеся значения."
   ]
  },
  {
   "cell_type": "code",
   "execution_count": 231,
   "metadata": {},
   "outputs": [],
   "source": [
    "# выбивающиеся\n",
    "real_estate_data_freq = real_estate_data.query('days_exposition < 600')"
   ]
  },
  {
   "cell_type": "code",
   "execution_count": 232,
   "metadata": {},
   "outputs": [],
   "source": [
    "# редкие\n",
    "flat_sell_freq = real_estate_data_freq.pivot_table(index='days_exposition', \n",
    "                                                   values='last_price', \n",
    "                                                   aggfunc='count')\n",
    "flat_sell_freq.columns = ['count']\n",
    "\n",
    "flat_sell_freq = flat_sell_freq.query('count > 5')"
   ]
  },
  {
   "cell_type": "code",
   "execution_count": null,
   "metadata": {},
   "outputs": [],
   "source": []
  },
  {
   "cell_type": "code",
   "execution_count": 233,
   "metadata": {},
   "outputs": [],
   "source": [
    "# уберем значения, которые встречаются 5 и менее раза\n",
    "real_estate_data_freq = real_estate_data_freq.query('days_exposition in @flat_sell_freq.index')"
   ]
  },
  {
   "cell_type": "markdown",
   "metadata": {},
   "source": []
  },
  {
   "cell_type": "code",
   "execution_count": 234,
   "metadata": {},
   "outputs": [
    {
     "data": {
      "text/plain": [
       "Text(0.5, 1.0, 'Количесво дней до снятия объявления')"
      ]
     },
     "execution_count": 234,
     "metadata": {},
     "output_type": "execute_result"
    },
    {
     "data": {
      "image/png": "[encoded data removed]",
      "text/plain": [
       "<Figure size 432x288 with 1 Axes>"
      ]
     },
     "metadata": {
      "needs_background": "light"
     },
     "output_type": "display_data"
    }
   ],
   "source": [
    "real_estate_data_freq['days_exposition'].hist(bins=100,range=(0,600))\n",
    "plt.title('Количесво дней до снятия объявления')"
   ]
  },
  {
   "cell_type": "markdown",
   "metadata": {},
   "source": [
    "**Какие фактроры влияют на стоимость квартиры**"
   ]
  },
  {
   "cell_type": "code",
   "execution_count": 235,
   "metadata": {},
   "outputs": [
    {
     "name": "stdout",
     "output_type": "stream",
     "text": [
      "<class 'pandas.core.frame.DataFrame'>\n",
      "RangeIndex: 23699 entries, 0 to 23698\n",
      "Data columns (total 8 columns):\n",
      " #   Column                  Non-Null Count  Dtype  \n",
      "---  ------                  --------------  -----  \n",
      " 0   price_per_square_meter  23699 non-null  float64\n",
      " 1   rooms                   23699 non-null  int64  \n",
      " 2   total_area              23699 non-null  float64\n",
      " 3   cityCenters_nearest     18180 non-null  float64\n",
      " 4   floor_group             23699 non-null  object \n",
      " 5   weekday_exposition      23699 non-null  int64  \n",
      " 6   month_exposition        23699 non-null  int64  \n",
      " 7   year_exposition         23699 non-null  int64  \n",
      "dtypes: float64(3), int64(4), object(1)\n",
      "memory usage: 1.4+ MB\n"
     ]
    }
   ],
   "source": [
    "price_correlation = real_estate_data[['price_per_square_meter','rooms','total_area','cityCenters_nearest',\n",
    "                                      'floor_group','weekday_exposition','month_exposition','year_exposition']]\n",
    "price_correlation.info()"
   ]
  },
  {
   "cell_type": "code",
   "execution_count": 236,
   "metadata": {},
   "outputs": [
    {
     "data": {
      "text/html": [
       "<div>\n",
       "<style scoped>\n",
       "    .dataframe tbody tr th:only-of-type {\n",
       "        vertical-align: middle;\n",
       "    }\n",
       "\n",
       "    .dataframe tbody tr th {\n",
       "        vertical-align: top;\n",
       "    }\n",
       "\n",
       "    .dataframe thead th {\n",
       "        text-align: right;\n",
       "    }\n",
       "</style>\n",
       "<table border=\"1\" class=\"dataframe\">\n",
       "  <thead>\n",
       "    <tr style=\"text-align: right;\">\n",
       "      <th></th>\n",
       "      <th>price_per_square_meter</th>\n",
       "      <th>rooms</th>\n",
       "      <th>total_area</th>\n",
       "      <th>cityCenters_nearest</th>\n",
       "      <th>weekday_exposition</th>\n",
       "      <th>month_exposition</th>\n",
       "      <th>year_exposition</th>\n",
       "    </tr>\n",
       "  </thead>\n",
       "  <tbody>\n",
       "    <tr>\n",
       "      <th>price_per_square_meter</th>\n",
       "      <td>1.000000</td>\n",
       "      <td>0.055420</td>\n",
       "      <td>0.301960</td>\n",
       "      <td>-0.317951</td>\n",
       "      <td>0.012490</td>\n",
       "      <td>-0.001995</td>\n",
       "      <td>0.008516</td>\n",
       "    </tr>\n",
       "    <tr>\n",
       "      <th>rooms</th>\n",
       "      <td>0.055420</td>\n",
       "      <td>1.000000</td>\n",
       "      <td>0.758344</td>\n",
       "      <td>-0.184864</td>\n",
       "      <td>0.004287</td>\n",
       "      <td>-0.004469</td>\n",
       "      <td>-0.055418</td>\n",
       "    </tr>\n",
       "    <tr>\n",
       "      <th>total_area</th>\n",
       "      <td>0.301960</td>\n",
       "      <td>0.758344</td>\n",
       "      <td>1.000000</td>\n",
       "      <td>-0.231446</td>\n",
       "      <td>0.004546</td>\n",
       "      <td>0.004920</td>\n",
       "      <td>-0.079912</td>\n",
       "    </tr>\n",
       "    <tr>\n",
       "      <th>cityCenters_nearest</th>\n",
       "      <td>-0.317951</td>\n",
       "      <td>-0.184864</td>\n",
       "      <td>-0.231446</td>\n",
       "      <td>1.000000</td>\n",
       "      <td>0.004064</td>\n",
       "      <td>-0.008978</td>\n",
       "      <td>0.032333</td>\n",
       "    </tr>\n",
       "    <tr>\n",
       "      <th>weekday_exposition</th>\n",
       "      <td>0.012490</td>\n",
       "      <td>0.004287</td>\n",
       "      <td>0.004546</td>\n",
       "      <td>0.004064</td>\n",
       "      <td>1.000000</td>\n",
       "      <td>-0.018980</td>\n",
       "      <td>-0.027444</td>\n",
       "    </tr>\n",
       "    <tr>\n",
       "      <th>month_exposition</th>\n",
       "      <td>-0.001995</td>\n",
       "      <td>-0.004469</td>\n",
       "      <td>0.004920</td>\n",
       "      <td>-0.008978</td>\n",
       "      <td>-0.018980</td>\n",
       "      <td>1.000000</td>\n",
       "      <td>-0.269642</td>\n",
       "    </tr>\n",
       "    <tr>\n",
       "      <th>year_exposition</th>\n",
       "      <td>0.008516</td>\n",
       "      <td>-0.055418</td>\n",
       "      <td>-0.079912</td>\n",
       "      <td>0.032333</td>\n",
       "      <td>-0.027444</td>\n",
       "      <td>-0.269642</td>\n",
       "      <td>1.000000</td>\n",
       "    </tr>\n",
       "  </tbody>\n",
       "</table>\n",
       "</div>"
      ],
      "text/plain": [
       "                        price_per_square_meter     rooms  total_area  \\\n",
       "price_per_square_meter                1.000000  0.055420    0.301960   \n",
       "rooms                                 0.055420  1.000000    0.758344   \n",
       "total_area                            0.301960  0.758344    1.000000   \n",
       "cityCenters_nearest                  -0.317951 -0.184864   -0.231446   \n",
       "weekday_exposition                    0.012490  0.004287    0.004546   \n",
       "month_exposition                     -0.001995 -0.004469    0.004920   \n",
       "year_exposition                       0.008516 -0.055418   -0.079912   \n",
       "\n",
       "                        cityCenters_nearest  weekday_exposition  \\\n",
       "price_per_square_meter            -0.317951            0.012490   \n",
       "rooms                             -0.184864            0.004287   \n",
       "total_area                        -0.231446            0.004546   \n",
       "cityCenters_nearest                1.000000            0.004064   \n",
       "weekday_exposition                 0.004064            1.000000   \n",
       "month_exposition                  -0.008978           -0.018980   \n",
       "year_exposition                    0.032333           -0.027444   \n",
       "\n",
       "                        month_exposition  year_exposition  \n",
       "price_per_square_meter         -0.001995         0.008516  \n",
       "rooms                          -0.004469        -0.055418  \n",
       "total_area                      0.004920        -0.079912  \n",
       "cityCenters_nearest            -0.008978         0.032333  \n",
       "weekday_exposition             -0.018980        -0.027444  \n",
       "month_exposition                1.000000        -0.269642  \n",
       "year_exposition                -0.269642         1.000000  "
      ]
     },
     "execution_count": 236,
     "metadata": {},
     "output_type": "execute_result"
    }
   ],
   "source": [
    "price_correlation.corr()"
   ]
  },
  {
   "cell_type": "markdown",
   "metadata": {},
   "source": [
    "Из таблицы видно, что наибольшее влияние на цену за квадратный метр оказывают общая площадь и удаленность от центра.  Остальные параметры не влияют на цену за квадратный метр.\n",
    "\n",
    "Рассмотрим перечисленные параметры подробнее."
   ]
  },
  {
   "cell_type": "code",
   "execution_count": 237,
   "metadata": {},
   "outputs": [
    {
     "data": {
      "text/plain": [
       "Text(0.5, 1.0, 'Зависимоть цены за кв.м от общей площади')"
      ]
     },
     "execution_count": 237,
     "metadata": {},
     "output_type": "execute_result"
    },
    {
     "data": {
      "image/png": "[encoded data removed]",
      "text/plain": [
       "<Figure size 432x288 with 1 Axes>"
      ]
     },
     "metadata": {
      "needs_background": "light"
     },
     "output_type": "display_data"
    }
   ],
   "source": [
    "# Зависимоть цены за кв.м от общей площади\n",
    "sns.regplot(data=price_correlation,\n",
    "            x=price_correlation['total_area'],\n",
    "            y=price_correlation['price_per_square_meter'])\n",
    "plt.title('Зависимоть цены за кв.м от общей площади')"
   ]
  },
  {
   "cell_type": "code",
   "execution_count": 238,
   "metadata": {},
   "outputs": [
    {
     "data": {
      "text/plain": [
       "<AxesSubplot:title={'center':'Зависимоть цены за кв.м от удаленности от центра города'}, xlabel='cityCenters_nearest', ylabel='price_per_square_meter'>"
      ]
     },
     "execution_count": 238,
     "metadata": {},
     "output_type": "execute_result"
    },
    {
     "data": {
      "image/png": "[encoded data removed]",
      "text/plain": [
       "<Figure size 432x288 with 1 Axes>"
      ]
     },
     "metadata": {
      "needs_background": "light"
     },
     "output_type": "display_data"
    }
   ],
   "source": [
    "price_correlation.plot(kind='scatter',\n",
    "                       x='cityCenters_nearest',\n",
    "                       y='price_per_square_meter',\n",
    "                       title='Зависимоть цены за кв.м от удаленности от центра города'\n",
    "                      )"
   ]
  },
  {
   "cell_type": "markdown",
   "metadata": {},
   "source": [
    "На графике видна ступенька для значения около 8000м от центра города. Это наблюдение будет проверено в пункте ниже."
   ]
  },
  {
   "cell_type": "markdown",
   "metadata": {},
   "source": [
    "**10 населённых пунктов с наибольшим числом объявлений**"
   ]
  },
  {
   "cell_type": "code",
   "execution_count": 239,
   "metadata": {},
   "outputs": [
    {
     "data": {
      "text/html": [
       "<div>\n",
       "<style scoped>\n",
       "    .dataframe tbody tr th:only-of-type {\n",
       "        vertical-align: middle;\n",
       "    }\n",
       "\n",
       "    .dataframe tbody tr th {\n",
       "        vertical-align: top;\n",
       "    }\n",
       "\n",
       "    .dataframe thead th {\n",
       "        text-align: right;\n",
       "    }\n",
       "</style>\n",
       "<table border=\"1\" class=\"dataframe\">\n",
       "  <thead>\n",
       "    <tr style=\"text-align: right;\">\n",
       "      <th></th>\n",
       "      <th>count</th>\n",
       "      <th>mean_price_per_square_meter</th>\n",
       "    </tr>\n",
       "    <tr>\n",
       "      <th>locality_name</th>\n",
       "      <th></th>\n",
       "      <th></th>\n",
       "    </tr>\n",
       "  </thead>\n",
       "  <tbody>\n",
       "    <tr>\n",
       "      <th>Санкт-Петербург</th>\n",
       "      <td>15721</td>\n",
       "      <td>114849.0</td>\n",
       "    </tr>\n",
       "    <tr>\n",
       "      <th>Мурино</th>\n",
       "      <td>590</td>\n",
       "      <td>86088.0</td>\n",
       "    </tr>\n",
       "    <tr>\n",
       "      <th>Кудрово</th>\n",
       "      <td>472</td>\n",
       "      <td>95325.0</td>\n",
       "    </tr>\n",
       "    <tr>\n",
       "      <th>Шушары</th>\n",
       "      <td>440</td>\n",
       "      <td>78677.0</td>\n",
       "    </tr>\n",
       "    <tr>\n",
       "      <th>Всеволожск</th>\n",
       "      <td>398</td>\n",
       "      <td>68654.0</td>\n",
       "    </tr>\n",
       "    <tr>\n",
       "      <th>Пушкин</th>\n",
       "      <td>369</td>\n",
       "      <td>103126.0</td>\n",
       "    </tr>\n",
       "    <tr>\n",
       "      <th>Колпино</th>\n",
       "      <td>338</td>\n",
       "      <td>75425.0</td>\n",
       "    </tr>\n",
       "    <tr>\n",
       "      <th>Парголово</th>\n",
       "      <td>327</td>\n",
       "      <td>90176.0</td>\n",
       "    </tr>\n",
       "    <tr>\n",
       "      <th>Гатчина</th>\n",
       "      <td>307</td>\n",
       "      <td>68746.0</td>\n",
       "    </tr>\n",
       "    <tr>\n",
       "      <th>Выборг</th>\n",
       "      <td>237</td>\n",
       "      <td>58142.0</td>\n",
       "    </tr>\n",
       "  </tbody>\n",
       "</table>\n",
       "</div>"
      ],
      "text/plain": [
       "                 count  mean_price_per_square_meter\n",
       "locality_name                                      \n",
       "Санкт-Петербург  15721                     114849.0\n",
       "Мурино             590                      86088.0\n",
       "Кудрово            472                      95325.0\n",
       "Шушары             440                      78677.0\n",
       "Всеволожск         398                      68654.0\n",
       "Пушкин             369                     103126.0\n",
       "Колпино            338                      75425.0\n",
       "Парголово          327                      90176.0\n",
       "Гатчина            307                      68746.0\n",
       "Выборг             237                      58142.0"
      ]
     },
     "execution_count": 239,
     "metadata": {},
     "output_type": "execute_result"
    }
   ],
   "source": [
    "# 10 населённых пунктов с наибольшим числом объявлений\n",
    "popular_10 = real_estate_data.pivot_table(index='locality_name',\n",
    "                                          values='price_per_square_meter',\n",
    "                                          aggfunc=['count','mean'])\n",
    "popular_10.columns = ['count','mean_price_per_square_meter']\n",
    "popular_10 = popular_10.sort_values(by='count',ascending=False)\n",
    "popular_10 = popular_10[:10]\n",
    "popular_10['mean_price_per_square_meter'] = popular_10['mean_price_per_square_meter'].round()\n",
    "popular_10"
   ]
  },
  {
   "cell_type": "markdown",
   "metadata": {},
   "source": [
    "Самое дорогое жилье в Санкт-Петербурге:"
   ]
  },
  {
   "cell_type": "code",
   "execution_count": 240,
   "metadata": {},
   "outputs": [
    {
     "data": {
      "text/html": [
       "<div>\n",
       "<style scoped>\n",
       "    .dataframe tbody tr th:only-of-type {\n",
       "        vertical-align: middle;\n",
       "    }\n",
       "\n",
       "    .dataframe tbody tr th {\n",
       "        vertical-align: top;\n",
       "    }\n",
       "\n",
       "    .dataframe thead th {\n",
       "        text-align: right;\n",
       "    }\n",
       "</style>\n",
       "<table border=\"1\" class=\"dataframe\">\n",
       "  <thead>\n",
       "    <tr style=\"text-align: right;\">\n",
       "      <th></th>\n",
       "      <th>count</th>\n",
       "      <th>mean_price_per_square_meter</th>\n",
       "    </tr>\n",
       "    <tr>\n",
       "      <th>locality_name</th>\n",
       "      <th></th>\n",
       "      <th></th>\n",
       "    </tr>\n",
       "  </thead>\n",
       "  <tbody>\n",
       "    <tr>\n",
       "      <th>Санкт-Петербург</th>\n",
       "      <td>15721</td>\n",
       "      <td>114849.0</td>\n",
       "    </tr>\n",
       "  </tbody>\n",
       "</table>\n",
       "</div>"
      ],
      "text/plain": [
       "                 count  mean_price_per_square_meter\n",
       "locality_name                                      \n",
       "Санкт-Петербург  15721                     114849.0"
      ]
     },
     "execution_count": 240,
     "metadata": {},
     "output_type": "execute_result"
    }
   ],
   "source": [
    "popular_10[popular_10['mean_price_per_square_meter'] == popular_10['mean_price_per_square_meter'].max()]"
   ]
  },
  {
   "cell_type": "markdown",
   "metadata": {},
   "source": [
    "Самое дешёвое жилье в Выборге:"
   ]
  },
  {
   "cell_type": "code",
   "execution_count": 241,
   "metadata": {},
   "outputs": [
    {
     "data": {
      "text/html": [
       "<div>\n",
       "<style scoped>\n",
       "    .dataframe tbody tr th:only-of-type {\n",
       "        vertical-align: middle;\n",
       "    }\n",
       "\n",
       "    .dataframe tbody tr th {\n",
       "        vertical-align: top;\n",
       "    }\n",
       "\n",
       "    .dataframe thead th {\n",
       "        text-align: right;\n",
       "    }\n",
       "</style>\n",
       "<table border=\"1\" class=\"dataframe\">\n",
       "  <thead>\n",
       "    <tr style=\"text-align: right;\">\n",
       "      <th></th>\n",
       "      <th>count</th>\n",
       "      <th>mean_price_per_square_meter</th>\n",
       "    </tr>\n",
       "    <tr>\n",
       "      <th>locality_name</th>\n",
       "      <th></th>\n",
       "      <th></th>\n",
       "    </tr>\n",
       "  </thead>\n",
       "  <tbody>\n",
       "    <tr>\n",
       "      <th>Выборг</th>\n",
       "      <td>237</td>\n",
       "      <td>58142.0</td>\n",
       "    </tr>\n",
       "  </tbody>\n",
       "</table>\n",
       "</div>"
      ],
      "text/plain": [
       "               count  mean_price_per_square_meter\n",
       "locality_name                                    \n",
       "Выборг           237                      58142.0"
      ]
     },
     "execution_count": 241,
     "metadata": {},
     "output_type": "execute_result"
    }
   ],
   "source": [
    "popular_10[popular_10['mean_price_per_square_meter'] == popular_10['mean_price_per_square_meter'].min()]"
   ]
  },
  {
   "cell_type": "markdown",
   "metadata": {},
   "source": [
    "**Стоимость в зависимости от удаленности от центра в Санкт-Петербурге**"
   ]
  },
  {
   "cell_type": "code",
   "execution_count": 242,
   "metadata": {},
   "outputs": [
    {
     "data": {
      "text/html": [
       "<div>\n",
       "<style scoped>\n",
       "    .dataframe tbody tr th:only-of-type {\n",
       "        vertical-align: middle;\n",
       "    }\n",
       "\n",
       "    .dataframe tbody tr th {\n",
       "        vertical-align: top;\n",
       "    }\n",
       "\n",
       "    .dataframe thead th {\n",
       "        text-align: right;\n",
       "    }\n",
       "</style>\n",
       "<table border=\"1\" class=\"dataframe\">\n",
       "  <thead>\n",
       "    <tr style=\"text-align: right;\">\n",
       "      <th></th>\n",
       "      <th>total_images</th>\n",
       "      <th>last_price</th>\n",
       "      <th>total_area</th>\n",
       "      <th>first_day_exposition</th>\n",
       "      <th>rooms</th>\n",
       "      <th>ceiling_height</th>\n",
       "      <th>floors_total</th>\n",
       "      <th>living_area</th>\n",
       "      <th>floor</th>\n",
       "      <th>is_apartment</th>\n",
       "      <th>...</th>\n",
       "      <th>ponds_around3000</th>\n",
       "      <th>ponds_nearest</th>\n",
       "      <th>days_exposition</th>\n",
       "      <th>price_per_square_meter</th>\n",
       "      <th>weekday_exposition</th>\n",
       "      <th>month_exposition</th>\n",
       "      <th>year_exposition</th>\n",
       "      <th>floor_group</th>\n",
       "      <th>living_to_total_area</th>\n",
       "      <th>kitchen_to_total_area</th>\n",
       "    </tr>\n",
       "  </thead>\n",
       "  <tbody>\n",
       "    <tr>\n",
       "      <th>0</th>\n",
       "      <td>20</td>\n",
       "      <td>13000000.0</td>\n",
       "      <td>108.0</td>\n",
       "      <td>2019-03-07</td>\n",
       "      <td>3</td>\n",
       "      <td>2.70</td>\n",
       "      <td>16.0</td>\n",
       "      <td>51.0</td>\n",
       "      <td>8</td>\n",
       "      <td>False</td>\n",
       "      <td>...</td>\n",
       "      <td>2</td>\n",
       "      <td>755.0</td>\n",
       "      <td>NaN</td>\n",
       "      <td>120370.370370</td>\n",
       "      <td>7</td>\n",
       "      <td>3</td>\n",
       "      <td>2019</td>\n",
       "      <td>Другой</td>\n",
       "      <td>0.472222</td>\n",
       "      <td>0.231481</td>\n",
       "    </tr>\n",
       "    <tr>\n",
       "      <th>2</th>\n",
       "      <td>10</td>\n",
       "      <td>5196000.0</td>\n",
       "      <td>56.0</td>\n",
       "      <td>2015-08-20</td>\n",
       "      <td>2</td>\n",
       "      <td>NaN</td>\n",
       "      <td>5.0</td>\n",
       "      <td>34.3</td>\n",
       "      <td>4</td>\n",
       "      <td>False</td>\n",
       "      <td>...</td>\n",
       "      <td>2</td>\n",
       "      <td>574.0</td>\n",
       "      <td>558.0</td>\n",
       "      <td>92785.714286</td>\n",
       "      <td>20</td>\n",
       "      <td>8</td>\n",
       "      <td>2015</td>\n",
       "      <td>Другой</td>\n",
       "      <td>0.612500</td>\n",
       "      <td>0.148214</td>\n",
       "    </tr>\n",
       "    <tr>\n",
       "      <th>3</th>\n",
       "      <td>0</td>\n",
       "      <td>64900000.0</td>\n",
       "      <td>159.0</td>\n",
       "      <td>2015-07-24</td>\n",
       "      <td>3</td>\n",
       "      <td>NaN</td>\n",
       "      <td>14.0</td>\n",
       "      <td>NaN</td>\n",
       "      <td>9</td>\n",
       "      <td>False</td>\n",
       "      <td>...</td>\n",
       "      <td>3</td>\n",
       "      <td>234.0</td>\n",
       "      <td>424.0</td>\n",
       "      <td>408176.100629</td>\n",
       "      <td>24</td>\n",
       "      <td>7</td>\n",
       "      <td>2015</td>\n",
       "      <td>Другой</td>\n",
       "      <td>NaN</td>\n",
       "      <td>NaN</td>\n",
       "    </tr>\n",
       "    <tr>\n",
       "      <th>4</th>\n",
       "      <td>2</td>\n",
       "      <td>10000000.0</td>\n",
       "      <td>100.0</td>\n",
       "      <td>2018-06-19</td>\n",
       "      <td>2</td>\n",
       "      <td>3.03</td>\n",
       "      <td>14.0</td>\n",
       "      <td>32.0</td>\n",
       "      <td>13</td>\n",
       "      <td>False</td>\n",
       "      <td>...</td>\n",
       "      <td>1</td>\n",
       "      <td>48.0</td>\n",
       "      <td>121.0</td>\n",
       "      <td>100000.000000</td>\n",
       "      <td>19</td>\n",
       "      <td>6</td>\n",
       "      <td>2018</td>\n",
       "      <td>Другой</td>\n",
       "      <td>0.320000</td>\n",
       "      <td>0.410000</td>\n",
       "    </tr>\n",
       "    <tr>\n",
       "      <th>7</th>\n",
       "      <td>5</td>\n",
       "      <td>7915000.0</td>\n",
       "      <td>71.6</td>\n",
       "      <td>2019-04-18</td>\n",
       "      <td>2</td>\n",
       "      <td>NaN</td>\n",
       "      <td>24.0</td>\n",
       "      <td>NaN</td>\n",
       "      <td>22</td>\n",
       "      <td>False</td>\n",
       "      <td>...</td>\n",
       "      <td>0</td>\n",
       "      <td>NaN</td>\n",
       "      <td>NaN</td>\n",
       "      <td>110544.692737</td>\n",
       "      <td>18</td>\n",
       "      <td>4</td>\n",
       "      <td>2019</td>\n",
       "      <td>Другой</td>\n",
       "      <td>NaN</td>\n",
       "      <td>0.263966</td>\n",
       "    </tr>\n",
       "  </tbody>\n",
       "</table>\n",
       "<p>5 rows × 29 columns</p>\n",
       "</div>"
      ],
      "text/plain": [
       "   total_images  last_price  total_area first_day_exposition  rooms  \\\n",
       "0            20  13000000.0       108.0           2019-03-07      3   \n",
       "2            10   5196000.0        56.0           2015-08-20      2   \n",
       "3             0  64900000.0       159.0           2015-07-24      3   \n",
       "4             2  10000000.0       100.0           2018-06-19      2   \n",
       "7             5   7915000.0        71.6           2019-04-18      2   \n",
       "\n",
       "   ceiling_height  floors_total  living_area  floor  is_apartment  ...  \\\n",
       "0            2.70          16.0         51.0      8         False  ...   \n",
       "2             NaN           5.0         34.3      4         False  ...   \n",
       "3             NaN          14.0          NaN      9         False  ...   \n",
       "4            3.03          14.0         32.0     13         False  ...   \n",
       "7             NaN          24.0          NaN     22         False  ...   \n",
       "\n",
       "   ponds_around3000  ponds_nearest  days_exposition  price_per_square_meter  \\\n",
       "0                 2          755.0              NaN           120370.370370   \n",
       "2                 2          574.0            558.0            92785.714286   \n",
       "3                 3          234.0            424.0           408176.100629   \n",
       "4                 1           48.0            121.0           100000.000000   \n",
       "7                 0            NaN              NaN           110544.692737   \n",
       "\n",
       "  weekday_exposition  month_exposition  year_exposition  floor_group  \\\n",
       "0                  7                 3             2019       Другой   \n",
       "2                 20                 8             2015       Другой   \n",
       "3                 24                 7             2015       Другой   \n",
       "4                 19                 6             2018       Другой   \n",
       "7                 18                 4             2019       Другой   \n",
       "\n",
       "   living_to_total_area  kitchen_to_total_area  \n",
       "0              0.472222               0.231481  \n",
       "2              0.612500               0.148214  \n",
       "3                   NaN                    NaN  \n",
       "4              0.320000               0.410000  \n",
       "7                   NaN               0.263966  \n",
       "\n",
       "[5 rows x 29 columns]"
      ]
     },
     "execution_count": 242,
     "metadata": {},
     "output_type": "execute_result"
    }
   ],
   "source": [
    "spb_flats = real_estate_data[real_estate_data['locality_name'] == 'Санкт-Петербург']\n",
    "spb_flats.head()"
   ]
  },
  {
   "cell_type": "code",
   "execution_count": 243,
   "metadata": {},
   "outputs": [
    {
     "name": "stderr",
     "output_type": "stream",
     "text": [
      "/tmp/ipykernel_36/573521678.py:1: SettingWithCopyWarning: \n",
      "A value is trying to be set on a copy of a slice from a DataFrame.\n",
      "Try using .loc[row_indexer,col_indexer] = value instead\n",
      "\n",
      "See the caveats in the documentation: https://pandas.pydata.org/pandas-docs/stable/user_guide/indexing.html#returning-a-view-versus-a-copy\n",
      "  spb_flats['center_distance'] = (spb_flats['cityCenters_nearest']/1000).round()\n"
     ]
    }
   ],
   "source": [
    "spb_flats['center_distance'] = (spb_flats['cityCenters_nearest']/1000).round()\n",
    "#spb_flats['center_distance'] = spb_flats['cityCenters_nearest'].round()"
   ]
  },
  {
   "cell_type": "code",
   "execution_count": 244,
   "metadata": {},
   "outputs": [
    {
     "data": {
      "text/plain": [
       "<AxesSubplot:title={'center':'Стоимость жилья в Санкт-Петербурге в зависимости от удаленности от центра'}, xlabel='center_distance'>"
      ]
     },
     "execution_count": 244,
     "metadata": {},
     "output_type": "execute_result"
    },
    {
     "data": {
      "image/png": "[encoded data removed]",
      "text/plain": [
       "<Figure size 648x432 with 1 Axes>"
      ]
     },
     "metadata": {
      "needs_background": "light"
     },
     "output_type": "display_data"
    }
   ],
   "source": [
    "spb_distance_pivot = spb_flats.pivot_table(index='center_distance',\n",
    "                      values='price_per_square_meter',\n",
    "                      aggfunc='median'\n",
    "                     )\n",
    "spb_distance_pivot.plot(title='Стоимость жилья в Санкт-Петербурге в зависимости от удаленности от центра',\n",
    "                        figsize=(9,6))"
   ]
  },
  {
   "cell_type": "markdown",
   "metadata": {},
   "source": [
    "График зависимотси цен на жилье от удаленности от центра имеет несколько пиков.\n",
    "Пики на 20 и 27 километрах возможно соответсвуют каким-либо местным структурам.\n",
    "\n",
    "Первое падение цены происходит на 3 километрах, скорее всего это связанно с тем, что на таком расстоянии еще можно ходить до центра пешком или достаточно быстро добираться на наземном транспорте. Эту зону можно условно назвать \"пешеходной центральной зоной\".\n",
    "\n",
    "Второе падение цены происходит на 9 километрах. В этом радиусе поездки на общественном транспорте в центр еще не занимают слишком много времени. После 9ого километра цена постепенно падает.\n",
    "\n",
    "Можно сказать, что центральная зона имеет радиус 9 километров."
   ]
  },
  {
   "cell_type": "markdown",
   "metadata": {},
   "source": [
    "**Квартиры в центре**\n",
    "выполнено задание: «Выделите сегмент квартир в центре. Проанализируйте эту территорию и изучите следующие параметры: площадь, цена, число комнат, высота потолков. Также выделите факторы, которые влияют на стоимость квартиры (число комнат, этаж, удалённость от центра, дата размещения объявления). Сделайте выводы. Отличаются ли они от общих выводов по всей базе?»"
   ]
  },
  {
   "cell_type": "code",
   "execution_count": 245,
   "metadata": {},
   "outputs": [
    {
     "name": "stdout",
     "output_type": "stream",
     "text": [
      "<class 'pandas.core.frame.DataFrame'>\n",
      "Int64Index: 4715 entries, 3 to 23694\n",
      "Data columns (total 8 columns):\n",
      " #   Column                  Non-Null Count  Dtype  \n",
      "---  ------                  --------------  -----  \n",
      " 0   price_per_square_meter  4715 non-null   float64\n",
      " 1   rooms                   4715 non-null   int64  \n",
      " 2   total_area              4715 non-null   float64\n",
      " 3   cityCenters_nearest     4715 non-null   float64\n",
      " 4   floor_group             4715 non-null   object \n",
      " 5   weekday_exposition      4715 non-null   int64  \n",
      " 6   month_exposition        4715 non-null   int64  \n",
      " 7   year_exposition         4715 non-null   int64  \n",
      "dtypes: float64(3), int64(4), object(1)\n",
      "memory usage: 331.5+ KB\n"
     ]
    }
   ],
   "source": [
    "price_correlation_center = spb_flats[spb_flats['center_distance'] <= 9 ][['price_per_square_meter','rooms','total_area','cityCenters_nearest',\n",
    "                                      'floor_group','weekday_exposition','month_exposition','year_exposition']]\n",
    "price_correlation_center.info()"
   ]
  },
  {
   "cell_type": "code",
   "execution_count": 246,
   "metadata": {},
   "outputs": [
    {
     "data": {
      "text/html": [
       "<div>\n",
       "<style scoped>\n",
       "    .dataframe tbody tr th:only-of-type {\n",
       "        vertical-align: middle;\n",
       "    }\n",
       "\n",
       "    .dataframe tbody tr th {\n",
       "        vertical-align: top;\n",
       "    }\n",
       "\n",
       "    .dataframe thead th {\n",
       "        text-align: right;\n",
       "    }\n",
       "</style>\n",
       "<table border=\"1\" class=\"dataframe\">\n",
       "  <thead>\n",
       "    <tr style=\"text-align: right;\">\n",
       "      <th></th>\n",
       "      <th>price_per_square_meter</th>\n",
       "      <th>rooms</th>\n",
       "      <th>total_area</th>\n",
       "      <th>cityCenters_nearest</th>\n",
       "      <th>weekday_exposition</th>\n",
       "      <th>month_exposition</th>\n",
       "      <th>year_exposition</th>\n",
       "    </tr>\n",
       "  </thead>\n",
       "  <tbody>\n",
       "    <tr>\n",
       "      <th>price_per_square_meter</th>\n",
       "      <td>1.000000</td>\n",
       "      <td>0.031112</td>\n",
       "      <td>0.268930</td>\n",
       "      <td>-0.117536</td>\n",
       "      <td>0.032822</td>\n",
       "      <td>-0.008116</td>\n",
       "      <td>-0.000847</td>\n",
       "    </tr>\n",
       "    <tr>\n",
       "      <th>rooms</th>\n",
       "      <td>0.031112</td>\n",
       "      <td>1.000000</td>\n",
       "      <td>0.750790</td>\n",
       "      <td>-0.256693</td>\n",
       "      <td>0.005700</td>\n",
       "      <td>-0.003403</td>\n",
       "      <td>-0.074348</td>\n",
       "    </tr>\n",
       "    <tr>\n",
       "      <th>total_area</th>\n",
       "      <td>0.268930</td>\n",
       "      <td>0.750790</td>\n",
       "      <td>1.000000</td>\n",
       "      <td>-0.215909</td>\n",
       "      <td>0.020831</td>\n",
       "      <td>0.003980</td>\n",
       "      <td>-0.092314</td>\n",
       "    </tr>\n",
       "    <tr>\n",
       "      <th>cityCenters_nearest</th>\n",
       "      <td>-0.117536</td>\n",
       "      <td>-0.256693</td>\n",
       "      <td>-0.215909</td>\n",
       "      <td>1.000000</td>\n",
       "      <td>-0.021946</td>\n",
       "      <td>-0.012370</td>\n",
       "      <td>0.077346</td>\n",
       "    </tr>\n",
       "    <tr>\n",
       "      <th>weekday_exposition</th>\n",
       "      <td>0.032822</td>\n",
       "      <td>0.005700</td>\n",
       "      <td>0.020831</td>\n",
       "      <td>-0.021946</td>\n",
       "      <td>1.000000</td>\n",
       "      <td>-0.011009</td>\n",
       "      <td>-0.040937</td>\n",
       "    </tr>\n",
       "    <tr>\n",
       "      <th>month_exposition</th>\n",
       "      <td>-0.008116</td>\n",
       "      <td>-0.003403</td>\n",
       "      <td>0.003980</td>\n",
       "      <td>-0.012370</td>\n",
       "      <td>-0.011009</td>\n",
       "      <td>1.000000</td>\n",
       "      <td>-0.250688</td>\n",
       "    </tr>\n",
       "    <tr>\n",
       "      <th>year_exposition</th>\n",
       "      <td>-0.000847</td>\n",
       "      <td>-0.074348</td>\n",
       "      <td>-0.092314</td>\n",
       "      <td>0.077346</td>\n",
       "      <td>-0.040937</td>\n",
       "      <td>-0.250688</td>\n",
       "      <td>1.000000</td>\n",
       "    </tr>\n",
       "  </tbody>\n",
       "</table>\n",
       "</div>"
      ],
      "text/plain": [
       "                        price_per_square_meter     rooms  total_area  \\\n",
       "price_per_square_meter                1.000000  0.031112    0.268930   \n",
       "rooms                                 0.031112  1.000000    0.750790   \n",
       "total_area                            0.268930  0.750790    1.000000   \n",
       "cityCenters_nearest                  -0.117536 -0.256693   -0.215909   \n",
       "weekday_exposition                    0.032822  0.005700    0.020831   \n",
       "month_exposition                     -0.008116 -0.003403    0.003980   \n",
       "year_exposition                      -0.000847 -0.074348   -0.092314   \n",
       "\n",
       "                        cityCenters_nearest  weekday_exposition  \\\n",
       "price_per_square_meter            -0.117536            0.032822   \n",
       "rooms                             -0.256693            0.005700   \n",
       "total_area                        -0.215909            0.020831   \n",
       "cityCenters_nearest                1.000000           -0.021946   \n",
       "weekday_exposition                -0.021946            1.000000   \n",
       "month_exposition                  -0.012370           -0.011009   \n",
       "year_exposition                    0.077346           -0.040937   \n",
       "\n",
       "                        month_exposition  year_exposition  \n",
       "price_per_square_meter         -0.008116        -0.000847  \n",
       "rooms                          -0.003403        -0.074348  \n",
       "total_area                      0.003980        -0.092314  \n",
       "cityCenters_nearest            -0.012370         0.077346  \n",
       "weekday_exposition             -0.011009        -0.040937  \n",
       "month_exposition                1.000000        -0.250688  \n",
       "year_exposition                -0.250688         1.000000  "
      ]
     },
     "execution_count": 246,
     "metadata": {},
     "output_type": "execute_result"
    }
   ],
   "source": [
    "price_correlation_center.corr()"
   ]
  },
  {
   "cell_type": "markdown",
   "metadata": {},
   "source": [
    "Из таблицы видно, что наибольшее влияние на цену за квадратный метр оказывают общая площадь  и удаленность от центра.\n",
    "При этом удаленность от центра играет меньшую роль для квартир центре в сравнении с полными данными.\n",
    "Остальные параметры не влияют на цену за квадратный метр как для квартир в центре, так и для остальных квартир."
   ]
  },
  {
   "cell_type": "code",
   "execution_count": 257,
   "metadata": {
    "scrolled": true
   },
   "outputs": [
    {
     "data": {
      "text/plain": [
       "Text(0.5, 1.0, 'Зависимоть цены за кв.м от общей площади\\n для центра города')"
      ]
     },
     "execution_count": 257,
     "metadata": {},
     "output_type": "execute_result"
    },
    {
     "data": {
      "image/png": "[encoded data removed]",
      "text/plain": [
       "<Figure size 432x288 with 1 Axes>"
      ]
     },
     "metadata": {
      "needs_background": "light"
     },
     "output_type": "display_data"
    }
   ],
   "source": [
    "# Зависимоть цены за кв.м от общей площади\n",
    "sns.regplot(data=price_correlation_center,\n",
    "            x=price_correlation_center['total_area'],\n",
    "            y=price_correlation_center['price_per_square_meter'])\n",
    "plt.title('Зависимоть цены за кв.м от общей площади\\n для центра города')"
   ]
  },
  {
   "cell_type": "code",
   "execution_count": 258,
   "metadata": {},
   "outputs": [
    {
     "data": {
      "text/plain": [
       "<AxesSubplot:title={'center':'Зависимоть цены за кв.м от удаленности от \\n центра города для центра города'}, xlabel='cityCenters_nearest', ylabel='price_per_square_meter'>"
      ]
     },
     "execution_count": 258,
     "metadata": {},
     "output_type": "execute_result"
    },
    {
     "data": {
      "image/png": "[encoded data removed]",
      "text/plain": [
       "<Figure size 432x288 with 1 Axes>"
      ]
     },
     "metadata": {
      "needs_background": "light"
     },
     "output_type": "display_data"
    }
   ],
   "source": [
    "price_correlation_center.plot(kind='scatter',\n",
    "                       x='cityCenters_nearest',\n",
    "                       y='price_per_square_meter',\n",
    "                       title='Зависимоть цены за кв.м от удаленности от \\n центра города для центра города'\n",
    "                      )"
   ]
  },
  {
   "cell_type": "code",
   "execution_count": null,
   "metadata": {},
   "outputs": [],
   "source": []
  },
  {
   "cell_type": "markdown",
   "metadata": {},
   "source": [
    "## Общий вывод"
   ]
  },
  {
   "cell_type": "markdown",
   "metadata": {},
   "source": [
    "В этом проекте были проанализированны о продаже квартир из Яндекс недвижимости.\n",
    "\n",
    "На этапе предобработки данных были частично заполнены пропуски в данных, также были исправлены названия населенных пунктов - приведены к одному написанию, чтобы избежать  дубликатов.\n",
    "\n",
    "Дополнительно, в таблицу были добавлены следующая информация:\n",
    "- цена квадратного метра\n",
    "- день недели, месяц и год публикации объявления\n",
    "- этаж квартиры; варианты — первый, последний, другой, неопределен\n",
    "- посчитано и добавлено в таблицу: соотношение жилой и общей площади, а также отношение площади кухни к общей\n",
    "\n",
    "Анализ данных показал следующее:\n",
    "* Цена за квадратный метр прямо коррелирует с общей площадью и обратно коррелирует с удаленностью от центра. Остальные параметры существенно не влияют на цену. При этом данные зависимости сохраняются как для всего объема квартир, так и только для тех, которые входят в центральную зону Санкт-Петербурга.\n",
    "* Радиус центральной зоны в Санкт-Петербурге составляет 9 км.Также можно выделить условно \"пешеходную\" центральную зону радиусом 3 км.\n",
    "\n"
   ]
  }
 ],
 "metadata": {
  "ExecuteTimeLog": [
   {
    "duration": 207,
    "start_time": "2022-03-12T15:54:54.502Z"
   },
   {
    "duration": 663,
    "start_time": "2022-03-12T15:54:57.158Z"
   },
   {
    "duration": 3,
    "start_time": "2022-03-12T15:55:31.542Z"
   },
   {
    "duration": 183,
    "start_time": "2022-03-12T16:04:01.726Z"
   },
   {
    "duration": 176,
    "start_time": "2022-03-12T16:33:37.969Z"
   },
   {
    "duration": 193,
    "start_time": "2022-03-12T16:34:18.275Z"
   },
   {
    "duration": 255,
    "start_time": "2022-03-12T16:35:14.826Z"
   },
   {
    "duration": 26,
    "start_time": "2022-03-12T16:50:48.135Z"
   },
   {
    "duration": 5,
    "start_time": "2022-03-12T16:54:44.832Z"
   },
   {
    "duration": 4891,
    "start_time": "2022-03-12T16:55:09.131Z"
   },
   {
    "duration": 6,
    "start_time": "2022-03-12T16:55:30.695Z"
   },
   {
    "duration": 193,
    "start_time": "2022-03-12T17:03:37.764Z"
   },
   {
    "duration": 9,
    "start_time": "2022-03-12T17:35:26.377Z"
   },
   {
    "duration": 59,
    "start_time": "2022-03-12T17:37:20.238Z"
   },
   {
    "duration": 10,
    "start_time": "2022-03-12T17:37:25.411Z"
   },
   {
    "duration": 292,
    "start_time": "2022-03-12T17:37:55.799Z"
   },
   {
    "duration": 10,
    "start_time": "2022-03-12T17:38:00.998Z"
   },
   {
    "duration": 5,
    "start_time": "2022-03-12T17:38:04.005Z"
   },
   {
    "duration": 11,
    "start_time": "2022-03-12T17:38:08.532Z"
   },
   {
    "duration": 11,
    "start_time": "2022-03-12T17:39:44.569Z"
   },
   {
    "duration": 5,
    "start_time": "2022-03-12T17:40:08.168Z"
   },
   {
    "duration": 10,
    "start_time": "2022-03-12T17:40:10.467Z"
   },
   {
    "duration": 11,
    "start_time": "2022-03-12T17:40:14.699Z"
   },
   {
    "duration": 7,
    "start_time": "2022-03-12T17:41:34.622Z"
   },
   {
    "duration": 6,
    "start_time": "2022-03-12T17:42:10.176Z"
   },
   {
    "duration": 189,
    "start_time": "2022-03-12T17:42:28.565Z"
   },
   {
    "duration": 201,
    "start_time": "2022-03-12T17:42:33.857Z"
   },
   {
    "duration": 9,
    "start_time": "2022-03-12T17:42:37.654Z"
   },
   {
    "duration": 6,
    "start_time": "2022-03-12T17:46:36.138Z"
   },
   {
    "duration": 4,
    "start_time": "2022-03-12T17:48:23.797Z"
   },
   {
    "duration": 72,
    "start_time": "2022-03-12T18:48:51.243Z"
   },
   {
    "duration": 7,
    "start_time": "2022-03-12T18:55:41.031Z"
   },
   {
    "duration": 8,
    "start_time": "2022-03-12T18:58:02.698Z"
   },
   {
    "duration": 8,
    "start_time": "2022-03-12T18:58:11.829Z"
   },
   {
    "duration": 9,
    "start_time": "2022-03-12T18:58:31.497Z"
   },
   {
    "duration": 9,
    "start_time": "2022-03-12T18:58:42.853Z"
   },
   {
    "duration": 10,
    "start_time": "2022-03-12T18:58:50.035Z"
   },
   {
    "duration": 8,
    "start_time": "2022-03-12T19:00:05.968Z"
   },
   {
    "duration": 65,
    "start_time": "2022-03-12T19:00:50.947Z"
   },
   {
    "duration": 8,
    "start_time": "2022-03-12T19:01:13.003Z"
   },
   {
    "duration": 10,
    "start_time": "2022-03-12T19:01:25.554Z"
   },
   {
    "duration": 196,
    "start_time": "2022-03-12T19:01:32.009Z"
   },
   {
    "duration": 10,
    "start_time": "2022-03-12T19:01:45.479Z"
   },
   {
    "duration": 9,
    "start_time": "2022-03-12T19:02:17.507Z"
   },
   {
    "duration": 10,
    "start_time": "2022-03-12T19:03:29.100Z"
   },
   {
    "duration": 8,
    "start_time": "2022-03-12T19:05:06.987Z"
   },
   {
    "duration": 216,
    "start_time": "2022-03-12T19:09:06.878Z"
   },
   {
    "duration": 8,
    "start_time": "2022-03-12T19:10:00.493Z"
   },
   {
    "duration": 11,
    "start_time": "2022-03-12T19:10:08.426Z"
   },
   {
    "duration": 8,
    "start_time": "2022-03-12T19:10:30.092Z"
   },
   {
    "duration": 7,
    "start_time": "2022-03-12T19:10:37.830Z"
   },
   {
    "duration": 5,
    "start_time": "2022-03-12T19:13:10.427Z"
   },
   {
    "duration": 6,
    "start_time": "2022-03-12T19:13:24.305Z"
   },
   {
    "duration": 5,
    "start_time": "2022-03-12T19:13:53.578Z"
   },
   {
    "duration": 7,
    "start_time": "2022-03-12T19:14:02.744Z"
   },
   {
    "duration": 11,
    "start_time": "2022-03-12T19:15:23.580Z"
   },
   {
    "duration": 10,
    "start_time": "2022-03-12T19:15:43.651Z"
   },
   {
    "duration": 9,
    "start_time": "2022-03-12T19:16:58.708Z"
   },
   {
    "duration": 4654,
    "start_time": "2022-03-12T19:17:20.853Z"
   },
   {
    "duration": 14,
    "start_time": "2022-03-12T19:18:03.067Z"
   },
   {
    "duration": 18,
    "start_time": "2022-03-12T19:20:47.573Z"
   },
   {
    "duration": 7,
    "start_time": "2022-03-12T19:27:22.602Z"
   },
   {
    "duration": 12,
    "start_time": "2022-03-12T19:27:30.511Z"
   },
   {
    "duration": 14,
    "start_time": "2022-03-12T19:27:35.970Z"
   },
   {
    "duration": 16,
    "start_time": "2022-03-12T19:29:09.561Z"
   },
   {
    "duration": 5,
    "start_time": "2022-03-12T19:29:51.803Z"
   },
   {
    "duration": 13,
    "start_time": "2022-03-12T19:31:46.981Z"
   },
   {
    "duration": 6,
    "start_time": "2022-03-12T19:32:13.988Z"
   },
   {
    "duration": 7,
    "start_time": "2022-03-12T19:32:34.119Z"
   },
   {
    "duration": 7,
    "start_time": "2022-03-12T19:32:39.536Z"
   },
   {
    "duration": 36,
    "start_time": "2022-03-12T19:33:52.648Z"
   },
   {
    "duration": 4526,
    "start_time": "2022-03-12T19:34:55.242Z"
   },
   {
    "duration": 7,
    "start_time": "2022-03-12T19:35:05.376Z"
   },
   {
    "duration": 7,
    "start_time": "2022-03-12T19:35:14.512Z"
   },
   {
    "duration": 6,
    "start_time": "2022-03-12T19:35:21.121Z"
   },
   {
    "duration": 5,
    "start_time": "2022-03-12T19:36:31.784Z"
   },
   {
    "duration": 7,
    "start_time": "2022-03-12T19:36:41.708Z"
   },
   {
    "duration": 4483,
    "start_time": "2022-03-12T19:43:46.660Z"
   },
   {
    "duration": 4412,
    "start_time": "2022-03-12T19:44:02.322Z"
   },
   {
    "duration": 178,
    "start_time": "2022-03-12T19:44:20.417Z"
   },
   {
    "duration": 6,
    "start_time": "2022-03-12T19:44:29.302Z"
   },
   {
    "duration": 186,
    "start_time": "2022-03-12T19:45:08.086Z"
   },
   {
    "duration": 19,
    "start_time": "2022-03-12T19:45:11.400Z"
   },
   {
    "duration": 217,
    "start_time": "2022-03-13T12:55:09.644Z"
   },
   {
    "duration": 613,
    "start_time": "2022-03-13T12:55:22.379Z"
   },
   {
    "duration": 178,
    "start_time": "2022-03-13T12:55:23.226Z"
   },
   {
    "duration": 10,
    "start_time": "2022-03-13T12:55:27.486Z"
   },
   {
    "duration": 6,
    "start_time": "2022-03-13T12:55:29.512Z"
   },
   {
    "duration": 6,
    "start_time": "2022-03-13T12:55:30.701Z"
   },
   {
    "duration": 7,
    "start_time": "2022-03-13T12:55:33.642Z"
   },
   {
    "duration": 21,
    "start_time": "2022-03-13T12:55:34.548Z"
   },
   {
    "duration": 32,
    "start_time": "2022-03-13T12:55:41.906Z"
   },
   {
    "duration": 23,
    "start_time": "2022-03-13T13:03:46.467Z"
   },
   {
    "duration": 92,
    "start_time": "2022-03-13T13:04:32.176Z"
   },
   {
    "duration": 31,
    "start_time": "2022-03-13T13:20:22.951Z"
   },
   {
    "duration": 97,
    "start_time": "2022-03-13T13:20:25.949Z"
   },
   {
    "duration": 113,
    "start_time": "2022-03-13T13:21:08.115Z"
   },
   {
    "duration": 113,
    "start_time": "2022-03-13T13:55:05.477Z"
   },
   {
    "duration": 11,
    "start_time": "2022-03-13T14:02:50.525Z"
   },
   {
    "duration": 6,
    "start_time": "2022-03-13T14:03:09.280Z"
   },
   {
    "duration": 208,
    "start_time": "2022-03-13T14:03:20.085Z"
   },
   {
    "duration": 8,
    "start_time": "2022-03-13T14:03:25.321Z"
   },
   {
    "duration": 13,
    "start_time": "2022-03-13T14:09:48.434Z"
   },
   {
    "duration": 8,
    "start_time": "2022-03-13T14:10:04.471Z"
   },
   {
    "duration": 10,
    "start_time": "2022-03-13T14:59:14.003Z"
   },
   {
    "duration": 57,
    "start_time": "2022-03-13T15:02:01.606Z"
   },
   {
    "duration": 14,
    "start_time": "2022-03-13T15:02:06.529Z"
   },
   {
    "duration": 11,
    "start_time": "2022-03-13T15:05:55.293Z"
   },
   {
    "duration": 10,
    "start_time": "2022-03-13T15:07:19.315Z"
   },
   {
    "duration": 9,
    "start_time": "2022-03-13T15:08:17.386Z"
   },
   {
    "duration": 11,
    "start_time": "2022-03-13T15:09:20.503Z"
   },
   {
    "duration": 2,
    "start_time": "2022-03-13T15:09:59.334Z"
   },
   {
    "duration": 4175,
    "start_time": "2022-03-13T15:14:14.596Z"
   },
   {
    "duration": 9,
    "start_time": "2022-03-13T15:14:32.688Z"
   },
   {
    "duration": 10,
    "start_time": "2022-03-13T15:15:48.513Z"
   },
   {
    "duration": 9,
    "start_time": "2022-03-13T15:19:13.194Z"
   },
   {
    "duration": 4407,
    "start_time": "2022-03-13T15:20:01.218Z"
   },
   {
    "duration": -2173,
    "start_time": "2022-03-13T15:20:25.346Z"
   },
   {
    "duration": 4302,
    "start_time": "2022-03-13T15:20:28.051Z"
   },
   {
    "duration": 9,
    "start_time": "2022-03-13T15:20:55.508Z"
   },
   {
    "duration": 16,
    "start_time": "2022-03-13T15:21:16.878Z"
   },
   {
    "duration": 8,
    "start_time": "2022-03-13T15:21:38.209Z"
   },
   {
    "duration": 9,
    "start_time": "2022-03-13T15:22:24.886Z"
   },
   {
    "duration": 16,
    "start_time": "2022-03-13T15:50:41.077Z"
   },
   {
    "duration": 193,
    "start_time": "2022-03-13T15:50:52.484Z"
   },
   {
    "duration": 2,
    "start_time": "2022-03-13T15:51:09.333Z"
   },
   {
    "duration": 15,
    "start_time": "2022-03-13T15:51:27.895Z"
   },
   {
    "duration": 183,
    "start_time": "2022-03-13T15:51:50.356Z"
   },
   {
    "duration": 16,
    "start_time": "2022-03-13T15:51:57.983Z"
   },
   {
    "duration": 15,
    "start_time": "2022-03-13T15:52:06.493Z"
   },
   {
    "duration": 38,
    "start_time": "2022-03-13T15:54:03.714Z"
   },
   {
    "duration": 13,
    "start_time": "2022-03-13T15:55:35.786Z"
   },
   {
    "duration": 182,
    "start_time": "2022-03-13T15:55:54.133Z"
   },
   {
    "duration": 14,
    "start_time": "2022-03-13T15:56:03.545Z"
   },
   {
    "duration": 8,
    "start_time": "2022-03-13T16:07:21.559Z"
   },
   {
    "duration": 9,
    "start_time": "2022-03-13T16:08:26.682Z"
   },
   {
    "duration": 20,
    "start_time": "2022-03-13T16:12:52.858Z"
   },
   {
    "duration": 17,
    "start_time": "2022-03-13T16:13:23.309Z"
   },
   {
    "duration": 17,
    "start_time": "2022-03-13T16:14:01.541Z"
   },
   {
    "duration": 58,
    "start_time": "2022-03-13T16:15:50.193Z"
   },
   {
    "duration": 13,
    "start_time": "2022-03-13T16:16:21.017Z"
   },
   {
    "duration": 12,
    "start_time": "2022-03-13T16:17:19.109Z"
   },
   {
    "duration": 11,
    "start_time": "2022-03-13T16:17:44.483Z"
   },
   {
    "duration": 16,
    "start_time": "2022-03-13T16:20:15.340Z"
   },
   {
    "duration": 17,
    "start_time": "2022-03-13T16:24:39.258Z"
   },
   {
    "duration": 15,
    "start_time": "2022-03-13T16:30:19.086Z"
   },
   {
    "duration": 8,
    "start_time": "2022-03-13T16:34:51.636Z"
   },
   {
    "duration": 16,
    "start_time": "2022-03-13T16:35:06.900Z"
   },
   {
    "duration": 6,
    "start_time": "2022-03-13T16:36:52.426Z"
   },
   {
    "duration": 15,
    "start_time": "2022-03-13T16:38:29.758Z"
   },
   {
    "duration": 6,
    "start_time": "2022-03-13T16:40:03.781Z"
   },
   {
    "duration": 16,
    "start_time": "2022-03-13T16:40:11.608Z"
   },
   {
    "duration": 7,
    "start_time": "2022-03-13T16:42:42.283Z"
   },
   {
    "duration": 6,
    "start_time": "2022-03-13T16:42:53.396Z"
   },
   {
    "duration": 9,
    "start_time": "2022-03-13T16:43:54.154Z"
   },
   {
    "duration": 8,
    "start_time": "2022-03-13T16:44:39.289Z"
   },
   {
    "duration": 9,
    "start_time": "2022-03-13T16:45:15.368Z"
   },
   {
    "duration": 3,
    "start_time": "2022-03-13T16:45:29.075Z"
   },
   {
    "duration": 181,
    "start_time": "2022-03-13T16:45:29.947Z"
   },
   {
    "duration": 11,
    "start_time": "2022-03-13T16:45:33.950Z"
   },
   {
    "duration": 6,
    "start_time": "2022-03-13T16:45:36.271Z"
   },
   {
    "duration": 7,
    "start_time": "2022-03-13T16:45:37.378Z"
   },
   {
    "duration": 6,
    "start_time": "2022-03-13T16:45:39.412Z"
   },
   {
    "duration": 118,
    "start_time": "2022-03-13T16:45:40.538Z"
   },
   {
    "duration": 9,
    "start_time": "2022-03-13T16:45:44.989Z"
   },
   {
    "duration": 13,
    "start_time": "2022-03-13T16:45:48.792Z"
   },
   {
    "duration": 9,
    "start_time": "2022-03-13T16:45:53.804Z"
   },
   {
    "duration": 17,
    "start_time": "2022-03-13T16:45:56.940Z"
   },
   {
    "duration": 17,
    "start_time": "2022-03-13T16:46:13.308Z"
   },
   {
    "duration": 5,
    "start_time": "2022-03-13T16:46:19.470Z"
   },
   {
    "duration": 7,
    "start_time": "2022-03-13T16:46:20.522Z"
   },
   {
    "duration": 17,
    "start_time": "2022-03-13T16:46:31.865Z"
   },
   {
    "duration": 7,
    "start_time": "2022-03-13T16:46:35.018Z"
   },
   {
    "duration": 8,
    "start_time": "2022-03-13T16:46:38.098Z"
   },
   {
    "duration": 6,
    "start_time": "2022-03-13T16:46:42.565Z"
   },
   {
    "duration": 7,
    "start_time": "2022-03-13T16:46:44.201Z"
   },
   {
    "duration": 9,
    "start_time": "2022-03-13T16:47:58.891Z"
   },
   {
    "duration": 8,
    "start_time": "2022-03-13T16:48:23.078Z"
   },
   {
    "duration": 8,
    "start_time": "2022-03-13T16:48:24.615Z"
   },
   {
    "duration": 7,
    "start_time": "2022-03-13T16:51:14.971Z"
   },
   {
    "duration": 8,
    "start_time": "2022-03-13T16:51:17.292Z"
   },
   {
    "duration": 6,
    "start_time": "2022-03-13T16:52:19.576Z"
   },
   {
    "duration": 7,
    "start_time": "2022-03-13T16:52:23.074Z"
   },
   {
    "duration": 35,
    "start_time": "2022-03-13T16:53:08.157Z"
   },
   {
    "duration": 8,
    "start_time": "2022-03-13T16:56:03.793Z"
   },
   {
    "duration": 6,
    "start_time": "2022-03-13T16:56:21.610Z"
   },
   {
    "duration": 9,
    "start_time": "2022-03-13T16:56:38.065Z"
   },
   {
    "duration": 12,
    "start_time": "2022-03-13T16:57:21.064Z"
   },
   {
    "duration": 8,
    "start_time": "2022-03-13T16:58:32.302Z"
   },
   {
    "duration": 6,
    "start_time": "2022-03-13T16:58:51.450Z"
   },
   {
    "duration": 11,
    "start_time": "2022-03-13T16:59:07.786Z"
   },
   {
    "duration": 8,
    "start_time": "2022-03-13T17:00:59.868Z"
   },
   {
    "duration": 8,
    "start_time": "2022-03-13T17:01:16.427Z"
   },
   {
    "duration": 7,
    "start_time": "2022-03-13T17:01:47.345Z"
   },
   {
    "duration": 9,
    "start_time": "2022-03-13T17:02:00.359Z"
   },
   {
    "duration": 11,
    "start_time": "2022-03-13T17:02:02.480Z"
   },
   {
    "duration": 5,
    "start_time": "2022-03-13T17:03:38.355Z"
   },
   {
    "duration": 5,
    "start_time": "2022-03-13T17:03:46.506Z"
   },
   {
    "duration": 5,
    "start_time": "2022-03-13T17:03:54.210Z"
   },
   {
    "duration": 9,
    "start_time": "2022-03-13T17:05:19.893Z"
   },
   {
    "duration": 23,
    "start_time": "2022-03-13T17:10:14.717Z"
   },
   {
    "duration": 9,
    "start_time": "2022-03-13T17:10:29.701Z"
   },
   {
    "duration": 8,
    "start_time": "2022-03-13T17:10:32.266Z"
   },
   {
    "duration": 9,
    "start_time": "2022-03-13T17:10:34.452Z"
   },
   {
    "duration": 6,
    "start_time": "2022-03-13T17:11:35.211Z"
   },
   {
    "duration": 6,
    "start_time": "2022-03-13T17:11:57.436Z"
   },
   {
    "duration": 9,
    "start_time": "2022-03-13T17:12:20.370Z"
   },
   {
    "duration": 8,
    "start_time": "2022-03-13T17:14:03.160Z"
   },
   {
    "duration": 26,
    "start_time": "2022-03-13T17:34:19.262Z"
   },
   {
    "duration": 25,
    "start_time": "2022-03-13T17:34:22.962Z"
   },
   {
    "duration": 23,
    "start_time": "2022-03-13T17:34:24.889Z"
   },
   {
    "duration": 10,
    "start_time": "2022-03-13T17:34:28.657Z"
   },
   {
    "duration": 8,
    "start_time": "2022-03-13T17:34:32.487Z"
   },
   {
    "duration": 722,
    "start_time": "2022-03-14T09:47:43.668Z"
   },
   {
    "duration": 236,
    "start_time": "2022-03-14T09:47:44.392Z"
   },
   {
    "duration": 11,
    "start_time": "2022-03-14T09:47:44.631Z"
   },
   {
    "duration": 6,
    "start_time": "2022-03-14T09:47:44.644Z"
   },
   {
    "duration": 9,
    "start_time": "2022-03-14T09:47:44.652Z"
   },
   {
    "duration": 5,
    "start_time": "2022-03-14T09:47:44.663Z"
   },
   {
    "duration": 151,
    "start_time": "2022-03-14T09:47:44.670Z"
   },
   {
    "duration": 8,
    "start_time": "2022-03-14T09:47:44.824Z"
   },
   {
    "duration": 16,
    "start_time": "2022-03-14T09:47:44.834Z"
   },
   {
    "duration": 3,
    "start_time": "2022-03-14T09:47:44.851Z"
   },
   {
    "duration": 11,
    "start_time": "2022-03-14T09:47:44.855Z"
   },
   {
    "duration": 41,
    "start_time": "2022-03-14T09:47:44.868Z"
   },
   {
    "duration": 8,
    "start_time": "2022-03-14T09:47:44.910Z"
   },
   {
    "duration": 7,
    "start_time": "2022-03-14T09:47:44.920Z"
   },
   {
    "duration": 17,
    "start_time": "2022-03-14T09:47:44.930Z"
   },
   {
    "duration": 8,
    "start_time": "2022-03-14T09:47:44.949Z"
   },
   {
    "duration": 44,
    "start_time": "2022-03-14T09:47:44.958Z"
   },
   {
    "duration": 8,
    "start_time": "2022-03-14T09:47:45.005Z"
   },
   {
    "duration": 30,
    "start_time": "2022-03-14T09:47:45.016Z"
   },
   {
    "duration": 13,
    "start_time": "2022-03-14T09:47:45.049Z"
   },
   {
    "duration": 435,
    "start_time": "2022-03-14T09:47:45.064Z"
   },
   {
    "duration": -81,
    "start_time": "2022-03-14T09:47:45.582Z"
   },
   {
    "duration": -92,
    "start_time": "2022-03-14T09:47:45.594Z"
   },
   {
    "duration": -103,
    "start_time": "2022-03-14T09:47:45.606Z"
   },
   {
    "duration": -107,
    "start_time": "2022-03-14T09:47:45.611Z"
   },
   {
    "duration": -119,
    "start_time": "2022-03-14T09:47:45.624Z"
   },
   {
    "duration": -122,
    "start_time": "2022-03-14T09:47:45.628Z"
   },
   {
    "duration": -130,
    "start_time": "2022-03-14T09:47:45.638Z"
   },
   {
    "duration": 419,
    "start_time": "2022-03-14T09:52:49.474Z"
   },
   {
    "duration": 9,
    "start_time": "2022-03-14T09:53:44.800Z"
   },
   {
    "duration": 27,
    "start_time": "2022-03-14T09:53:46.257Z"
   },
   {
    "duration": 26,
    "start_time": "2022-03-14T09:53:47.400Z"
   },
   {
    "duration": 25,
    "start_time": "2022-03-14T09:53:48.155Z"
   },
   {
    "duration": 10,
    "start_time": "2022-03-14T09:53:50.009Z"
   },
   {
    "duration": 8,
    "start_time": "2022-03-14T09:53:52.203Z"
   },
   {
    "duration": 4,
    "start_time": "2022-03-14T10:06:09.853Z"
   },
   {
    "duration": 12,
    "start_time": "2022-03-14T10:06:13.287Z"
   },
   {
    "duration": 6,
    "start_time": "2022-03-14T10:06:30.278Z"
   },
   {
    "duration": 5,
    "start_time": "2022-03-14T10:44:36.010Z"
   },
   {
    "duration": 14,
    "start_time": "2022-03-14T10:44:39.954Z"
   },
   {
    "duration": 5,
    "start_time": "2022-03-14T10:45:07.025Z"
   },
   {
    "duration": 793,
    "start_time": "2022-03-14T11:02:43.669Z"
   },
   {
    "duration": 686,
    "start_time": "2022-03-14T11:03:22.988Z"
   },
   {
    "duration": 102,
    "start_time": "2022-03-14T11:03:59.943Z"
   },
   {
    "duration": 2129,
    "start_time": "2022-03-14T11:04:04.056Z"
   },
   {
    "duration": 2057,
    "start_time": "2022-03-14T11:04:39.364Z"
   },
   {
    "duration": 1854,
    "start_time": "2022-03-14T11:06:56.562Z"
   },
   {
    "duration": 15,
    "start_time": "2022-03-14T11:07:22.708Z"
   },
   {
    "duration": 9,
    "start_time": "2022-03-14T11:10:39.968Z"
   },
   {
    "duration": 10,
    "start_time": "2022-03-14T11:11:05.204Z"
   },
   {
    "duration": 13,
    "start_time": "2022-03-14T11:12:10.241Z"
   },
   {
    "duration": 9,
    "start_time": "2022-03-14T11:12:12.649Z"
   },
   {
    "duration": 8,
    "start_time": "2022-03-14T11:14:28.679Z"
   },
   {
    "duration": 5,
    "start_time": "2022-03-14T11:14:39.560Z"
   },
   {
    "duration": 6,
    "start_time": "2022-03-14T11:14:45.173Z"
   },
   {
    "duration": 5,
    "start_time": "2022-03-14T11:14:48.461Z"
   },
   {
    "duration": 17,
    "start_time": "2022-03-14T11:16:01.682Z"
   },
   {
    "duration": 15,
    "start_time": "2022-03-14T11:16:28.954Z"
   },
   {
    "duration": 13,
    "start_time": "2022-03-14T11:16:33.853Z"
   },
   {
    "duration": 19,
    "start_time": "2022-03-14T11:16:42.425Z"
   },
   {
    "duration": 12,
    "start_time": "2022-03-14T11:16:46.059Z"
   },
   {
    "duration": 7447,
    "start_time": "2022-03-14T11:17:32.616Z"
   },
   {
    "duration": 12,
    "start_time": "2022-03-14T11:17:42.496Z"
   },
   {
    "duration": 10,
    "start_time": "2022-03-14T11:17:48.198Z"
   },
   {
    "duration": 15,
    "start_time": "2022-03-14T11:19:26.022Z"
   },
   {
    "duration": 10,
    "start_time": "2022-03-14T11:19:33.553Z"
   },
   {
    "duration": 18,
    "start_time": "2022-03-14T11:19:54.838Z"
   },
   {
    "duration": 12,
    "start_time": "2022-03-14T11:19:59.243Z"
   },
   {
    "duration": 15,
    "start_time": "2022-03-14T11:20:23.417Z"
   },
   {
    "duration": 8,
    "start_time": "2022-03-14T11:20:36.661Z"
   },
   {
    "duration": 291,
    "start_time": "2022-03-14T11:23:38.400Z"
   },
   {
    "duration": 24,
    "start_time": "2022-03-14T11:25:09.512Z"
   },
   {
    "duration": 12,
    "start_time": "2022-03-14T11:25:16.387Z"
   },
   {
    "duration": 8,
    "start_time": "2022-03-14T12:18:29.632Z"
   },
   {
    "duration": 8118,
    "start_time": "2022-03-14T12:18:45.450Z"
   },
   {
    "duration": 17,
    "start_time": "2022-03-14T12:20:46.002Z"
   },
   {
    "duration": 12,
    "start_time": "2022-03-14T12:20:51.329Z"
   },
   {
    "duration": 9,
    "start_time": "2022-03-14T12:21:06.998Z"
   },
   {
    "duration": 15,
    "start_time": "2022-03-14T12:22:19.480Z"
   },
   {
    "duration": 4,
    "start_time": "2022-03-14T16:42:21.994Z"
   },
   {
    "duration": 178,
    "start_time": "2022-03-14T16:42:24.752Z"
   },
   {
    "duration": 328,
    "start_time": "2022-03-14T16:42:49.440Z"
   },
   {
    "duration": 429,
    "start_time": "2022-03-14T16:44:03.774Z"
   },
   {
    "duration": 336,
    "start_time": "2022-03-14T16:44:31.610Z"
   },
   {
    "duration": 355,
    "start_time": "2022-03-14T16:44:36.772Z"
   },
   {
    "duration": 275,
    "start_time": "2022-03-14T16:49:19.908Z"
   },
   {
    "duration": 9,
    "start_time": "2022-03-14T16:49:31.797Z"
   },
   {
    "duration": 9,
    "start_time": "2022-03-14T16:50:01.502Z"
   },
   {
    "duration": 9,
    "start_time": "2022-03-14T16:50:05.561Z"
   },
   {
    "duration": 342,
    "start_time": "2022-03-14T16:52:16.531Z"
   },
   {
    "duration": 331,
    "start_time": "2022-03-14T16:52:26.855Z"
   },
   {
    "duration": 422,
    "start_time": "2022-03-14T16:52:33.153Z"
   },
   {
    "duration": 252,
    "start_time": "2022-03-14T16:54:26.582Z"
   },
   {
    "duration": 138,
    "start_time": "2022-03-14T16:55:17.420Z"
   },
   {
    "duration": 139,
    "start_time": "2022-03-14T16:55:39.196Z"
   },
   {
    "duration": 140,
    "start_time": "2022-03-14T16:55:54.463Z"
   },
   {
    "duration": 138,
    "start_time": "2022-03-14T16:56:11.222Z"
   },
   {
    "duration": 10,
    "start_time": "2022-03-14T16:56:18.662Z"
   },
   {
    "duration": 86,
    "start_time": "2022-03-14T16:57:43.454Z"
   },
   {
    "duration": 409,
    "start_time": "2022-03-14T16:57:51.238Z"
   },
   {
    "duration": 144,
    "start_time": "2022-03-14T16:58:11.311Z"
   },
   {
    "duration": 154,
    "start_time": "2022-03-14T16:58:24.150Z"
   },
   {
    "duration": 359,
    "start_time": "2022-03-14T17:03:27.064Z"
   },
   {
    "duration": 90,
    "start_time": "2022-03-14T17:03:47.977Z"
   },
   {
    "duration": 414,
    "start_time": "2022-03-14T17:03:51.789Z"
   },
   {
    "duration": 349,
    "start_time": "2022-03-14T17:04:01.224Z"
   },
   {
    "duration": 356,
    "start_time": "2022-03-14T17:04:06.202Z"
   },
   {
    "duration": 349,
    "start_time": "2022-03-14T17:04:09.536Z"
   },
   {
    "duration": 326,
    "start_time": "2022-03-14T17:04:16.663Z"
   },
   {
    "duration": 10,
    "start_time": "2022-03-14T17:04:27.287Z"
   },
   {
    "duration": 379,
    "start_time": "2022-03-14T17:04:50.496Z"
   },
   {
    "duration": 486,
    "start_time": "2022-03-14T17:05:02.967Z"
   },
   {
    "duration": 364,
    "start_time": "2022-03-14T17:05:16.360Z"
   },
   {
    "duration": 370,
    "start_time": "2022-03-14T17:05:21.135Z"
   },
   {
    "duration": 158,
    "start_time": "2022-03-14T17:05:34.243Z"
   },
   {
    "duration": 157,
    "start_time": "2022-03-14T17:05:47.886Z"
   },
   {
    "duration": 153,
    "start_time": "2022-03-14T17:06:17.777Z"
   },
   {
    "duration": 102,
    "start_time": "2022-03-14T17:08:07.488Z"
   },
   {
    "duration": 349,
    "start_time": "2022-03-14T17:08:46.342Z"
   },
   {
    "duration": 479,
    "start_time": "2022-03-14T17:08:51.636Z"
   },
   {
    "duration": 354,
    "start_time": "2022-03-14T17:09:00.617Z"
   },
   {
    "duration": 205,
    "start_time": "2022-03-14T17:09:05.840Z"
   },
   {
    "duration": 9,
    "start_time": "2022-03-14T17:09:18.879Z"
   },
   {
    "duration": 130,
    "start_time": "2022-03-14T17:09:42.844Z"
   },
   {
    "duration": 132,
    "start_time": "2022-03-14T17:09:48.207Z"
   },
   {
    "duration": 144,
    "start_time": "2022-03-14T17:09:54.306Z"
   },
   {
    "duration": 136,
    "start_time": "2022-03-14T17:10:02.547Z"
   },
   {
    "duration": 138,
    "start_time": "2022-03-14T17:10:09.520Z"
   },
   {
    "duration": 148,
    "start_time": "2022-03-14T17:10:13.092Z"
   },
   {
    "duration": 356,
    "start_time": "2022-03-14T17:13:31.294Z"
   },
   {
    "duration": 353,
    "start_time": "2022-03-14T17:13:36.193Z"
   },
   {
    "duration": 343,
    "start_time": "2022-03-14T17:13:47.592Z"
   },
   {
    "duration": 468,
    "start_time": "2022-03-14T17:13:53.550Z"
   },
   {
    "duration": 206,
    "start_time": "2022-03-14T17:14:02.163Z"
   },
   {
    "duration": 259,
    "start_time": "2022-03-14T17:14:07.106Z"
   },
   {
    "duration": 282,
    "start_time": "2022-03-14T17:14:29.846Z"
   },
   {
    "duration": 273,
    "start_time": "2022-03-14T17:14:40.151Z"
   },
   {
    "duration": 264,
    "start_time": "2022-03-14T17:14:45.835Z"
   },
   {
    "duration": 345,
    "start_time": "2022-03-14T17:14:54.814Z"
   },
   {
    "duration": 229,
    "start_time": "2022-03-14T17:15:12.843Z"
   },
   {
    "duration": 231,
    "start_time": "2022-03-14T17:15:16.356Z"
   },
   {
    "duration": 265,
    "start_time": "2022-03-14T17:15:25.178Z"
   },
   {
    "duration": 223,
    "start_time": "2022-03-14T17:15:53.880Z"
   },
   {
    "duration": 139,
    "start_time": "2022-03-14T17:16:02.283Z"
   },
   {
    "duration": 170,
    "start_time": "2022-03-14T17:16:13.198Z"
   },
   {
    "duration": 145,
    "start_time": "2022-03-14T17:16:22.621Z"
   },
   {
    "duration": 325,
    "start_time": "2022-03-14T17:16:57.176Z"
   },
   {
    "duration": 324,
    "start_time": "2022-03-14T17:17:24.200Z"
   },
   {
    "duration": 551,
    "start_time": "2022-03-14T17:17:32.673Z"
   },
   {
    "duration": 461,
    "start_time": "2022-03-14T17:17:40.143Z"
   },
   {
    "duration": 260,
    "start_time": "2022-03-14T17:17:48.633Z"
   },
   {
    "duration": 221,
    "start_time": "2022-03-14T17:18:06.899Z"
   },
   {
    "duration": 292,
    "start_time": "2022-03-14T17:18:14.157Z"
   },
   {
    "duration": 9,
    "start_time": "2022-03-14T17:18:58.159Z"
   },
   {
    "duration": 208,
    "start_time": "2022-03-14T17:31:35.706Z"
   },
   {
    "duration": 352,
    "start_time": "2022-03-14T17:31:44.858Z"
   },
   {
    "duration": 718,
    "start_time": "2022-03-14T17:32:56.431Z"
   },
   {
    "duration": 363,
    "start_time": "2022-03-14T17:33:02.125Z"
   },
   {
    "duration": 2062,
    "start_time": "2022-03-14T17:33:16.568Z"
   },
   {
    "duration": 1064,
    "start_time": "2022-03-14T17:33:30.859Z"
   },
   {
    "duration": 1024,
    "start_time": "2022-03-14T17:33:53.777Z"
   },
   {
    "duration": 535,
    "start_time": "2022-03-14T17:34:06.021Z"
   },
   {
    "duration": 258,
    "start_time": "2022-03-14T17:34:33.852Z"
   },
   {
    "duration": 251,
    "start_time": "2022-03-14T17:34:41.854Z"
   },
   {
    "duration": 359,
    "start_time": "2022-03-14T17:34:51.323Z"
   },
   {
    "duration": 7,
    "start_time": "2022-03-14T17:36:07.931Z"
   },
   {
    "duration": 10,
    "start_time": "2022-03-14T17:37:31.281Z"
   },
   {
    "duration": 167,
    "start_time": "2022-03-14T17:38:16.074Z"
   },
   {
    "duration": 347,
    "start_time": "2022-03-14T17:38:50.498Z"
   },
   {
    "duration": 319,
    "start_time": "2022-03-14T17:38:56.250Z"
   },
   {
    "duration": 324,
    "start_time": "2022-03-14T17:39:02.998Z"
   },
   {
    "duration": 294,
    "start_time": "2022-03-14T17:39:12.283Z"
   },
   {
    "duration": 276,
    "start_time": "2022-03-14T17:39:17.678Z"
   },
   {
    "duration": 348,
    "start_time": "2022-03-14T17:39:22.825Z"
   },
   {
    "duration": 265,
    "start_time": "2022-03-14T17:39:29.707Z"
   },
   {
    "duration": 380,
    "start_time": "2022-03-14T17:39:35.454Z"
   },
   {
    "duration": 310,
    "start_time": "2022-03-14T17:39:44.642Z"
   },
   {
    "duration": 10,
    "start_time": "2022-03-14T17:41:44.641Z"
   },
   {
    "duration": 6,
    "start_time": "2022-03-14T17:44:04.902Z"
   },
   {
    "duration": 6,
    "start_time": "2022-03-14T17:45:02.713Z"
   },
   {
    "duration": 9,
    "start_time": "2022-03-14T18:38:22.619Z"
   },
   {
    "duration": 9,
    "start_time": "2022-03-14T18:39:06.382Z"
   },
   {
    "duration": 289,
    "start_time": "2022-03-14T18:54:38.508Z"
   },
   {
    "duration": 330,
    "start_time": "2022-03-14T18:54:46.948Z"
   },
   {
    "duration": 314,
    "start_time": "2022-03-14T18:54:54.094Z"
   },
   {
    "duration": 307,
    "start_time": "2022-03-14T18:55:13.701Z"
   },
   {
    "duration": 355,
    "start_time": "2022-03-14T18:55:18.117Z"
   },
   {
    "duration": 676,
    "start_time": "2022-03-14T18:55:35.955Z"
   },
   {
    "duration": 484,
    "start_time": "2022-03-14T18:55:47.746Z"
   },
   {
    "duration": 375,
    "start_time": "2022-03-14T18:55:54.600Z"
   },
   {
    "duration": 245,
    "start_time": "2022-03-14T18:56:58.558Z"
   },
   {
    "duration": 320,
    "start_time": "2022-03-14T18:57:11.575Z"
   },
   {
    "duration": 252,
    "start_time": "2022-03-14T18:57:17.958Z"
   },
   {
    "duration": 13,
    "start_time": "2022-03-14T18:57:30.630Z"
   },
   {
    "duration": 13,
    "start_time": "2022-03-14T18:57:41.326Z"
   },
   {
    "duration": 280,
    "start_time": "2022-03-14T19:04:07.586Z"
   },
   {
    "duration": 275,
    "start_time": "2022-03-14T19:04:15.835Z"
   },
   {
    "duration": -45,
    "start_time": "2022-03-14T19:04:16.158Z"
   },
   {
    "duration": 250,
    "start_time": "2022-03-14T19:05:22.406Z"
   },
   {
    "duration": 33,
    "start_time": "2022-03-14T19:08:33.390Z"
   },
   {
    "duration": 23,
    "start_time": "2022-03-14T19:09:14.850Z"
   },
   {
    "duration": 1006,
    "start_time": "2022-03-14T19:09:31.630Z"
   },
   {
    "duration": 15,
    "start_time": "2022-03-14T19:10:00.586Z"
   },
   {
    "duration": 10,
    "start_time": "2022-03-14T19:10:15.062Z"
   },
   {
    "duration": 16,
    "start_time": "2022-03-14T19:10:19.210Z"
   },
   {
    "duration": 13,
    "start_time": "2022-03-14T19:11:37.787Z"
   },
   {
    "duration": 18,
    "start_time": "2022-03-14T19:11:55.076Z"
   },
   {
    "duration": 186,
    "start_time": "2022-03-14T19:12:40.363Z"
   },
   {
    "duration": 331,
    "start_time": "2022-03-14T19:12:49.011Z"
   },
   {
    "duration": 367,
    "start_time": "2022-03-14T19:13:04.584Z"
   },
   {
    "duration": 349,
    "start_time": "2022-03-14T19:13:29.628Z"
   },
   {
    "duration": 354,
    "start_time": "2022-03-14T19:13:34.288Z"
   },
   {
    "duration": 354,
    "start_time": "2022-03-14T19:14:00.538Z"
   },
   {
    "duration": 460,
    "start_time": "2022-03-14T19:14:09.574Z"
   },
   {
    "duration": 353,
    "start_time": "2022-03-14T19:15:27.448Z"
   },
   {
    "duration": 11,
    "start_time": "2022-03-14T19:16:47.450Z"
   },
   {
    "duration": 21,
    "start_time": "2022-03-14T19:17:37.142Z"
   },
   {
    "duration": 354,
    "start_time": "2022-03-14T19:17:45.828Z"
   },
   {
    "duration": 343,
    "start_time": "2022-03-14T19:18:33.560Z"
   },
   {
    "duration": 348,
    "start_time": "2022-03-14T19:18:43.415Z"
   },
   {
    "duration": 26,
    "start_time": "2022-03-14T19:23:31.533Z"
   },
   {
    "duration": 8,
    "start_time": "2022-03-14T19:24:10.911Z"
   },
   {
    "duration": 19,
    "start_time": "2022-03-14T19:24:12.126Z"
   },
   {
    "duration": 24,
    "start_time": "2022-03-14T19:24:15.956Z"
   },
   {
    "duration": 245,
    "start_time": "2022-03-14T19:26:41.618Z"
   },
   {
    "duration": 8,
    "start_time": "2022-03-14T19:27:06.798Z"
   },
   {
    "duration": 19,
    "start_time": "2022-03-14T19:27:07.643Z"
   },
   {
    "duration": 13,
    "start_time": "2022-03-14T19:27:13.269Z"
   },
   {
    "duration": 352,
    "start_time": "2022-03-14T19:28:08.895Z"
   },
   {
    "duration": 369,
    "start_time": "2022-03-14T19:28:55.580Z"
   },
   {
    "duration": 10,
    "start_time": "2022-03-14T19:29:14.098Z"
   },
   {
    "duration": 21,
    "start_time": "2022-03-14T19:29:14.918Z"
   },
   {
    "duration": 347,
    "start_time": "2022-03-14T19:29:28.600Z"
   },
   {
    "duration": 19,
    "start_time": "2022-03-14T19:30:20.648Z"
   },
   {
    "duration": 804,
    "start_time": "2022-03-14T19:30:24.793Z"
   },
   {
    "duration": 357,
    "start_time": "2022-03-14T19:31:13.937Z"
   },
   {
    "duration": 22,
    "start_time": "2022-03-14T19:31:30.399Z"
   },
   {
    "duration": 354,
    "start_time": "2022-03-14T19:32:00.506Z"
   },
   {
    "duration": 374,
    "start_time": "2022-03-14T19:32:17.306Z"
   },
   {
    "duration": 20,
    "start_time": "2022-03-14T19:32:20.006Z"
   },
   {
    "duration": 334,
    "start_time": "2022-03-14T19:32:23.871Z"
   },
   {
    "duration": 348,
    "start_time": "2022-03-14T19:32:36.175Z"
   },
   {
    "duration": 9,
    "start_time": "2022-03-14T19:33:23.374Z"
   },
   {
    "duration": 10,
    "start_time": "2022-03-14T19:33:24.142Z"
   },
   {
    "duration": 12,
    "start_time": "2022-03-14T19:33:45.424Z"
   },
   {
    "duration": 11,
    "start_time": "2022-03-14T19:34:04.282Z"
   },
   {
    "duration": 11,
    "start_time": "2022-03-14T19:36:49.686Z"
   },
   {
    "duration": 378,
    "start_time": "2022-03-14T19:41:02.669Z"
   },
   {
    "duration": 10,
    "start_time": "2022-03-14T19:41:05.896Z"
   },
   {
    "duration": 5,
    "start_time": "2022-03-14T19:41:45.360Z"
   },
   {
    "duration": 4,
    "start_time": "2022-03-14T19:41:46.166Z"
   },
   {
    "duration": 18,
    "start_time": "2022-03-14T19:41:51.895Z"
   },
   {
    "duration": 19,
    "start_time": "2022-03-14T19:42:33.684Z"
   },
   {
    "duration": 21,
    "start_time": "2022-03-14T19:43:02.240Z"
   },
   {
    "duration": 15,
    "start_time": "2022-03-14T19:43:18.809Z"
   },
   {
    "duration": 3,
    "start_time": "2022-03-14T19:46:19.555Z"
   },
   {
    "duration": 261,
    "start_time": "2022-03-14T19:46:19.565Z"
   },
   {
    "duration": 10,
    "start_time": "2022-03-14T19:46:19.828Z"
   },
   {
    "duration": 6,
    "start_time": "2022-03-14T19:46:19.840Z"
   },
   {
    "duration": 13,
    "start_time": "2022-03-14T19:46:19.848Z"
   },
   {
    "duration": 6,
    "start_time": "2022-03-14T19:46:19.863Z"
   },
   {
    "duration": 162,
    "start_time": "2022-03-14T19:46:19.871Z"
   },
   {
    "duration": 11,
    "start_time": "2022-03-14T19:46:20.036Z"
   },
   {
    "duration": 19,
    "start_time": "2022-03-14T19:46:20.051Z"
   },
   {
    "duration": 5,
    "start_time": "2022-03-14T19:46:20.073Z"
   },
   {
    "duration": 27,
    "start_time": "2022-03-14T19:46:20.081Z"
   },
   {
    "duration": 19,
    "start_time": "2022-03-14T19:46:20.111Z"
   },
   {
    "duration": 6,
    "start_time": "2022-03-14T19:46:20.132Z"
   },
   {
    "duration": 13,
    "start_time": "2022-03-14T19:46:20.140Z"
   },
   {
    "duration": 47,
    "start_time": "2022-03-14T19:46:20.156Z"
   },
   {
    "duration": 7,
    "start_time": "2022-03-14T19:46:20.204Z"
   },
   {
    "duration": 9,
    "start_time": "2022-03-14T19:46:20.213Z"
   },
   {
    "duration": 22,
    "start_time": "2022-03-14T19:46:20.224Z"
   },
   {
    "duration": 7,
    "start_time": "2022-03-14T19:46:20.248Z"
   },
   {
    "duration": 21,
    "start_time": "2022-03-14T19:46:20.257Z"
   },
   {
    "duration": 10,
    "start_time": "2022-03-14T19:46:20.281Z"
   },
   {
    "duration": 23,
    "start_time": "2022-03-14T19:46:20.293Z"
   },
   {
    "duration": 45,
    "start_time": "2022-03-14T19:46:20.318Z"
   },
   {
    "duration": 27,
    "start_time": "2022-03-14T19:46:20.368Z"
   },
   {
    "duration": 27,
    "start_time": "2022-03-14T19:46:20.398Z"
   },
   {
    "duration": 9,
    "start_time": "2022-03-14T19:46:20.427Z"
   },
   {
    "duration": 9,
    "start_time": "2022-03-14T19:46:20.438Z"
   },
   {
    "duration": 20,
    "start_time": "2022-03-14T19:46:20.449Z"
   },
   {
    "duration": 44,
    "start_time": "2022-03-14T19:46:20.471Z"
   },
   {
    "duration": 21,
    "start_time": "2022-03-14T19:46:20.518Z"
   },
   {
    "duration": 23,
    "start_time": "2022-03-14T19:46:20.541Z"
   },
   {
    "duration": 8,
    "start_time": "2022-03-14T19:46:20.566Z"
   },
   {
    "duration": 378,
    "start_time": "2022-03-14T19:46:20.576Z"
   },
   {
    "duration": 10,
    "start_time": "2022-03-14T19:46:20.956Z"
   },
   {
    "duration": 173,
    "start_time": "2022-03-14T19:46:20.968Z"
   },
   {
    "duration": 379,
    "start_time": "2022-03-14T19:46:21.143Z"
   },
   {
    "duration": 10,
    "start_time": "2022-03-14T19:46:21.524Z"
   },
   {
    "duration": 176,
    "start_time": "2022-03-14T19:46:21.536Z"
   },
   {
    "duration": 210,
    "start_time": "2022-03-14T19:46:21.714Z"
   },
   {
    "duration": 9,
    "start_time": "2022-03-14T19:46:21.926Z"
   },
   {
    "duration": 179,
    "start_time": "2022-03-14T19:46:21.937Z"
   },
   {
    "duration": 287,
    "start_time": "2022-03-14T19:46:22.118Z"
   },
   {
    "duration": 10,
    "start_time": "2022-03-14T19:46:22.407Z"
   },
   {
    "duration": 172,
    "start_time": "2022-03-14T19:46:22.419Z"
   },
   {
    "duration": 415,
    "start_time": "2022-03-14T19:46:22.593Z"
   },
   {
    "duration": 7,
    "start_time": "2022-03-14T19:46:23.010Z"
   },
   {
    "duration": 184,
    "start_time": "2022-03-14T19:46:23.019Z"
   },
   {
    "duration": 12,
    "start_time": "2022-03-14T19:46:23.205Z"
   },
   {
    "duration": 37,
    "start_time": "2022-03-14T19:46:23.220Z"
   },
   {
    "duration": 26,
    "start_time": "2022-03-14T19:46:23.259Z"
   },
   {
    "duration": 14,
    "start_time": "2022-03-14T19:46:23.287Z"
   },
   {
    "duration": 388,
    "start_time": "2022-03-14T19:46:23.307Z"
   },
   {
    "duration": 18,
    "start_time": "2022-03-14T19:46:23.702Z"
   },
   {
    "duration": 32,
    "start_time": "2022-03-14T19:46:23.722Z"
   },
   {
    "duration": 19,
    "start_time": "2022-03-14T19:46:23.756Z"
   },
   {
    "duration": 18700,
    "start_time": "2022-03-14T19:46:47.077Z"
   },
   {
    "duration": 28,
    "start_time": "2022-03-14T19:47:05.779Z"
   },
   {
    "duration": 18689,
    "start_time": "2022-03-14T19:47:08.171Z"
   },
   {
    "duration": 10,
    "start_time": "2022-03-14T19:50:35.901Z"
   },
   {
    "duration": 13,
    "start_time": "2022-03-14T19:50:38.402Z"
   },
   {
    "duration": 14988,
    "start_time": "2022-03-14T19:50:42.075Z"
   },
   {
    "duration": 12,
    "start_time": "2022-03-14T19:51:00.921Z"
   },
   {
    "duration": 14606,
    "start_time": "2022-03-14T19:51:03.622Z"
   },
   {
    "duration": 14519,
    "start_time": "2022-03-14T19:51:35.919Z"
   },
   {
    "duration": 16,
    "start_time": "2022-03-14T19:51:50.440Z"
   },
   {
    "duration": 288,
    "start_time": "2022-03-14T19:52:31.159Z"
   },
   {
    "duration": 15745,
    "start_time": "2022-03-14T19:52:35.443Z"
   },
   {
    "duration": 32,
    "start_time": "2022-03-14T19:52:51.190Z"
   },
   {
    "duration": 20972,
    "start_time": "2022-03-14T19:53:05.303Z"
   },
   {
    "duration": 30,
    "start_time": "2022-03-14T19:53:26.277Z"
   },
   {
    "duration": 14741,
    "start_time": "2022-03-14T19:53:51.276Z"
   },
   {
    "duration": 17,
    "start_time": "2022-03-14T19:54:06.019Z"
   },
   {
    "duration": 12,
    "start_time": "2022-03-14T19:54:09.837Z"
   },
   {
    "duration": 16,
    "start_time": "2022-03-14T19:54:13.130Z"
   },
   {
    "duration": 22806,
    "start_time": "2022-03-14T19:54:15.303Z"
   },
   {
    "duration": 17,
    "start_time": "2022-03-14T19:54:38.111Z"
   },
   {
    "duration": 239,
    "start_time": "2022-03-14T20:15:25.870Z"
   },
   {
    "duration": 411,
    "start_time": "2022-03-14T20:15:36.861Z"
   },
   {
    "duration": 378,
    "start_time": "2022-03-14T20:15:53.754Z"
   },
   {
    "duration": 528,
    "start_time": "2022-03-14T20:16:30.611Z"
   },
   {
    "duration": 255,
    "start_time": "2022-03-14T20:16:59.420Z"
   },
   {
    "duration": 284,
    "start_time": "2022-03-14T20:17:10.457Z"
   },
   {
    "duration": 548,
    "start_time": "2022-03-14T20:18:52.460Z"
   },
   {
    "duration": 245,
    "start_time": "2022-03-14T20:19:57.452Z"
   },
   {
    "duration": 234,
    "start_time": "2022-03-14T20:20:26.053Z"
   },
   {
    "duration": 241,
    "start_time": "2022-03-14T20:21:07.889Z"
   },
   {
    "duration": 313,
    "start_time": "2022-03-14T20:21:27.315Z"
   },
   {
    "duration": 290,
    "start_time": "2022-03-14T20:22:35.559Z"
   },
   {
    "duration": 456,
    "start_time": "2022-03-14T20:22:45.373Z"
   },
   {
    "duration": 369,
    "start_time": "2022-03-14T20:22:54.966Z"
   },
   {
    "duration": 530,
    "start_time": "2022-03-14T20:23:26.956Z"
   },
   {
    "duration": 237,
    "start_time": "2022-03-14T20:23:43.886Z"
   },
   {
    "duration": 1952,
    "start_time": "2022-03-14T20:23:50.813Z"
   },
   {
    "duration": 1974,
    "start_time": "2022-03-14T20:25:32.552Z"
   },
   {
    "duration": 543,
    "start_time": "2022-03-14T20:25:53.878Z"
   },
   {
    "duration": 500,
    "start_time": "2022-03-14T20:26:57.792Z"
   },
   {
    "duration": 428,
    "start_time": "2022-03-14T20:28:02.242Z"
   },
   {
    "duration": 447,
    "start_time": "2022-03-14T20:28:14.504Z"
   },
   {
    "duration": 499,
    "start_time": "2022-03-14T20:28:28.411Z"
   },
   {
    "duration": 487,
    "start_time": "2022-03-14T20:28:38.153Z"
   },
   {
    "duration": 524,
    "start_time": "2022-03-14T20:29:39.228Z"
   },
   {
    "duration": 1553,
    "start_time": "2022-03-15T15:49:50.479Z"
   },
   {
    "duration": 184,
    "start_time": "2022-03-15T15:49:52.035Z"
   },
   {
    "duration": 15,
    "start_time": "2022-03-15T15:49:52.222Z"
   },
   {
    "duration": 9,
    "start_time": "2022-03-15T15:49:52.240Z"
   },
   {
    "duration": 8,
    "start_time": "2022-03-15T15:49:52.251Z"
   },
   {
    "duration": 8,
    "start_time": "2022-03-15T15:49:52.288Z"
   },
   {
    "duration": 203,
    "start_time": "2022-03-15T15:49:52.299Z"
   },
   {
    "duration": 14,
    "start_time": "2022-03-15T15:49:52.505Z"
   },
   {
    "duration": 20,
    "start_time": "2022-03-15T15:49:52.523Z"
   },
   {
    "duration": 4,
    "start_time": "2022-03-15T15:49:52.545Z"
   },
   {
    "duration": 43,
    "start_time": "2022-03-15T15:49:52.552Z"
   },
   {
    "duration": 23,
    "start_time": "2022-03-15T15:49:52.598Z"
   },
   {
    "duration": 12,
    "start_time": "2022-03-15T15:49:52.624Z"
   },
   {
    "duration": 54,
    "start_time": "2022-03-15T15:49:52.639Z"
   },
   {
    "duration": 21,
    "start_time": "2022-03-15T15:49:52.695Z"
   },
   {
    "duration": 11,
    "start_time": "2022-03-15T15:49:52.719Z"
   },
   {
    "duration": 18,
    "start_time": "2022-03-15T15:49:52.733Z"
   },
   {
    "duration": 13,
    "start_time": "2022-03-15T15:49:52.786Z"
   },
   {
    "duration": 7,
    "start_time": "2022-03-15T15:49:52.802Z"
   },
   {
    "duration": 9,
    "start_time": "2022-03-15T15:49:52.811Z"
   },
   {
    "duration": 7,
    "start_time": "2022-03-15T15:49:52.823Z"
   },
   {
    "duration": 17,
    "start_time": "2022-03-15T15:49:52.833Z"
   },
   {
    "duration": 38,
    "start_time": "2022-03-15T15:49:52.889Z"
   },
   {
    "duration": 62,
    "start_time": "2022-03-15T15:49:52.932Z"
   },
   {
    "duration": 34,
    "start_time": "2022-03-15T15:49:52.996Z"
   },
   {
    "duration": 11,
    "start_time": "2022-03-15T15:49:53.033Z"
   },
   {
    "duration": 42,
    "start_time": "2022-03-15T15:49:53.046Z"
   },
   {
    "duration": 6,
    "start_time": "2022-03-15T15:49:53.091Z"
   },
   {
    "duration": 23,
    "start_time": "2022-03-15T15:49:53.099Z"
   },
   {
    "duration": 27,
    "start_time": "2022-03-15T15:49:53.124Z"
   },
   {
    "duration": 34,
    "start_time": "2022-03-15T15:49:53.154Z"
   },
   {
    "duration": 16,
    "start_time": "2022-03-15T15:49:53.191Z"
   },
   {
    "duration": 596,
    "start_time": "2022-03-15T15:49:53.209Z"
   },
   {
    "duration": 12,
    "start_time": "2022-03-15T15:49:53.808Z"
   },
   {
    "duration": 266,
    "start_time": "2022-03-15T15:49:53.823Z"
   },
   {
    "duration": 574,
    "start_time": "2022-03-15T15:49:54.091Z"
   },
   {
    "duration": 24,
    "start_time": "2022-03-15T15:49:54.667Z"
   },
   {
    "duration": 247,
    "start_time": "2022-03-15T15:49:54.693Z"
   },
   {
    "duration": 382,
    "start_time": "2022-03-15T15:49:54.942Z"
   },
   {
    "duration": 11,
    "start_time": "2022-03-15T15:49:55.327Z"
   },
   {
    "duration": 261,
    "start_time": "2022-03-15T15:49:55.341Z"
   },
   {
    "duration": 411,
    "start_time": "2022-03-15T15:49:55.604Z"
   },
   {
    "duration": 13,
    "start_time": "2022-03-15T15:49:56.017Z"
   },
   {
    "duration": 242,
    "start_time": "2022-03-15T15:49:56.032Z"
   },
   {
    "duration": 572,
    "start_time": "2022-03-15T15:49:56.276Z"
   },
   {
    "duration": 7,
    "start_time": "2022-03-15T15:49:56.851Z"
   },
   {
    "duration": 267,
    "start_time": "2022-03-15T15:49:56.860Z"
   },
   {
    "duration": 12,
    "start_time": "2022-03-15T15:49:57.130Z"
   },
   {
    "duration": 15,
    "start_time": "2022-03-15T15:49:57.144Z"
   },
   {
    "duration": 36,
    "start_time": "2022-03-15T15:49:57.162Z"
   },
   {
    "duration": 15,
    "start_time": "2022-03-15T15:49:57.201Z"
   },
   {
    "duration": 580,
    "start_time": "2022-03-15T15:49:57.218Z"
   },
   {
    "duration": 13,
    "start_time": "2022-03-15T15:49:57.801Z"
   },
   {
    "duration": 20,
    "start_time": "2022-03-15T15:49:57.817Z"
   },
   {
    "duration": 2721,
    "start_time": "2022-03-15T15:49:57.840Z"
   },
   {
    "duration": 734,
    "start_time": "2022-03-15T15:50:00.563Z"
   },
   {
    "duration": 16,
    "start_time": "2022-03-15T15:50:01.300Z"
   },
   {
    "duration": 144,
    "start_time": "2022-03-15T15:58:21.874Z"
   },
   {
    "duration": 15,
    "start_time": "2022-03-15T15:58:25.678Z"
   },
   {
    "duration": 40,
    "start_time": "2022-03-15T15:58:35.472Z"
   },
   {
    "duration": 124,
    "start_time": "2022-03-15T16:00:10.006Z"
   },
   {
    "duration": 170,
    "start_time": "2022-03-15T16:01:23.528Z"
   },
   {
    "duration": 37,
    "start_time": "2022-03-15T16:01:34.072Z"
   },
   {
    "duration": 39,
    "start_time": "2022-03-15T16:01:48.339Z"
   },
   {
    "duration": 40,
    "start_time": "2022-03-15T16:01:59.320Z"
   },
   {
    "duration": 182,
    "start_time": "2022-03-15T16:02:43.843Z"
   },
   {
    "duration": 182,
    "start_time": "2022-03-15T16:02:55.319Z"
   },
   {
    "duration": 236,
    "start_time": "2022-03-15T16:03:09.836Z"
   },
   {
    "duration": 36,
    "start_time": "2022-03-15T16:03:17.798Z"
   },
   {
    "duration": 36,
    "start_time": "2022-03-15T16:03:23.589Z"
   },
   {
    "duration": 34,
    "start_time": "2022-03-15T16:04:45.452Z"
   },
   {
    "duration": 39,
    "start_time": "2022-03-15T16:05:02.828Z"
   },
   {
    "duration": 368,
    "start_time": "2022-03-15T16:06:41.715Z"
   },
   {
    "duration": 6,
    "start_time": "2022-03-15T16:12:26.024Z"
   },
   {
    "duration": 208,
    "start_time": "2022-03-15T16:13:02.298Z"
   },
   {
    "duration": 4141,
    "start_time": "2022-03-15T16:13:17.374Z"
   },
   {
    "duration": 8,
    "start_time": "2022-03-15T16:14:03.283Z"
   },
   {
    "duration": 12,
    "start_time": "2022-03-15T16:14:38.106Z"
   },
   {
    "duration": 9,
    "start_time": "2022-03-15T16:15:02.852Z"
   },
   {
    "duration": 8,
    "start_time": "2022-03-15T16:15:10.231Z"
   },
   {
    "duration": 3800,
    "start_time": "2022-03-15T16:18:03.433Z"
   },
   {
    "duration": 10,
    "start_time": "2022-03-15T16:18:16.860Z"
   },
   {
    "duration": 65,
    "start_time": "2022-03-15T16:22:10.326Z"
   },
   {
    "duration": 49,
    "start_time": "2022-03-15T16:22:24.377Z"
   },
   {
    "duration": 56,
    "start_time": "2022-03-15T16:22:32.477Z"
   },
   {
    "duration": 521,
    "start_time": "2022-03-15T16:27:52.139Z"
   },
   {
    "duration": 53,
    "start_time": "2022-03-15T16:28:55.544Z"
   },
   {
    "duration": 66,
    "start_time": "2022-03-15T16:29:01.208Z"
   },
   {
    "duration": 13,
    "start_time": "2022-03-15T16:30:55.452Z"
   },
   {
    "duration": 13,
    "start_time": "2022-03-15T16:33:16.513Z"
   },
   {
    "duration": 15,
    "start_time": "2022-03-15T16:34:09.065Z"
   },
   {
    "duration": 4135,
    "start_time": "2022-03-15T16:36:37.880Z"
   },
   {
    "duration": 3969,
    "start_time": "2022-03-15T16:36:57.534Z"
   },
   {
    "duration": 13,
    "start_time": "2022-03-15T16:37:06.794Z"
   },
   {
    "duration": 13,
    "start_time": "2022-03-15T16:37:24.549Z"
   },
   {
    "duration": 11,
    "start_time": "2022-03-15T16:37:56.475Z"
   },
   {
    "duration": 4431,
    "start_time": "2022-03-15T16:42:23.342Z"
   },
   {
    "duration": 11,
    "start_time": "2022-03-15T16:43:04.495Z"
   },
   {
    "duration": 15,
    "start_time": "2022-03-15T16:43:17.610Z"
   },
   {
    "duration": 16,
    "start_time": "2022-03-15T16:43:24.657Z"
   },
   {
    "duration": 15,
    "start_time": "2022-03-15T16:43:40.788Z"
   },
   {
    "duration": 13,
    "start_time": "2022-03-15T16:43:45.501Z"
   },
   {
    "duration": 157,
    "start_time": "2022-03-15T16:44:17.429Z"
   },
   {
    "duration": 216,
    "start_time": "2022-03-15T16:44:27.768Z"
   },
   {
    "duration": 14,
    "start_time": "2022-03-15T16:44:34.104Z"
   },
   {
    "duration": 156,
    "start_time": "2022-03-15T16:45:09.347Z"
   },
   {
    "duration": 13,
    "start_time": "2022-03-15T16:45:36.810Z"
   },
   {
    "duration": 10,
    "start_time": "2022-03-15T16:46:28.647Z"
   },
   {
    "duration": 14,
    "start_time": "2022-03-15T16:46:44.789Z"
   },
   {
    "duration": 14,
    "start_time": "2022-03-15T16:46:54.887Z"
   },
   {
    "duration": 153,
    "start_time": "2022-03-15T16:53:37.705Z"
   },
   {
    "duration": 12,
    "start_time": "2022-03-15T16:54:16.441Z"
   },
   {
    "duration": 12,
    "start_time": "2022-03-15T16:54:47.441Z"
   },
   {
    "duration": 55,
    "start_time": "2022-03-15T16:55:59.881Z"
   },
   {
    "duration": 51,
    "start_time": "2022-03-15T16:56:09.412Z"
   },
   {
    "duration": 54,
    "start_time": "2022-03-15T16:56:12.893Z"
   },
   {
    "duration": 12,
    "start_time": "2022-03-15T16:56:14.885Z"
   },
   {
    "duration": 12,
    "start_time": "2022-03-15T16:57:13.026Z"
   },
   {
    "duration": 40,
    "start_time": "2022-03-15T17:10:56.658Z"
   },
   {
    "duration": 6,
    "start_time": "2022-03-15T17:13:28.694Z"
   },
   {
    "duration": 8,
    "start_time": "2022-03-15T17:13:49.942Z"
   },
   {
    "duration": 7,
    "start_time": "2022-03-15T17:14:16.364Z"
   },
   {
    "duration": 7,
    "start_time": "2022-03-15T17:14:54.588Z"
   },
   {
    "duration": 8,
    "start_time": "2022-03-15T17:14:58.060Z"
   },
   {
    "duration": 5,
    "start_time": "2022-03-15T17:15:29.238Z"
   },
   {
    "duration": 7,
    "start_time": "2022-03-15T17:15:31.404Z"
   },
   {
    "duration": 2870,
    "start_time": "2022-03-15T17:15:48.909Z"
   },
   {
    "duration": -80,
    "start_time": "2022-03-15T17:15:51.862Z"
   },
   {
    "duration": 7,
    "start_time": "2022-03-15T17:16:33.067Z"
   },
   {
    "duration": 9,
    "start_time": "2022-03-15T17:16:54.486Z"
   },
   {
    "duration": 8,
    "start_time": "2022-03-15T17:16:57.208Z"
   },
   {
    "duration": 7,
    "start_time": "2022-03-15T17:18:29.957Z"
   },
   {
    "duration": 8,
    "start_time": "2022-03-15T17:18:32.326Z"
   },
   {
    "duration": 6,
    "start_time": "2022-03-15T17:18:39.201Z"
   },
   {
    "duration": 14,
    "start_time": "2022-03-15T17:29:17.061Z"
   },
   {
    "duration": 21,
    "start_time": "2022-03-15T17:29:22.235Z"
   },
   {
    "duration": 325,
    "start_time": "2022-03-15T17:31:05.413Z"
   },
   {
    "duration": 311,
    "start_time": "2022-03-15T17:31:12.000Z"
   },
   {
    "duration": 438,
    "start_time": "2022-03-15T17:31:26.492Z"
   },
   {
    "duration": 324,
    "start_time": "2022-03-15T17:31:34.228Z"
   },
   {
    "duration": 335,
    "start_time": "2022-03-15T17:32:16.636Z"
   },
   {
    "duration": 332,
    "start_time": "2022-03-15T17:32:46.159Z"
   },
   {
    "duration": 357,
    "start_time": "2022-03-15T17:32:54.048Z"
   },
   {
    "duration": 384,
    "start_time": "2022-03-15T17:35:16.709Z"
   },
   {
    "duration": 376,
    "start_time": "2022-03-15T17:35:22.427Z"
   },
   {
    "duration": 387,
    "start_time": "2022-03-15T17:35:29.352Z"
   },
   {
    "duration": 371,
    "start_time": "2022-03-15T17:35:33.016Z"
   },
   {
    "duration": 354,
    "start_time": "2022-03-15T17:35:36.980Z"
   },
   {
    "duration": 359,
    "start_time": "2022-03-15T17:35:42.714Z"
   },
   {
    "duration": 15,
    "start_time": "2022-03-15T17:48:32.675Z"
   },
   {
    "duration": 17,
    "start_time": "2022-03-15T17:48:52.940Z"
   }
  ],
  "kernelspec": {
   "display_name": "Python 3 (ipykernel)",
   "language": "python",
   "name": "python3"
  },
  "language_info": {
   "codemirror_mode": {
    "name": "ipython",
    "version": 3
   },
   "file_extension": ".py",
   "mimetype": "text/x-python",
   "name": "python",
   "nbconvert_exporter": "python",
   "pygments_lexer": "ipython3",
   "version": "3.10.7"
  },
  "toc": {
   "base_numbering": 1,
   "nav_menu": {},
   "number_sections": true,
   "sideBar": true,
   "skip_h1_title": true,
   "title_cell": "Содержание",
   "title_sidebar": "Contents",
   "toc_cell": true,
   "toc_position": {
    "height": "calc(100% - 180px)",
    "left": "10px",
    "top": "150px",
    "width": "366.4px"
   },
   "toc_section_display": true,
   "toc_window_display": true
  }
 },
 "nbformat": 4,
 "nbformat_minor": 4
}
