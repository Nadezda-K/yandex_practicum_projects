{
 "cells": [
  {
   "cell_type": "markdown",
   "metadata": {
    "toc": true
   },
   "source": [
    "<h1>Содержание<span class=\"tocSkip\"></span></h1>\n",
    "<div class=\"toc\"><ul class=\"toc-item\"><li><span><a href=\"#Подготовка-данных\" data-toc-modified-id=\"Подготовка-данных-1\"><span class=\"toc-item-num\">1&nbsp;&nbsp;</span>Подготовка данных</a></span><ul class=\"toc-item\"><li><span><a href=\"#Загрузка-данных\" data-toc-modified-id=\"Загрузка-данных-1.1\"><span class=\"toc-item-num\">1.1&nbsp;&nbsp;</span>Загрузка данных</a></span></li><li><span><a href=\"#Проверка-эффективности-обогащения-rougher.output.recovery\" data-toc-modified-id=\"Проверка-эффективности-обогащения-rougher.output.recovery-1.2\"><span class=\"toc-item-num\">1.2&nbsp;&nbsp;</span>Проверка эффективности обогащения <code>rougher.output.recovery</code></a></span></li><li><span><a href=\"#Сравнение-тестовой-и-обучающей-выборок\" data-toc-modified-id=\"Сравнение-тестовой-и-обучающей-выборок-1.3\"><span class=\"toc-item-num\">1.3&nbsp;&nbsp;</span>Сравнение тестовой и обучающей выборок</a></span></li><li><span><a href=\"#Предобработку-данных\" data-toc-modified-id=\"Предобработку-данных-1.4\"><span class=\"toc-item-num\">1.4&nbsp;&nbsp;</span>Предобработку данных</a></span></li><li><span><a href=\"#Вывод\" data-toc-modified-id=\"Вывод-1.5\"><span class=\"toc-item-num\">1.5&nbsp;&nbsp;</span>Вывод</a></span></li></ul></li><li><span><a href=\"#Анализ-данных\" data-toc-modified-id=\"Анализ-данных-2\"><span class=\"toc-item-num\">2&nbsp;&nbsp;</span>Анализ данных</a></span><ul class=\"toc-item\"><li><span><a href=\"#Изменение-концентрации-металлов-(Au,-Ag,-Pb)-на-различных-этапах-очистки\" data-toc-modified-id=\"Изменение-концентрации-металлов-(Au,-Ag,-Pb)-на-различных-этапах-очистки-2.1\"><span class=\"toc-item-num\">2.1&nbsp;&nbsp;</span>Изменение концентрации металлов (Au, Ag, Pb) на различных этапах очистки</a></span></li><li><span><a href=\"#Сравнение-распределения-размеров-гранул-сырья-на-обучающей-и-тестовой-выборках\" data-toc-modified-id=\"Сравнение-распределения-размеров-гранул-сырья-на-обучающей-и-тестовой-выборках-2.2\"><span class=\"toc-item-num\">2.2&nbsp;&nbsp;</span>Сравнение распределения размеров гранул сырья на обучающей и тестовой выборках</a></span></li><li><span><a href=\"#Суммарная-концентрация-всех-веществ-на-разных-стадиях:-в-сырье,-в-черновом-и-финальном-концентратах\" data-toc-modified-id=\"Суммарная-концентрация-всех-веществ-на-разных-стадиях:-в-сырье,-в-черновом-и-финальном-концентратах-2.3\"><span class=\"toc-item-num\">2.3&nbsp;&nbsp;</span>Суммарная концентрация всех веществ на разных стадиях: в сырье, в черновом и финальном концентратах</a></span></li></ul></li><li><span><a href=\"#Модель\" data-toc-modified-id=\"Модель-3\"><span class=\"toc-item-num\">3&nbsp;&nbsp;</span>Модель</a></span><ul class=\"toc-item\"><li><span><a href=\"#Функция-для-вычисления-sMAPE\" data-toc-modified-id=\"Функция-для-вычисления-sMAPE-3.1\"><span class=\"toc-item-num\">3.1&nbsp;&nbsp;</span>Функция для вычисления sMAPE</a></span></li><li><span><a href=\"#Обучение-и-выбор-разных-моделей\" data-toc-modified-id=\"Обучение-и-выбор-разных-моделей-3.2\"><span class=\"toc-item-num\">3.2&nbsp;&nbsp;</span>Обучение и выбор разных моделей</a></span></li><li><span><a href=\"#Тестирование-модели\" data-toc-modified-id=\"Тестирование-модели-3.3\"><span class=\"toc-item-num\">3.3&nbsp;&nbsp;</span>Тестирование модели</a></span></li></ul></li><li><span><a href=\"#Чек-лист-готовности-проекта\" data-toc-modified-id=\"Чек-лист-готовности-проекта-4\"><span class=\"toc-item-num\">4&nbsp;&nbsp;</span>Чек-лист готовности проекта</a></span></li></ul></div>"
   ]
  },
  {
   "cell_type": "markdown",
   "metadata": {},
   "source": [
    "# Исследование технологического процесса очистки золота"
   ]
  },
  {
   "cell_type": "markdown",
   "metadata": {},
   "source": [
    "Подготовьте прототип модели машинного обучения для «Цифры». Компания разрабатывает решения для эффективной работы промышленных предприятий.\n",
    "\n",
    "Модель должна предсказать коэффициент восстановления золота из золотосодержащей руды. Используйте данные с параметрами добычи и очистки. \n",
    "\n",
    "Модель поможет оптимизировать производство, чтобы не запускать предприятие с убыточными характеристиками.\n",
    "\n",
    "Вам нужно:\n",
    "\n",
    "1. Подготовить данные;\n",
    "2. Провести исследовательский анализ данных;\n",
    "3. Построить и обучить модель.\n",
    "\n",
    "Чтобы выполнить проект, обращайтесь к библиотекам *pandas*, *matplotlib* и *sklearn.* Вам поможет их документация."
   ]
  },
  {
   "cell_type": "markdown",
   "metadata": {},
   "source": [
    "**Описание проекта**\n",
    "\n",
    "*Технологический процесс*\n",
    "\n",
    "Когда добытая руда проходит первичную обработку, получается дроблёная смесь. Её отправляют на флотацию (обогащение) и двухэтапную очистку.\n",
    "\n",
    "Опишем каждую стадию:\n",
    "1. Флотация\n",
    "Во флотационную установку подаётся смесь золотосодержащей руды. После обогащения получается черновой концентрат и «отвальные хвосты», то есть остатки продукта с низкой концентрацией ценных металлов.\n",
    "На стабильность этого процесса влияет непостоянное и неоптимальное физико-химическое состояние флотационной пульпы (смеси твёрдых частиц и жидкости).\n",
    "2. Очистка\n",
    "Черновой концентрат проходит две очистки. На выходе получается финальный концентрат и новые отвальные хвосты.\n",
    "\n",
    "Нужно спрогнозировать сразу две величины:\n",
    "\n",
    "    эффективность обогащения чернового концентрата `rougher.output.recovery`;\n",
    "    эффективность обогащения финального концентрата `final.output.recovery`.\n",
    "\n",
    "**Описание данных**\n",
    "\n",
    "Данные находятся в трёх файлах:\n",
    "\n",
    "    gold_recovery_train_new.csv — обучающая выборка;\n",
    "    gold_recovery_test_new.csv — тестовая выборка;\n",
    "    gold_recovery_full_new.csv — исходные данные.\n",
    "\n",
    "Данные индексируются датой и временем получения информации (признак date). Соседние по времени параметры часто похожи.\n",
    "\n",
    "Некоторые параметры недоступны, потому что замеряются и/или рассчитываются значительно позже. Из-за этого в тестовой выборке отсутствуют некоторые признаки, которые могут быть в обучающей. Также в тестовом наборе нет целевых признаков.\n",
    "\n",
    "Исходный датасет содержит обучающую и тестовую выборки со всеми признаками.\n",
    "\n",
    "В вашем распоряжении сырые данные: их просто выгрузили из хранилища. Прежде чем приступить к построению модели, проверьте по нашей инструкции их на корректность.\n",
    "\n",
    "*Технологический процесс*\n",
    "\n",
    "    Rougher feed — исходное сырье\n",
    "    Rougher additions (или reagent additions) — флотационные реагенты: Xanthate, Sulphate, Depressant\n",
    "        Xanthate **— ксантогенат (промотер, или активатор флотации);\n",
    "        Sulphate — сульфат (на данном производстве сульфид натрия);\n",
    "        Depressant — депрессант (силикат натрия).\n",
    "    Rougher process (англ. «грубый процесс») — флотация\n",
    "    Rougher tails — отвальные хвосты\n",
    "    Float banks — флотационная установка\n",
    "    Cleaner process — очистка\n",
    "    Rougher Au — черновой концентрат золота\n",
    "    Final Au — финальный концентрат золота\n",
    "\n",
    "*Параметры этапов*\n",
    "\n",
    "    air amount — объём воздуха\n",
    "    fluid levels — уровень жидкости\n",
    "    feed size — размер гранул сырья\n",
    "    feed rate — скорость подачи\n",
    "\n",
    "Наименование признаков\n",
    "Наименование признаков должно быть такое:\n",
    "[этап].[тип_параметра].[название_параметра]\n",
    "\n",
    "Пример: rougher.input.feed_ag\n",
    "\n",
    "Возможные значения для блока [этап]:\n",
    "\n",
    "    rougher — флотация\n",
    "    primary_cleaner — первичная очистка\n",
    "    secondary_cleaner — вторичная очистка\n",
    "    final — финальные характеристики\n",
    "\n",
    "Возможные значения для блока [тип_параметра]:\n",
    "\n",
    "    input — параметры сырья\n",
    "    output — параметры продукта\n",
    "    state — параметры, характеризующие текущее состояние этапа\n",
    "    calculation — расчётные характеристики"
   ]
  },
  {
   "cell_type": "code",
   "execution_count": 81,
   "metadata": {},
   "outputs": [],
   "source": [
    "# импорт необходимых библиотек\n",
    "import pandas as pd\n",
    "import numpy as np\n",
    "import matplotlib.pyplot as plt\n",
    "\n",
    "from scipy import stats as st\n",
    "\n",
    "from sklearn.model_selection import train_test_split\n",
    "from sklearn.preprocessing import StandardScaler\n",
    "\n",
    "from sklearn.linear_model import LinearRegression\n",
    "from sklearn.tree import DecisionTreeRegressor\n",
    "from sklearn.ensemble import RandomForestRegressor\n",
    "\n",
    "from sklearn.dummy import DummyRegressor\n",
    "\n",
    "from sklearn.metrics import mean_absolute_error, make_scorer\n",
    "from sklearn.model_selection import cross_val_score, KFold"
   ]
  },
  {
   "cell_type": "markdown",
   "id": "7522453f",
   "metadata": {},
   "source": [
    "## Подготовка данных"
   ]
  },
  {
   "cell_type": "markdown",
   "id": "085438f6",
   "metadata": {},
   "source": [
    "### Загрузка данных"
   ]
  },
  {
   "cell_type": "code",
   "execution_count": 82,
   "id": "ac186628",
   "metadata": {},
   "outputs": [],
   "source": [
    "# загрузка данных\n",
    "try:\n",
    "    df_train = pd.read_csv('gold_recovery_train_new.csv') # Локальный путь\n",
    "    df_test  = pd.read_csv('gold_recovery_test_new.csv') # Локальный путь\n",
    "    df_full  = pd.read_csv('gold_recovery_full_new.csv') # Локальный путь\n",
    "#    df_churn = pd.read_csv('data-files/Churn.csv',index_col='RowNumber')  # Локальный путь\n",
    "except:\n",
    "    df_train = pd.read_csv('/datasets/gold_recovery_train_new.csv') # Серверный путь\n",
    "    df_test  = pd.read_csv('/datasets/gold_recovery_test_new.csv') # Серверный путь\n",
    "    df_full  = pd.read_csv('/datasets/gold_recovery_full_new.csv') # Серверный путь\n",
    "#    df_churn = pd.read_csv('/datasets/Churn.csv',index_col='RowNumber')  # Серверный путь\n"
   ]
  },
  {
   "cell_type": "markdown",
   "metadata": {},
   "source": [
    "Посмотрим данные"
   ]
  },
  {
   "cell_type": "code",
   "execution_count": 83,
   "id": "b82584fb",
   "metadata": {
    "scrolled": false
   },
   "outputs": [
    {
     "name": "stdout",
     "output_type": "stream",
     "text": [
      "<class 'pandas.core.frame.DataFrame'>\n",
      "RangeIndex: 14149 entries, 0 to 14148\n",
      "Data columns (total 87 columns):\n",
      " #   Column                                              Non-Null Count  Dtype  \n",
      "---  ------                                              --------------  -----  \n",
      " 0   date                                                14149 non-null  object \n",
      " 1   final.output.concentrate_ag                         14148 non-null  float64\n",
      " 2   final.output.concentrate_pb                         14148 non-null  float64\n",
      " 3   final.output.concentrate_sol                        13938 non-null  float64\n",
      " 4   final.output.concentrate_au                         14149 non-null  float64\n",
      " 5   final.output.recovery                               14149 non-null  float64\n",
      " 6   final.output.tail_ag                                14149 non-null  float64\n",
      " 7   final.output.tail_pb                                14049 non-null  float64\n",
      " 8   final.output.tail_sol                               14144 non-null  float64\n",
      " 9   final.output.tail_au                                14149 non-null  float64\n",
      " 10  primary_cleaner.input.sulfate                       14129 non-null  float64\n",
      " 11  primary_cleaner.input.depressant                    14117 non-null  float64\n",
      " 12  primary_cleaner.input.feed_size                     14149 non-null  float64\n",
      " 13  primary_cleaner.input.xanthate                      14049 non-null  float64\n",
      " 14  primary_cleaner.output.concentrate_ag               14149 non-null  float64\n",
      " 15  primary_cleaner.output.concentrate_pb               14063 non-null  float64\n",
      " 16  primary_cleaner.output.concentrate_sol              13863 non-null  float64\n",
      " 17  primary_cleaner.output.concentrate_au               14149 non-null  float64\n",
      " 18  primary_cleaner.output.tail_ag                      14148 non-null  float64\n",
      " 19  primary_cleaner.output.tail_pb                      14134 non-null  float64\n",
      " 20  primary_cleaner.output.tail_sol                     14103 non-null  float64\n",
      " 21  primary_cleaner.output.tail_au                      14149 non-null  float64\n",
      " 22  primary_cleaner.state.floatbank8_a_air              14145 non-null  float64\n",
      " 23  primary_cleaner.state.floatbank8_a_level            14148 non-null  float64\n",
      " 24  primary_cleaner.state.floatbank8_b_air              14145 non-null  float64\n",
      " 25  primary_cleaner.state.floatbank8_b_level            14148 non-null  float64\n",
      " 26  primary_cleaner.state.floatbank8_c_air              14147 non-null  float64\n",
      " 27  primary_cleaner.state.floatbank8_c_level            14148 non-null  float64\n",
      " 28  primary_cleaner.state.floatbank8_d_air              14146 non-null  float64\n",
      " 29  primary_cleaner.state.floatbank8_d_level            14148 non-null  float64\n",
      " 30  rougher.calculation.sulfate_to_au_concentrate       14148 non-null  float64\n",
      " 31  rougher.calculation.floatbank10_sulfate_to_au_feed  14148 non-null  float64\n",
      " 32  rougher.calculation.floatbank11_sulfate_to_au_feed  14148 non-null  float64\n",
      " 33  rougher.calculation.au_pb_ratio                     14149 non-null  float64\n",
      " 34  rougher.input.feed_ag                               14149 non-null  float64\n",
      " 35  rougher.input.feed_pb                               14049 non-null  float64\n",
      " 36  rougher.input.feed_rate                             14141 non-null  float64\n",
      " 37  rougher.input.feed_size                             14005 non-null  float64\n",
      " 38  rougher.input.feed_sol                              14071 non-null  float64\n",
      " 39  rougher.input.feed_au                               14149 non-null  float64\n",
      " 40  rougher.input.floatbank10_sulfate                   14120 non-null  float64\n",
      " 41  rougher.input.floatbank10_xanthate                  14141 non-null  float64\n",
      " 42  rougher.input.floatbank11_sulfate                   14113 non-null  float64\n",
      " 43  rougher.input.floatbank11_xanthate                  13721 non-null  float64\n",
      " 44  rougher.output.concentrate_ag                       14149 non-null  float64\n",
      " 45  rougher.output.concentrate_pb                       14149 non-null  float64\n",
      " 46  rougher.output.concentrate_sol                      14127 non-null  float64\n",
      " 47  rougher.output.concentrate_au                       14149 non-null  float64\n",
      " 48  rougher.output.recovery                             14149 non-null  float64\n",
      " 49  rougher.output.tail_ag                              14148 non-null  float64\n",
      " 50  rougher.output.tail_pb                              14149 non-null  float64\n",
      " 51  rougher.output.tail_sol                             14149 non-null  float64\n",
      " 52  rougher.output.tail_au                              14149 non-null  float64\n",
      " 53  rougher.state.floatbank10_a_air                     14148 non-null  float64\n",
      " 54  rougher.state.floatbank10_a_level                   14148 non-null  float64\n",
      " 55  rougher.state.floatbank10_b_air                     14148 non-null  float64\n",
      " 56  rougher.state.floatbank10_b_level                   14148 non-null  float64\n",
      " 57  rougher.state.floatbank10_c_air                     14148 non-null  float64\n",
      " 58  rougher.state.floatbank10_c_level                   14148 non-null  float64\n",
      " 59  rougher.state.floatbank10_d_air                     14149 non-null  float64\n",
      " 60  rougher.state.floatbank10_d_level                   14149 non-null  float64\n",
      " 61  rougher.state.floatbank10_e_air                     13713 non-null  float64\n",
      " 62  rougher.state.floatbank10_e_level                   14149 non-null  float64\n",
      " 63  rougher.state.floatbank10_f_air                     14149 non-null  float64\n",
      " 64  rougher.state.floatbank10_f_level                   14149 non-null  float64\n",
      " 65  secondary_cleaner.output.tail_ag                    14147 non-null  float64\n",
      " 66  secondary_cleaner.output.tail_pb                    14139 non-null  float64\n",
      " 67  secondary_cleaner.output.tail_sol                   12544 non-null  float64\n",
      " 68  secondary_cleaner.output.tail_au                    14149 non-null  float64\n",
      " 69  secondary_cleaner.state.floatbank2_a_air            13932 non-null  float64\n",
      " 70  secondary_cleaner.state.floatbank2_a_level          14148 non-null  float64\n",
      " 71  secondary_cleaner.state.floatbank2_b_air            14128 non-null  float64\n",
      " 72  secondary_cleaner.state.floatbank2_b_level          14148 non-null  float64\n",
      " 73  secondary_cleaner.state.floatbank3_a_air            14145 non-null  float64\n",
      " 74  secondary_cleaner.state.floatbank3_a_level          14148 non-null  float64\n",
      " 75  secondary_cleaner.state.floatbank3_b_air            14148 non-null  float64\n",
      " 76  secondary_cleaner.state.floatbank3_b_level          14148 non-null  float64\n",
      " 77  secondary_cleaner.state.floatbank4_a_air            14143 non-null  float64\n",
      " 78  secondary_cleaner.state.floatbank4_a_level          14148 non-null  float64\n",
      " 79  secondary_cleaner.state.floatbank4_b_air            14148 non-null  float64\n",
      " 80  secondary_cleaner.state.floatbank4_b_level          14148 non-null  float64\n",
      " 81  secondary_cleaner.state.floatbank5_a_air            14148 non-null  float64\n",
      " 82  secondary_cleaner.state.floatbank5_a_level          14148 non-null  float64\n",
      " 83  secondary_cleaner.state.floatbank5_b_air            14148 non-null  float64\n",
      " 84  secondary_cleaner.state.floatbank5_b_level          14148 non-null  float64\n",
      " 85  secondary_cleaner.state.floatbank6_a_air            14147 non-null  float64\n",
      " 86  secondary_cleaner.state.floatbank6_a_level          14148 non-null  float64\n",
      "dtypes: float64(86), object(1)\n",
      "memory usage: 9.4+ MB\n"
     ]
    }
   ],
   "source": [
    "df_train.info()"
   ]
  },
  {
   "cell_type": "markdown",
   "id": "da222792",
   "metadata": {},
   "source": [
    "### Проверка эффективности обогащения `rougher.output.recovery`"
   ]
  },
  {
   "cell_type": "markdown",
   "metadata": {},
   "source": [
    "Рассчитаем эффективность обогащения `rougher.output.recovery` и вычислим MAE между расчётами и значением признака.\n",
    "\n",
    "recovery = $\\frac{C(F-T)}{F(C-T)}$ * 100%\n",
    "\n",
    "где C — доля золота в концентрате после флотации/очистки;\n",
    "    F — доля золота в сырье/концентрате до флотации/очистки;\n",
    "    T — доля золота в отвальных хвостах после флотации/очистки."
   ]
  },
  {
   "cell_type": "code",
   "execution_count": 84,
   "id": "91c5a799",
   "metadata": {
    "scrolled": true
   },
   "outputs": [
    {
     "name": "stdout",
     "output_type": "stream",
     "text": [
      "<class 'pandas.core.frame.DataFrame'>\n",
      "RangeIndex: 14149 entries, 0 to 14148\n",
      "Data columns (total 4 columns):\n",
      " #   Column                         Non-Null Count  Dtype  \n",
      "---  ------                         --------------  -----  \n",
      " 0   rougher.input.feed_au          14149 non-null  float64\n",
      " 1   rougher.output.concentrate_au  14149 non-null  float64\n",
      " 2   rougher.output.tail_au         14149 non-null  float64\n",
      " 3   rougher.output.recovery        14149 non-null  float64\n",
      "dtypes: float64(4)\n",
      "memory usage: 442.3 KB\n"
     ]
    }
   ],
   "source": [
    "df_check = df_train[['rougher.input.feed_au',\n",
    "                     'rougher.output.concentrate_au',\n",
    "                     'rougher.output.tail_au',\n",
    "                     'rougher.output.recovery']]\n",
    "df_check.info() # проверим, есть ли nan в данных"
   ]
  },
  {
   "cell_type": "code",
   "execution_count": 85,
   "id": "8ea58c8f",
   "metadata": {},
   "outputs": [
    {
     "name": "stderr",
     "output_type": "stream",
     "text": [
      "/tmp/ipykernel_24/1192234105.py:5: SettingWithCopyWarning: \n",
      "A value is trying to be set on a copy of a slice from a DataFrame.\n",
      "Try using .loc[row_indexer,col_indexer] = value instead\n",
      "\n",
      "See the caveats in the documentation: https://pandas.pydata.org/pandas-docs/stable/user_guide/indexing.html#returning-a-view-versus-a-copy\n",
      "  df_check['rougher.output.recovery_calculated'] = (C * (F - T)) / (F * (C - T)) * 100\n"
     ]
    }
   ],
   "source": [
    "C = df_check['rougher.output.concentrate_au']\n",
    "F = df_check['rougher.input.feed_au']\n",
    "T = df_check['rougher.output.tail_au']\n",
    "\n",
    "df_check['rougher.output.recovery_calculated'] = (C * (F - T)) / (F * (C - T)) * 100"
   ]
  },
  {
   "cell_type": "code",
   "execution_count": 86,
   "id": "a1fa0e91",
   "metadata": {},
   "outputs": [
    {
     "name": "stdout",
     "output_type": "stream",
     "text": [
      "MAE между расчётами и значением признака = 9.73512347450521e-15\n"
     ]
    }
   ],
   "source": [
    "mae = mean_absolute_error(df_check['rougher.output.recovery'],\n",
    "                         df_check['rougher.output.recovery_calculated'])\n",
    "print('MAE между расчётами и значением признака =',mae)"
   ]
  },
  {
   "cell_type": "markdown",
   "metadata": {},
   "source": [
    "Ошибка MAE между расчётами и значением признака пренебрежительно мала, поэтому можно заключить, что эффективност рассчитана верно."
   ]
  },
  {
   "cell_type": "markdown",
   "id": "7f5ff9f9",
   "metadata": {},
   "source": [
    "### Сравнение тестовой и обучающей выборок"
   ]
  },
  {
   "cell_type": "markdown",
   "metadata": {},
   "source": [
    "Рассмотрим признаки, недоступные в тестовой выборке"
   ]
  },
  {
   "cell_type": "code",
   "execution_count": 87,
   "id": "6e87c934",
   "metadata": {
    "scrolled": true
   },
   "outputs": [
    {
     "data": {
      "text/plain": [
       "{'final.output.concentrate_ag',\n",
       " 'final.output.concentrate_au',\n",
       " 'final.output.concentrate_pb',\n",
       " 'final.output.concentrate_sol',\n",
       " 'final.output.recovery',\n",
       " 'final.output.tail_ag',\n",
       " 'final.output.tail_au',\n",
       " 'final.output.tail_pb',\n",
       " 'final.output.tail_sol',\n",
       " 'primary_cleaner.output.concentrate_ag',\n",
       " 'primary_cleaner.output.concentrate_au',\n",
       " 'primary_cleaner.output.concentrate_pb',\n",
       " 'primary_cleaner.output.concentrate_sol',\n",
       " 'primary_cleaner.output.tail_ag',\n",
       " 'primary_cleaner.output.tail_au',\n",
       " 'primary_cleaner.output.tail_pb',\n",
       " 'primary_cleaner.output.tail_sol',\n",
       " 'rougher.calculation.au_pb_ratio',\n",
       " 'rougher.calculation.floatbank10_sulfate_to_au_feed',\n",
       " 'rougher.calculation.floatbank11_sulfate_to_au_feed',\n",
       " 'rougher.calculation.sulfate_to_au_concentrate',\n",
       " 'rougher.output.concentrate_ag',\n",
       " 'rougher.output.concentrate_au',\n",
       " 'rougher.output.concentrate_pb',\n",
       " 'rougher.output.concentrate_sol',\n",
       " 'rougher.output.recovery',\n",
       " 'rougher.output.tail_ag',\n",
       " 'rougher.output.tail_au',\n",
       " 'rougher.output.tail_pb',\n",
       " 'rougher.output.tail_sol',\n",
       " 'secondary_cleaner.output.tail_ag',\n",
       " 'secondary_cleaner.output.tail_au',\n",
       " 'secondary_cleaner.output.tail_pb',\n",
       " 'secondary_cleaner.output.tail_sol'}"
      ]
     },
     "execution_count": 87,
     "metadata": {},
     "output_type": "execute_result"
    }
   ],
   "source": [
    "unavailable_features = set(df_train.columns) - set(df_test.columns)\n",
    "unavailable_features"
   ]
  },
  {
   "cell_type": "markdown",
   "metadata": {},
   "source": [
    "В тестовую выборку не входят:\n",
    "- расчетные характеристики для флотации,\n",
    "- параметры продукта на всех стадиях процесса,\n",
    "- финальный продукт.\n",
    "\n",
    "Все эти признаки связаны с целевым признаком и их использование ведет к утечке целевого признака.\n",
    "При обучении модели эти признаки необходимо убрать из выборки."
   ]
  },
  {
   "cell_type": "markdown",
   "id": "ab21fcee",
   "metadata": {},
   "source": [
    "### Предобработку данных"
   ]
  },
  {
   "cell_type": "markdown",
   "metadata": {},
   "source": [
    "Удалим признаки ведущие к утечке целевого признака"
   ]
  },
  {
   "cell_type": "code",
   "execution_count": 88,
   "id": "683c19f7",
   "metadata": {},
   "outputs": [],
   "source": [
    "df_train = df_train.drop(unavailable_features,axis=1)"
   ]
  },
  {
   "cell_type": "code",
   "execution_count": 89,
   "id": "269e0c73",
   "metadata": {},
   "outputs": [
    {
     "data": {
      "text/plain": [
       "date                                            0\n",
       "primary_cleaner.input.sulfate                  20\n",
       "primary_cleaner.input.depressant               32\n",
       "primary_cleaner.input.feed_size                 0\n",
       "primary_cleaner.input.xanthate                100\n",
       "primary_cleaner.state.floatbank8_a_air          4\n",
       "primary_cleaner.state.floatbank8_a_level        1\n",
       "primary_cleaner.state.floatbank8_b_air          4\n",
       "primary_cleaner.state.floatbank8_b_level        1\n",
       "primary_cleaner.state.floatbank8_c_air          2\n",
       "primary_cleaner.state.floatbank8_c_level        1\n",
       "primary_cleaner.state.floatbank8_d_air          3\n",
       "primary_cleaner.state.floatbank8_d_level        1\n",
       "rougher.input.feed_ag                           0\n",
       "rougher.input.feed_pb                         100\n",
       "rougher.input.feed_rate                         8\n",
       "rougher.input.feed_size                       144\n",
       "rougher.input.feed_sol                         78\n",
       "rougher.input.feed_au                           0\n",
       "rougher.input.floatbank10_sulfate              29\n",
       "rougher.input.floatbank10_xanthate              8\n",
       "rougher.input.floatbank11_sulfate              36\n",
       "rougher.input.floatbank11_xanthate            428\n",
       "rougher.state.floatbank10_a_air                 1\n",
       "rougher.state.floatbank10_a_level               1\n",
       "rougher.state.floatbank10_b_air                 1\n",
       "rougher.state.floatbank10_b_level               1\n",
       "rougher.state.floatbank10_c_air                 1\n",
       "rougher.state.floatbank10_c_level               1\n",
       "rougher.state.floatbank10_d_air                 0\n",
       "rougher.state.floatbank10_d_level               0\n",
       "rougher.state.floatbank10_e_air               436\n",
       "rougher.state.floatbank10_e_level               0\n",
       "rougher.state.floatbank10_f_air                 0\n",
       "rougher.state.floatbank10_f_level               0\n",
       "secondary_cleaner.state.floatbank2_a_air      217\n",
       "secondary_cleaner.state.floatbank2_a_level      1\n",
       "secondary_cleaner.state.floatbank2_b_air       21\n",
       "secondary_cleaner.state.floatbank2_b_level      1\n",
       "secondary_cleaner.state.floatbank3_a_air        4\n",
       "secondary_cleaner.state.floatbank3_a_level      1\n",
       "secondary_cleaner.state.floatbank3_b_air        1\n",
       "secondary_cleaner.state.floatbank3_b_level      1\n",
       "secondary_cleaner.state.floatbank4_a_air        6\n",
       "secondary_cleaner.state.floatbank4_a_level      1\n",
       "secondary_cleaner.state.floatbank4_b_air        1\n",
       "secondary_cleaner.state.floatbank4_b_level      1\n",
       "secondary_cleaner.state.floatbank5_a_air        1\n",
       "secondary_cleaner.state.floatbank5_a_level      1\n",
       "secondary_cleaner.state.floatbank5_b_air        1\n",
       "secondary_cleaner.state.floatbank5_b_level      1\n",
       "secondary_cleaner.state.floatbank6_a_air        2\n",
       "secondary_cleaner.state.floatbank6_a_level      1\n",
       "dtype: int64"
      ]
     },
     "execution_count": 89,
     "metadata": {},
     "output_type": "execute_result"
    }
   ],
   "source": [
    "df_train.isna().sum()"
   ]
  },
  {
   "cell_type": "markdown",
   "metadata": {},
   "source": [
    "Так как мы имеем данные меняющиеся с течением времени, заменим NaN на значение в предыдущей ячейке."
   ]
  },
  {
   "cell_type": "code",
   "execution_count": 90,
   "id": "8fe5a08d",
   "metadata": {},
   "outputs": [],
   "source": [
    "df_train = df_train.fillna(method='ffill')"
   ]
  },
  {
   "cell_type": "code",
   "execution_count": 92,
   "id": "df9eac75",
   "metadata": {},
   "outputs": [],
   "source": [
    "df_test = df_test.fillna(method='ffill')"
   ]
  },
  {
   "cell_type": "markdown",
   "metadata": {},
   "source": [
    "Для df_full удалим строки, в которых нет целевого признака 'rougher.output.recovery' или 'final.output.recovery'."
   ]
  },
  {
   "cell_type": "code",
   "execution_count": 93,
   "id": "c0d39711",
   "metadata": {},
   "outputs": [
    {
     "data": {
      "text/plain": [
       "rougher.output.recovery    0\n",
       "final.output.recovery      0\n",
       "dtype: int64"
      ]
     },
     "execution_count": 93,
     "metadata": {},
     "output_type": "execute_result"
    }
   ],
   "source": [
    "df_full[['rougher.output.recovery','final.output.recovery']].isna().sum()"
   ]
  },
  {
   "cell_type": "markdown",
   "metadata": {},
   "source": [
    "Таких строк нет."
   ]
  },
  {
   "cell_type": "code",
   "execution_count": 94,
   "id": "efcafad4",
   "metadata": {},
   "outputs": [],
   "source": [
    "df_full = df_full.fillna(method='ffill')"
   ]
  },
  {
   "cell_type": "markdown",
   "metadata": {},
   "source": [
    "### Вывод\n",
    "\n",
    "На данном этапе были сделаны следующи шаги:\n",
    "- проверена эффективность обогащения `rougher.output.recovery`;\n",
    "- в обучающей выборки удалены столбцы с признаками приводящими к утечке целевого признака;\n",
    "- во всех датафреймах NaN заполнены значениями из предыдущей ячейки."
   ]
  },
  {
   "cell_type": "markdown",
   "id": "86409878",
   "metadata": {},
   "source": [
    "## Анализ данных"
   ]
  },
  {
   "cell_type": "markdown",
   "id": "8b090171",
   "metadata": {},
   "source": [
    "### Изменение концентрации металлов (Au, Ag, Pb) на различных этапах очистки"
   ]
  },
  {
   "cell_type": "code",
   "execution_count": 95,
   "id": "a2310d4c",
   "metadata": {
    "scrolled": false
   },
   "outputs": [],
   "source": [
    "def subplots(data,element):\n",
    "    columns_element = [f'rougher.input.feed_{element.lower()}',\n",
    "                       f'rougher.output.concentrate_{element.lower()}',\n",
    "                       f'primary_cleaner.output.concentrate_{element.lower()}',\n",
    "                       f'final.output.concentrate_{element.lower()}']\n",
    "    concentrate_element = data[columns_element]\n",
    "    \n",
    "    concentrate_element.boxplot(grid=True)\n",
    "    \n",
    "    plt.title(f'{element}')\n",
    "    plt.xlabel(\"Этап\")\n",
    "    plt.ylabel(\"Концентрация, %\")\n",
    "    plt.xticks([1,2,3,4],['сырье','флотация','первичная\\nочистка','вторичная\\nочистка\\n(итоговый продукт)'],size=8)\n"
   ]
  },
  {
   "cell_type": "code",
   "execution_count": 96,
   "id": "93af8dea",
   "metadata": {},
   "outputs": [
    {
     "data": {
      "image/png": "[encoded data removed]",
      "text/plain": [
       "<Figure size 936x360 with 3 Axes>"
      ]
     },
     "metadata": {
      "needs_background": "light"
     },
     "output_type": "display_data"
    }
   ],
   "source": [
    "plt.subplots(1,3, figsize=(13,5))\n",
    "\n",
    "plt.subplot(1,3,1)\n",
    "subplots(df_full,'Au')\n",
    "\n",
    "plt.subplot(1,3,2)\n",
    "subplots(df_full,'Ag')\n",
    "\n",
    "plt.subplot(1,3,3)\n",
    "subplots(df_full,'Pb')\n",
    "\n",
    "plt.suptitle(\"Диаграмма размаха концентрации вещества после каждго этапа очистки руды\",size=12)\n",
    "plt.tight_layout(h_pad=2)\n",
    "plt.show()"
   ]
  },
  {
   "cell_type": "markdown",
   "id": "d69d6a44",
   "metadata": {},
   "source": [
    "Из графика видно, что \n",
    "- концентрация золота в ходе процесса растет,\n",
    "- концентрация серебра уменьшается,\n",
    "- концентрация свинца увеличивается после флотации, а потом остается примерно на том же уровне. Возможно это связано со свойствами свинца.\n",
    "\n",
    "Главные параметр успешности процесса - концентрация золота, растет на каждом этапе."
   ]
  },
  {
   "cell_type": "markdown",
   "id": "d9400598",
   "metadata": {},
   "source": [
    "### Сравнение распределения размеров гранул сырья на обучающей и тестовой выборках"
   ]
  },
  {
   "cell_type": "code",
   "execution_count": 97,
   "id": "1f134581",
   "metadata": {},
   "outputs": [
    {
     "data": {
      "text/html": [
       "<div>\n",
       "<style scoped>\n",
       "    .dataframe tbody tr th:only-of-type {\n",
       "        vertical-align: middle;\n",
       "    }\n",
       "\n",
       "    .dataframe tbody tr th {\n",
       "        vertical-align: top;\n",
       "    }\n",
       "\n",
       "    .dataframe thead th {\n",
       "        text-align: right;\n",
       "    }\n",
       "</style>\n",
       "<table border=\"1\" class=\"dataframe\">\n",
       "  <thead>\n",
       "    <tr style=\"text-align: right;\">\n",
       "      <th></th>\n",
       "      <th>primary_cleaner.input.feed_size</th>\n",
       "      <th>rougher.input.feed_size</th>\n",
       "    </tr>\n",
       "  </thead>\n",
       "  <tbody>\n",
       "    <tr>\n",
       "      <th>0</th>\n",
       "      <td>8.080000</td>\n",
       "      <td>62.710452</td>\n",
       "    </tr>\n",
       "    <tr>\n",
       "      <th>1</th>\n",
       "      <td>8.080000</td>\n",
       "      <td>61.961163</td>\n",
       "    </tr>\n",
       "    <tr>\n",
       "      <th>2</th>\n",
       "      <td>7.786667</td>\n",
       "      <td>66.903807</td>\n",
       "    </tr>\n",
       "    <tr>\n",
       "      <th>3</th>\n",
       "      <td>7.640000</td>\n",
       "      <td>59.865919</td>\n",
       "    </tr>\n",
       "    <tr>\n",
       "      <th>4</th>\n",
       "      <td>7.530000</td>\n",
       "      <td>63.315324</td>\n",
       "    </tr>\n",
       "  </tbody>\n",
       "</table>\n",
       "</div>"
      ],
      "text/plain": [
       "   primary_cleaner.input.feed_size  rougher.input.feed_size\n",
       "0                         8.080000                62.710452\n",
       "1                         8.080000                61.961163\n",
       "2                         7.786667                66.903807\n",
       "3                         7.640000                59.865919\n",
       "4                         7.530000                63.315324"
      ]
     },
     "execution_count": 97,
     "metadata": {},
     "output_type": "execute_result"
    }
   ],
   "source": [
    "columns = df_test.columns[df_test.columns.str.contains('feed_size')]\n",
    "size_test = df_test[columns]\n",
    "size_train = df_train[columns]\n",
    "\n",
    "size_test.head()"
   ]
  },
  {
   "cell_type": "code",
   "execution_count": 98,
   "id": "06386fdb",
   "metadata": {},
   "outputs": [],
   "source": [
    "bins = 100\n",
    "fig_size=(10,5)\n",
    "opacity = 0.5"
   ]
  },
  {
   "cell_type": "code",
   "execution_count": 99,
   "id": "2a5e1a89",
   "metadata": {},
   "outputs": [
    {
     "data": {
      "image/png": "[encoded data removed]",
      "text/plain": [
       "<Figure size 720x360 with 1 Axes>"
      ]
     },
     "metadata": {
      "needs_background": "light"
     },
     "output_type": "display_data"
    }
   ],
   "source": [
    "size_test['rougher.input.feed_size'].hist(bins=bins, \n",
    "                                          alpha=opacity, \n",
    "                                          figsize=fig_size,\n",
    "                                          edgecolor='blue',\n",
    "                                          label='test')\n",
    "size_train['rougher.input.feed_size'].hist(bins=bins, \n",
    "                                           alpha=opacity, \n",
    "                                           figsize=fig_size,\n",
    "                                           edgecolor='red',\n",
    "                                           label='train')\n",
    "plt.legend(loc='upper right')\n",
    "plt.title('Распределения размеров гранул сырья')\n",
    "plt.show()"
   ]
  },
  {
   "cell_type": "code",
   "execution_count": 100,
   "id": "c36e00cb",
   "metadata": {},
   "outputs": [
    {
     "data": {
      "image/png": "[encoded data removed]",
      "text/plain": [
       "<Figure size 720x360 with 2 Axes>"
      ]
     },
     "metadata": {
      "needs_background": "light"
     },
     "output_type": "display_data"
    }
   ],
   "source": [
    "plt.subplots(1,2, figsize=(10,5))\n",
    "\n",
    "plt.subplot(1,2,1)\n",
    "size_test[['rougher.input.feed_size']].boxplot()\n",
    "plt.xticks([1],[\"тестовая выборка\"])\n",
    "plt.ylim(-10,510)\n",
    "\n",
    "plt.subplot(1,2,2)\n",
    "size_train[['rougher.input.feed_size']].boxplot()\n",
    "plt.xticks([1],[\"обучающая выборка\"])\n",
    "plt.ylim(-10,510)\n",
    "\n",
    "plt.suptitle(\"Размер гранул сырья\",size=12)\n",
    "#plt.tight_layout(h_pad=2)\n",
    "plt.show()"
   ]
  },
  {
   "cell_type": "markdown",
   "id": "38ef6b08",
   "metadata": {},
   "source": [
    "Распределение достаточно похожи друг на друга. Наблюдаемые различия скорее возникают из-за различной величины выборок."
   ]
  },
  {
   "cell_type": "markdown",
   "id": "e0e4e634",
   "metadata": {},
   "source": [
    "### Суммарная концентрация всех веществ на разных стадиях: в сырье, в черновом и финальном концентратах"
   ]
  },
  {
   "cell_type": "code",
   "execution_count": 101,
   "id": "6e126d63",
   "metadata": {},
   "outputs": [
    {
     "name": "stdout",
     "output_type": "stream",
     "text": [
      "<class 'pandas.core.frame.DataFrame'>\n",
      "RangeIndex: 19439 entries, 0 to 19438\n",
      "Data columns (total 12 columns):\n",
      " #   Column                                  Non-Null Count  Dtype  \n",
      "---  ------                                  --------------  -----  \n",
      " 0   final.output.concentrate_ag             19439 non-null  float64\n",
      " 1   final.output.concentrate_pb             19439 non-null  float64\n",
      " 2   final.output.concentrate_sol            19439 non-null  float64\n",
      " 3   final.output.concentrate_au             19439 non-null  float64\n",
      " 4   primary_cleaner.output.concentrate_ag   19439 non-null  float64\n",
      " 5   primary_cleaner.output.concentrate_pb   19439 non-null  float64\n",
      " 6   primary_cleaner.output.concentrate_sol  19439 non-null  float64\n",
      " 7   primary_cleaner.output.concentrate_au   19439 non-null  float64\n",
      " 8   rougher.output.concentrate_ag           19439 non-null  float64\n",
      " 9   rougher.output.concentrate_pb           19439 non-null  float64\n",
      " 10  rougher.output.concentrate_sol          19439 non-null  float64\n",
      " 11  rougher.output.concentrate_au           19439 non-null  float64\n",
      "dtypes: float64(12)\n",
      "memory usage: 1.8 MB\n"
     ]
    }
   ],
   "source": [
    "columns = df_full.columns[df_full.columns.str.contains('concentrate_')]\n",
    "df_concentrate = df_full[columns]\n",
    "\n",
    "df_concentrate.info()"
   ]
  },
  {
   "cell_type": "code",
   "execution_count": 102,
   "id": "9663b159",
   "metadata": {
    "scrolled": true
   },
   "outputs": [
    {
     "name": "stdout",
     "output_type": "stream",
     "text": [
      "<class 'pandas.core.frame.DataFrame'>\n",
      "RangeIndex: 19439 entries, 0 to 19438\n",
      "Data columns (total 15 columns):\n",
      " #   Column                                    Non-Null Count  Dtype  \n",
      "---  ------                                    --------------  -----  \n",
      " 0   final.output.concentrate_ag               19439 non-null  float64\n",
      " 1   final.output.concentrate_pb               19439 non-null  float64\n",
      " 2   final.output.concentrate_sol              19439 non-null  float64\n",
      " 3   final.output.concentrate_au               19439 non-null  float64\n",
      " 4   primary_cleaner.output.concentrate_ag     19439 non-null  float64\n",
      " 5   primary_cleaner.output.concentrate_pb     19439 non-null  float64\n",
      " 6   primary_cleaner.output.concentrate_sol    19439 non-null  float64\n",
      " 7   primary_cleaner.output.concentrate_au     19439 non-null  float64\n",
      " 8   rougher.output.concentrate_ag             19439 non-null  float64\n",
      " 9   rougher.output.concentrate_pb             19439 non-null  float64\n",
      " 10  rougher.output.concentrate_sol            19439 non-null  float64\n",
      " 11  rougher.output.concentrate_au             19439 non-null  float64\n",
      " 12  final.output.concentrate_total            19439 non-null  float64\n",
      " 13  primary_cleaner.output.concentrate_total  19439 non-null  float64\n",
      " 14  rougher.output.concentrate_total          19439 non-null  float64\n",
      "dtypes: float64(15)\n",
      "memory usage: 2.2 MB\n"
     ]
    },
    {
     "name": "stderr",
     "output_type": "stream",
     "text": [
      "/tmp/ipykernel_24/3577960115.py:3: SettingWithCopyWarning: \n",
      "A value is trying to be set on a copy of a slice from a DataFrame.\n",
      "Try using .loc[row_indexer,col_indexer] = value instead\n",
      "\n",
      "See the caveats in the documentation: https://pandas.pydata.org/pandas-docs/stable/user_guide/indexing.html#returning-a-view-versus-a-copy\n",
      "  df_concentrate[f'{stage}.output.concentrate_total'] = df_concentrate[columns].sum(axis=1)\n"
     ]
    }
   ],
   "source": [
    "for stage in ['final','primary_cleaner','rougher']:\n",
    "    columns = df_concentrate.columns[df_concentrate.columns.str.contains(f'{stage}')]\n",
    "    df_concentrate[f'{stage}.output.concentrate_total'] = df_concentrate[columns].sum(axis=1)\n",
    "\n",
    "df_concentrate.info()"
   ]
  },
  {
   "cell_type": "code",
   "execution_count": 103,
   "metadata": {},
   "outputs": [
    {
     "name": "stderr",
     "output_type": "stream",
     "text": [
      "/tmp/ipykernel_24/316478794.py:1: SettingWithCopyWarning: \n",
      "A value is trying to be set on a copy of a slice from a DataFrame.\n",
      "Try using .loc[row_indexer,col_indexer] = value instead\n",
      "\n",
      "See the caveats in the documentation: https://pandas.pydata.org/pandas-docs/stable/user_guide/indexing.html#returning-a-view-versus-a-copy\n",
      "  df_concentrate['rougher.input.feed_total'] = df_full['rougher.input.feed_ag'] + \\\n"
     ]
    }
   ],
   "source": [
    "df_concentrate['rougher.input.feed_total'] = df_full['rougher.input.feed_ag'] + \\\n",
    "                                       df_full['rougher.input.feed_pb'] + \\\n",
    "                                       df_full['rougher.input.feed_sol'] + \\\n",
    "                                       df_full['rougher.input.feed_au']"
   ]
  },
  {
   "cell_type": "code",
   "execution_count": 104,
   "id": "f896141e",
   "metadata": {},
   "outputs": [
    {
     "data": {
      "text/plain": [
       "Text(0.5, 1.0, 'Диаграмма размаха суммарной концентрации веществ на разных этапах очистки руды')"
      ]
     },
     "execution_count": 104,
     "metadata": {},
     "output_type": "execute_result"
    },
    {
     "data": {
      "image/png": "[encoded data removed]",
      "text/plain": [
       "<Figure size 720x576 with 1 Axes>"
      ]
     },
     "metadata": {
      "needs_background": "light"
     },
     "output_type": "display_data"
    }
   ],
   "source": [
    "columns_element = [f'rougher.input.feed_total',\n",
    "                   f'rougher.output.concentrate_total',\n",
    "                   f'final.output.concentrate_total']\n",
    "concentrate_element = df_concentrate[columns_element]\n",
    "    \n",
    "concentrate_element.boxplot(grid=True,figsize=(10,8))\n",
    "\n",
    "plt.xlabel(\"Этап\")\n",
    "plt.ylabel(\"Концентрация, %\")\n",
    "plt.xticks([1,2,3],['сырье','черновой\\nконцентрат','итоговый\\nпродукт'],size=12)\n",
    "\n",
    "plt.title(\"Диаграмма размаха суммарной концентрации веществ на разных этапах очистки руды\",size=14)"
   ]
  },
  {
   "cell_type": "markdown",
   "metadata": {},
   "source": [
    "В данных видны выбросы. Есть даже нулевые или около-нулевые значения в итоговом продукте.\n",
    "\n",
    "Для дальнейшей работы удалим выбросы из данных.\n",
    "Удалим строки, которые являются выбросами для исходного сырья, так как эти строки можно назвать \"чистыми\" выбросами - они обусловлены только начальным сырьем, к ним еще не присоединился разброс вносимый разными параметрами процесса.\n",
    "\n",
    "Проверим как изменится диаграмма размаха"
   ]
  },
  {
   "cell_type": "code",
   "execution_count": 105,
   "metadata": {},
   "outputs": [],
   "source": [
    "df_concentrate = df_concentrate.loc[df_concentrate.loc[:,'rougher.input.feed_total'] >= 40]"
   ]
  },
  {
   "cell_type": "code",
   "execution_count": 106,
   "metadata": {},
   "outputs": [
    {
     "data": {
      "text/plain": [
       "Text(0.5, 1.0, 'Диаграмма размаха суммарной концентрации веществ на разных этапах очистки руды')"
      ]
     },
     "execution_count": 106,
     "metadata": {},
     "output_type": "execute_result"
    },
    {
     "data": {
      "image/png": "[encoded data removed]",
      "text/plain": [
       "<Figure size 720x576 with 1 Axes>"
      ]
     },
     "metadata": {
      "needs_background": "light"
     },
     "output_type": "display_data"
    }
   ],
   "source": [
    "columns_element = [f'rougher.input.feed_total',\n",
    "                   f'rougher.output.concentrate_total',\n",
    "                   f'final.output.concentrate_total']\n",
    "concentrate_element = df_concentrate[columns_element]\n",
    "    \n",
    "concentrate_element.boxplot(grid=True,figsize=(10,8))\n",
    "\n",
    "plt.xlabel(\"Этап\")\n",
    "plt.ylabel(\"Концентрация, %\")\n",
    "plt.xticks([1,2,3],['сырье','черновой\\nконцентрат','итоговый\\nпродукт'],size=12)\n",
    "\n",
    "plt.title(\"Диаграмма размаха суммарной концентрации веществ на разных этапах очистки руды\",size=14)"
   ]
  },
  {
   "cell_type": "markdown",
   "metadata": {},
   "source": [
    "Видно, что на других этапах выбросы частично исчезли.\n",
    "\n",
    "Теперь таким же методом удалим выбросы из обучающей выборки."
   ]
  },
  {
   "cell_type": "code",
   "execution_count": 107,
   "metadata": {},
   "outputs": [
    {
     "data": {
      "text/plain": [
       "(13820, 53)"
      ]
     },
     "execution_count": 107,
     "metadata": {},
     "output_type": "execute_result"
    }
   ],
   "source": [
    "df_train['rougher.input.feed_total'] = df_train['rougher.input.feed_ag'] + \\\n",
    "                                       df_train['rougher.input.feed_pb'] + \\\n",
    "                                       df_train['rougher.input.feed_sol'] + \\\n",
    "                                       df_train['rougher.input.feed_au']\n",
    "\n",
    "\n",
    "df_train = df_train.loc[df_train.loc[:,'rougher.input.feed_total'] >= 40]\n",
    "\n",
    "df_train = df_train.drop(['rougher.input.feed_total'], axis=1)\n",
    "\n",
    "df_train.shape"
   ]
  },
  {
   "cell_type": "markdown",
   "id": "2de47001",
   "metadata": {},
   "source": [
    "## Модель"
   ]
  },
  {
   "cell_type": "markdown",
   "id": "df01e943",
   "metadata": {},
   "source": [
    "Подготовим обучающую и тестовую выборку.\n",
    "Для этого добавим целевые столбцы из df_full таблицы."
   ]
  },
  {
   "cell_type": "code",
   "execution_count": 108,
   "id": "d674d61f",
   "metadata": {},
   "outputs": [],
   "source": [
    "df_full_target = df_full[['date', 'final.output.recovery', 'rougher.output.recovery']]"
   ]
  },
  {
   "cell_type": "code",
   "execution_count": 109,
   "id": "3bb9b25b",
   "metadata": {},
   "outputs": [],
   "source": [
    "df_test = df_test.merge(df_full_target, on='date')\n",
    "df_test = df_test.drop(['date'], axis=1)"
   ]
  },
  {
   "cell_type": "code",
   "execution_count": 110,
   "id": "c859f0ec",
   "metadata": {},
   "outputs": [],
   "source": [
    "df_train = df_train.merge(df_full_target, on='date')\n",
    "df_train = df_train.drop(['date'], axis=1)\n",
    "\n",
    "#df_train.info()"
   ]
  },
  {
   "cell_type": "markdown",
   "id": "8c72687e",
   "metadata": {},
   "source": [
    "Разделим выборки на целевой признак и обучающие признаки."
   ]
  },
  {
   "cell_type": "code",
   "execution_count": 111,
   "id": "a422ca56",
   "metadata": {},
   "outputs": [],
   "source": [
    "features_test = df_test.drop(['final.output.recovery', 'rougher.output.recovery'], axis=1)\n",
    "features_train = df_train.drop(['final.output.recovery', 'rougher.output.recovery'], axis=1)\n",
    "\n",
    "target_test = df_test[['final.output.recovery', 'rougher.output.recovery']]\n",
    "target_train = df_train[['final.output.recovery', 'rougher.output.recovery']]"
   ]
  },
  {
   "cell_type": "code",
   "execution_count": 112,
   "id": "163f1d6e",
   "metadata": {},
   "outputs": [],
   "source": [
    "# Проведем масштабирование признаков\n",
    "scaler = StandardScaler()\n",
    "\n",
    "scaler.fit(features_train) \n",
    "features_train = scaler.transform(features_train)\n",
    "features_test = scaler.transform(features_test)"
   ]
  },
  {
   "cell_type": "code",
   "execution_count": 113,
   "id": "b15437db",
   "metadata": {},
   "outputs": [
    {
     "name": "stdout",
     "output_type": "stream",
     "text": [
      "Размер тестовой выборки:\n",
      "features_test: (5290, 52)\n",
      "target_test: (5290, 2)\n",
      "\n",
      "Размер обучающей выборки:\n",
      "features_train: (13820, 52)\n",
      "target_train: (13820, 2)\n"
     ]
    }
   ],
   "source": [
    "# Проверка на соответсвие размеров выборок\n",
    "print('Размер тестовой выборки:')\n",
    "print('features_test:',features_test.shape)\n",
    "print('target_test:',target_test.shape)\n",
    "\n",
    "print()\n",
    "print('Размер обучающей выборки:')\n",
    "print('features_train:',features_train.shape)\n",
    "print('target_train:',target_train.shape)"
   ]
  },
  {
   "cell_type": "markdown",
   "id": "e1308f19",
   "metadata": {},
   "source": [
    "### Функция для вычисления sMAPE"
   ]
  },
  {
   "cell_type": "code",
   "execution_count": 114,
   "id": "4e187b51",
   "metadata": {},
   "outputs": [],
   "source": [
    "def smape(real,prediction):\n",
    "    N = len(real)\n",
    "    for_sum = np.abs(real - prediction) / ((np.abs(real) + np.abs(prediction))/2)\n",
    "    smape = np.sum(for_sum) * 100 / N\n",
    "    total_smape = 0.25*smape[0] + 0.75*smape[1]\n",
    "    return total_smape"
   ]
  },
  {
   "cell_type": "code",
   "execution_count": 115,
   "id": "21839e24",
   "metadata": {},
   "outputs": [],
   "source": [
    "# разбиение на подвыборки для кросс-валидации\n",
    "kf = KFold(n_splits=2, shuffle=True, random_state=0)\n",
    "\n",
    "# подготовим метрику для дальнейшего использования\n",
    "smape_score = make_scorer(smape, greater_is_better=True)\n"
   ]
  },
  {
   "cell_type": "markdown",
   "id": "fb568b02",
   "metadata": {},
   "source": [
    "### Обучение и выбор разных моделей"
   ]
  },
  {
   "cell_type": "markdown",
   "id": "02a76728",
   "metadata": {},
   "source": [
    "Выберем лучшие параметры для моделей типа \"дерево решений\" и \"случайный лес\"."
   ]
  },
  {
   "cell_type": "code",
   "execution_count": 116,
   "id": "8c17f3ec",
   "metadata": {},
   "outputs": [],
   "source": [
    "# DecisionTreeRegressor\n",
    "def best_papameters_tree(features_train,target_train):\n",
    "    best_model_tree = None\n",
    "    best_score_tree = 100000\n",
    "    best_depth_tree = 0\n",
    "    for depth in range(1, 20):\n",
    "        model_tree = DecisionTreeRegressor(random_state=0, max_depth=depth)\n",
    "        \n",
    "        # оценка кросс-валидацией\n",
    "        scores = cross_val_score(model_tree, features_train, target_train, cv=kf, scoring=smape_score) \n",
    "        score_tree = sum(scores)/len(scores)\n",
    "        \n",
    "        if score_tree < best_score_tree:\n",
    "            best_model_tree = model_tree\n",
    "            best_score_tree = score_tree\n",
    "            best_depth_tree = depth\n",
    "    return best_depth_tree"
   ]
  },
  {
   "cell_type": "code",
   "execution_count": 117,
   "id": "41e520bc",
   "metadata": {},
   "outputs": [],
   "source": [
    "best_depth_tree = best_papameters_tree(features_train,target_train)\n",
    "\n",
    "model_tree = DecisionTreeRegressor(random_state=0, max_depth=best_depth_tree)\n",
    "\n",
    "scores = cross_val_score(model_tree, features_train, target_train, cv=kf, scoring=smape_score) \n",
    "score_tree = sum(scores)/len(scores)"
   ]
  },
  {
   "cell_type": "code",
   "execution_count": 118,
   "id": "323642ec",
   "metadata": {},
   "outputs": [],
   "source": [
    "# RandomForestRegressor\n",
    "def best_papameters_forest(features_train,target_train):\n",
    "    best_model_forest = None\n",
    "    best_score_forest = 100000\n",
    "    best_est_forest = 0\n",
    "    best_depth_forest = 0\n",
    "    for est in range(22,26):\n",
    "        for depth in range (3,6):\n",
    "            model_forest = RandomForestRegressor(random_state=12345, n_estimators=est,max_depth=depth)\n",
    "            # оценка кросс-валидацией\n",
    "            scores = cross_val_score(model_forest, features_train, target_train, cv=kf, scoring=smape_score) \n",
    "            score_forest = sum(scores)/len(scores)\n",
    "            \n",
    "            if score_forest < best_score_forest:\n",
    "                best_model_forest = model_forest\n",
    "                best_score_forest = score_forest\n",
    "                best_est_forest = est\n",
    "                best_depth_forest = depth\n",
    "    return best_depth_forest,best_est_forest"
   ]
  },
  {
   "cell_type": "code",
   "execution_count": 119,
   "id": "b3ce1949",
   "metadata": {},
   "outputs": [],
   "source": [
    "best_depth_forest,best_est_forest = best_papameters_forest(features_train,target_train)\n",
    "\n",
    "model_forest = RandomForestRegressor(random_state=0, n_estimators=best_est_forest,max_depth=best_depth_forest)\n",
    "\n",
    "# оценка кросс-валидацией\n",
    "scores = cross_val_score(model_forest, features_train, target_train, cv=kf, scoring=smape_score) \n",
    "score_forest = sum(scores)/len(scores)"
   ]
  },
  {
   "cell_type": "code",
   "execution_count": 120,
   "id": "12b7a440",
   "metadata": {},
   "outputs": [],
   "source": [
    "# LinearRegression\n",
    "model_lin = LinearRegression()\n",
    "\n",
    "# оценка кросс-валидацией\n",
    "scores = cross_val_score(model_lin, features_train, target_train, cv=kf, scoring=smape_score) \n",
    "score_lin = sum(scores)/len(scores)"
   ]
  },
  {
   "cell_type": "code",
   "execution_count": 121,
   "id": "33f95bc9",
   "metadata": {},
   "outputs": [
    {
     "name": "stdout",
     "output_type": "stream",
     "text": [
      "Оценка кросс-валидацией моделей на обучающей выборке:\n",
      "\"дерево решений\":\t 7.9997671207398735 Глубина дерева:\t 12\n",
      "\"случайный лес\":\t 9.217669170441315 Количество деревьев: 24 Максимальная глубина:\t 5\n",
      "\"линейная регрессия\":\t 9.635022754557435\n"
     ]
    }
   ],
   "source": [
    "print(\"Оценка кросс-валидацией моделей на обучающей выборке:\")\n",
    "\n",
    "print(\"\\\"дерево решений\\\":\\t\", score_tree, \n",
    "      \"Глубина дерева:\\t\", best_depth_tree)\n",
    "\n",
    "print(\"\\\"случайный лес\\\":\\t\", score_forest, \n",
    "      \"Количество деревьев:\", best_est_forest, \n",
    "      \"Максимальная глубина:\\t\", best_depth_forest)\n",
    "\n",
    "print(\"\\\"линейная регрессия\\\":\\t\", score_lin)"
   ]
  },
  {
   "cell_type": "markdown",
   "id": "cdb6661f",
   "metadata": {},
   "source": [
    "### Тестирование модели"
   ]
  },
  {
   "cell_type": "markdown",
   "id": "9a2c1056",
   "metadata": {},
   "source": [
    "На обучающей выборке лучший результат показала модель решающего дерева.\n",
    "Проверим на тестовой выборке все полученные модели:"
   ]
  },
  {
   "cell_type": "code",
   "execution_count": 122,
   "id": "3ca5293e",
   "metadata": {},
   "outputs": [],
   "source": [
    "model_lin.fit(features_train, target_train)\n",
    "prediction_lin = model_lin.predict(features_test)\n",
    "\n",
    "smape_lin = smape(prediction_lin,target_test)\n",
    "\n",
    "\n",
    "\n",
    "model_tree.fit(features_train, target_train)\n",
    "prediction_tree = model_tree.predict(features_test)\n",
    "\n",
    "smape_tree = smape(prediction_tree,target_test)\n",
    "\n",
    "\n",
    "model_forest.fit(features_train, target_train)\n",
    "prediction_forest = model_forest.predict(features_test)\n",
    "\n",
    "smape_forest = smape(prediction_forest,target_test)"
   ]
  },
  {
   "cell_type": "code",
   "execution_count": 123,
   "id": "74d5be8f",
   "metadata": {},
   "outputs": [
    {
     "name": "stdout",
     "output_type": "stream",
     "text": [
      "Оценка модели на тестовой выборке:\n",
      "\"логическая регрессия\":\t 9.943159833533326\n",
      "\"решающее дерево\":\t 12.640604235928311\n",
      "\"случайный лес\":\t 9.309152818567721\n"
     ]
    }
   ],
   "source": [
    "print(\"Оценка модели на тестовой выборке:\")\n",
    "\n",
    "print(\"\\\"логическая регрессия\\\":\\t\", smape_lin)\n",
    "print(\"\\\"решающее дерево\\\":\\t\",smape_tree)\n",
    "print(\"\\\"случайный лес\\\":\\t\",smape_forest)"
   ]
  },
  {
   "cell_type": "markdown",
   "metadata": {},
   "source": [
    "На тестовой выборке лучший результат показала модель случайного леса, хотя на обучающей лидировало решающее дерево. Сравним полученные предсказания с константной моделью:"
   ]
  },
  {
   "cell_type": "code",
   "execution_count": 124,
   "metadata": {},
   "outputs": [],
   "source": [
    "model_dummy = DummyRegressor(strategy='mean')\n",
    "\n",
    "model_dummy.fit(features_train, target_train)\n",
    "prediction_dummy = model_dummy.predict(features_test)\n",
    "\n",
    "smape_dummy = smape(prediction_dummy,target_test)\n"
   ]
  },
  {
   "cell_type": "code",
   "execution_count": 125,
   "metadata": {},
   "outputs": [
    {
     "name": "stdout",
     "output_type": "stream",
     "text": [
      "Оценка модели на тестовой выборке:\n",
      "\"константная модель\":\t 10.134193260239675\n"
     ]
    }
   ],
   "source": [
    "print(\"Оценка модели на тестовой выборке:\")\n",
    "\n",
    "print(\"\\\"константная модель\\\":\\t\", smape_dummy)"
   ]
  },
  {
   "cell_type": "markdown",
   "id": "f2098abe",
   "metadata": {},
   "source": [
    "**Вывод**\n",
    "\n",
    "В проекте был подготовлен прототип модели для предсказать коэффициент восстановления золота из золотосодержащей руды.\n",
    "Для этой задачи было рассмотрено несколько типов моделей - решающее дерево, случайный лес и линейная регрессия. \n",
    "Для каждой модели вычислена оценка кросс-валидацией.\n",
    "Лучшей моделью стала - случайный лес, с результатом на тестовой выборке sMAPE = 9.3.\n",
    "Однако, по сравнению с константной моделью, решающее дерево показывает достаточно небольшое преимущество.\n"
   ]
  }
 ],
 "metadata": {
  "ExecuteTimeLog": [
   {
    "duration": 1488,
    "start_time": "2022-05-27T19:55:20.094Z"
   },
   {
    "duration": 1953,
    "start_time": "2022-05-27T19:55:21.585Z"
   },
   {
    "duration": 18,
    "start_time": "2022-05-27T19:55:23.540Z"
   },
   {
    "duration": 10,
    "start_time": "2022-05-27T19:55:23.560Z"
   },
   {
    "duration": 8,
    "start_time": "2022-05-27T19:55:23.572Z"
   },
   {
    "duration": 8,
    "start_time": "2022-05-27T19:55:23.581Z"
   },
   {
    "duration": 20,
    "start_time": "2022-05-27T19:55:23.590Z"
   },
   {
    "duration": 14,
    "start_time": "2022-05-27T19:55:23.612Z"
   },
   {
    "duration": 22,
    "start_time": "2022-05-27T19:55:23.628Z"
   },
   {
    "duration": 10,
    "start_time": "2022-05-27T19:55:23.653Z"
   },
   {
    "duration": 2,
    "start_time": "2022-05-27T19:55:23.665Z"
   },
   {
    "duration": 8,
    "start_time": "2022-05-27T19:55:23.669Z"
   },
   {
    "duration": 6,
    "start_time": "2022-05-27T19:55:23.679Z"
   },
   {
    "duration": 23,
    "start_time": "2022-05-27T19:55:23.686Z"
   },
   {
    "duration": 4,
    "start_time": "2022-05-27T19:55:23.711Z"
   },
   {
    "duration": 727,
    "start_time": "2022-05-27T19:55:23.718Z"
   },
   {
    "duration": 12,
    "start_time": "2022-05-27T19:55:24.447Z"
   },
   {
    "duration": 6,
    "start_time": "2022-05-27T19:55:24.461Z"
   },
   {
    "duration": 383,
    "start_time": "2022-05-27T19:55:24.469Z"
   },
   {
    "duration": 219,
    "start_time": "2022-05-27T19:55:24.854Z"
   },
   {
    "duration": 14,
    "start_time": "2022-05-27T19:55:25.075Z"
   },
   {
    "duration": 27,
    "start_time": "2022-05-27T19:55:25.102Z"
   },
   {
    "duration": 197,
    "start_time": "2022-05-27T19:55:25.130Z"
   },
   {
    "duration": 5,
    "start_time": "2022-05-27T19:55:25.329Z"
   },
   {
    "duration": 18,
    "start_time": "2022-05-27T19:55:25.335Z"
   },
   {
    "duration": 23,
    "start_time": "2022-05-27T19:55:25.354Z"
   },
   {
    "duration": 8,
    "start_time": "2022-05-27T19:55:25.401Z"
   },
   {
    "duration": 24,
    "start_time": "2022-05-27T19:55:25.412Z"
   },
   {
    "duration": 6,
    "start_time": "2022-05-27T19:55:25.438Z"
   },
   {
    "duration": 8,
    "start_time": "2022-05-27T19:55:25.446Z"
   },
   {
    "duration": 5,
    "start_time": "2022-05-27T19:55:25.456Z"
   },
   {
    "duration": 13,
    "start_time": "2022-05-27T19:55:25.463Z"
   },
   {
    "duration": 3987,
    "start_time": "2022-05-27T19:55:25.477Z"
   },
   {
    "duration": 4,
    "start_time": "2022-05-27T19:55:29.466Z"
   },
   {
    "duration": 85942,
    "start_time": "2022-05-27T19:55:29.473Z"
   },
   {
    "duration": 586,
    "start_time": "2022-05-27T19:56:55.417Z"
   },
   {
    "duration": 6,
    "start_time": "2022-05-27T19:56:56.005Z"
   },
   {
    "duration": 292,
    "start_time": "2022-05-27T19:56:56.012Z"
   },
   {
    "duration": 4,
    "start_time": "2022-05-27T19:56:56.306Z"
   },
   {
    "duration": 1567,
    "start_time": "2022-05-31T06:24:01.550Z"
   }
  ],
  "kernelspec": {
   "display_name": "Python 3 (ipykernel)",
   "language": "python",
   "name": "python3"
  },
  "language_info": {
   "codemirror_mode": {
    "name": "ipython",
    "version": 3
   },
   "file_extension": ".py",
   "mimetype": "text/x-python",
   "name": "python",
   "nbconvert_exporter": "python",
   "pygments_lexer": "ipython3",
   "version": "3.10.7"
  },
  "toc": {
   "base_numbering": 1,
   "nav_menu": {},
   "number_sections": true,
   "sideBar": true,
   "skip_h1_title": true,
   "title_cell": "Содержание",
   "title_sidebar": "Contents",
   "toc_cell": true,
   "toc_position": {
    "height": "calc(100% - 180px)",
    "left": "10px",
    "top": "150px",
    "width": "165px"
   },
   "toc_section_display": true,
   "toc_window_display": true
  }
 },
 "nbformat": 4,
 "nbformat_minor": 2
}
