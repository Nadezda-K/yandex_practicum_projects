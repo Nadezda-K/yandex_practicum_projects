{
 "cells": [
  {
   "cell_type": "markdown",
   "id": "081be37f",
   "metadata": {},
   "source": [
    "# Классификаиция клиентов телеком компании"
   ]
  },
  {
   "cell_type": "markdown",
   "id": "0398eb59",
   "metadata": {},
   "source": [
    "## Содержание\n",
    "1. [Описание проекта](#id_description)\n",
    "2. [Данные](#id_start)\n",
    "3. [Обучение моделей](#id_learning)\n",
    "4. [Выбор модели](#id_choise)\n",
    "5. [Проверка модели на вменяемость](#id_check)\n",
    "6. [Общий вывод](#id_conclusion)"
   ]
  },
  {
   "cell_type": "markdown",
   "id": "250620cb",
   "metadata": {},
   "source": [
    "## Описание проекта\n",
    "<a id=\"id_description\"></a>\n",
    "\n",
    "Оператор мобильной связи «Мегалайн» выяснил: многие клиенты пользуются архивными тарифами. Они хотят построить систему, способную проанализировать поведение клиентов и предложить пользователям новый тариф: «Смарт» или «Ультра».\n",
    "В вашем распоряжении данные о поведении клиентов, которые уже перешли на эти тарифы (из проекта курса «Статистический анализ данных»). Нужно построить модель для задачи классификации, которая выберет подходящий тариф. Предобработка данных не понадобится — вы её уже сделали.\n",
    "\n",
    "Постройте модель с максимально большим значением accuracy. Чтобы сдать проект успешно, нужно довести долю правильных ответов по крайней мере до 0.75. Проверьте accuracy на тестовой выборке самостоятельно.\n",
    "\n",
    "**Цель**\n",
    "\n",
    "Построить модель для задачи классификации, которая выберет подходящий тариф для клиентов\n",
    "\n",
    "**Инструкция по выполнению проекта**\n",
    "\n",
    "   - Откройте файл с данными и изучите его. Путь к файлу: `datasets/users_behavior.csv`.\n",
    "   - Разделите исходные данные на обучающую, валидационную и тестовую выборки.\n",
    "   - Исследуйте качество разных моделей, меняя гиперпараметры. Кратко напишите выводы исследования.\n",
    "   - Проверьте качество модели на тестовой выборке.\n",
    "   - Дополнительное задание: проверьте модели на вменяемость. Ничего страшного, если не получится: эти данные сложнее тех, с которыми вы работали раньше. В следующем курсе подробнее об этом расскажем.\n",
    "\n",
    "**Описание данных**\n",
    "\n",
    "Каждый объект в наборе данных — это информация о поведении одного пользователя за месяц. Известно:\n",
    "\n",
    "    сalls — количество звонков,\n",
    "    minutes — суммарная длительность звонков в минутах,\n",
    "    messages — количество sms-сообщений,\n",
    "    mb_used — израсходованный интернет-трафик в Мб,\n",
    "    is_ultra — каким тарифом пользовался в течение месяца («Ультра» — 1, «Смарт» — 0).\n"
   ]
  },
  {
   "cell_type": "code",
   "execution_count": 1,
   "id": "98087801",
   "metadata": {},
   "outputs": [],
   "source": [
    "# импорт необходимых библиотек\n",
    "import pandas as pd\n",
    "import numpy as np\n",
    "\n",
    "from sklearn.model_selection import train_test_split\n",
    "from sklearn.tree import DecisionTreeClassifier\n",
    "from sklearn.ensemble import RandomForestClassifier\n",
    "from sklearn.linear_model import LogisticRegression\n",
    "from sklearn.dummy import DummyClassifier\n",
    "\n",
    "from sklearn.metrics import accuracy_score"
   ]
  },
  {
   "cell_type": "markdown",
   "id": "102b1e50",
   "metadata": {},
   "source": [
    "## Данные\n",
    "<a id=\"id_start\"></a>"
   ]
  },
  {
   "cell_type": "code",
   "execution_count": 2,
   "id": "ac186628",
   "metadata": {},
   "outputs": [],
   "source": [
    "# загрузка данных\n",
    "try:\n",
    "    data_users = pd.read_csv('data-files/users_behavior.csv')  # Локальный путь\n",
    "except:\n",
    "    data_users = pd.read_csv('/datasets/users_behavior.csv')  # Серверный путь"
   ]
  },
  {
   "cell_type": "code",
   "execution_count": 3,
   "id": "991fe4e6",
   "metadata": {},
   "outputs": [
    {
     "name": "stdout",
     "output_type": "stream",
     "text": [
      "<class 'pandas.core.frame.DataFrame'>\n",
      "RangeIndex: 3214 entries, 0 to 3213\n",
      "Data columns (total 5 columns):\n",
      " #   Column    Non-Null Count  Dtype  \n",
      "---  ------    --------------  -----  \n",
      " 0   calls     3214 non-null   float64\n",
      " 1   minutes   3214 non-null   float64\n",
      " 2   messages  3214 non-null   float64\n",
      " 3   mb_used   3214 non-null   float64\n",
      " 4   is_ultra  3214 non-null   int64  \n",
      "dtypes: float64(4), int64(1)\n",
      "memory usage: 125.7 KB\n"
     ]
    }
   ],
   "source": [
    "data_users.info()"
   ]
  },
  {
   "cell_type": "code",
   "execution_count": 4,
   "id": "dda51910",
   "metadata": {},
   "outputs": [
    {
     "data": {
      "text/html": [
       "<div>\n",
       "<style scoped>\n",
       "    .dataframe tbody tr th:only-of-type {\n",
       "        vertical-align: middle;\n",
       "    }\n",
       "\n",
       "    .dataframe tbody tr th {\n",
       "        vertical-align: top;\n",
       "    }\n",
       "\n",
       "    .dataframe thead th {\n",
       "        text-align: right;\n",
       "    }\n",
       "</style>\n",
       "<table border=\"1\" class=\"dataframe\">\n",
       "  <thead>\n",
       "    <tr style=\"text-align: right;\">\n",
       "      <th></th>\n",
       "      <th>calls</th>\n",
       "      <th>minutes</th>\n",
       "      <th>messages</th>\n",
       "      <th>mb_used</th>\n",
       "      <th>is_ultra</th>\n",
       "    </tr>\n",
       "  </thead>\n",
       "  <tbody>\n",
       "    <tr>\n",
       "      <th>0</th>\n",
       "      <td>40.0</td>\n",
       "      <td>311.90</td>\n",
       "      <td>83.0</td>\n",
       "      <td>19915.42</td>\n",
       "      <td>0</td>\n",
       "    </tr>\n",
       "    <tr>\n",
       "      <th>1</th>\n",
       "      <td>85.0</td>\n",
       "      <td>516.75</td>\n",
       "      <td>56.0</td>\n",
       "      <td>22696.96</td>\n",
       "      <td>0</td>\n",
       "    </tr>\n",
       "    <tr>\n",
       "      <th>2</th>\n",
       "      <td>77.0</td>\n",
       "      <td>467.66</td>\n",
       "      <td>86.0</td>\n",
       "      <td>21060.45</td>\n",
       "      <td>0</td>\n",
       "    </tr>\n",
       "    <tr>\n",
       "      <th>3</th>\n",
       "      <td>106.0</td>\n",
       "      <td>745.53</td>\n",
       "      <td>81.0</td>\n",
       "      <td>8437.39</td>\n",
       "      <td>1</td>\n",
       "    </tr>\n",
       "    <tr>\n",
       "      <th>4</th>\n",
       "      <td>66.0</td>\n",
       "      <td>418.74</td>\n",
       "      <td>1.0</td>\n",
       "      <td>14502.75</td>\n",
       "      <td>0</td>\n",
       "    </tr>\n",
       "  </tbody>\n",
       "</table>\n",
       "</div>"
      ],
      "text/plain": [
       "   calls  minutes  messages   mb_used  is_ultra\n",
       "0   40.0   311.90      83.0  19915.42         0\n",
       "1   85.0   516.75      56.0  22696.96         0\n",
       "2   77.0   467.66      86.0  21060.45         0\n",
       "3  106.0   745.53      81.0   8437.39         1\n",
       "4   66.0   418.74       1.0  14502.75         0"
      ]
     },
     "execution_count": 4,
     "metadata": {},
     "output_type": "execute_result"
    }
   ],
   "source": [
    "data_users.head()"
   ]
  },
  {
   "cell_type": "markdown",
   "id": "4d2fba6d",
   "metadata": {},
   "source": [
    "### Вывод\n",
    "\n",
    "Имеется набор данных о клиенте компании «Мегалайн». \n",
    "В данных есть информация о поведении одного пользователя за месяц:\n",
    "количесво звонков и их суммарная длительность, количество сообщений, израсходованный интернет-трафик, и тариф, которым пользовался клиент («Ультра» или «Смарт»).\n",
    "\n",
    "Данные уже подготовлены для дальнейшей работы и не требуют предобработки."
   ]
  },
  {
   "cell_type": "markdown",
   "id": "8d6d25f6",
   "metadata": {},
   "source": [
    "## Обучение моделей\n",
    "<a id=\"id_learning\"></a>\n",
    "\n",
    "Разобьем исходные данные на обучающую, валидационную и тестовую выборки в пропорции 3:1:1."
   ]
  },
  {
   "cell_type": "code",
   "execution_count": 5,
   "id": "7308a84d",
   "metadata": {},
   "outputs": [],
   "source": [
    "# выделим тестовую выборку\n",
    "df_train, df_test = train_test_split(data_users, test_size=0.2, random_state=12345)\n",
    "\n",
    "features_test = df_test.drop(['is_ultra'], axis=1)\n",
    "target_test = df_test['is_ultra']\n",
    "\n",
    "# выделим обучающую и валидационную выборки\n",
    "df_train, df_valid = train_test_split(df_train, test_size=0.25, random_state=12345)\n",
    "\n",
    "features_train = df_train.drop(['is_ultra'], axis=1)\n",
    "target_train = df_train['is_ultra']\n",
    "features_valid = df_valid.drop(['is_ultra'], axis=1)\n",
    "target_valid = df_valid['is_ultra']"
   ]
  },
  {
   "cell_type": "code",
   "execution_count": 6,
   "id": "c1d981b6",
   "metadata": {
    "scrolled": true
   },
   "outputs": [
    {
     "name": "stdout",
     "output_type": "stream",
     "text": [
      "Размер тестовой выборки:\n",
      "features_test: (643, 4)\n",
      "target_test: (643,)\n",
      "\n",
      "Размер валидационной выборки:\n",
      "features_valid: (643, 4)\n",
      "target_valid: (643,)\n",
      "\n",
      "Размер обучающей выборки:\n",
      "features_train: (1928, 4)\n",
      "target_train: (1928,)\n"
     ]
    }
   ],
   "source": [
    "# Проверка на соответсвие размеров выборок\n",
    "print('Размер тестовой выборки:')\n",
    "print('features_test:',features_test.shape)\n",
    "print('target_test:',target_test.shape)\n",
    "\n",
    "print()\n",
    "print('Размер валидационной выборки:')\n",
    "print('features_valid:',features_valid.shape)\n",
    "print('target_valid:',target_valid.shape)\n",
    "\n",
    "print()\n",
    "print('Размер обучающей выборки:')\n",
    "print('features_train:',features_train.shape)\n",
    "print('target_train:',target_train.shape)"
   ]
  },
  {
   "cell_type": "markdown",
   "id": "2b7dcd2c",
   "metadata": {},
   "source": [
    "Выберем лучшие параметры для моделей типа \"дерево решений\" и \"случайный лес\". А также сравним accuracy для моделей \"логическая регрессия\", \"дерево решений\" и \"случайный лес\" при лучших параметрах."
   ]
  },
  {
   "cell_type": "code",
   "execution_count": 7,
   "id": "00f98f17",
   "metadata": {},
   "outputs": [
    {
     "name": "stdout",
     "output_type": "stream",
     "text": [
      "max_depth = 1 \taccuracy train set = 0.758298755186722 \taccuracy valid set = 0.7387247278382582\n",
      "max_depth = 2 \taccuracy train set = 0.79201244813278 \taccuracy valid set = 0.7573872472783826\n",
      "max_depth = 3 \taccuracy train set = 0.8117219917012448 \taccuracy valid set = 0.7651632970451011\n",
      "max_depth = 4 \taccuracy train set = 0.8205394190871369 \taccuracy valid set = 0.7636080870917574\n",
      "max_depth = 5 \taccuracy train set = 0.8272821576763485 \taccuracy valid set = 0.7589424572317263\n"
     ]
    }
   ],
   "source": [
    "# DecisionTreeClassifier\n",
    "best_model_tree = None\n",
    "best_result_tree = 0\n",
    "best_depth_tree = 0\n",
    "for depth in range(1, 6):\n",
    "    model_tree = DecisionTreeClassifier(random_state=12345, max_depth=depth)\n",
    "    model_tree.fit(features_train,target_train)\n",
    "    predictions_tree = model_tree.predict(features_valid)\n",
    "    result_tree = accuracy_score(target_valid, predictions_tree)\n",
    "    print('max_depth =',depth,\n",
    "          '\\taccuracy train set =', accuracy_score(target_train, model_tree.predict(features_train)),\n",
    "          '\\taccuracy valid set =', accuracy_score(target_valid, predictions_tree))\n",
    "    if result_tree > best_result_tree:\n",
    "        best_model_tree = model_tree\n",
    "        best_result_tree = result_tree\n",
    "        best_depth_tree = depth"
   ]
  },
  {
   "cell_type": "code",
   "execution_count": 8,
   "id": "03877a45",
   "metadata": {},
   "outputs": [],
   "source": [
    "# RandomForestClassifier\n",
    "best_model_forest = None\n",
    "best_result_forest = 0\n",
    "best_est_forest = 0\n",
    "best_depth_forest = 0\n",
    "for est in range(1, 11):\n",
    "#    print('n_estimators =',est)\n",
    "    for depth in range (1, 11):\n",
    "        model_forest = RandomForestClassifier(random_state=12345, n_estimators=est,max_depth=depth)\n",
    "        model_forest.fit(features_train,target_train)\n",
    "        predictions_forest = model_forest.predict(features_valid)\n",
    "        result_forest = accuracy_score(target_valid, predictions_forest)\n",
    "#        print('max_depth =',depth,\n",
    "#          '\\taccuracy train set =', accuracy_score(target_train, model_forest.predict(features_train)),\n",
    "#          '\\taccuracy valid set =', accuracy_score(target_valid, predictions_forest))\n",
    "        if result_forest > best_result_forest:\n",
    "            best_model_forest = model_forest\n",
    "            best_result_forest = result_forest\n",
    "            best_est_forest = est\n",
    "            best_depth_forest = depth"
   ]
  },
  {
   "cell_type": "code",
   "execution_count": 9,
   "id": "c01fdb14",
   "metadata": {},
   "outputs": [],
   "source": [
    "# LogisticRegression\n",
    "model_log = LogisticRegression(random_state=12345)\n",
    "model_log.fit(features_train,target_train)\n",
    "predictions_log = model_log.predict(features_valid)\n",
    "result_log = accuracy_score(target_valid, predictions_log)"
   ]
  },
  {
   "cell_type": "code",
   "execution_count": 10,
   "id": "f87f2447",
   "metadata": {},
   "outputs": [
    {
     "name": "stdout",
     "output_type": "stream",
     "text": [
      "Accuracy моделей на валидационной выборке:\n",
      "\"дерево решений\":\t 0.7651632970451011 Глубина дерева:\t 3\n",
      "\"случайный лес\":\t 0.7962674961119751 Количество деревьев: 3 Максимальная глубина:\t 9\n",
      "\"логическая регрессия\":\t 0.7262830482115086\n"
     ]
    }
   ],
   "source": [
    "print(\"Accuracy моделей на валидационной выборке:\")\n",
    "print(\"\\\"дерево решений\\\":\\t\", best_result_tree, \"Глубина дерева:\\t\", best_depth_tree)\n",
    "print(\"\\\"случайный лес\\\":\\t\", best_result_forest, \n",
    "      \"Количество деревьев:\", best_est_forest, \"Максимальная глубина:\\t\", best_depth_forest)\n",
    "print(\"\\\"логическая регрессия\\\":\\t\", result_log)"
   ]
  },
  {
   "cell_type": "markdown",
   "id": "6c049012",
   "metadata": {},
   "source": [
    "## Тестирование модели\n",
    "<a id=\"id_choise\"></a>"
   ]
  },
  {
   "cell_type": "markdown",
   "id": "6f65df7d",
   "metadata": {},
   "source": [
    "Наибольшее accuracy для валидационной выборки получилось у модели \"случайного леса\" с гиперпараметрами `количество деревьев` = 3, `максимальная глубина` = 9.\n",
    "Применим ее для тестовой выборки"
   ]
  },
  {
   "cell_type": "code",
   "execution_count": 11,
   "id": "52380242",
   "metadata": {},
   "outputs": [
    {
     "name": "stdout",
     "output_type": "stream",
     "text": [
      "Accuracy случайного леса на тестовой выборке: 0.7931570762052877\n"
     ]
    }
   ],
   "source": [
    "model_forest = RandomForestClassifier(random_state=12345, n_estimators=best_est_forest,max_depth=best_depth_forest)\n",
    "model_forest.fit(features_train,target_train)\n",
    "predictions_forest = model_forest.predict(features_test)\n",
    "result_forest = accuracy_score(target_test, predictions_forest)\n",
    "print(\"Accuracy случайного леса на тестовой выборке:\", result_forest)"
   ]
  },
  {
   "cell_type": "markdown",
   "id": "2cff6e4e",
   "metadata": {},
   "source": [
    "## Проверка модели на вменяемость\n",
    "<a id=\"id_check\"></a>"
   ]
  },
  {
   "cell_type": "markdown",
   "id": "6ddb34d4",
   "metadata": {},
   "source": [
    "Проверку модели на вменяемтость проведем путем сравнения выбранной модели с dummy-классификатором. \n",
    "Dummy-классификатор используется как basesline, по сравнению с которой другие модели должны давать лучший результат.\n",
    "В dummy классификатор будем использовать с гиперпараметром `strategy`='most_frequent'."
   ]
  },
  {
   "cell_type": "code",
   "execution_count": 12,
   "id": "fc5ee212",
   "metadata": {},
   "outputs": [
    {
     "name": "stdout",
     "output_type": "stream",
     "text": [
      "Accuracy dummy-классификатора на тестовой выборке: 0.6951788491446346\n"
     ]
    }
   ],
   "source": [
    "dummy_clf = DummyClassifier(strategy='most_frequent',random_state=12345)\n",
    "dummy_clf.fit(features_train,target_train)\n",
    "predictions_dummy = dummy_clf.predict(features_test)\n",
    "result_dummy = accuracy_score(target_test, predictions_dummy)\n",
    "print(\"Accuracy dummy-классификатора на тестовой выборке:\", result_dummy)"
   ]
  },
  {
   "cell_type": "markdown",
   "id": "fd3f8fae",
   "metadata": {},
   "source": [
    "## Общий вывод\n",
    "<a id=\"id_conclusion\"></a>"
   ]
  },
  {
   "cell_type": "markdown",
   "id": "1249c195",
   "metadata": {},
   "source": [
    "В работе были исследовали \"логическая регрессия\", \"дерево решений\" и \"случайный лес\"\n",
    "\n",
    "\n",
    "Наилучшую эффективность показала модель \"случайный лес\" с гиперпараметрами с гиперпараметрами `количество деревьев` = 3, `максимальная глубина` = 9.\n",
    "\n",
    "Модель \"случайный лес\" с наилучшими гиперапараметрами была проверена на тестовой выборке и показала результат Accuracy = 0.793.\n",
    "\n",
    "Также модель была проверена на вменяемость.\n",
    "Accuracy dummy-классификатора = 0.695.\n",
    "Выбранная модель обладает большей предсказатьельной точностью."
   ]
  },
  {
   "cell_type": "code",
   "execution_count": null,
   "id": "344e013b",
   "metadata": {},
   "outputs": [],
   "source": []
  }
 ],
 "metadata": {
  "kernelspec": {
   "display_name": "Python 3 (ipykernel)",
   "language": "python",
   "name": "python3"
  },
  "language_info": {
   "codemirror_mode": {
    "name": "ipython",
    "version": 3
   },
   "file_extension": ".py",
   "mimetype": "text/x-python",
   "name": "python",
   "nbconvert_exporter": "python",
   "pygments_lexer": "ipython3",
   "version": "3.10.7"
  }
 },
 "nbformat": 4,
 "nbformat_minor": 5
}
